{
 "cells": [
  {
   "cell_type": "markdown",
   "id": "70fd1309",
   "metadata": {},
   "source": [
    "Ufuk Altun"
   ]
  },
  {
   "cell_type": "markdown",
   "id": "9adae3e8",
   "metadata": {},
   "source": [
    "using Pkg; pkg\"add CUDA Knet IterTools FileIO JLD2 Images Plots PyCall\""
   ]
  },
  {
   "cell_type": "code",
   "execution_count": 47,
   "id": "1345dd52",
   "metadata": {},
   "outputs": [],
   "source": [
    "using PyCall\n",
    "@pyimport torch"
   ]
  },
  {
   "cell_type": "code",
   "execution_count": 48,
   "id": "1b1c2919",
   "metadata": {},
   "outputs": [],
   "source": [
    "include(\"models.jl\");\n",
    "include(\"training.jl\");"
   ]
  },
  {
   "cell_type": "markdown",
   "id": "6127b255",
   "metadata": {},
   "source": [
    "#### Generate an alexnet model"
   ]
  },
  {
   "cell_type": "code",
   "execution_count": 49,
   "id": "4454bad2",
   "metadata": {},
   "outputs": [],
   "source": [
    "model = generate_alexnet_model(; pretrained = true);"
   ]
  },
  {
   "cell_type": "markdown",
   "id": "e952ad86",
   "metadata": {},
   "source": [
    "#### Set optimizers of each parameter to Adam. Parameter sizes should be:\n",
    "##### Original Alexnet\n",
    "- (11, 11, 3, 64)\n",
    "- (1, 1, 64, 1)\n",
    "- (5, 5, 64, 192)\n",
    "- (1, 1, 192, 1)\n",
    "- (3, 3, 192, 384)\n",
    "- (1, 1, 384, 1)\n",
    "- (3, 3, 384, 256)\n",
    "- (1, 1, 256, 1)\n",
    "- (3, 3, 256, 256)\n",
    "- (1, 1, 256, 1)\n",
    "- (4096, 9216)\n",
    "- (4096,)\n",
    "- (4096, 4096)\n",
    "- (4096,)\n",
    "- (7, 4096)\n",
    "- (7,)"
   ]
  },
  {
   "cell_type": "code",
   "execution_count": 50,
   "id": "065ef923",
   "metadata": {},
   "outputs": [
    {
     "name": "stdout",
     "output_type": "stream",
     "text": [
      "(11, 11, 3, 64)\n",
      "(1, 1, 64, 1)\n",
      "(5, 5, 64, 192)\n",
      "(1, 1, 192, 1)\n",
      "(3, 3, 192, 384)\n",
      "(1, 1, 384, 1)\n",
      "(3, 3, 384, 256)\n",
      "(1, 1, 256, 1)\n",
      "(3, 3, 256, 256)\n",
      "(1, 1, 256, 1)\n",
      "(4096, 9216)\n",
      "(4096,)\n",
      "(4096, 4096)\n",
      "(4096,)\n",
      "(7, 4096)\n",
      "(7,)\n"
     ]
    }
   ],
   "source": [
    "for param in params(model)\n",
    "    param.opt = Adam(; lr=1e-5)\n",
    "    println(size(param))\n",
    "end"
   ]
  },
  {
   "cell_type": "markdown",
   "id": "80d439ef",
   "metadata": {},
   "source": [
    "#### Define batchsize, model path and target domain  "
   ]
  },
  {
   "cell_type": "code",
   "execution_count": 52,
   "id": "2953cd8b",
   "metadata": {},
   "outputs": [],
   "source": [
    "num_iter=1000\n",
    "check_freq=20\n",
    "batchsize = 128\n",
    "atype = Array{Float32}\n",
    "data_path = \"/Users/ufukaltun/Documents/koç/dersler/ku deep learning/project\";"
   ]
  },
  {
   "cell_type": "markdown",
   "id": "ce1e8d8b",
   "metadata": {},
   "source": [
    "#### Preprocess data, generate minibatches for each modain and generate a baseline minibach which contains three known domains"
   ]
  },
  {
   "cell_type": "code",
   "execution_count": 53,
   "id": "eaee9bd3",
   "metadata": {},
   "outputs": [
    {
     "name": "stdout",
     "output_type": "stream",
     "text": [
      "Datasets are loaded\n"
     ]
    },
    {
     "name": "stderr",
     "output_type": "stream",
     "text": [
      "\r",
      "[1, 00:00, 2.42i/s] "
     ]
    },
    {
     "name": "stdout",
     "output_type": "stream",
     "text": [
      "First batch is trained successfully\n"
     ]
    },
    {
     "name": "stderr",
     "output_type": "stream",
     "text": [
      "[20, 11:47, 35.79s/i] "
     ]
    },
    {
     "name": "stdout",
     "output_type": "stream",
     "text": [
      "Train loss: 1.6811548  Val loss: 1.6547217  Train acc: 0.3297275641025641  Val acc: 0.3411458333333333\n"
     ]
    },
    {
     "name": "stderr",
     "output_type": "stream",
     "text": [
      "[40, 29:01, 36.03s/i]  "
     ]
    },
    {
     "name": "stdout",
     "output_type": "stream",
     "text": [
      "Train loss: 1.372548  Val loss: 1.372881  Train acc: 0.4823717948717949  Val acc: 0.484375\n"
     ]
    },
    {
     "name": "stderr",
     "output_type": "stream",
     "text": [
      "[60, 46:24, 36.47s/i]  "
     ]
    },
    {
     "name": "stdout",
     "output_type": "stream",
     "text": [
      "Train loss: 1.166081  Val loss: 1.1536483  Train acc: 0.5731169871794872  Val acc: 0.5755208333333334\n"
     ]
    },
    {
     "name": "stderr",
     "output_type": "stream",
     "text": [
      "[80, 01:03:34, 36.67s/i] "
     ]
    },
    {
     "name": "stdout",
     "output_type": "stream",
     "text": [
      "Train loss: 1.0069515  Val loss: 1.038829  Train acc: 0.6360176282051282  Val acc: 0.6067708333333334\n"
     ]
    },
    {
     "name": "stderr",
     "output_type": "stream",
     "text": [
      "[100, 01:20:49, 36.36s/i] "
     ]
    },
    {
     "name": "stdout",
     "output_type": "stream",
     "text": [
      "Train loss: 0.8867362  Val loss: 0.9458806  Train acc: 0.6887019230769231  Val acc: 0.671875\n"
     ]
    },
    {
     "name": "stderr",
     "output_type": "stream",
     "text": [
      "[120, 01:38:05, 35.82s/i]  "
     ]
    },
    {
     "name": "stdout",
     "output_type": "stream",
     "text": [
      "Train loss: 0.7799274  Val loss: 0.9068277  Train acc: 0.7247596153846154  Val acc: 0.734375\n"
     ]
    },
    {
     "name": "stderr",
     "output_type": "stream",
     "text": [
      "[140, 01:55:11, 37.76s/i]  "
     ]
    },
    {
     "name": "stdout",
     "output_type": "stream",
     "text": [
      "Train loss: 0.68930614  Val loss: 0.7208038  Train acc: 0.7512019230769231  Val acc: 0.7161458333333334\n"
     ]
    },
    {
     "name": "stderr",
     "output_type": "stream",
     "text": [
      "[160, 02:12:25, 36.27s/i]  "
     ]
    },
    {
     "name": "stdout",
     "output_type": "stream",
     "text": [
      "Train loss: 0.6248631  Val loss: 0.7452648  Train acc: 0.7788461538461539  Val acc: 0.7473958333333334\n"
     ]
    },
    {
     "name": "stderr",
     "output_type": "stream",
     "text": [
      "[180, 02:29:40, 36.45s/i]  "
     ]
    },
    {
     "name": "stdout",
     "output_type": "stream",
     "text": [
      "Train loss: 0.5740669  Val loss: 0.75275284  Train acc: 0.7972756410256411  Val acc: 0.7682291666666666\n"
     ]
    },
    {
     "name": "stderr",
     "output_type": "stream",
     "text": [
      "[200, 02:46:55, 35.11s/i]  "
     ]
    },
    {
     "name": "stdout",
     "output_type": "stream",
     "text": [
      "Train loss: 0.5333836  Val loss: 0.6962369  Train acc: 0.811698717948718  Val acc: 0.7734375\n"
     ]
    },
    {
     "name": "stderr",
     "output_type": "stream",
     "text": [
      "[221, 03:09:43, 338.78s/i] "
     ]
    },
    {
     "name": "stdout",
     "output_type": "stream",
     "text": [
      "Train loss: 0.47862273  Val loss: 0.6429613  Train acc: 0.828125  Val acc: 0.7421875\n"
     ]
    },
    {
     "name": "stderr",
     "output_type": "stream",
     "text": [
      "[240, 03:21:17, 38.60s/i] "
     ]
    },
    {
     "name": "stdout",
     "output_type": "stream",
     "text": [
      "Train loss: 0.44071653  Val loss: 0.5766459  Train acc: 0.8441506410256411  Val acc: 0.7864583333333334\n"
     ]
    },
    {
     "name": "stderr",
     "output_type": "stream",
     "text": [
      "[260, 03:38:34, 36.76s/i]  "
     ]
    },
    {
     "name": "stdout",
     "output_type": "stream",
     "text": [
      "Train loss: 0.40158015  Val loss: 0.56761557  Train acc: 0.8597756410256411  Val acc: 0.7994791666666666\n"
     ]
    },
    {
     "name": "stderr",
     "output_type": "stream",
     "text": [
      "[280, 03:55:55, 37.03s/i]  "
     ]
    },
    {
     "name": "stdout",
     "output_type": "stream",
     "text": [
      "Train loss: 0.3664578  Val loss: 0.5515788  Train acc: 0.8747996794871795  Val acc: 0.8098958333333334\n"
     ]
    },
    {
     "name": "stderr",
     "output_type": "stream",
     "text": [
      "[300, 04:13:13, 36.97s/i]  "
     ]
    },
    {
     "name": "stdout",
     "output_type": "stream",
     "text": [
      "Train loss: 0.33514684  Val loss: 0.51838976  Train acc: 0.8850160256410257  Val acc: 0.7708333333333334\n"
     ]
    },
    {
     "name": "stderr",
     "output_type": "stream",
     "text": [
      "[320, 04:30:18, 37.33s/i]  "
     ]
    },
    {
     "name": "stdout",
     "output_type": "stream",
     "text": [
      "Train loss: 0.3060014  Val loss: 0.51100296  Train acc: 0.8974358974358975  Val acc: 0.7890625\n"
     ]
    },
    {
     "name": "stderr",
     "output_type": "stream",
     "text": [
      "[340, 04:47:41, 36.14s/i]  "
     ]
    },
    {
     "name": "stdout",
     "output_type": "stream",
     "text": [
      "Train loss: 0.29059225  Val loss: 0.5329103  Train acc: 0.9040464743589743  Val acc: 0.8151041666666666\n"
     ]
    },
    {
     "name": "stderr",
     "output_type": "stream",
     "text": [
      "[360, 09:53:28, 42.28s/i] ] "
     ]
    },
    {
     "name": "stdout",
     "output_type": "stream",
     "text": [
      "Train loss: 0.25967655  Val loss: 0.47947145  Train acc: 0.9160657051282052  Val acc: 0.8463541666666666\n"
     ]
    },
    {
     "name": "stderr",
     "output_type": "stream",
     "text": [
      "[380, 10:11:26, 37.04s/i]  "
     ]
    },
    {
     "name": "stdout",
     "output_type": "stream",
     "text": [
      "Train loss: 0.24304326  Val loss: 0.5128648  Train acc: 0.9244791666666666  Val acc: 0.8359375\n"
     ]
    },
    {
     "name": "stderr",
     "output_type": "stream",
     "text": [
      "[400, 10:29:50, 38.63s/i]  "
     ]
    },
    {
     "name": "stdout",
     "output_type": "stream",
     "text": [
      "Train loss: 0.22227326  Val loss: 0.44964734  Train acc: 0.9280849358974359  Val acc: 0.8229166666666666\n"
     ]
    },
    {
     "name": "stderr",
     "output_type": "stream",
     "text": [
      "[420, 10:47:27, 37.04s/i]  "
     ]
    },
    {
     "name": "stdout",
     "output_type": "stream",
     "text": [
      "Train loss: 0.20461816  Val loss: 0.45532927  Train acc: 0.9401041666666666  Val acc: 0.8255208333333334\n"
     ]
    },
    {
     "name": "stderr",
     "output_type": "stream",
     "text": [
      "[440, 11:05:47, 39.12s/i]  "
     ]
    },
    {
     "name": "stdout",
     "output_type": "stream",
     "text": [
      "Train loss: 0.18647674  Val loss: 0.4961743  Train acc: 0.9449118589743589  Val acc: 0.8333333333333334\n"
     ]
    },
    {
     "name": "stderr",
     "output_type": "stream",
     "text": [
      "[460, 11:23:34, 37.74s/i]  "
     ]
    },
    {
     "name": "stdout",
     "output_type": "stream",
     "text": [
      "Train loss: 0.17239188  Val loss: 0.46746156  Train acc: 0.9503205128205128  Val acc: 0.8385416666666666\n"
     ]
    },
    {
     "name": "stderr",
     "output_type": "stream",
     "text": [
      "[480, 11:41:19, 37.94s/i]  "
     ]
    },
    {
     "name": "stdout",
     "output_type": "stream",
     "text": [
      "Train loss: 0.15488315  Val loss: 0.4578023  Train acc: 0.9565304487179487  Val acc: 0.8463541666666666\n"
     ]
    },
    {
     "name": "stderr",
     "output_type": "stream",
     "text": [
      "[500, 11:58:56, 37.33s/i]  "
     ]
    },
    {
     "name": "stdout",
     "output_type": "stream",
     "text": [
      "Train loss: 0.14303333  Val loss: 0.4876976  Train acc: 0.9615384615384616  Val acc: 0.8541666666666666\n"
     ]
    },
    {
     "name": "stderr",
     "output_type": "stream",
     "text": [
      "[520, 12:17:18, 36.80s/i]  "
     ]
    },
    {
     "name": "stdout",
     "output_type": "stream",
     "text": [
      "Train loss: 0.13037583  Val loss: 0.39757946  Train acc: 0.9627403846153846  Val acc: 0.8333333333333334\n"
     ]
    },
    {
     "name": "stderr",
     "output_type": "stream",
     "text": [
      "[540, 12:35:01, 37.15s/i]  "
     ]
    },
    {
     "name": "stdout",
     "output_type": "stream",
     "text": [
      "Train loss: 0.11671192  Val loss: 0.40960583  Train acc: 0.969551282051282  Val acc: 0.84375\n"
     ]
    },
    {
     "name": "stderr",
     "output_type": "stream",
     "text": [
      "[560, 12:52:45, 37.76s/i]  "
     ]
    },
    {
     "name": "stdout",
     "output_type": "stream",
     "text": [
      "Train loss: 0.106083736  Val loss: 0.52848154  Train acc: 0.9733573717948718  Val acc: 0.8567708333333334\n"
     ]
    },
    {
     "name": "stderr",
     "output_type": "stream",
     "text": [
      "[580, 13:10:27, 36.33s/i]  "
     ]
    },
    {
     "name": "stdout",
     "output_type": "stream",
     "text": [
      "Train loss: 0.09928881  Val loss: 0.42786798  Train acc: 0.9765625  Val acc: 0.8411458333333334\n"
     ]
    },
    {
     "name": "stderr",
     "output_type": "stream",
     "text": [
      "[600, 13:27:57, 38.30s/i]  "
     ]
    },
    {
     "name": "stdout",
     "output_type": "stream",
     "text": [
      "Train loss: 0.09138319  Val loss: 0.46996343  Train acc: 0.9791666666666666  Val acc: 0.8671875\n"
     ]
    },
    {
     "name": "stderr",
     "output_type": "stream",
     "text": [
      "[620, 13:45:41, 39.25s/i]  "
     ]
    },
    {
     "name": "stdout",
     "output_type": "stream",
     "text": [
      "Train loss: 0.081010856  Val loss: 0.44564167  Train acc: 0.983573717948718  Val acc: 0.8619791666666666\n"
     ]
    },
    {
     "name": "stderr",
     "output_type": "stream",
     "text": [
      "[640, 14:03:03, 38.50s/i]  "
     ]
    },
    {
     "name": "stdout",
     "output_type": "stream",
     "text": [
      "Train loss: 0.07600398  Val loss: 0.45043948  Train acc: 0.9827724358974359  Val acc: 0.8645833333333334\n"
     ]
    },
    {
     "name": "stderr",
     "output_type": "stream",
     "text": [
      "[660, 15:39:35, 36.48s/i] ] "
     ]
    },
    {
     "name": "stdout",
     "output_type": "stream",
     "text": [
      "Train loss: 0.070385955  Val loss: 0.36867526  Train acc: 0.985176282051282  Val acc: 0.8723958333333334\n"
     ]
    },
    {
     "name": "stderr",
     "output_type": "stream",
     "text": [
      "[680, 15:57:19, 39.09s/i]  "
     ]
    },
    {
     "name": "stdout",
     "output_type": "stream",
     "text": [
      "Train loss: 0.06631861  Val loss: 0.4810256  Train acc: 0.9871794871794872  Val acc: 0.8567708333333334\n"
     ]
    },
    {
     "name": "stderr",
     "output_type": "stream",
     "text": [
      "[700, 16:14:56, 38.37s/i]  "
     ]
    },
    {
     "name": "stdout",
     "output_type": "stream",
     "text": [
      "Train loss: 0.05641973  Val loss: 0.4754391  Train acc: 0.9901842948717948  Val acc: 0.8645833333333334\n"
     ]
    },
    {
     "name": "stderr",
     "output_type": "stream",
     "text": [
      "[720, 16:32:44, 36.85s/i]  "
     ]
    },
    {
     "name": "stdout",
     "output_type": "stream",
     "text": [
      "Train loss: 0.052626066  Val loss: 0.39172933  Train acc: 0.9905849358974359  Val acc: 0.8619791666666666\n"
     ]
    },
    {
     "name": "stderr",
     "output_type": "stream",
     "text": [
      "[740, 16:50:12, 37.57s/i]  "
     ]
    },
    {
     "name": "stdout",
     "output_type": "stream",
     "text": [
      "Train loss: 0.048828896  Val loss: 0.4792454  Train acc: 0.9917868589743589  Val acc: 0.8463541666666666\n"
     ]
    },
    {
     "name": "stderr",
     "output_type": "stream",
     "text": [
      "[760, 17:07:38, 36.73s/i]  "
     ]
    },
    {
     "name": "stdout",
     "output_type": "stream",
     "text": [
      "Train loss: 0.044482186  Val loss: 0.4528214  Train acc: 0.9927884615384616  Val acc: 0.8645833333333334\n"
     ]
    },
    {
     "name": "stderr",
     "output_type": "stream",
     "text": [
      "[780, 17:25:07, 38.40s/i]  "
     ]
    },
    {
     "name": "stdout",
     "output_type": "stream",
     "text": [
      "Train loss: 0.040264282  Val loss: 0.44348648  Train acc: 0.9933894230769231  Val acc: 0.8619791666666666\n"
     ]
    },
    {
     "name": "stderr",
     "output_type": "stream",
     "text": [
      "[800, 17:42:37, 36.54s/i]  "
     ]
    },
    {
     "name": "stdout",
     "output_type": "stream",
     "text": [
      "Train loss: 0.03707322  Val loss: 0.37398806  Train acc: 0.9959935897435898  Val acc: 0.8333333333333334\n"
     ]
    },
    {
     "name": "stderr",
     "output_type": "stream",
     "text": [
      "[820, 17:59:53, 36.59s/i]  "
     ]
    },
    {
     "name": "stdout",
     "output_type": "stream",
     "text": [
      "Train loss: 0.032466263  Val loss: 0.376811  Train acc: 0.9969951923076923  Val acc: 0.875\n"
     ]
    },
    {
     "name": "stderr",
     "output_type": "stream",
     "text": [
      "[840, 18:17:17, 36.45s/i]  "
     ]
    },
    {
     "name": "stdout",
     "output_type": "stream",
     "text": [
      "Train loss: 0.029204302  Val loss: 0.49921915  Train acc: 0.9985977564102564  Val acc: 0.875\n"
     ]
    },
    {
     "name": "stderr",
     "output_type": "stream",
     "text": [
      "[860, 18:34:20, 35.72s/i]  "
     ]
    },
    {
     "name": "stdout",
     "output_type": "stream",
     "text": [
      "Train loss: 0.02741877  Val loss: 0.37838218  Train acc: 0.9975961538461539  Val acc: 0.8671875\n"
     ]
    },
    {
     "name": "stderr",
     "output_type": "stream",
     "text": [
      "[880, 18:51:39, 38.07s/i]  "
     ]
    },
    {
     "name": "stdout",
     "output_type": "stream",
     "text": [
      "Train loss: 0.025987566  Val loss: 0.40988263  Train acc: 0.9981971153846154  Val acc: 0.875\n"
     ]
    },
    {
     "name": "stderr",
     "output_type": "stream",
     "text": [
      "[900, 19:08:54, 35.80s/i]  "
     ]
    },
    {
     "name": "stdout",
     "output_type": "stream",
     "text": [
      "Train loss: 0.02434696  Val loss: 0.37340698  Train acc: 0.9989983974358975  Val acc: 0.8828125\n"
     ]
    },
    {
     "name": "stderr",
     "output_type": "stream",
     "text": [
      "[920, 19:26:22, 37.44s/i]  "
     ]
    },
    {
     "name": "stdout",
     "output_type": "stream",
     "text": [
      "Train loss: 0.023206363  Val loss: 0.48030496  Train acc: 0.9979967948717948  Val acc: 0.875\n"
     ]
    },
    {
     "name": "stderr",
     "output_type": "stream",
     "text": [
      "[940, 19:43:34, 46.17s/i]  "
     ]
    },
    {
     "name": "stdout",
     "output_type": "stream",
     "text": [
      "Train loss: 0.019732306  Val loss: 0.49660614  Train acc: 0.9993990384615384  Val acc: 0.8489583333333334\n"
     ]
    },
    {
     "name": "stderr",
     "output_type": "stream",
     "text": [
      "[960, 20:01:28, 37.58s/i]  "
     ]
    },
    {
     "name": "stdout",
     "output_type": "stream",
     "text": [
      "Train loss: 0.018043634  Val loss: 0.45485702  Train acc: 0.9985977564102564  Val acc: 0.8671875\n"
     ]
    },
    {
     "name": "stderr",
     "output_type": "stream",
     "text": [
      "[980, 20:19:11, 38.16s/i]  "
     ]
    },
    {
     "name": "stdout",
     "output_type": "stream",
     "text": [
      "Train loss: 0.016777111  Val loss: 0.43449572  Train acc: 0.9995993589743589  Val acc: 0.8567708333333334\n"
     ]
    },
    {
     "name": "stderr",
     "output_type": "stream",
     "text": [
      "[1000, 20:36:59, 37.37s/i] "
     ]
    },
    {
     "name": "stdout",
     "output_type": "stream",
     "text": [
      "Train loss: 0.015241056  Val loss: 0.48205268  Train acc: 0.9995993589743589  Val acc: 0.8567708333333334\n",
      "Training ended successfully, saving the results\n",
      "Test loss: 2.120942  Test acc: 0.5234375\n"
     ]
    }
   ],
   "source": [
    "loss, acc = train(\"b\", \"PACS\", \"cartoon\", model; num_iter=num_iter, \n",
    "                                                 check_freq=check_freq, \n",
    "                                                 batchsize=batchsize, \n",
    "                                                 data_path=data_path, \n",
    "                                                 atype=atype);"
   ]
  },
  {
   "cell_type": "code",
   "execution_count": 57,
   "id": "9955474a",
   "metadata": {},
   "outputs": [
    {
     "name": "stdout",
     "output_type": "stream",
     "text": [
      "(11, 11, 3, 64)\n",
      "(1, 1, 64, 1)\n",
      "(5, 5, 64, 192)\n",
      "(1, 1, 192, 1)\n",
      "(3, 3, 192, 384)\n",
      "(1, 1, 384, 1)\n",
      "(3, 3, 384, 256)\n",
      "(1, 1, 256, 1)\n",
      "(3, 3, 256, 256)\n",
      "(1, 1, 256, 1)\n",
      "(4096, 9216)\n",
      "(4096,)\n",
      "(4096, 4096)\n",
      "(4096,)\n",
      "(7, 4096)\n",
      "(7,)\n"
     ]
    }
   ],
   "source": [
    "model = generate_alexnet_model(; pretrained = true);\n",
    "for param in params(model)\n",
    "    param.opt = Adam(; lr=1e-5)\n",
    "    println(size(param))\n",
    "end\n"
   ]
  },
  {
   "cell_type": "code",
   "execution_count": 58,
   "id": "995d624b",
   "metadata": {},
   "outputs": [
    {
     "name": "stdout",
     "output_type": "stream",
     "text": [
      "Datasets are loaded\n"
     ]
    },
    {
     "name": "stderr",
     "output_type": "stream",
     "text": [
      "\r",
      "[1, 00:01, 1.26i/s] "
     ]
    },
    {
     "name": "stdout",
     "output_type": "stream",
     "text": [
      "First batch is trained successfully\n"
     ]
    },
    {
     "name": "stderr",
     "output_type": "stream",
     "text": [
      "[20, 14:48, 48.92s/i] "
     ]
    },
    {
     "name": "stdout",
     "output_type": "stream",
     "text": [
      "Train loss: 1.9850997  Val loss: 1.9525241  Train acc: 0.23998397435897437  Val acc: 0.2526041666666667\n"
     ]
    },
    {
     "name": "stderr",
     "output_type": "stream",
     "text": [
      "[40, 35:16, 44.44s/i]  "
     ]
    },
    {
     "name": "stdout",
     "output_type": "stream",
     "text": [
      "Train loss: 1.6619569  Val loss: 1.6248733  Train acc: 0.34755608974358976  Val acc: 0.3645833333333333\n"
     ]
    },
    {
     "name": "stderr",
     "output_type": "stream",
     "text": [
      "[60, 55:45, 48.28s/i]  "
     ]
    },
    {
     "name": "stdout",
     "output_type": "stream",
     "text": [
      "Train loss: 1.4901892  Val loss: 1.4897054  Train acc: 0.421474358974359  Val acc: 0.4296875\n"
     ]
    },
    {
     "name": "stderr",
     "output_type": "stream",
     "text": [
      "[80, 01:16:17, 44.30s/i]  "
     ]
    },
    {
     "name": "stdout",
     "output_type": "stream",
     "text": [
      "Train loss: 1.3624923  Val loss: 1.3862195  Train acc: 0.4671474358974359  Val acc: 0.453125\n"
     ]
    },
    {
     "name": "stderr",
     "output_type": "stream",
     "text": [
      "[100, 01:36:24, 43.34s/i] "
     ]
    },
    {
     "name": "stdout",
     "output_type": "stream",
     "text": [
      "Train loss: 1.2554932  Val loss: 1.2708596  Train acc: 0.507011217948718  Val acc: 0.4921875\n"
     ]
    },
    {
     "name": "stderr",
     "output_type": "stream",
     "text": [
      "[120, 01:56:25, 43.31s/i]  "
     ]
    },
    {
     "name": "stdout",
     "output_type": "stream",
     "text": [
      "Train loss: 1.1688328  Val loss: 1.1752058  Train acc: 0.5532852564102564  Val acc: 0.5651041666666666\n"
     ]
    },
    {
     "name": "stderr",
     "output_type": "stream",
     "text": [
      "[140, 02:16:22, 47.60s/i]  "
     ]
    },
    {
     "name": "stdout",
     "output_type": "stream",
     "text": [
      "Train loss: 1.0936054  Val loss: 1.0988561  Train acc: 0.5793269230769231  Val acc: 0.5807291666666666\n"
     ]
    },
    {
     "name": "stderr",
     "output_type": "stream",
     "text": [
      "[160, 02:36:23, 43.91s/i]  "
     ]
    },
    {
     "name": "stdout",
     "output_type": "stream",
     "text": [
      "Train loss: 1.031007  Val loss: 1.052233  Train acc: 0.6081730769230769  Val acc: 0.5911458333333334\n"
     ]
    },
    {
     "name": "stderr",
     "output_type": "stream",
     "text": [
      "[180, 02:56:15, 45.30s/i]  "
     ]
    },
    {
     "name": "stdout",
     "output_type": "stream",
     "text": [
      "Train loss: 0.9868508  Val loss: 0.9804261  Train acc: 0.6266025641025641  Val acc: 0.6145833333333334\n"
     ]
    },
    {
     "name": "stderr",
     "output_type": "stream",
     "text": [
      "[200, 03:16:16, 46.82s/i]  "
     ]
    },
    {
     "name": "stdout",
     "output_type": "stream",
     "text": [
      "Train loss: 0.9367182  Val loss: 0.88624877  Train acc: 0.6446314102564102  Val acc: 0.6145833333333334\n"
     ]
    },
    {
     "name": "stderr",
     "output_type": "stream",
     "text": [
      "[220, 03:36:36, 46.07s/i]  "
     ]
    },
    {
     "name": "stdout",
     "output_type": "stream",
     "text": [
      "Train loss: 0.9096242  Val loss: 0.90911907  Train acc: 0.6626602564102564  Val acc: 0.6614583333333334\n"
     ]
    },
    {
     "name": "stderr",
     "output_type": "stream",
     "text": [
      "[240, 03:56:36, 46.27s/i]  "
     ]
    },
    {
     "name": "stdout",
     "output_type": "stream",
     "text": [
      "Train loss: 0.8778768  Val loss: 0.85912234  Train acc: 0.6806891025641025  Val acc: 0.6614583333333334\n"
     ]
    },
    {
     "name": "stderr",
     "output_type": "stream",
     "text": [
      "[260, 04:16:37, 43.40s/i]  "
     ]
    },
    {
     "name": "stdout",
     "output_type": "stream",
     "text": [
      "Train loss: 0.85819733  Val loss: 0.8305966  Train acc: 0.6854967948717948  Val acc: 0.6953125\n"
     ]
    },
    {
     "name": "stderr",
     "output_type": "stream",
     "text": [
      "[280, 04:36:46, 43.99s/i]  "
     ]
    },
    {
     "name": "stdout",
     "output_type": "stream",
     "text": [
      "Train loss: 0.8454591  Val loss: 0.75714064  Train acc: 0.6905048076923077  Val acc: 0.6848958333333334\n"
     ]
    },
    {
     "name": "stderr",
     "output_type": "stream",
     "text": [
      "[300, 04:56:56, 43.64s/i]  "
     ]
    },
    {
     "name": "stdout",
     "output_type": "stream",
     "text": [
      "Train loss: 0.8132256  Val loss: 0.79539925  Train acc: 0.7057291666666666  Val acc: 0.6875\n"
     ]
    },
    {
     "name": "stderr",
     "output_type": "stream",
     "text": [
      "[320, 05:17:01, 43.67s/i]  "
     ]
    },
    {
     "name": "stdout",
     "output_type": "stream",
     "text": [
      "Train loss: 0.8092255  Val loss: 0.7389934  Train acc: 0.711738782051282  Val acc: 0.7135416666666666\n"
     ]
    },
    {
     "name": "stderr",
     "output_type": "stream",
     "text": [
      "[340, 05:37:06, 44.11s/i]  "
     ]
    },
    {
     "name": "stdout",
     "output_type": "stream",
     "text": [
      "Train loss: 0.79291046  Val loss: 0.70827794  Train acc: 0.7201522435897436  Val acc: 0.7786458333333334\n"
     ]
    },
    {
     "name": "stderr",
     "output_type": "stream",
     "text": [
      "[360, 05:57:24, 44.41s/i]  "
     ]
    },
    {
     "name": "stdout",
     "output_type": "stream",
     "text": [
      "Train loss: 0.7861707  Val loss: 0.75506926  Train acc: 0.7275641025641025  Val acc: 0.7447916666666666\n"
     ]
    },
    {
     "name": "stderr",
     "output_type": "stream",
     "text": [
      "[380, 06:17:30, 43.12s/i]  "
     ]
    },
    {
     "name": "stdout",
     "output_type": "stream",
     "text": [
      "Train loss: 0.78226066  Val loss: 0.7340476  Train acc: 0.7313701923076923  Val acc: 0.71875\n"
     ]
    },
    {
     "name": "stderr",
     "output_type": "stream",
     "text": [
      "[400, 06:37:36, 45.13s/i]  "
     ]
    },
    {
     "name": "stdout",
     "output_type": "stream",
     "text": [
      "Train loss: 0.78607833  Val loss: 0.7365288  Train acc: 0.7333733974358975  Val acc: 0.7604166666666666\n"
     ]
    },
    {
     "name": "stderr",
     "output_type": "stream",
     "text": [
      "[420, 06:57:44, 43.19s/i]  "
     ]
    },
    {
     "name": "stdout",
     "output_type": "stream",
     "text": [
      "Train loss: 0.76406777  Val loss: 0.60680586  Train acc: 0.7425881410256411  Val acc: 0.7734375\n"
     ]
    },
    {
     "name": "stderr",
     "output_type": "stream",
     "text": [
      "[440, 07:17:55, 43.43s/i]  "
     ]
    },
    {
     "name": "stdout",
     "output_type": "stream",
     "text": [
      "Train loss: 0.7617452  Val loss: 0.657304  Train acc: 0.7453926282051282  Val acc: 0.7604166666666666\n"
     ]
    },
    {
     "name": "stderr",
     "output_type": "stream",
     "text": [
      "[460, 07:38:28, 46.25s/i]  "
     ]
    },
    {
     "name": "stdout",
     "output_type": "stream",
     "text": [
      "Train loss: 0.7721844  Val loss: 0.73444796  Train acc: 0.7461939102564102  Val acc: 0.7395833333333334\n"
     ]
    },
    {
     "name": "stderr",
     "output_type": "stream",
     "text": [
      "[480, 07:59:08, 46.30s/i]  "
     ]
    },
    {
     "name": "stdout",
     "output_type": "stream",
     "text": [
      "Train loss: 0.78027207  Val loss: 0.79909295  Train acc: 0.7483974358974359  Val acc: 0.7317708333333334\n"
     ]
    },
    {
     "name": "stderr",
     "output_type": "stream",
     "text": [
      "[500, 08:19:30, 44.02s/i]  "
     ]
    },
    {
     "name": "stdout",
     "output_type": "stream",
     "text": [
      "Train loss: 0.7704417  Val loss: 0.7857141  Train acc: 0.7522035256410257  Val acc: 0.7630208333333334\n"
     ]
    },
    {
     "name": "stderr",
     "output_type": "stream",
     "text": [
      "[520, 08:39:58, 44.17s/i]  "
     ]
    },
    {
     "name": "stdout",
     "output_type": "stream",
     "text": [
      "Train loss: 0.76069283  Val loss: 0.76871973  Train acc: 0.7518028846153846  Val acc: 0.7265625\n"
     ]
    },
    {
     "name": "stderr",
     "output_type": "stream",
     "text": [
      "[540, 09:00:40, 43.11s/i]  "
     ]
    },
    {
     "name": "stdout",
     "output_type": "stream",
     "text": [
      "Train loss: 0.754643  Val loss: 0.72464377  Train acc: 0.7526041666666666  Val acc: 0.765625\n"
     ]
    },
    {
     "name": "stderr",
     "output_type": "stream",
     "text": [
      "[560, 09:21:03, 46.48s/i]  "
     ]
    },
    {
     "name": "stdout",
     "output_type": "stream",
     "text": [
      "Train loss: 0.77504593  Val loss: 0.6695079  Train acc: 0.7556089743589743  Val acc: 0.7682291666666666\n"
     ]
    },
    {
     "name": "stderr",
     "output_type": "stream",
     "text": [
      "[580, 09:41:16, 45.69s/i]  "
     ]
    },
    {
     "name": "stdout",
     "output_type": "stream",
     "text": [
      "Train loss: 0.76380736  Val loss: 0.68638176  Train acc: 0.7568108974358975  Val acc: 0.7734375\n"
     ]
    },
    {
     "name": "stderr",
     "output_type": "stream",
     "text": [
      "[600, 10:01:20, 43.26s/i]  "
     ]
    },
    {
     "name": "stdout",
     "output_type": "stream",
     "text": [
      "Train loss: 0.7706842  Val loss: 0.7090109  Train acc: 0.7640224358974359  Val acc: 0.7526041666666666\n"
     ]
    },
    {
     "name": "stderr",
     "output_type": "stream",
     "text": [
      "[620, 10:21:48, 43.49s/i]  "
     ]
    },
    {
     "name": "stdout",
     "output_type": "stream",
     "text": [
      "Train loss: 0.7749186  Val loss: 0.6613582  Train acc: 0.7646233974358975  Val acc: 0.7786458333333334\n"
     ]
    },
    {
     "name": "stderr",
     "output_type": "stream",
     "text": [
      "[640, 10:42:08, 43.15s/i]  "
     ]
    },
    {
     "name": "stdout",
     "output_type": "stream",
     "text": [
      "Train loss: 0.7629622  Val loss: 0.8190255  Train acc: 0.7706330128205128  Val acc: 0.7734375\n"
     ]
    },
    {
     "name": "stderr",
     "output_type": "stream",
     "text": [
      "[660, 11:02:23, 44.34s/i]  "
     ]
    },
    {
     "name": "stdout",
     "output_type": "stream",
     "text": [
      "Train loss: 0.7734842  Val loss: 0.7248948  Train acc: 0.7674278846153846  Val acc: 0.7994791666666666\n"
     ]
    },
    {
     "name": "stderr",
     "output_type": "stream",
     "text": [
      "[680, 11:22:38, 45.57s/i]  "
     ]
    },
    {
     "name": "stdout",
     "output_type": "stream",
     "text": [
      "Train loss: 0.7787398  Val loss: 0.72617525  Train acc: 0.7688301282051282  Val acc: 0.7552083333333334\n"
     ]
    },
    {
     "name": "stderr",
     "output_type": "stream",
     "text": [
      "[700, 11:43:10, 42.97s/i]  "
     ]
    },
    {
     "name": "stdout",
     "output_type": "stream",
     "text": [
      "Train loss: 0.7789641  Val loss: 0.6567799  Train acc: 0.7698317307692307  Val acc: 0.7604166666666666\n"
     ]
    },
    {
     "name": "stderr",
     "output_type": "stream",
     "text": [
      "[720, 12:03:47, 47.08s/i]  "
     ]
    },
    {
     "name": "stdout",
     "output_type": "stream",
     "text": [
      "Train loss: 0.77257717  Val loss: 0.73053724  Train acc: 0.7714342948717948  Val acc: 0.7864583333333334\n"
     ]
    },
    {
     "name": "stderr",
     "output_type": "stream",
     "text": [
      "[740, 12:24:18, 47.02s/i]  "
     ]
    },
    {
     "name": "stdout",
     "output_type": "stream",
     "text": [
      "Train loss: 0.7745486  Val loss: 0.84312534  Train acc: 0.7732371794871795  Val acc: 0.7734375\n"
     ]
    },
    {
     "name": "stderr",
     "output_type": "stream",
     "text": [
      "[760, 12:44:28, 45.08s/i]  "
     ]
    },
    {
     "name": "stdout",
     "output_type": "stream",
     "text": [
      "Train loss: 0.7874927  Val loss: 0.860986  Train acc: 0.7764423076923077  Val acc: 0.7864583333333334\n"
     ]
    },
    {
     "name": "stderr",
     "output_type": "stream",
     "text": [
      "[780, 13:04:28, 45.75s/i]  "
     ]
    },
    {
     "name": "stdout",
     "output_type": "stream",
     "text": [
      "Train loss: 0.7963572  Val loss: 0.66889596  Train acc: 0.7766426282051282  Val acc: 0.7838541666666666\n"
     ]
    },
    {
     "name": "stderr",
     "output_type": "stream",
     "text": [
      "[800, 13:24:44, 42.67s/i]  "
     ]
    },
    {
     "name": "stdout",
     "output_type": "stream",
     "text": [
      "Train loss: 0.7864923  Val loss: 0.7161768  Train acc: 0.7770432692307693  Val acc: 0.8046875\n"
     ]
    },
    {
     "name": "stderr",
     "output_type": "stream",
     "text": [
      "[820, 13:45:11, 46.73s/i]  "
     ]
    },
    {
     "name": "stdout",
     "output_type": "stream",
     "text": [
      "Train loss: 0.803454  Val loss: 0.8035369  Train acc: 0.7732371794871795  Val acc: 0.7890625\n"
     ]
    },
    {
     "name": "stderr",
     "output_type": "stream",
     "text": [
      "[840, 14:05:21, 48.03s/i]  "
     ]
    },
    {
     "name": "stdout",
     "output_type": "stream",
     "text": [
      "Train loss: 0.79256356  Val loss: 0.8122961  Train acc: 0.7762419871794872  Val acc: 0.7760416666666666\n"
     ]
    },
    {
     "name": "stderr",
     "output_type": "stream",
     "text": [
      "[860, 14:25:42, 47.23s/i]  "
     ]
    },
    {
     "name": "stdout",
     "output_type": "stream",
     "text": [
      "Train loss: 0.81655324  Val loss: 0.7881315  Train acc: 0.7738381410256411  Val acc: 0.7942708333333334\n"
     ]
    },
    {
     "name": "stderr",
     "output_type": "stream",
     "text": [
      "[880, 14:46:11, 48.92s/i]  "
     ]
    },
    {
     "name": "stdout",
     "output_type": "stream",
     "text": [
      "Train loss: 0.79734397  Val loss: 0.7220215  Train acc: 0.7800480769230769  Val acc: 0.7786458333333334\n"
     ]
    },
    {
     "name": "stderr",
     "output_type": "stream",
     "text": [
      "[900, 15:06:36, 46.77s/i]  "
     ]
    },
    {
     "name": "stdout",
     "output_type": "stream",
     "text": [
      "Train loss: 0.8104356  Val loss: 0.7122774  Train acc: 0.7792467948717948  Val acc: 0.8046875\n"
     ]
    },
    {
     "name": "stderr",
     "output_type": "stream",
     "text": [
      "[920, 15:26:52, 48.24s/i]  "
     ]
    },
    {
     "name": "stdout",
     "output_type": "stream",
     "text": [
      "Train loss: 0.82887274  Val loss: 0.6554241  Train acc: 0.7780448717948718  Val acc: 0.8020833333333334\n"
     ]
    },
    {
     "name": "stderr",
     "output_type": "stream",
     "text": [
      "[940, 15:47:16, 47.24s/i]  "
     ]
    },
    {
     "name": "stdout",
     "output_type": "stream",
     "text": [
      "Train loss: 0.8025162  Val loss: 0.89297706  Train acc: 0.7796474358974359  Val acc: 0.8020833333333334\n"
     ]
    },
    {
     "name": "stderr",
     "output_type": "stream",
     "text": [
      "[960, 16:08:45, 51.79s/i]  "
     ]
    },
    {
     "name": "stdout",
     "output_type": "stream",
     "text": [
      "Train loss: 0.79509354  Val loss: 0.7484415  Train acc: 0.7794471153846154  Val acc: 0.7838541666666666\n"
     ]
    },
    {
     "name": "stderr",
     "output_type": "stream",
     "text": [
      "[980, 16:29:28, 47.14s/i]  "
     ]
    },
    {
     "name": "stdout",
     "output_type": "stream",
     "text": [
      "Train loss: 0.81570536  Val loss: 0.70817924  Train acc: 0.7814503205128205  Val acc: 0.7864583333333334\n"
     ]
    },
    {
     "name": "stderr",
     "output_type": "stream",
     "text": [
      "[1000, 16:50:15, 50.97s/i] "
     ]
    },
    {
     "name": "stdout",
     "output_type": "stream",
     "text": [
      "Train loss: 0.8190168  Val loss: 0.7325484  Train acc: 0.7810496794871795  Val acc: 0.7760416666666666\n",
      "Training ended successfully, saving the results\n",
      "Test loss: 2.8079996  Test acc: 0.4609375\n"
     ]
    }
   ],
   "source": [
    "loss, acc = train(\"gs\", \"PACS\", \"cartoon\", model; num_iter=num_iter, \n",
    "                                                  check_freq=check_freq, \n",
    "                                                  batchsize=batchsize, \n",
    "                                                  data_path=data_path, \n",
    "                                                  atype=atype);"
   ]
  },
  {
   "cell_type": "code",
   "execution_count": null,
   "id": "ed18a081",
   "metadata": {},
   "outputs": [],
   "source": []
  },
  {
   "cell_type": "code",
   "execution_count": null,
   "id": "ad4b513d",
   "metadata": {},
   "outputs": [],
   "source": []
  },
  {
   "cell_type": "code",
   "execution_count": null,
   "id": "22243375",
   "metadata": {},
   "outputs": [],
   "source": []
  },
  {
   "cell_type": "code",
   "execution_count": null,
   "id": "082d8b1a",
   "metadata": {},
   "outputs": [],
   "source": []
  },
  {
   "cell_type": "code",
   "execution_count": null,
   "id": "e1801a8c",
   "metadata": {},
   "outputs": [],
   "source": []
  },
  {
   "cell_type": "code",
   "execution_count": 33,
   "id": "8e6a5e58",
   "metadata": {},
   "outputs": [
    {
     "ename": "LoadError",
     "evalue": "MethodError: no method matching ndims(::Tuple{Array{Float32, 4}, Vector{Int32}})\n\u001b[0mClosest candidates are:\n\u001b[0m  ndims(\u001b[91m::CUDA.CUSPARSE.CuSparseMatrix{Tv, Ti} where {Tv, Ti}\u001b[39m) at /Users/ufukaltun/.julia/packages/CUDA/YpW0k/lib/cusparse/array.jl:204\n\u001b[0m  ndims(\u001b[91m::CUDA.CuSparseDeviceVector\u001b[39m) at /Users/ufukaltun/.julia/packages/CUDA/YpW0k/src/device/sparse.jl:23\n\u001b[0m  ndims(\u001b[91m::AbstractFFTs.Plan\u001b[39m) at /Users/ufukaltun/.julia/packages/AbstractFFTs/JebmH/src/definitions.jl:15\n\u001b[0m  ...",
     "output_type": "error",
     "traceback": [
      "MethodError: no method matching ndims(::Tuple{Array{Float32, 4}, Vector{Int32}})\n\u001b[0mClosest candidates are:\n\u001b[0m  ndims(\u001b[91m::CUDA.CUSPARSE.CuSparseMatrix{Tv, Ti} where {Tv, Ti}\u001b[39m) at /Users/ufukaltun/.julia/packages/CUDA/YpW0k/lib/cusparse/array.jl:204\n\u001b[0m  ndims(\u001b[91m::CUDA.CuSparseDeviceVector\u001b[39m) at /Users/ufukaltun/.julia/packages/CUDA/YpW0k/src/device/sparse.jl:23\n\u001b[0m  ndims(\u001b[91m::AbstractFFTs.Plan\u001b[39m) at /Users/ufukaltun/.julia/packages/AbstractFFTs/JebmH/src/definitions.jl:15\n\u001b[0m  ...",
      "",
      "Stacktrace:",
      " [1] conv4(w::Array{Float32, 4}, x::Tuple{Array{Float32, 4}, Vector{Int32}}; padding::Int64, stride::Int64, dilation::Int64, mode::Int64, alpha::Int64, group::Int64)",
      "   @ Knet.Ops20 ~/.julia/packages/Knet/RCkV0/src/ops20/conv.jl:35",
      " [2] forw(::Function, ::Param{Array{Float32, 4}}, ::Vararg{Any, N} where N; kwargs::Base.Iterators.Pairs{Symbol, Int64, Tuple{Symbol, Symbol}, NamedTuple{(:padding, :stride), Tuple{Int64, Int64}}})",
      "   @ AutoGrad ~/.julia/packages/AutoGrad/TTpeo/src/core.jl:66",
      " [3] #conv4#28",
      "   @ ./none:0 [inlined]",
      " [4] (::Conv2)(x::Tuple{Array{Float32, 4}, Vector{Int32}})",
      "   @ Main ~/Documents/koç/dersler/ku deep learning/project_final/models.jl:17",
      " [5] (::Chain2)(x::Tuple{Array{Float32, 4}, Vector{Int32}})",
      "   @ Main ~/Documents/koç/dersler/ku deep learning/project_final/models.jl:56",
      " [6] top-level scope",
      "   @ In[33]:1",
      " [7] eval",
      "   @ ./boot.jl:360 [inlined]",
      " [8] include_string(mapexpr::typeof(REPL.softscope), mod::Module, code::String, filename::String)",
      "   @ Base ./loading.jl:1116"
     ]
    }
   ],
   "source": [
    "model_gs(first(cartoon))"
   ]
  },
  {
   "cell_type": "code",
   "execution_count": 35,
   "id": "83ce4b30",
   "metadata": {},
   "outputs": [
    {
     "data": {
      "text/plain": [
       "Base.Iterators.Take{Data{Tuple{Array{Float32, N} where N, Array{Int32, N} where N}}}(18-element Data{Tuple{Array{Float32, N} where N, Array{Int32, N} where N}}, 3)"
      ]
     },
     "execution_count": 35,
     "metadata": {},
     "output_type": "execute_result"
    }
   ],
   "source": [
    "take(cartoon,3)"
   ]
  },
  {
   "cell_type": "code",
   "execution_count": 19,
   "id": "8b97a75a",
   "metadata": {},
   "outputs": [
    {
     "data": {
      "text/plain": [
       "Vector{Tuple{Array{Float32, N} where N, Array{Int32, N} where N}} (alias for Array{Tuple{Array{Float32, N} where N, Array{Int32, N} where N}, 1})"
      ]
     },
     "execution_count": 19,
     "metadata": {},
     "output_type": "execute_result"
    }
   ],
   "source": [
    "typeof(collect(take((cartoon),1)))"
   ]
  },
  {
   "cell_type": "code",
   "execution_count": 21,
   "id": "e77b8bba",
   "metadata": {},
   "outputs": [
    {
     "ename": "LoadError",
     "evalue": "ArgumentError: tuple length should be ≥ 0, got -1",
     "output_type": "error",
     "traceback": [
      "ArgumentError: tuple length should be ≥ 0, got -1",
      "",
      "Stacktrace:",
      "  [1] macro expansion",
      "    @ ./ntuple.jl:71 [inlined]",
      "  [2] ntuple",
      "    @ ./ntuple.jl:69 [inlined]",
      "  [3] expand(N::Val{-1}, i::Int64)",
      "    @ Knet.Ops20 ~/.julia/packages/Knet/RCkV0/src/ops20/conv.jl:276",
      "  [4] conv4(w::Array{Float32, 4}, x::Vector{Tuple{Array{Float32, N} where N, Array{Int32, N} where N}}; padding::Int64, stride::Int64, dilation::Int64, mode::Int64, alpha::Int64, group::Int64)",
      "    @ Knet.Ops20 ~/.julia/packages/Knet/RCkV0/src/ops20/conv.jl:36",
      "  [5] forw(::Function, ::Param{Array{Float32, 4}}, ::Vararg{Any, N} where N; kwargs::Base.Iterators.Pairs{Symbol, Int64, Tuple{Symbol, Symbol}, NamedTuple{(:padding, :stride), Tuple{Int64, Int64}}})",
      "    @ AutoGrad ~/.julia/packages/AutoGrad/TTpeo/src/core.jl:66",
      "  [6] #conv4#28",
      "    @ ./none:0 [inlined]",
      "  [7] (::Conv2)(x::Vector{Tuple{Array{Float32, N} where N, Array{Int32, N} where N}})",
      "    @ Main ~/Documents/koç/dersler/ku deep learning/project_final/models.jl:17",
      "  [8] (::Chain2)(x::Vector{Tuple{Array{Float32, N} where N, Array{Int32, N} where N}})",
      "    @ Main ~/Documents/koç/dersler/ku deep learning/project_final/models.jl:56",
      "  [9] top-level scope",
      "    @ In[21]:1",
      " [10] eval",
      "    @ ./boot.jl:360 [inlined]",
      " [11] include_string(mapexpr::typeof(REPL.softscope), mod::Module, code::String, filename::String)",
      "    @ Base ./loading.jl:1116"
     ]
    }
   ],
   "source": [
    "model_gs(collect(take((cartoon),2)))"
   ]
  },
  {
   "cell_type": "code",
   "execution_count": 24,
   "id": "61b6675a",
   "metadata": {},
   "outputs": [
    {
     "name": "stderr",
     "output_type": "stream",
     "text": [
      "[7, 07:01, 46.73s/i] nothing303"
     ]
    }
   ],
   "source": [
    "\n",
    "num_iter = 7\n",
    "n=1\n",
    "x=0\n",
    "for (dom1, dom2, dom3) in progress(zip(cycle(painting), cycle(cartoon), cycle(photo)))do p;  p.curriter%3 == 0 ? model_gs(painting) : nothing; end\n",
    "    D1 = @diff model_gs(dom1...)\n",
    "    D2 = @diff model_gs(dom2...)\n",
    "    D3 = @diff model_gs(dom3...)\n",
    "    #println((value(D1) + value(D2) + value(D3))/3)\n",
    "    #p = (value(D1) + value(D2) + value(D3))/3\n",
    "    \n",
    "    for w in Knet.params(model_gs)\n",
    "        g1 = grad(D1, w)\n",
    "        g2 = grad(D2, w)\n",
    "        g3 = grad(D3, w)\n",
    "        MaskGS = abs.(sign.(g1).+sign.(g2).+sign.(g3)).==3\n",
    "        g = (g1.+g2.+g3).*MaskGS\n",
    "        update!(w, g)\n",
    "    end\n",
    "    (n += 1) > num_iter && break\n",
    "end \n"
   ]
  },
  {
   "cell_type": "code",
   "execution_count": 8,
   "id": "c2a6fb0d",
   "metadata": {},
   "outputs": [],
   "source": [
    "state_dict = torch.load(\"/Users/ufukaltun/Downloads/alexnet-owt-7be5be79.pth\");\n",
    "\n",
    "L1_w = permutedims(state_dict[\"features.0.weight\"].detach().numpy(), (4, 3, 2, 1));\n",
    "L1_b = state_dict[\"features.0.bias\"].detach().numpy();\n",
    "\n",
    "L2_w = permutedims(state_dict[\"features.3.weight\"].detach().numpy(), (4, 3, 2, 1));\n",
    "L2_b = state_dict[\"features.3.bias\"].detach().numpy();\n",
    "\n",
    "L3_w = permutedims(state_dict[\"features.6.weight\"].detach().numpy(), (4, 3, 2, 1));\n",
    "L3_b = state_dict[\"features.6.bias\"].detach().numpy();\n",
    "\n",
    "L4_w = permutedims(state_dict[\"features.8.weight\"].detach().numpy(), (4, 3, 2, 1));\n",
    "L4_b = state_dict[\"features.8.bias\"].detach().numpy();\n",
    "\n",
    "L5_w = permutedims(state_dict[\"features.10.weight\"].detach().numpy(), (4, 3, 2, 1));\n",
    "L5_b = state_dict[\"features.10.bias\"].detach().numpy();\n",
    "\n",
    "L6_w = state_dict[\"classifier.1.weight\"].detach().numpy();\n",
    "L6_b = state_dict[\"classifier.1.bias\"].detach().numpy();\n",
    "\n",
    "L7_w = state_dict[\"classifier.4.weight\"].detach().numpy();\n",
    "L7_b = state_dict[\"classifier.4.bias\"].detach().numpy();\n",
    "\n",
    "L8_w = state_dict[\"classifier.6.weight\"].detach().numpy()[1:7,:];\n",
    "L8_b = state_dict[\"classifier.6.bias\"].detach().numpy()[1:7];\n",
    "\n",
    "\n",
    "L1 = Conv2(11, 11, 3, 64; padding=2, stride=4);\n",
    "L2 = Conv2( 5,  5, 64, 192; padding=2);\n",
    "L3 = Conv1( 3,  3,  192, 384; padding=1);\n",
    "L4 = Conv1( 3,  3,  384, 256; padding=1);\n",
    "L5 = Conv2( 3,  3,  256, 256; padding=1);\n",
    "L6 = Dense(256*6*6, 4096,pdrop=0.5);\n",
    "L7 = Dense(4096, 4096, pdrop=0.5);\n",
    "L8 = Dense(4096, 7, identity);                   "
   ]
  },
  {
   "cell_type": "code",
   "execution_count": 10,
   "id": "6cb29d80",
   "metadata": {},
   "outputs": [],
   "source": [
    "L1.w = Param(L1_w);  L1.b = Param(reshape(L1_b, (1,1,:,1)));\n",
    "L2.w = Param(L2_w);  L2.b = Param(reshape(L2_b, (1,1,:,1)));\n",
    "L3.w = Param(L3_w);  L3.b = Param(reshape(L3_b, (1,1,:,1)));\n",
    "L4.w = Param(L4_w);  L4.b = Param(reshape(L4_b, (1,1,:,1)));\n",
    "L5.w = Param(L5_w);  L5.b = Param(reshape(L5_b, (1,1,:,1)));\n",
    "L6.w = Param(L6_w);  L6.b = Param(L6_b);\n",
    "L7.w = Param(L7_w);  L7.b = Param(L7_b);\n",
    "L8.w = Param(L8_w);  L8.b = Param(L8_b);"
   ]
  },
  {
   "cell_type": "code",
   "execution_count": 12,
   "id": "871956f7",
   "metadata": {},
   "outputs": [],
   "source": [
    "model_gs =  Chain2(L1, L2, L3, L4, L5, L6, L7, L8; λ1=5e-5);"
   ]
  },
  {
   "cell_type": "code",
   "execution_count": 26,
   "id": "f80745ce",
   "metadata": {},
   "outputs": [],
   "source": [
    "model_baseline =  Chain2(L1, L2, L3, L4, L5, L6, L7, L8; λ1=5e-5);"
   ]
  },
  {
   "cell_type": "code",
   "execution_count": 27,
   "id": "344a6b1d",
   "metadata": {},
   "outputs": [],
   "source": [
    "baseline_model2 =  Chain2( Conv2(11, 11, 3, 64; padding=2, stride=4),\n",
    "                         Conv2( 5,  5, 64, 192; padding=2),\n",
    "                         Conv1( 3,  3,  192, 384; padding=1),\n",
    "                         Conv1( 3,  3,  384, 256; padding=1),\n",
    "                         Conv2( 3,  3,  256, 256; padding=1),\n",
    "                         Dense(256*6*6, 4096,pdrop=0.5),\n",
    "                         Dense(4096, 4096, pdrop=0.5),\n",
    "                         Dense(4096, 7, identity) ; λ1=5e-5);"
   ]
  },
  {
   "cell_type": "code",
   "execution_count": 14,
   "id": "a537b2d4",
   "metadata": {},
   "outputs": [
    {
     "name": "stdout",
     "output_type": "stream",
     "text": [
      "(11, 11, 3, 64)\n",
      "(1, 1, 64, 1)\n",
      "(5, 5, 64, 192)\n",
      "(1, 1, 192, 1)\n",
      "(3, 3, 192, 384)\n",
      "(1, 1, 384, 1)\n",
      "(3, 3, 384, 256)\n",
      "(1, 1, 256, 1)\n",
      "(3, 3, 256, 256)\n",
      "(1, 1, 256, 1)\n",
      "(4096, 9216)\n",
      "(4096,)\n",
      "(4096, 4096)\n",
      "(4096,)\n",
      "(7, 4096)\n",
      "(7,)\n"
     ]
    }
   ],
   "source": [
    "for param in params(model_gs)\n",
    "    param.opt = Adam(; lr=1e-5)\n",
    "    println(size(param))\n",
    "end"
   ]
  },
  {
   "cell_type": "code",
   "execution_count": null,
   "id": "4d6e3d13",
   "metadata": {},
   "outputs": [
    {
     "name": "stdout",
     "output_type": "stream",
     "text": [
      "baseline = 19-element Data{Tuple{Array{Float32, N} where N, Array{Int32, N} where N}}\n",
      "2\n",
      "error not here\n",
      "27.976385456466677\n",
      "2\n"
     ]
    }
   ],
   "source": [
    "num_iter = 2\n",
    "n=1\n",
    "for batch in cycle(baseline)\n",
    "    println(length(batch))\n",
    "    L = @diff model_baseline(batch...);\n",
    "    loss = value(L)\n",
    "    println(loss)\n",
    "    for w in Knet.params(model_baseline)\n",
    "        g = grad(L, w)\n",
    "        update!(w, g)\n",
    "    end\n",
    "    (n += 1) > num_iter && break\n",
    "end \n"
   ]
  },
  {
   "cell_type": "code",
   "execution_count": 15,
   "id": "d79d85e9",
   "metadata": {},
   "outputs": [],
   "source": [
    "num_iter = 1000\n",
    "n=1\n",
    "for (dom1, dom2, dom3) in zip(cycle(painting), cycle(cartoon), cycle(photo))\n",
    "    D1 = @diff model_gs(dom1...)\n",
    "    D2 = @diff model_gs(dom2...)\n",
    "    D3 = @diff model_gs(dom3...)\n",
    "    #println((value(D1) + value(D2) + value(D3))/3)\n",
    "    \n",
    "    \n",
    "    for w in Knet.params(model_gs)\n",
    "        g1 = grad(D1, w)\n",
    "        g2 = grad(D2, w)\n",
    "        g3 = grad(D3, w)\n",
    "        MaskGS = abs.(sign.(g1).+sign.(g2).+sign.(g3)).==3\n",
    "        g = (g1.+g2.+g3).*MaskGS\n",
    "        update!(w, g)\n",
    "    end\n",
    "    (n += 1) > num_iter && break\n",
    "end "
   ]
  },
  {
   "cell_type": "code",
   "execution_count": 16,
   "id": "fe6e91a3",
   "metadata": {},
   "outputs": [
    {
     "name": "stdout",
     "output_type": "stream",
     "text": [
      "0.88367665\n"
     ]
    }
   ],
   "source": [
    "result=(model_gs(sketch))\n",
    "println(result)"
   ]
  },
  {
   "cell_type": "code",
   "execution_count": 17,
   "id": "f79b2eba",
   "metadata": {},
   "outputs": [
    {
     "name": "stdout",
     "output_type": "stream",
     "text": [
      "0.7103892543859649\n"
     ]
    }
   ],
   "source": [
    "accur = accuracy(model_gs,data=sketch)\n",
    "println(accur)"
   ]
  },
  {
   "cell_type": "code",
   "execution_count": 18,
   "id": "44429e4d",
   "metadata": {},
   "outputs": [],
   "source": [
    "save(\"weights_gs2.jld2\",\"weights\",model_gs)\n",
    "\n"
   ]
  },
  {
   "cell_type": "code",
   "execution_count": 19,
   "id": "553dd8b4",
   "metadata": {},
   "outputs": [
    {
     "name": "stdout",
     "output_type": "stream",
     "text": [
      "1.5748624\n"
     ]
    }
   ],
   "source": [
    "result=(model_gs(sketch))\n",
    "println(result)"
   ]
  },
  {
   "cell_type": "code",
   "execution_count": 20,
   "id": "bc6f9b34",
   "metadata": {},
   "outputs": [
    {
     "name": "stdout",
     "output_type": "stream",
     "text": [
      "0.47578125\n"
     ]
    }
   ],
   "source": [
    "accur = accuracy(model_gs,data=sketch)\n",
    "println(accur)"
   ]
  },
  {
   "cell_type": "code",
   "execution_count": null,
   "id": "13a50b5f",
   "metadata": {},
   "outputs": [],
   "source": []
  },
  {
   "cell_type": "code",
   "execution_count": null,
   "id": "95850212",
   "metadata": {},
   "outputs": [],
   "source": []
  },
  {
   "cell_type": "code",
   "execution_count": null,
   "id": "15d4acba",
   "metadata": {},
   "outputs": [],
   "source": []
  },
  {
   "cell_type": "code",
   "execution_count": null,
   "id": "e47e6837",
   "metadata": {},
   "outputs": [
    {
     "name": "stdout",
     "output_type": "stream",
     "text": [
      "35.427539522361755\n",
      "35.39470633525848\n",
      "35.37433449554444\n",
      "35.354531309700015\n",
      "35.32627058238983\n",
      "35.3014544927597\n",
      "35.33299960994721\n"
     ]
    }
   ],
   "source": [
    "#loss = 0\n",
    "num_iter = 30\n",
    "n=0\n",
    "#println(typeof(progress(cycle(baseline))))\n",
    "for batch in cycle(baseline)\n",
    "    #println(typeof(batch))\n",
    "    L = @diff baseline_model2(batch...)\n",
    "    \n",
    "    loss = value(L)\n",
    "    println(loss)\n",
    "    for w in Knet.params(baseline_model2)\n",
    "        g = grad(L, w)\n",
    "        update!(w, g)\n",
    "    end\n",
    "    (n += 1) > num_iter && break\n",
    "end "
   ]
  },
  {
   "cell_type": "code",
   "execution_count": 8,
   "id": "c888d123",
   "metadata": {},
   "outputs": [],
   "source": [
    "baseline_model2 =  Chain2( Conv2(11, 11, 3, 64; padding=2, stride=4),\n",
    "                         Conv2( 5,  5, 64, 192; padding=2),\n",
    "                         Conv1( 3,  3,  192, 384; padding=1),\n",
    "                         Conv1( 3,  3,  384, 256; padding=1),\n",
    "                         Conv2( 3,  3,  256, 256; padding=1),\n",
    "                         Dense(256*6*6, 4096,pdrop=0.5),\n",
    "                         Dense(4096, 4096, pdrop=0.5),\n",
    "                         Dense(4096, 7, identity) ; λ1=5e-5);"
   ]
  },
  {
   "cell_type": "code",
   "execution_count": null,
   "id": "edc94aae",
   "metadata": {},
   "outputs": [],
   "source": []
  },
  {
   "cell_type": "code",
   "execution_count": 93,
   "id": "a04cb7f1",
   "metadata": {},
   "outputs": [
    {
     "ename": "LoadError",
     "evalue": "LoadError: invalid redefinition of constant Conv1\nin expression starting at /Users/ufukaltun/Documents/koç/dersler/ku deep learning/project_final/models.jl:11",
     "output_type": "error",
     "traceback": [
      "LoadError: invalid redefinition of constant Conv1\nin expression starting at /Users/ufukaltun/Documents/koç/dersler/ku deep learning/project_final/models.jl:11",
      "",
      "Stacktrace:",
      " [1] top-level scope",
      "   @ ~/Documents/koç/dersler/ku deep learning/project_final/models.jl:11",
      " [2] include(fname::String)",
      "   @ Base.MainInclude ./client.jl:444",
      " [3] top-level scope",
      "   @ In[93]:1",
      " [4] eval",
      "   @ ./boot.jl:360 [inlined]",
      " [5] include_string(mapexpr::typeof(REPL.softscope), mod::Module, code::String, filename::String)",
      "   @ Base ./loading.jl:1116"
     ]
    }
   ],
   "source": []
  },
  {
   "cell_type": "code",
   "execution_count": 16,
   "id": "85515712",
   "metadata": {},
   "outputs": [],
   "source": [
    "batchsize = 128\n",
    "atype = Array{Float32}   #Array{Float32}   CuArray{Float32}\n",
    "data_path = \"/Users/ufukaltun/Documents/koç/dersler/ku deep learning/project\";\n",
    "target = \"cartoon\"\n",
    "\n",
    "painting, cartoon, photo, sketch, baseline = PACS(data_path, batchsize, atype, target);"
   ]
  },
  {
   "cell_type": "code",
   "execution_count": 21,
   "id": "21405015",
   "metadata": {},
   "outputs": [
    {
     "ename": "LoadError",
     "evalue": "MethodError: no method matching size(::Tuple{Array{Float32, 4}, Vector{Int32}})\n\u001b[0mClosest candidates are:\n\u001b[0m  size(::Tuple, \u001b[91m::Integer\u001b[39m) at tuple.jl:27\n\u001b[0m  size(\u001b[91m::Union{LinearAlgebra.QR, LinearAlgebra.QRCompactWY, LinearAlgebra.QRPivoted}\u001b[39m) at /Users/julia/buildbot/worker/package_macos64/build/usr/share/julia/stdlib/v1.6/LinearAlgebra/src/qr.jl:558\n\u001b[0m  size(\u001b[91m::Union{LinearAlgebra.QR, LinearAlgebra.QRCompactWY, LinearAlgebra.QRPivoted}\u001b[39m, \u001b[91m::Integer\u001b[39m) at /Users/julia/buildbot/worker/package_macos64/build/usr/share/julia/stdlib/v1.6/LinearAlgebra/src/qr.jl:557\n\u001b[0m  ...",
     "output_type": "error",
     "traceback": [
      "MethodError: no method matching size(::Tuple{Array{Float32, 4}, Vector{Int32}})\n\u001b[0mClosest candidates are:\n\u001b[0m  size(::Tuple, \u001b[91m::Integer\u001b[39m) at tuple.jl:27\n\u001b[0m  size(\u001b[91m::Union{LinearAlgebra.QR, LinearAlgebra.QRCompactWY, LinearAlgebra.QRPivoted}\u001b[39m) at /Users/julia/buildbot/worker/package_macos64/build/usr/share/julia/stdlib/v1.6/LinearAlgebra/src/qr.jl:558\n\u001b[0m  size(\u001b[91m::Union{LinearAlgebra.QR, LinearAlgebra.QRCompactWY, LinearAlgebra.QRPivoted}\u001b[39m, \u001b[91m::Integer\u001b[39m) at /Users/julia/buildbot/worker/package_macos64/build/usr/share/julia/stdlib/v1.6/LinearAlgebra/src/qr.jl:557\n\u001b[0m  ...",
      "",
      "Stacktrace:",
      " [1] _broadcast_getindex_evalf",
      "   @ ./broadcast.jl:648 [inlined]",
      " [2] _broadcast_getindex",
      "   @ ./broadcast.jl:621 [inlined]",
      " [3] getindex",
      "   @ ./broadcast.jl:575 [inlined]",
      " [4] copy",
      "   @ ./broadcast.jl:922 [inlined]",
      " [5] materialize(bc::Base.Broadcast.Broadcasted{Base.Broadcast.DefaultArrayStyle{1}, Nothing, typeof(size), Tuple{Vector{Tuple{Array{Float32, N} where N, Array{Int32, N} where N}}}})",
      "   @ Base.Broadcast ./broadcast.jl:883",
      " [6] top-level scope",
      "   @ In[21]:1",
      " [7] eval",
      "   @ ./boot.jl:360 [inlined]",
      " [8] include_string(mapexpr::typeof(REPL.softscope), mod::Module, code::String, filename::String)",
      "   @ Base ./loading.jl:1116"
     ]
    }
   ],
   "source": [
    "size.(baseline)"
   ]
  },
  {
   "cell_type": "code",
   "execution_count": 22,
   "id": "1cccc56a",
   "metadata": {},
   "outputs": [
    {
     "data": {
      "text/plain": [
       "((227, 227, 3, 384), (384,))"
      ]
     },
     "execution_count": 22,
     "metadata": {},
     "output_type": "execute_result"
    }
   ],
   "source": [
    "size.(first(baseline))"
   ]
  },
  {
   "cell_type": "code",
   "execution_count": 4,
   "id": "be3fd6e5",
   "metadata": {},
   "outputs": [],
   "source": [
    "baseline_model =  Chain2( Conv2(11, 11, 3, 64; padding=2, stride=4),\n",
    "                         Conv2( 5,  5, 64, 192; padding=2),\n",
    "                         Conv1( 3,  3,  192, 384; padding=1),\n",
    "                         Conv1( 3,  3,  384, 256; padding=1),\n",
    "                         Conv2( 3,  3,  256, 256; padding=1),\n",
    "                         Dense(256*6*6, 4096,pdrop=0.5),\n",
    "                         Dense(4096, 4096, pdrop=0.5),\n",
    "                         Dense(4096, 7, identity) ; λ1=5e-5);"
   ]
  },
  {
   "cell_type": "code",
   "execution_count": 15,
   "id": "d6081c7d",
   "metadata": {},
   "outputs": [],
   "source": [
    "GS_model =  Chain2( Conv2(11, 11, 3, 64; padding=2, stride=4),\n",
    "                         Conv2( 5,  5, 64, 192; padding=2),\n",
    "                         Conv1( 3,  3,  192, 384; padding=1),\n",
    "                         Conv1( 3,  3,  384, 256; padding=1),\n",
    "                         Conv2( 3,  3,  256, 256; padding=1),\n",
    "                         Dense(256*6*6, 4096,pdrop=0.5),\n",
    "                         Dense(4096, 4096, pdrop=0.5),\n",
    "                         Dense(4096, 7, identity) ; λ1=5e-5);"
   ]
  },
  {
   "cell_type": "code",
   "execution_count": 43,
   "id": "07953c29",
   "metadata": {},
   "outputs": [],
   "source": [
    "num_iter = 1000;\n",
    "regterm = 5e-5;\n",
    "lrterm = 1e-5;"
   ]
  },
  {
   "cell_type": "code",
   "execution_count": 28,
   "id": "467092c0",
   "metadata": {},
   "outputs": [
    {
     "data": {
      "text/plain": [
       "infinite_train_baseline (generic function with 1 method)"
      ]
     },
     "execution_count": 28,
     "metadata": {},
     "output_type": "execute_result"
    }
   ],
   "source": [
    "function infinite_train_baseline(target_dom, iternum)\n",
    "n = 1\n",
    "results=[]\n",
    "for x in takenth(progress(adam(baseline_model,cycle(baseline),lr=1e-5)),40)\n",
    "    #result=(baseline_model(baseline), baseline_model(target_dom), accuracy(baseline_model,data=baseline), accuracy(baseline_model,data=target_dom))\n",
    "    #result=(baseline_model(baseline), baseline_model(target_dom), accuracy(baseline_model,data=baseline), accuracy(baseline_model,data=target_dom))\n",
    "    result=(baseline_model(baseline))\n",
    "    push!(results,result)\n",
    "    println(result)\n",
    "    (n += 1) > iternum && break \n",
    "end\n",
    "results = reshape(collect(Float32,flatten(results)),(1,:))\n",
    "\n",
    "save(\"results_baseline2.jld2\",\"results\",results)\n",
    "save(\"weights_baseline2.jld2\",\"weights\",baseline_model)\n",
    "\n",
    "return results\n",
    "end"
   ]
  },
  {
   "cell_type": "code",
   "execution_count": 29,
   "id": "0609b92b",
   "metadata": {},
   "outputs": [
    {
     "name": "stderr",
     "output_type": "stream",
     "text": [
      "[40, 23:50, 36.10s/i] "
     ]
    },
    {
     "name": "stdout",
     "output_type": "stream",
     "text": [
      "1.4700036\n"
     ]
    },
    {
     "name": "stderr",
     "output_type": "stream",
     "text": [
      "[80, 51:07, 36.75s/i]  "
     ]
    },
    {
     "name": "stdout",
     "output_type": "stream",
     "text": [
      "1.4475139\n"
     ]
    },
    {
     "name": "stderr",
     "output_type": "stream",
     "text": [
      "[120, 01:18:48, 37.23s/i] "
     ]
    },
    {
     "name": "stdout",
     "output_type": "stream",
     "text": [
      "1.3663361\n"
     ]
    },
    {
     "data": {
      "text/plain": [
       "1×3 Matrix{Float32}:\n",
       " 1.47  1.44751  1.36634"
      ]
     },
     "execution_count": 29,
     "metadata": {},
     "output_type": "execute_result"
    }
   ],
   "source": [
    "infinite_train_baseline(cartoon, 3)"
   ]
  },
  {
   "cell_type": "code",
   "execution_count": null,
   "id": "7c7c2897",
   "metadata": {},
   "outputs": [],
   "source": [
    "results = load(\"results_baseline.jld2\",\"results\")"
   ]
  },
  {
   "cell_type": "code",
   "execution_count": null,
   "id": "b9b60fec",
   "metadata": {},
   "outputs": [],
   "source": []
  },
  {
   "cell_type": "code",
   "execution_count": 26,
   "id": "8259bf68",
   "metadata": {},
   "outputs": [
    {
     "data": {
      "text/plain": [
       "infinite_train_GS (generic function with 1 method)"
      ]
     },
     "execution_count": 26,
     "metadata": {},
     "output_type": "execute_result"
    }
   ],
   "source": [
    "function infinite_train_GS(dom1, dom2, dom3, target_dom, iternum)\n",
    "n = 1\n",
    "results=[]\n",
    "for x in takenth(progress(sgdGS(GS_model,cycle(dom1),cycle(dom2),cycle(dom3),lr=1e-5)),40)\n",
    "    #result=(GS_model(baseline), GS_model(target_dom), accuracy(GS_model,data=baseline), accuracy(GS_model,data=target_dom))\n",
    "    #result=(GS_model(baseline), GS_model(target_dom), accuracy(GS_model,data=baseline), accuracy(GS_model,data=target_dom))\n",
    "    result=(GS_model(baseline))\n",
    "    push!(results,result)\n",
    "    println(result)\n",
    "    (n += 1) > iternum && break \n",
    "end\n",
    "results = reshape(collect(Float32,flatten(results)),(1,:))\n",
    "\n",
    "save(\"results_GS2.jld2\",\"results\",results)\n",
    "save(\"weights_GS2.jld2\",\"weights\",GS_model)\n",
    "\n",
    "return results\n",
    "end"
   ]
  },
  {
   "cell_type": "code",
   "execution_count": 27,
   "id": "5be99772",
   "metadata": {},
   "outputs": [
    {
     "name": "stderr",
     "output_type": "stream",
     "text": [
      "[40, 26:55, 40.80s/i] "
     ]
    },
    {
     "name": "stdout",
     "output_type": "stream",
     "text": [
      "1.946898\n"
     ]
    },
    {
     "name": "stderr",
     "output_type": "stream",
     "text": [
      "[80, 57:03, 40.24s/i]  "
     ]
    },
    {
     "name": "stdout",
     "output_type": "stream",
     "text": [
      "1.9467659\n"
     ]
    },
    {
     "name": "stderr",
     "output_type": "stream",
     "text": [
      "[120, 01:27:06, 39.82s/i] "
     ]
    },
    {
     "name": "stdout",
     "output_type": "stream",
     "text": [
      "1.9466964\n"
     ]
    },
    {
     "name": "stderr",
     "output_type": "stream",
     "text": [
      "[160, 01:57:19, 41.63s/i]  "
     ]
    },
    {
     "name": "stdout",
     "output_type": "stream",
     "text": [
      "1.9467494\n"
     ]
    },
    {
     "ename": "LoadError",
     "evalue": "UndefVarError: r not defined",
     "output_type": "error",
     "traceback": [
      "UndefVarError: r not defined",
      "",
      "Stacktrace:",
      " [1] infinite_train_GS(dom1::Data{Tuple{Array{Float32, N} where N, Array{Int32, N} where N}}, dom2::Data{Tuple{Array{Float32, N} where N, Array{Int32, N} where N}}, dom3::Data{Tuple{Array{Float32, N} where N, Array{Int32, N} where N}}, target_dom::Data{Tuple{Array{Float32, N} where N, Array{Int32, N} where N}}, iternum::Int64)",
      "   @ Main ./In[26]:14",
      " [2] top-level scope",
      "   @ In[27]:1",
      " [3] eval",
      "   @ ./boot.jl:360 [inlined]",
      " [4] include_string(mapexpr::typeof(REPL.softscope), mod::Module, code::String, filename::String)",
      "   @ Base ./loading.jl:1116"
     ]
    }
   ],
   "source": [
    "infinite_train_GS(painting, photo, sketch, cartoon, 4)"
   ]
  },
  {
   "cell_type": "code",
   "execution_count": 32,
   "id": "a0549250",
   "metadata": {},
   "outputs": [
    {
     "name": "stdout",
     "output_type": "stream",
     "text": [
      "sign(x) = 0\n"
     ]
    },
    {
     "data": {
      "text/plain": [
       "0"
      ]
     },
     "execution_count": 32,
     "metadata": {},
     "output_type": "execute_result"
    }
   ],
   "source": [
    "x=0\n",
    "@show sign(x)"
   ]
  },
  {
   "cell_type": "code",
   "execution_count": null,
   "id": "b9da3948",
   "metadata": {},
   "outputs": [],
   "source": []
  },
  {
   "cell_type": "code",
   "execution_count": null,
   "id": "a1f7950f",
   "metadata": {},
   "outputs": [],
   "source": []
  },
  {
   "cell_type": "code",
   "execution_count": null,
   "id": "c06f413c",
   "metadata": {},
   "outputs": [],
   "source": []
  },
  {
   "cell_type": "code",
   "execution_count": 7,
   "id": "b825655e",
   "metadata": {},
   "outputs": [
    {
     "data": {
      "text/plain": [
       "trainresults_baseline (generic function with 1 method)"
      ]
     },
     "execution_count": 7,
     "metadata": {},
     "output_type": "execute_result"
    }
   ],
   "source": [
    "function trainresults_baseline(target_dom)\n",
    "r = ((baseline_model(baseline), baseline_model(target_dom), accuracy(baseline_model,data=baseline), accuracy(baseline_model,data=target_dom))\n",
    "             for x in takenth(progress(adam(baseline_model,take(cycle(baseline),num_iter))),20));\n",
    "r = reshape(collect(Float32,flatten(r)),(4,:))\n",
    "save(\"results_baseline.jld2\",\"results\",r)\n",
    "save(\"weights_baseline.jld2\",\"weights\",baseline_model)\n",
    "GC.gc(true) # To save gpu memory\n",
    "return r\n",
    "end"
   ]
  },
  {
   "cell_type": "code",
   "execution_count": 8,
   "id": "b5cbdd3a",
   "metadata": {},
   "outputs": [
    {
     "name": "stderr",
     "output_type": "stream",
     "text": [
      "┣████████████████████┫ [100.00%, 1000/1000, 16:27:21/16:27:21, 59.24s/i] \n"
     ]
    }
   ],
   "source": [
    "trainresults_baseline(cartoon)"
   ]
  },
  {
   "cell_type": "code",
   "execution_count": 11,
   "id": "c33e5482",
   "metadata": {},
   "outputs": [],
   "source": [
    "using Plots; default(fmt=:png,ls=:auto)"
   ]
  },
  {
   "cell_type": "code",
   "execution_count": null,
   "id": "6ead6d50",
   "metadata": {},
   "outputs": [],
   "source": [
    "function trainresults_baseline(target_dom)\n",
    "r = ((baseline_model(baseline), baseline_model(target_dom), accuracy(baseline_model,data=baseline), accuracy(baseline_model,data=target_dom))\n",
    "             for x in takenth(progress(adam(baseline_model,cycle(baseline))),20);\n",
    "r = reshape(collect(Float32,flatten(r)),(4,:))\n",
    "save(\"results_baseline.jld2\",\"results\",r)\n",
    "save(\"weights_baseline.jld2\",\"weights\",baseline_model)\n",
    "GC.gc(true) # To save gpu memory"
   ]
  },
  {
   "cell_type": "code",
   "execution_count": null,
   "id": "b0b02517",
   "metadata": {},
   "outputs": [],
   "source": []
  },
  {
   "cell_type": "code",
   "execution_count": null,
   "id": "4d522eed",
   "metadata": {},
   "outputs": [],
   "source": []
  },
  {
   "cell_type": "code",
   "execution_count": 13,
   "id": "55055574",
   "metadata": {},
   "outputs": [
    {
     "data": {
      "text/plain": [
       "4×50 Matrix{Float32}:\n",
       " 1.94192   1.92144   1.90207   …  1.92658   1.92648   1.92641\n",
       " 1.96549   1.95259   1.9709       1.94338   1.9407    1.94334\n",
       " 0.159951  0.157621  0.177495     0.175576  0.17585   0.175439\n",
       " 0.138455  0.139757  0.14974      0.166233  0.165365  0.165365"
      ]
     },
     "execution_count": 13,
     "metadata": {},
     "output_type": "execute_result"
    }
   ],
   "source": [
    "results = load(\"results_baseline.jld2\",\"results\")"
   ]
  },
  {
   "cell_type": "code",
   "execution_count": 15,
   "id": "3df1440b",
   "metadata": {},
   "outputs": [
    {
     "data": {
      "image/png": "[encoded data removed]"
     },
     "execution_count": 15,
     "metadata": {},
     "output_type": "execute_result"
    }
   ],
   "source": [
    "plot([results[3,:], results[4,:]],\n",
    "    labels=[\"trnLin\" \"tstLin\" ],xlabel=\"Epochs\",ylabel=\"Loss\")"
   ]
  },
  {
   "cell_type": "code",
   "execution_count": null,
   "id": "cdccfa2c",
   "metadata": {},
   "outputs": [],
   "source": []
  },
  {
   "cell_type": "code",
   "execution_count": null,
   "id": "473eb5c3",
   "metadata": {},
   "outputs": [],
   "source": []
  },
  {
   "cell_type": "code",
   "execution_count": 3,
   "id": "8e853539",
   "metadata": {},
   "outputs": [],
   "source": [
    "data_path=\"/Users/ufukaltun/Documents/koç/dersler/ku deep learning/project\"\n",
    "painting_x=load(string(data_path,\"/painting_x.jld2\"))[\"data\"];\n",
    "painting_y=load(string(data_path,\"/painting_y.jld2\"))[\"data\"];"
   ]
  },
  {
   "cell_type": "code",
   "execution_count": 11,
   "id": "bffd8afd",
   "metadata": {},
   "outputs": [
    {
     "data": {
      "text/plain": [
       "2048"
      ]
     },
     "execution_count": 11,
     "metadata": {},
     "output_type": "execute_result"
    }
   ],
   "source": [
    "total_size = Int(floor(size(painting_x,4)))"
   ]
  },
  {
   "cell_type": "code",
   "execution_count": 14,
   "id": "6e035f11",
   "metadata": {},
   "outputs": [],
   "source": [
    "using Random"
   ]
  },
  {
   "cell_type": "code",
   "execution_count": 20,
   "id": "4f9e88c7",
   "metadata": {},
   "outputs": [
    {
     "data": {
      "text/plain": [
       "2048"
      ]
     },
     "execution_count": 20,
     "metadata": {},
     "output_type": "execute_result"
    }
   ],
   "source": [
    "size(painting_x,4)"
   ]
  },
  {
   "cell_type": "code",
   "execution_count": 31,
   "id": "11382033",
   "metadata": {},
   "outputs": [],
   "source": [
    "ind = randperm(size(painting_x,4))\n",
    "painting_x = painting_x[:,:,:,ind];\n",
    "painting_y = painting_y[ind];"
   ]
  },
  {
   "cell_type": "code",
   "execution_count": 32,
   "id": "dafda1ca",
   "metadata": {},
   "outputs": [
    {
     "name": "stdout",
     "output_type": "stream",
     "text": [
      "(227, 227, 3, 204)\n",
      "(227, 227, 3, 409)\n",
      "(227, 227, 3, 1435)\n"
     ]
    }
   ],
   "source": [
    "painting_val_x = painting_x[:,:,:,1:val_size]\n",
    "painting_tst_x = painting_x[:,:,:,val_size+1:val_size+test_size]\n",
    "painting_trn_x = painting_x[:,:,:,val_size+test_size+1:end]\n",
    "println(size(painting_val_x))\n",
    "println(size(painting_tst_x))\n",
    "println(size(painting_trn_x))"
   ]
  },
  {
   "cell_type": "code",
   "execution_count": 33,
   "id": "849d682c",
   "metadata": {},
   "outputs": [
    {
     "name": "stdout",
     "output_type": "stream",
     "text": [
      "(204,)\n",
      "(409,)\n",
      "(1435,)\n"
     ]
    }
   ],
   "source": [
    "painting_val_y = painting_y[1:val_size]\n",
    "painting_tst_y = painting_y[val_size+1:val_size+test_size]\n",
    "painting_trn_y = painting_y[val_size+test_size+1:end]\n",
    "println(size(painting_val_y))\n",
    "println(size(painting_tst_y))\n",
    "println(size(painting_trn_y))"
   ]
  },
  {
   "cell_type": "code",
   "execution_count": 5,
   "id": "4e032890",
   "metadata": {},
   "outputs": [
    {
     "name": "stdout",
     "output_type": "stream",
     "text": [
      "(227, 227, 3, 2048)\n"
     ]
    }
   ],
   "source": [
    "println(size(painting_x[:,:,:,1:end]))"
   ]
  },
  {
   "cell_type": "code",
   "execution_count": 9,
   "id": "edbd1d0f",
   "metadata": {},
   "outputs": [
    {
     "name": "stdout",
     "output_type": "stream",
     "text": [
      "1433\n"
     ]
    }
   ],
   "source": [
    "println(Int(floor(size(painting_x,4)*0.7)))"
   ]
  },
  {
   "cell_type": "code",
   "execution_count": 27,
   "id": "e53c797e",
   "metadata": {},
   "outputs": [
    {
     "name": "stdout",
     "output_type": "stream",
     "text": [
      "204\n",
      "409\n"
     ]
    }
   ],
   "source": [
    "val_size = Int(floor(size(painting_x,4)*0.1))\n",
    "test_size = Int(floor(size(painting_x,4)*0.2))\n",
    "println(val_size)\n",
    "println(test_size)"
   ]
  },
  {
   "cell_type": "code",
   "execution_count": null,
   "id": "6fecb847",
   "metadata": {},
   "outputs": [],
   "source": []
  },
  {
   "cell_type": "code",
   "execution_count": null,
   "id": "c29f6a20",
   "metadata": {},
   "outputs": [],
   "source": []
  },
  {
   "cell_type": "code",
   "execution_count": null,
   "id": "c1be8ea1",
   "metadata": {},
   "outputs": [],
   "source": []
  }
 ],
 "metadata": {
  "kernelspec": {
   "display_name": "Julia 1.6.4",
   "language": "julia",
   "name": "julia-1.6"
  },
  "language_info": {
   "file_extension": ".jl",
   "mimetype": "application/julia",
   "name": "julia",
   "version": "1.6.4"
  }
 },
 "nbformat": 4,
 "nbformat_minor": 5
}
