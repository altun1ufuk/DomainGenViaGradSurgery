{
 "cells": [
  {
   "cell_type": "markdown",
   "id": "70fd1309",
   "metadata": {},
   "source": [
    "Ufuk Altun"
   ]
  },
  {
   "cell_type": "markdown",
   "id": "9adae3e8",
   "metadata": {},
   "source": [
    "using Pkg; pkg\"add CUDA Knet IterTools FileIO JLD2 Images\""
   ]
  },
  {
   "cell_type": "code",
   "execution_count": 1,
   "id": "a04cb7f1",
   "metadata": {},
   "outputs": [
    {
     "data": {
      "text/plain": [
       "PACS"
      ]
     },
     "execution_count": 1,
     "metadata": {},
     "output_type": "execute_result"
    }
   ],
   "source": [
    "include(\"models.jl\")\n",
    "include(\"preprocess.jl\")"
   ]
  },
  {
   "cell_type": "code",
   "execution_count": 2,
   "id": "85515712",
   "metadata": {},
   "outputs": [],
   "source": [
    "batchsize = 128\n",
    "atype = Array{Float32}   #Array{Float32}   CuArray{Float32}\n",
    "data_path = \"/Users/ufukaltun/Documents/koç/dersler/ku deep learning/project\";\n",
    "target = \"cartoon\"\n",
    "\n",
    "painting, cartoon, photo, sketch, baseline = PACS(data_path, batchsize, atype, target);"
   ]
  },
  {
   "cell_type": "code",
   "execution_count": 3,
   "id": "21405015",
   "metadata": {},
   "outputs": [
    {
     "data": {
      "text/plain": [
       "19-element Data{Tuple{Array{Float32, N} where N, Array{Int32, N} where N}}"
      ]
     },
     "execution_count": 3,
     "metadata": {},
     "output_type": "execute_result"
    }
   ],
   "source": [
    "baseline"
   ]
  },
  {
   "cell_type": "code",
   "execution_count": 4,
   "id": "be3fd6e5",
   "metadata": {},
   "outputs": [],
   "source": [
    "baseline_model =  Chain2( Conv2(11, 11, 3, 64; padding=2, stride=4),\n",
    "                         Conv2( 5,  5, 64, 192; padding=2),\n",
    "                         Conv1( 3,  3,  192, 384; padding=1),\n",
    "                         Conv1( 3,  3,  384, 256; padding=1),\n",
    "                         Conv2( 3,  3,  256, 256; padding=1),\n",
    "                         Dense(256*6*6, 4096,pdrop=0.5),\n",
    "                         Dense(4096, 4096, pdrop=0.5),\n",
    "                         Dense(4096, 7, identity) ; λ1=5e-5);"
   ]
  },
  {
   "cell_type": "code",
   "execution_count": 5,
   "id": "d6081c7d",
   "metadata": {},
   "outputs": [],
   "source": [
    "GS_model =  Chain2( Conv2(11, 11, 3, 64; padding=2, stride=4),\n",
    "                         Conv2( 5,  5, 64, 192; padding=2),\n",
    "                         Conv1( 3,  3,  192, 384; padding=1),\n",
    "                         Conv1( 3,  3,  384, 256; padding=1),\n",
    "                         Conv2( 3,  3,  256, 256; padding=1),\n",
    "                         Dense(256*6*6, 4096,pdrop=0.5),\n",
    "                         Dense(4096, 4096, pdrop=0.5),\n",
    "                         Dense(4096, 7, identity) ; λ1=5e-5);"
   ]
  },
  {
   "cell_type": "code",
   "execution_count": 6,
   "id": "07953c29",
   "metadata": {},
   "outputs": [],
   "source": [
    "num_iter = 1000;\n",
    "regterm = 5e-5;\n",
    "lrterm = 1e-5;"
   ]
  },
  {
   "cell_type": "code",
   "execution_count": 7,
   "id": "6b8b64c4",
   "metadata": {},
   "outputs": [
    {
     "data": {
      "text/plain": [
       "trainresults_baseline (generic function with 1 method)"
      ]
     },
     "execution_count": 7,
     "metadata": {},
     "output_type": "execute_result"
    }
   ],
   "source": [
    "function trainresults_baseline(target_dom)\n",
    "r = ((baseline_model(baseline), baseline_model(target_dom), accuracy(baseline_model,data=baseline), accuracy(baseline_model,data=target_dom))\n",
    "             for x in takenth(progress(adam(baseline_model,take(cycle(baseline),num_iter))),20));\n",
    "r = reshape(collect(Float32,flatten(r)),(4,:))\n",
    "save(\"results_baseline.jld2\",\"results\",r)\n",
    "save(\"weights_baseline.jld2\",\"weights\",baseline_model)\n",
    "GC.gc(true) # To save gpu memory\n",
    "end"
   ]
  },
  {
   "cell_type": "code",
   "execution_count": null,
   "id": "82e8c42f",
   "metadata": {},
   "outputs": [
    {
     "name": "stderr",
     "output_type": "stream",
     "text": [
      "┣▏                   ┫ [0.90%, 9/1000, 05:22/09:56:30, 31.83s/i] "
     ]
    }
   ],
   "source": [
    "trainresults_baseline(cartoon)"
   ]
  },
  {
   "cell_type": "code",
   "execution_count": null,
   "id": "7360af28",
   "metadata": {},
   "outputs": [],
   "source": []
  }
 ],
 "metadata": {
  "kernelspec": {
   "display_name": "Julia 1.6.4",
   "language": "julia",
   "name": "julia-1.6"
  },
  "language_info": {
   "file_extension": ".jl",
   "mimetype": "application/julia",
   "name": "julia",
   "version": "1.6.4"
  }
 },
 "nbformat": 4,
 "nbformat_minor": 5
}
