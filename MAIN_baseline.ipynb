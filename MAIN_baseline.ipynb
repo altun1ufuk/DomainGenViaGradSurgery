{
  "nbformat": 4,
  "nbformat_minor": 0,
  "metadata": {
    "colab": {
      "name": "Julia_Colab_Notebook_Template.ipynb",
      "provenance": [],
      "collapsed_sections": []
    },
    "kernelspec": {
      "display_name": "Julia",
      "language": "julia",
      "name": "julia"
    },
    "language_info": {
      "file_extension": ".jl",
      "mimetype": "application/julia",
      "name": "julia"
    },
    "accelerator": "GPU"
  },
  "cells": [
    {
      "cell_type": "markdown",
      "metadata": {
        "id": "tQ1r1bbb0yBv"
      },
      "source": [
        "Domain Generalization via Gradient Surgery\n",
        "\n",
        "Ufuk Altun\n",
        "\n",
        "The Baseline Model"
      ]
    },
    {
      "cell_type": "markdown",
      "metadata": {
        "id": "ZM0nzuQbcbtJ"
      },
      "source": [
        "**Install Julia kernel to Colab**"
      ]
    },
    {
      "cell_type": "code",
      "metadata": {
        "id": "GIeFXS0F0zww"
      },
      "source": [
        "%%shell\n",
        "set -e\n",
        "\n",
        "#---------------------------------------------------#\n",
        "JULIA_VERSION=\"1.6.3\" # any version ≥ 0.7.0\n",
        "JULIA_PACKAGES=\"IJulia BenchmarkTools Plots\"\n",
        "JULIA_PACKAGES_IF_GPU=\"CUDA\" # or CuArrays for older Julia versions\n",
        "JULIA_NUM_THREADS=2\n",
        "#---------------------------------------------------#\n",
        "\n",
        "if [ -n \"$COLAB_GPU\" ] && [ -z `which julia` ]; then\n",
        "  # Install Julia\n",
        "  JULIA_VER=`cut -d '.' -f -2 <<< \"$JULIA_VERSION\"`\n",
        "  echo \"Installing Julia $JULIA_VERSION on the current Colab Runtime...\"\n",
        "  BASE_URL=\"https://julialang-s3.julialang.org/bin/linux/x64\"\n",
        "  URL=\"$BASE_URL/$JULIA_VER/julia-$JULIA_VERSION-linux-x86_64.tar.gz\"\n",
        "  wget -nv $URL -O /tmp/julia.tar.gz # -nv means \"not verbose\"\n",
        "  tar -x -f /tmp/julia.tar.gz -C /usr/local --strip-components 1\n",
        "  rm /tmp/julia.tar.gz\n",
        "\n",
        "  # Install Packages\n",
        "  if [ \"$COLAB_GPU\" = \"1\" ]; then\n",
        "      JULIA_PACKAGES=\"$JULIA_PACKAGES $JULIA_PACKAGES_IF_GPU\"\n",
        "  fi\n",
        "  for PKG in `echo $JULIA_PACKAGES`; do\n",
        "    echo \"Installing Julia package $PKG...\"\n",
        "    julia -e 'using Pkg; pkg\"add '$PKG'; precompile;\"' &> /dev/null\n",
        "  done\n",
        "\n",
        "  # Install kernel and rename it to \"julia\"\n",
        "  echo \"Installing IJulia kernel...\"\n",
        "  julia -e 'using IJulia; IJulia.installkernel(\"julia\", env=Dict(\n",
        "      \"JULIA_NUM_THREADS\"=>\"'\"$JULIA_NUM_THREADS\"'\"))'\n",
        "  KERNEL_DIR=`julia -e \"using IJulia; print(IJulia.kerneldir())\"`\n",
        "  KERNEL_NAME=`ls -d \"$KERNEL_DIR\"/julia*`\n",
        "  mv -f $KERNEL_NAME \"$KERNEL_DIR\"/julia  \n",
        "\n",
        "  echo ''\n",
        "  echo \"Success! Please reload this page and jump to the next section.\"\n",
        "fi"
      ],
      "execution_count": null,
      "outputs": []
    },
    {
      "cell_type": "markdown",
      "metadata": {
        "id": "-OS3Ac017T1i"
      },
      "source": [
        "**Check the installation**"
      ]
    },
    {
      "cell_type": "code",
      "metadata": {
        "id": "EEzvvzCl1i0F"
      },
      "source": [
        "versioninfo()"
      ],
      "execution_count": null,
      "outputs": []
    },
    {
      "cell_type": "markdown",
      "metadata": {
        "id": "OFDz6svZyv0j"
      },
      "source": [
        "**Install Knet and other packages**"
      ]
    },
    {
      "cell_type": "code",
      "metadata": {
        "id": "cg1Ls-SnyxZc"
      },
      "source": [
        "using Pkg; \n",
        "pkg\"add Knet IterTools MLDatasets FileIO Images CUDA\""
      ],
      "execution_count": null,
      "outputs": []
    },
    {
      "cell_type": "markdown",
      "metadata": {
        "id": "HSW2_kdMyxgK"
      },
      "source": [
        "**Download VLCS dataset**"
      ]
    },
    {
      "cell_type": "code",
      "metadata": {
        "id": "UcMLZbtQ0uyE",
        "colab": {
          "base_uri": "https://localhost:8080/"
        },
        "outputId": "51ba10e6-c0b4-43aa-cbec-080f97b4b3cc"
      },
      "source": [
        "run(`gdown --id 1skwblH1_okBwxWxmRsp9_qi15hyPpxg8`)"
      ],
      "execution_count": 3,
      "outputs": [
        {
          "output_type": "stream",
          "name": "stderr",
          "text": [
            "Downloading...\n",
            "From: https://drive.google.com/uc?id=1skwblH1_okBwxWxmRsp9_qi15hyPpxg8\n",
            "To: /content/VLCS.tar.gz\n",
            "100%|#####################################| 3.84G/3.84G [01:14<00:00, 51.4MB/s]\n"
          ]
        },
        {
          "output_type": "execute_result",
          "data": {
            "text/plain": [
              "Process(`\u001b[4mgdown\u001b[24m \u001b[4m--id\u001b[24m \u001b[4m1skwblH1_okBwxWxmRsp9_qi15hyPpxg8\u001b[24m`, ProcessExited(0))"
            ]
          },
          "metadata": {},
          "execution_count": 3
        }
      ]
    },
    {
      "cell_type": "markdown",
      "metadata": {
        "id": "L3yhLVbydRcP"
      },
      "source": [
        "**Unzip the dataset**"
      ]
    },
    {
      "cell_type": "code",
      "metadata": {
        "id": "jAk25la371_f",
        "colab": {
          "base_uri": "https://localhost:8080/"
        },
        "outputId": "26a724b1-6d43-4f28-e11a-2c17b7203a4f"
      },
      "source": [
        "#mkdir(\"/content/VLCS_data\")\n",
        "run(`tar xzf /content/VLCS.tar.gz`)"
      ],
      "execution_count": 4,
      "outputs": [
        {
          "output_type": "execute_result",
          "data": {
            "text/plain": [
              "Process(`\u001b[4mtar\u001b[24m \u001b[4mxzf\u001b[24m \u001b[4m/content/VLCS.tar.gz\u001b[24m`, ProcessExited(0))"
            ]
          },
          "metadata": {},
          "execution_count": 4
        }
      ]
    },
    {
      "cell_type": "markdown",
      "metadata": {
        "id": "zOrrnCtXdgv7"
      },
      "source": [
        "**Load packages**"
      ]
    },
    {
      "cell_type": "code",
      "metadata": {
        "id": "Z-yHmg8N-ayo"
      },
      "source": [
        "ENV[\"COLUMNS\"]=72\n",
        "using Base.Iterators: flatten\n",
        "using IterTools: ncycle, takenth\n",
        "using Statistics: mean\n",
        "using MLDatasets: MNIST\n",
        "using FileIO: load, save\n",
        "using CUDA: CUDA, CuArray # functional\n",
        "using Knet: Knet, conv4, pool, mat, nll, accuracy, progress, sgd, param, param0, dropout, relu, minibatch, Data\n",
        "using Knet, IterTools\n",
        "using Images"
      ],
      "execution_count": 5,
      "outputs": []
    },
    {
      "cell_type": "markdown",
      "metadata": {
        "id": "JaxPrnm40u-N"
      },
      "source": [
        "**Function definition of read_data that reads data by looping through folders, resizes and loads as xtrn ytrn variables**\n",
        "\n",
        "**Inspired from the work of Ege Kesim: \"Facial Expression Recognition Using Weighted Mixture Deep Neural Network Based on Double-Channel Facial Images\" from example projects**"
      ]
    },
    {
      "cell_type": "code",
      "metadata": {
        "id": "sRVWmBQWdsLx",
        "colab": {
          "base_uri": "https://localhost:8080/"
        },
        "outputId": "4adf5f14-dece-4394-c438-7eb8016b5aa5"
      },
      "source": [
        "function read_data(data_path,image_size,ssize)\n",
        "i=1\n",
        "first_r=true\n",
        "y=[]\n",
        "x=0\n",
        "folders=readdir(data_path)\n",
        "for class in folders\n",
        "    println(\"Class number \",i,\" \",class)\n",
        "    directory=string(data_path,\"/\",class)\n",
        "    counter = 0\n",
        "    for img in readdir(directory)\n",
        "        arr_img=load(string(directory,\"/\",img))\n",
        "        #print(size(arr_img))\n",
        "        if size(arr_img) != image_size\n",
        "          arr_img = imresize(arr_img, image_size);\n",
        "        end\n",
        "        arr_img=channelview(arr_img)\n",
        "        arr_img = permutedims(arr_img, (2, 3, 1))\n",
        "        label=zeros(size(folders))\n",
        "        label[i]=1\n",
        "        if first_r==false\n",
        "            x=cat(x,arr_img,dims=4)\n",
        "        else\n",
        "            x=cat(arr_img,dims=4)\n",
        "        end\n",
        "        push!(y,i)\n",
        "        first_r=false\n",
        "        counter = counter + 1;\n",
        "        if counter == ssize\n",
        "            break\n",
        "        end\n",
        "    end\n",
        "    i+=1\n",
        "    end\n",
        "println(size(y))\n",
        "println(size(x))\n",
        "return x,y;\n",
        "end"
      ],
      "execution_count": 6,
      "outputs": [
        {
          "output_type": "execute_result",
          "data": {
            "text/plain": [
              "read_data (generic function with 1 method)"
            ]
          },
          "metadata": {},
          "execution_count": 6
        }
      ]
    },
    {
      "cell_type": "markdown",
      "metadata": {
        "id": "NGzWOqRZdrY_"
      },
      "source": [
        "**Read data by looping through folders, resize and load as xtrn ytrn variables**"
      ]
    },
    {
      "cell_type": "code",
      "metadata": {
        "id": "nt6vfMmCeZJA",
        "colab": {
          "base_uri": "https://localhost:8080/"
        },
        "outputId": "93855d9e-f0ff-4144-c09b-f013c3060334"
      },
      "source": [
        "xtrn,ytrn=read_data(\"VLCS/SUN09\",(227,227), 400);\n",
        "xtst,ytst=read_data(\"VLCS/SUN09\",(227,227), 100);\n",
        "\n",
        "#xtrn,ytrn = MNIST.traindata(Float32); ytrn[ytrn.==0] .= 10\n",
        "#xtst,ytst = MNIST.testdata(Float32);  ytst[ytst.==0] .= 10\n",
        "\n",
        "#dtrn = minibatch(xtrn, ytrn, 100; xsize = (28,28,1,:))\n",
        "#dtst = minibatch(xtst, ytst, 100; xsize = (28,28,1,:));"
      ],
      "execution_count": 8,
      "outputs": [
        {
          "output_type": "stream",
          "name": "stdout",
          "text": [
            "Class number 1 bird\n",
            "Class number 2 car\n",
            "Class number 3 chair\n",
            "Class number 4 dog\n",
            "Class number 5 person\n",
            "(1250,)\n",
            "(227, 227, 3, 1250)\n",
            "Class number 1 bird\n",
            "Class number 2 car\n",
            "Class number 3 chair\n",
            "Class number 4 dog\n",
            "Class number 5 person\n",
            "(350,)\n",
            "(227, 227, 3, 350)\n"
          ]
        }
      ]
    },
    {
      "cell_type": "markdown",
      "metadata": {
        "id": "3EIPgFKZfvUV"
      },
      "source": [
        "**`Save variables that contain resized data`**"
      ]
    },
    {
      "cell_type": "code",
      "metadata": {
        "id": "jKAnyHtzfviU"
      },
      "source": [
        "save(\"xtrn.jld2\",\"data\",xtrn)\n",
        "save(\"ytrn.jld2\",\"data\",ytrn)\n",
        "save(\"xtst.jld2\",\"data\",xtst)\n",
        "save(\"ytst.jld2\",\"data\",ytst)"
      ],
      "execution_count": 9,
      "outputs": []
    },
    {
      "cell_type": "markdown",
      "metadata": {
        "id": "fvVD5oovgQxu"
      },
      "source": [
        "**`Load variables that contain resized data`**"
      ]
    },
    {
      "cell_type": "code",
      "metadata": {
        "id": "ryQlL49sgQ-Z"
      },
      "source": [
        "xtrn=load(\"xtrn.jld2\")[\"data\"];\n",
        "ytrn=load(\"ytrn.jld2\")[\"data\"];\n",
        "xtst=load(\"xtst.jld2\")[\"data\"];\n",
        "ytst=load(\"ytst.jld2\")[\"data\"];"
      ],
      "execution_count": null,
      "outputs": []
    },
    {
      "cell_type": "markdown",
      "metadata": {
        "id": "m3Hx6t6JgZX4"
      },
      "source": [
        "**Take minibatches from dataset**\n",
        "\n",
        "(Knet.minibatch function is called since base minibatch function is unable to take 3 channel input)"
      ]
    },
    {
      "cell_type": "code",
      "metadata": {
        "id": "jvTmCpJJgZh6"
      },
      "source": [
        "dtrn=Knet.minibatch(xtrn,ytrn,100,xtype=Array{Float32},ytype=Array{Int32});\n",
        "dtst=Knet.minibatch(xtst,ytst,100,xtype=Array{Float32},ytype=Array{Int32});"
      ],
      "execution_count": 10,
      "outputs": []
    },
    {
      "cell_type": "markdown",
      "metadata": {
        "id": "TESX1-Jfg_kh"
      },
      "source": [
        "**Function definition of trainresults that initiates training and outputs loss and accuracy**"
      ]
    },
    {
      "cell_type": "code",
      "metadata": {
        "id": "16oPoXF7g_u9",
        "colab": {
          "base_uri": "https://localhost:8080/"
        },
        "outputId": "7fc499f4-13a7-4a5a-9e44-2d8d6cfb90b8"
      },
      "source": [
        "# For running experiments\n",
        "function trainresults(file,model; o...)\n",
        "    if (print(\"Train from scratch? \"); readline()[1]=='y')\n",
        "        r = ((model(dtrn), model(dtst), 1-accuracy(model,dtrn), 1-accuracy(model,dtst))\n",
        "             for x in takenth(progress(sgd(model,ncycle(dtrn,100))),length(dtrn)))\n",
        "        r = reshape(collect(Float32,flatten(r)),(4,:))\n",
        "        save(file,\"results\",r)\n",
        "        GC.gc(true) # To save gpu memory\n",
        "    else\n",
        "        isfile(file) || download(\"https://github.com/denizyuret/Knet.jl/releases/download/v1.4.9/$file\",file)\n",
        "        r = load(file,\"results\")\n",
        "    end\n",
        "    println(minimum(r,dims=2))\n",
        "    return r\n",
        "end"
      ],
      "execution_count": 11,
      "outputs": [
        {
          "output_type": "execute_result",
          "data": {
            "text/plain": [
              "trainresults (generic function with 1 method)"
            ]
          },
          "metadata": {},
          "execution_count": 11
        }
      ]
    },
    {
      "cell_type": "markdown",
      "metadata": {
        "id": "04Aq2cVmhWbZ"
      },
      "source": [
        "**Definition of Convolution layer, Dense layer and Chain that chains layers**"
      ]
    },
    {
      "cell_type": "code",
      "metadata": {
        "id": "ulPAg2RWhWls"
      },
      "source": [
        "# Define a convolutional layer:\n",
        "struct Conv; w; b; f; p; end\n",
        "(c::Conv)(x) = c.f.(pool(conv4(c.w, dropout(x,c.p)) .+ c.b))\n",
        "Conv(w1::Int,w2::Int,cx::Int,cy::Int,f=relu;pdrop=0) = Conv(param(w1,w2,cx,cy), param0(1,1,cy,1), f, pdrop)\n",
        "\n",
        "# Redefine dense layer (See mlp.ipynb):\n",
        "struct Dense; w; b; f; p; end\n",
        "(d::Dense)(x) = d.f.(d.w * mat(dropout(x,d.p)) .+ d.b) # mat reshapes 4-D tensor to 2-D matrix so we can use matmul\n",
        "Dense(i::Int,o::Int,f=relu;pdrop=0) = Dense(param(o,i), param0(o), f, pdrop)\n",
        "\n",
        "# Let's define a chain of layers\n",
        "struct Chain\n",
        "    layers\n",
        "    Chain(layers...) = new(layers)\n",
        "end\n",
        "(c::Chain)(x) = (for l in c.layers; x = l(x); end; x)\n",
        "(c::Chain)(x,y) = nll(c(x),y)\n",
        "(c::Chain)(d::Data) = mean(c(x,y) for (x,y) in d)"
      ],
      "execution_count": 12,
      "outputs": []
    },
    {
      "cell_type": "markdown",
      "metadata": {
        "id": "GQ1O3x4PhtEO"
      },
      "source": [
        "**Definition of a baseline model**"
      ]
    },
    {
      "cell_type": "code",
      "metadata": {
        "id": "_fl5IiByhtNU",
        "colab": {
          "base_uri": "https://localhost:8080/"
        },
        "outputId": "b53b3159-5360-4a15-83ad-fd3dbd995eb0"
      },
      "source": [
        "baseline_model =   Chain(Conv(3,3,3,3), \n",
        "                Dense(112*112*3,5,identity,pdrop=0.3))"
      ],
      "execution_count": 13,
      "outputs": [
        {
          "output_type": "execute_result",
          "data": {
            "text/plain": [
              "Chain((Conv(P(Array{Float32, 4}(3,3,3,3)), P(Array{Float32, 4}(1,1,3,1)), Knet.Ops20.relu, 0), Dense(P(Matrix{Float32}(5,37632)), P(Vector{Float32}(5)), identity, 0.3)))"
            ]
          },
          "metadata": {},
          "execution_count": 13
        }
      ]
    },
    {
      "cell_type": "markdown",
      "metadata": {
        "id": "0WFkkkVmh_KE"
      },
      "source": [
        "**Training and saving the baseline model**"
      ]
    },
    {
      "cell_type": "code",
      "metadata": {
        "id": "AHTATaNyh_TJ",
        "colab": {
          "base_uri": "https://localhost:8080/"
        },
        "outputId": "4e28fde9-e5fc-4d8a-f54d-aef89e2ecdb7"
      },
      "source": [
        "baseline = trainresults(\"baseline.jld2\", baseline_model);"
      ],
      "execution_count": 14,
      "outputs": [
        {
          "name": "stdout",
          "output_type": "stream",
          "text": [
            "Train from scratch? stdin> y\n"
          ]
        },
        {
          "output_type": "stream",
          "name": "stderr",
          "text": [
            "┣▏                   ┫ [0.92%, 11/1200, 00:27/49:39, 1.35i/s] ┌ Warning: accuracy(model,data; o...) is deprecated, please use accuracy(model; data=data, o...)\n",
            "└ @ Knet.Ops20 /root/.julia/packages/Knet/RCkV0/src/ops20/loss.jl:205\n",
            "┣████████████████████┫ [100.00%, 1200/1200, 29:08/29:08, 1.46s/i] \n"
          ]
        },
        {
          "output_type": "stream",
          "name": "stdout",
          "text": [
            "Float32[1.2572732; 1.4880441; 0.6666667; 0.6666667]\n"
          ]
        }
      ]
    },
    {
      "cell_type": "markdown",
      "metadata": {
        "id": "NefEVYdOiQ3Q"
      },
      "source": [
        "**Plotting the loss results**"
      ]
    },
    {
      "cell_type": "code",
      "metadata": {
        "id": "wA6KAFPniRCi",
        "colab": {
          "base_uri": "https://localhost:8080/",
          "height": 417
        },
        "outputId": "4208fafc-8edd-4b79-9813-e87c23d0c033"
      },
      "source": [
        "using Plots; default(fmt=:png,ls=:auto)\n",
        "\n",
        "# Comparison to MLP shows faster convergence, better generalization\n",
        "plot([baseline[1,:], baseline[2,:]],ylim=(0.0,2),\n",
        "     labels=[\"trnBaseline\" \"tstBaseline\"],xlabel=\"Epochs\",ylabel=\"Loss\")"
      ],
      "execution_count": 16,
      "outputs": [
        {
          "output_type": "execute_result",
          "data": {
            "image/png": "[encoded data removed]"
          },
          "metadata": {},
          "execution_count": 16
        }
      ]
    }
  ]
}