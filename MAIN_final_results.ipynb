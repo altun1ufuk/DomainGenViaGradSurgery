{
 "cells": [
  {
   "cell_type": "markdown",
   "id": "70fd1309",
   "metadata": {},
   "source": [
    "Ufuk Altun"
   ]
  },
  {
   "cell_type": "markdown",
   "id": "9adae3e8",
   "metadata": {},
   "source": [
    "using Pkg; pkg\"add CUDA Knet IterTools FileIO JLD2 Images Plots PyCall\""
   ]
  },
  {
   "cell_type": "code",
   "execution_count": 1,
   "id": "1345dd52",
   "metadata": {},
   "outputs": [],
   "source": [
    "using PyCall\n",
    "@pyimport torch"
   ]
  },
  {
   "cell_type": "code",
   "execution_count": 2,
   "id": "1b1c2919",
   "metadata": {},
   "outputs": [],
   "source": [
    "include(\"models.jl\");\n",
    "include(\"training.jl\");\n",
    "include(\"optimizer.jl\");"
   ]
  },
  {
   "cell_type": "markdown",
   "id": "6127b255",
   "metadata": {},
   "source": [
    "## Generate an alexnet model"
   ]
  },
  {
   "cell_type": "code",
   "execution_count": 3,
   "id": "e6d667e0",
   "metadata": {},
   "outputs": [],
   "source": [
    "model = generate_alexnet_model(7; pretrained = true);\n",
    "# 7 for PACS\n",
    "# 5 for VLCS"
   ]
  },
  {
   "cell_type": "markdown",
   "id": "e952ad86",
   "metadata": {},
   "source": [
    "#### Set optimizer of each parameter to Adam with weight decay=5e-5."
   ]
  },
  {
   "cell_type": "code",
   "execution_count": 4,
   "id": "065ef923",
   "metadata": {},
   "outputs": [
    {
     "name": "stdout",
     "output_type": "stream",
     "text": [
      "(11, 11, 3, 64)\n",
      "(1, 1, 64, 1)\n",
      "(5, 5, 64, 192)\n",
      "(1, 1, 192, 1)\n",
      "(3, 3, 192, 384)\n",
      "(1, 1, 384, 1)\n",
      "(3, 3, 384, 256)\n",
      "(1, 1, 256, 1)\n",
      "(3, 3, 256, 256)\n",
      "(1, 1, 256, 1)\n",
      "(4096, 9216)\n",
      "(4096,)\n",
      "(4096, 4096)\n",
      "(4096,)\n",
      "(7, 4096)\n",
      "(7,)\n"
     ]
    }
   ],
   "source": [
    "weight_decay = 5e-5\n",
    "wdecay_func = function(w)\n",
    "    length(size(w))==1 ? 0 : weight_decay\n",
    "end\n",
    "for param in params(model)\n",
    "    param.opt = AdamW(; lr=1e-5, eps=1e-8, wdecayfunc=wdecay_func, scheduler=nothing)\n",
    "    println(size(param))\n",
    "end"
   ]
  },
  {
   "cell_type": "markdown",
   "id": "80d439ef",
   "metadata": {},
   "source": [
    "## Hyperparameters"
   ]
  },
  {
   "cell_type": "code",
   "execution_count": 5,
   "id": "2953cd8b",
   "metadata": {},
   "outputs": [],
   "source": [
    "num_iter=600\n",
    "check_freq=20\n",
    "batchsize = 128\n",
    "atype = Array{Float32}\n",
    "data_path = \"/Users/ufukaltun/Documents/koç/dersler/ku deep learning/project/data\";"
   ]
  },
  {
   "cell_type": "markdown",
   "id": "ce1e8d8b",
   "metadata": {},
   "source": [
    "## Training of the Baseline model for \"PACS\" dataset and \"cartoon\" target domain"
   ]
  },
  {
   "cell_type": "code",
   "execution_count": 6,
   "id": "eaee9bd3",
   "metadata": {},
   "outputs": [
    {
     "name": "stdout",
     "output_type": "stream",
     "text": [
      "Datasets are loaded\n"
     ]
    },
    {
     "name": "stderr",
     "output_type": "stream",
     "text": [
      "\r",
      "[1, 00:01, 1.95i/s] "
     ]
    },
    {
     "name": "stdout",
     "output_type": "stream",
     "text": [
      "First batch is trained successfully\n"
     ]
    },
    {
     "name": "stderr",
     "output_type": "stream",
     "text": [
      "[20, 11:31, 35.00s/i] "
     ]
    },
    {
     "name": "stdout",
     "output_type": "stream",
     "text": [
      "Train loss: 1.6787204  Val loss: 1.6856421  Train acc: 0.33874198717948717  Val acc: 0.34375\n"
     ]
    },
    {
     "name": "stderr",
     "output_type": "stream",
     "text": [
      "[40, 28:32, 34.39s/i]  "
     ]
    },
    {
     "name": "stdout",
     "output_type": "stream",
     "text": [
      "Train loss: 1.3565294  Val loss: 1.3838557  Train acc: 0.4901842948717949  Val acc: 0.4739583333333333\n"
     ]
    },
    {
     "name": "stderr",
     "output_type": "stream",
     "text": [
      "[60, 45:05, 33.85s/i]  "
     ]
    },
    {
     "name": "stdout",
     "output_type": "stream",
     "text": [
      "Train loss: 1.1438382  Val loss: 1.2210327  Train acc: 0.5801282051282052  Val acc: 0.5416666666666666\n"
     ]
    },
    {
     "name": "stderr",
     "output_type": "stream",
     "text": [
      "[80, 01:01:40, 34.14s/i] "
     ]
    },
    {
     "name": "stdout",
     "output_type": "stream",
     "text": [
      "Train loss: 0.98494685  Val loss: 1.0410441  Train acc: 0.6418269230769231  Val acc: 0.6015625\n"
     ]
    },
    {
     "name": "stderr",
     "output_type": "stream",
     "text": [
      "[100, 01:18:05, 33.25s/i] "
     ]
    },
    {
     "name": "stdout",
     "output_type": "stream",
     "text": [
      "Train loss: 0.8539039  Val loss: 0.9607052  Train acc: 0.6925080128205128  Val acc: 0.625\n"
     ]
    },
    {
     "name": "stderr",
     "output_type": "stream",
     "text": [
      "[120, 01:34:49, 36.52s/i]  "
     ]
    },
    {
     "name": "stdout",
     "output_type": "stream",
     "text": [
      "Train loss: 0.7410246  Val loss: 0.92725563  Train acc: 0.7327724358974359  Val acc: 0.6875\n"
     ]
    },
    {
     "name": "stderr",
     "output_type": "stream",
     "text": [
      "[140, 01:51:21, 33.85s/i]  "
     ]
    },
    {
     "name": "stdout",
     "output_type": "stream",
     "text": [
      "Train loss: 0.66513884  Val loss: 0.7364555  Train acc: 0.7654246794871795  Val acc: 0.71875\n"
     ]
    },
    {
     "name": "stderr",
     "output_type": "stream",
     "text": [
      "[160, 02:07:56, 36.07s/i]  "
     ]
    },
    {
     "name": "stdout",
     "output_type": "stream",
     "text": [
      "Train loss: 0.5903172  Val loss: 0.7411912  Train acc: 0.7950721153846154  Val acc: 0.7005208333333334\n"
     ]
    },
    {
     "name": "stderr",
     "output_type": "stream",
     "text": [
      "[180, 02:24:30, 35.02s/i]  "
     ]
    },
    {
     "name": "stdout",
     "output_type": "stream",
     "text": [
      "Train loss: 0.53600025  Val loss: 0.7625713  Train acc: 0.8125  Val acc: 0.7239583333333334\n"
     ]
    },
    {
     "name": "stderr",
     "output_type": "stream",
     "text": [
      "[200, 02:41:02, 36.29s/i]  "
     ]
    },
    {
     "name": "stdout",
     "output_type": "stream",
     "text": [
      "Train loss: 0.48451513  Val loss: 0.76085895  Train acc: 0.8293269230769231  Val acc: 0.7239583333333334\n"
     ]
    },
    {
     "name": "stderr",
     "output_type": "stream",
     "text": [
      "[220, 02:57:38, 35.63s/i]  "
     ]
    },
    {
     "name": "stdout",
     "output_type": "stream",
     "text": [
      "Train loss: 0.43955034  Val loss: 0.67020273  Train acc: 0.8509615384615384  Val acc: 0.7395833333333334\n"
     ]
    },
    {
     "name": "stderr",
     "output_type": "stream",
     "text": [
      "[240, 03:14:19, 46.94s/i]  "
     ]
    },
    {
     "name": "stdout",
     "output_type": "stream",
     "text": [
      "Train loss: 0.39464548  Val loss: 0.68642014  Train acc: 0.8611778846153846  Val acc: 0.7578125\n"
     ]
    },
    {
     "name": "stderr",
     "output_type": "stream",
     "text": [
      "[260, 03:30:49, 34.43s/i]  "
     ]
    },
    {
     "name": "stdout",
     "output_type": "stream",
     "text": [
      "Train loss: 0.36247984  Val loss: 0.6659321  Train acc: 0.8760016025641025  Val acc: 0.7760416666666666\n"
     ]
    },
    {
     "name": "stderr",
     "output_type": "stream",
     "text": [
      "[280, 03:47:39, 33.50s/i]  "
     ]
    },
    {
     "name": "stdout",
     "output_type": "stream",
     "text": [
      "Train loss: 0.32558644  Val loss: 0.5723179  Train acc: 0.8912259615384616  Val acc: 0.78125\n"
     ]
    },
    {
     "name": "stderr",
     "output_type": "stream",
     "text": [
      "[300, 04:04:19, 37.67s/i]  "
     ]
    },
    {
     "name": "stdout",
     "output_type": "stream",
     "text": [
      "Train loss: 0.2981225  Val loss: 0.59987575  Train acc: 0.9008413461538461  Val acc: 0.7786458333333334\n"
     ]
    },
    {
     "name": "stderr",
     "output_type": "stream",
     "text": [
      "[320, 04:20:48, 32.93s/i]  "
     ]
    },
    {
     "name": "stdout",
     "output_type": "stream",
     "text": [
      "Train loss: 0.27385554  Val loss: 0.562179  Train acc: 0.9108573717948718  Val acc: 0.7708333333333334\n"
     ]
    },
    {
     "name": "stderr",
     "output_type": "stream",
     "text": [
      "[340, 04:37:18, 33.64s/i]  "
     ]
    },
    {
     "name": "stdout",
     "output_type": "stream",
     "text": [
      "Train loss: 0.24314521  Val loss: 0.6063965  Train acc: 0.9206730769230769  Val acc: 0.7890625\n"
     ]
    },
    {
     "name": "stderr",
     "output_type": "stream",
     "text": [
      "[360, 04:53:47, 33.60s/i]  "
     ]
    },
    {
     "name": "stdout",
     "output_type": "stream",
     "text": [
      "Train loss: 0.2231558  Val loss: 0.57355493  Train acc: 0.9290865384615384  Val acc: 0.8020833333333334\n"
     ]
    },
    {
     "name": "stderr",
     "output_type": "stream",
     "text": [
      "[380, 05:10:24, 33.44s/i]  "
     ]
    },
    {
     "name": "stdout",
     "output_type": "stream",
     "text": [
      "Train loss: 0.2092831  Val loss: 0.55476475  Train acc: 0.9332932692307693  Val acc: 0.7994791666666666\n"
     ]
    },
    {
     "name": "stderr",
     "output_type": "stream",
     "text": [
      "[400, 05:26:45, 34.87s/i]  "
     ]
    },
    {
     "name": "stdout",
     "output_type": "stream",
     "text": [
      "Train loss: 0.18605988  Val loss: 0.62910813  Train acc: 0.9407051282051282  Val acc: 0.8177083333333334\n"
     ]
    },
    {
     "name": "stderr",
     "output_type": "stream",
     "text": [
      "[420, 05:43:50, 33.95s/i]  "
     ]
    },
    {
     "name": "stdout",
     "output_type": "stream",
     "text": [
      "Train loss: 0.16692302  Val loss: 0.5302008  Train acc: 0.9499198717948718  Val acc: 0.7994791666666666\n"
     ]
    },
    {
     "name": "stderr",
     "output_type": "stream",
     "text": [
      "[440, 06:00:14, 33.61s/i]  "
     ]
    },
    {
     "name": "stdout",
     "output_type": "stream",
     "text": [
      "Train loss: 0.14677735  Val loss: 0.5301483  Train acc: 0.9555288461538461  Val acc: 0.7994791666666666\n"
     ]
    },
    {
     "name": "stderr",
     "output_type": "stream",
     "text": [
      "[460, 06:16:37, 33.60s/i]  "
     ]
    },
    {
     "name": "stdout",
     "output_type": "stream",
     "text": [
      "Train loss: 0.13702211  Val loss: 0.5661866  Train acc: 0.9597355769230769  Val acc: 0.8203125\n"
     ]
    },
    {
     "name": "stderr",
     "output_type": "stream",
     "text": [
      "[480, 06:33:26, 38.46s/i]  "
     ]
    },
    {
     "name": "stdout",
     "output_type": "stream",
     "text": [
      "Train loss: 0.1202077  Val loss: 0.58921564  Train acc: 0.9657451923076923  Val acc: 0.796875\n"
     ]
    },
    {
     "name": "stderr",
     "output_type": "stream",
     "text": [
      "[500, 06:51:39, 38.42s/i]  "
     ]
    },
    {
     "name": "stdout",
     "output_type": "stream",
     "text": [
      "Train loss: 0.110721834  Val loss: 0.57243174  Train acc: 0.9697516025641025  Val acc: 0.8098958333333334\n"
     ]
    },
    {
     "name": "stderr",
     "output_type": "stream",
     "text": [
      "[520, 07:09:32, 37.31s/i]  "
     ]
    },
    {
     "name": "stdout",
     "output_type": "stream",
     "text": [
      "Train loss: 0.09525709  Val loss: 0.5168133  Train acc: 0.9749599358974359  Val acc: 0.8567708333333334\n"
     ]
    },
    {
     "name": "stderr",
     "output_type": "stream",
     "text": [
      "[540, 07:28:04, 36.73s/i]  "
     ]
    },
    {
     "name": "stdout",
     "output_type": "stream",
     "text": [
      "Train loss: 0.08402947  Val loss: 0.58337146  Train acc: 0.9823717948717948  Val acc: 0.8203125\n"
     ]
    },
    {
     "name": "stderr",
     "output_type": "stream",
     "text": [
      "[560, 07:46:01, 34.78s/i]  "
     ]
    },
    {
     "name": "stdout",
     "output_type": "stream",
     "text": [
      "Train loss: 0.07678236  Val loss: 0.5631447  Train acc: 0.9815705128205128  Val acc: 0.8020833333333334\n"
     ]
    },
    {
     "name": "stderr",
     "output_type": "stream",
     "text": [
      "[580, 08:03:05, 34.66s/i]  "
     ]
    },
    {
     "name": "stdout",
     "output_type": "stream",
     "text": [
      "Train loss: 0.06930329  Val loss: 0.5276916  Train acc: 0.9871794871794872  Val acc: 0.8203125\n"
     ]
    },
    {
     "name": "stderr",
     "output_type": "stream",
     "text": [
      "[600, 08:19:51, 35.23s/i]  "
     ]
    },
    {
     "name": "stdout",
     "output_type": "stream",
     "text": [
      "Train loss: 0.06082988  Val loss: 0.56713593  Train acc: 0.9879807692307693  Val acc: 0.8411458333333334\n",
      "Training ended successfully, saving the results\n",
      "Test loss: 1.8050127  Test acc: 0.5104166666666666\n"
     ]
    }
   ],
   "source": [
    "loss, acc = train(\"b\", \"PACS\", \"cartoon\", model; num_iter=num_iter, \n",
    "                                                 check_freq=check_freq, \n",
    "                                                 batchsize=batchsize, \n",
    "                                                 data_path=data_path, \n",
    "                                                 atype=atype);"
   ]
  },
  {
   "cell_type": "markdown",
   "id": "55d4f0b9",
   "metadata": {},
   "source": [
    "## Training of the Gradient Surgery model for \"PACS\" dataset and \"cartoon\" target domain"
   ]
  },
  {
   "cell_type": "code",
   "execution_count": 7,
   "id": "dc6b68cb",
   "metadata": {},
   "outputs": [
    {
     "name": "stdout",
     "output_type": "stream",
     "text": [
      "Datasets are loaded\n"
     ]
    },
    {
     "name": "stderr",
     "output_type": "stream",
     "text": [
      "\r",
      "[1, 00:01, 1.61i/s] "
     ]
    },
    {
     "name": "stdout",
     "output_type": "stream",
     "text": [
      "First batch is trained successfully\n"
     ]
    },
    {
     "name": "stderr",
     "output_type": "stream",
     "text": [
      "[20, 11:55, 37.09s/i] "
     ]
    },
    {
     "name": "stdout",
     "output_type": "stream",
     "text": [
      "Train loss: 2.0275526  Val loss: 2.053884  Train acc: 0.2311698717948718  Val acc: 0.25\n"
     ]
    },
    {
     "name": "stderr",
     "output_type": "stream",
     "text": [
      "[40, 29:50, 36.64s/i]  "
     ]
    },
    {
     "name": "stdout",
     "output_type": "stream",
     "text": [
      "Train loss: 1.7016509  Val loss: 1.6994033  Train acc: 0.351161858974359  Val acc: 0.3411458333333333\n"
     ]
    },
    {
     "name": "stderr",
     "output_type": "stream",
     "text": [
      "[60, 47:35, 38.35s/i]  "
     ]
    },
    {
     "name": "stdout",
     "output_type": "stream",
     "text": [
      "Train loss: 1.5250268  Val loss: 1.5336413  Train acc: 0.4088541666666667  Val acc: 0.4270833333333333\n"
     ]
    },
    {
     "name": "stderr",
     "output_type": "stream",
     "text": [
      "[80, 01:05:18, 38.59s/i] "
     ]
    },
    {
     "name": "stdout",
     "output_type": "stream",
     "text": [
      "Train loss: 1.3917006  Val loss: 1.3891727  Train acc: 0.4583333333333333  Val acc: 0.4817708333333333\n"
     ]
    },
    {
     "name": "stderr",
     "output_type": "stream",
     "text": [
      "[100, 01:23:07, 40.26s/i] "
     ]
    },
    {
     "name": "stdout",
     "output_type": "stream",
     "text": [
      "Train loss: 1.2886156  Val loss: 1.3281931  Train acc: 0.49919871794871795  Val acc: 0.515625\n"
     ]
    },
    {
     "name": "stderr",
     "output_type": "stream",
     "text": [
      "[120, 01:41:13, 39.07s/i]  "
     ]
    },
    {
     "name": "stdout",
     "output_type": "stream",
     "text": [
      "Train loss: 1.1949122  Val loss: 1.2053381  Train acc: 0.5434695512820513  Val acc: 0.5494791666666666\n"
     ]
    },
    {
     "name": "stderr",
     "output_type": "stream",
     "text": [
      "[140, 01:59:30, 39.22s/i]  "
     ]
    },
    {
     "name": "stdout",
     "output_type": "stream",
     "text": [
      "Train loss: 1.1196612  Val loss: 1.0981107  Train acc: 0.5739182692307693  Val acc: 0.5729166666666666\n"
     ]
    },
    {
     "name": "stderr",
     "output_type": "stream",
     "text": [
      "[160, 02:17:54, 37.20s/i]  "
     ]
    },
    {
     "name": "stdout",
     "output_type": "stream",
     "text": [
      "Train loss: 1.0600164  Val loss: 1.022813  Train acc: 0.5997596153846154  Val acc: 0.5885416666666666\n"
     ]
    },
    {
     "name": "stderr",
     "output_type": "stream",
     "text": [
      "[180, 02:35:47, 38.24s/i]  "
     ]
    },
    {
     "name": "stdout",
     "output_type": "stream",
     "text": [
      "Train loss: 1.0056462  Val loss: 0.96792036  Train acc: 0.6235977564102564  Val acc: 0.6328125\n"
     ]
    },
    {
     "name": "stderr",
     "output_type": "stream",
     "text": [
      "[200, 02:54:17, 37.86s/i]  "
     ]
    },
    {
     "name": "stdout",
     "output_type": "stream",
     "text": [
      "Train loss: 0.96645534  Val loss: 0.9509186  Train acc: 0.6412259615384616  Val acc: 0.6536458333333334\n"
     ]
    },
    {
     "name": "stderr",
     "output_type": "stream",
     "text": [
      "[220, 03:12:21, 37.39s/i]  "
     ]
    },
    {
     "name": "stdout",
     "output_type": "stream",
     "text": [
      "Train loss: 0.92541325  Val loss: 0.8606388  Train acc: 0.6538461538461539  Val acc: 0.6666666666666666\n"
     ]
    },
    {
     "name": "stderr",
     "output_type": "stream",
     "text": [
      "[240, 03:30:19, 38.11s/i]  "
     ]
    },
    {
     "name": "stdout",
     "output_type": "stream",
     "text": [
      "Train loss: 0.88986903  Val loss: 0.8515284  Train acc: 0.6644631410256411  Val acc: 0.671875\n"
     ]
    },
    {
     "name": "stderr",
     "output_type": "stream",
     "text": [
      "[260, 03:48:22, 43.76s/i]  "
     ]
    },
    {
     "name": "stdout",
     "output_type": "stream",
     "text": [
      "Train loss: 0.8731131  Val loss: 0.8167507  Train acc: 0.6790865384615384  Val acc: 0.7005208333333334\n"
     ]
    },
    {
     "name": "stderr",
     "output_type": "stream",
     "text": [
      "[280, 04:06:36, 37.95s/i]  "
     ]
    },
    {
     "name": "stdout",
     "output_type": "stream",
     "text": [
      "Train loss: 0.8436049  Val loss: 0.86286956  Train acc: 0.6889022435897436  Val acc: 0.7213541666666666\n"
     ]
    },
    {
     "name": "stderr",
     "output_type": "stream",
     "text": [
      "[300, 04:25:20, 38.88s/i]  "
     ]
    },
    {
     "name": "stdout",
     "output_type": "stream",
     "text": [
      "Train loss: 0.8220244  Val loss: 0.8089796  Train acc: 0.694511217948718  Val acc: 0.7213541666666666\n"
     ]
    },
    {
     "name": "stderr",
     "output_type": "stream",
     "text": [
      "[320, 04:44:05, 46.46s/i]  "
     ]
    },
    {
     "name": "stdout",
     "output_type": "stream",
     "text": [
      "Train loss: 0.81840324  Val loss: 0.75262976  Train acc: 0.702323717948718  Val acc: 0.71875\n"
     ]
    },
    {
     "name": "stderr",
     "output_type": "stream",
     "text": [
      "[340, 05:02:32, 42.03s/i]  "
     ]
    },
    {
     "name": "stdout",
     "output_type": "stream",
     "text": [
      "Train loss: 0.80572164  Val loss: 0.78845733  Train acc: 0.7095352564102564  Val acc: 0.7291666666666666\n"
     ]
    },
    {
     "name": "stderr",
     "output_type": "stream",
     "text": [
      "[360, 05:21:52, 39.94s/i]  "
     ]
    },
    {
     "name": "stdout",
     "output_type": "stream",
     "text": [
      "Train loss: 0.8056403  Val loss: 0.764574  Train acc: 0.7123397435897436  Val acc: 0.6901041666666666\n"
     ]
    },
    {
     "name": "stderr",
     "output_type": "stream",
     "text": [
      "[380, 05:40:31, 40.92s/i]  "
     ]
    },
    {
     "name": "stdout",
     "output_type": "stream",
     "text": [
      "Train loss: 0.80817956  Val loss: 0.7778575  Train acc: 0.7201522435897436  Val acc: 0.7447916666666666\n"
     ]
    },
    {
     "name": "stderr",
     "output_type": "stream",
     "text": [
      "[400, 05:59:09, 39.67s/i]  "
     ]
    },
    {
     "name": "stdout",
     "output_type": "stream",
     "text": [
      "Train loss: 0.79404604  Val loss: 0.75427824  Train acc: 0.7267628205128205  Val acc: 0.7447916666666666\n"
     ]
    },
    {
     "name": "stderr",
     "output_type": "stream",
     "text": [
      "[420, 06:17:52, 38.93s/i]  "
     ]
    },
    {
     "name": "stdout",
     "output_type": "stream",
     "text": [
      "Train loss: 0.79693896  Val loss: 0.7776672  Train acc: 0.7263621794871795  Val acc: 0.7135416666666666\n"
     ]
    },
    {
     "name": "stderr",
     "output_type": "stream",
     "text": [
      "[440, 06:37:53, 43.27s/i]  "
     ]
    },
    {
     "name": "stdout",
     "output_type": "stream",
     "text": [
      "Train loss: 0.7943028  Val loss: 0.7790149  Train acc: 0.7317708333333334  Val acc: 0.7578125\n"
     ]
    },
    {
     "name": "stderr",
     "output_type": "stream",
     "text": [
      "[460, 06:58:21, 42.57s/i]  "
     ]
    },
    {
     "name": "stdout",
     "output_type": "stream",
     "text": [
      "Train loss: 0.7875539  Val loss: 0.73806936  Train acc: 0.7355769230769231  Val acc: 0.7760416666666666\n"
     ]
    },
    {
     "name": "stderr",
     "output_type": "stream",
     "text": [
      "[480, 07:18:35, 42.75s/i]  "
     ]
    },
    {
     "name": "stdout",
     "output_type": "stream",
     "text": [
      "Train loss: 0.78438145  Val loss: 0.77516395  Train acc: 0.7357772435897436  Val acc: 0.7473958333333334\n"
     ]
    },
    {
     "name": "stderr",
     "output_type": "stream",
     "text": [
      "[500, 07:39:39, 41.80s/i]  "
     ]
    },
    {
     "name": "stdout",
     "output_type": "stream",
     "text": [
      "Train loss: 0.7774089  Val loss: 0.77098656  Train acc: 0.7439903846153846  Val acc: 0.7369791666666666\n"
     ]
    },
    {
     "name": "stderr",
     "output_type": "stream",
     "text": [
      "[520, 07:59:59, 40.07s/i]  "
     ]
    },
    {
     "name": "stdout",
     "output_type": "stream",
     "text": [
      "Train loss: 0.79722506  Val loss: 0.7154035  Train acc: 0.7407852564102564  Val acc: 0.7734375\n"
     ]
    },
    {
     "name": "stderr",
     "output_type": "stream",
     "text": [
      "[540, 08:19:43, 40.85s/i]  "
     ]
    },
    {
     "name": "stdout",
     "output_type": "stream",
     "text": [
      "Train loss: 0.793579  Val loss: 0.8531053  Train acc: 0.7495993589743589  Val acc: 0.7734375\n"
     ]
    },
    {
     "name": "stderr",
     "output_type": "stream",
     "text": [
      "[560, 08:39:22, 44.91s/i]  "
     ]
    },
    {
     "name": "stdout",
     "output_type": "stream",
     "text": [
      "Train loss: 0.8092729  Val loss: 0.7485915  Train acc: 0.7481971153846154  Val acc: 0.7604166666666666\n"
     ]
    },
    {
     "name": "stderr",
     "output_type": "stream",
     "text": [
      "[580, 08:59:32, 40.40s/i]  "
     ]
    },
    {
     "name": "stdout",
     "output_type": "stream",
     "text": [
      "Train loss: 0.800198  Val loss: 0.81911105  Train acc: 0.7504006410256411  Val acc: 0.7552083333333334\n"
     ]
    },
    {
     "name": "stderr",
     "output_type": "stream",
     "text": [
      "[600, 09:19:27, 39.02s/i]  "
     ]
    },
    {
     "name": "stdout",
     "output_type": "stream",
     "text": [
      "Train loss: 0.8081786  Val loss: 0.8643406  Train acc: 0.7526041666666666  Val acc: 0.7604166666666666\n",
      "Training ended successfully, saving the results\n",
      "Test loss: 2.1344788  Test acc: 0.4765625\n"
     ]
    }
   ],
   "source": [
    "model = generate_alexnet_model(7; pretrained = true);\n",
    "\n",
    "for param in params(model)\n",
    "    param.opt = AdamW(; lr=1e-5, eps=1e-8, wdecayfunc=wdecay_func, scheduler=nothing)\n",
    "end\n",
    "\n",
    "loss, acc = train(\"gs\", \"PACS\", \"cartoon\", model; num_iter=num_iter, \n",
    "                                                 check_freq=check_freq, \n",
    "                                                 batchsize=batchsize, \n",
    "                                                 data_path=data_path, \n",
    "                                                 atype=atype);"
   ]
  },
  {
   "cell_type": "markdown",
   "id": "19bfc738",
   "metadata": {},
   "source": [
    "## Training of the Baseline model for \"VLCS\" dataset and \"LabelMe\" target domain"
   ]
  },
  {
   "cell_type": "code",
   "execution_count": 27,
   "id": "e714ff50",
   "metadata": {},
   "outputs": [
    {
     "name": "stdout",
     "output_type": "stream",
     "text": [
      "Datasets are loaded\n"
     ]
    },
    {
     "name": "stderr",
     "output_type": "stream",
     "text": [
      "\r",
      "[1, 00:00, 2.81i/s] "
     ]
    },
    {
     "name": "stdout",
     "output_type": "stream",
     "text": [
      "First batch is trained successfully\n"
     ]
    },
    {
     "name": "stderr",
     "output_type": "stream",
     "text": [
      "[20, 12:05, 34.52s/i] "
     ]
    },
    {
     "name": "stdout",
     "output_type": "stream",
     "text": [
      "Train loss: 1.1513153  Val loss: 1.135947  Train acc: 0.5321800595238095  Val acc: 0.5299479166666666\n"
     ]
    },
    {
     "name": "stderr",
     "output_type": "stream",
     "text": [
      "[40, 30:50, 36.41s/i]  "
     ]
    },
    {
     "name": "stdout",
     "output_type": "stream",
     "text": [
      "Train loss: 0.9775066  Val loss: 0.96565443  Train acc: 0.6015625  Val acc: 0.6067708333333334\n"
     ]
    },
    {
     "name": "stderr",
     "output_type": "stream",
     "text": [
      "[60, 50:04, 36.30s/i]  "
     ]
    },
    {
     "name": "stdout",
     "output_type": "stream",
     "text": [
      "Train loss: 0.8802352  Val loss: 0.87769705  Train acc: 0.6439732142857143  Val acc: 0.62890625\n"
     ]
    },
    {
     "name": "stderr",
     "output_type": "stream",
     "text": [
      "[80, 01:10:29, 39.11s/i] "
     ]
    },
    {
     "name": "stdout",
     "output_type": "stream",
     "text": [
      "Train loss: 0.8058723  Val loss: 0.8204458  Train acc: 0.6796875  Val acc: 0.65625\n"
     ]
    },
    {
     "name": "stderr",
     "output_type": "stream",
     "text": [
      "[100, 01:30:00, 39.00s/i] "
     ]
    },
    {
     "name": "stdout",
     "output_type": "stream",
     "text": [
      "Train loss: 0.75768507  Val loss: 0.7818651  Train acc: 0.7044270833333334  Val acc: 0.6666666666666666\n"
     ]
    },
    {
     "name": "stderr",
     "output_type": "stream",
     "text": [
      "[120, 01:49:22, 35.80s/i]  "
     ]
    },
    {
     "name": "stdout",
     "output_type": "stream",
     "text": [
      "Train loss: 0.7072712  Val loss: 0.7452085  Train acc: 0.7250744047619048  Val acc: 0.6888020833333334\n"
     ]
    },
    {
     "name": "stderr",
     "output_type": "stream",
     "text": [
      "[140, 02:08:15, 35.96s/i]  "
     ]
    },
    {
     "name": "stdout",
     "output_type": "stream",
     "text": [
      "Train loss: 0.67503875  Val loss: 0.72255665  Train acc: 0.7473958333333334  Val acc: 0.7083333333333334\n"
     ]
    },
    {
     "name": "stderr",
     "output_type": "stream",
     "text": [
      "[160, 02:27:46, 36.32s/i]  "
     ]
    },
    {
     "name": "stdout",
     "output_type": "stream",
     "text": [
      "Train loss: 0.63901454  Val loss: 0.69781405  Train acc: 0.7553943452380952  Val acc: 0.72265625\n"
     ]
    },
    {
     "name": "stderr",
     "output_type": "stream",
     "text": [
      "[180, 02:47:15, 52.95s/i]  "
     ]
    },
    {
     "name": "stdout",
     "output_type": "stream",
     "text": [
      "Train loss: 0.61082983  Val loss: 0.68689203  Train acc: 0.7706473214285714  Val acc: 0.7291666666666666\n"
     ]
    },
    {
     "name": "stderr",
     "output_type": "stream",
     "text": [
      "[200, 03:06:08, 36.10s/i]  "
     ]
    },
    {
     "name": "stdout",
     "output_type": "stream",
     "text": [
      "Train loss: 0.5799944  Val loss: 0.67499256  Train acc: 0.7877604166666666  Val acc: 0.7356770833333334\n"
     ]
    },
    {
     "name": "stderr",
     "output_type": "stream",
     "text": [
      "[220, 03:24:47, 37.33s/i]  "
     ]
    },
    {
     "name": "stdout",
     "output_type": "stream",
     "text": [
      "Train loss: 0.5526047  Val loss: 0.6710919  Train acc: 0.7965029761904762  Val acc: 0.7447916666666666\n"
     ]
    },
    {
     "name": "stderr",
     "output_type": "stream",
     "text": [
      "[240, 03:43:49, 35.68s/i]  "
     ]
    },
    {
     "name": "stdout",
     "output_type": "stream",
     "text": [
      "Train loss: 0.5271956  Val loss: 0.65759265  Train acc: 0.8063616071428571  Val acc: 0.7356770833333334\n"
     ]
    },
    {
     "name": "stderr",
     "output_type": "stream",
     "text": [
      "[260, 04:02:38, 35.52s/i]  "
     ]
    },
    {
     "name": "stdout",
     "output_type": "stream",
     "text": [
      "Train loss: 0.50652283  Val loss: 0.6607219  Train acc: 0.8177083333333334  Val acc: 0.75\n"
     ]
    },
    {
     "name": "stderr",
     "output_type": "stream",
     "text": [
      "[280, 04:23:49, 45.03s/i]  "
     ]
    },
    {
     "name": "stdout",
     "output_type": "stream",
     "text": [
      "Train loss: 0.48544177  Val loss: 0.64813185  Train acc: 0.8236607142857143  Val acc: 0.75\n"
     ]
    },
    {
     "name": "stderr",
     "output_type": "stream",
     "text": [
      "[300, 04:44:12, 40.61s/i]  "
     ]
    },
    {
     "name": "stdout",
     "output_type": "stream",
     "text": [
      "Train loss: 0.45816883  Val loss: 0.63855237  Train acc: 0.8325892857142857  Val acc: 0.7421875\n"
     ]
    },
    {
     "name": "stderr",
     "output_type": "stream",
     "text": [
      "[320, 05:02:52, 35.79s/i]  "
     ]
    },
    {
     "name": "stdout",
     "output_type": "stream",
     "text": [
      "Train loss: 0.43959054  Val loss: 0.633425  Train acc: 0.8428199404761905  Val acc: 0.7473958333333334\n"
     ]
    },
    {
     "name": "stderr",
     "output_type": "stream",
     "text": [
      "[340, 05:20:51, 35.80s/i]  "
     ]
    },
    {
     "name": "stdout",
     "output_type": "stream",
     "text": [
      "Train loss: 0.42392752  Val loss: 0.6454899  Train acc: 0.8469122023809523  Val acc: 0.7447916666666666\n"
     ]
    },
    {
     "name": "stderr",
     "output_type": "stream",
     "text": [
      "[360, 05:39:30, 37.06s/i]  "
     ]
    },
    {
     "name": "stdout",
     "output_type": "stream",
     "text": [
      "Train loss: 0.39943036  Val loss: 0.6315019  Train acc: 0.8575148809523809  Val acc: 0.7421875\n"
     ]
    },
    {
     "name": "stderr",
     "output_type": "stream",
     "text": [
      "[380, 05:57:39, 36.35s/i]  "
     ]
    },
    {
     "name": "stdout",
     "output_type": "stream",
     "text": [
      "Train loss: 0.3714845  Val loss: 0.6160182  Train acc: 0.8725818452380952  Val acc: 0.7552083333333334\n"
     ]
    },
    {
     "name": "stderr",
     "output_type": "stream",
     "text": [
      "[400, 06:16:13, 38.01s/i]  "
     ]
    },
    {
     "name": "stdout",
     "output_type": "stream",
     "text": [
      "Train loss: 0.35378578  Val loss: 0.61963284  Train acc: 0.8805803571428571  Val acc: 0.7447916666666666\n"
     ]
    },
    {
     "name": "stderr",
     "output_type": "stream",
     "text": [
      "[420, 06:34:32, 35.71s/i]  "
     ]
    },
    {
     "name": "stdout",
     "output_type": "stream",
     "text": [
      "Train loss: 0.32991633  Val loss: 0.629067  Train acc: 0.8941592261904762  Val acc: 0.7473958333333334\n"
     ]
    },
    {
     "name": "stderr",
     "output_type": "stream",
     "text": [
      "[440, 06:52:40, 43.45s/i]  "
     ]
    },
    {
     "name": "stdout",
     "output_type": "stream",
     "text": [
      "Train loss: 0.31359124  Val loss: 0.61711323  Train acc: 0.9030877976190477  Val acc: 0.74609375\n"
     ]
    },
    {
     "name": "stderr",
     "output_type": "stream",
     "text": [
      "[460, 07:10:58, 36.51s/i]  "
     ]
    },
    {
     "name": "stdout",
     "output_type": "stream",
     "text": [
      "Train loss: 0.29687244  Val loss: 0.6226542  Train acc: 0.9105282738095238  Val acc: 0.75\n"
     ]
    },
    {
     "name": "stderr",
     "output_type": "stream",
     "text": [
      "[480, 07:29:35, 40.01s/i]  "
     ]
    },
    {
     "name": "stdout",
     "output_type": "stream",
     "text": [
      "Train loss: 0.2716624  Val loss: 0.6232052  Train acc: 0.9187127976190477  Val acc: 0.75390625\n"
     ]
    },
    {
     "name": "stderr",
     "output_type": "stream",
     "text": [
      "[500, 07:48:31, 39.89s/i]  "
     ]
    },
    {
     "name": "stdout",
     "output_type": "stream",
     "text": [
      "Train loss: 0.2530168  Val loss: 0.62439907  Train acc: 0.9265252976190477  Val acc: 0.7447916666666666\n"
     ]
    },
    {
     "name": "stderr",
     "output_type": "stream",
     "text": [
      "[520, 08:07:03, 44.02s/i]  "
     ]
    },
    {
     "name": "stdout",
     "output_type": "stream",
     "text": [
      "Train loss: 0.23558901  Val loss: 0.6218956  Train acc: 0.9334077380952381  Val acc: 0.7447916666666666\n"
     ]
    },
    {
     "name": "stderr",
     "output_type": "stream",
     "text": [
      "[540, 08:25:06, 37.49s/i]  "
     ]
    },
    {
     "name": "stdout",
     "output_type": "stream",
     "text": [
      "Train loss: 0.22621334  Val loss: 0.6511651  Train acc: 0.9326636904761905  Val acc: 0.7486979166666666\n"
     ]
    },
    {
     "name": "stderr",
     "output_type": "stream",
     "text": [
      "[560, 08:43:53, 41.84s/i]  "
     ]
    },
    {
     "name": "stdout",
     "output_type": "stream",
     "text": [
      "Train loss: 0.20562777  Val loss: 0.63643646  Train acc: 0.9477306547619048  Val acc: 0.75390625\n"
     ]
    },
    {
     "name": "stderr",
     "output_type": "stream",
     "text": [
      "[580, 09:02:32, 36.99s/i]  "
     ]
    },
    {
     "name": "stdout",
     "output_type": "stream",
     "text": [
      "Train loss: 0.18742286  Val loss: 0.6265554  Train acc: 0.9534970238095238  Val acc: 0.7486979166666666\n"
     ]
    },
    {
     "name": "stderr",
     "output_type": "stream",
     "text": [
      "[600, 09:20:52, 36.59s/i]  "
     ]
    },
    {
     "name": "stdout",
     "output_type": "stream",
     "text": [
      "Train loss: 0.17268212  Val loss: 0.64927673  Train acc: 0.9587053571428571  Val acc: 0.75\n",
      "Training ended successfully, saving the results\n",
      "Test loss: 1.1650126  Test acc: 0.53125\n"
     ]
    }
   ],
   "source": [
    "model = generate_alexnet_model(5; pretrained = true);\n",
    "\n",
    "for param in params(model)\n",
    "    param.opt = AdamW(; lr=1e-5, eps=1e-8, wdecayfunc=wdecay_func, scheduler=nothing)\n",
    "end\n",
    "\n",
    "loss, acc = train(\"b\", \"VLCS\", \"LabelMe\", model; num_iter=num_iter, \n",
    "                                                 check_freq=check_freq, \n",
    "                                                 batchsize=batchsize, \n",
    "                                                 data_path=data_path, \n",
    "                                                 atype=atype);"
   ]
  },
  {
   "cell_type": "markdown",
   "id": "ebb2f3c7",
   "metadata": {},
   "source": [
    "## Training of the Gradient Surgery model for \"VLCS\" dataset and \"LabelMe\" target domain"
   ]
  },
  {
   "cell_type": "code",
   "execution_count": 28,
   "id": "119c1fce",
   "metadata": {},
   "outputs": [
    {
     "name": "stdout",
     "output_type": "stream",
     "text": [
      "Datasets are loaded\n"
     ]
    },
    {
     "name": "stderr",
     "output_type": "stream",
     "text": [
      "\r",
      "[1, 00:01, 1.01i/s] "
     ]
    },
    {
     "name": "stdout",
     "output_type": "stream",
     "text": [
      "First batch is trained successfully\n"
     ]
    },
    {
     "name": "stderr",
     "output_type": "stream",
     "text": [
      "[20, 13:52, 40.29s/i] "
     ]
    },
    {
     "name": "stdout",
     "output_type": "stream",
     "text": [
      "Train loss: 1.3424387  Val loss: 1.3209844  Train acc: 0.46242559523809523  Val acc: 0.4856770833333333\n"
     ]
    },
    {
     "name": "stderr",
     "output_type": "stream",
     "text": [
      "[40, 33:55, 40.50s/i]  "
     ]
    },
    {
     "name": "stdout",
     "output_type": "stream",
     "text": [
      "Train loss: 1.1733599  Val loss: 1.1657349  Train acc: 0.5135788690476191  Val acc: 0.5403645833333334\n"
     ]
    },
    {
     "name": "stderr",
     "output_type": "stream",
     "text": [
      "[60, 54:24, 43.30s/i]  "
     ]
    },
    {
     "name": "stdout",
     "output_type": "stream",
     "text": [
      "Train loss: 1.0846484  Val loss: 1.0700165  Train acc: 0.5554315476190477  Val acc: 0.56640625\n"
     ]
    },
    {
     "name": "stderr",
     "output_type": "stream",
     "text": [
      "[80, 01:15:16, 45.25s/i]  "
     ]
    },
    {
     "name": "stdout",
     "output_type": "stream",
     "text": [
      "Train loss: 1.0249466  Val loss: 1.0012525  Train acc: 0.5788690476190477  Val acc: 0.59375\n"
     ]
    },
    {
     "name": "stderr",
     "output_type": "stream",
     "text": [
      "[100, 01:36:00, 42.32s/i] "
     ]
    },
    {
     "name": "stdout",
     "output_type": "stream",
     "text": [
      "Train loss: 0.97642934  Val loss: 0.965387  Train acc: 0.6021205357142857  Val acc: 0.6184895833333334\n"
     ]
    },
    {
     "name": "stderr",
     "output_type": "stream",
     "text": [
      "[120, 01:56:36, 40.20s/i]  "
     ]
    },
    {
     "name": "stdout",
     "output_type": "stream",
     "text": [
      "Train loss: 0.9490515  Val loss: 0.9498855  Train acc: 0.6181175595238095  Val acc: 0.6302083333333334\n"
     ]
    },
    {
     "name": "stderr",
     "output_type": "stream",
     "text": [
      "[140, 02:17:12, 40.86s/i]  "
     ]
    },
    {
     "name": "stdout",
     "output_type": "stream",
     "text": [
      "Train loss: 0.92991936  Val loss: 0.92860925  Train acc: 0.6303943452380952  Val acc: 0.6432291666666666\n"
     ]
    },
    {
     "name": "stderr",
     "output_type": "stream",
     "text": [
      "[160, 02:39:27, 53.60s/i]  "
     ]
    },
    {
     "name": "stdout",
     "output_type": "stream",
     "text": [
      "Train loss: 0.9143176  Val loss: 0.90962946  Train acc: 0.6409970238095238  Val acc: 0.6484375\n"
     ]
    },
    {
     "name": "stderr",
     "output_type": "stream",
     "text": [
      "[180, 03:02:42, 52.55s/i]  "
     ]
    },
    {
     "name": "stdout",
     "output_type": "stream",
     "text": [
      "Train loss: 0.90148485  Val loss: 0.90440893  Train acc: 0.6499255952380952  Val acc: 0.6666666666666666\n"
     ]
    },
    {
     "name": "stderr",
     "output_type": "stream",
     "text": [
      "[200, 03:23:20, 41.09s/i]  "
     ]
    },
    {
     "name": "stdout",
     "output_type": "stream",
     "text": [
      "Train loss: 0.8950664  Val loss: 0.8936654  Train acc: 0.6573660714285714  Val acc: 0.66015625\n"
     ]
    },
    {
     "name": "stderr",
     "output_type": "stream",
     "text": [
      "[220, 03:44:31, 44.37s/i]  "
     ]
    },
    {
     "name": "stdout",
     "output_type": "stream",
     "text": [
      "Train loss: 0.89462656  Val loss: 0.9031359  Train acc: 0.6607142857142857  Val acc: 0.6627604166666666\n"
     ]
    },
    {
     "name": "stderr",
     "output_type": "stream",
     "text": [
      "[240, 04:04:10, 41.04s/i]  "
     ]
    },
    {
     "name": "stdout",
     "output_type": "stream",
     "text": [
      "Train loss: 0.8961543  Val loss: 0.90533906  Train acc: 0.6633184523809523  Val acc: 0.6744791666666666\n"
     ]
    },
    {
     "name": "stderr",
     "output_type": "stream",
     "text": [
      "[260, 04:25:05, 41.11s/i]  "
     ]
    },
    {
     "name": "stdout",
     "output_type": "stream",
     "text": [
      "Train loss: 0.90842646  Val loss: 0.9141401  Train acc: 0.6674107142857143  Val acc: 0.6653645833333334\n"
     ]
    },
    {
     "name": "stderr",
     "output_type": "stream",
     "text": [
      "[280, 04:46:14, 41.92s/i]  "
     ]
    },
    {
     "name": "stdout",
     "output_type": "stream",
     "text": [
      "Train loss: 0.90359277  Val loss: 0.92397606  Train acc: 0.6698288690476191  Val acc: 0.6705729166666666\n"
     ]
    },
    {
     "name": "stderr",
     "output_type": "stream",
     "text": [
      "[300, 05:06:42, 42.49s/i]  "
     ]
    },
    {
     "name": "stdout",
     "output_type": "stream",
     "text": [
      "Train loss: 0.92485493  Val loss: 0.94760966  Train acc: 0.6715029761904762  Val acc: 0.671875\n"
     ]
    },
    {
     "name": "stderr",
     "output_type": "stream",
     "text": [
      "[320, 05:27:59, 49.16s/i]  "
     ]
    },
    {
     "name": "stdout",
     "output_type": "stream",
     "text": [
      "Train loss: 0.9332823  Val loss: 0.96936584  Train acc: 0.6685267857142857  Val acc: 0.67578125\n"
     ]
    },
    {
     "name": "stderr",
     "output_type": "stream",
     "text": [
      "[340, 05:48:54, 44.43s/i]  "
     ]
    },
    {
     "name": "stdout",
     "output_type": "stream",
     "text": [
      "Train loss: 0.95302117  Val loss: 0.97519267  Train acc: 0.6715029761904762  Val acc: 0.66796875\n"
     ]
    },
    {
     "name": "stderr",
     "output_type": "stream",
     "text": [
      "[360, 06:10:01, 47.80s/i]  "
     ]
    },
    {
     "name": "stdout",
     "output_type": "stream",
     "text": [
      "Train loss: 0.9829686  Val loss: 1.0221357  Train acc: 0.6793154761904762  Val acc: 0.6731770833333334\n"
     ]
    },
    {
     "name": "stderr",
     "output_type": "stream",
     "text": [
      "[380, 06:30:57, 46.89s/i]  "
     ]
    },
    {
     "name": "stdout",
     "output_type": "stream",
     "text": [
      "Train loss: 1.009907  Val loss: 1.0533735  Train acc: 0.6774553571428571  Val acc: 0.671875\n"
     ]
    },
    {
     "name": "stderr",
     "output_type": "stream",
     "text": [
      "[400, 06:51:19, 50.26s/i]  "
     ]
    },
    {
     "name": "stdout",
     "output_type": "stream",
     "text": [
      "Train loss: 1.034641  Val loss: 1.0749856  Train acc: 0.6722470238095238  Val acc: 0.6666666666666666\n"
     ]
    },
    {
     "name": "stderr",
     "output_type": "stream",
     "text": [
      "[420, 07:12:47, 43.20s/i]  "
     ]
    },
    {
     "name": "stdout",
     "output_type": "stream",
     "text": [
      "Train loss: 1.0597409  Val loss: 1.0704823  Train acc: 0.6763392857142857  Val acc: 0.6640625\n"
     ]
    },
    {
     "name": "stderr",
     "output_type": "stream",
     "text": [
      "[440, 07:35:33, 48.76s/i]  "
     ]
    },
    {
     "name": "stdout",
     "output_type": "stream",
     "text": [
      "Train loss: 1.0884781  Val loss: 1.1209594  Train acc: 0.6781994047619048  Val acc: 0.6692708333333334\n"
     ]
    },
    {
     "name": "stderr",
     "output_type": "stream",
     "text": [
      "[460, 07:57:01, 51.03s/i]  "
     ]
    },
    {
     "name": "stdout",
     "output_type": "stream",
     "text": [
      "Train loss: 1.1314226  Val loss: 1.1762004  Train acc: 0.6739211309523809  Val acc: 0.6640625\n"
     ]
    },
    {
     "name": "stderr",
     "output_type": "stream",
     "text": [
      "[480, 08:18:59, 45.30s/i]  "
     ]
    },
    {
     "name": "stdout",
     "output_type": "stream",
     "text": [
      "Train loss: 1.1518766  Val loss: 1.2172275  Train acc: 0.6770833333333334  Val acc: 0.6692708333333334\n"
     ]
    },
    {
     "name": "stderr",
     "output_type": "stream",
     "text": [
      "[500, 08:40:03, 41.06s/i]  "
     ]
    },
    {
     "name": "stdout",
     "output_type": "stream",
     "text": [
      "Train loss: 1.2022926  Val loss: 1.2771195  Train acc: 0.6761532738095238  Val acc: 0.6796875\n"
     ]
    },
    {
     "name": "stderr",
     "output_type": "stream",
     "text": [
      "[520, 09:02:13, 44.17s/i]  "
     ]
    },
    {
     "name": "stdout",
     "output_type": "stream",
     "text": [
      "Train loss: 1.2259189  Val loss: 1.2976096  Train acc: 0.6761532738095238  Val acc: 0.66796875\n"
     ]
    },
    {
     "name": "stderr",
     "output_type": "stream",
     "text": [
      "[540, 09:22:55, 42.36s/i]  "
     ]
    },
    {
     "name": "stdout",
     "output_type": "stream",
     "text": [
      "Train loss: 1.2404544  Val loss: 1.3020332  Train acc: 0.6804315476190477  Val acc: 0.6796875\n"
     ]
    },
    {
     "name": "stderr",
     "output_type": "stream",
     "text": [
      "[560, 09:44:36, 44.50s/i]  "
     ]
    },
    {
     "name": "stdout",
     "output_type": "stream",
     "text": [
      "Train loss: 1.3044347  Val loss: 1.3485501  Train acc: 0.6826636904761905  Val acc: 0.6770833333333334\n"
     ]
    },
    {
     "name": "stderr",
     "output_type": "stream",
     "text": [
      "[580, 10:06:31, 44.44s/i]  "
     ]
    },
    {
     "name": "stdout",
     "output_type": "stream",
     "text": [
      "Train loss: 1.363123  Val loss: 1.3866506  Train acc: 0.6696428571428571  Val acc: 0.67578125\n"
     ]
    },
    {
     "name": "stderr",
     "output_type": "stream",
     "text": [
      "[600, 10:27:19, 42.04s/i]  "
     ]
    },
    {
     "name": "stdout",
     "output_type": "stream",
     "text": [
      "Train loss: 1.3646327  Val loss: 1.460995  Train acc: 0.6848958333333334  Val acc: 0.6875\n",
      "Training ended successfully, saving the results\n",
      "Test loss: 1.7764903  Test acc: 0.53125\n"
     ]
    }
   ],
   "source": [
    "model = generate_alexnet_model(5; pretrained = true);\n",
    "\n",
    "for param in params(model)\n",
    "    param.opt = AdamW(; lr=1e-5, eps=1e-8, wdecayfunc=wdecay_func, scheduler=nothing)\n",
    "end\n",
    "\n",
    "loss, acc = train(\"gs\", \"VLCS\", \"LabelMe\", model; num_iter=num_iter, \n",
    "                                                 check_freq=check_freq, \n",
    "                                                 batchsize=batchsize, \n",
    "                                                 data_path=data_path, \n",
    "                                                 atype=atype);"
   ]
  },
  {
   "cell_type": "markdown",
   "id": "586b6da1",
   "metadata": {},
   "source": [
    "## Result Graphs"
   ]
  },
  {
   "cell_type": "code",
   "execution_count": 38,
   "id": "44114f6d",
   "metadata": {},
   "outputs": [
    {
     "data": {
      "image/svg+xml": [
       "<?xml version=\"1.0\" encoding=\"utf-8\"?>\n",
       "<svg xmlns=\"http://www.w3.org/2000/svg\" xmlns:xlink=\"http://www.w3.org/1999/xlink\" width=\"600\" height=\"400\" viewBox=\"0 0 2400 1600\">\n",
       "<defs>\n",
       "  <clipPath id=\"clip270\">\n",
       "    <rect x=\"0\" y=\"0\" width=\"2400\" height=\"1600\"/>\n",
       "  </clipPath>\n",
       "</defs>\n",
       "<path clip-path=\"url(#clip270)\" d=\"\n",
       "M0 1600 L2400 1600 L2400 0 L0 0  Z\n",
       "  \" fill=\"#ffffff\" fill-rule=\"evenodd\" fill-opacity=\"1\"/>\n",
       "<defs>\n",
       "  <clipPath id=\"clip271\">\n",
       "    <rect x=\"480\" y=\"0\" width=\"1681\" height=\"1600\"/>\n",
       "  </clipPath>\n",
       "</defs>\n",
       "<path clip-path=\"url(#clip270)\" d=\"\n",
       "M219.195 1423.18 L2352.76 1423.18 L2352.76 47.2441 L219.195 47.2441  Z\n",
       "  \" fill=\"#ffffff\" fill-rule=\"evenodd\" fill-opacity=\"1\"/>\n",
       "<defs>\n",
       "  <clipPath id=\"clip272\">\n",
       "    <rect x=\"219\" y=\"47\" width=\"2135\" height=\"1377\"/>\n",
       "  </clipPath>\n",
       "</defs>\n",
       "<polyline clip-path=\"url(#clip272)\" style=\"stroke:#000000; stroke-linecap:butt; stroke-linejoin:round; stroke-width:2; stroke-opacity:0.1; fill:none\" points=\"\n",
       "  557.205,1423.18 557.205,47.2441 \n",
       "  \"/>\n",
       "<polyline clip-path=\"url(#clip272)\" style=\"stroke:#000000; stroke-linecap:butt; stroke-linejoin:round; stroke-width:2; stroke-opacity:0.1; fill:none\" points=\"\n",
       "  904.239,1423.18 904.239,47.2441 \n",
       "  \"/>\n",
       "<polyline clip-path=\"url(#clip272)\" style=\"stroke:#000000; stroke-linecap:butt; stroke-linejoin:round; stroke-width:2; stroke-opacity:0.1; fill:none\" points=\"\n",
       "  1251.27,1423.18 1251.27,47.2441 \n",
       "  \"/>\n",
       "<polyline clip-path=\"url(#clip272)\" style=\"stroke:#000000; stroke-linecap:butt; stroke-linejoin:round; stroke-width:2; stroke-opacity:0.1; fill:none\" points=\"\n",
       "  1598.31,1423.18 1598.31,47.2441 \n",
       "  \"/>\n",
       "<polyline clip-path=\"url(#clip272)\" style=\"stroke:#000000; stroke-linecap:butt; stroke-linejoin:round; stroke-width:2; stroke-opacity:0.1; fill:none\" points=\"\n",
       "  1945.34,1423.18 1945.34,47.2441 \n",
       "  \"/>\n",
       "<polyline clip-path=\"url(#clip272)\" style=\"stroke:#000000; stroke-linecap:butt; stroke-linejoin:round; stroke-width:2; stroke-opacity:0.1; fill:none\" points=\"\n",
       "  2292.37,1423.18 2292.37,47.2441 \n",
       "  \"/>\n",
       "<polyline clip-path=\"url(#clip270)\" style=\"stroke:#000000; stroke-linecap:butt; stroke-linejoin:round; stroke-width:4; stroke-opacity:1; fill:none\" points=\"\n",
       "  219.195,1423.18 2352.76,1423.18 \n",
       "  \"/>\n",
       "<polyline clip-path=\"url(#clip270)\" style=\"stroke:#000000; stroke-linecap:butt; stroke-linejoin:round; stroke-width:4; stroke-opacity:1; fill:none\" points=\"\n",
       "  557.205,1423.18 557.205,1404.28 \n",
       "  \"/>\n",
       "<polyline clip-path=\"url(#clip270)\" style=\"stroke:#000000; stroke-linecap:butt; stroke-linejoin:round; stroke-width:4; stroke-opacity:1; fill:none\" points=\"\n",
       "  904.239,1423.18 904.239,1404.28 \n",
       "  \"/>\n",
       "<polyline clip-path=\"url(#clip270)\" style=\"stroke:#000000; stroke-linecap:butt; stroke-linejoin:round; stroke-width:4; stroke-opacity:1; fill:none\" points=\"\n",
       "  1251.27,1423.18 1251.27,1404.28 \n",
       "  \"/>\n",
       "<polyline clip-path=\"url(#clip270)\" style=\"stroke:#000000; stroke-linecap:butt; stroke-linejoin:round; stroke-width:4; stroke-opacity:1; fill:none\" points=\"\n",
       "  1598.31,1423.18 1598.31,1404.28 \n",
       "  \"/>\n",
       "<polyline clip-path=\"url(#clip270)\" style=\"stroke:#000000; stroke-linecap:butt; stroke-linejoin:round; stroke-width:4; stroke-opacity:1; fill:none\" points=\"\n",
       "  1945.34,1423.18 1945.34,1404.28 \n",
       "  \"/>\n",
       "<polyline clip-path=\"url(#clip270)\" style=\"stroke:#000000; stroke-linecap:butt; stroke-linejoin:round; stroke-width:4; stroke-opacity:1; fill:none\" points=\"\n",
       "  2292.37,1423.18 2292.37,1404.28 \n",
       "  \"/>\n",
       "<path clip-path=\"url(#clip270)\" d=\"M547.483 1451.02 L565.84 1451.02 L565.84 1454.96 L551.766 1454.96 L551.766 1463.43 Q552.784 1463.08 553.803 1462.92 Q554.821 1462.73 555.84 1462.73 Q561.627 1462.73 565.006 1465.9 Q568.386 1469.08 568.386 1474.49 Q568.386 1480.07 564.914 1483.17 Q561.442 1486.25 555.122 1486.25 Q552.946 1486.25 550.678 1485.88 Q548.432 1485.51 546.025 1484.77 L546.025 1480.07 Q548.108 1481.2 550.33 1481.76 Q552.553 1482.32 555.03 1482.32 Q559.034 1482.32 561.372 1480.21 Q563.71 1478.1 563.71 1474.49 Q563.71 1470.88 561.372 1468.77 Q559.034 1466.67 555.03 1466.67 Q553.155 1466.67 551.28 1467.08 Q549.428 1467.5 547.483 1468.38 L547.483 1451.02 Z\" fill=\"#000000\" fill-rule=\"evenodd\" fill-opacity=\"1\" /><path clip-path=\"url(#clip270)\" d=\"M878.926 1481.64 L886.565 1481.64 L886.565 1455.28 L878.255 1456.95 L878.255 1452.69 L886.519 1451.02 L891.195 1451.02 L891.195 1481.64 L898.834 1481.64 L898.834 1485.58 L878.926 1485.58 L878.926 1481.64 Z\" fill=\"#000000\" fill-rule=\"evenodd\" fill-opacity=\"1\" /><path clip-path=\"url(#clip270)\" d=\"M918.278 1454.1 Q914.667 1454.1 912.838 1457.66 Q911.033 1461.2 911.033 1468.33 Q911.033 1475.44 912.838 1479.01 Q914.667 1482.55 918.278 1482.55 Q921.912 1482.55 923.718 1479.01 Q925.547 1475.44 925.547 1468.33 Q925.547 1461.2 923.718 1457.66 Q921.912 1454.1 918.278 1454.1 M918.278 1450.39 Q924.088 1450.39 927.144 1455 Q930.222 1459.58 930.222 1468.33 Q930.222 1477.06 927.144 1481.67 Q924.088 1486.25 918.278 1486.25 Q912.468 1486.25 909.389 1481.67 Q906.334 1477.06 906.334 1468.33 Q906.334 1459.58 909.389 1455 Q912.468 1450.39 918.278 1450.39 Z\" fill=\"#000000\" fill-rule=\"evenodd\" fill-opacity=\"1\" /><path clip-path=\"url(#clip270)\" d=\"M1226.46 1481.64 L1234.1 1481.64 L1234.1 1455.28 L1225.79 1456.95 L1225.79 1452.69 L1234.05 1451.02 L1238.73 1451.02 L1238.73 1481.64 L1246.36 1481.64 L1246.36 1485.58 L1226.46 1485.58 L1226.46 1481.64 Z\" fill=\"#000000\" fill-rule=\"evenodd\" fill-opacity=\"1\" /><path clip-path=\"url(#clip270)\" d=\"M1255.86 1451.02 L1274.21 1451.02 L1274.21 1454.96 L1260.14 1454.96 L1260.14 1463.43 Q1261.16 1463.08 1262.17 1462.92 Q1263.19 1462.73 1264.21 1462.73 Q1270 1462.73 1273.38 1465.9 Q1276.76 1469.08 1276.76 1474.49 Q1276.76 1480.07 1273.29 1483.17 Q1269.81 1486.25 1263.49 1486.25 Q1261.32 1486.25 1259.05 1485.88 Q1256.8 1485.51 1254.4 1484.77 L1254.4 1480.07 Q1256.48 1481.2 1258.7 1481.76 Q1260.92 1482.32 1263.4 1482.32 Q1267.41 1482.32 1269.74 1480.21 Q1272.08 1478.1 1272.08 1474.49 Q1272.08 1470.88 1269.74 1468.77 Q1267.41 1466.67 1263.4 1466.67 Q1261.53 1466.67 1259.65 1467.08 Q1257.8 1467.5 1255.86 1468.38 L1255.86 1451.02 Z\" fill=\"#000000\" fill-rule=\"evenodd\" fill-opacity=\"1\" /><path clip-path=\"url(#clip270)\" d=\"M1577.08 1481.64 L1593.4 1481.64 L1593.4 1485.58 L1571.45 1485.58 L1571.45 1481.64 Q1574.12 1478.89 1578.7 1474.26 Q1583.31 1469.61 1584.49 1468.27 Q1586.73 1465.74 1587.61 1464.01 Q1588.51 1462.25 1588.51 1460.56 Q1588.51 1457.8 1586.57 1456.07 Q1584.65 1454.33 1581.55 1454.33 Q1579.35 1454.33 1576.89 1455.09 Q1574.46 1455.86 1571.69 1457.41 L1571.69 1452.69 Q1574.51 1451.55 1576.96 1450.97 Q1579.42 1450.39 1581.45 1450.39 Q1586.82 1450.39 1590.02 1453.08 Q1593.21 1455.77 1593.21 1460.26 Q1593.21 1462.39 1592.4 1464.31 Q1591.62 1466.2 1589.51 1468.8 Q1588.93 1469.47 1585.83 1472.69 Q1582.73 1475.88 1577.08 1481.64 Z\" fill=\"#000000\" fill-rule=\"evenodd\" fill-opacity=\"1\" /><path clip-path=\"url(#clip270)\" d=\"M1613.21 1454.1 Q1609.6 1454.1 1607.77 1457.66 Q1605.97 1461.2 1605.97 1468.33 Q1605.97 1475.44 1607.77 1479.01 Q1609.6 1482.55 1613.21 1482.55 Q1616.85 1482.55 1618.65 1479.01 Q1620.48 1475.44 1620.48 1468.33 Q1620.48 1461.2 1618.65 1457.66 Q1616.85 1454.1 1613.21 1454.1 M1613.21 1450.39 Q1619.02 1450.39 1622.08 1455 Q1625.16 1459.58 1625.16 1468.33 Q1625.16 1477.06 1622.08 1481.67 Q1619.02 1486.25 1613.21 1486.25 Q1607.4 1486.25 1604.32 1481.67 Q1601.27 1477.06 1601.27 1468.33 Q1601.27 1459.58 1604.32 1455 Q1607.4 1450.39 1613.21 1450.39 Z\" fill=\"#000000\" fill-rule=\"evenodd\" fill-opacity=\"1\" /><path clip-path=\"url(#clip270)\" d=\"M1924.61 1481.64 L1940.93 1481.64 L1940.93 1485.58 L1918.98 1485.58 L1918.98 1481.64 Q1921.65 1478.89 1926.23 1474.26 Q1930.84 1469.61 1932.02 1468.27 Q1934.26 1465.74 1935.14 1464.01 Q1936.04 1462.25 1936.04 1460.56 Q1936.04 1457.8 1934.1 1456.07 Q1932.18 1454.33 1929.08 1454.33 Q1926.88 1454.33 1924.42 1455.09 Q1921.99 1455.86 1919.22 1457.41 L1919.22 1452.69 Q1922.04 1451.55 1924.49 1450.97 Q1926.95 1450.39 1928.98 1450.39 Q1934.36 1450.39 1937.55 1453.08 Q1940.74 1455.77 1940.74 1460.26 Q1940.74 1462.39 1939.93 1464.31 Q1939.15 1466.2 1937.04 1468.8 Q1936.46 1469.47 1933.36 1472.69 Q1930.26 1475.88 1924.61 1481.64 Z\" fill=\"#000000\" fill-rule=\"evenodd\" fill-opacity=\"1\" /><path clip-path=\"url(#clip270)\" d=\"M1950.79 1451.02 L1969.15 1451.02 L1969.15 1454.96 L1955.07 1454.96 L1955.07 1463.43 Q1956.09 1463.08 1957.11 1462.92 Q1958.13 1462.73 1959.15 1462.73 Q1964.93 1462.73 1968.31 1465.9 Q1971.69 1469.08 1971.69 1474.49 Q1971.69 1480.07 1968.22 1483.17 Q1964.75 1486.25 1958.43 1486.25 Q1956.25 1486.25 1953.98 1485.88 Q1951.74 1485.51 1949.33 1484.77 L1949.33 1480.07 Q1951.42 1481.2 1953.64 1481.76 Q1955.86 1482.32 1958.34 1482.32 Q1962.34 1482.32 1964.68 1480.21 Q1967.02 1478.1 1967.02 1474.49 Q1967.02 1470.88 1964.68 1468.77 Q1962.34 1466.67 1958.34 1466.67 Q1956.46 1466.67 1954.59 1467.08 Q1952.73 1467.5 1950.79 1468.38 L1950.79 1451.02 Z\" fill=\"#000000\" fill-rule=\"evenodd\" fill-opacity=\"1\" /><path clip-path=\"url(#clip270)\" d=\"M2281.21 1466.95 Q2284.57 1467.66 2286.45 1469.93 Q2288.34 1472.2 2288.34 1475.53 Q2288.34 1480.65 2284.83 1483.45 Q2281.31 1486.25 2274.83 1486.25 Q2272.65 1486.25 2270.34 1485.81 Q2268.04 1485.39 2265.59 1484.54 L2265.59 1480.02 Q2267.53 1481.16 2269.85 1481.74 Q2272.16 1482.32 2274.69 1482.32 Q2279.09 1482.32 2281.38 1480.58 Q2283.69 1478.84 2283.69 1475.53 Q2283.69 1472.48 2281.54 1470.77 Q2279.41 1469.03 2275.59 1469.03 L2271.56 1469.03 L2271.56 1465.19 L2275.77 1465.19 Q2279.22 1465.19 2281.05 1463.82 Q2282.88 1462.43 2282.88 1459.84 Q2282.88 1457.18 2280.98 1455.77 Q2279.11 1454.33 2275.59 1454.33 Q2273.67 1454.33 2271.47 1454.75 Q2269.27 1455.16 2266.63 1456.04 L2266.63 1451.88 Q2269.29 1451.14 2271.61 1450.77 Q2273.95 1450.39 2276.01 1450.39 Q2281.33 1450.39 2284.43 1452.83 Q2287.53 1455.23 2287.53 1459.35 Q2287.53 1462.22 2285.89 1464.21 Q2284.25 1466.18 2281.21 1466.95 Z\" fill=\"#000000\" fill-rule=\"evenodd\" fill-opacity=\"1\" /><path clip-path=\"url(#clip270)\" d=\"M2307.21 1454.1 Q2303.6 1454.1 2301.77 1457.66 Q2299.96 1461.2 2299.96 1468.33 Q2299.96 1475.44 2301.77 1479.01 Q2303.6 1482.55 2307.21 1482.55 Q2310.84 1482.55 2312.65 1479.01 Q2314.48 1475.44 2314.48 1468.33 Q2314.48 1461.2 2312.65 1457.66 Q2310.84 1454.1 2307.21 1454.1 M2307.21 1450.39 Q2313.02 1450.39 2316.08 1455 Q2319.15 1459.58 2319.15 1468.33 Q2319.15 1477.06 2316.08 1481.67 Q2313.02 1486.25 2307.21 1486.25 Q2301.4 1486.25 2298.32 1481.67 Q2295.27 1477.06 2295.27 1468.33 Q2295.27 1459.58 2298.32 1455 Q2301.4 1450.39 2307.21 1450.39 Z\" fill=\"#000000\" fill-rule=\"evenodd\" fill-opacity=\"1\" /><path clip-path=\"url(#clip270)\" d=\"M1083.66 1520.52 L1090.09 1520.52 L1090.09 1568.04 L1083.66 1568.04 L1083.66 1520.52 Z\" fill=\"#000000\" fill-rule=\"evenodd\" fill-opacity=\"1\" /><path clip-path=\"url(#clip270)\" d=\"M1108.42 1522.27 L1108.42 1532.4 L1120.48 1532.4 L1120.48 1536.95 L1108.42 1536.95 L1108.42 1556.3 Q1108.42 1560.66 1109.6 1561.9 Q1110.81 1563.14 1114.47 1563.14 L1120.48 1563.14 L1120.48 1568.04 L1114.47 1568.04 Q1107.69 1568.04 1105.11 1565.53 Q1102.53 1562.98 1102.53 1556.3 L1102.53 1536.95 L1098.23 1536.95 L1098.23 1532.4 L1102.53 1532.4 L1102.53 1522.27 L1108.42 1522.27 Z\" fill=\"#000000\" fill-rule=\"evenodd\" fill-opacity=\"1\" /><path clip-path=\"url(#clip270)\" d=\"M1158.68 1548.76 L1158.68 1551.62 L1131.75 1551.62 Q1132.13 1557.67 1135.38 1560.85 Q1138.66 1564 1144.48 1564 Q1147.86 1564 1151.01 1563.17 Q1154.19 1562.35 1157.31 1560.69 L1157.31 1566.23 Q1154.16 1567.57 1150.85 1568.27 Q1147.54 1568.97 1144.13 1568.97 Q1135.6 1568.97 1130.6 1564 Q1125.64 1559.04 1125.64 1550.57 Q1125.64 1541.82 1130.35 1536.69 Q1135.09 1531.54 1143.11 1531.54 Q1150.31 1531.54 1154.48 1536.18 Q1158.68 1540.8 1158.68 1548.76 M1152.82 1547.04 Q1152.76 1542.23 1150.12 1539.37 Q1147.51 1536.5 1143.18 1536.5 Q1138.28 1536.5 1135.32 1539.27 Q1132.39 1542.04 1131.94 1547.07 L1152.82 1547.04 Z\" fill=\"#000000\" fill-rule=\"evenodd\" fill-opacity=\"1\" /><path clip-path=\"url(#clip270)\" d=\"M1188.95 1537.87 Q1187.96 1537.3 1186.78 1537.04 Q1185.64 1536.76 1184.24 1536.76 Q1179.27 1536.76 1176.6 1540 Q1173.95 1543.22 1173.95 1549.27 L1173.95 1568.04 L1168.07 1568.04 L1168.07 1532.4 L1173.95 1532.4 L1173.95 1537.93 Q1175.8 1534.69 1178.76 1533.13 Q1181.72 1531.54 1185.95 1531.54 Q1186.56 1531.54 1187.29 1531.63 Q1188.02 1531.7 1188.91 1531.85 L1188.95 1537.87 Z\" fill=\"#000000\" fill-rule=\"evenodd\" fill-opacity=\"1\" /><path clip-path=\"url(#clip270)\" d=\"M1211.29 1550.12 Q1204.19 1550.12 1201.45 1551.75 Q1198.72 1553.37 1198.72 1557.29 Q1198.72 1560.4 1200.75 1562.25 Q1202.82 1564.07 1206.36 1564.07 Q1211.23 1564.07 1214.15 1560.63 Q1217.11 1557.16 1217.11 1551.43 L1217.11 1550.12 L1211.29 1550.12 M1222.97 1547.71 L1222.97 1568.04 L1217.11 1568.04 L1217.11 1562.63 Q1215.11 1565.88 1212.12 1567.44 Q1209.13 1568.97 1204.8 1568.97 Q1199.32 1568.97 1196.08 1565.91 Q1192.86 1562.82 1192.86 1557.67 Q1192.86 1551.65 1196.87 1548.6 Q1200.91 1545.54 1208.9 1545.54 L1217.11 1545.54 L1217.11 1544.97 Q1217.11 1540.93 1214.44 1538.73 Q1211.8 1536.5 1206.99 1536.5 Q1203.94 1536.5 1201.04 1537.23 Q1198.14 1537.97 1195.47 1539.43 L1195.47 1534.02 Q1198.69 1532.78 1201.71 1532.17 Q1204.73 1531.54 1207.6 1531.54 Q1215.33 1531.54 1219.15 1535.55 Q1222.97 1539.56 1222.97 1547.71 Z\" fill=\"#000000\" fill-rule=\"evenodd\" fill-opacity=\"1\" /><path clip-path=\"url(#clip270)\" d=\"M1240.83 1522.27 L1240.83 1532.4 L1252.89 1532.4 L1252.89 1536.95 L1240.83 1536.95 L1240.83 1556.3 Q1240.83 1560.66 1242 1561.9 Q1243.21 1563.14 1246.87 1563.14 L1252.89 1563.14 L1252.89 1568.04 L1246.87 1568.04 Q1240.09 1568.04 1237.52 1565.53 Q1234.94 1562.98 1234.94 1556.3 L1234.94 1536.95 L1230.64 1536.95 L1230.64 1532.4 L1234.94 1532.4 L1234.94 1522.27 L1240.83 1522.27 Z\" fill=\"#000000\" fill-rule=\"evenodd\" fill-opacity=\"1\" /><path clip-path=\"url(#clip270)\" d=\"M1260.59 1532.4 L1266.45 1532.4 L1266.45 1568.04 L1260.59 1568.04 L1260.59 1532.4 M1260.59 1518.52 L1266.45 1518.52 L1266.45 1525.93 L1260.59 1525.93 L1260.59 1518.52 Z\" fill=\"#000000\" fill-rule=\"evenodd\" fill-opacity=\"1\" /><path clip-path=\"url(#clip270)\" d=\"M1292.52 1536.5 Q1287.81 1536.5 1285.07 1540.19 Q1282.33 1543.85 1282.33 1550.25 Q1282.33 1556.65 1285.04 1560.34 Q1287.77 1564 1292.52 1564 Q1297.19 1564 1299.93 1560.31 Q1302.67 1556.62 1302.67 1550.25 Q1302.67 1543.92 1299.93 1540.23 Q1297.19 1536.5 1292.52 1536.5 M1292.52 1531.54 Q1300.16 1531.54 1304.52 1536.5 Q1308.88 1541.47 1308.88 1550.25 Q1308.88 1559 1304.52 1564 Q1300.16 1568.97 1292.52 1568.97 Q1284.85 1568.97 1280.49 1564 Q1276.16 1559 1276.16 1550.25 Q1276.16 1541.47 1280.49 1536.5 Q1284.85 1531.54 1292.52 1531.54 Z\" fill=\"#000000\" fill-rule=\"evenodd\" fill-opacity=\"1\" /><path clip-path=\"url(#clip270)\" d=\"M1348.22 1546.53 L1348.22 1568.04 L1342.36 1568.04 L1342.36 1546.72 Q1342.36 1541.66 1340.39 1539.14 Q1338.41 1536.63 1334.47 1536.63 Q1329.72 1536.63 1326.99 1539.65 Q1324.25 1542.68 1324.25 1547.9 L1324.25 1568.04 L1318.36 1568.04 L1318.36 1532.4 L1324.25 1532.4 L1324.25 1537.93 Q1326.35 1534.72 1329.18 1533.13 Q1332.05 1531.54 1335.77 1531.54 Q1341.91 1531.54 1345.07 1535.36 Q1348.22 1539.14 1348.22 1546.53 Z\" fill=\"#000000\" fill-rule=\"evenodd\" fill-opacity=\"1\" /><path clip-path=\"url(#clip270)\" d=\"M1382.62 1533.45 L1382.62 1538.98 Q1380.14 1537.71 1377.47 1537.07 Q1374.79 1536.44 1371.93 1536.44 Q1367.57 1536.44 1365.37 1537.77 Q1363.21 1539.11 1363.21 1541.79 Q1363.21 1543.82 1364.77 1545 Q1366.33 1546.15 1371.04 1547.2 L1373.04 1547.64 Q1379.28 1548.98 1381.89 1551.43 Q1384.53 1553.85 1384.53 1558.21 Q1384.53 1563.17 1380.59 1566.07 Q1376.67 1568.97 1369.8 1568.97 Q1366.93 1568.97 1363.81 1568.39 Q1360.72 1567.85 1357.29 1566.74 L1357.29 1560.69 Q1360.53 1562.38 1363.68 1563.24 Q1366.84 1564.07 1369.92 1564.07 Q1374.06 1564.07 1376.29 1562.66 Q1378.52 1561.23 1378.52 1558.65 Q1378.52 1556.27 1376.89 1554.99 Q1375.3 1553.72 1369.86 1552.54 L1367.82 1552.07 Q1362.38 1550.92 1359.96 1548.56 Q1357.54 1546.18 1357.54 1542.04 Q1357.54 1537.01 1361.11 1534.27 Q1364.67 1531.54 1371.23 1531.54 Q1374.47 1531.54 1377.34 1532.01 Q1380.2 1532.49 1382.62 1533.45 Z\" fill=\"#000000\" fill-rule=\"evenodd\" fill-opacity=\"1\" /><path clip-path=\"url(#clip270)\" d=\"M1404.27 1520.52 L1409.68 1520.52 L1393.13 1574.09 L1387.72 1574.09 L1404.27 1520.52 Z\" fill=\"#000000\" fill-rule=\"evenodd\" fill-opacity=\"1\" /><path clip-path=\"url(#clip270)\" d=\"M1422.19 1562.63 L1444.62 1562.63 L1444.62 1568.04 L1414.45 1568.04 L1414.45 1562.63 Q1418.11 1558.85 1424.41 1552.48 Q1430.75 1546.08 1432.37 1544.24 Q1435.46 1540.77 1436.67 1538.38 Q1437.91 1535.96 1437.91 1533.64 Q1437.91 1529.85 1435.24 1527.46 Q1432.59 1525.08 1428.33 1525.08 Q1425.3 1525.08 1421.93 1526.13 Q1418.59 1527.18 1414.77 1529.31 L1414.77 1522.82 Q1418.65 1521.26 1422.03 1520.46 Q1425.4 1519.66 1428.2 1519.66 Q1435.59 1519.66 1439.98 1523.36 Q1444.37 1527.05 1444.37 1533.22 Q1444.37 1536.15 1443.26 1538.79 Q1442.17 1541.4 1439.28 1544.97 Q1438.48 1545.89 1434.22 1550.32 Q1429.95 1554.71 1422.19 1562.63 Z\" fill=\"#000000\" fill-rule=\"evenodd\" fill-opacity=\"1\" /><path clip-path=\"url(#clip270)\" d=\"M1471.87 1524.76 Q1466.9 1524.76 1464.39 1529.66 Q1461.91 1534.53 1461.91 1544.33 Q1461.91 1554.1 1464.39 1559 Q1466.9 1563.87 1471.87 1563.87 Q1476.87 1563.87 1479.35 1559 Q1481.86 1554.1 1481.86 1544.33 Q1481.86 1534.53 1479.35 1529.66 Q1476.87 1524.76 1471.87 1524.76 M1471.87 1519.66 Q1479.86 1519.66 1484.06 1526 Q1488.29 1532.3 1488.29 1544.33 Q1488.29 1556.33 1484.06 1562.66 Q1479.86 1568.97 1471.87 1568.97 Q1463.88 1568.97 1459.65 1562.66 Q1455.45 1556.33 1455.45 1544.33 Q1455.45 1532.3 1459.65 1526 Q1463.88 1519.66 1471.87 1519.66 Z\" fill=\"#000000\" fill-rule=\"evenodd\" fill-opacity=\"1\" /><polyline clip-path=\"url(#clip272)\" style=\"stroke:#000000; stroke-linecap:butt; stroke-linejoin:round; stroke-width:2; stroke-opacity:0.1; fill:none\" points=\"\n",
       "  219.195,1369.74 2352.76,1369.74 \n",
       "  \"/>\n",
       "<polyline clip-path=\"url(#clip272)\" style=\"stroke:#000000; stroke-linecap:butt; stroke-linejoin:round; stroke-width:2; stroke-opacity:0.1; fill:none\" points=\"\n",
       "  219.195,1140.94 2352.76,1140.94 \n",
       "  \"/>\n",
       "<polyline clip-path=\"url(#clip272)\" style=\"stroke:#000000; stroke-linecap:butt; stroke-linejoin:round; stroke-width:2; stroke-opacity:0.1; fill:none\" points=\"\n",
       "  219.195,912.144 2352.76,912.144 \n",
       "  \"/>\n",
       "<polyline clip-path=\"url(#clip272)\" style=\"stroke:#000000; stroke-linecap:butt; stroke-linejoin:round; stroke-width:2; stroke-opacity:0.1; fill:none\" points=\"\n",
       "  219.195,683.343 2352.76,683.343 \n",
       "  \"/>\n",
       "<polyline clip-path=\"url(#clip272)\" style=\"stroke:#000000; stroke-linecap:butt; stroke-linejoin:round; stroke-width:2; stroke-opacity:0.1; fill:none\" points=\"\n",
       "  219.195,454.543 2352.76,454.543 \n",
       "  \"/>\n",
       "<polyline clip-path=\"url(#clip272)\" style=\"stroke:#000000; stroke-linecap:butt; stroke-linejoin:round; stroke-width:2; stroke-opacity:0.1; fill:none\" points=\"\n",
       "  219.195,225.742 2352.76,225.742 \n",
       "  \"/>\n",
       "<polyline clip-path=\"url(#clip270)\" style=\"stroke:#000000; stroke-linecap:butt; stroke-linejoin:round; stroke-width:4; stroke-opacity:1; fill:none\" points=\"\n",
       "  219.195,1423.18 219.195,47.2441 \n",
       "  \"/>\n",
       "<polyline clip-path=\"url(#clip270)\" style=\"stroke:#000000; stroke-linecap:butt; stroke-linejoin:round; stroke-width:4; stroke-opacity:1; fill:none\" points=\"\n",
       "  219.195,1369.74 238.093,1369.74 \n",
       "  \"/>\n",
       "<polyline clip-path=\"url(#clip270)\" style=\"stroke:#000000; stroke-linecap:butt; stroke-linejoin:round; stroke-width:4; stroke-opacity:1; fill:none\" points=\"\n",
       "  219.195,1140.94 238.093,1140.94 \n",
       "  \"/>\n",
       "<polyline clip-path=\"url(#clip270)\" style=\"stroke:#000000; stroke-linecap:butt; stroke-linejoin:round; stroke-width:4; stroke-opacity:1; fill:none\" points=\"\n",
       "  219.195,912.144 238.093,912.144 \n",
       "  \"/>\n",
       "<polyline clip-path=\"url(#clip270)\" style=\"stroke:#000000; stroke-linecap:butt; stroke-linejoin:round; stroke-width:4; stroke-opacity:1; fill:none\" points=\"\n",
       "  219.195,683.343 238.093,683.343 \n",
       "  \"/>\n",
       "<polyline clip-path=\"url(#clip270)\" style=\"stroke:#000000; stroke-linecap:butt; stroke-linejoin:round; stroke-width:4; stroke-opacity:1; fill:none\" points=\"\n",
       "  219.195,454.543 238.093,454.543 \n",
       "  \"/>\n",
       "<polyline clip-path=\"url(#clip270)\" style=\"stroke:#000000; stroke-linecap:butt; stroke-linejoin:round; stroke-width:4; stroke-opacity:1; fill:none\" points=\"\n",
       "  219.195,225.742 238.093,225.742 \n",
       "  \"/>\n",
       "<path clip-path=\"url(#clip270)\" d=\"M126.205 1355.54 Q122.593 1355.54 120.765 1359.11 Q118.959 1362.65 118.959 1369.78 Q118.959 1376.89 120.765 1380.45 Q122.593 1383.99 126.205 1383.99 Q129.839 1383.99 131.644 1380.45 Q133.473 1376.89 133.473 1369.78 Q133.473 1362.65 131.644 1359.11 Q129.839 1355.54 126.205 1355.54 M126.205 1351.84 Q132.015 1351.84 135.07 1356.45 Q138.149 1361.03 138.149 1369.78 Q138.149 1378.51 135.07 1383.11 Q132.015 1387.7 126.205 1387.7 Q120.394 1387.7 117.316 1383.11 Q114.26 1378.51 114.26 1369.78 Q114.26 1361.03 117.316 1356.45 Q120.394 1351.84 126.205 1351.84 Z\" fill=\"#000000\" fill-rule=\"evenodd\" fill-opacity=\"1\" /><path clip-path=\"url(#clip270)\" d=\"M146.366 1381.15 L151.251 1381.15 L151.251 1387.02 L146.366 1387.02 L146.366 1381.15 Z\" fill=\"#000000\" fill-rule=\"evenodd\" fill-opacity=\"1\" /><path clip-path=\"url(#clip270)\" d=\"M161.575 1386.31 L161.575 1382.05 Q163.334 1382.88 165.14 1383.32 Q166.945 1383.76 168.681 1383.76 Q173.311 1383.76 175.741 1380.66 Q178.195 1377.53 178.542 1371.19 Q177.2 1373.18 175.139 1374.25 Q173.079 1375.31 170.579 1375.31 Q165.394 1375.31 162.362 1372.19 Q159.353 1369.04 159.353 1363.6 Q159.353 1358.27 162.501 1355.06 Q165.649 1351.84 170.88 1351.84 Q176.876 1351.84 180.024 1356.45 Q183.195 1361.03 183.195 1369.78 Q183.195 1377.95 179.306 1382.83 Q175.44 1387.7 168.889 1387.7 Q167.13 1387.7 165.325 1387.35 Q163.519 1387 161.575 1386.31 M170.88 1371.65 Q174.028 1371.65 175.857 1369.5 Q177.709 1367.35 177.709 1363.6 Q177.709 1359.87 175.857 1357.72 Q174.028 1355.54 170.88 1355.54 Q167.732 1355.54 165.88 1357.72 Q164.052 1359.87 164.052 1363.6 Q164.052 1367.35 165.88 1369.5 Q167.732 1371.65 170.88 1371.65 Z\" fill=\"#000000\" fill-rule=\"evenodd\" fill-opacity=\"1\" /><path clip-path=\"url(#clip270)\" d=\"M116.83 1154.29 L124.468 1154.29 L124.468 1127.92 L116.158 1129.59 L116.158 1125.33 L124.422 1123.66 L129.098 1123.66 L129.098 1154.29 L136.737 1154.29 L136.737 1158.22 L116.83 1158.22 L116.83 1154.29 Z\" fill=\"#000000\" fill-rule=\"evenodd\" fill-opacity=\"1\" /><path clip-path=\"url(#clip270)\" d=\"M146.181 1152.34 L151.066 1152.34 L151.066 1158.22 L146.181 1158.22 L146.181 1152.34 Z\" fill=\"#000000\" fill-rule=\"evenodd\" fill-opacity=\"1\" /><path clip-path=\"url(#clip270)\" d=\"M171.251 1126.74 Q167.64 1126.74 165.811 1130.31 Q164.005 1133.85 164.005 1140.98 Q164.005 1148.09 165.811 1151.65 Q167.64 1155.19 171.251 1155.19 Q174.885 1155.19 176.69 1151.65 Q178.519 1148.09 178.519 1140.98 Q178.519 1133.85 176.69 1130.31 Q174.885 1126.74 171.251 1126.74 M171.251 1123.04 Q177.061 1123.04 180.116 1127.65 Q183.195 1132.23 183.195 1140.98 Q183.195 1149.71 180.116 1154.31 Q177.061 1158.9 171.251 1158.9 Q165.44 1158.9 162.362 1154.31 Q159.306 1149.71 159.306 1140.98 Q159.306 1132.23 162.362 1127.65 Q165.44 1123.04 171.251 1123.04 Z\" fill=\"#000000\" fill-rule=\"evenodd\" fill-opacity=\"1\" /><path clip-path=\"url(#clip270)\" d=\"M118.056 925.489 L125.695 925.489 L125.695 899.123 L117.385 900.79 L117.385 896.53 L125.649 894.864 L130.325 894.864 L130.325 925.489 L137.964 925.489 L137.964 929.424 L118.056 929.424 L118.056 925.489 Z\" fill=\"#000000\" fill-rule=\"evenodd\" fill-opacity=\"1\" /><path clip-path=\"url(#clip270)\" d=\"M147.408 923.544 L152.292 923.544 L152.292 929.424 L147.408 929.424 L147.408 923.544 Z\" fill=\"#000000\" fill-rule=\"evenodd\" fill-opacity=\"1\" /><path clip-path=\"url(#clip270)\" d=\"M163.288 925.489 L170.927 925.489 L170.927 899.123 L162.616 900.79 L162.616 896.53 L170.88 894.864 L175.556 894.864 L175.556 925.489 L183.195 925.489 L183.195 929.424 L163.288 929.424 L163.288 925.489 Z\" fill=\"#000000\" fill-rule=\"evenodd\" fill-opacity=\"1\" /><path clip-path=\"url(#clip270)\" d=\"M118.427 696.688 L126.066 696.688 L126.066 670.323 L117.756 671.989 L117.756 667.73 L126.019 666.063 L130.695 666.063 L130.695 696.688 L138.334 696.688 L138.334 700.623 L118.427 700.623 L118.427 696.688 Z\" fill=\"#000000\" fill-rule=\"evenodd\" fill-opacity=\"1\" /><path clip-path=\"url(#clip270)\" d=\"M147.778 694.744 L152.663 694.744 L152.663 700.623 L147.778 700.623 L147.778 694.744 Z\" fill=\"#000000\" fill-rule=\"evenodd\" fill-opacity=\"1\" /><path clip-path=\"url(#clip270)\" d=\"M166.876 696.688 L183.195 696.688 L183.195 700.623 L161.251 700.623 L161.251 696.688 Q163.913 693.934 168.496 689.304 Q173.102 684.651 174.283 683.309 Q176.528 680.785 177.408 679.049 Q178.311 677.29 178.311 675.6 Q178.311 672.846 176.366 671.11 Q174.445 669.373 171.343 669.373 Q169.144 669.373 166.69 670.137 Q164.26 670.901 161.482 672.452 L161.482 667.73 Q164.306 666.596 166.76 666.017 Q169.214 665.438 171.251 665.438 Q176.621 665.438 179.815 668.123 Q183.01 670.809 183.01 675.299 Q183.01 677.429 182.2 679.35 Q181.413 681.248 179.306 683.841 Q178.727 684.512 175.626 687.73 Q172.524 690.924 166.876 696.688 Z\" fill=\"#000000\" fill-rule=\"evenodd\" fill-opacity=\"1\" /><path clip-path=\"url(#clip270)\" d=\"M117.478 467.888 L125.117 467.888 L125.117 441.522 L116.806 443.189 L116.806 438.93 L125.07 437.263 L129.746 437.263 L129.746 467.888 L137.385 467.888 L137.385 471.823 L117.478 471.823 L117.478 467.888 Z\" fill=\"#000000\" fill-rule=\"evenodd\" fill-opacity=\"1\" /><path clip-path=\"url(#clip270)\" d=\"M146.829 465.943 L151.714 465.943 L151.714 471.823 L146.829 471.823 L146.829 465.943 Z\" fill=\"#000000\" fill-rule=\"evenodd\" fill-opacity=\"1\" /><path clip-path=\"url(#clip270)\" d=\"M176.065 453.189 Q179.422 453.906 181.297 456.175 Q183.195 458.443 183.195 461.777 Q183.195 466.892 179.676 469.693 Q176.158 472.494 169.677 472.494 Q167.501 472.494 165.186 472.054 Q162.894 471.638 160.44 470.781 L160.44 466.267 Q162.385 467.402 164.7 467.98 Q167.015 468.559 169.538 468.559 Q173.936 468.559 176.227 466.823 Q178.542 465.087 178.542 461.777 Q178.542 458.721 176.389 457.008 Q174.26 455.272 170.44 455.272 L166.413 455.272 L166.413 451.429 L170.626 451.429 Q174.075 451.429 175.903 450.064 Q177.732 448.675 177.732 446.082 Q177.732 443.42 175.834 442.008 Q173.959 440.573 170.44 440.573 Q168.519 440.573 166.32 440.99 Q164.121 441.406 161.482 442.286 L161.482 438.119 Q164.144 437.379 166.459 437.008 Q168.797 436.638 170.857 436.638 Q176.181 436.638 179.283 439.068 Q182.385 441.476 182.385 445.596 Q182.385 448.466 180.741 450.457 Q179.098 452.425 176.065 453.189 Z\" fill=\"#000000\" fill-rule=\"evenodd\" fill-opacity=\"1\" /><path clip-path=\"url(#clip270)\" d=\"M116.343 239.087 L123.982 239.087 L123.982 212.722 L115.672 214.388 L115.672 210.129 L123.936 208.462 L128.612 208.462 L128.612 239.087 L136.251 239.087 L136.251 243.022 L116.343 243.022 L116.343 239.087 Z\" fill=\"#000000\" fill-rule=\"evenodd\" fill-opacity=\"1\" /><path clip-path=\"url(#clip270)\" d=\"M145.695 237.143 L150.579 237.143 L150.579 243.022 L145.695 243.022 L145.695 237.143 Z\" fill=\"#000000\" fill-rule=\"evenodd\" fill-opacity=\"1\" /><path clip-path=\"url(#clip270)\" d=\"M173.612 212.536 L161.806 230.985 L173.612 230.985 L173.612 212.536 M172.385 208.462 L178.264 208.462 L178.264 230.985 L183.195 230.985 L183.195 234.874 L178.264 234.874 L178.264 243.022 L173.612 243.022 L173.612 234.874 L158.01 234.874 L158.01 230.36 L172.385 208.462 Z\" fill=\"#000000\" fill-rule=\"evenodd\" fill-opacity=\"1\" /><path clip-path=\"url(#clip270)\" d=\"M16.4842 801.909 L16.4842 795.479 L58.5933 795.479 L58.5933 772.34 L64.0042 772.34 L64.0042 801.909 L16.4842 801.909 Z\" fill=\"#000000\" fill-rule=\"evenodd\" fill-opacity=\"1\" /><path clip-path=\"url(#clip270)\" d=\"M32.4621 753.179 Q32.4621 757.89 36.1542 760.627 Q39.8145 763.364 46.212 763.364 Q52.6095 763.364 56.3017 760.659 Q59.9619 757.922 59.9619 753.179 Q59.9619 748.5 56.2698 745.763 Q52.5777 743.026 46.212 743.026 Q39.8781 743.026 36.186 745.763 Q32.4621 748.5 32.4621 753.179 M27.4968 753.179 Q27.4968 745.54 32.4621 741.18 Q37.4273 736.819 46.212 736.819 Q54.9649 736.819 59.9619 741.18 Q64.9272 745.54 64.9272 753.179 Q64.9272 760.85 59.9619 765.21 Q54.9649 769.539 46.212 769.539 Q37.4273 769.539 32.4621 765.21 Q27.4968 760.85 27.4968 753.179 Z\" fill=\"#000000\" fill-rule=\"evenodd\" fill-opacity=\"1\" /><path clip-path=\"url(#clip270)\" d=\"M29.4065 704.386 L34.9447 704.386 Q33.6716 706.869 33.035 709.542 Q32.3984 712.216 32.3984 715.08 Q32.3984 719.441 33.7352 721.637 Q35.072 723.801 37.7456 723.801 Q39.7826 723.801 40.9603 722.242 Q42.1061 720.682 43.1565 715.972 L43.6021 713.966 Q44.9389 707.728 47.3897 705.118 Q49.8086 702.476 54.1691 702.476 Q59.1344 702.476 62.0308 706.423 Q64.9272 710.338 64.9272 717.213 Q64.9272 720.078 64.3543 723.197 Q63.8132 726.284 62.6992 729.722 L56.6518 729.722 Q58.3387 726.475 59.198 723.324 Q60.0256 720.173 60.0256 717.086 Q60.0256 712.948 58.6251 710.72 Q57.1929 708.492 54.6147 708.492 Q52.2276 708.492 50.9545 710.115 Q49.6813 711.707 48.5037 717.149 L48.0262 719.186 Q46.8804 724.629 44.5251 727.048 Q42.138 729.467 38.0002 729.467 Q32.9713 729.467 30.2341 725.902 Q27.4968 722.337 27.4968 715.781 Q27.4968 712.534 27.9743 709.67 Q28.4517 706.805 29.4065 704.386 Z\" fill=\"#000000\" fill-rule=\"evenodd\" fill-opacity=\"1\" /><path clip-path=\"url(#clip270)\" d=\"M29.4065 670.425 L34.9447 670.425 Q33.6716 672.908 33.035 675.581 Q32.3984 678.255 32.3984 681.119 Q32.3984 685.48 33.7352 687.676 Q35.072 689.84 37.7456 689.84 Q39.7826 689.84 40.9603 688.281 Q42.1061 686.721 43.1565 682.011 L43.6021 680.005 Q44.9389 673.767 47.3897 671.157 Q49.8086 668.515 54.1691 668.515 Q59.1344 668.515 62.0308 672.462 Q64.9272 676.377 64.9272 683.252 Q64.9272 686.116 64.3543 689.236 Q63.8132 692.323 62.6992 695.761 L56.6518 695.761 Q58.3387 692.514 59.198 689.363 Q60.0256 686.212 60.0256 683.125 Q60.0256 678.987 58.6251 676.759 Q57.1929 674.531 54.6147 674.531 Q52.2276 674.531 50.9545 676.154 Q49.6813 677.746 48.5037 683.188 L48.0262 685.225 Q46.8804 690.668 44.5251 693.087 Q42.138 695.506 38.0002 695.506 Q32.9713 695.506 30.2341 691.941 Q27.4968 688.376 27.4968 681.82 Q27.4968 678.573 27.9743 675.709 Q28.4517 672.844 29.4065 670.425 Z\" fill=\"#000000\" fill-rule=\"evenodd\" fill-opacity=\"1\" /><polyline clip-path=\"url(#clip272)\" style=\"stroke:#009af9; stroke-linecap:butt; stroke-linejoin:round; stroke-width:4; stroke-opacity:1; fill:none\" points=\"\n",
       "  279.579,357.443 348.985,744.296 418.392,947.268 487.799,1083.87 557.205,1194.87 626.612,1257.51 696.019,1301.29 765.425,1336.99 834.832,1366.35 904.239,1381.03 \n",
       "  973.645,1382.04 1043.05,1378.54 1112.46,1350.46 1181.87,1361.52 1251.27,1312.88 1320.68,1293.59 1390.09,1248.43 1459.49,1179.91 1528.9,1118.28 1598.31,1061.69 \n",
       "  1667.71,1004.26 1737.12,938.506 1806.53,840.249 1875.93,793.45 1945.34,678.098 2014.75,624.041 2084.15,590.783 2153.56,444.396 2222.97,310.117 2292.37,306.663 \n",
       "  \n",
       "  \"/>\n",
       "<polyline clip-path=\"url(#clip272)\" style=\"stroke:#e26f46; stroke-linecap:butt; stroke-linejoin:round; stroke-width:4; stroke-opacity:1; fill:none\" points=\"\n",
       "  279.579,406.531 348.985,761.742 418.392,980.746 487.799,1138.08 557.205,1220.14 626.612,1255.61 696.019,1304.29 765.425,1347.71 834.832,1359.66 904.239,1384.24 \n",
       "  973.645,1362.57 1043.05,1357.53 1112.46,1337.39 1181.87,1314.89 1251.27,1260.81 1320.68,1211.04 1390.09,1197.7 1459.49,1090.3 1528.9,1018.83 1598.31,969.377 \n",
       "  1667.71,979.68 1737.12,864.189 1806.53,737.797 1875.93,643.927 1945.34,506.893 2014.75,460.012 2084.15,449.891 2153.56,343.46 2222.97,256.286 2292.37,86.1857 \n",
       "  \n",
       "  \"/>\n",
       "<path clip-path=\"url(#clip270)\" d=\"\n",
       "M1871.38 248.629 L2281.64 248.629 L2281.64 93.1086 L1871.38 93.1086  Z\n",
       "  \" fill=\"#ffffff\" fill-rule=\"evenodd\" fill-opacity=\"1\"/>\n",
       "<polyline clip-path=\"url(#clip270)\" style=\"stroke:#000000; stroke-linecap:butt; stroke-linejoin:round; stroke-width:4; stroke-opacity:1; fill:none\" points=\"\n",
       "  1871.38,248.629 2281.64,248.629 2281.64,93.1086 1871.38,93.1086 1871.38,248.629 \n",
       "  \"/>\n",
       "<polyline clip-path=\"url(#clip270)\" style=\"stroke:#009af9; stroke-linecap:butt; stroke-linejoin:round; stroke-width:4; stroke-opacity:1; fill:none\" points=\"\n",
       "  1895.09,144.949 2037.32,144.949 \n",
       "  \"/>\n",
       "<path clip-path=\"url(#clip270)\" d=\"M2068.44 128.942 L2068.44 136.303 L2077.21 136.303 L2077.21 139.613 L2068.44 139.613 L2068.44 153.687 Q2068.44 156.858 2069.3 157.761 Q2070.17 158.664 2072.84 158.664 L2077.21 158.664 L2077.21 162.229 L2072.84 162.229 Q2067.91 162.229 2066.03 160.4 Q2064.16 158.548 2064.16 153.687 L2064.16 139.613 L2061.03 139.613 L2061.03 136.303 L2064.16 136.303 L2064.16 128.942 L2068.44 128.942 Z\" fill=\"#000000\" fill-rule=\"evenodd\" fill-opacity=\"1\" /><path clip-path=\"url(#clip270)\" d=\"M2097.84 140.284 Q2097.12 139.868 2096.26 139.682 Q2095.43 139.474 2094.41 139.474 Q2090.8 139.474 2088.86 141.835 Q2086.93 144.173 2086.93 148.571 L2086.93 162.229 L2082.65 162.229 L2082.65 136.303 L2086.93 136.303 L2086.93 140.331 Q2088.28 137.969 2090.43 136.835 Q2092.58 135.678 2095.66 135.678 Q2096.1 135.678 2096.63 135.747 Q2097.17 135.794 2097.81 135.909 L2097.84 140.284 Z\" fill=\"#000000\" fill-rule=\"evenodd\" fill-opacity=\"1\" /><path clip-path=\"url(#clip270)\" d=\"M2123.02 146.581 L2123.02 162.229 L2118.76 162.229 L2118.76 146.719 Q2118.76 143.039 2117.33 141.21 Q2115.89 139.382 2113.02 139.382 Q2109.57 139.382 2107.58 141.581 Q2105.59 143.78 2105.59 147.576 L2105.59 162.229 L2101.31 162.229 L2101.31 136.303 L2105.59 136.303 L2105.59 140.331 Q2107.12 137.993 2109.18 136.835 Q2111.26 135.678 2113.97 135.678 Q2118.44 135.678 2120.73 138.456 Q2123.02 141.21 2123.02 146.581 Z\" fill=\"#000000\" fill-rule=\"evenodd\" fill-opacity=\"1\" /><path clip-path=\"url(#clip270)\" d=\"M2146.59 126.21 L2150.85 126.21 L2150.85 162.229 L2146.59 162.229 L2146.59 126.21 Z\" fill=\"#000000\" fill-rule=\"evenodd\" fill-opacity=\"1\" /><path clip-path=\"url(#clip270)\" d=\"M2169.8 139.289 Q2166.38 139.289 2164.39 141.974 Q2162.4 144.636 2162.4 149.289 Q2162.4 153.942 2164.36 156.627 Q2166.35 159.289 2169.8 159.289 Q2173.21 159.289 2175.2 156.604 Q2177.19 153.918 2177.19 149.289 Q2177.19 144.682 2175.2 141.997 Q2173.21 139.289 2169.8 139.289 M2169.8 135.678 Q2175.36 135.678 2178.53 139.289 Q2181.7 142.9 2181.7 149.289 Q2181.7 155.655 2178.53 159.289 Q2175.36 162.9 2169.8 162.9 Q2164.23 162.9 2161.05 159.289 Q2157.91 155.655 2157.91 149.289 Q2157.91 142.9 2161.05 139.289 Q2164.23 135.678 2169.8 135.678 Z\" fill=\"#000000\" fill-rule=\"evenodd\" fill-opacity=\"1\" /><path clip-path=\"url(#clip270)\" d=\"M2205.29 137.067 L2205.29 141.094 Q2203.48 140.169 2201.54 139.706 Q2199.6 139.243 2197.51 139.243 Q2194.34 139.243 2192.74 140.215 Q2191.17 141.187 2191.17 143.131 Q2191.17 144.613 2192.3 145.469 Q2193.44 146.303 2196.86 147.067 L2198.32 147.391 Q2202.86 148.363 2204.76 150.145 Q2206.68 151.905 2206.68 155.076 Q2206.68 158.687 2203.81 160.793 Q2200.96 162.9 2195.96 162.9 Q2193.88 162.9 2191.61 162.483 Q2189.36 162.09 2186.86 161.28 L2186.86 156.881 Q2189.22 158.108 2191.52 158.733 Q2193.81 159.335 2196.05 159.335 Q2199.06 159.335 2200.68 158.317 Q2202.3 157.275 2202.3 155.4 Q2202.3 153.664 2201.12 152.738 Q2199.97 151.812 2196.01 150.956 L2194.53 150.608 Q2190.57 149.775 2188.81 148.062 Q2187.05 146.326 2187.05 143.317 Q2187.05 139.659 2189.64 137.669 Q2192.23 135.678 2197 135.678 Q2199.36 135.678 2201.45 136.025 Q2203.53 136.372 2205.29 137.067 Z\" fill=\"#000000\" fill-rule=\"evenodd\" fill-opacity=\"1\" /><path clip-path=\"url(#clip270)\" d=\"M2229.99 137.067 L2229.99 141.094 Q2228.18 140.169 2226.24 139.706 Q2224.29 139.243 2222.21 139.243 Q2219.04 139.243 2217.44 140.215 Q2215.87 141.187 2215.87 143.131 Q2215.87 144.613 2217 145.469 Q2218.14 146.303 2221.56 147.067 L2223.02 147.391 Q2227.56 148.363 2229.46 150.145 Q2231.38 151.905 2231.38 155.076 Q2231.38 158.687 2228.51 160.793 Q2225.66 162.9 2220.66 162.9 Q2218.58 162.9 2216.31 162.483 Q2214.06 162.09 2211.56 161.28 L2211.56 156.881 Q2213.92 158.108 2216.22 158.733 Q2218.51 159.335 2220.75 159.335 Q2223.76 159.335 2225.38 158.317 Q2227 157.275 2227 155.4 Q2227 153.664 2225.82 152.738 Q2224.66 151.812 2220.71 150.956 L2219.22 150.608 Q2215.27 149.775 2213.51 148.062 Q2211.75 146.326 2211.75 143.317 Q2211.75 139.659 2214.34 137.669 Q2216.93 135.678 2221.7 135.678 Q2224.06 135.678 2226.15 136.025 Q2228.23 136.372 2229.99 137.067 Z\" fill=\"#000000\" fill-rule=\"evenodd\" fill-opacity=\"1\" /><polyline clip-path=\"url(#clip270)\" style=\"stroke:#e26f46; stroke-linecap:butt; stroke-linejoin:round; stroke-width:4; stroke-opacity:1; fill:none\" points=\"\n",
       "  1895.09,196.789 2037.32,196.789 \n",
       "  \"/>\n",
       "<path clip-path=\"url(#clip270)\" d=\"M2061.03 188.143 L2065.55 188.143 L2073.65 209.902 L2081.75 188.143 L2086.26 188.143 L2076.54 214.069 L2070.75 214.069 L2061.03 188.143 Z\" fill=\"#000000\" fill-rule=\"evenodd\" fill-opacity=\"1\" /><path clip-path=\"url(#clip270)\" d=\"M2103.92 201.036 Q2098.76 201.036 2096.77 202.217 Q2094.78 203.397 2094.78 206.245 Q2094.78 208.513 2096.26 209.856 Q2097.77 211.175 2100.34 211.175 Q2103.88 211.175 2106.01 208.675 Q2108.16 206.152 2108.16 201.985 L2108.16 201.036 L2103.92 201.036 M2112.42 199.277 L2112.42 214.069 L2108.16 214.069 L2108.16 210.133 Q2106.7 212.495 2104.53 213.629 Q2102.35 214.74 2099.2 214.74 Q2095.22 214.74 2092.86 212.518 Q2090.52 210.272 2090.52 206.522 Q2090.52 202.147 2093.44 199.925 Q2096.38 197.703 2102.19 197.703 L2108.16 197.703 L2108.16 197.286 Q2108.16 194.347 2106.22 192.749 Q2104.29 191.129 2100.8 191.129 Q2098.58 191.129 2096.47 191.661 Q2094.36 192.194 2092.42 193.259 L2092.42 189.323 Q2094.76 188.421 2096.96 187.981 Q2099.16 187.518 2101.24 187.518 Q2106.86 187.518 2109.64 190.434 Q2112.42 193.351 2112.42 199.277 Z\" fill=\"#000000\" fill-rule=\"evenodd\" fill-opacity=\"1\" /><path clip-path=\"url(#clip270)\" d=\"M2121.19 178.05 L2125.45 178.05 L2125.45 214.069 L2121.19 214.069 L2121.19 178.05 Z\" fill=\"#000000\" fill-rule=\"evenodd\" fill-opacity=\"1\" /><path clip-path=\"url(#clip270)\" d=\"M2149.43 178.05 L2153.69 178.05 L2153.69 214.069 L2149.43 214.069 L2149.43 178.05 Z\" fill=\"#000000\" fill-rule=\"evenodd\" fill-opacity=\"1\" /><path clip-path=\"url(#clip270)\" d=\"M2172.65 191.129 Q2169.23 191.129 2167.23 193.814 Q2165.24 196.476 2165.24 201.129 Q2165.24 205.782 2167.21 208.467 Q2169.2 211.129 2172.65 211.129 Q2176.05 211.129 2178.04 208.444 Q2180.04 205.758 2180.04 201.129 Q2180.04 196.522 2178.04 193.837 Q2176.05 191.129 2172.65 191.129 M2172.65 187.518 Q2178.21 187.518 2181.38 191.129 Q2184.55 194.74 2184.55 201.129 Q2184.55 207.495 2181.38 211.129 Q2178.21 214.74 2172.65 214.74 Q2167.07 214.74 2163.9 211.129 Q2160.75 207.495 2160.75 201.129 Q2160.75 194.74 2163.9 191.129 Q2167.07 187.518 2172.65 187.518 Z\" fill=\"#000000\" fill-rule=\"evenodd\" fill-opacity=\"1\" /><path clip-path=\"url(#clip270)\" d=\"M2208.14 188.907 L2208.14 192.934 Q2206.33 192.009 2204.39 191.546 Q2202.44 191.083 2200.36 191.083 Q2197.19 191.083 2195.59 192.055 Q2194.02 193.027 2194.02 194.971 Q2194.02 196.453 2195.15 197.309 Q2196.29 198.143 2199.71 198.907 L2201.17 199.231 Q2205.71 200.203 2207.6 201.985 Q2209.53 203.745 2209.53 206.916 Q2209.53 210.527 2206.66 212.633 Q2203.81 214.74 2198.81 214.74 Q2196.72 214.74 2194.46 214.323 Q2192.21 213.93 2189.71 213.12 L2189.71 208.721 Q2192.07 209.948 2194.36 210.573 Q2196.66 211.175 2198.9 211.175 Q2201.91 211.175 2203.53 210.157 Q2205.15 209.115 2205.15 207.24 Q2205.15 205.504 2203.97 204.578 Q2202.81 203.652 2198.85 202.796 L2197.37 202.448 Q2193.41 201.615 2191.66 199.902 Q2189.9 198.166 2189.9 195.157 Q2189.9 191.499 2192.49 189.509 Q2195.08 187.518 2199.85 187.518 Q2202.21 187.518 2204.29 187.865 Q2206.38 188.212 2208.14 188.907 Z\" fill=\"#000000\" fill-rule=\"evenodd\" fill-opacity=\"1\" /><path clip-path=\"url(#clip270)\" d=\"M2232.84 188.907 L2232.84 192.934 Q2231.03 192.009 2229.09 191.546 Q2227.14 191.083 2225.06 191.083 Q2221.89 191.083 2220.29 192.055 Q2218.72 193.027 2218.72 194.971 Q2218.72 196.453 2219.85 197.309 Q2220.98 198.143 2224.41 198.907 L2225.87 199.231 Q2230.41 200.203 2232.3 201.985 Q2234.22 203.745 2234.22 206.916 Q2234.22 210.527 2231.35 212.633 Q2228.51 214.74 2223.51 214.74 Q2221.42 214.74 2219.16 214.323 Q2216.91 213.93 2214.41 213.12 L2214.41 208.721 Q2216.77 209.948 2219.06 210.573 Q2221.35 211.175 2223.6 211.175 Q2226.61 211.175 2228.23 210.157 Q2229.85 209.115 2229.85 207.24 Q2229.85 205.504 2228.67 204.578 Q2227.51 203.652 2223.55 202.796 L2222.07 202.448 Q2218.11 201.615 2216.35 199.902 Q2214.6 198.166 2214.6 195.157 Q2214.6 191.499 2217.19 189.509 Q2219.78 187.518 2224.55 187.518 Q2226.91 187.518 2228.99 187.865 Q2231.08 188.212 2232.84 188.907 Z\" fill=\"#000000\" fill-rule=\"evenodd\" fill-opacity=\"1\" /></svg>\n"
      ]
     },
     "execution_count": 38,
     "metadata": {},
     "output_type": "execute_result"
    }
   ],
   "source": [
    "using Plots\n",
    "results = load(\"/Users/ufukaltun/Documents/koç/dersler/ku deep learning/project/results_b_target_cartoon.jld2\")[\"results\"];\n",
    "results = reshape(collect(Float32,flatten(results)),(4,:));\n",
    "plot([results[3,:], results[4,:]],\n",
    "    labels=[\"trn accuracy\" \"val accuracy\" ],xlabel=\"Iterations/20\",ylabel=\"Accuracy\")"
   ]
  },
  {
   "cell_type": "code",
   "execution_count": 39,
   "id": "0a0d2bcb",
   "metadata": {},
   "outputs": [
    {
     "data": {
      "image/svg+xml": [
       "<?xml version=\"1.0\" encoding=\"utf-8\"?>\n",
       "<svg xmlns=\"http://www.w3.org/2000/svg\" xmlns:xlink=\"http://www.w3.org/1999/xlink\" width=\"600\" height=\"400\" viewBox=\"0 0 2400 1600\">\n",
       "<defs>\n",
       "  <clipPath id=\"clip310\">\n",
       "    <rect x=\"0\" y=\"0\" width=\"2400\" height=\"1600\"/>\n",
       "  </clipPath>\n",
       "</defs>\n",
       "<path clip-path=\"url(#clip310)\" d=\"\n",
       "M0 1600 L2400 1600 L2400 0 L0 0  Z\n",
       "  \" fill=\"#ffffff\" fill-rule=\"evenodd\" fill-opacity=\"1\"/>\n",
       "<defs>\n",
       "  <clipPath id=\"clip311\">\n",
       "    <rect x=\"480\" y=\"0\" width=\"1681\" height=\"1600\"/>\n",
       "  </clipPath>\n",
       "</defs>\n",
       "<path clip-path=\"url(#clip310)\" d=\"\n",
       "M249.542 1423.18 L2352.76 1423.18 L2352.76 47.2441 L249.542 47.2441  Z\n",
       "  \" fill=\"#ffffff\" fill-rule=\"evenodd\" fill-opacity=\"1\"/>\n",
       "<defs>\n",
       "  <clipPath id=\"clip312\">\n",
       "    <rect x=\"249\" y=\"47\" width=\"2104\" height=\"1377\"/>\n",
       "  </clipPath>\n",
       "</defs>\n",
       "<polyline clip-path=\"url(#clip312)\" style=\"stroke:#000000; stroke-linecap:butt; stroke-linejoin:round; stroke-width:2; stroke-opacity:0.1; fill:none\" points=\"\n",
       "  582.745,1423.18 582.745,47.2441 \n",
       "  \"/>\n",
       "<polyline clip-path=\"url(#clip312)\" style=\"stroke:#000000; stroke-linecap:butt; stroke-linejoin:round; stroke-width:2; stroke-opacity:0.1; fill:none\" points=\"\n",
       "  924.842,1423.18 924.842,47.2441 \n",
       "  \"/>\n",
       "<polyline clip-path=\"url(#clip312)\" style=\"stroke:#000000; stroke-linecap:butt; stroke-linejoin:round; stroke-width:2; stroke-opacity:0.1; fill:none\" points=\"\n",
       "  1266.94,1423.18 1266.94,47.2441 \n",
       "  \"/>\n",
       "<polyline clip-path=\"url(#clip312)\" style=\"stroke:#000000; stroke-linecap:butt; stroke-linejoin:round; stroke-width:2; stroke-opacity:0.1; fill:none\" points=\"\n",
       "  1609.04,1423.18 1609.04,47.2441 \n",
       "  \"/>\n",
       "<polyline clip-path=\"url(#clip312)\" style=\"stroke:#000000; stroke-linecap:butt; stroke-linejoin:round; stroke-width:2; stroke-opacity:0.1; fill:none\" points=\"\n",
       "  1951.13,1423.18 1951.13,47.2441 \n",
       "  \"/>\n",
       "<polyline clip-path=\"url(#clip312)\" style=\"stroke:#000000; stroke-linecap:butt; stroke-linejoin:round; stroke-width:2; stroke-opacity:0.1; fill:none\" points=\"\n",
       "  2293.23,1423.18 2293.23,47.2441 \n",
       "  \"/>\n",
       "<polyline clip-path=\"url(#clip310)\" style=\"stroke:#000000; stroke-linecap:butt; stroke-linejoin:round; stroke-width:4; stroke-opacity:1; fill:none\" points=\"\n",
       "  249.542,1423.18 2352.76,1423.18 \n",
       "  \"/>\n",
       "<polyline clip-path=\"url(#clip310)\" style=\"stroke:#000000; stroke-linecap:butt; stroke-linejoin:round; stroke-width:4; stroke-opacity:1; fill:none\" points=\"\n",
       "  582.745,1423.18 582.745,1404.28 \n",
       "  \"/>\n",
       "<polyline clip-path=\"url(#clip310)\" style=\"stroke:#000000; stroke-linecap:butt; stroke-linejoin:round; stroke-width:4; stroke-opacity:1; fill:none\" points=\"\n",
       "  924.842,1423.18 924.842,1404.28 \n",
       "  \"/>\n",
       "<polyline clip-path=\"url(#clip310)\" style=\"stroke:#000000; stroke-linecap:butt; stroke-linejoin:round; stroke-width:4; stroke-opacity:1; fill:none\" points=\"\n",
       "  1266.94,1423.18 1266.94,1404.28 \n",
       "  \"/>\n",
       "<polyline clip-path=\"url(#clip310)\" style=\"stroke:#000000; stroke-linecap:butt; stroke-linejoin:round; stroke-width:4; stroke-opacity:1; fill:none\" points=\"\n",
       "  1609.04,1423.18 1609.04,1404.28 \n",
       "  \"/>\n",
       "<polyline clip-path=\"url(#clip310)\" style=\"stroke:#000000; stroke-linecap:butt; stroke-linejoin:round; stroke-width:4; stroke-opacity:1; fill:none\" points=\"\n",
       "  1951.13,1423.18 1951.13,1404.28 \n",
       "  \"/>\n",
       "<polyline clip-path=\"url(#clip310)\" style=\"stroke:#000000; stroke-linecap:butt; stroke-linejoin:round; stroke-width:4; stroke-opacity:1; fill:none\" points=\"\n",
       "  2293.23,1423.18 2293.23,1404.28 \n",
       "  \"/>\n",
       "<path clip-path=\"url(#clip310)\" d=\"M573.023 1451.02 L591.379 1451.02 L591.379 1454.96 L577.305 1454.96 L577.305 1463.43 Q578.323 1463.08 579.342 1462.92 Q580.361 1462.73 581.379 1462.73 Q587.166 1462.73 590.546 1465.9 Q593.925 1469.08 593.925 1474.49 Q593.925 1480.07 590.453 1483.17 Q586.981 1486.25 580.661 1486.25 Q578.486 1486.25 576.217 1485.88 Q573.972 1485.51 571.564 1484.77 L571.564 1480.07 Q573.648 1481.2 575.87 1481.76 Q578.092 1482.32 580.569 1482.32 Q584.573 1482.32 586.911 1480.21 Q589.249 1478.1 589.249 1474.49 Q589.249 1470.88 586.911 1468.77 Q584.573 1466.67 580.569 1466.67 Q578.694 1466.67 576.819 1467.08 Q574.967 1467.5 573.023 1468.38 L573.023 1451.02 Z\" fill=\"#000000\" fill-rule=\"evenodd\" fill-opacity=\"1\" /><path clip-path=\"url(#clip310)\" d=\"M899.53 1481.64 L907.168 1481.64 L907.168 1455.28 L898.858 1456.95 L898.858 1452.69 L907.122 1451.02 L911.798 1451.02 L911.798 1481.64 L919.437 1481.64 L919.437 1485.58 L899.53 1485.58 L899.53 1481.64 Z\" fill=\"#000000\" fill-rule=\"evenodd\" fill-opacity=\"1\" /><path clip-path=\"url(#clip310)\" d=\"M938.881 1454.1 Q935.27 1454.1 933.441 1457.66 Q931.636 1461.2 931.636 1468.33 Q931.636 1475.44 933.441 1479.01 Q935.27 1482.55 938.881 1482.55 Q942.516 1482.55 944.321 1479.01 Q946.15 1475.44 946.15 1468.33 Q946.15 1461.2 944.321 1457.66 Q942.516 1454.1 938.881 1454.1 M938.881 1450.39 Q944.691 1450.39 947.747 1455 Q950.826 1459.58 950.826 1468.33 Q950.826 1477.06 947.747 1481.67 Q944.691 1486.25 938.881 1486.25 Q933.071 1486.25 929.992 1481.67 Q926.937 1477.06 926.937 1468.33 Q926.937 1459.58 929.992 1455 Q933.071 1450.39 938.881 1450.39 Z\" fill=\"#000000\" fill-rule=\"evenodd\" fill-opacity=\"1\" /><path clip-path=\"url(#clip310)\" d=\"M1242.12 1481.64 L1249.76 1481.64 L1249.76 1455.28 L1241.45 1456.95 L1241.45 1452.69 L1249.72 1451.02 L1254.39 1451.02 L1254.39 1481.64 L1262.03 1481.64 L1262.03 1485.58 L1242.12 1485.58 L1242.12 1481.64 Z\" fill=\"#000000\" fill-rule=\"evenodd\" fill-opacity=\"1\" /><path clip-path=\"url(#clip310)\" d=\"M1271.52 1451.02 L1289.88 1451.02 L1289.88 1454.96 L1275.8 1454.96 L1275.8 1463.43 Q1276.82 1463.08 1277.84 1462.92 Q1278.86 1462.73 1279.88 1462.73 Q1285.67 1462.73 1289.05 1465.9 Q1292.43 1469.08 1292.43 1474.49 Q1292.43 1480.07 1288.95 1483.17 Q1285.48 1486.25 1279.16 1486.25 Q1276.99 1486.25 1274.72 1485.88 Q1272.47 1485.51 1270.06 1484.77 L1270.06 1480.07 Q1272.15 1481.2 1274.37 1481.76 Q1276.59 1482.32 1279.07 1482.32 Q1283.07 1482.32 1285.41 1480.21 Q1287.75 1478.1 1287.75 1474.49 Q1287.75 1470.88 1285.41 1468.77 Q1283.07 1466.67 1279.07 1466.67 Q1277.19 1466.67 1275.32 1467.08 Q1273.47 1467.5 1271.52 1468.38 L1271.52 1451.02 Z\" fill=\"#000000\" fill-rule=\"evenodd\" fill-opacity=\"1\" /><path clip-path=\"url(#clip310)\" d=\"M1587.81 1481.64 L1604.13 1481.64 L1604.13 1485.58 L1582.18 1485.58 L1582.18 1481.64 Q1584.85 1478.89 1589.43 1474.26 Q1594.04 1469.61 1595.22 1468.27 Q1597.46 1465.74 1598.34 1464.01 Q1599.24 1462.25 1599.24 1460.56 Q1599.24 1457.8 1597.3 1456.07 Q1595.38 1454.33 1592.28 1454.33 Q1590.08 1454.33 1587.62 1455.09 Q1585.19 1455.86 1582.42 1457.41 L1582.42 1452.69 Q1585.24 1451.55 1587.69 1450.97 Q1590.15 1450.39 1592.18 1450.39 Q1597.56 1450.39 1600.75 1453.08 Q1603.94 1455.77 1603.94 1460.26 Q1603.94 1462.39 1603.13 1464.31 Q1602.35 1466.2 1600.24 1468.8 Q1599.66 1469.47 1596.56 1472.69 Q1593.46 1475.88 1587.81 1481.64 Z\" fill=\"#000000\" fill-rule=\"evenodd\" fill-opacity=\"1\" /><path clip-path=\"url(#clip310)\" d=\"M1623.94 1454.1 Q1620.33 1454.1 1618.5 1457.66 Q1616.7 1461.2 1616.7 1468.33 Q1616.7 1475.44 1618.5 1479.01 Q1620.33 1482.55 1623.94 1482.55 Q1627.58 1482.55 1629.38 1479.01 Q1631.21 1475.44 1631.21 1468.33 Q1631.21 1461.2 1629.38 1457.66 Q1627.58 1454.1 1623.94 1454.1 M1623.94 1450.39 Q1629.75 1450.39 1632.81 1455 Q1635.89 1459.58 1635.89 1468.33 Q1635.89 1477.06 1632.81 1481.67 Q1629.75 1486.25 1623.94 1486.25 Q1618.13 1486.25 1615.05 1481.67 Q1612 1477.06 1612 1468.33 Q1612 1459.58 1615.05 1455 Q1618.13 1450.39 1623.94 1450.39 Z\" fill=\"#000000\" fill-rule=\"evenodd\" fill-opacity=\"1\" /><path clip-path=\"url(#clip310)\" d=\"M1930.4 1481.64 L1946.72 1481.64 L1946.72 1485.58 L1924.78 1485.58 L1924.78 1481.64 Q1927.44 1478.89 1932.03 1474.26 Q1936.63 1469.61 1937.81 1468.27 Q1940.06 1465.74 1940.94 1464.01 Q1941.84 1462.25 1941.84 1460.56 Q1941.84 1457.8 1939.9 1456.07 Q1937.97 1454.33 1934.87 1454.33 Q1932.67 1454.33 1930.22 1455.09 Q1927.79 1455.86 1925.01 1457.41 L1925.01 1452.69 Q1927.84 1451.55 1930.29 1450.97 Q1932.74 1450.39 1934.78 1450.39 Q1940.15 1450.39 1943.34 1453.08 Q1946.54 1455.77 1946.54 1460.26 Q1946.54 1462.39 1945.73 1464.31 Q1944.94 1466.2 1942.84 1468.8 Q1942.26 1469.47 1939.15 1472.69 Q1936.05 1475.88 1930.4 1481.64 Z\" fill=\"#000000\" fill-rule=\"evenodd\" fill-opacity=\"1\" /><path clip-path=\"url(#clip310)\" d=\"M1956.59 1451.02 L1974.94 1451.02 L1974.94 1454.96 L1960.87 1454.96 L1960.87 1463.43 Q1961.89 1463.08 1962.9 1462.92 Q1963.92 1462.73 1964.94 1462.73 Q1970.73 1462.73 1974.11 1465.9 Q1977.49 1469.08 1977.49 1474.49 Q1977.49 1480.07 1974.02 1483.17 Q1970.54 1486.25 1964.22 1486.25 Q1962.05 1486.25 1959.78 1485.88 Q1957.53 1485.51 1955.13 1484.77 L1955.13 1480.07 Q1957.21 1481.2 1959.43 1481.76 Q1961.65 1482.32 1964.13 1482.32 Q1968.14 1482.32 1970.47 1480.21 Q1972.81 1478.1 1972.81 1474.49 Q1972.81 1470.88 1970.47 1468.77 Q1968.14 1466.67 1964.13 1466.67 Q1962.26 1466.67 1960.38 1467.08 Q1958.53 1467.5 1956.59 1468.38 L1956.59 1451.02 Z\" fill=\"#000000\" fill-rule=\"evenodd\" fill-opacity=\"1\" /><path clip-path=\"url(#clip310)\" d=\"M2282.07 1466.95 Q2285.43 1467.66 2287.31 1469.93 Q2289.2 1472.2 2289.2 1475.53 Q2289.2 1480.65 2285.68 1483.45 Q2282.17 1486.25 2275.68 1486.25 Q2273.51 1486.25 2271.19 1485.81 Q2268.9 1485.39 2266.45 1484.54 L2266.45 1480.02 Q2268.39 1481.16 2270.71 1481.74 Q2273.02 1482.32 2275.55 1482.32 Q2279.94 1482.32 2282.24 1480.58 Q2284.55 1478.84 2284.55 1475.53 Q2284.55 1472.48 2282.4 1470.77 Q2280.27 1469.03 2276.45 1469.03 L2272.42 1469.03 L2272.42 1465.19 L2276.63 1465.19 Q2280.08 1465.19 2281.91 1463.82 Q2283.74 1462.43 2283.74 1459.84 Q2283.74 1457.18 2281.84 1455.77 Q2279.97 1454.33 2276.45 1454.33 Q2274.53 1454.33 2272.33 1454.75 Q2270.13 1455.16 2267.49 1456.04 L2267.49 1451.88 Q2270.15 1451.14 2272.47 1450.77 Q2274.81 1450.39 2276.87 1450.39 Q2282.19 1450.39 2285.29 1452.83 Q2288.39 1455.23 2288.39 1459.35 Q2288.39 1462.22 2286.75 1464.21 Q2285.11 1466.18 2282.07 1466.95 Z\" fill=\"#000000\" fill-rule=\"evenodd\" fill-opacity=\"1\" /><path clip-path=\"url(#clip310)\" d=\"M2308.07 1454.1 Q2304.46 1454.1 2302.63 1457.66 Q2300.82 1461.2 2300.82 1468.33 Q2300.82 1475.44 2302.63 1479.01 Q2304.46 1482.55 2308.07 1482.55 Q2311.7 1482.55 2313.51 1479.01 Q2315.34 1475.44 2315.34 1468.33 Q2315.34 1461.2 2313.51 1457.66 Q2311.7 1454.1 2308.07 1454.1 M2308.07 1450.39 Q2313.88 1450.39 2316.93 1455 Q2320.01 1459.58 2320.01 1468.33 Q2320.01 1477.06 2316.93 1481.67 Q2313.88 1486.25 2308.07 1486.25 Q2302.26 1486.25 2299.18 1481.67 Q2296.12 1477.06 2296.12 1468.33 Q2296.12 1459.58 2299.18 1455 Q2302.26 1450.39 2308.07 1450.39 Z\" fill=\"#000000\" fill-rule=\"evenodd\" fill-opacity=\"1\" /><path clip-path=\"url(#clip310)\" d=\"M1098.83 1520.52 L1105.26 1520.52 L1105.26 1568.04 L1098.83 1568.04 L1098.83 1520.52 Z\" fill=\"#000000\" fill-rule=\"evenodd\" fill-opacity=\"1\" /><path clip-path=\"url(#clip310)\" d=\"M1123.59 1522.27 L1123.59 1532.4 L1135.66 1532.4 L1135.66 1536.95 L1123.59 1536.95 L1123.59 1556.3 Q1123.59 1560.66 1124.77 1561.9 Q1125.98 1563.14 1129.64 1563.14 L1135.66 1563.14 L1135.66 1568.04 L1129.64 1568.04 Q1122.86 1568.04 1120.28 1565.53 Q1117.71 1562.98 1117.71 1556.3 L1117.71 1536.95 L1113.41 1536.95 L1113.41 1532.4 L1117.71 1532.4 L1117.71 1522.27 L1123.59 1522.27 Z\" fill=\"#000000\" fill-rule=\"evenodd\" fill-opacity=\"1\" /><path clip-path=\"url(#clip310)\" d=\"M1173.85 1548.76 L1173.85 1551.62 L1146.92 1551.62 Q1147.31 1557.67 1150.55 1560.85 Q1153.83 1564 1159.66 1564 Q1163.03 1564 1166.18 1563.17 Q1169.36 1562.35 1172.48 1560.69 L1172.48 1566.23 Q1169.33 1567.57 1166.02 1568.27 Q1162.71 1568.97 1159.31 1568.97 Q1150.78 1568.97 1145.78 1564 Q1140.81 1559.04 1140.81 1550.57 Q1140.81 1541.82 1145.52 1536.69 Q1150.27 1531.54 1158.29 1531.54 Q1165.48 1531.54 1169.65 1536.18 Q1173.85 1540.8 1173.85 1548.76 M1167.99 1547.04 Q1167.93 1542.23 1165.29 1539.37 Q1162.68 1536.5 1158.35 1536.5 Q1153.45 1536.5 1150.49 1539.27 Q1147.56 1542.04 1147.11 1547.07 L1167.99 1547.04 Z\" fill=\"#000000\" fill-rule=\"evenodd\" fill-opacity=\"1\" /><path clip-path=\"url(#clip310)\" d=\"M1204.12 1537.87 Q1203.13 1537.3 1201.96 1537.04 Q1200.81 1536.76 1199.41 1536.76 Q1194.44 1536.76 1191.77 1540 Q1189.13 1543.22 1189.13 1549.27 L1189.13 1568.04 L1183.24 1568.04 L1183.24 1532.4 L1189.13 1532.4 L1189.13 1537.93 Q1190.97 1534.69 1193.93 1533.13 Q1196.89 1531.54 1201.13 1531.54 Q1201.73 1531.54 1202.46 1531.63 Q1203.2 1531.7 1204.09 1531.85 L1204.12 1537.87 Z\" fill=\"#000000\" fill-rule=\"evenodd\" fill-opacity=\"1\" /><path clip-path=\"url(#clip310)\" d=\"M1226.46 1550.12 Q1219.37 1550.12 1216.63 1551.75 Q1213.89 1553.37 1213.89 1557.29 Q1213.89 1560.4 1215.93 1562.25 Q1218 1564.07 1221.53 1564.07 Q1226.4 1564.07 1229.33 1560.63 Q1232.29 1557.16 1232.29 1551.43 L1232.29 1550.12 L1226.46 1550.12 M1238.14 1547.71 L1238.14 1568.04 L1232.29 1568.04 L1232.29 1562.63 Q1230.28 1565.88 1227.29 1567.44 Q1224.3 1568.97 1219.97 1568.97 Q1214.5 1568.97 1211.25 1565.91 Q1208.03 1562.82 1208.03 1557.67 Q1208.03 1551.65 1212.04 1548.6 Q1216.09 1545.54 1224.08 1545.54 L1232.29 1545.54 L1232.29 1544.97 Q1232.29 1540.93 1229.61 1538.73 Q1226.97 1536.5 1222.17 1536.5 Q1219.11 1536.5 1216.21 1537.23 Q1213.32 1537.97 1210.64 1539.43 L1210.64 1534.02 Q1213.86 1532.78 1216.88 1532.17 Q1219.91 1531.54 1222.77 1531.54 Q1230.51 1531.54 1234.32 1535.55 Q1238.14 1539.56 1238.14 1547.71 Z\" fill=\"#000000\" fill-rule=\"evenodd\" fill-opacity=\"1\" /><path clip-path=\"url(#clip310)\" d=\"M1256 1522.27 L1256 1532.4 L1268.06 1532.4 L1268.06 1536.95 L1256 1536.95 L1256 1556.3 Q1256 1560.66 1257.18 1561.9 Q1258.39 1563.14 1262.05 1563.14 L1268.06 1563.14 L1268.06 1568.04 L1262.05 1568.04 Q1255.27 1568.04 1252.69 1565.53 Q1250.11 1562.98 1250.11 1556.3 L1250.11 1536.95 L1245.82 1536.95 L1245.82 1532.4 L1250.11 1532.4 L1250.11 1522.27 L1256 1522.27 Z\" fill=\"#000000\" fill-rule=\"evenodd\" fill-opacity=\"1\" /><path clip-path=\"url(#clip310)\" d=\"M1275.77 1532.4 L1281.62 1532.4 L1281.62 1568.04 L1275.77 1568.04 L1275.77 1532.4 M1275.77 1518.52 L1281.62 1518.52 L1281.62 1525.93 L1275.77 1525.93 L1275.77 1518.52 Z\" fill=\"#000000\" fill-rule=\"evenodd\" fill-opacity=\"1\" /><path clip-path=\"url(#clip310)\" d=\"M1307.69 1536.5 Q1302.98 1536.5 1300.24 1540.19 Q1297.5 1543.85 1297.5 1550.25 Q1297.5 1556.65 1300.21 1560.34 Q1302.95 1564 1307.69 1564 Q1312.37 1564 1315.11 1560.31 Q1317.84 1556.62 1317.84 1550.25 Q1317.84 1543.92 1315.11 1540.23 Q1312.37 1536.5 1307.69 1536.5 M1307.69 1531.54 Q1315.33 1531.54 1319.69 1536.5 Q1324.05 1541.47 1324.05 1550.25 Q1324.05 1559 1319.69 1564 Q1315.33 1568.97 1307.69 1568.97 Q1300.02 1568.97 1295.66 1564 Q1291.33 1559 1291.33 1550.25 Q1291.33 1541.47 1295.66 1536.5 Q1300.02 1531.54 1307.69 1531.54 Z\" fill=\"#000000\" fill-rule=\"evenodd\" fill-opacity=\"1\" /><path clip-path=\"url(#clip310)\" d=\"M1363.39 1546.53 L1363.39 1568.04 L1357.53 1568.04 L1357.53 1546.72 Q1357.53 1541.66 1355.56 1539.14 Q1353.59 1536.63 1349.64 1536.63 Q1344.9 1536.63 1342.16 1539.65 Q1339.42 1542.68 1339.42 1547.9 L1339.42 1568.04 L1333.53 1568.04 L1333.53 1532.4 L1339.42 1532.4 L1339.42 1537.93 Q1341.52 1534.72 1344.36 1533.13 Q1347.22 1531.54 1350.94 1531.54 Q1357.09 1531.54 1360.24 1535.36 Q1363.39 1539.14 1363.39 1546.53 Z\" fill=\"#000000\" fill-rule=\"evenodd\" fill-opacity=\"1\" /><path clip-path=\"url(#clip310)\" d=\"M1397.8 1533.45 L1397.8 1538.98 Q1395.31 1537.71 1392.64 1537.07 Q1389.97 1536.44 1387.1 1536.44 Q1382.74 1536.44 1380.55 1537.77 Q1378.38 1539.11 1378.38 1541.79 Q1378.38 1543.82 1379.94 1545 Q1381.5 1546.15 1386.21 1547.2 L1388.22 1547.64 Q1394.45 1548.98 1397.06 1551.43 Q1399.71 1553.85 1399.71 1558.21 Q1399.71 1563.17 1395.76 1566.07 Q1391.84 1568.97 1384.97 1568.97 Q1382.1 1568.97 1378.99 1568.39 Q1375.9 1567.85 1372.46 1566.74 L1372.46 1560.69 Q1375.71 1562.38 1378.86 1563.24 Q1382.01 1564.07 1385.1 1564.07 Q1389.23 1564.07 1391.46 1562.66 Q1393.69 1561.23 1393.69 1558.65 Q1393.69 1556.27 1392.07 1554.99 Q1390.48 1553.72 1385.03 1552.54 L1383 1552.07 Q1377.55 1550.92 1375.13 1548.56 Q1372.72 1546.18 1372.72 1542.04 Q1372.72 1537.01 1376.28 1534.27 Q1379.85 1531.54 1386.4 1531.54 Q1389.65 1531.54 1392.51 1532.01 Q1395.38 1532.49 1397.8 1533.45 Z\" fill=\"#000000\" fill-rule=\"evenodd\" fill-opacity=\"1\" /><path clip-path=\"url(#clip310)\" d=\"M1419.44 1520.52 L1424.85 1520.52 L1408.3 1574.09 L1402.89 1574.09 L1419.44 1520.52 Z\" fill=\"#000000\" fill-rule=\"evenodd\" fill-opacity=\"1\" /><path clip-path=\"url(#clip310)\" d=\"M1437.36 1562.63 L1459.8 1562.63 L1459.8 1568.04 L1429.62 1568.04 L1429.62 1562.63 Q1433.29 1558.85 1439.59 1552.48 Q1445.92 1546.08 1447.54 1544.24 Q1450.63 1540.77 1451.84 1538.38 Q1453.08 1535.96 1453.08 1533.64 Q1453.08 1529.85 1450.41 1527.46 Q1447.77 1525.08 1443.5 1525.08 Q1440.48 1525.08 1437.1 1526.13 Q1433.76 1527.18 1429.94 1529.31 L1429.94 1522.82 Q1433.83 1521.26 1437.2 1520.46 Q1440.57 1519.66 1443.37 1519.66 Q1450.76 1519.66 1455.15 1523.36 Q1459.54 1527.05 1459.54 1533.22 Q1459.54 1536.15 1458.43 1538.79 Q1457.35 1541.4 1454.45 1544.97 Q1453.66 1545.89 1449.39 1550.32 Q1445.13 1554.71 1437.36 1562.63 Z\" fill=\"#000000\" fill-rule=\"evenodd\" fill-opacity=\"1\" /><path clip-path=\"url(#clip310)\" d=\"M1487.04 1524.76 Q1482.08 1524.76 1479.56 1529.66 Q1477.08 1534.53 1477.08 1544.33 Q1477.08 1554.1 1479.56 1559 Q1482.08 1563.87 1487.04 1563.87 Q1492.04 1563.87 1494.52 1559 Q1497.04 1554.1 1497.04 1544.33 Q1497.04 1534.53 1494.52 1529.66 Q1492.04 1524.76 1487.04 1524.76 M1487.04 1519.66 Q1495.03 1519.66 1499.23 1526 Q1503.47 1532.3 1503.47 1544.33 Q1503.47 1556.33 1499.23 1562.66 Q1495.03 1568.97 1487.04 1568.97 Q1479.05 1568.97 1474.82 1562.66 Q1470.62 1556.33 1470.62 1544.33 Q1470.62 1532.3 1474.82 1526 Q1479.05 1519.66 1487.04 1519.66 Z\" fill=\"#000000\" fill-rule=\"evenodd\" fill-opacity=\"1\" /><polyline clip-path=\"url(#clip312)\" style=\"stroke:#000000; stroke-linecap:butt; stroke-linejoin:round; stroke-width:2; stroke-opacity:0.1; fill:none\" points=\"\n",
       "  249.542,1167.54 2352.76,1167.54 \n",
       "  \"/>\n",
       "<polyline clip-path=\"url(#clip312)\" style=\"stroke:#000000; stroke-linecap:butt; stroke-linejoin:round; stroke-width:2; stroke-opacity:0.1; fill:none\" points=\"\n",
       "  249.542,879.178 2352.76,879.178 \n",
       "  \"/>\n",
       "<polyline clip-path=\"url(#clip312)\" style=\"stroke:#000000; stroke-linecap:butt; stroke-linejoin:round; stroke-width:2; stroke-opacity:0.1; fill:none\" points=\"\n",
       "  249.542,590.817 2352.76,590.817 \n",
       "  \"/>\n",
       "<polyline clip-path=\"url(#clip312)\" style=\"stroke:#000000; stroke-linecap:butt; stroke-linejoin:round; stroke-width:2; stroke-opacity:0.1; fill:none\" points=\"\n",
       "  249.542,302.456 2352.76,302.456 \n",
       "  \"/>\n",
       "<polyline clip-path=\"url(#clip310)\" style=\"stroke:#000000; stroke-linecap:butt; stroke-linejoin:round; stroke-width:4; stroke-opacity:1; fill:none\" points=\"\n",
       "  249.542,1423.18 249.542,47.2441 \n",
       "  \"/>\n",
       "<polyline clip-path=\"url(#clip310)\" style=\"stroke:#000000; stroke-linecap:butt; stroke-linejoin:round; stroke-width:4; stroke-opacity:1; fill:none\" points=\"\n",
       "  249.542,1167.54 268.44,1167.54 \n",
       "  \"/>\n",
       "<polyline clip-path=\"url(#clip310)\" style=\"stroke:#000000; stroke-linecap:butt; stroke-linejoin:round; stroke-width:4; stroke-opacity:1; fill:none\" points=\"\n",
       "  249.542,879.178 268.44,879.178 \n",
       "  \"/>\n",
       "<polyline clip-path=\"url(#clip310)\" style=\"stroke:#000000; stroke-linecap:butt; stroke-linejoin:round; stroke-width:4; stroke-opacity:1; fill:none\" points=\"\n",
       "  249.542,590.817 268.44,590.817 \n",
       "  \"/>\n",
       "<polyline clip-path=\"url(#clip310)\" style=\"stroke:#000000; stroke-linecap:butt; stroke-linejoin:round; stroke-width:4; stroke-opacity:1; fill:none\" points=\"\n",
       "  249.542,302.456 268.44,302.456 \n",
       "  \"/>\n",
       "<path clip-path=\"url(#clip310)\" d=\"M126.205 1153.34 Q122.593 1153.34 120.765 1156.9 Q118.959 1160.44 118.959 1167.57 Q118.959 1174.68 120.765 1178.24 Q122.593 1181.79 126.205 1181.79 Q129.839 1181.79 131.644 1178.24 Q133.473 1174.68 133.473 1167.57 Q133.473 1160.44 131.644 1156.9 Q129.839 1153.34 126.205 1153.34 M126.205 1149.63 Q132.015 1149.63 135.07 1154.24 Q138.149 1158.82 138.149 1167.57 Q138.149 1176.3 135.07 1180.91 Q132.015 1185.49 126.205 1185.49 Q120.394 1185.49 117.316 1180.91 Q114.26 1176.3 114.26 1167.57 Q114.26 1158.82 117.316 1154.24 Q120.394 1149.63 126.205 1149.63 Z\" fill=\"#000000\" fill-rule=\"evenodd\" fill-opacity=\"1\" /><path clip-path=\"url(#clip310)\" d=\"M146.366 1178.94 L151.251 1178.94 L151.251 1184.82 L146.366 1184.82 L146.366 1178.94 Z\" fill=\"#000000\" fill-rule=\"evenodd\" fill-opacity=\"1\" /><path clip-path=\"url(#clip310)\" d=\"M161.482 1150.26 L179.839 1150.26 L179.839 1154.19 L165.765 1154.19 L165.765 1162.67 Q166.783 1162.32 167.802 1162.16 Q168.82 1161.97 169.839 1161.97 Q175.626 1161.97 179.005 1165.14 Q182.385 1168.31 182.385 1173.73 Q182.385 1179.31 178.913 1182.41 Q175.44 1185.49 169.121 1185.49 Q166.945 1185.49 164.677 1185.12 Q162.431 1184.75 160.024 1184.01 L160.024 1179.31 Q162.107 1180.44 164.329 1181 Q166.552 1181.55 169.028 1181.55 Q173.033 1181.55 175.371 1179.45 Q177.709 1177.34 177.709 1173.73 Q177.709 1170.12 175.371 1168.01 Q173.033 1165.91 169.028 1165.91 Q167.153 1165.91 165.278 1166.32 Q163.427 1166.74 161.482 1167.62 L161.482 1150.26 Z\" fill=\"#000000\" fill-rule=\"evenodd\" fill-opacity=\"1\" /><path clip-path=\"url(#clip310)\" d=\"M201.598 1153.34 Q197.987 1153.34 196.158 1156.9 Q194.352 1160.44 194.352 1167.57 Q194.352 1174.68 196.158 1178.24 Q197.987 1181.79 201.598 1181.79 Q205.232 1181.79 207.037 1178.24 Q208.866 1174.68 208.866 1167.57 Q208.866 1160.44 207.037 1156.9 Q205.232 1153.34 201.598 1153.34 M201.598 1149.63 Q207.408 1149.63 210.463 1154.24 Q213.542 1158.82 213.542 1167.57 Q213.542 1176.3 210.463 1180.91 Q207.408 1185.49 201.598 1185.49 Q195.787 1185.49 192.709 1180.91 Q189.653 1176.3 189.653 1167.57 Q189.653 1158.82 192.709 1154.24 Q195.787 1149.63 201.598 1149.63 Z\" fill=\"#000000\" fill-rule=\"evenodd\" fill-opacity=\"1\" /><path clip-path=\"url(#clip310)\" d=\"M127.2 864.976 Q123.589 864.976 121.76 868.541 Q119.955 872.083 119.955 879.213 Q119.955 886.319 121.76 889.884 Q123.589 893.425 127.2 893.425 Q130.834 893.425 132.64 889.884 Q134.468 886.319 134.468 879.213 Q134.468 872.083 132.64 868.541 Q130.834 864.976 127.2 864.976 M127.2 861.273 Q133.01 861.273 136.066 865.879 Q139.144 870.463 139.144 879.213 Q139.144 887.939 136.066 892.546 Q133.01 897.129 127.2 897.129 Q121.39 897.129 118.311 892.546 Q115.256 887.939 115.256 879.213 Q115.256 870.463 118.311 865.879 Q121.39 861.273 127.2 861.273 Z\" fill=\"#000000\" fill-rule=\"evenodd\" fill-opacity=\"1\" /><path clip-path=\"url(#clip310)\" d=\"M147.362 890.578 L152.246 890.578 L152.246 896.458 L147.362 896.458 L147.362 890.578 Z\" fill=\"#000000\" fill-rule=\"evenodd\" fill-opacity=\"1\" /><path clip-path=\"url(#clip310)\" d=\"M162.477 861.898 L180.834 861.898 L180.834 865.833 L166.76 865.833 L166.76 874.305 Q167.778 873.958 168.797 873.796 Q169.815 873.611 170.834 873.611 Q176.621 873.611 180.001 876.782 Q183.38 879.953 183.38 885.37 Q183.38 890.949 179.908 894.05 Q176.436 897.129 170.116 897.129 Q167.94 897.129 165.672 896.759 Q163.427 896.388 161.019 895.648 L161.019 890.949 Q163.102 892.083 165.325 892.638 Q167.547 893.194 170.024 893.194 Q174.028 893.194 176.366 891.087 Q178.704 888.981 178.704 885.37 Q178.704 881.759 176.366 879.652 Q174.028 877.546 170.024 877.546 Q168.149 877.546 166.274 877.963 Q164.422 878.379 162.477 879.259 L162.477 861.898 Z\" fill=\"#000000\" fill-rule=\"evenodd\" fill-opacity=\"1\" /><path clip-path=\"url(#clip310)\" d=\"M192.639 861.898 L210.996 861.898 L210.996 865.833 L196.922 865.833 L196.922 874.305 Q197.94 873.958 198.959 873.796 Q199.977 873.611 200.996 873.611 Q206.783 873.611 210.162 876.782 Q213.542 879.953 213.542 885.37 Q213.542 890.949 210.07 894.05 Q206.598 897.129 200.278 897.129 Q198.102 897.129 195.834 896.759 Q193.588 896.388 191.181 895.648 L191.181 890.949 Q193.264 892.083 195.487 892.638 Q197.709 893.194 200.186 893.194 Q204.19 893.194 206.528 891.087 Q208.866 888.981 208.866 885.37 Q208.866 881.759 206.528 879.652 Q204.19 877.546 200.186 877.546 Q198.311 877.546 196.436 877.963 Q194.584 878.379 192.639 879.259 L192.639 861.898 Z\" fill=\"#000000\" fill-rule=\"evenodd\" fill-opacity=\"1\" /><path clip-path=\"url(#clip310)\" d=\"M126.205 576.616 Q122.593 576.616 120.765 580.18 Q118.959 583.722 118.959 590.852 Q118.959 597.958 120.765 601.523 Q122.593 605.065 126.205 605.065 Q129.839 605.065 131.644 601.523 Q133.473 597.958 133.473 590.852 Q133.473 583.722 131.644 580.18 Q129.839 576.616 126.205 576.616 M126.205 572.912 Q132.015 572.912 135.07 577.518 Q138.149 582.102 138.149 590.852 Q138.149 599.579 135.07 604.185 Q132.015 608.768 126.205 608.768 Q120.394 608.768 117.316 604.185 Q114.26 599.579 114.26 590.852 Q114.26 582.102 117.316 577.518 Q120.394 572.912 126.205 572.912 Z\" fill=\"#000000\" fill-rule=\"evenodd\" fill-opacity=\"1\" /><path clip-path=\"url(#clip310)\" d=\"M146.366 602.217 L151.251 602.217 L151.251 608.097 L146.366 608.097 L146.366 602.217 Z\" fill=\"#000000\" fill-rule=\"evenodd\" fill-opacity=\"1\" /><path clip-path=\"url(#clip310)\" d=\"M172.014 588.954 Q168.866 588.954 167.015 591.106 Q165.186 593.259 165.186 597.009 Q165.186 600.736 167.015 602.912 Q168.866 605.065 172.014 605.065 Q175.163 605.065 176.991 602.912 Q178.843 600.736 178.843 597.009 Q178.843 593.259 176.991 591.106 Q175.163 588.954 172.014 588.954 M181.297 574.301 L181.297 578.56 Q179.538 577.727 177.732 577.287 Q175.95 576.847 174.19 576.847 Q169.561 576.847 167.107 579.972 Q164.677 583.097 164.329 589.417 Q165.695 587.403 167.755 586.338 Q169.815 585.25 172.292 585.25 Q177.501 585.25 180.51 588.421 Q183.542 591.569 183.542 597.009 Q183.542 602.333 180.394 605.551 Q177.246 608.768 172.014 608.768 Q166.019 608.768 162.848 604.185 Q159.677 599.579 159.677 590.852 Q159.677 582.657 163.565 577.796 Q167.454 572.912 174.005 572.912 Q175.764 572.912 177.547 573.259 Q179.352 573.606 181.297 574.301 Z\" fill=\"#000000\" fill-rule=\"evenodd\" fill-opacity=\"1\" /><path clip-path=\"url(#clip310)\" d=\"M201.598 576.616 Q197.987 576.616 196.158 580.18 Q194.352 583.722 194.352 590.852 Q194.352 597.958 196.158 601.523 Q197.987 605.065 201.598 605.065 Q205.232 605.065 207.037 601.523 Q208.866 597.958 208.866 590.852 Q208.866 583.722 207.037 580.18 Q205.232 576.616 201.598 576.616 M201.598 572.912 Q207.408 572.912 210.463 577.518 Q213.542 582.102 213.542 590.852 Q213.542 599.579 210.463 604.185 Q207.408 608.768 201.598 608.768 Q195.787 608.768 192.709 604.185 Q189.653 599.579 189.653 590.852 Q189.653 582.102 192.709 577.518 Q195.787 572.912 201.598 572.912 Z\" fill=\"#000000\" fill-rule=\"evenodd\" fill-opacity=\"1\" /><path clip-path=\"url(#clip310)\" d=\"M127.2 288.255 Q123.589 288.255 121.76 291.82 Q119.955 295.361 119.955 302.491 Q119.955 309.597 121.76 313.162 Q123.589 316.704 127.2 316.704 Q130.834 316.704 132.64 313.162 Q134.468 309.597 134.468 302.491 Q134.468 295.361 132.64 291.82 Q130.834 288.255 127.2 288.255 M127.2 284.551 Q133.01 284.551 136.066 289.158 Q139.144 293.741 139.144 302.491 Q139.144 311.218 136.066 315.824 Q133.01 320.408 127.2 320.408 Q121.39 320.408 118.311 315.824 Q115.256 311.218 115.256 302.491 Q115.256 293.741 118.311 289.158 Q121.39 284.551 127.2 284.551 Z\" fill=\"#000000\" fill-rule=\"evenodd\" fill-opacity=\"1\" /><path clip-path=\"url(#clip310)\" d=\"M147.362 313.857 L152.246 313.857 L152.246 319.736 L147.362 319.736 L147.362 313.857 Z\" fill=\"#000000\" fill-rule=\"evenodd\" fill-opacity=\"1\" /><path clip-path=\"url(#clip310)\" d=\"M173.01 300.593 Q169.862 300.593 168.01 302.746 Q166.181 304.898 166.181 308.648 Q166.181 312.375 168.01 314.551 Q169.862 316.704 173.01 316.704 Q176.158 316.704 177.987 314.551 Q179.839 312.375 179.839 308.648 Q179.839 304.898 177.987 302.746 Q176.158 300.593 173.01 300.593 M182.292 285.94 L182.292 290.199 Q180.533 289.366 178.727 288.926 Q176.945 288.486 175.186 288.486 Q170.556 288.486 168.102 291.611 Q165.672 294.736 165.325 301.056 Q166.69 299.042 168.751 297.977 Q170.811 296.889 173.288 296.889 Q178.496 296.889 181.505 300.06 Q184.538 303.209 184.538 308.648 Q184.538 313.972 181.389 317.19 Q178.241 320.408 173.01 320.408 Q167.015 320.408 163.843 315.824 Q160.672 311.218 160.672 302.491 Q160.672 294.297 164.561 289.435 Q168.45 284.551 175.001 284.551 Q176.76 284.551 178.542 284.898 Q180.348 285.246 182.292 285.94 Z\" fill=\"#000000\" fill-rule=\"evenodd\" fill-opacity=\"1\" /><path clip-path=\"url(#clip310)\" d=\"M192.639 285.176 L210.996 285.176 L210.996 289.111 L196.922 289.111 L196.922 297.584 Q197.94 297.236 198.959 297.074 Q199.977 296.889 200.996 296.889 Q206.783 296.889 210.162 300.06 Q213.542 303.232 213.542 308.648 Q213.542 314.227 210.07 317.329 Q206.598 320.408 200.278 320.408 Q198.102 320.408 195.834 320.037 Q193.588 319.667 191.181 318.926 L191.181 314.227 Q193.264 315.361 195.487 315.917 Q197.709 316.472 200.186 316.472 Q204.19 316.472 206.528 314.366 Q208.866 312.259 208.866 308.648 Q208.866 305.037 206.528 302.931 Q204.19 300.824 200.186 300.824 Q198.311 300.824 196.436 301.241 Q194.584 301.658 192.639 302.537 L192.639 285.176 Z\" fill=\"#000000\" fill-rule=\"evenodd\" fill-opacity=\"1\" /><path clip-path=\"url(#clip310)\" d=\"M22.818 861.014 L46.4666 869.735 L46.4666 852.261 L22.818 861.014 M16.4842 864.643 L16.4842 857.354 L64.0042 839.244 L64.0042 845.928 L51.8138 850.256 L51.8138 871.677 L64.0042 876.005 L64.0042 882.785 L16.4842 864.643 Z\" fill=\"#000000\" fill-rule=\"evenodd\" fill-opacity=\"1\" /><path clip-path=\"url(#clip310)\" d=\"M29.7248 808.052 L35.1993 808.052 Q33.8307 810.534 33.1623 813.049 Q32.4621 815.531 32.4621 818.078 Q32.4621 823.775 36.0905 826.926 Q39.6872 830.077 46.212 830.077 Q52.7369 830.077 56.3653 826.926 Q59.9619 823.775 59.9619 818.078 Q59.9619 815.531 59.2935 813.049 Q58.5933 810.534 57.2247 808.052 L62.6355 808.052 Q63.7814 810.502 64.3543 813.144 Q64.9272 815.754 64.9272 818.714 Q64.9272 826.767 59.8664 831.509 Q54.8057 836.252 46.212 836.252 Q37.491 836.252 32.4939 831.477 Q27.4968 826.671 27.4968 818.332 Q27.4968 815.627 28.0697 813.049 Q28.6108 810.471 29.7248 808.052 Z\" fill=\"#000000\" fill-rule=\"evenodd\" fill-opacity=\"1\" /><path clip-path=\"url(#clip310)\" d=\"M29.7248 772.213 L35.1993 772.213 Q33.8307 774.695 33.1623 777.21 Q32.4621 779.692 32.4621 782.239 Q32.4621 787.936 36.0905 791.087 Q39.6872 794.238 46.212 794.238 Q52.7369 794.238 56.3653 791.087 Q59.9619 787.936 59.9619 782.239 Q59.9619 779.692 59.2935 777.21 Q58.5933 774.695 57.2247 772.213 L62.6355 772.213 Q63.7814 774.663 64.3543 777.305 Q64.9272 779.915 64.9272 782.875 Q64.9272 790.928 59.8664 795.67 Q54.8057 800.413 46.212 800.413 Q37.491 800.413 32.4939 795.638 Q27.4968 790.832 27.4968 782.493 Q27.4968 779.788 28.0697 777.21 Q28.6108 774.632 29.7248 772.213 Z\" fill=\"#000000\" fill-rule=\"evenodd\" fill-opacity=\"1\" /><path clip-path=\"url(#clip310)\" d=\"M49.9359 762.632 L28.3562 762.632 L28.3562 756.776 L49.7131 756.776 Q54.7739 756.776 57.3202 754.802 Q59.8346 752.829 59.8346 748.882 Q59.8346 744.14 56.8109 741.403 Q53.7872 738.634 48.5673 738.634 L28.3562 738.634 L28.3562 732.777 L64.0042 732.777 L64.0042 738.634 L58.5296 738.634 Q61.7762 740.766 63.3676 743.599 Q64.9272 746.4 64.9272 750.124 Q64.9272 756.267 61.1078 759.449 Q57.2883 762.632 49.9359 762.632 M27.4968 747.896 L27.4968 747.896 Z\" fill=\"#000000\" fill-rule=\"evenodd\" fill-opacity=\"1\" /><path clip-path=\"url(#clip310)\" d=\"M33.8307 700.057 Q33.2578 701.044 33.0032 702.222 Q32.7167 703.368 32.7167 704.768 Q32.7167 709.733 35.9632 712.407 Q39.1779 715.049 45.2253 715.049 L64.0042 715.049 L64.0042 720.937 L28.3562 720.937 L28.3562 715.049 L33.8944 715.049 Q30.6479 713.203 29.0883 710.242 Q27.4968 707.282 27.4968 703.049 Q27.4968 702.444 27.5923 701.712 Q27.656 700.98 27.8151 700.089 L33.8307 700.057 Z\" fill=\"#000000\" fill-rule=\"evenodd\" fill-opacity=\"1\" /><path clip-path=\"url(#clip310)\" d=\"M46.0847 677.714 Q46.0847 684.811 47.7079 687.549 Q49.3312 690.286 53.2461 690.286 Q56.3653 690.286 58.2114 688.249 Q60.0256 686.18 60.0256 682.647 Q60.0256 677.777 56.5881 674.849 Q53.1188 671.889 47.3897 671.889 L46.0847 671.889 L46.0847 677.714 M43.6657 666.033 L64.0042 666.033 L64.0042 671.889 L58.5933 671.889 Q61.8398 673.894 63.3994 676.886 Q64.9272 679.878 64.9272 684.207 Q64.9272 689.681 61.8716 692.928 Q58.7843 696.142 53.6281 696.142 Q47.6125 696.142 44.5569 692.132 Q41.5014 688.09 41.5014 680.101 L41.5014 671.889 L40.9285 671.889 Q36.8862 671.889 34.6901 674.563 Q32.4621 677.204 32.4621 682.011 Q32.4621 685.066 33.1941 687.963 Q33.9262 690.859 35.3903 693.533 L29.9795 693.533 Q28.7381 690.318 28.1334 687.294 Q27.4968 684.27 27.4968 681.406 Q27.4968 673.671 31.5072 669.852 Q35.5176 666.033 43.6657 666.033 Z\" fill=\"#000000\" fill-rule=\"evenodd\" fill-opacity=\"1\" /><path clip-path=\"url(#clip310)\" d=\"M29.7248 628.316 L35.1993 628.316 Q33.8307 630.798 33.1623 633.313 Q32.4621 635.796 32.4621 638.342 Q32.4621 644.039 36.0905 647.19 Q39.6872 650.341 46.212 650.341 Q52.7369 650.341 56.3653 647.19 Q59.9619 644.039 59.9619 638.342 Q59.9619 635.796 59.2935 633.313 Q58.5933 630.798 57.2247 628.316 L62.6355 628.316 Q63.7814 630.767 64.3543 633.408 Q64.9272 636.018 64.9272 638.978 Q64.9272 647.031 59.8664 651.773 Q54.8057 656.516 46.212 656.516 Q37.491 656.516 32.4939 651.742 Q27.4968 646.936 27.4968 638.596 Q27.4968 635.891 28.0697 633.313 Q28.6108 630.735 29.7248 628.316 Z\" fill=\"#000000\" fill-rule=\"evenodd\" fill-opacity=\"1\" /><path clip-path=\"url(#clip310)\" d=\"M67.3143 603.299 Q73.68 605.781 75.6216 608.137 Q77.5631 610.492 77.5631 614.439 L77.5631 619.117 L72.6615 619.117 L72.6615 615.68 Q72.6615 613.261 71.5157 611.924 Q70.3699 610.587 66.1048 608.964 L63.4312 607.914 L28.3562 622.332 L28.3562 616.126 L56.238 604.986 L28.3562 593.846 L28.3562 587.639 L67.3143 603.299 Z\" fill=\"#000000\" fill-rule=\"evenodd\" fill-opacity=\"1\" /><polyline clip-path=\"url(#clip312)\" style=\"stroke:#009af9; stroke-linecap:butt; stroke-linejoin:round; stroke-width:4; stroke-opacity:1; fill:none\" points=\"\n",
       "  309.067,1384.24 377.486,1089.23 445.906,847.853 514.325,712.684 582.745,578.588 651.164,486.329 719.584,415.526 788.003,354.378 856.423,302.885 924.842,259.974 \n",
       "  993.261,240.665 1061.68,225.646 1130.1,202.045 1198.52,188.099 1266.94,178.444 1335.36,195.608 1403.78,178.444 1472.2,133.388 1540.62,144.115 1609.04,174.153 \n",
       "  1677.46,150.552 1745.88,139.824 1814.29,164.498 1882.71,146.261 1951.13,151.625 2019.55,151.625 2087.97,126.951 2156.39,114.078 2224.81,189.172 2293.23,101.205 \n",
       "  \n",
       "  \"/>\n",
       "<polyline clip-path=\"url(#clip312)\" style=\"stroke:#e26f46; stroke-linecap:butt; stroke-linejoin:round; stroke-width:4; stroke-opacity:1; fill:none\" points=\"\n",
       "  309.067,1250.14 377.486,934.747 445.906,784.559 514.325,626.862 582.745,484.184 651.164,416.599 719.584,341.505 788.003,311.468 856.423,206.336 924.842,243.883 \n",
       "  993.261,228.864 1061.68,161.28 1130.1,213.846 1198.52,183.808 1266.94,176.298 1335.36,153.77 1403.78,198.827 1472.2,168.789 1540.62,176.298 1609.04,206.336 \n",
       "  1677.46,221.355 1745.88,191.317 1814.29,221.355 1882.71,191.317 1951.13,131.242 2019.55,198.827 2087.97,131.242 2156.39,146.261 2224.81,153.77 2293.23,86.1857 \n",
       "  \n",
       "  \"/>\n",
       "<path clip-path=\"url(#clip310)\" d=\"\n",
       "M1752.55 248.629 L2282.65 248.629 L2282.65 93.1086 L1752.55 93.1086  Z\n",
       "  \" fill=\"#ffffff\" fill-rule=\"evenodd\" fill-opacity=\"1\"/>\n",
       "<polyline clip-path=\"url(#clip310)\" style=\"stroke:#000000; stroke-linecap:butt; stroke-linejoin:round; stroke-width:4; stroke-opacity:1; fill:none\" points=\"\n",
       "  1752.55,248.629 2282.65,248.629 2282.65,93.1086 1752.55,93.1086 1752.55,248.629 \n",
       "  \"/>\n",
       "<polyline clip-path=\"url(#clip310)\" style=\"stroke:#009af9; stroke-linecap:butt; stroke-linejoin:round; stroke-width:4; stroke-opacity:1; fill:none\" points=\"\n",
       "  1775.92,144.949 1916.13,144.949 \n",
       "  \"/>\n",
       "<path clip-path=\"url(#clip310)\" d=\"M1946.91 128.942 L1946.91 136.303 L1955.68 136.303 L1955.68 139.613 L1946.91 139.613 L1946.91 153.687 Q1946.91 156.858 1947.76 157.761 Q1948.64 158.664 1951.31 158.664 L1955.68 158.664 L1955.68 162.229 L1951.31 162.229 Q1946.38 162.229 1944.5 160.4 Q1942.63 158.548 1942.63 153.687 L1942.63 139.613 L1939.5 139.613 L1939.5 136.303 L1942.63 136.303 L1942.63 128.942 L1946.91 128.942 Z\" fill=\"#000000\" fill-rule=\"evenodd\" fill-opacity=\"1\" /><path clip-path=\"url(#clip310)\" d=\"M1976.31 140.284 Q1975.59 139.868 1974.73 139.682 Q1973.9 139.474 1972.88 139.474 Q1969.27 139.474 1967.32 141.835 Q1965.4 144.173 1965.4 148.571 L1965.4 162.229 L1961.12 162.229 L1961.12 136.303 L1965.4 136.303 L1965.4 140.331 Q1966.75 137.969 1968.9 136.835 Q1971.05 135.678 1974.13 135.678 Q1974.57 135.678 1975.1 135.747 Q1975.63 135.794 1976.28 135.909 L1976.31 140.284 Z\" fill=\"#000000\" fill-rule=\"evenodd\" fill-opacity=\"1\" /><path clip-path=\"url(#clip310)\" d=\"M2001.49 146.581 L2001.49 162.229 L1997.23 162.229 L1997.23 146.719 Q1997.23 143.039 1995.8 141.21 Q1994.36 139.382 1991.49 139.382 Q1988.04 139.382 1986.05 141.581 Q1984.06 143.78 1984.06 147.576 L1984.06 162.229 L1979.78 162.229 L1979.78 136.303 L1984.06 136.303 L1984.06 140.331 Q1985.59 137.993 1987.65 136.835 Q1989.73 135.678 1992.44 135.678 Q1996.91 135.678 1999.2 138.456 Q2001.49 141.21 2001.49 146.581 Z\" fill=\"#000000\" fill-rule=\"evenodd\" fill-opacity=\"1\" /><path clip-path=\"url(#clip310)\" d=\"M2036.84 149.196 Q2031.68 149.196 2029.68 150.377 Q2027.69 151.557 2027.69 154.405 Q2027.69 156.673 2029.18 158.016 Q2030.68 159.335 2033.25 159.335 Q2036.79 159.335 2038.92 156.835 Q2041.07 154.312 2041.07 150.145 L2041.07 149.196 L2036.84 149.196 M2045.33 147.437 L2045.33 162.229 L2041.07 162.229 L2041.07 158.293 Q2039.62 160.655 2037.44 161.789 Q2035.26 162.9 2032.12 162.9 Q2028.13 162.9 2025.77 160.678 Q2023.43 158.432 2023.43 154.682 Q2023.43 150.307 2026.35 148.085 Q2029.29 145.863 2035.1 145.863 L2041.07 145.863 L2041.07 145.446 Q2041.07 142.507 2039.13 140.909 Q2037.21 139.289 2033.71 139.289 Q2031.49 139.289 2029.38 139.821 Q2027.28 140.354 2025.33 141.419 L2025.33 137.483 Q2027.67 136.581 2029.87 136.141 Q2032.07 135.678 2034.15 135.678 Q2039.78 135.678 2042.56 138.594 Q2045.33 141.511 2045.33 147.437 Z\" fill=\"#000000\" fill-rule=\"evenodd\" fill-opacity=\"1\" /><path clip-path=\"url(#clip310)\" d=\"M2072.76 137.298 L2072.76 141.28 Q2070.96 140.284 2069.13 139.798 Q2067.32 139.289 2065.47 139.289 Q2061.33 139.289 2059.04 141.928 Q2056.74 144.544 2056.74 149.289 Q2056.74 154.034 2059.04 156.673 Q2061.33 159.289 2065.47 159.289 Q2067.32 159.289 2069.13 158.803 Q2070.96 158.293 2072.76 157.298 L2072.76 161.233 Q2070.98 162.067 2069.06 162.483 Q2067.16 162.9 2065.01 162.9 Q2059.15 162.9 2055.7 159.219 Q2052.25 155.539 2052.25 149.289 Q2052.25 142.946 2055.73 139.312 Q2059.22 135.678 2065.29 135.678 Q2067.25 135.678 2069.13 136.095 Q2071 136.488 2072.76 137.298 Z\" fill=\"#000000\" fill-rule=\"evenodd\" fill-opacity=\"1\" /><path clip-path=\"url(#clip310)\" d=\"M2098.83 137.298 L2098.83 141.28 Q2097.02 140.284 2095.19 139.798 Q2093.39 139.289 2091.54 139.289 Q2087.39 139.289 2085.1 141.928 Q2082.81 144.544 2082.81 149.289 Q2082.81 154.034 2085.1 156.673 Q2087.39 159.289 2091.54 159.289 Q2093.39 159.289 2095.19 158.803 Q2097.02 158.293 2098.83 157.298 L2098.83 161.233 Q2097.05 162.067 2095.12 162.483 Q2093.23 162.9 2091.07 162.9 Q2085.22 162.9 2081.77 159.219 Q2078.32 155.539 2078.32 149.289 Q2078.32 142.946 2081.79 139.312 Q2085.29 135.678 2091.35 135.678 Q2093.32 135.678 2095.19 136.095 Q2097.07 136.488 2098.83 137.298 Z\" fill=\"#000000\" fill-rule=\"evenodd\" fill-opacity=\"1\" /><path clip-path=\"url(#clip310)\" d=\"M2105.8 151.997 L2105.8 136.303 L2110.05 136.303 L2110.05 151.835 Q2110.05 155.516 2111.49 157.368 Q2112.93 159.196 2115.8 159.196 Q2119.24 159.196 2121.24 156.997 Q2123.25 154.798 2123.25 151.002 L2123.25 136.303 L2127.51 136.303 L2127.51 162.229 L2123.25 162.229 L2123.25 158.247 Q2121.7 160.608 2119.64 161.766 Q2117.6 162.9 2114.89 162.9 Q2110.43 162.9 2108.11 160.122 Q2105.8 157.344 2105.8 151.997 M2116.51 135.678 L2116.51 135.678 Z\" fill=\"#000000\" fill-rule=\"evenodd\" fill-opacity=\"1\" /><path clip-path=\"url(#clip310)\" d=\"M2151.3 140.284 Q2150.59 139.868 2149.73 139.682 Q2148.9 139.474 2147.88 139.474 Q2144.27 139.474 2142.32 141.835 Q2140.4 144.173 2140.4 148.571 L2140.4 162.229 L2136.12 162.229 L2136.12 136.303 L2140.4 136.303 L2140.4 140.331 Q2141.74 137.969 2143.9 136.835 Q2146.05 135.678 2149.13 135.678 Q2149.57 135.678 2150.1 135.747 Q2150.63 135.794 2151.28 135.909 L2151.3 140.284 Z\" fill=\"#000000\" fill-rule=\"evenodd\" fill-opacity=\"1\" /><path clip-path=\"url(#clip310)\" d=\"M2167.55 149.196 Q2162.39 149.196 2160.4 150.377 Q2158.41 151.557 2158.41 154.405 Q2158.41 156.673 2159.89 158.016 Q2161.4 159.335 2163.97 159.335 Q2167.51 159.335 2169.64 156.835 Q2171.79 154.312 2171.79 150.145 L2171.79 149.196 L2167.55 149.196 M2176.05 147.437 L2176.05 162.229 L2171.79 162.229 L2171.79 158.293 Q2170.33 160.655 2168.16 161.789 Q2165.98 162.9 2162.83 162.9 Q2158.85 162.9 2156.49 160.678 Q2154.15 158.432 2154.15 154.682 Q2154.15 150.307 2157.07 148.085 Q2160.01 145.863 2165.82 145.863 L2171.79 145.863 L2171.79 145.446 Q2171.79 142.507 2169.85 140.909 Q2167.92 139.289 2164.43 139.289 Q2162.21 139.289 2160.1 139.821 Q2157.99 140.354 2156.05 141.419 L2156.05 137.483 Q2158.39 136.581 2160.59 136.141 Q2162.79 135.678 2164.87 135.678 Q2170.49 135.678 2173.27 138.594 Q2176.05 141.511 2176.05 147.437 Z\" fill=\"#000000\" fill-rule=\"evenodd\" fill-opacity=\"1\" /><path clip-path=\"url(#clip310)\" d=\"M2203.48 137.298 L2203.48 141.28 Q2201.67 140.284 2199.85 139.798 Q2198.04 139.289 2196.19 139.289 Q2192.05 139.289 2189.75 141.928 Q2187.46 144.544 2187.46 149.289 Q2187.46 154.034 2189.75 156.673 Q2192.05 159.289 2196.19 159.289 Q2198.04 159.289 2199.85 158.803 Q2201.67 158.293 2203.48 157.298 L2203.48 161.233 Q2201.7 162.067 2199.78 162.483 Q2197.88 162.9 2195.73 162.9 Q2189.87 162.9 2186.42 159.219 Q2182.97 155.539 2182.97 149.289 Q2182.97 142.946 2186.44 139.312 Q2189.94 135.678 2196 135.678 Q2197.97 135.678 2199.85 136.095 Q2201.72 136.488 2203.48 137.298 Z\" fill=\"#000000\" fill-rule=\"evenodd\" fill-opacity=\"1\" /><path clip-path=\"url(#clip310)\" d=\"M2221.67 164.636 Q2219.87 169.266 2218.16 170.678 Q2216.44 172.09 2213.57 172.09 L2210.17 172.09 L2210.17 168.525 L2212.67 168.525 Q2214.43 168.525 2215.4 167.692 Q2216.37 166.858 2217.55 163.756 L2218.32 161.812 L2207.83 136.303 L2212.35 136.303 L2220.45 156.581 L2228.55 136.303 L2233.06 136.303 L2221.67 164.636 Z\" fill=\"#000000\" fill-rule=\"evenodd\" fill-opacity=\"1\" /><polyline clip-path=\"url(#clip310)\" style=\"stroke:#e26f46; stroke-linecap:butt; stroke-linejoin:round; stroke-width:4; stroke-opacity:1; fill:none\" points=\"\n",
       "  1775.92,196.789 1916.13,196.789 \n",
       "  \"/>\n",
       "<path clip-path=\"url(#clip310)\" d=\"M1939.5 188.143 L1944.01 188.143 L1952.12 209.902 L1960.22 188.143 L1964.73 188.143 L1955.01 214.069 L1949.22 214.069 L1939.5 188.143 Z\" fill=\"#000000\" fill-rule=\"evenodd\" fill-opacity=\"1\" /><path clip-path=\"url(#clip310)\" d=\"M1982.39 201.036 Q1977.23 201.036 1975.24 202.217 Q1973.25 203.397 1973.25 206.245 Q1973.25 208.513 1974.73 209.856 Q1976.24 211.175 1978.81 211.175 Q1982.35 211.175 1984.48 208.675 Q1986.63 206.152 1986.63 201.985 L1986.63 201.036 L1982.39 201.036 M1990.89 199.277 L1990.89 214.069 L1986.63 214.069 L1986.63 210.133 Q1985.17 212.495 1983 213.629 Q1980.82 214.74 1977.67 214.74 Q1973.69 214.74 1971.33 212.518 Q1968.99 210.272 1968.99 206.522 Q1968.99 202.147 1971.91 199.925 Q1974.85 197.703 1980.66 197.703 L1986.63 197.703 L1986.63 197.286 Q1986.63 194.347 1984.69 192.749 Q1982.76 191.129 1979.27 191.129 Q1977.05 191.129 1974.94 191.661 Q1972.83 192.194 1970.89 193.259 L1970.89 189.323 Q1973.23 188.421 1975.43 187.981 Q1977.63 187.518 1979.71 187.518 Q1985.33 187.518 1988.11 190.434 Q1990.89 193.351 1990.89 199.277 Z\" fill=\"#000000\" fill-rule=\"evenodd\" fill-opacity=\"1\" /><path clip-path=\"url(#clip310)\" d=\"M1999.66 178.05 L2003.92 178.05 L2003.92 214.069 L1999.66 214.069 L1999.66 178.05 Z\" fill=\"#000000\" fill-rule=\"evenodd\" fill-opacity=\"1\" /><path clip-path=\"url(#clip310)\" d=\"M2039.68 201.036 Q2034.52 201.036 2032.53 202.217 Q2030.54 203.397 2030.54 206.245 Q2030.54 208.513 2032.02 209.856 Q2033.53 211.175 2036.1 211.175 Q2039.64 211.175 2041.77 208.675 Q2043.92 206.152 2043.92 201.985 L2043.92 201.036 L2039.68 201.036 M2048.18 199.277 L2048.18 214.069 L2043.92 214.069 L2043.92 210.133 Q2042.46 212.495 2040.29 213.629 Q2038.11 214.74 2034.96 214.74 Q2030.98 214.74 2028.62 212.518 Q2026.28 210.272 2026.28 206.522 Q2026.28 202.147 2029.2 199.925 Q2032.14 197.703 2037.95 197.703 L2043.92 197.703 L2043.92 197.286 Q2043.92 194.347 2041.98 192.749 Q2040.06 191.129 2036.56 191.129 Q2034.34 191.129 2032.23 191.661 Q2030.12 192.194 2028.18 193.259 L2028.18 189.323 Q2030.52 188.421 2032.72 187.981 Q2034.92 187.518 2037 187.518 Q2042.62 187.518 2045.4 190.434 Q2048.18 193.351 2048.18 199.277 Z\" fill=\"#000000\" fill-rule=\"evenodd\" fill-opacity=\"1\" /><path clip-path=\"url(#clip310)\" d=\"M2075.61 189.138 L2075.61 193.12 Q2073.81 192.124 2071.98 191.638 Q2070.17 191.129 2068.32 191.129 Q2064.18 191.129 2061.88 193.768 Q2059.59 196.384 2059.59 201.129 Q2059.59 205.874 2061.88 208.513 Q2064.18 211.129 2068.32 211.129 Q2070.17 211.129 2071.98 210.643 Q2073.81 210.133 2075.61 209.138 L2075.61 213.073 Q2073.83 213.907 2071.91 214.323 Q2070.01 214.74 2067.86 214.74 Q2062 214.74 2058.55 211.059 Q2055.1 207.379 2055.1 201.129 Q2055.1 194.786 2058.57 191.152 Q2062.07 187.518 2068.13 187.518 Q2070.1 187.518 2071.98 187.935 Q2073.85 188.328 2075.61 189.138 Z\" fill=\"#000000\" fill-rule=\"evenodd\" fill-opacity=\"1\" /><path clip-path=\"url(#clip310)\" d=\"M2101.68 189.138 L2101.68 193.12 Q2099.87 192.124 2098.04 191.638 Q2096.24 191.129 2094.38 191.129 Q2090.24 191.129 2087.95 193.768 Q2085.66 196.384 2085.66 201.129 Q2085.66 205.874 2087.95 208.513 Q2090.24 211.129 2094.38 211.129 Q2096.24 211.129 2098.04 210.643 Q2099.87 210.133 2101.68 209.138 L2101.68 213.073 Q2099.89 213.907 2097.97 214.323 Q2096.07 214.74 2093.92 214.74 Q2088.06 214.74 2084.62 211.059 Q2081.17 207.379 2081.17 201.129 Q2081.17 194.786 2084.64 191.152 Q2088.13 187.518 2094.2 187.518 Q2096.17 187.518 2098.04 187.935 Q2099.92 188.328 2101.68 189.138 Z\" fill=\"#000000\" fill-rule=\"evenodd\" fill-opacity=\"1\" /><path clip-path=\"url(#clip310)\" d=\"M2108.64 203.837 L2108.64 188.143 L2112.9 188.143 L2112.9 203.675 Q2112.9 207.356 2114.34 209.208 Q2115.77 211.036 2118.64 211.036 Q2122.09 211.036 2124.08 208.837 Q2126.1 206.638 2126.1 202.842 L2126.1 188.143 L2130.36 188.143 L2130.36 214.069 L2126.1 214.069 L2126.1 210.087 Q2124.55 212.448 2122.49 213.606 Q2120.45 214.74 2117.74 214.74 Q2113.27 214.74 2110.96 211.962 Q2108.64 209.184 2108.64 203.837 M2119.36 187.518 L2119.36 187.518 Z\" fill=\"#000000\" fill-rule=\"evenodd\" fill-opacity=\"1\" /><path clip-path=\"url(#clip310)\" d=\"M2154.15 192.124 Q2153.43 191.708 2152.58 191.522 Q2151.74 191.314 2150.73 191.314 Q2147.11 191.314 2145.17 193.675 Q2143.25 196.013 2143.25 200.411 L2143.25 214.069 L2138.97 214.069 L2138.97 188.143 L2143.25 188.143 L2143.25 192.171 Q2144.59 189.809 2146.74 188.675 Q2148.9 187.518 2151.98 187.518 Q2152.42 187.518 2152.95 187.587 Q2153.48 187.634 2154.13 187.749 L2154.15 192.124 Z\" fill=\"#000000\" fill-rule=\"evenodd\" fill-opacity=\"1\" /><path clip-path=\"url(#clip310)\" d=\"M2170.4 201.036 Q2165.24 201.036 2163.25 202.217 Q2161.26 203.397 2161.26 206.245 Q2161.26 208.513 2162.74 209.856 Q2164.24 211.175 2166.81 211.175 Q2170.36 211.175 2172.49 208.675 Q2174.64 206.152 2174.64 201.985 L2174.64 201.036 L2170.4 201.036 M2178.9 199.277 L2178.9 214.069 L2174.64 214.069 L2174.64 210.133 Q2173.18 212.495 2171 213.629 Q2168.83 214.74 2165.68 214.74 Q2161.7 214.74 2159.34 212.518 Q2157 210.272 2157 206.522 Q2157 202.147 2159.92 199.925 Q2162.86 197.703 2168.67 197.703 L2174.64 197.703 L2174.64 197.286 Q2174.64 194.347 2172.69 192.749 Q2170.77 191.129 2167.28 191.129 Q2165.05 191.129 2162.95 191.661 Q2160.84 192.194 2158.9 193.259 L2158.9 189.323 Q2161.24 188.421 2163.43 187.981 Q2165.63 187.518 2167.72 187.518 Q2173.34 187.518 2176.12 190.434 Q2178.9 193.351 2178.9 199.277 Z\" fill=\"#000000\" fill-rule=\"evenodd\" fill-opacity=\"1\" /><path clip-path=\"url(#clip310)\" d=\"M2206.33 189.138 L2206.33 193.12 Q2204.52 192.124 2202.69 191.638 Q2200.89 191.129 2199.04 191.129 Q2194.89 191.129 2192.6 193.768 Q2190.31 196.384 2190.31 201.129 Q2190.31 205.874 2192.6 208.513 Q2194.89 211.129 2199.04 211.129 Q2200.89 211.129 2202.69 210.643 Q2204.52 210.133 2206.33 209.138 L2206.33 213.073 Q2204.55 213.907 2202.62 214.323 Q2200.73 214.74 2198.57 214.74 Q2192.72 214.74 2189.27 211.059 Q2185.82 207.379 2185.82 201.129 Q2185.82 194.786 2189.29 191.152 Q2192.79 187.518 2198.85 187.518 Q2200.82 187.518 2202.69 187.935 Q2204.57 188.328 2206.33 189.138 Z\" fill=\"#000000\" fill-rule=\"evenodd\" fill-opacity=\"1\" /><path clip-path=\"url(#clip310)\" d=\"M2224.52 216.476 Q2222.72 221.106 2221 222.518 Q2219.29 223.93 2216.42 223.93 L2213.02 223.93 L2213.02 220.365 L2215.52 220.365 Q2217.28 220.365 2218.25 219.532 Q2219.22 218.698 2220.4 215.596 L2221.17 213.652 L2210.68 188.143 L2215.19 188.143 L2223.3 208.421 L2231.4 188.143 L2235.91 188.143 L2224.52 216.476 Z\" fill=\"#000000\" fill-rule=\"evenodd\" fill-opacity=\"1\" /></svg>\n"
      ]
     },
     "execution_count": 39,
     "metadata": {},
     "output_type": "execute_result"
    }
   ],
   "source": [
    "results = load(\"/Users/ufukaltun/Documents/koç/dersler/ku deep learning/project/results_gs_target_cartoon.jld2\")[\"results\"];\n",
    "results = reshape(collect(Float32,flatten(results)),(4,:));\n",
    "plot([results[3,:], results[4,:]],\n",
    "    labels=[\"trn accuracy\" \"val accuracy\" ],xlabel=\"Iterations/20\",ylabel=\"Accuracy\")"
   ]
  },
  {
   "cell_type": "code",
   "execution_count": null,
   "id": "0e371924",
   "metadata": {},
   "outputs": [],
   "source": [
    "results = load(\"/Users/ufukaltun/Documents/koç/dersler/ku deep learning/project/results_b_target_LabelMe.jld2\")[\"results\"];\n",
    "results = reshape(collect(Float32,flatten(results)),(4,:));\n",
    "plot([results[3,:], results[4,:]],\n",
    "    labels=[\"trn accuracy\" \"val accuracy\" ],xlabel=\"Iterations/20\",ylabel=\"Accuracy\")"
   ]
  },
  {
   "cell_type": "code",
   "execution_count": 41,
   "id": "79a4e73e",
   "metadata": {},
   "outputs": [
    {
     "data": {
      "image/svg+xml": [
       "<?xml version=\"1.0\" encoding=\"utf-8\"?>\n",
       "<svg xmlns=\"http://www.w3.org/2000/svg\" xmlns:xlink=\"http://www.w3.org/1999/xlink\" width=\"600\" height=\"400\" viewBox=\"0 0 2400 1600\">\n",
       "<defs>\n",
       "  <clipPath id=\"clip390\">\n",
       "    <rect x=\"0\" y=\"0\" width=\"2400\" height=\"1600\"/>\n",
       "  </clipPath>\n",
       "</defs>\n",
       "<path clip-path=\"url(#clip390)\" d=\"\n",
       "M0 1600 L2400 1600 L2400 0 L0 0  Z\n",
       "  \" fill=\"#ffffff\" fill-rule=\"evenodd\" fill-opacity=\"1\"/>\n",
       "<defs>\n",
       "  <clipPath id=\"clip391\">\n",
       "    <rect x=\"480\" y=\"0\" width=\"1681\" height=\"1600\"/>\n",
       "  </clipPath>\n",
       "</defs>\n",
       "<path clip-path=\"url(#clip390)\" d=\"\n",
       "M249.542 1423.18 L2352.76 1423.18 L2352.76 47.2441 L249.542 47.2441  Z\n",
       "  \" fill=\"#ffffff\" fill-rule=\"evenodd\" fill-opacity=\"1\"/>\n",
       "<defs>\n",
       "  <clipPath id=\"clip392\">\n",
       "    <rect x=\"249\" y=\"47\" width=\"2104\" height=\"1377\"/>\n",
       "  </clipPath>\n",
       "</defs>\n",
       "<polyline clip-path=\"url(#clip392)\" style=\"stroke:#000000; stroke-linecap:butt; stroke-linejoin:round; stroke-width:2; stroke-opacity:0.1; fill:none\" points=\"\n",
       "  582.745,1423.18 582.745,47.2441 \n",
       "  \"/>\n",
       "<polyline clip-path=\"url(#clip392)\" style=\"stroke:#000000; stroke-linecap:butt; stroke-linejoin:round; stroke-width:2; stroke-opacity:0.1; fill:none\" points=\"\n",
       "  924.842,1423.18 924.842,47.2441 \n",
       "  \"/>\n",
       "<polyline clip-path=\"url(#clip392)\" style=\"stroke:#000000; stroke-linecap:butt; stroke-linejoin:round; stroke-width:2; stroke-opacity:0.1; fill:none\" points=\"\n",
       "  1266.94,1423.18 1266.94,47.2441 \n",
       "  \"/>\n",
       "<polyline clip-path=\"url(#clip392)\" style=\"stroke:#000000; stroke-linecap:butt; stroke-linejoin:round; stroke-width:2; stroke-opacity:0.1; fill:none\" points=\"\n",
       "  1609.04,1423.18 1609.04,47.2441 \n",
       "  \"/>\n",
       "<polyline clip-path=\"url(#clip392)\" style=\"stroke:#000000; stroke-linecap:butt; stroke-linejoin:round; stroke-width:2; stroke-opacity:0.1; fill:none\" points=\"\n",
       "  1951.13,1423.18 1951.13,47.2441 \n",
       "  \"/>\n",
       "<polyline clip-path=\"url(#clip392)\" style=\"stroke:#000000; stroke-linecap:butt; stroke-linejoin:round; stroke-width:2; stroke-opacity:0.1; fill:none\" points=\"\n",
       "  2293.23,1423.18 2293.23,47.2441 \n",
       "  \"/>\n",
       "<polyline clip-path=\"url(#clip390)\" style=\"stroke:#000000; stroke-linecap:butt; stroke-linejoin:round; stroke-width:4; stroke-opacity:1; fill:none\" points=\"\n",
       "  249.542,1423.18 2352.76,1423.18 \n",
       "  \"/>\n",
       "<polyline clip-path=\"url(#clip390)\" style=\"stroke:#000000; stroke-linecap:butt; stroke-linejoin:round; stroke-width:4; stroke-opacity:1; fill:none\" points=\"\n",
       "  582.745,1423.18 582.745,1404.28 \n",
       "  \"/>\n",
       "<polyline clip-path=\"url(#clip390)\" style=\"stroke:#000000; stroke-linecap:butt; stroke-linejoin:round; stroke-width:4; stroke-opacity:1; fill:none\" points=\"\n",
       "  924.842,1423.18 924.842,1404.28 \n",
       "  \"/>\n",
       "<polyline clip-path=\"url(#clip390)\" style=\"stroke:#000000; stroke-linecap:butt; stroke-linejoin:round; stroke-width:4; stroke-opacity:1; fill:none\" points=\"\n",
       "  1266.94,1423.18 1266.94,1404.28 \n",
       "  \"/>\n",
       "<polyline clip-path=\"url(#clip390)\" style=\"stroke:#000000; stroke-linecap:butt; stroke-linejoin:round; stroke-width:4; stroke-opacity:1; fill:none\" points=\"\n",
       "  1609.04,1423.18 1609.04,1404.28 \n",
       "  \"/>\n",
       "<polyline clip-path=\"url(#clip390)\" style=\"stroke:#000000; stroke-linecap:butt; stroke-linejoin:round; stroke-width:4; stroke-opacity:1; fill:none\" points=\"\n",
       "  1951.13,1423.18 1951.13,1404.28 \n",
       "  \"/>\n",
       "<polyline clip-path=\"url(#clip390)\" style=\"stroke:#000000; stroke-linecap:butt; stroke-linejoin:round; stroke-width:4; stroke-opacity:1; fill:none\" points=\"\n",
       "  2293.23,1423.18 2293.23,1404.28 \n",
       "  \"/>\n",
       "<path clip-path=\"url(#clip390)\" d=\"M573.023 1451.02 L591.379 1451.02 L591.379 1454.96 L577.305 1454.96 L577.305 1463.43 Q578.323 1463.08 579.342 1462.92 Q580.361 1462.73 581.379 1462.73 Q587.166 1462.73 590.546 1465.9 Q593.925 1469.08 593.925 1474.49 Q593.925 1480.07 590.453 1483.17 Q586.981 1486.25 580.661 1486.25 Q578.486 1486.25 576.217 1485.88 Q573.972 1485.51 571.564 1484.77 L571.564 1480.07 Q573.648 1481.2 575.87 1481.76 Q578.092 1482.32 580.569 1482.32 Q584.573 1482.32 586.911 1480.21 Q589.249 1478.1 589.249 1474.49 Q589.249 1470.88 586.911 1468.77 Q584.573 1466.67 580.569 1466.67 Q578.694 1466.67 576.819 1467.08 Q574.967 1467.5 573.023 1468.38 L573.023 1451.02 Z\" fill=\"#000000\" fill-rule=\"evenodd\" fill-opacity=\"1\" /><path clip-path=\"url(#clip390)\" d=\"M899.53 1481.64 L907.168 1481.64 L907.168 1455.28 L898.858 1456.95 L898.858 1452.69 L907.122 1451.02 L911.798 1451.02 L911.798 1481.64 L919.437 1481.64 L919.437 1485.58 L899.53 1485.58 L899.53 1481.64 Z\" fill=\"#000000\" fill-rule=\"evenodd\" fill-opacity=\"1\" /><path clip-path=\"url(#clip390)\" d=\"M938.881 1454.1 Q935.27 1454.1 933.441 1457.66 Q931.636 1461.2 931.636 1468.33 Q931.636 1475.44 933.441 1479.01 Q935.27 1482.55 938.881 1482.55 Q942.516 1482.55 944.321 1479.01 Q946.15 1475.44 946.15 1468.33 Q946.15 1461.2 944.321 1457.66 Q942.516 1454.1 938.881 1454.1 M938.881 1450.39 Q944.691 1450.39 947.747 1455 Q950.826 1459.58 950.826 1468.33 Q950.826 1477.06 947.747 1481.67 Q944.691 1486.25 938.881 1486.25 Q933.071 1486.25 929.992 1481.67 Q926.937 1477.06 926.937 1468.33 Q926.937 1459.58 929.992 1455 Q933.071 1450.39 938.881 1450.39 Z\" fill=\"#000000\" fill-rule=\"evenodd\" fill-opacity=\"1\" /><path clip-path=\"url(#clip390)\" d=\"M1242.12 1481.64 L1249.76 1481.64 L1249.76 1455.28 L1241.45 1456.95 L1241.45 1452.69 L1249.72 1451.02 L1254.39 1451.02 L1254.39 1481.64 L1262.03 1481.64 L1262.03 1485.58 L1242.12 1485.58 L1242.12 1481.64 Z\" fill=\"#000000\" fill-rule=\"evenodd\" fill-opacity=\"1\" /><path clip-path=\"url(#clip390)\" d=\"M1271.52 1451.02 L1289.88 1451.02 L1289.88 1454.96 L1275.8 1454.96 L1275.8 1463.43 Q1276.82 1463.08 1277.84 1462.92 Q1278.86 1462.73 1279.88 1462.73 Q1285.67 1462.73 1289.05 1465.9 Q1292.43 1469.08 1292.43 1474.49 Q1292.43 1480.07 1288.95 1483.17 Q1285.48 1486.25 1279.16 1486.25 Q1276.99 1486.25 1274.72 1485.88 Q1272.47 1485.51 1270.06 1484.77 L1270.06 1480.07 Q1272.15 1481.2 1274.37 1481.76 Q1276.59 1482.32 1279.07 1482.32 Q1283.07 1482.32 1285.41 1480.21 Q1287.75 1478.1 1287.75 1474.49 Q1287.75 1470.88 1285.41 1468.77 Q1283.07 1466.67 1279.07 1466.67 Q1277.19 1466.67 1275.32 1467.08 Q1273.47 1467.5 1271.52 1468.38 L1271.52 1451.02 Z\" fill=\"#000000\" fill-rule=\"evenodd\" fill-opacity=\"1\" /><path clip-path=\"url(#clip390)\" d=\"M1587.81 1481.64 L1604.13 1481.64 L1604.13 1485.58 L1582.18 1485.58 L1582.18 1481.64 Q1584.85 1478.89 1589.43 1474.26 Q1594.04 1469.61 1595.22 1468.27 Q1597.46 1465.74 1598.34 1464.01 Q1599.24 1462.25 1599.24 1460.56 Q1599.24 1457.8 1597.3 1456.07 Q1595.38 1454.33 1592.28 1454.33 Q1590.08 1454.33 1587.62 1455.09 Q1585.19 1455.86 1582.42 1457.41 L1582.42 1452.69 Q1585.24 1451.55 1587.69 1450.97 Q1590.15 1450.39 1592.18 1450.39 Q1597.56 1450.39 1600.75 1453.08 Q1603.94 1455.77 1603.94 1460.26 Q1603.94 1462.39 1603.13 1464.31 Q1602.35 1466.2 1600.24 1468.8 Q1599.66 1469.47 1596.56 1472.69 Q1593.46 1475.88 1587.81 1481.64 Z\" fill=\"#000000\" fill-rule=\"evenodd\" fill-opacity=\"1\" /><path clip-path=\"url(#clip390)\" d=\"M1623.94 1454.1 Q1620.33 1454.1 1618.5 1457.66 Q1616.7 1461.2 1616.7 1468.33 Q1616.7 1475.44 1618.5 1479.01 Q1620.33 1482.55 1623.94 1482.55 Q1627.58 1482.55 1629.38 1479.01 Q1631.21 1475.44 1631.21 1468.33 Q1631.21 1461.2 1629.38 1457.66 Q1627.58 1454.1 1623.94 1454.1 M1623.94 1450.39 Q1629.75 1450.39 1632.81 1455 Q1635.89 1459.58 1635.89 1468.33 Q1635.89 1477.06 1632.81 1481.67 Q1629.75 1486.25 1623.94 1486.25 Q1618.13 1486.25 1615.05 1481.67 Q1612 1477.06 1612 1468.33 Q1612 1459.58 1615.05 1455 Q1618.13 1450.39 1623.94 1450.39 Z\" fill=\"#000000\" fill-rule=\"evenodd\" fill-opacity=\"1\" /><path clip-path=\"url(#clip390)\" d=\"M1930.4 1481.64 L1946.72 1481.64 L1946.72 1485.58 L1924.78 1485.58 L1924.78 1481.64 Q1927.44 1478.89 1932.03 1474.26 Q1936.63 1469.61 1937.81 1468.27 Q1940.06 1465.74 1940.94 1464.01 Q1941.84 1462.25 1941.84 1460.56 Q1941.84 1457.8 1939.9 1456.07 Q1937.97 1454.33 1934.87 1454.33 Q1932.67 1454.33 1930.22 1455.09 Q1927.79 1455.86 1925.01 1457.41 L1925.01 1452.69 Q1927.84 1451.55 1930.29 1450.97 Q1932.74 1450.39 1934.78 1450.39 Q1940.15 1450.39 1943.34 1453.08 Q1946.54 1455.77 1946.54 1460.26 Q1946.54 1462.39 1945.73 1464.31 Q1944.94 1466.2 1942.84 1468.8 Q1942.26 1469.47 1939.15 1472.69 Q1936.05 1475.88 1930.4 1481.64 Z\" fill=\"#000000\" fill-rule=\"evenodd\" fill-opacity=\"1\" /><path clip-path=\"url(#clip390)\" d=\"M1956.59 1451.02 L1974.94 1451.02 L1974.94 1454.96 L1960.87 1454.96 L1960.87 1463.43 Q1961.89 1463.08 1962.9 1462.92 Q1963.92 1462.73 1964.94 1462.73 Q1970.73 1462.73 1974.11 1465.9 Q1977.49 1469.08 1977.49 1474.49 Q1977.49 1480.07 1974.02 1483.17 Q1970.54 1486.25 1964.22 1486.25 Q1962.05 1486.25 1959.78 1485.88 Q1957.53 1485.51 1955.13 1484.77 L1955.13 1480.07 Q1957.21 1481.2 1959.43 1481.76 Q1961.65 1482.32 1964.13 1482.32 Q1968.14 1482.32 1970.47 1480.21 Q1972.81 1478.1 1972.81 1474.49 Q1972.81 1470.88 1970.47 1468.77 Q1968.14 1466.67 1964.13 1466.67 Q1962.26 1466.67 1960.38 1467.08 Q1958.53 1467.5 1956.59 1468.38 L1956.59 1451.02 Z\" fill=\"#000000\" fill-rule=\"evenodd\" fill-opacity=\"1\" /><path clip-path=\"url(#clip390)\" d=\"M2282.07 1466.95 Q2285.43 1467.66 2287.31 1469.93 Q2289.2 1472.2 2289.2 1475.53 Q2289.2 1480.65 2285.68 1483.45 Q2282.17 1486.25 2275.68 1486.25 Q2273.51 1486.25 2271.19 1485.81 Q2268.9 1485.39 2266.45 1484.54 L2266.45 1480.02 Q2268.39 1481.16 2270.71 1481.74 Q2273.02 1482.32 2275.55 1482.32 Q2279.94 1482.32 2282.24 1480.58 Q2284.55 1478.84 2284.55 1475.53 Q2284.55 1472.48 2282.4 1470.77 Q2280.27 1469.03 2276.45 1469.03 L2272.42 1469.03 L2272.42 1465.19 L2276.63 1465.19 Q2280.08 1465.19 2281.91 1463.82 Q2283.74 1462.43 2283.74 1459.84 Q2283.74 1457.18 2281.84 1455.77 Q2279.97 1454.33 2276.45 1454.33 Q2274.53 1454.33 2272.33 1454.75 Q2270.13 1455.16 2267.49 1456.04 L2267.49 1451.88 Q2270.15 1451.14 2272.47 1450.77 Q2274.81 1450.39 2276.87 1450.39 Q2282.19 1450.39 2285.29 1452.83 Q2288.39 1455.23 2288.39 1459.35 Q2288.39 1462.22 2286.75 1464.21 Q2285.11 1466.18 2282.07 1466.95 Z\" fill=\"#000000\" fill-rule=\"evenodd\" fill-opacity=\"1\" /><path clip-path=\"url(#clip390)\" d=\"M2308.07 1454.1 Q2304.46 1454.1 2302.63 1457.66 Q2300.82 1461.2 2300.82 1468.33 Q2300.82 1475.44 2302.63 1479.01 Q2304.46 1482.55 2308.07 1482.55 Q2311.7 1482.55 2313.51 1479.01 Q2315.34 1475.44 2315.34 1468.33 Q2315.34 1461.2 2313.51 1457.66 Q2311.7 1454.1 2308.07 1454.1 M2308.07 1450.39 Q2313.88 1450.39 2316.93 1455 Q2320.01 1459.58 2320.01 1468.33 Q2320.01 1477.06 2316.93 1481.67 Q2313.88 1486.25 2308.07 1486.25 Q2302.26 1486.25 2299.18 1481.67 Q2296.12 1477.06 2296.12 1468.33 Q2296.12 1459.58 2299.18 1455 Q2302.26 1450.39 2308.07 1450.39 Z\" fill=\"#000000\" fill-rule=\"evenodd\" fill-opacity=\"1\" /><path clip-path=\"url(#clip390)\" d=\"M1098.83 1520.52 L1105.26 1520.52 L1105.26 1568.04 L1098.83 1568.04 L1098.83 1520.52 Z\" fill=\"#000000\" fill-rule=\"evenodd\" fill-opacity=\"1\" /><path clip-path=\"url(#clip390)\" d=\"M1123.59 1522.27 L1123.59 1532.4 L1135.66 1532.4 L1135.66 1536.95 L1123.59 1536.95 L1123.59 1556.3 Q1123.59 1560.66 1124.77 1561.9 Q1125.98 1563.14 1129.64 1563.14 L1135.66 1563.14 L1135.66 1568.04 L1129.64 1568.04 Q1122.86 1568.04 1120.28 1565.53 Q1117.71 1562.98 1117.71 1556.3 L1117.71 1536.95 L1113.41 1536.95 L1113.41 1532.4 L1117.71 1532.4 L1117.71 1522.27 L1123.59 1522.27 Z\" fill=\"#000000\" fill-rule=\"evenodd\" fill-opacity=\"1\" /><path clip-path=\"url(#clip390)\" d=\"M1173.85 1548.76 L1173.85 1551.62 L1146.92 1551.62 Q1147.31 1557.67 1150.55 1560.85 Q1153.83 1564 1159.66 1564 Q1163.03 1564 1166.18 1563.17 Q1169.36 1562.35 1172.48 1560.69 L1172.48 1566.23 Q1169.33 1567.57 1166.02 1568.27 Q1162.71 1568.97 1159.31 1568.97 Q1150.78 1568.97 1145.78 1564 Q1140.81 1559.04 1140.81 1550.57 Q1140.81 1541.82 1145.52 1536.69 Q1150.27 1531.54 1158.29 1531.54 Q1165.48 1531.54 1169.65 1536.18 Q1173.85 1540.8 1173.85 1548.76 M1167.99 1547.04 Q1167.93 1542.23 1165.29 1539.37 Q1162.68 1536.5 1158.35 1536.5 Q1153.45 1536.5 1150.49 1539.27 Q1147.56 1542.04 1147.11 1547.07 L1167.99 1547.04 Z\" fill=\"#000000\" fill-rule=\"evenodd\" fill-opacity=\"1\" /><path clip-path=\"url(#clip390)\" d=\"M1204.12 1537.87 Q1203.13 1537.3 1201.96 1537.04 Q1200.81 1536.76 1199.41 1536.76 Q1194.44 1536.76 1191.77 1540 Q1189.13 1543.22 1189.13 1549.27 L1189.13 1568.04 L1183.24 1568.04 L1183.24 1532.4 L1189.13 1532.4 L1189.13 1537.93 Q1190.97 1534.69 1193.93 1533.13 Q1196.89 1531.54 1201.13 1531.54 Q1201.73 1531.54 1202.46 1531.63 Q1203.2 1531.7 1204.09 1531.85 L1204.12 1537.87 Z\" fill=\"#000000\" fill-rule=\"evenodd\" fill-opacity=\"1\" /><path clip-path=\"url(#clip390)\" d=\"M1226.46 1550.12 Q1219.37 1550.12 1216.63 1551.75 Q1213.89 1553.37 1213.89 1557.29 Q1213.89 1560.4 1215.93 1562.25 Q1218 1564.07 1221.53 1564.07 Q1226.4 1564.07 1229.33 1560.63 Q1232.29 1557.16 1232.29 1551.43 L1232.29 1550.12 L1226.46 1550.12 M1238.14 1547.71 L1238.14 1568.04 L1232.29 1568.04 L1232.29 1562.63 Q1230.28 1565.88 1227.29 1567.44 Q1224.3 1568.97 1219.97 1568.97 Q1214.5 1568.97 1211.25 1565.91 Q1208.03 1562.82 1208.03 1557.67 Q1208.03 1551.65 1212.04 1548.6 Q1216.09 1545.54 1224.08 1545.54 L1232.29 1545.54 L1232.29 1544.97 Q1232.29 1540.93 1229.61 1538.73 Q1226.97 1536.5 1222.17 1536.5 Q1219.11 1536.5 1216.21 1537.23 Q1213.32 1537.97 1210.64 1539.43 L1210.64 1534.02 Q1213.86 1532.78 1216.88 1532.17 Q1219.91 1531.54 1222.77 1531.54 Q1230.51 1531.54 1234.32 1535.55 Q1238.14 1539.56 1238.14 1547.71 Z\" fill=\"#000000\" fill-rule=\"evenodd\" fill-opacity=\"1\" /><path clip-path=\"url(#clip390)\" d=\"M1256 1522.27 L1256 1532.4 L1268.06 1532.4 L1268.06 1536.95 L1256 1536.95 L1256 1556.3 Q1256 1560.66 1257.18 1561.9 Q1258.39 1563.14 1262.05 1563.14 L1268.06 1563.14 L1268.06 1568.04 L1262.05 1568.04 Q1255.27 1568.04 1252.69 1565.53 Q1250.11 1562.98 1250.11 1556.3 L1250.11 1536.95 L1245.82 1536.95 L1245.82 1532.4 L1250.11 1532.4 L1250.11 1522.27 L1256 1522.27 Z\" fill=\"#000000\" fill-rule=\"evenodd\" fill-opacity=\"1\" /><path clip-path=\"url(#clip390)\" d=\"M1275.77 1532.4 L1281.62 1532.4 L1281.62 1568.04 L1275.77 1568.04 L1275.77 1532.4 M1275.77 1518.52 L1281.62 1518.52 L1281.62 1525.93 L1275.77 1525.93 L1275.77 1518.52 Z\" fill=\"#000000\" fill-rule=\"evenodd\" fill-opacity=\"1\" /><path clip-path=\"url(#clip390)\" d=\"M1307.69 1536.5 Q1302.98 1536.5 1300.24 1540.19 Q1297.5 1543.85 1297.5 1550.25 Q1297.5 1556.65 1300.21 1560.34 Q1302.95 1564 1307.69 1564 Q1312.37 1564 1315.11 1560.31 Q1317.84 1556.62 1317.84 1550.25 Q1317.84 1543.92 1315.11 1540.23 Q1312.37 1536.5 1307.69 1536.5 M1307.69 1531.54 Q1315.33 1531.54 1319.69 1536.5 Q1324.05 1541.47 1324.05 1550.25 Q1324.05 1559 1319.69 1564 Q1315.33 1568.97 1307.69 1568.97 Q1300.02 1568.97 1295.66 1564 Q1291.33 1559 1291.33 1550.25 Q1291.33 1541.47 1295.66 1536.5 Q1300.02 1531.54 1307.69 1531.54 Z\" fill=\"#000000\" fill-rule=\"evenodd\" fill-opacity=\"1\" /><path clip-path=\"url(#clip390)\" d=\"M1363.39 1546.53 L1363.39 1568.04 L1357.53 1568.04 L1357.53 1546.72 Q1357.53 1541.66 1355.56 1539.14 Q1353.59 1536.63 1349.64 1536.63 Q1344.9 1536.63 1342.16 1539.65 Q1339.42 1542.68 1339.42 1547.9 L1339.42 1568.04 L1333.53 1568.04 L1333.53 1532.4 L1339.42 1532.4 L1339.42 1537.93 Q1341.52 1534.72 1344.36 1533.13 Q1347.22 1531.54 1350.94 1531.54 Q1357.09 1531.54 1360.24 1535.36 Q1363.39 1539.14 1363.39 1546.53 Z\" fill=\"#000000\" fill-rule=\"evenodd\" fill-opacity=\"1\" /><path clip-path=\"url(#clip390)\" d=\"M1397.8 1533.45 L1397.8 1538.98 Q1395.31 1537.71 1392.64 1537.07 Q1389.97 1536.44 1387.1 1536.44 Q1382.74 1536.44 1380.55 1537.77 Q1378.38 1539.11 1378.38 1541.79 Q1378.38 1543.82 1379.94 1545 Q1381.5 1546.15 1386.21 1547.2 L1388.22 1547.64 Q1394.45 1548.98 1397.06 1551.43 Q1399.71 1553.85 1399.71 1558.21 Q1399.71 1563.17 1395.76 1566.07 Q1391.84 1568.97 1384.97 1568.97 Q1382.1 1568.97 1378.99 1568.39 Q1375.9 1567.85 1372.46 1566.74 L1372.46 1560.69 Q1375.71 1562.38 1378.86 1563.24 Q1382.01 1564.07 1385.1 1564.07 Q1389.23 1564.07 1391.46 1562.66 Q1393.69 1561.23 1393.69 1558.65 Q1393.69 1556.27 1392.07 1554.99 Q1390.48 1553.72 1385.03 1552.54 L1383 1552.07 Q1377.55 1550.92 1375.13 1548.56 Q1372.72 1546.18 1372.72 1542.04 Q1372.72 1537.01 1376.28 1534.27 Q1379.85 1531.54 1386.4 1531.54 Q1389.65 1531.54 1392.51 1532.01 Q1395.38 1532.49 1397.8 1533.45 Z\" fill=\"#000000\" fill-rule=\"evenodd\" fill-opacity=\"1\" /><path clip-path=\"url(#clip390)\" d=\"M1419.44 1520.52 L1424.85 1520.52 L1408.3 1574.09 L1402.89 1574.09 L1419.44 1520.52 Z\" fill=\"#000000\" fill-rule=\"evenodd\" fill-opacity=\"1\" /><path clip-path=\"url(#clip390)\" d=\"M1437.36 1562.63 L1459.8 1562.63 L1459.8 1568.04 L1429.62 1568.04 L1429.62 1562.63 Q1433.29 1558.85 1439.59 1552.48 Q1445.92 1546.08 1447.54 1544.24 Q1450.63 1540.77 1451.84 1538.38 Q1453.08 1535.96 1453.08 1533.64 Q1453.08 1529.85 1450.41 1527.46 Q1447.77 1525.08 1443.5 1525.08 Q1440.48 1525.08 1437.1 1526.13 Q1433.76 1527.18 1429.94 1529.31 L1429.94 1522.82 Q1433.83 1521.26 1437.2 1520.46 Q1440.57 1519.66 1443.37 1519.66 Q1450.76 1519.66 1455.15 1523.36 Q1459.54 1527.05 1459.54 1533.22 Q1459.54 1536.15 1458.43 1538.79 Q1457.35 1541.4 1454.45 1544.97 Q1453.66 1545.89 1449.39 1550.32 Q1445.13 1554.71 1437.36 1562.63 Z\" fill=\"#000000\" fill-rule=\"evenodd\" fill-opacity=\"1\" /><path clip-path=\"url(#clip390)\" d=\"M1487.04 1524.76 Q1482.08 1524.76 1479.56 1529.66 Q1477.08 1534.53 1477.08 1544.33 Q1477.08 1554.1 1479.56 1559 Q1482.08 1563.87 1487.04 1563.87 Q1492.04 1563.87 1494.52 1559 Q1497.04 1554.1 1497.04 1544.33 Q1497.04 1534.53 1494.52 1529.66 Q1492.04 1524.76 1487.04 1524.76 M1487.04 1519.66 Q1495.03 1519.66 1499.23 1526 Q1503.47 1532.3 1503.47 1544.33 Q1503.47 1556.33 1499.23 1562.66 Q1495.03 1568.97 1487.04 1568.97 Q1479.05 1568.97 1474.82 1562.66 Q1470.62 1556.33 1470.62 1544.33 Q1470.62 1532.3 1474.82 1526 Q1479.05 1519.66 1487.04 1519.66 Z\" fill=\"#000000\" fill-rule=\"evenodd\" fill-opacity=\"1\" /><polyline clip-path=\"url(#clip392)\" style=\"stroke:#000000; stroke-linecap:butt; stroke-linejoin:round; stroke-width:2; stroke-opacity:0.1; fill:none\" points=\"\n",
       "  249.542,1167.54 2352.76,1167.54 \n",
       "  \"/>\n",
       "<polyline clip-path=\"url(#clip392)\" style=\"stroke:#000000; stroke-linecap:butt; stroke-linejoin:round; stroke-width:2; stroke-opacity:0.1; fill:none\" points=\"\n",
       "  249.542,879.178 2352.76,879.178 \n",
       "  \"/>\n",
       "<polyline clip-path=\"url(#clip392)\" style=\"stroke:#000000; stroke-linecap:butt; stroke-linejoin:round; stroke-width:2; stroke-opacity:0.1; fill:none\" points=\"\n",
       "  249.542,590.817 2352.76,590.817 \n",
       "  \"/>\n",
       "<polyline clip-path=\"url(#clip392)\" style=\"stroke:#000000; stroke-linecap:butt; stroke-linejoin:round; stroke-width:2; stroke-opacity:0.1; fill:none\" points=\"\n",
       "  249.542,302.456 2352.76,302.456 \n",
       "  \"/>\n",
       "<polyline clip-path=\"url(#clip390)\" style=\"stroke:#000000; stroke-linecap:butt; stroke-linejoin:round; stroke-width:4; stroke-opacity:1; fill:none\" points=\"\n",
       "  249.542,1423.18 249.542,47.2441 \n",
       "  \"/>\n",
       "<polyline clip-path=\"url(#clip390)\" style=\"stroke:#000000; stroke-linecap:butt; stroke-linejoin:round; stroke-width:4; stroke-opacity:1; fill:none\" points=\"\n",
       "  249.542,1167.54 268.44,1167.54 \n",
       "  \"/>\n",
       "<polyline clip-path=\"url(#clip390)\" style=\"stroke:#000000; stroke-linecap:butt; stroke-linejoin:round; stroke-width:4; stroke-opacity:1; fill:none\" points=\"\n",
       "  249.542,879.178 268.44,879.178 \n",
       "  \"/>\n",
       "<polyline clip-path=\"url(#clip390)\" style=\"stroke:#000000; stroke-linecap:butt; stroke-linejoin:round; stroke-width:4; stroke-opacity:1; fill:none\" points=\"\n",
       "  249.542,590.817 268.44,590.817 \n",
       "  \"/>\n",
       "<polyline clip-path=\"url(#clip390)\" style=\"stroke:#000000; stroke-linecap:butt; stroke-linejoin:round; stroke-width:4; stroke-opacity:1; fill:none\" points=\"\n",
       "  249.542,302.456 268.44,302.456 \n",
       "  \"/>\n",
       "<path clip-path=\"url(#clip390)\" d=\"M126.205 1153.34 Q122.593 1153.34 120.765 1156.9 Q118.959 1160.44 118.959 1167.57 Q118.959 1174.68 120.765 1178.24 Q122.593 1181.79 126.205 1181.79 Q129.839 1181.79 131.644 1178.24 Q133.473 1174.68 133.473 1167.57 Q133.473 1160.44 131.644 1156.9 Q129.839 1153.34 126.205 1153.34 M126.205 1149.63 Q132.015 1149.63 135.07 1154.24 Q138.149 1158.82 138.149 1167.57 Q138.149 1176.3 135.07 1180.91 Q132.015 1185.49 126.205 1185.49 Q120.394 1185.49 117.316 1180.91 Q114.26 1176.3 114.26 1167.57 Q114.26 1158.82 117.316 1154.24 Q120.394 1149.63 126.205 1149.63 Z\" fill=\"#000000\" fill-rule=\"evenodd\" fill-opacity=\"1\" /><path clip-path=\"url(#clip390)\" d=\"M146.366 1178.94 L151.251 1178.94 L151.251 1184.82 L146.366 1184.82 L146.366 1178.94 Z\" fill=\"#000000\" fill-rule=\"evenodd\" fill-opacity=\"1\" /><path clip-path=\"url(#clip390)\" d=\"M161.482 1150.26 L179.839 1150.26 L179.839 1154.19 L165.765 1154.19 L165.765 1162.67 Q166.783 1162.32 167.802 1162.16 Q168.82 1161.97 169.839 1161.97 Q175.626 1161.97 179.005 1165.14 Q182.385 1168.31 182.385 1173.73 Q182.385 1179.31 178.913 1182.41 Q175.44 1185.49 169.121 1185.49 Q166.945 1185.49 164.677 1185.12 Q162.431 1184.75 160.024 1184.01 L160.024 1179.31 Q162.107 1180.44 164.329 1181 Q166.552 1181.55 169.028 1181.55 Q173.033 1181.55 175.371 1179.45 Q177.709 1177.34 177.709 1173.73 Q177.709 1170.12 175.371 1168.01 Q173.033 1165.91 169.028 1165.91 Q167.153 1165.91 165.278 1166.32 Q163.427 1166.74 161.482 1167.62 L161.482 1150.26 Z\" fill=\"#000000\" fill-rule=\"evenodd\" fill-opacity=\"1\" /><path clip-path=\"url(#clip390)\" d=\"M201.598 1153.34 Q197.987 1153.34 196.158 1156.9 Q194.352 1160.44 194.352 1167.57 Q194.352 1174.68 196.158 1178.24 Q197.987 1181.79 201.598 1181.79 Q205.232 1181.79 207.037 1178.24 Q208.866 1174.68 208.866 1167.57 Q208.866 1160.44 207.037 1156.9 Q205.232 1153.34 201.598 1153.34 M201.598 1149.63 Q207.408 1149.63 210.463 1154.24 Q213.542 1158.82 213.542 1167.57 Q213.542 1176.3 210.463 1180.91 Q207.408 1185.49 201.598 1185.49 Q195.787 1185.49 192.709 1180.91 Q189.653 1176.3 189.653 1167.57 Q189.653 1158.82 192.709 1154.24 Q195.787 1149.63 201.598 1149.63 Z\" fill=\"#000000\" fill-rule=\"evenodd\" fill-opacity=\"1\" /><path clip-path=\"url(#clip390)\" d=\"M127.2 864.976 Q123.589 864.976 121.76 868.541 Q119.955 872.083 119.955 879.213 Q119.955 886.319 121.76 889.884 Q123.589 893.425 127.2 893.425 Q130.834 893.425 132.64 889.884 Q134.468 886.319 134.468 879.213 Q134.468 872.083 132.64 868.541 Q130.834 864.976 127.2 864.976 M127.2 861.273 Q133.01 861.273 136.066 865.879 Q139.144 870.463 139.144 879.213 Q139.144 887.939 136.066 892.546 Q133.01 897.129 127.2 897.129 Q121.39 897.129 118.311 892.546 Q115.256 887.939 115.256 879.213 Q115.256 870.463 118.311 865.879 Q121.39 861.273 127.2 861.273 Z\" fill=\"#000000\" fill-rule=\"evenodd\" fill-opacity=\"1\" /><path clip-path=\"url(#clip390)\" d=\"M147.362 890.578 L152.246 890.578 L152.246 896.458 L147.362 896.458 L147.362 890.578 Z\" fill=\"#000000\" fill-rule=\"evenodd\" fill-opacity=\"1\" /><path clip-path=\"url(#clip390)\" d=\"M162.477 861.898 L180.834 861.898 L180.834 865.833 L166.76 865.833 L166.76 874.305 Q167.778 873.958 168.797 873.796 Q169.815 873.611 170.834 873.611 Q176.621 873.611 180.001 876.782 Q183.38 879.953 183.38 885.37 Q183.38 890.949 179.908 894.05 Q176.436 897.129 170.116 897.129 Q167.94 897.129 165.672 896.759 Q163.427 896.388 161.019 895.648 L161.019 890.949 Q163.102 892.083 165.325 892.638 Q167.547 893.194 170.024 893.194 Q174.028 893.194 176.366 891.087 Q178.704 888.981 178.704 885.37 Q178.704 881.759 176.366 879.652 Q174.028 877.546 170.024 877.546 Q168.149 877.546 166.274 877.963 Q164.422 878.379 162.477 879.259 L162.477 861.898 Z\" fill=\"#000000\" fill-rule=\"evenodd\" fill-opacity=\"1\" /><path clip-path=\"url(#clip390)\" d=\"M192.639 861.898 L210.996 861.898 L210.996 865.833 L196.922 865.833 L196.922 874.305 Q197.94 873.958 198.959 873.796 Q199.977 873.611 200.996 873.611 Q206.783 873.611 210.162 876.782 Q213.542 879.953 213.542 885.37 Q213.542 890.949 210.07 894.05 Q206.598 897.129 200.278 897.129 Q198.102 897.129 195.834 896.759 Q193.588 896.388 191.181 895.648 L191.181 890.949 Q193.264 892.083 195.487 892.638 Q197.709 893.194 200.186 893.194 Q204.19 893.194 206.528 891.087 Q208.866 888.981 208.866 885.37 Q208.866 881.759 206.528 879.652 Q204.19 877.546 200.186 877.546 Q198.311 877.546 196.436 877.963 Q194.584 878.379 192.639 879.259 L192.639 861.898 Z\" fill=\"#000000\" fill-rule=\"evenodd\" fill-opacity=\"1\" /><path clip-path=\"url(#clip390)\" d=\"M126.205 576.616 Q122.593 576.616 120.765 580.18 Q118.959 583.722 118.959 590.852 Q118.959 597.958 120.765 601.523 Q122.593 605.065 126.205 605.065 Q129.839 605.065 131.644 601.523 Q133.473 597.958 133.473 590.852 Q133.473 583.722 131.644 580.18 Q129.839 576.616 126.205 576.616 M126.205 572.912 Q132.015 572.912 135.07 577.518 Q138.149 582.102 138.149 590.852 Q138.149 599.579 135.07 604.185 Q132.015 608.768 126.205 608.768 Q120.394 608.768 117.316 604.185 Q114.26 599.579 114.26 590.852 Q114.26 582.102 117.316 577.518 Q120.394 572.912 126.205 572.912 Z\" fill=\"#000000\" fill-rule=\"evenodd\" fill-opacity=\"1\" /><path clip-path=\"url(#clip390)\" d=\"M146.366 602.217 L151.251 602.217 L151.251 608.097 L146.366 608.097 L146.366 602.217 Z\" fill=\"#000000\" fill-rule=\"evenodd\" fill-opacity=\"1\" /><path clip-path=\"url(#clip390)\" d=\"M172.014 588.954 Q168.866 588.954 167.015 591.106 Q165.186 593.259 165.186 597.009 Q165.186 600.736 167.015 602.912 Q168.866 605.065 172.014 605.065 Q175.163 605.065 176.991 602.912 Q178.843 600.736 178.843 597.009 Q178.843 593.259 176.991 591.106 Q175.163 588.954 172.014 588.954 M181.297 574.301 L181.297 578.56 Q179.538 577.727 177.732 577.287 Q175.95 576.847 174.19 576.847 Q169.561 576.847 167.107 579.972 Q164.677 583.097 164.329 589.417 Q165.695 587.403 167.755 586.338 Q169.815 585.25 172.292 585.25 Q177.501 585.25 180.51 588.421 Q183.542 591.569 183.542 597.009 Q183.542 602.333 180.394 605.551 Q177.246 608.768 172.014 608.768 Q166.019 608.768 162.848 604.185 Q159.677 599.579 159.677 590.852 Q159.677 582.657 163.565 577.796 Q167.454 572.912 174.005 572.912 Q175.764 572.912 177.547 573.259 Q179.352 573.606 181.297 574.301 Z\" fill=\"#000000\" fill-rule=\"evenodd\" fill-opacity=\"1\" /><path clip-path=\"url(#clip390)\" d=\"M201.598 576.616 Q197.987 576.616 196.158 580.18 Q194.352 583.722 194.352 590.852 Q194.352 597.958 196.158 601.523 Q197.987 605.065 201.598 605.065 Q205.232 605.065 207.037 601.523 Q208.866 597.958 208.866 590.852 Q208.866 583.722 207.037 580.18 Q205.232 576.616 201.598 576.616 M201.598 572.912 Q207.408 572.912 210.463 577.518 Q213.542 582.102 213.542 590.852 Q213.542 599.579 210.463 604.185 Q207.408 608.768 201.598 608.768 Q195.787 608.768 192.709 604.185 Q189.653 599.579 189.653 590.852 Q189.653 582.102 192.709 577.518 Q195.787 572.912 201.598 572.912 Z\" fill=\"#000000\" fill-rule=\"evenodd\" fill-opacity=\"1\" /><path clip-path=\"url(#clip390)\" d=\"M127.2 288.255 Q123.589 288.255 121.76 291.82 Q119.955 295.361 119.955 302.491 Q119.955 309.597 121.76 313.162 Q123.589 316.704 127.2 316.704 Q130.834 316.704 132.64 313.162 Q134.468 309.597 134.468 302.491 Q134.468 295.361 132.64 291.82 Q130.834 288.255 127.2 288.255 M127.2 284.551 Q133.01 284.551 136.066 289.158 Q139.144 293.741 139.144 302.491 Q139.144 311.218 136.066 315.824 Q133.01 320.408 127.2 320.408 Q121.39 320.408 118.311 315.824 Q115.256 311.218 115.256 302.491 Q115.256 293.741 118.311 289.158 Q121.39 284.551 127.2 284.551 Z\" fill=\"#000000\" fill-rule=\"evenodd\" fill-opacity=\"1\" /><path clip-path=\"url(#clip390)\" d=\"M147.362 313.857 L152.246 313.857 L152.246 319.736 L147.362 319.736 L147.362 313.857 Z\" fill=\"#000000\" fill-rule=\"evenodd\" fill-opacity=\"1\" /><path clip-path=\"url(#clip390)\" d=\"M173.01 300.593 Q169.862 300.593 168.01 302.746 Q166.181 304.898 166.181 308.648 Q166.181 312.375 168.01 314.551 Q169.862 316.704 173.01 316.704 Q176.158 316.704 177.987 314.551 Q179.839 312.375 179.839 308.648 Q179.839 304.898 177.987 302.746 Q176.158 300.593 173.01 300.593 M182.292 285.94 L182.292 290.199 Q180.533 289.366 178.727 288.926 Q176.945 288.486 175.186 288.486 Q170.556 288.486 168.102 291.611 Q165.672 294.736 165.325 301.056 Q166.69 299.042 168.751 297.977 Q170.811 296.889 173.288 296.889 Q178.496 296.889 181.505 300.06 Q184.538 303.209 184.538 308.648 Q184.538 313.972 181.389 317.19 Q178.241 320.408 173.01 320.408 Q167.015 320.408 163.843 315.824 Q160.672 311.218 160.672 302.491 Q160.672 294.297 164.561 289.435 Q168.45 284.551 175.001 284.551 Q176.76 284.551 178.542 284.898 Q180.348 285.246 182.292 285.94 Z\" fill=\"#000000\" fill-rule=\"evenodd\" fill-opacity=\"1\" /><path clip-path=\"url(#clip390)\" d=\"M192.639 285.176 L210.996 285.176 L210.996 289.111 L196.922 289.111 L196.922 297.584 Q197.94 297.236 198.959 297.074 Q199.977 296.889 200.996 296.889 Q206.783 296.889 210.162 300.06 Q213.542 303.232 213.542 308.648 Q213.542 314.227 210.07 317.329 Q206.598 320.408 200.278 320.408 Q198.102 320.408 195.834 320.037 Q193.588 319.667 191.181 318.926 L191.181 314.227 Q193.264 315.361 195.487 315.917 Q197.709 316.472 200.186 316.472 Q204.19 316.472 206.528 314.366 Q208.866 312.259 208.866 308.648 Q208.866 305.037 206.528 302.931 Q204.19 300.824 200.186 300.824 Q198.311 300.824 196.436 301.241 Q194.584 301.658 192.639 302.537 L192.639 285.176 Z\" fill=\"#000000\" fill-rule=\"evenodd\" fill-opacity=\"1\" /><path clip-path=\"url(#clip390)\" d=\"M22.818 861.014 L46.4666 869.735 L46.4666 852.261 L22.818 861.014 M16.4842 864.643 L16.4842 857.354 L64.0042 839.244 L64.0042 845.928 L51.8138 850.256 L51.8138 871.677 L64.0042 876.005 L64.0042 882.785 L16.4842 864.643 Z\" fill=\"#000000\" fill-rule=\"evenodd\" fill-opacity=\"1\" /><path clip-path=\"url(#clip390)\" d=\"M29.7248 808.052 L35.1993 808.052 Q33.8307 810.534 33.1623 813.049 Q32.4621 815.531 32.4621 818.078 Q32.4621 823.775 36.0905 826.926 Q39.6872 830.077 46.212 830.077 Q52.7369 830.077 56.3653 826.926 Q59.9619 823.775 59.9619 818.078 Q59.9619 815.531 59.2935 813.049 Q58.5933 810.534 57.2247 808.052 L62.6355 808.052 Q63.7814 810.502 64.3543 813.144 Q64.9272 815.754 64.9272 818.714 Q64.9272 826.767 59.8664 831.509 Q54.8057 836.252 46.212 836.252 Q37.491 836.252 32.4939 831.477 Q27.4968 826.671 27.4968 818.332 Q27.4968 815.627 28.0697 813.049 Q28.6108 810.471 29.7248 808.052 Z\" fill=\"#000000\" fill-rule=\"evenodd\" fill-opacity=\"1\" /><path clip-path=\"url(#clip390)\" d=\"M29.7248 772.213 L35.1993 772.213 Q33.8307 774.695 33.1623 777.21 Q32.4621 779.692 32.4621 782.239 Q32.4621 787.936 36.0905 791.087 Q39.6872 794.238 46.212 794.238 Q52.7369 794.238 56.3653 791.087 Q59.9619 787.936 59.9619 782.239 Q59.9619 779.692 59.2935 777.21 Q58.5933 774.695 57.2247 772.213 L62.6355 772.213 Q63.7814 774.663 64.3543 777.305 Q64.9272 779.915 64.9272 782.875 Q64.9272 790.928 59.8664 795.67 Q54.8057 800.413 46.212 800.413 Q37.491 800.413 32.4939 795.638 Q27.4968 790.832 27.4968 782.493 Q27.4968 779.788 28.0697 777.21 Q28.6108 774.632 29.7248 772.213 Z\" fill=\"#000000\" fill-rule=\"evenodd\" fill-opacity=\"1\" /><path clip-path=\"url(#clip390)\" d=\"M49.9359 762.632 L28.3562 762.632 L28.3562 756.776 L49.7131 756.776 Q54.7739 756.776 57.3202 754.802 Q59.8346 752.829 59.8346 748.882 Q59.8346 744.14 56.8109 741.403 Q53.7872 738.634 48.5673 738.634 L28.3562 738.634 L28.3562 732.777 L64.0042 732.777 L64.0042 738.634 L58.5296 738.634 Q61.7762 740.766 63.3676 743.599 Q64.9272 746.4 64.9272 750.124 Q64.9272 756.267 61.1078 759.449 Q57.2883 762.632 49.9359 762.632 M27.4968 747.896 L27.4968 747.896 Z\" fill=\"#000000\" fill-rule=\"evenodd\" fill-opacity=\"1\" /><path clip-path=\"url(#clip390)\" d=\"M33.8307 700.057 Q33.2578 701.044 33.0032 702.222 Q32.7167 703.368 32.7167 704.768 Q32.7167 709.733 35.9632 712.407 Q39.1779 715.049 45.2253 715.049 L64.0042 715.049 L64.0042 720.937 L28.3562 720.937 L28.3562 715.049 L33.8944 715.049 Q30.6479 713.203 29.0883 710.242 Q27.4968 707.282 27.4968 703.049 Q27.4968 702.444 27.5923 701.712 Q27.656 700.98 27.8151 700.089 L33.8307 700.057 Z\" fill=\"#000000\" fill-rule=\"evenodd\" fill-opacity=\"1\" /><path clip-path=\"url(#clip390)\" d=\"M46.0847 677.714 Q46.0847 684.811 47.7079 687.549 Q49.3312 690.286 53.2461 690.286 Q56.3653 690.286 58.2114 688.249 Q60.0256 686.18 60.0256 682.647 Q60.0256 677.777 56.5881 674.849 Q53.1188 671.889 47.3897 671.889 L46.0847 671.889 L46.0847 677.714 M43.6657 666.033 L64.0042 666.033 L64.0042 671.889 L58.5933 671.889 Q61.8398 673.894 63.3994 676.886 Q64.9272 679.878 64.9272 684.207 Q64.9272 689.681 61.8716 692.928 Q58.7843 696.142 53.6281 696.142 Q47.6125 696.142 44.5569 692.132 Q41.5014 688.09 41.5014 680.101 L41.5014 671.889 L40.9285 671.889 Q36.8862 671.889 34.6901 674.563 Q32.4621 677.204 32.4621 682.011 Q32.4621 685.066 33.1941 687.963 Q33.9262 690.859 35.3903 693.533 L29.9795 693.533 Q28.7381 690.318 28.1334 687.294 Q27.4968 684.27 27.4968 681.406 Q27.4968 673.671 31.5072 669.852 Q35.5176 666.033 43.6657 666.033 Z\" fill=\"#000000\" fill-rule=\"evenodd\" fill-opacity=\"1\" /><path clip-path=\"url(#clip390)\" d=\"M29.7248 628.316 L35.1993 628.316 Q33.8307 630.798 33.1623 633.313 Q32.4621 635.796 32.4621 638.342 Q32.4621 644.039 36.0905 647.19 Q39.6872 650.341 46.212 650.341 Q52.7369 650.341 56.3653 647.19 Q59.9619 644.039 59.9619 638.342 Q59.9619 635.796 59.2935 633.313 Q58.5933 630.798 57.2247 628.316 L62.6355 628.316 Q63.7814 630.767 64.3543 633.408 Q64.9272 636.018 64.9272 638.978 Q64.9272 647.031 59.8664 651.773 Q54.8057 656.516 46.212 656.516 Q37.491 656.516 32.4939 651.742 Q27.4968 646.936 27.4968 638.596 Q27.4968 635.891 28.0697 633.313 Q28.6108 630.735 29.7248 628.316 Z\" fill=\"#000000\" fill-rule=\"evenodd\" fill-opacity=\"1\" /><path clip-path=\"url(#clip390)\" d=\"M67.3143 603.299 Q73.68 605.781 75.6216 608.137 Q77.5631 610.492 77.5631 614.439 L77.5631 619.117 L72.6615 619.117 L72.6615 615.68 Q72.6615 613.261 71.5157 611.924 Q70.3699 610.587 66.1048 608.964 L63.4312 607.914 L28.3562 622.332 L28.3562 616.126 L56.238 604.986 L28.3562 593.846 L28.3562 587.639 L67.3143 603.299 Z\" fill=\"#000000\" fill-rule=\"evenodd\" fill-opacity=\"1\" /><polyline clip-path=\"url(#clip392)\" style=\"stroke:#009af9; stroke-linecap:butt; stroke-linejoin:round; stroke-width:4; stroke-opacity:1; fill:none\" points=\"\n",
       "  309.067,1384.24 377.486,1089.23 445.906,847.853 514.325,712.684 582.745,578.588 651.164,486.329 719.584,415.526 788.003,354.378 856.423,302.885 924.842,259.974 \n",
       "  993.261,240.665 1061.68,225.646 1130.1,202.045 1198.52,188.099 1266.94,178.444 1335.36,195.608 1403.78,178.444 1472.2,133.388 1540.62,144.115 1609.04,174.153 \n",
       "  1677.46,150.552 1745.88,139.824 1814.29,164.498 1882.71,146.261 1951.13,151.625 2019.55,151.625 2087.97,126.951 2156.39,114.078 2224.81,189.172 2293.23,101.205 \n",
       "  \n",
       "  \"/>\n",
       "<polyline clip-path=\"url(#clip392)\" style=\"stroke:#e26f46; stroke-linecap:butt; stroke-linejoin:round; stroke-width:4; stroke-opacity:1; fill:none\" points=\"\n",
       "  309.067,1250.14 377.486,934.747 445.906,784.559 514.325,626.862 582.745,484.184 651.164,416.599 719.584,341.505 788.003,311.468 856.423,206.336 924.842,243.883 \n",
       "  993.261,228.864 1061.68,161.28 1130.1,213.846 1198.52,183.808 1266.94,176.298 1335.36,153.77 1403.78,198.827 1472.2,168.789 1540.62,176.298 1609.04,206.336 \n",
       "  1677.46,221.355 1745.88,191.317 1814.29,221.355 1882.71,191.317 1951.13,131.242 2019.55,198.827 2087.97,131.242 2156.39,146.261 2224.81,153.77 2293.23,86.1857 \n",
       "  \n",
       "  \"/>\n",
       "<path clip-path=\"url(#clip390)\" d=\"\n",
       "M1556.9 248.629 L2282.65 248.629 L2282.65 93.1086 L1556.9 93.1086  Z\n",
       "  \" fill=\"#ffffff\" fill-rule=\"evenodd\" fill-opacity=\"1\"/>\n",
       "<polyline clip-path=\"url(#clip390)\" style=\"stroke:#000000; stroke-linecap:butt; stroke-linejoin:round; stroke-width:4; stroke-opacity:1; fill:none\" points=\"\n",
       "  1556.9,248.629 2282.65,248.629 2282.65,93.1086 1556.9,93.1086 1556.9,248.629 \n",
       "  \"/>\n",
       "<polyline clip-path=\"url(#clip390)\" style=\"stroke:#009af9; stroke-linecap:butt; stroke-linejoin:round; stroke-width:4; stroke-opacity:1; fill:none\" points=\"\n",
       "  1580.27,144.949 1720.48,144.949 \n",
       "  \"/>\n",
       "<path clip-path=\"url(#clip390)\" d=\"M1743.85 127.669 L1773.09 127.669 L1773.09 131.604 L1760.82 131.604 L1760.82 162.229 L1756.12 162.229 L1756.12 131.604 L1743.85 131.604 L1743.85 127.669 Z\" fill=\"#000000\" fill-rule=\"evenodd\" fill-opacity=\"1\" /><path clip-path=\"url(#clip390)\" d=\"M1785.47 140.284 Q1784.76 139.868 1783.9 139.682 Q1783.07 139.474 1782.05 139.474 Q1778.44 139.474 1776.49 141.835 Q1774.57 144.173 1774.57 148.571 L1774.57 162.229 L1770.29 162.229 L1770.29 136.303 L1774.57 136.303 L1774.57 140.331 Q1775.91 137.969 1778.07 136.835 Q1780.22 135.678 1783.3 135.678 Q1783.74 135.678 1784.27 135.747 Q1784.8 135.794 1785.45 135.909 L1785.47 140.284 Z\" fill=\"#000000\" fill-rule=\"evenodd\" fill-opacity=\"1\" /><path clip-path=\"url(#clip390)\" d=\"M1810.66 146.581 L1810.66 162.229 L1806.4 162.229 L1806.4 146.719 Q1806.4 143.039 1804.96 141.21 Q1803.53 139.382 1800.66 139.382 Q1797.21 139.382 1795.22 141.581 Q1793.23 143.78 1793.23 147.576 L1793.23 162.229 L1788.95 162.229 L1788.95 136.303 L1793.23 136.303 L1793.23 140.331 Q1794.76 137.993 1796.82 136.835 Q1798.9 135.678 1801.61 135.678 Q1806.08 135.678 1808.37 138.456 Q1810.66 141.21 1810.66 146.581 Z\" fill=\"#000000\" fill-rule=\"evenodd\" fill-opacity=\"1\" /><path clip-path=\"url(#clip390)\" d=\"M1819.76 156.349 L1824.64 156.349 L1824.64 162.229 L1819.76 162.229 L1819.76 156.349 Z\" fill=\"#000000\" fill-rule=\"evenodd\" fill-opacity=\"1\" /><path clip-path=\"url(#clip390)\" d=\"M1861.03 132.275 L1854.69 149.474 L1867.39 149.474 L1861.03 132.275 M1858.39 127.669 L1863.69 127.669 L1876.86 162.229 L1872 162.229 L1868.85 153.363 L1853.27 153.363 L1850.13 162.229 L1845.2 162.229 L1858.39 127.669 Z\" fill=\"#000000\" fill-rule=\"evenodd\" fill-opacity=\"1\" /><path clip-path=\"url(#clip390)\" d=\"M1899.55 137.298 L1899.55 141.28 Q1897.74 140.284 1895.91 139.798 Q1894.11 139.289 1892.26 139.289 Q1888.11 139.289 1885.82 141.928 Q1883.53 144.544 1883.53 149.289 Q1883.53 154.034 1885.82 156.673 Q1888.11 159.289 1892.26 159.289 Q1894.11 159.289 1895.91 158.803 Q1897.74 158.293 1899.55 157.298 L1899.55 161.233 Q1897.76 162.067 1895.84 162.483 Q1893.94 162.9 1891.79 162.9 Q1885.94 162.9 1882.49 159.219 Q1879.04 155.539 1879.04 149.289 Q1879.04 142.946 1882.51 139.312 Q1886.01 135.678 1892.07 135.678 Q1894.04 135.678 1895.91 136.095 Q1897.79 136.488 1899.55 137.298 Z\" fill=\"#000000\" fill-rule=\"evenodd\" fill-opacity=\"1\" /><path clip-path=\"url(#clip390)\" d=\"M1925.61 137.298 L1925.61 141.28 Q1923.81 140.284 1921.98 139.798 Q1920.17 139.289 1918.32 139.289 Q1914.18 139.289 1911.88 141.928 Q1909.59 144.544 1909.59 149.289 Q1909.59 154.034 1911.88 156.673 Q1914.18 159.289 1918.32 159.289 Q1920.17 159.289 1921.98 158.803 Q1923.81 158.293 1925.61 157.298 L1925.61 161.233 Q1923.83 162.067 1921.91 162.483 Q1920.01 162.9 1917.86 162.9 Q1912 162.9 1908.55 159.219 Q1905.1 155.539 1905.1 149.289 Q1905.1 142.946 1908.57 139.312 Q1912.07 135.678 1918.13 135.678 Q1920.1 135.678 1921.98 136.095 Q1923.85 136.488 1925.61 137.298 Z\" fill=\"#000000\" fill-rule=\"evenodd\" fill-opacity=\"1\" /><path clip-path=\"url(#clip390)\" d=\"M1933.62 156.349 L1938.5 156.349 L1938.5 162.229 L1933.62 162.229 L1933.62 156.349 Z\" fill=\"#000000\" fill-rule=\"evenodd\" fill-opacity=\"1\" /><path clip-path=\"url(#clip390)\" d=\"M1963.34 127.669 L1968.02 127.669 L1968.02 158.293 L1984.85 158.293 L1984.85 162.229 L1963.34 162.229 L1963.34 127.669 Z\" fill=\"#000000\" fill-rule=\"evenodd\" fill-opacity=\"1\" /><path clip-path=\"url(#clip390)\" d=\"M2001.35 149.196 Q1996.19 149.196 1994.2 150.377 Q1992.21 151.557 1992.21 154.405 Q1992.21 156.673 1993.69 158.016 Q1995.19 159.335 1997.76 159.335 Q2001.31 159.335 2003.44 156.835 Q2005.59 154.312 2005.59 150.145 L2005.59 149.196 L2001.35 149.196 M2009.85 147.437 L2009.85 162.229 L2005.59 162.229 L2005.59 158.293 Q2004.13 160.655 2001.95 161.789 Q1999.78 162.9 1996.63 162.9 Q1992.65 162.9 1990.29 160.678 Q1987.95 158.432 1987.95 154.682 Q1987.95 150.307 1990.87 148.085 Q1993.81 145.863 1999.62 145.863 L2005.59 145.863 L2005.59 145.446 Q2005.59 142.507 2003.64 140.909 Q2001.72 139.289 1998.23 139.289 Q1996 139.289 1993.9 139.821 Q1991.79 140.354 1989.85 141.419 L1989.85 137.483 Q1992.19 136.581 1994.38 136.141 Q1996.58 135.678 1998.67 135.678 Q2004.29 135.678 2007.07 138.594 Q2009.85 141.511 2009.85 147.437 Z\" fill=\"#000000\" fill-rule=\"evenodd\" fill-opacity=\"1\" /><path clip-path=\"url(#clip390)\" d=\"M2037.23 149.289 Q2037.23 144.59 2035.29 141.928 Q2033.37 139.243 2029.99 139.243 Q2026.61 139.243 2024.66 141.928 Q2022.74 144.59 2022.74 149.289 Q2022.74 153.988 2024.66 156.673 Q2026.61 159.335 2029.99 159.335 Q2033.37 159.335 2035.29 156.673 Q2037.23 153.988 2037.23 149.289 M2022.74 140.238 Q2024.08 137.923 2026.12 136.812 Q2028.18 135.678 2031.03 135.678 Q2035.75 135.678 2038.69 139.428 Q2041.65 143.178 2041.65 149.289 Q2041.65 155.4 2038.69 159.15 Q2035.75 162.9 2031.03 162.9 Q2028.18 162.9 2026.12 161.789 Q2024.08 160.655 2022.74 158.34 L2022.74 162.229 L2018.46 162.229 L2018.46 126.21 L2022.74 126.21 L2022.74 140.238 Z\" fill=\"#000000\" fill-rule=\"evenodd\" fill-opacity=\"1\" /><path clip-path=\"url(#clip390)\" d=\"M2070.89 148.201 L2070.89 150.284 L2051.31 150.284 Q2051.58 154.682 2053.94 156.997 Q2056.33 159.289 2060.56 159.289 Q2063.02 159.289 2065.31 158.687 Q2067.62 158.085 2069.89 156.881 L2069.89 160.909 Q2067.6 161.881 2065.19 162.391 Q2062.79 162.9 2060.31 162.9 Q2054.11 162.9 2050.47 159.289 Q2046.86 155.678 2046.86 149.52 Q2046.86 143.155 2050.29 139.428 Q2053.74 135.678 2059.57 135.678 Q2064.8 135.678 2067.83 139.057 Q2070.89 142.414 2070.89 148.201 M2066.63 146.951 Q2066.58 143.456 2064.66 141.372 Q2062.76 139.289 2059.62 139.289 Q2056.05 139.289 2053.9 141.303 Q2051.77 143.317 2051.44 146.974 L2066.63 146.951 Z\" fill=\"#000000\" fill-rule=\"evenodd\" fill-opacity=\"1\" /><path clip-path=\"url(#clip390)\" d=\"M2077.88 126.21 L2082.14 126.21 L2082.14 162.229 L2077.88 162.229 L2077.88 126.21 Z\" fill=\"#000000\" fill-rule=\"evenodd\" fill-opacity=\"1\" /><path clip-path=\"url(#clip390)\" d=\"M2091.24 127.669 L2098.2 127.669 L2107.02 151.187 L2115.89 127.669 L2122.86 127.669 L2122.86 162.229 L2118.3 162.229 L2118.3 131.882 L2109.38 155.585 L2104.68 155.585 L2095.77 131.882 L2095.77 162.229 L2091.24 162.229 L2091.24 127.669 Z\" fill=\"#000000\" fill-rule=\"evenodd\" fill-opacity=\"1\" /><path clip-path=\"url(#clip390)\" d=\"M2154.13 148.201 L2154.13 150.284 L2134.55 150.284 Q2134.82 154.682 2137.18 156.997 Q2139.57 159.289 2143.8 159.289 Q2146.26 159.289 2148.55 158.687 Q2150.86 158.085 2153.13 156.881 L2153.13 160.909 Q2150.84 161.881 2148.43 162.391 Q2146.03 162.9 2143.55 162.9 Q2137.35 162.9 2133.71 159.289 Q2130.1 155.678 2130.1 149.52 Q2130.1 143.155 2133.53 139.428 Q2136.98 135.678 2142.81 135.678 Q2148.04 135.678 2151.07 139.057 Q2154.13 142.414 2154.13 148.201 M2149.87 146.951 Q2149.82 143.456 2147.9 141.372 Q2146 139.289 2142.86 139.289 Q2139.29 139.289 2137.14 141.303 Q2135.01 143.317 2134.68 146.974 L2149.87 146.951 Z\" fill=\"#000000\" fill-rule=\"evenodd\" fill-opacity=\"1\" /><path clip-path=\"url(#clip390)\" d=\"M2199.94 157.298 L2199.94 148.016 L2192.3 148.016 L2192.3 144.173 L2204.57 144.173 L2204.57 159.011 Q2201.86 160.932 2198.6 161.928 Q2195.33 162.9 2191.63 162.9 Q2183.53 162.9 2178.94 158.178 Q2174.38 153.432 2174.38 144.983 Q2174.38 136.511 2178.94 131.789 Q2183.53 127.044 2191.63 127.044 Q2195.01 127.044 2198.04 127.877 Q2201.1 128.71 2203.67 130.331 L2203.67 135.307 Q2201.07 133.108 2198.16 131.997 Q2195.24 130.886 2192.02 130.886 Q2185.68 130.886 2182.49 134.428 Q2179.31 137.969 2179.31 144.983 Q2179.31 151.974 2182.49 155.516 Q2185.68 159.057 2192.02 159.057 Q2194.5 159.057 2196.44 158.641 Q2198.39 158.201 2199.94 157.298 Z\" fill=\"#000000\" fill-rule=\"evenodd\" fill-opacity=\"1\" /><path clip-path=\"url(#clip390)\" d=\"M2233.83 128.803 L2233.83 133.363 Q2231.17 132.09 2228.8 131.465 Q2226.44 130.84 2224.24 130.84 Q2220.42 130.84 2218.34 132.321 Q2216.28 133.803 2216.28 136.534 Q2216.28 138.826 2217.65 140.007 Q2219.04 141.164 2222.88 141.882 L2225.7 142.46 Q2230.93 143.456 2233.41 145.979 Q2235.91 148.479 2235.91 152.692 Q2235.91 157.715 2232.53 160.307 Q2229.17 162.9 2222.67 162.9 Q2220.22 162.9 2217.44 162.344 Q2214.68 161.789 2211.72 160.701 L2211.72 155.886 Q2214.57 157.483 2217.3 158.293 Q2220.03 159.104 2222.67 159.104 Q2226.67 159.104 2228.85 157.53 Q2231.03 155.956 2231.03 153.039 Q2231.03 150.493 2229.45 149.057 Q2227.9 147.622 2224.34 146.905 L2221.49 146.349 Q2216.26 145.307 2213.92 143.085 Q2211.58 140.863 2211.58 136.905 Q2211.58 132.321 2214.8 129.682 Q2218.04 127.044 2223.71 127.044 Q2226.14 127.044 2228.67 127.483 Q2231.19 127.923 2233.83 128.803 Z\" fill=\"#000000\" fill-rule=\"evenodd\" fill-opacity=\"1\" /><polyline clip-path=\"url(#clip390)\" style=\"stroke:#e26f46; stroke-linecap:butt; stroke-linejoin:round; stroke-width:4; stroke-opacity:1; fill:none\" points=\"\n",
       "  1580.27,196.789 1720.48,196.789 \n",
       "  \"/>\n",
       "<path clip-path=\"url(#clip390)\" d=\"M1757.05 214.069 L1743.85 179.509 L1748.74 179.509 L1759.69 208.606 L1770.66 179.509 L1775.52 179.509 L1762.35 214.069 L1757.05 214.069 Z\" fill=\"#000000\" fill-rule=\"evenodd\" fill-opacity=\"1\" /><path clip-path=\"url(#clip390)\" d=\"M1788.48 201.036 Q1783.32 201.036 1781.33 202.217 Q1779.34 203.397 1779.34 206.245 Q1779.34 208.513 1780.82 209.856 Q1782.33 211.175 1784.89 211.175 Q1788.44 211.175 1790.57 208.675 Q1792.72 206.152 1792.72 201.985 L1792.72 201.036 L1788.48 201.036 M1796.98 199.277 L1796.98 214.069 L1792.72 214.069 L1792.72 210.133 Q1791.26 212.495 1789.08 213.629 Q1786.91 214.74 1783.76 214.74 Q1779.78 214.74 1777.42 212.518 Q1775.08 210.272 1775.08 206.522 Q1775.08 202.147 1778 199.925 Q1780.94 197.703 1786.75 197.703 L1792.72 197.703 L1792.72 197.286 Q1792.72 194.347 1790.77 192.749 Q1788.85 191.129 1785.36 191.129 Q1783.14 191.129 1781.03 191.661 Q1778.92 192.194 1776.98 193.259 L1776.98 189.323 Q1779.32 188.421 1781.51 187.981 Q1783.71 187.518 1785.8 187.518 Q1791.42 187.518 1794.2 190.434 Q1796.98 193.351 1796.98 199.277 Z\" fill=\"#000000\" fill-rule=\"evenodd\" fill-opacity=\"1\" /><path clip-path=\"url(#clip390)\" d=\"M1805.75 178.05 L1810.01 178.05 L1810.01 214.069 L1805.75 214.069 L1805.75 178.05 Z\" fill=\"#000000\" fill-rule=\"evenodd\" fill-opacity=\"1\" /><path clip-path=\"url(#clip390)\" d=\"M1819.52 208.189 L1824.41 208.189 L1824.41 214.069 L1819.52 214.069 L1819.52 208.189 Z\" fill=\"#000000\" fill-rule=\"evenodd\" fill-opacity=\"1\" /><path clip-path=\"url(#clip390)\" d=\"M1860.8 184.115 L1854.45 201.314 L1867.16 201.314 L1860.8 184.115 M1858.16 179.509 L1863.46 179.509 L1876.63 214.069 L1871.77 214.069 L1868.62 205.203 L1853.04 205.203 L1849.89 214.069 L1844.96 214.069 L1858.16 179.509 Z\" fill=\"#000000\" fill-rule=\"evenodd\" fill-opacity=\"1\" /><path clip-path=\"url(#clip390)\" d=\"M1899.32 189.138 L1899.32 193.12 Q1897.51 192.124 1895.68 191.638 Q1893.88 191.129 1892.02 191.129 Q1887.88 191.129 1885.59 193.768 Q1883.3 196.384 1883.3 201.129 Q1883.3 205.874 1885.59 208.513 Q1887.88 211.129 1892.02 211.129 Q1893.88 211.129 1895.68 210.643 Q1897.51 210.133 1899.32 209.138 L1899.32 213.073 Q1897.53 213.907 1895.61 214.323 Q1893.71 214.74 1891.56 214.74 Q1885.7 214.74 1882.26 211.059 Q1878.81 207.379 1878.81 201.129 Q1878.81 194.786 1882.28 191.152 Q1885.77 187.518 1891.84 187.518 Q1893.81 187.518 1895.68 187.935 Q1897.56 188.328 1899.32 189.138 Z\" fill=\"#000000\" fill-rule=\"evenodd\" fill-opacity=\"1\" /><path clip-path=\"url(#clip390)\" d=\"M1925.38 189.138 L1925.38 193.12 Q1923.57 192.124 1921.75 191.638 Q1919.94 191.129 1918.09 191.129 Q1913.94 191.129 1911.65 193.768 Q1909.36 196.384 1909.36 201.129 Q1909.36 205.874 1911.65 208.513 Q1913.94 211.129 1918.09 211.129 Q1919.94 211.129 1921.75 210.643 Q1923.57 210.133 1925.38 209.138 L1925.38 213.073 Q1923.6 213.907 1921.68 214.323 Q1919.78 214.74 1917.63 214.74 Q1911.77 214.74 1908.32 211.059 Q1904.87 207.379 1904.87 201.129 Q1904.87 194.786 1908.34 191.152 Q1911.84 187.518 1917.9 187.518 Q1919.87 187.518 1921.75 187.935 Q1923.62 188.328 1925.38 189.138 Z\" fill=\"#000000\" fill-rule=\"evenodd\" fill-opacity=\"1\" /><path clip-path=\"url(#clip390)\" d=\"M1933.39 208.189 L1938.27 208.189 L1938.27 214.069 L1933.39 214.069 L1933.39 208.189 Z\" fill=\"#000000\" fill-rule=\"evenodd\" fill-opacity=\"1\" /><path clip-path=\"url(#clip390)\" d=\"M1963.11 179.509 L1967.79 179.509 L1967.79 210.133 L1984.62 210.133 L1984.62 214.069 L1963.11 214.069 L1963.11 179.509 Z\" fill=\"#000000\" fill-rule=\"evenodd\" fill-opacity=\"1\" /><path clip-path=\"url(#clip390)\" d=\"M2001.12 201.036 Q1995.96 201.036 1993.97 202.217 Q1991.98 203.397 1991.98 206.245 Q1991.98 208.513 1993.46 209.856 Q1994.96 211.175 1997.53 211.175 Q2001.07 211.175 2003.2 208.675 Q2005.36 206.152 2005.36 201.985 L2005.36 201.036 L2001.12 201.036 M2009.62 199.277 L2009.62 214.069 L2005.36 214.069 L2005.36 210.133 Q2003.9 212.495 2001.72 213.629 Q1999.55 214.74 1996.4 214.74 Q1992.42 214.74 1990.06 212.518 Q1987.72 210.272 1987.72 206.522 Q1987.72 202.147 1990.63 199.925 Q1993.57 197.703 1999.38 197.703 L2005.36 197.703 L2005.36 197.286 Q2005.36 194.347 2003.41 192.749 Q2001.49 191.129 1998 191.129 Q1995.77 191.129 1993.67 191.661 Q1991.56 192.194 1989.62 193.259 L1989.62 189.323 Q1991.95 188.421 1994.15 187.981 Q1996.35 187.518 1998.44 187.518 Q2004.06 187.518 2006.84 190.434 Q2009.62 193.351 2009.62 199.277 Z\" fill=\"#000000\" fill-rule=\"evenodd\" fill-opacity=\"1\" /><path clip-path=\"url(#clip390)\" d=\"M2037 201.129 Q2037 196.43 2035.06 193.768 Q2033.13 191.083 2029.75 191.083 Q2026.37 191.083 2024.43 193.768 Q2022.51 196.43 2022.51 201.129 Q2022.51 205.828 2024.43 208.513 Q2026.37 211.175 2029.75 211.175 Q2033.13 211.175 2035.06 208.513 Q2037 205.828 2037 201.129 M2022.51 192.078 Q2023.85 189.763 2025.89 188.652 Q2027.95 187.518 2030.8 187.518 Q2035.52 187.518 2038.46 191.268 Q2041.42 195.018 2041.42 201.129 Q2041.42 207.24 2038.46 210.99 Q2035.52 214.74 2030.8 214.74 Q2027.95 214.74 2025.89 213.629 Q2023.85 212.495 2022.51 210.18 L2022.51 214.069 L2018.23 214.069 L2018.23 178.05 L2022.51 178.05 L2022.51 192.078 Z\" fill=\"#000000\" fill-rule=\"evenodd\" fill-opacity=\"1\" /><path clip-path=\"url(#clip390)\" d=\"M2070.66 200.041 L2070.66 202.124 L2051.07 202.124 Q2051.35 206.522 2053.71 208.837 Q2056.1 211.129 2060.33 211.129 Q2062.79 211.129 2065.08 210.527 Q2067.39 209.925 2069.66 208.721 L2069.66 212.749 Q2067.37 213.721 2064.96 214.231 Q2062.56 214.74 2060.08 214.74 Q2053.87 214.74 2050.24 211.129 Q2046.63 207.518 2046.63 201.36 Q2046.63 194.995 2050.06 191.268 Q2053.5 187.518 2059.34 187.518 Q2064.57 187.518 2067.6 190.897 Q2070.66 194.254 2070.66 200.041 M2066.4 198.791 Q2066.35 195.296 2064.43 193.212 Q2062.53 191.129 2059.38 191.129 Q2055.82 191.129 2053.67 193.143 Q2051.54 195.157 2051.21 198.814 L2066.4 198.791 Z\" fill=\"#000000\" fill-rule=\"evenodd\" fill-opacity=\"1\" /><path clip-path=\"url(#clip390)\" d=\"M2077.65 178.05 L2081.91 178.05 L2081.91 214.069 L2077.65 214.069 L2077.65 178.05 Z\" fill=\"#000000\" fill-rule=\"evenodd\" fill-opacity=\"1\" /><path clip-path=\"url(#clip390)\" d=\"M2091 179.509 L2097.97 179.509 L2106.79 203.027 L2115.66 179.509 L2122.62 179.509 L2122.62 214.069 L2118.06 214.069 L2118.06 183.722 L2109.15 207.425 L2104.45 207.425 L2095.54 183.722 L2095.54 214.069 L2091 214.069 L2091 179.509 Z\" fill=\"#000000\" fill-rule=\"evenodd\" fill-opacity=\"1\" /><path clip-path=\"url(#clip390)\" d=\"M2153.9 200.041 L2153.9 202.124 L2134.31 202.124 Q2134.59 206.522 2136.95 208.837 Q2139.34 211.129 2143.57 211.129 Q2146.03 211.129 2148.32 210.527 Q2150.63 209.925 2152.9 208.721 L2152.9 212.749 Q2150.61 213.721 2148.2 214.231 Q2145.8 214.74 2143.32 214.74 Q2137.11 214.74 2133.48 211.129 Q2129.87 207.518 2129.87 201.36 Q2129.87 194.995 2133.3 191.268 Q2136.74 187.518 2142.58 187.518 Q2147.81 187.518 2150.84 190.897 Q2153.9 194.254 2153.9 200.041 M2149.64 198.791 Q2149.59 195.296 2147.67 193.212 Q2145.77 191.129 2142.62 191.129 Q2139.06 191.129 2136.91 193.143 Q2134.78 195.157 2134.45 198.814 L2149.64 198.791 Z\" fill=\"#000000\" fill-rule=\"evenodd\" fill-opacity=\"1\" /><path clip-path=\"url(#clip390)\" d=\"M2199.71 209.138 L2199.71 199.856 L2192.07 199.856 L2192.07 196.013 L2204.34 196.013 L2204.34 210.851 Q2201.63 212.772 2198.36 213.768 Q2195.1 214.74 2191.4 214.74 Q2183.3 214.74 2178.71 210.018 Q2174.15 205.272 2174.15 196.823 Q2174.15 188.351 2178.71 183.629 Q2183.3 178.884 2191.4 178.884 Q2194.78 178.884 2197.81 179.717 Q2200.86 180.55 2203.43 182.171 L2203.43 187.147 Q2200.84 184.948 2197.92 183.837 Q2195.01 182.726 2191.79 182.726 Q2185.45 182.726 2182.25 186.268 Q2179.08 189.809 2179.08 196.823 Q2179.08 203.814 2182.25 207.356 Q2185.45 210.897 2191.79 210.897 Q2194.27 210.897 2196.21 210.481 Q2198.16 210.041 2199.71 209.138 Z\" fill=\"#000000\" fill-rule=\"evenodd\" fill-opacity=\"1\" /><path clip-path=\"url(#clip390)\" d=\"M2233.6 180.643 L2233.6 185.203 Q2230.93 183.93 2228.57 183.305 Q2226.21 182.68 2224.01 182.68 Q2220.19 182.68 2218.11 184.161 Q2216.05 185.643 2216.05 188.374 Q2216.05 190.666 2217.42 191.847 Q2218.8 193.004 2222.65 193.722 L2225.47 194.3 Q2230.7 195.296 2233.18 197.819 Q2235.68 200.319 2235.68 204.532 Q2235.68 209.555 2232.3 212.147 Q2228.94 214.74 2222.44 214.74 Q2219.98 214.74 2217.21 214.184 Q2214.45 213.629 2211.49 212.541 L2211.49 207.726 Q2214.34 209.323 2217.07 210.133 Q2219.8 210.944 2222.44 210.944 Q2226.44 210.944 2228.62 209.37 Q2230.79 207.796 2230.79 204.879 Q2230.79 202.333 2229.22 200.897 Q2227.67 199.462 2224.11 198.745 L2221.26 198.189 Q2216.03 197.147 2213.69 194.925 Q2211.35 192.703 2211.35 188.745 Q2211.35 184.161 2214.57 181.522 Q2217.81 178.884 2223.48 178.884 Q2225.91 178.884 2228.43 179.323 Q2230.96 179.763 2233.6 180.643 Z\" fill=\"#000000\" fill-rule=\"evenodd\" fill-opacity=\"1\" /></svg>\n"
      ]
     },
     "execution_count": 41,
     "metadata": {},
     "output_type": "execute_result"
    }
   ],
   "source": [
    "results = load(\"/Users/ufukaltun/Documents/koç/dersler/ku deep learning/project/results_gs_target_LabelMe.jld2\")[\"results\"];\n",
    "results = reshape(collect(Float32,flatten(results)),(4,:));\n",
    "plot([results[3,:], results[4,:]],\n",
    "    labels=[\"Trn. Acc. LabelMe GS\" \"Val. Acc. LabelMe GS\" ],xlabel=\"Iterations/20\",ylabel=\"Accuracy\")"
   ]
  },
  {
   "cell_type": "code",
   "execution_count": null,
   "id": "aabd3e51",
   "metadata": {},
   "outputs": [],
   "source": []
  }
 ],
 "metadata": {
  "kernelspec": {
   "display_name": "Julia 1.6.4",
   "language": "julia",
   "name": "julia-1.6"
  },
  "language_info": {
   "file_extension": ".jl",
   "mimetype": "application/julia",
   "name": "julia",
   "version": "1.6.4"
  }
 },
 "nbformat": 4,
 "nbformat_minor": 5
}
