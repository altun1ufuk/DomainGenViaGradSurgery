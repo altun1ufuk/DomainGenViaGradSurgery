{
  "nbformat": 4,
  "nbformat_minor": 0,
  "metadata": {
    "colab": {
      "name": "Julia_Colab_Notebook_Template.ipynb",
      "provenance": [],
      "collapsed_sections": []
    },
    "kernelspec": {
      "display_name": "Julia",
      "language": "julia",
      "name": "julia"
    },
    "language_info": {
      "file_extension": ".jl",
      "mimetype": "application/julia",
      "name": "julia"
    }
  },
  "cells": [
    {
      "cell_type": "markdown",
      "metadata": {
        "id": "tQ1r1bbb0yBv"
      },
      "source": [
        "Ufuk Altun"
      ]
    },
    {
      "cell_type": "code",
      "metadata": {
        "id": "GIeFXS0F0zww",
        "colab": {
          "base_uri": "https://localhost:8080/"
        },
        "outputId": "aee6fced-18a4-4fde-fe89-94984391db8b"
      },
      "source": [
        "%%shell\n",
        "set -e\n",
        "\n",
        "#---------------------------------------------------#\n",
        "JULIA_VERSION=\"1.6.3\" # any version ≥ 0.7.0\n",
        "JULIA_PACKAGES=\"IJulia BenchmarkTools Plots\"\n",
        "JULIA_PACKAGES_IF_GPU=\"CUDA\" # or CuArrays for older Julia versions\n",
        "JULIA_NUM_THREADS=2\n",
        "#---------------------------------------------------#\n",
        "\n",
        "if [ -n \"$COLAB_GPU\" ] && [ -z `which julia` ]; then\n",
        "  # Install Julia\n",
        "  JULIA_VER=`cut -d '.' -f -2 <<< \"$JULIA_VERSION\"`\n",
        "  echo \"Installing Julia $JULIA_VERSION on the current Colab Runtime...\"\n",
        "  BASE_URL=\"https://julialang-s3.julialang.org/bin/linux/x64\"\n",
        "  URL=\"$BASE_URL/$JULIA_VER/julia-$JULIA_VERSION-linux-x86_64.tar.gz\"\n",
        "  wget -nv $URL -O /tmp/julia.tar.gz # -nv means \"not verbose\"\n",
        "  tar -x -f /tmp/julia.tar.gz -C /usr/local --strip-components 1\n",
        "  rm /tmp/julia.tar.gz\n",
        "\n",
        "  # Install Packages\n",
        "  if [ \"$COLAB_GPU\" = \"1\" ]; then\n",
        "      JULIA_PACKAGES=\"$JULIA_PACKAGES $JULIA_PACKAGES_IF_GPU\"\n",
        "  fi\n",
        "  for PKG in `echo $JULIA_PACKAGES`; do\n",
        "    echo \"Installing Julia package $PKG...\"\n",
        "    julia -e 'using Pkg; pkg\"add '$PKG'; precompile;\"' &> /dev/null\n",
        "  done\n",
        "\n",
        "  # Install kernel and rename it to \"julia\"\n",
        "  echo \"Installing IJulia kernel...\"\n",
        "  julia -e 'using IJulia; IJulia.installkernel(\"julia\", env=Dict(\n",
        "      \"JULIA_NUM_THREADS\"=>\"'\"$JULIA_NUM_THREADS\"'\"))'\n",
        "  KERNEL_DIR=`julia -e \"using IJulia; print(IJulia.kerneldir())\"`\n",
        "  KERNEL_NAME=`ls -d \"$KERNEL_DIR\"/julia*`\n",
        "  mv -f $KERNEL_NAME \"$KERNEL_DIR\"/julia  \n",
        "\n",
        "  echo ''\n",
        "  echo \"Success! Please reload this page and jump to the next section.\"\n",
        "fi"
      ],
      "execution_count": null,
      "outputs": [
        {
          "output_type": "stream",
          "name": "stdout",
          "text": [
            "yInstalling Julia 1.6.3 on the current Colab Runtime...\n",
            "2021-11-07 09:52:17 URL:https://storage.googleapis.com/julialang2/bin/linux/x64/1.6/julia-1.6.3-linux-x86_64.tar.gz [113399344/113399344] -> \"/tmp/julia.tar.gz\" [1]\n",
            "Installing Julia package IJulia...\n",
            "Installing Julia package BenchmarkTools...\n",
            "Installing Julia package Plots...\n",
            "Installing Julia package CUDA...\n",
            "Installing IJulia kernel...\n",
            "\u001b[36m\u001b[1m[ \u001b[22m\u001b[39m\u001b[36m\u001b[1mInfo: \u001b[22m\u001b[39mInstalling julia kernelspec in /root/.local/share/jupyter/kernels/julia-1.6\n",
            "\n",
            "Success! Please reload this page and jump to the next section.\n"
          ]
        },
        {
          "output_type": "execute_result",
          "data": {
            "text/plain": [
              ""
            ]
          },
          "metadata": {},
          "execution_count": 5
        }
      ]
    },
    {
      "cell_type": "markdown",
      "metadata": {
        "id": "-OS3Ac017T1i"
      },
      "source": [
        "# Checking the Installation\n",
        "The `versioninfo()` function should print your Julia version and some other info about the system:"
      ]
    },
    {
      "cell_type": "code",
      "metadata": {
        "id": "EEzvvzCl1i0F"
      },
      "source": [
        "versioninfo()"
      ],
      "execution_count": null,
      "outputs": []
    },
    {
      "cell_type": "markdown",
      "metadata": {
        "id": "OFDz6svZyv0j"
      },
      "source": [
        "Install Knet"
      ]
    },
    {
      "cell_type": "code",
      "metadata": {
        "colab": {
          "base_uri": "https://localhost:8080/"
        },
        "id": "cg1Ls-SnyxZc",
        "outputId": "7bca22d0-8fd9-4302-c603-08c5dc2b9a2d"
      },
      "source": [
        "using Pkg; \n",
        "pkg\"add Knet IterTools MLDatasets\"\n",
        "Pkg.add(\"FileIO\")\n",
        "Pkg.add(\"Images\")"
      ],
      "execution_count": 45,
      "outputs": [
        {
          "output_type": "stream",
          "name": "stderr",
          "text": [
            "\u001b[32m\u001b[1m   Resolving\u001b[22m\u001b[39m package versions...\n",
            "\u001b[32m\u001b[1m   Installed\u001b[22m\u001b[39m PkgVersion ──────────────── v0.1.1\n",
            "\u001b[32m\u001b[1m   Installed\u001b[22m\u001b[39m WoodburyMatrices ────────── v0.5.5\n",
            "\u001b[32m\u001b[1m   Installed\u001b[22m\u001b[39m OpenEXR ─────────────────── v0.3.2\n",
            "\u001b[32m\u001b[1m   Installed\u001b[22m\u001b[39m ImageAxes ───────────────── v0.6.9\n",
            "\u001b[32m\u001b[1m   Installed\u001b[22m\u001b[39m ProgressMeter ───────────── v1.7.1\n",
            "\u001b[32m\u001b[1m   Installed\u001b[22m\u001b[39m ComputationalResources ──── v0.3.2\n",
            "\u001b[32m\u001b[1m   Installed\u001b[22m\u001b[39m ImageMorphology ─────────── v0.2.11\n",
            "\u001b[32m\u001b[1m   Installed\u001b[22m\u001b[39m Images ──────────────────── v0.24.1\n",
            "\u001b[32m\u001b[1m   Installed\u001b[22m\u001b[39m UnPack ──────────────────── v1.0.2\n",
            "\u001b[32m\u001b[1m   Installed\u001b[22m\u001b[39m IndirectArrays ──────────── v0.5.1\n",
            "\u001b[32m\u001b[1m   Installed\u001b[22m\u001b[39m IfElse ──────────────────── v0.1.1\n",
            "\u001b[32m\u001b[1m   Installed\u001b[22m\u001b[39m MKL_jll ─────────────────── v2021.1.1+2\n",
            "\u001b[32m\u001b[1m   Installed\u001b[22m\u001b[39m Netpbm ──────────────────── v1.0.1\n",
            "\u001b[32m\u001b[1m   Installed\u001b[22m\u001b[39m Parameters ──────────────── v0.12.3\n",
            "\u001b[32m\u001b[1m   Installed\u001b[22m\u001b[39m Inflate ─────────────────── v0.1.2\n",
            "\u001b[32m\u001b[1m   Installed\u001b[22m\u001b[39m Distances ───────────────── v0.10.6\n",
            "\u001b[32m\u001b[1m   Installed\u001b[22m\u001b[39m SimpleTraits ────────────── v0.9.4\n",
            "\u001b[32m\u001b[1m   Installed\u001b[22m\u001b[39m AxisArrays ──────────────── v0.4.4\n",
            "\u001b[32m\u001b[1m   Installed\u001b[22m\u001b[39m Ratios ──────────────────── v0.4.2\n",
            "\u001b[32m\u001b[1m   Installed\u001b[22m\u001b[39m FFTW ────────────────────── v1.4.5\n",
            "\u001b[32m\u001b[1m   Installed\u001b[22m\u001b[39m ImageQualityIndexes ─────── v0.2.2\n",
            "\u001b[32m\u001b[1m   Installed\u001b[22m\u001b[39m RangeArrays ─────────────── v0.3.2\n",
            "\u001b[32m\u001b[1m   Installed\u001b[22m\u001b[39m IntervalSets ────────────── v0.5.3\n",
            "\u001b[32m\u001b[1m   Installed\u001b[22m\u001b[39m FFTW_jll ────────────────── v3.3.10+0\n",
            "\u001b[32m\u001b[1m   Installed\u001b[22m\u001b[39m Imath_jll ───────────────── v3.1.2+0\n",
            "\u001b[32m\u001b[1m   Installed\u001b[22m\u001b[39m IntelOpenMP_jll ─────────── v2018.0.3+2\n",
            "\u001b[32m\u001b[1m   Installed\u001b[22m\u001b[39m Rotations ───────────────── v1.0.4\n",
            "\u001b[32m\u001b[1m   Installed\u001b[22m\u001b[39m ImageCore ───────────────── v0.8.22\n",
            "\u001b[32m\u001b[1m   Installed\u001b[22m\u001b[39m FFTViews ────────────────── v0.3.2\n",
            "\u001b[32m\u001b[1m   Installed\u001b[22m\u001b[39m CustomUnitRanges ────────── v1.0.2\n",
            "\u001b[32m\u001b[1m   Installed\u001b[22m\u001b[39m EllipsisNotation ────────── v1.1.1\n",
            "\u001b[32m\u001b[1m   Installed\u001b[22m\u001b[39m ImageMetadata ───────────── v0.9.5\n",
            "\u001b[32m\u001b[1m   Installed\u001b[22m\u001b[39m CatIndices ──────────────── v0.2.2\n",
            "\u001b[32m\u001b[1m   Installed\u001b[22m\u001b[39m TiledIteration ──────────── v0.3.1\n",
            "\u001b[32m\u001b[1m   Installed\u001b[22m\u001b[39m CoordinateTransformations ─ v0.6.2\n",
            "\u001b[32m\u001b[1m   Installed\u001b[22m\u001b[39m Interpolations ──────────── v0.13.4\n",
            "\u001b[32m\u001b[1m   Installed\u001b[22m\u001b[39m IdentityRanges ──────────── v0.3.1\n",
            "\u001b[32m\u001b[1m   Installed\u001b[22m\u001b[39m OpenEXR_jll ─────────────── v3.1.1+0\n",
            "\u001b[32m\u001b[1m   Installed\u001b[22m\u001b[39m ImageDistances ──────────── v0.2.13\n",
            "\u001b[32m\u001b[1m   Installed\u001b[22m\u001b[39m ImageIO ─────────────────── v0.5.9\n",
            "\u001b[32m\u001b[1m   Installed\u001b[22m\u001b[39m AxisAlgorithms ──────────── v1.0.1\n",
            "\u001b[32m\u001b[1m   Installed\u001b[22m\u001b[39m Static ──────────────────── v0.4.0\n",
            "\u001b[32m\u001b[1m   Installed\u001b[22m\u001b[39m ImageTransformations ────── v0.8.13\n",
            "\u001b[32m\u001b[1m   Installed\u001b[22m\u001b[39m ImageFiltering ──────────── v0.6.21\n",
            "\u001b[32m\u001b[1m   Installed\u001b[22m\u001b[39m ImageShow ───────────────── v0.3.1\n",
            "\u001b[32m\u001b[1m   Installed\u001b[22m\u001b[39m ArrayInterface ──────────── v3.1.40\n",
            "\u001b[32m\u001b[1m   Installed\u001b[22m\u001b[39m PNGFiles ────────────────── v0.3.12\n",
            "\u001b[32m\u001b[1m   Installed\u001b[22m\u001b[39m TiffImages ──────────────── v0.5.2\n",
            "\u001b[32m\u001b[1m   Installed\u001b[22m\u001b[39m ImageContrastAdjustment ─── v0.3.7\n",
            "\u001b[32m\u001b[1m    Updating\u001b[22m\u001b[39m `~/.julia/environments/v1.6/Project.toml`\n",
            " \u001b[90m [916415d5] \u001b[39m\u001b[92m+ Images v0.24.1\u001b[39m\n",
            "\u001b[32m\u001b[1m    Updating\u001b[22m\u001b[39m `~/.julia/environments/v1.6/Manifest.toml`\n",
            " \u001b[90m [4fba245c] \u001b[39m\u001b[92m+ ArrayInterface v3.1.40\u001b[39m\n",
            " \u001b[90m [13072b0f] \u001b[39m\u001b[92m+ AxisAlgorithms v1.0.1\u001b[39m\n",
            " \u001b[90m [39de3d68] \u001b[39m\u001b[92m+ AxisArrays v0.4.4\u001b[39m\n",
            " \u001b[90m [aafaddc9] \u001b[39m\u001b[92m+ CatIndices v0.2.2\u001b[39m\n",
            " \u001b[90m [ed09eef8] \u001b[39m\u001b[92m+ ComputationalResources v0.3.2\u001b[39m\n",
            " \u001b[90m [150eb455] \u001b[39m\u001b[92m+ CoordinateTransformations v0.6.2\u001b[39m\n",
            " \u001b[90m [dc8bdbbb] \u001b[39m\u001b[92m+ CustomUnitRanges v1.0.2\u001b[39m\n",
            " \u001b[90m [b4f34e82] \u001b[39m\u001b[92m+ Distances v0.10.6\u001b[39m\n",
            " \u001b[90m [da5c29d0] \u001b[39m\u001b[92m+ EllipsisNotation v1.1.1\u001b[39m\n",
            " \u001b[90m [4f61f5a4] \u001b[39m\u001b[92m+ FFTViews v0.3.2\u001b[39m\n",
            " \u001b[90m [7a1cc6ca] \u001b[39m\u001b[92m+ FFTW v1.4.5\u001b[39m\n",
            " \u001b[90m [bbac6d45] \u001b[39m\u001b[92m+ IdentityRanges v0.3.1\u001b[39m\n",
            " \u001b[90m [615f187c] \u001b[39m\u001b[92m+ IfElse v0.1.1\u001b[39m\n",
            " \u001b[90m [2803e5a7] \u001b[39m\u001b[92m+ ImageAxes v0.6.9\u001b[39m\n",
            " \u001b[90m [f332f351] \u001b[39m\u001b[92m+ ImageContrastAdjustment v0.3.7\u001b[39m\n",
            " \u001b[90m [a09fc81d] \u001b[39m\u001b[95m↓ ImageCore v0.9.3 ⇒ v0.8.22\u001b[39m\n",
            " \u001b[90m [51556ac3] \u001b[39m\u001b[92m+ ImageDistances v0.2.13\u001b[39m\n",
            " \u001b[90m [6a3955dd] \u001b[39m\u001b[92m+ ImageFiltering v0.6.21\u001b[39m\n",
            " \u001b[90m [82e4d734] \u001b[39m\u001b[92m+ ImageIO v0.5.9\u001b[39m\n",
            " \u001b[90m [bc367c6b] \u001b[39m\u001b[92m+ ImageMetadata v0.9.5\u001b[39m\n",
            " \u001b[90m [787d08f9] \u001b[39m\u001b[92m+ ImageMorphology v0.2.11\u001b[39m\n",
            " \u001b[90m [2996bd0c] \u001b[39m\u001b[92m+ ImageQualityIndexes v0.2.2\u001b[39m\n",
            " \u001b[90m [4e3cecfd] \u001b[39m\u001b[92m+ ImageShow v0.3.1\u001b[39m\n",
            " \u001b[90m [02fcd773] \u001b[39m\u001b[92m+ ImageTransformations v0.8.13\u001b[39m\n",
            " \u001b[90m [916415d5] \u001b[39m\u001b[92m+ Images v0.24.1\u001b[39m\n",
            " \u001b[90m [9b13fd28] \u001b[39m\u001b[92m+ IndirectArrays v0.5.1\u001b[39m\n",
            " \u001b[90m [d25df0c9] \u001b[39m\u001b[92m+ Inflate v0.1.2\u001b[39m\n",
            " \u001b[90m [a98d9a8b] \u001b[39m\u001b[92m+ Interpolations v0.13.4\u001b[39m\n",
            " \u001b[90m [8197267c] \u001b[39m\u001b[92m+ IntervalSets v0.5.3\u001b[39m\n",
            " \u001b[90m [f09324ee] \u001b[39m\u001b[92m+ Netpbm v1.0.1\u001b[39m\n",
            " \u001b[90m [52e1d378] \u001b[39m\u001b[92m+ OpenEXR v0.3.2\u001b[39m\n",
            " \u001b[90m [f57f5aa1] \u001b[39m\u001b[92m+ PNGFiles v0.3.12\u001b[39m\n",
            " \u001b[90m [d96e819e] \u001b[39m\u001b[92m+ Parameters v0.12.3\u001b[39m\n",
            " \u001b[90m [eebad327] \u001b[39m\u001b[92m+ PkgVersion v0.1.1\u001b[39m\n",
            " \u001b[90m [92933f4c] \u001b[39m\u001b[92m+ ProgressMeter v1.7.1\u001b[39m\n",
            " \u001b[90m [b3c3ace0] \u001b[39m\u001b[92m+ RangeArrays v0.3.2\u001b[39m\n",
            " \u001b[90m [c84ed2f1] \u001b[39m\u001b[92m+ Ratios v0.4.2\u001b[39m\n",
            " \u001b[90m [6038ab10] \u001b[39m\u001b[92m+ Rotations v1.0.4\u001b[39m\n",
            " \u001b[90m [699a6c99] \u001b[39m\u001b[92m+ SimpleTraits v0.9.4\u001b[39m\n",
            " \u001b[90m [aedffcd0] \u001b[39m\u001b[92m+ Static v0.4.0\u001b[39m\n",
            " \u001b[90m [731e570b] \u001b[39m\u001b[92m+ TiffImages v0.5.2\u001b[39m\n",
            " \u001b[90m [06e1c1a7] \u001b[39m\u001b[92m+ TiledIteration v0.3.1\u001b[39m\n",
            " \u001b[90m [3a884ed6] \u001b[39m\u001b[92m+ UnPack v1.0.2\u001b[39m\n",
            " \u001b[90m [efce3f68] \u001b[39m\u001b[92m+ WoodburyMatrices v0.5.5\u001b[39m\n",
            " \u001b[90m [f5851436] \u001b[39m\u001b[92m+ FFTW_jll v3.3.10+0\u001b[39m\n",
            " \u001b[90m [905a6f67] \u001b[39m\u001b[92m+ Imath_jll v3.1.2+0\u001b[39m\n",
            " \u001b[90m [1d5cc7b8] \u001b[39m\u001b[92m+ IntelOpenMP_jll v2018.0.3+2\u001b[39m\n",
            " \u001b[90m [856f044c] \u001b[39m\u001b[92m+ MKL_jll v2021.1.1+2\u001b[39m\n",
            " \u001b[90m [18a262bb] \u001b[39m\u001b[92m+ OpenEXR_jll v3.1.1+0\u001b[39m\n",
            "\u001b[32m\u001b[1mPrecompiling\u001b[22m\u001b[39m project...\n",
            "\u001b[32m  ✓ \u001b[39m\u001b[90mRangeArrays\u001b[39m\n",
            "\u001b[32m  ✓ \u001b[39m\u001b[90mUnPack\u001b[39m\n",
            "\u001b[32m  ✓ \u001b[39m\u001b[90mCustomUnitRanges\u001b[39m\n",
            "\u001b[32m  ✓ \u001b[39m\u001b[90mIfElse\u001b[39m\n",
            "\u001b[32m  ✓ \u001b[39m\u001b[90mComputationalResources\u001b[39m\n",
            "\u001b[32m  ✓ \u001b[39m\u001b[90mDistances\u001b[39m\n",
            "\u001b[32m  ✓ \u001b[39m\u001b[90mPkgVersion\u001b[39m\n",
            "\u001b[32m  ✓ \u001b[39m\u001b[90mProgressMeter\u001b[39m\n",
            "\u001b[32m  ✓ \u001b[39m\u001b[90mImath_jll\u001b[39m\n",
            "\u001b[32m  ✓ \u001b[39m\u001b[90mWoodburyMatrices\u001b[39m\n",
            "\u001b[32m  ✓ \u001b[39m\u001b[90mIndirectArrays\u001b[39m\n",
            "\u001b[32m  ✓ \u001b[39m\u001b[90mInflate\u001b[39m\n",
            "\u001b[32m  ✓ \u001b[39m\u001b[90mRatios\u001b[39m\n",
            "\u001b[32m  ✓ \u001b[39m\u001b[90mIntelOpenMP_jll\u001b[39m\n",
            "\u001b[32m  ✓ \u001b[39m\u001b[90mFFTW_jll\u001b[39m\n",
            "\u001b[32m  ✓ \u001b[39m\u001b[90mSimpleTraits\u001b[39m\n",
            "\u001b[32m  ✓ \u001b[39m\u001b[90mIdentityRanges\u001b[39m\n",
            "\u001b[32m  ✓ \u001b[39m\u001b[90mTiledIteration\u001b[39m\n",
            "\u001b[32m  ✓ \u001b[39m\u001b[90mCoordinateTransformations\u001b[39m\n",
            "\u001b[32m  ✓ \u001b[39m\u001b[90mParameters\u001b[39m\n",
            "\u001b[32m  ✓ \u001b[39m\u001b[90mCatIndices\u001b[39m\n",
            "\u001b[32m  ✓ \u001b[39m\u001b[90mRotations\u001b[39m\n",
            "\u001b[32m  ✓ \u001b[39m\u001b[90mStatic\u001b[39m\n",
            "\u001b[32m  ✓ \u001b[39m\u001b[90mAxisAlgorithms\u001b[39m\n",
            "\u001b[32m  ✓ \u001b[39m\u001b[90mOpenEXR_jll\u001b[39m\n",
            "\u001b[32m  ✓ \u001b[39m\u001b[90mMKL_jll\u001b[39m\n",
            "\u001b[32m  ✓ \u001b[39m\u001b[90mArrayInterface\u001b[39m\n",
            "\u001b[32m  ✓ \u001b[39m\u001b[90mImageCore\u001b[39m\n",
            "\u001b[32m  ✓ \u001b[39m\u001b[90mOpenEXR\u001b[39m\n",
            "\u001b[32m  ✓ \u001b[39m\u001b[90mInterpolations\u001b[39m\n",
            "\u001b[32m  ✓ \u001b[39m\u001b[90mEllipsisNotation\u001b[39m\n",
            "\u001b[32m  ✓ \u001b[39m\u001b[90mImageMorphology\u001b[39m\n",
            "\u001b[32m  ✓ \u001b[39m\u001b[90mImageMagick\u001b[39m\n",
            "\u001b[32m  ✓ \u001b[39m\u001b[90mFFTW\u001b[39m\n",
            "\u001b[32m  ✓ \u001b[39m\u001b[90mImageShow\u001b[39m\n",
            "\u001b[32m  ✓ \u001b[39m\u001b[90mNetpbm\u001b[39m\n",
            "\u001b[32m  ✓ \u001b[39m\u001b[90mPNGFiles\u001b[39m\n",
            "\u001b[32m  ✓ \u001b[39m\u001b[90mTiffImages\u001b[39m\n",
            "\u001b[32m  ✓ \u001b[39m\u001b[90mIntervalSets\u001b[39m\n",
            "\u001b[32m  ✓ \u001b[39m\u001b[90mImageTransformations\u001b[39m\n",
            "\u001b[32m  ✓ \u001b[39m\u001b[90mFFTViews\u001b[39m\n",
            "\u001b[32m  ✓ \u001b[39m\u001b[90mImageIO\u001b[39m\n",
            "\u001b[32m  ✓ \u001b[39m\u001b[90mAxisArrays\u001b[39m\n",
            "\u001b[32m  ✓ \u001b[39m\u001b[90mImageDistances\u001b[39m\n",
            "\u001b[32m  ✓ \u001b[39m\u001b[90mImageContrastAdjustment\u001b[39m\n",
            "\u001b[32m  ✓ \u001b[39m\u001b[90mImageAxes\u001b[39m\n",
            "\u001b[32m  ✓ \u001b[39m\u001b[90mImageMetadata\u001b[39m\n",
            "\u001b[33m  ✓ \u001b[39mKnet\n",
            "\u001b[32m  ✓ \u001b[39m\u001b[90mImageFiltering\u001b[39m\n",
            "\u001b[32m  ✓ \u001b[39m\u001b[90mImageQualityIndexes\u001b[39m\n",
            "\u001b[32m  ✓ \u001b[39mImages\n",
            "  51 dependencies successfully precompiled in 123 seconds (173 already precompiled, 3 skipped during auto due to previous errors)\n",
            "  \u001b[33m1\u001b[39m dependency precompiled but a different version is currently loaded. Restart julia to access the new version\n"
          ]
        }
      ]
    },
    {
      "cell_type": "markdown",
      "metadata": {
        "id": "HSW2_kdMyxgK"
      },
      "source": [
        ""
      ]
    },
    {
      "cell_type": "code",
      "metadata": {
        "id": "UcMLZbtQ0uyE",
        "outputId": "a7ad016f-8435-489b-d1b1-12b7df5ab436",
        "colab": {
          "base_uri": "https://localhost:8080/"
        }
      },
      "source": [
        "run(`gdown --id 1skwblH1_okBwxWxmRsp9_qi15hyPpxg8`)"
      ],
      "execution_count": 10,
      "outputs": [
        {
          "output_type": "stream",
          "name": "stderr",
          "text": [
            "Downloading...\n",
            "From: https://drive.google.com/uc?id=1skwblH1_okBwxWxmRsp9_qi15hyPpxg8\n",
            "To: /content/VLCS.tar.gz\n",
            "100%|#####################################| 3.84G/3.84G [00:58<00:00, 66.0MB/s]\n"
          ]
        },
        {
          "output_type": "execute_result",
          "data": {
            "text/plain": [
              "Process(`\u001b[4mgdown\u001b[24m \u001b[4m--id\u001b[24m \u001b[4m1skwblH1_okBwxWxmRsp9_qi15hyPpxg8\u001b[24m`, ProcessExited(0))"
            ]
          },
          "metadata": {},
          "execution_count": 10
        }
      ]
    },
    {
      "cell_type": "code",
      "metadata": {
        "id": "jAk25la371_f",
        "outputId": "1ed365aa-37a6-4932-89f8-9f87835535d3",
        "colab": {
          "base_uri": "https://localhost:8080/"
        }
      },
      "source": [
        "#mkdir(\"/content/VLCS_data\")\n",
        "run(`tar xzf /content/VLCS.tar.gz`)"
      ],
      "execution_count": 22,
      "outputs": [
        {
          "output_type": "execute_result",
          "data": {
            "text/plain": [
              "Process(`\u001b[4mtar\u001b[24m \u001b[4mxzf\u001b[24m \u001b[4m/content/VLCS.tar.gz\u001b[24m`, ProcessExited(0))"
            ]
          },
          "metadata": {},
          "execution_count": 22
        }
      ]
    },
    {
      "cell_type": "code",
      "metadata": {
        "id": "Z-yHmg8N-ayo"
      },
      "source": [
        "# Setup display width, load packages, import symbols\n",
        "ENV[\"COLUMNS\"]=72\n",
        "using Base.Iterators: flatten\n",
        "using IterTools: ncycle, takenth\n",
        "using Statistics: mean\n",
        "using MLDatasets: MNIST\n",
        "using FileIO: load, save\n",
        "using CUDA: CUDA, CuArray # functional\n",
        "using Knet: Knet, conv4, pool, mat, nll, accuracy, progress, sgd, param, param0, dropout, relu, minibatch, Data"
      ],
      "execution_count": 30,
      "outputs": []
    },
    {
      "cell_type": "markdown",
      "metadata": {
        "id": "JaxPrnm40u-N"
      },
      "source": [
        ""
      ]
    },
    {
      "cell_type": "code",
      "metadata": {
        "colab": {
          "base_uri": "https://localhost:8080/"
        },
        "id": "9j0aUcAQywAv",
        "outputId": "a2b9c35d-96ed-4032-ef12-0a06ab0d376f"
      },
      "source": [
        "# Install packages before first run: using Pkg; pkg\"add Knet IterTools MLDatasets\"\n",
        "#using Knet, IterTools, MLDatasets\n",
        "\n",
        "using Images\n",
        "\n",
        "function read_data(data_path,image_size,ssize)\n",
        "i=1\n",
        "first_r=true\n",
        "y=[]\n",
        "x=0\n",
        "folders=readdir(data_path)\n",
        "for class in folders\n",
        "    println(\"Class number \",i,\" \",class)\n",
        "    directory=string(data_path,\"/\",class)\n",
        "    counter = 0\n",
        "    for img in readdir(directory)\n",
        "        arr_img=load(string(directory,\"/\",img))\n",
        "        #print(size(arr_img))\n",
        "        if size(arr_img) != image_size\n",
        "          arr_img = imresize(arr_img, image_size);\n",
        "        end\n",
        "        arr_img=channelview(arr_img)\n",
        "        arr_img = permutedims(arr_img, (2, 3, 1))\n",
        "        #arr_img=image_data(arr_img,image_size)\n",
        "\n",
        "        label=zeros(size(folders))\n",
        "        label[i]=1\n",
        "        if first_r==false\n",
        "            x=cat(x,arr_img,dims=4)\n",
        "        else\n",
        "            x=cat(arr_img,dims=4)\n",
        "        end\n",
        "        push!(y,i)\n",
        "        first_r=false\n",
        "        counter = counter + 1;\n",
        "        if counter == ssize\n",
        "            break\n",
        "        end\n",
        "    end\n",
        "    i+=1\n",
        "    end\n",
        "println(size(y))\n",
        "println(size(x))\n",
        "return x,y;\n",
        "end\n",
        "\n",
        "# Load MNIST data\n",
        "#xtrn,ytrn = MNIST.traindata(Float32); ytrn[ytrn.==0] .= 10\n",
        "#xtst,ytst = MNIST.testdata(Float32);  ytst[ytst.==0] .= 10\n",
        "#dtrn = minibatch(xtrn, ytrn, 100; xsize = (28,28,1,:))\n",
        "#dtst = minibatch(xtst, ytst, 100; xsize = (28,28,1,:));\n",
        "\n",
        "xtrn,ytrn=read_data(\"VLCS/SUN09\",(227,227), 40); #load images\n",
        "xtst,ytst=read_data(\"VLCS/SUN09\",(227,227), 10); #load images\n",
        "dtrn = minibatch(xtrn, ytrn, 100; xsize = (227,227,3,:))\n",
        "dtst = minibatch(xtst, ytst, 100; xsize = (227,227,3,:));\n",
        "\n",
        "# For running experiments\n",
        "function trainresults(file,model; o...)\n",
        "    if (print(\"Train from scratch? \"); readline()[1]=='y')\n",
        "        r = ((model(dtrn), model(dtst), 1-accuracy(model,dtrn), 1-accuracy(model,dtst))\n",
        "             for x in takenth(progress(sgd(model,ncycle(dtrn,100))),length(dtrn)))\n",
        "        r = reshape(collect(Float32,flatten(r)),(4,:))\n",
        "        save(file,\"results\",r)\n",
        "        GC.gc(true) # To save gpu memory\n",
        "    else\n",
        "        isfile(file) || download(\"https://github.com/denizyuret/Knet.jl/releases/download/v1.4.9/$file\",file)\n",
        "        r = load(file,\"results\")\n",
        "    end\n",
        "    println(minimum(r,dims=2))\n",
        "    return r\n",
        "end\n",
        "\n",
        "# Define a convolutional layer:\n",
        "#struct Conv; w; b; f; p; end\n",
        "#(c::Conv)(x) = c.f.(pool(conv4(c.w, dropout(x,c.p)) .+ c.b))\n",
        "#Conv(w1::Int,w2::Int,cx::Int,cy::Int,f=relu;pdrop=0) = Conv(param(w1,w2,cx,cy), param0(1,1,cy,1), f, pdrop)\n",
        "\n",
        "# Define convolutional layer:\n",
        "struct Conv; w; b; end\n",
        "Conv(w1,w2,nx,ny) = Conv(param(w1,w2,nx,ny), param0(1,1,ny,1))\n",
        "(c::Conv)(x) = relu.(pool(conv4(c.w, x) .+ c.b))\n",
        "\n",
        "# Redefine dense layer (See mlp.ipynb):\n",
        "#struct Dense; w; b; f; p; end\n",
        "#(d::Dense)(x) = d.f.(d.w * mat(dropout(x,d.p)) .+ d.b) # mat reshapes 4-D tensor to 2-D matrix so we can use matmul\n",
        "#Dense(i::Int,o::Int,f=relu;pdrop=0) = Dense(param(o,i), param0(o), f, pdrop)\n",
        "\n",
        "# Define dense layer:\n",
        "struct Dense; w; b; f; end\n",
        "Dense(i,o; f=identity) = Dense(param(o,i), param0(o), f)\n",
        "(d::Dense)(x) = d.f.(d.w * mat(x) .+ d.b)\n",
        "\n",
        "\n",
        "# Let's define a chain of layers\n",
        "struct Chain\n",
        "    layers\n",
        "    Chain(layers...) = new(layers)\n",
        "end\n",
        "(c::Chain)(x) = (for l in c.layers; x = l(x); end; x)\n",
        "(c::Chain)(x,y) = nll(c(x),y)\n",
        "(c::Chain)(d::Data) = mean(c(x,y) for (x,y) in d)\n",
        "\n",
        "# Define a chain of layers and a loss function:\n",
        "#struct Chain; layers; end\n",
        "#(c::Chain)(x) = (for l in c.layers; x = l(x); end; x)\n",
        "#(c::Chain)(x,y) = nll(c(x),y)\n",
        "\n",
        "\n",
        "#lenet =   Chain(Conv(5,5,1,20), \n",
        "#                Conv(5,5,20,50), \n",
        "#                Dense(800,500,pdrop=0.3), \n",
        "#                Dense(500,10,identity,pdrop=0.3))\n",
        "#summary.(l.w for l in lenet.layers)\n",
        "\n",
        "# Define and train LeNet (~10 secs on a GPU or ~3 mins on a CPU to reach ~99% accuracy)\n",
        "#progress!(adam(LeNet, ncycle(dtrn,3)))\n",
        "#accuracy(LeNet,data=dtst)\n",
        "\n",
        "\n"
      ],
      "execution_count": 75,
      "outputs": [
        {
          "output_type": "stream",
          "name": "stdout",
          "text": [
            "Class number 1 bird\n",
            "Class number 2 car\n",
            "Class number 3 chair\n",
            "Class number 4 dog\n",
            "Class number 5 person\n",
            "(170,)\n",
            "(227, 227, 3, 170)\n",
            "Class number 1 bird\n",
            "Class number 2 car\n",
            "Class number 3 chair\n",
            "Class number 4 dog\n",
            "Class number 5 person\n",
            "(50,)\n",
            "(227, 227, 3, 50)\n"
          ]
        }
      ]
    },
    {
      "cell_type": "code",
      "metadata": {
        "id": "jHljfO6nW9mj",
        "outputId": "39417950-0914-46bf-a022-976aed290157",
        "colab": {
          "base_uri": "https://localhost:8080/",
          "height": 1000
        }
      },
      "source": [
        "LeNet = Chain((Conv(3,3,3,20), Conv(3,3,20,50), Dense(80,50,f=relu), Dense(500,5)))\n",
        "AlexNET = trainresults(\"cnn113.jld2\", LeNet);"
      ],
      "execution_count": 77,
      "outputs": [
        {
          "output_type": "stream",
          "name": "stdout",
          "text": [
            "Train from scratch? stdin> y\n",
            "\n",
            "Stacktrace:\n",
            "  [1] \u001b[0m\u001b[1mconv4\u001b[22m\u001b[0m\u001b[1m(\u001b[22m\u001b[90mw\u001b[39m::\u001b[0mKnetArray\u001b[90m{Float32, 4}\u001b[39m, \u001b[90mx\u001b[39m::\u001b[0mArray\u001b[90m{N0f8, 4}\u001b[39m; \u001b[90mpadding\u001b[39m::\u001b[0mInt64, \u001b[90mstride\u001b[39m::\u001b[0mInt64, \u001b[90mdilation\u001b[39m::\u001b[0mInt64, \u001b[90mmode\u001b[39m::\u001b[0mInt64, \u001b[90malpha\u001b[39m::\u001b[0mInt64, \u001b[90mgroup\u001b[39m::\u001b[0mInt64\u001b[0m\u001b[1m)\u001b[22m\n",
            "\u001b[90m    @ \u001b[39m\u001b[35mKnet.Ops20\u001b[39m \u001b[90m~/.julia/packages/Knet/RCkV0/src/ops20/\u001b[39m\u001b[90;4mconv.jl:39\u001b[0m\n",
            "  [2] \u001b[0m\u001b[1mconv4\u001b[22m\u001b[0m\u001b[1m(\u001b[22m\u001b[90mw\u001b[39m::\u001b[0mKnetArray\u001b[90m{Float32, 4}\u001b[39m, \u001b[90mx\u001b[39m::\u001b[0mArray\u001b[90m{N0f8, 4}\u001b[39m\u001b[0m\u001b[1m)\u001b[22m\n",
            "\u001b[90m    @ \u001b[39m\u001b[35mKnet.Ops20\u001b[39m \u001b[90m~/.julia/packages/Knet/RCkV0/src/ops20/\u001b[39m\u001b[90;4mconv.jl:34\u001b[0m\n",
            "  [3] \u001b[0m\u001b[1mforw\u001b[22m\u001b[0m\u001b[1m(\u001b[22m::\u001b[0mFunction, ::\u001b[0mParam\u001b[90m{KnetArray{Float32, 4}}\u001b[39m, ::\u001b[0mVararg\u001b[90m{Any, N} where N\u001b[39m; \u001b[90mkwargs\u001b[39m::\u001b[0mBase.Iterators.Pairs\u001b[90m{Union{}, Union{}, Tuple{}, NamedTuple{(), Tuple{}}}\u001b[39m\u001b[0m\u001b[1m)\u001b[22m\n",
            "\u001b[90m    @ \u001b[39m\u001b[36mAutoGrad\u001b[39m \u001b[90m~/.julia/packages/AutoGrad/TTpeo/src/\u001b[39m\u001b[90;4mcore.jl:66\u001b[0m\n",
            "  [4] \u001b[0m\u001b[1mforw\u001b[22m\n",
            "\u001b[90m    @ \u001b[39m\u001b[90m~/.julia/packages/AutoGrad/TTpeo/src/\u001b[39m\u001b[90;4mcore.jl:65\u001b[0m\u001b[90m [inlined]\u001b[39m\n",
            "  [5] \u001b[0m\u001b[1m#conv4#28\u001b[22m\n",
            "\u001b[90m    @ \u001b[39m\u001b[90m./\u001b[39m\u001b[90;4mnone:0\u001b[0m\u001b[90m [inlined]\u001b[39m\n",
            "  [6] \u001b[0m\u001b[1mconv4\u001b[22m\u001b[0m\u001b[1m(\u001b[22m\u001b[90mw\u001b[39m::\u001b[0mParam\u001b[90m{KnetArray{Float32, 4}}\u001b[39m, \u001b[90mx\u001b[39m::\u001b[0mArray\u001b[90m{N0f8, 4}\u001b[39m\u001b[0m\u001b[1m)\u001b[22m\n",
            "\u001b[90m    @ \u001b[39m\u001b[35mKnet.Ops20\u001b[39m \u001b[90m./\u001b[39m\u001b[90;4mnone:0\u001b[0m\n",
            "  [7] \u001b[0m\u001b[1m(::Conv)\u001b[22m\u001b[0m\u001b[1m(\u001b[22m\u001b[90mx\u001b[39m::\u001b[0mArray\u001b[90m{N0f8, 4}\u001b[39m\u001b[0m\u001b[1m)\u001b[22m\n",
            "\u001b[90m    @ \u001b[39m\u001b[32mMain\u001b[39m \u001b[90m./\u001b[39m\u001b[90;4mIn[75]:82\u001b[0m\n",
            "  [8] \u001b[0m\u001b[1m(::Chain)\u001b[22m\u001b[0m\u001b[1m(\u001b[22m\u001b[90mx\u001b[39m::\u001b[0mArray\u001b[90m{N0f8, 4}\u001b[39m\u001b[0m\u001b[1m)\u001b[22m\n",
            "\u001b[90m    @ \u001b[39m\u001b[32mMain\u001b[39m \u001b[90m./\u001b[39m\u001b[90;4mIn[75]:100\u001b[0m\n",
            "  [9] \u001b[0m\u001b[1m(::Chain)\u001b[22m\u001b[0m\u001b[1m(\u001b[22m\u001b[90mx\u001b[39m::\u001b[0mArray\u001b[90m{N0f8, 4}\u001b[39m, \u001b[90my\u001b[39m::\u001b[0mVector\u001b[90m{Any}\u001b[39m\u001b[0m\u001b[1m)\u001b[22m\n",
            "\u001b[90m    @ \u001b[39m\u001b[32mMain\u001b[39m \u001b[90m./\u001b[39m\u001b[90;4mIn[75]:101\u001b[0m\n",
            " [10] \u001b[0m\u001b[1m(::Knet.Train20.var\"#27#28\"{Knet.Train20.Minimize{IterTools.NCycle{Data{Tuple{Array{N0f8, N} where N, Array{Any, N} where N}}}}, Tuple{Array{N0f8, 4}, Vector{Any}}})\u001b[22m\u001b[0m\u001b[1m(\u001b[22m\u001b[0m\u001b[1m)\u001b[22m\n",
            "\u001b[90m    @ \u001b[39m\u001b[35mKnet.Train20\u001b[39m \u001b[90m~/.julia/packages/AutoGrad/TTpeo/src/\u001b[39m\u001b[90;4mcore.jl:205\u001b[0m\n",
            " [11] \u001b[0m\u001b[1mdifferentiate\u001b[22m\u001b[0m\u001b[1m(\u001b[22m::\u001b[0mFunction; \u001b[90mo\u001b[39m::\u001b[0mBase.Iterators.Pairs\u001b[90m{Union{}, Union{}, Tuple{}, NamedTuple{(), Tuple{}}}\u001b[39m\u001b[0m\u001b[1m)\u001b[22m\n",
            "\u001b[90m    @ \u001b[39m\u001b[36mAutoGrad\u001b[39m \u001b[90m~/.julia/packages/AutoGrad/TTpeo/src/\u001b[39m\u001b[90;4mcore.jl:144\u001b[0m\n",
            " [12] \u001b[0m\u001b[1mdifferentiate\u001b[22m\n",
            "\u001b[90m    @ \u001b[39m\u001b[90m~/.julia/packages/AutoGrad/TTpeo/src/\u001b[39m\u001b[90;4mcore.jl:135\u001b[0m\u001b[90m [inlined]\u001b[39m\n",
            " [13] \u001b[0m\u001b[1miterate\u001b[22m\n",
            "\u001b[90m    @ \u001b[39m\u001b[90m~/.julia/packages/Knet/RCkV0/src/train20/\u001b[39m\u001b[90;4mtrain.jl:26\u001b[0m\u001b[90m [inlined]\u001b[39m\n",
            " [14] \u001b[0m\u001b[1miterate\u001b[22m\u001b[0m\u001b[1m(\u001b[22m::\u001b[0mKnet.Train20.Progress\u001b[90m{Knet.Train20.Minimize{IterTools.NCycle{Data{Tuple{Array{N0f8, N} where N, Array{Any, N} where N}}}}}\u001b[39m\u001b[0m\u001b[1m)\u001b[22m\n",
            "\u001b[90m    @ \u001b[39m\u001b[35mKnet.Train20\u001b[39m \u001b[90m~/.julia/packages/Knet/RCkV0/src/train20/\u001b[39m\u001b[90;4mprogress.jl:73\u001b[0m\n",
            " [15] \u001b[0m\u001b[1miterate\u001b[22m\n",
            "\u001b[90m    @ \u001b[39m\u001b[90m~/.julia/packages/IterTools/0dYLc/src/\u001b[39m\u001b[90;4mIterTools.jl:82\u001b[0m\u001b[90m [inlined]\u001b[39m\n",
            " [16] \u001b[0m\u001b[1miterate\u001b[22m\n",
            "\u001b[90m    @ \u001b[39m\u001b[90m./\u001b[39m\u001b[90;4mgenerator.jl:44\u001b[0m\u001b[90m [inlined]\u001b[39m\n",
            " [17] \u001b[0m\u001b[1miterate\u001b[22m\n",
            "\u001b[90m    @ \u001b[39m\u001b[90m./\u001b[39m\u001b[90;4miterators.jl:1093\u001b[0m\u001b[90m [inlined]\u001b[39m\n",
            " [18] \u001b[0m\u001b[1miterate\u001b[22m\n",
            "\u001b[90m    @ \u001b[39m\u001b[90m./\u001b[39m\u001b[90;4miterators.jl:1089\u001b[0m\u001b[90m [inlined]\u001b[39m\n",
            " [19] \u001b[0m\u001b[1m_collect\u001b[22m\u001b[0m\u001b[1m(\u001b[22m\u001b[90m#unused#\u001b[39m::\u001b[0mType\u001b[90m{Float32}\u001b[39m, \u001b[90mitr\u001b[39m::\u001b[0mBase.Iterators.Flatten\u001b[90m{Base.Generator{IterTools.TakeNth{Knet.Train20.Progress{Knet.Train20.Minimize{IterTools.NCycle{Data{Tuple{Array{N0f8, N} where N, Array{Any, N} where N}}}}}}, var\"#37#38\"{Chain}}}\u001b[39m, \u001b[90misz\u001b[39m::\u001b[0mBase.SizeUnknown\u001b[0m\u001b[1m)\u001b[22m\n",
            "\u001b[90m    @ \u001b[39m\u001b[90mBase\u001b[39m \u001b[90m./\u001b[39m\u001b[90;4marray.jl:567\u001b[0m\n",
            " [20] \u001b[0m\u001b[1mcollect\u001b[22m\u001b[0m\u001b[1m(\u001b[22m\u001b[90m#unused#\u001b[39m::\u001b[0mType\u001b[90m{Float32}\u001b[39m, \u001b[90mitr\u001b[39m::\u001b[0mBase.Iterators.Flatten\u001b[90m{Base.Generator{IterTools.TakeNth{Knet.Train20.Progress{Knet.Train20.Minimize{IterTools.NCycle{Data{Tuple{Array{N0f8, N} where N, Array{Any, N} where N}}}}}}, var\"#37#38\"{Chain}}}\u001b[39m\u001b[0m\u001b[1m)\u001b[22m\n",
            "\u001b[90m    @ \u001b[39m\u001b[90mBase\u001b[39m \u001b[90m./\u001b[39m\u001b[90;4marray.jl:561\u001b[0m\n",
            " [21] \u001b[0m\u001b[1mtrainresults\u001b[22m\u001b[0m\u001b[1m(\u001b[22m\u001b[90mfile\u001b[39m::\u001b[0mString, \u001b[90mmodel\u001b[39m::\u001b[0mChain; \u001b[90mo\u001b[39m::\u001b[0mBase.Iterators.Pairs\u001b[90m{Union{}, Union{}, Tuple{}, NamedTuple{(), Tuple{}}}\u001b[39m\u001b[0m\u001b[1m)\u001b[22m\n",
            "\u001b[90m    @ \u001b[39m\u001b[32mMain\u001b[39m \u001b[90m./\u001b[39m\u001b[90;4mIn[75]:63\u001b[0m\n",
            " [22] \u001b[0m\u001b[1mtrainresults\u001b[22m\u001b[0m\u001b[1m(\u001b[22m\u001b[90mfile\u001b[39m::\u001b[0mString, \u001b[90mmodel\u001b[39m::\u001b[0mChain\u001b[0m\u001b[1m)\u001b[22m\n",
            "\u001b[90m    @ \u001b[39m\u001b[32mMain\u001b[39m \u001b[90m./\u001b[39m\u001b[90;4mIn[75]:60\u001b[0m\n",
            " [23] top-level scope\n",
            "\u001b[90m    @ \u001b[39m\u001b[90;4mIn[77]:2\u001b[0m\n",
            " [24] \u001b[0m\u001b[1meval\u001b[22m\n",
            "\u001b[90m    @ \u001b[39m\u001b[90m./\u001b[39m\u001b[90;4mboot.jl:360\u001b[0m\u001b[90m [inlined]\u001b[39m\n",
            " [25] \u001b[0m\u001b[1minclude_string\u001b[22m\u001b[0m\u001b[1m(\u001b[22m\u001b[90mmapexpr\u001b[39m::\u001b[0mtypeof(REPL.softscope), \u001b[90mmod\u001b[39m::\u001b[0mModule, \u001b[90mcode\u001b[39m::\u001b[0mString, \u001b[90mfilename\u001b[39m::\u001b[0mString\u001b[0m\u001b[1m)\u001b[22m\n",
            "\u001b[90m    @ \u001b[39m\u001b[90mBase\u001b[39m \u001b[90m./\u001b[39m\u001b[90;4mloading.jl:1116\u001b[0m\n",
            " [26] \u001b[0m\u001b[1msoftscope_include_string\u001b[22m\u001b[0m\u001b[1m(\u001b[22m\u001b[90mm\u001b[39m::\u001b[0mModule, \u001b[90mcode\u001b[39m::\u001b[0mString, \u001b[90mfilename\u001b[39m::\u001b[0mString\u001b[0m\u001b[1m)\u001b[22m\n",
            "\u001b[90m    @ \u001b[39m\u001b[33mSoftGlobalScope\u001b[39m \u001b[90m~/.julia/packages/SoftGlobalScope/u4UzH/src/\u001b[39m\u001b[90;4mSoftGlobalScope.jl:65\u001b[0m\n",
            " [27] \u001b[0m\u001b[1mexecute_request\u001b[22m\u001b[0m\u001b[1m(\u001b[22m\u001b[90msocket\u001b[39m::\u001b[0mZMQ.Socket, \u001b[90mmsg\u001b[39m::\u001b[0mIJulia.Msg\u001b[0m\u001b[1m)\u001b[22m\n",
            "\u001b[90m    @ \u001b[39m\u001b[35mIJulia\u001b[39m \u001b[90m~/.julia/packages/IJulia/e8kqU/src/\u001b[39m\u001b[90;4mexecute_request.jl:67\u001b[0m\n",
            " [28] \u001b[0m\u001b[1m#invokelatest#2\u001b[22m\n",
            "\u001b[90m    @ \u001b[39m\u001b[90m./\u001b[39m\u001b[90;4messentials.jl:708\u001b[0m\u001b[90m [inlined]\u001b[39m\n",
            " [29] \u001b[0m\u001b[1minvokelatest\u001b[22m\n",
            "\u001b[90m    @ \u001b[39m\u001b[90m./\u001b[39m\u001b[90;4messentials.jl:706\u001b[0m\u001b[90m [inlined]\u001b[39m\n",
            " [30] \u001b[0m\u001b[1meventloop\u001b[22m\u001b[0m\u001b[1m(\u001b[22m\u001b[90msocket\u001b[39m::\u001b[0mZMQ.Socket\u001b[0m\u001b[1m)\u001b[22m\n",
            "\u001b[90m    @ \u001b[39m\u001b[35mIJulia\u001b[39m \u001b[90m~/.julia/packages/IJulia/e8kqU/src/\u001b[39m\u001b[90;4meventloop.jl:8\u001b[0m\n",
            " [31] \u001b[0m\u001b[1m(::IJulia.var\"#15#18\")\u001b[22m\u001b[0m\u001b[1m(\u001b[22m\u001b[0m\u001b[1m)\u001b[22m\n",
            "\u001b[90m    @ \u001b[39m\u001b[35mIJulia\u001b[39m \u001b[90m./\u001b[39m\u001b[90;4mtask.jl:411\u001b[0m\n"
          ]
        },
        {
          "output_type": "error",
          "ename": "LoadError",
          "evalue": "ignored",
          "traceback": [
            "MethodError: no method matching NNlib.DenseConvDims(::Array{N0f8, 4}, ::KnetArray{Float32, 4}; stride=(1, 1), padding=(0, 0), dilation=(1, 1), flipkernel=false)\n\u001b[0mClosest candidates are:\n\u001b[0m  NNlib.DenseConvDims(::AbstractArray, \u001b[91m::AbstractArray\u001b[39m; kwargs...) at /root/.julia/packages/NNlib/P9BhZ/src/dim_helpers/DenseConvDims.jl:56",
            "",
            "Stacktrace:",
            "  [1] differentiate(::Function; o::Base.Iterators.Pairs{Union{}, Union{}, Tuple{}, NamedTuple{(), Tuple{}}})",
            "    @ AutoGrad ~/.julia/packages/AutoGrad/TTpeo/src/core.jl:148",
            "  [2] differentiate",
            "    @ ~/.julia/packages/AutoGrad/TTpeo/src/core.jl:135 [inlined]",
            "  [3] iterate",
            "    @ ~/.julia/packages/Knet/RCkV0/src/train20/train.jl:26 [inlined]",
            "  [4] iterate(::Knet.Train20.Progress{Knet.Train20.Minimize{IterTools.NCycle{Data{Tuple{Array{N0f8, N} where N, Array{Any, N} where N}}}}})",
            "    @ Knet.Train20 ~/.julia/packages/Knet/RCkV0/src/train20/progress.jl:73",
            "  [5] iterate",
            "    @ ~/.julia/packages/IterTools/0dYLc/src/IterTools.jl:82 [inlined]",
            "  [6] iterate",
            "    @ ./generator.jl:44 [inlined]",
            "  [7] iterate",
            "    @ ./iterators.jl:1093 [inlined]",
            "  [8] iterate",
            "    @ ./iterators.jl:1089 [inlined]",
            "  [9] _collect(#unused#::Type{Float32}, itr::Base.Iterators.Flatten{Base.Generator{IterTools.TakeNth{Knet.Train20.Progress{Knet.Train20.Minimize{IterTools.NCycle{Data{Tuple{Array{N0f8, N} where N, Array{Any, N} where N}}}}}}, var\"#37#38\"{Chain}}}, isz::Base.SizeUnknown)",
            "    @ Base ./array.jl:567",
            " [10] collect(#unused#::Type{Float32}, itr::Base.Iterators.Flatten{Base.Generator{IterTools.TakeNth{Knet.Train20.Progress{Knet.Train20.Minimize{IterTools.NCycle{Data{Tuple{Array{N0f8, N} where N, Array{Any, N} where N}}}}}}, var\"#37#38\"{Chain}}})",
            "    @ Base ./array.jl:561",
            " [11] trainresults(file::String, model::Chain; o::Base.Iterators.Pairs{Union{}, Union{}, Tuple{}, NamedTuple{(), Tuple{}}})",
            "    @ Main ./In[75]:63",
            " [12] trainresults(file::String, model::Chain)",
            "    @ Main ./In[75]:60",
            " [13] top-level scope",
            "    @ In[77]:2",
            " [14] eval",
            "    @ ./boot.jl:360 [inlined]",
            " [15] include_string(mapexpr::typeof(REPL.softscope), mod::Module, code::String, filename::String)",
            "    @ Base ./loading.jl:1116"
          ]
        }
      ]
    },
    {
      "cell_type": "code",
      "metadata": {
        "id": "5dcftv9kAFs1",
        "outputId": "4cb16d86-b3a6-471f-d194-cd0de9cd2d59",
        "colab": {
          "base_uri": "https://localhost:8080/"
        }
      },
      "source": [
        "using Images\n",
        "\n",
        "function read_data(data_path,image_size, ssize)\n",
        "i=1\n",
        "first_r=true\n",
        "y=[]\n",
        "x=0\n",
        "folders=readdir(data_path)\n",
        "for class in folders\n",
        "    println(\"Class number \",i,\" \",class)\n",
        "    directory=string(data_path,\"/\",class)\n",
        "    counter = 0\n",
        "    for img in readdir(directory)\n",
        "            \n",
        "        arr_img=load(string(directory,\"/\",img))\n",
        "        #print(size(arr_img))\n",
        "        if size(arr_img) != image_size\n",
        "          arr_img = imresize(arr_img, image_size);\n",
        "        end\n",
        "\n",
        "        #arr_img=image_data(arr_img,image_size)\n",
        "\n",
        "        label=zeros(size(folders))\n",
        "        label[i]=1\n",
        "        if first_r==false\n",
        "            x=cat(x,arr_img,dims=4)\n",
        "        else\n",
        "            x=cat(arr_img,dims=4)\n",
        "        end\n",
        "        push!(y,i)\n",
        "        first_r=false\n",
        "        counter = counter + 1;\n",
        "        if counter = ssize\n",
        "            break\n",
        "        end\n",
        "    end\n",
        "    i+=1\n",
        "    end\n",
        "println(size(y))\n",
        "println(size(x))\n",
        "return x,y;\n",
        "end"
      ],
      "execution_count": 51,
      "outputs": [
        {
          "output_type": "execute_result",
          "data": {
            "text/plain": [
              "read_data (generic function with 2 methods)"
            ]
          },
          "metadata": {},
          "execution_count": 51
        }
      ]
    },
    {
      "cell_type": "code",
      "metadata": {
        "id": "n-Y_s_Z5LsQt"
      },
      "source": [
        ""
      ],
      "execution_count": null,
      "outputs": []
    },
    {
      "cell_type": "code",
      "metadata": {
        "id": "uqXtYfntA9Uq",
        "outputId": "5b524de4-bd07-4c41-b20a-888761a16f97",
        "colab": {
          "base_uri": "https://localhost:8080/",
          "height": 847
        }
      },
      "source": [
        "AlexNET = trainresults(\"cnn113.jld2\", LeNet);"
      ],
      "execution_count": 62,
      "outputs": [
        {
          "name": "stdout",
          "output_type": "stream",
          "text": [
            "Train from scratch? stdin> y\n"
          ]
        },
        {
          "output_type": "error",
          "ename": "LoadError",
          "evalue": "ignored",
          "traceback": [
            "DimensionMismatch(\"Error converting batch from 51529×1250 Array{RGB{N0f8},2} with eltype RGB{N0f8} to Array{RGB{N0f8}, N} where N: DimensionMismatch(\\\"new dimensions (227, 227, 3, 100) must be consistent with array size 5152900\\\")\")",
            "",
            "Stacktrace:",
            "  [1] iterate",
            "    @ ~/.julia/packages/Knet/RCkV0/src/train20/data.jl:65 [inlined]",
            "  [2] iterate",
            "    @ ~/.julia/packages/Knet/RCkV0/src/train20/data.jl:56 [inlined]",
            "  [3] iterate(nc::IterTools.NCycle{Data{Tuple{Array{RGB{N0f8}, N} where N, Array{Any, N} where N}}}, state::Tuple{Int64})",
            "    @ IterTools ~/.julia/packages/IterTools/0dYLc/src/IterTools.jl:818",
            "  [4] iterate",
            "    @ ~/.julia/packages/IterTools/0dYLc/src/IterTools.jl:815 [inlined]",
            "  [5] iterate",
            "    @ ~/.julia/packages/Knet/RCkV0/src/train20/train.jl:23 [inlined]",
            "  [6] iterate(::Knet.Train20.Progress{Knet.Train20.Minimize{IterTools.NCycle{Data{Tuple{Array{RGB{N0f8}, N} where N, Array{Any, N} where N}}}}})",
            "    @ Knet.Train20 ~/.julia/packages/Knet/RCkV0/src/train20/progress.jl:73",
            "  [7] iterate",
            "    @ ~/.julia/packages/IterTools/0dYLc/src/IterTools.jl:82 [inlined]",
            "  [8] iterate",
            "    @ ./generator.jl:44 [inlined]",
            "  [9] iterate",
            "    @ ./iterators.jl:1093 [inlined]",
            " [10] iterate",
            "    @ ./iterators.jl:1089 [inlined]",
            " [11] _collect(#unused#::Type{Float32}, itr::Base.Iterators.Flatten{Base.Generator{IterTools.TakeNth{Knet.Train20.Progress{Knet.Train20.Minimize{IterTools.NCycle{Data{Tuple{Array{RGB{N0f8}, N} where N, Array{Any, N} where N}}}}}}, var\"#31#32\"{Chain}}}, isz::Base.SizeUnknown)",
            "    @ Base ./array.jl:567",
            " [12] collect(#unused#::Type{Float32}, itr::Base.Iterators.Flatten{Base.Generator{IterTools.TakeNth{Knet.Train20.Progress{Knet.Train20.Minimize{IterTools.NCycle{Data{Tuple{Array{RGB{N0f8}, N} where N, Array{Any, N} where N}}}}}}, var\"#31#32\"{Chain}}})",
            "    @ Base ./array.jl:561",
            " [13] trainresults(file::String, model::Chain; o::Base.Iterators.Pairs{Union{}, Union{}, Tuple{}, NamedTuple{(), Tuple{}}})",
            "    @ Main ./In[58]:62",
            " [14] trainresults(file::String, model::Chain)",
            "    @ Main ./In[58]:59",
            " [15] top-level scope",
            "    @ In[62]:1",
            " [16] eval",
            "    @ ./boot.jl:360 [inlined]",
            " [17] include_string(mapexpr::typeof(REPL.softscope), mod::Module, code::String, filename::String)",
            "    @ Base ./loading.jl:1116"
          ]
        }
      ]
    },
    {
      "cell_type": "code",
      "metadata": {
        "id": "J7eRjmo8_APw",
        "outputId": "dc3cb1eb-1e39-4f7a-cd91-dca00e27a96f",
        "colab": {
          "base_uri": "https://localhost:8080/",
          "height": 1000
        }
      },
      "source": [
        "using Plots; default(fmt=:png,ls=:auto)\n",
        "\n",
        "# Comparison to MLP shows faster convergence, better generalization\n",
        "plot([AlexNET[1,:], AlexNET[2,:]],ylim=(0.0,0.1),\n",
        "     labels=[\"trnCNN\" \"tstCNN\"],xlabel=\"Epochs\",ylabel=\"Loss\")\n",
        "\n"
      ],
      "execution_count": 40,
      "outputs": [
        {
          "output_type": "stream",
          "name": "stderr",
          "text": [
            "┌ Info: Precompiling GR_jll [d2c73de3-f751-5644-a686-071e5b155ba9]\n",
            "└ @ Base loading.jl:1342\n",
            "\u001b[91m\u001b[1mERROR: \u001b[22m\u001b[39mLoadError: LoadError: InitError: could not load library \"/root/.julia/artifacts/a84cc58d5161b950f268bb562e105bbbf4d6004a/lib/libGL.so\"\n",
            "/root/.julia/artifacts/a84cc58d5161b950f268bb562e105bbbf4d6004a/lib/libGL.so: undefined symbol: _glapi_tls_Current\n",
            "Stacktrace:\n",
            "  [1] \u001b[0m\u001b[1mdlopen\u001b[22m\u001b[0m\u001b[1m(\u001b[22m\u001b[90ms\u001b[39m::\u001b[0mString, \u001b[90mflags\u001b[39m::\u001b[0mUInt32; \u001b[90mthrow_error\u001b[39m::\u001b[0mBool\u001b[0m\u001b[1m)\u001b[22m\n",
            "\u001b[90m    @ \u001b[39m\u001b[90mBase.Libc.Libdl\u001b[39m \u001b[90m./\u001b[39m\u001b[90;4mlibdl.jl:114\u001b[0m\n",
            "  [2] \u001b[0m\u001b[1mdlopen\u001b[22m\u001b[0m\u001b[1m(\u001b[22m\u001b[90ms\u001b[39m::\u001b[0mString, \u001b[90mflags\u001b[39m::\u001b[0mUInt32\u001b[0m\u001b[1m)\u001b[22m\n",
            "\u001b[90m    @ \u001b[39m\u001b[90mBase.Libc.Libdl\u001b[39m \u001b[90m./\u001b[39m\u001b[90;4mlibdl.jl:114\u001b[0m\n",
            "  [3] \u001b[0m\u001b[1mmacro expansion\u001b[22m\n",
            "\u001b[90m    @ \u001b[39m\u001b[90m~/.julia/packages/JLLWrappers/bkwIo/src/products/\u001b[39m\u001b[90;4mlibrary_generators.jl:54\u001b[0m\u001b[90m [inlined]\u001b[39m\n",
            "  [4] \u001b[0m\u001b[1m__init__\u001b[22m\u001b[0m\u001b[1m(\u001b[22m\u001b[0m\u001b[1m)\u001b[22m\n",
            "\u001b[90m    @ \u001b[39m\u001b[35mLibglvnd_jll\u001b[39m \u001b[90m~/.julia/packages/Libglvnd_jll/pJrjy/src/wrappers/\u001b[39m\u001b[90;4mx86_64-linux-gnu.jl:22\u001b[0m\n",
            "  [5] \u001b[0m\u001b[1m_include_from_serialized\u001b[22m\u001b[0m\u001b[1m(\u001b[22m\u001b[90mpath\u001b[39m::\u001b[0mString, \u001b[90mdepmods\u001b[39m::\u001b[0mVector\u001b[90m{Any}\u001b[39m\u001b[0m\u001b[1m)\u001b[22m\n",
            "\u001b[90m    @ \u001b[39m\u001b[90mBase\u001b[39m \u001b[90m./\u001b[39m\u001b[90;4mloading.jl:696\u001b[0m\n",
            "  [6] \u001b[0m\u001b[1m_require_search_from_serialized\u001b[22m\u001b[0m\u001b[1m(\u001b[22m\u001b[90mpkg\u001b[39m::\u001b[0mBase.PkgId, \u001b[90msourcepath\u001b[39m::\u001b[0mString\u001b[0m\u001b[1m)\u001b[22m\n",
            "\u001b[90m    @ \u001b[39m\u001b[90mBase\u001b[39m \u001b[90m./\u001b[39m\u001b[90;4mloading.jl:782\u001b[0m\n",
            "  [7] \u001b[0m\u001b[1m_require\u001b[22m\u001b[0m\u001b[1m(\u001b[22m\u001b[90mpkg\u001b[39m::\u001b[0mBase.PkgId\u001b[0m\u001b[1m)\u001b[22m\n",
            "\u001b[90m    @ \u001b[39m\u001b[90mBase\u001b[39m \u001b[90m./\u001b[39m\u001b[90;4mloading.jl:1020\u001b[0m\n",
            "  [8] \u001b[0m\u001b[1mrequire\u001b[22m\u001b[0m\u001b[1m(\u001b[22m\u001b[90muuidkey\u001b[39m::\u001b[0mBase.PkgId\u001b[0m\u001b[1m)\u001b[22m\n",
            "\u001b[90m    @ \u001b[39m\u001b[90mBase\u001b[39m \u001b[90m./\u001b[39m\u001b[90;4mloading.jl:936\u001b[0m\n",
            "  [9] \u001b[0m\u001b[1mrequire\u001b[22m\u001b[0m\u001b[1m(\u001b[22m\u001b[90minto\u001b[39m::\u001b[0mModule, \u001b[90mmod\u001b[39m::\u001b[0mSymbol\u001b[0m\u001b[1m)\u001b[22m\n",
            "\u001b[90m    @ \u001b[39m\u001b[90mBase\u001b[39m \u001b[90m./\u001b[39m\u001b[90;4mloading.jl:923\u001b[0m\n",
            " [10] \u001b[0m\u001b[1minclude\u001b[22m\u001b[0m\u001b[1m(\u001b[22m\u001b[90mmod\u001b[39m::\u001b[0mModule, \u001b[90m_path\u001b[39m::\u001b[0mString\u001b[0m\u001b[1m)\u001b[22m\n",
            "\u001b[90m    @ \u001b[39m\u001b[90mBase\u001b[39m \u001b[90m./\u001b[39m\u001b[90;4mBase.jl:386\u001b[0m\n",
            " [11] top-level scope\n",
            "\u001b[90m    @ \u001b[39m\u001b[90m~/.julia/packages/JLLWrappers/bkwIo/src/\u001b[39m\u001b[90;4mtoplevel_generators.jl:170\u001b[0m\n",
            " [12] \u001b[0m\u001b[1minclude\u001b[22m\n",
            "\u001b[90m    @ \u001b[39m\u001b[90m./\u001b[39m\u001b[90;4mBase.jl:386\u001b[0m\u001b[90m [inlined]\u001b[39m\n",
            " [13] \u001b[0m\u001b[1minclude_package_for_output\u001b[22m\u001b[0m\u001b[1m(\u001b[22m\u001b[90mpkg\u001b[39m::\u001b[0mBase.PkgId, \u001b[90minput\u001b[39m::\u001b[0mString, \u001b[90mdepot_path\u001b[39m::\u001b[0mVector\u001b[90m{String}\u001b[39m, \u001b[90mdl_load_path\u001b[39m::\u001b[0mVector\u001b[90m{String}\u001b[39m, \u001b[90mload_path\u001b[39m::\u001b[0mVector\u001b[90m{String}\u001b[39m, \u001b[90mconcrete_deps\u001b[39m::\u001b[0mVector\u001b[90m{Pair{Base.PkgId, UInt64}}\u001b[39m, \u001b[90msource\u001b[39m::\u001b[0mString\u001b[0m\u001b[1m)\u001b[22m\n",
            "\u001b[90m    @ \u001b[39m\u001b[90mBase\u001b[39m \u001b[90m./\u001b[39m\u001b[90;4mloading.jl:1235\u001b[0m\n",
            " [14] top-level scope\n",
            "\u001b[90m    @ \u001b[39m\u001b[90;4mnone:1\u001b[0m\n",
            " [15] \u001b[0m\u001b[1meval\u001b[22m\n",
            "\u001b[90m    @ \u001b[39m\u001b[90m./\u001b[39m\u001b[90;4mboot.jl:360\u001b[0m\u001b[90m [inlined]\u001b[39m\n",
            " [16] \u001b[0m\u001b[1meval\u001b[22m\u001b[0m\u001b[1m(\u001b[22m\u001b[90mx\u001b[39m::\u001b[0mExpr\u001b[0m\u001b[1m)\u001b[22m\n",
            "\u001b[90m    @ \u001b[39m\u001b[90mBase.MainInclude\u001b[39m \u001b[90m./\u001b[39m\u001b[90;4mclient.jl:446\u001b[0m\n",
            " [17] top-level scope\n",
            "\u001b[90m    @ \u001b[39m\u001b[90;4mnone:1\u001b[0m\n",
            "during initialization of module Libglvnd_jll\n",
            "in expression starting at /root/.julia/packages/GLFW_jll/D53by/src/wrappers/x86_64-linux-gnu.jl:4\n",
            "in expression starting at /root/.julia/packages/GLFW_jll/D53by/src/GLFW_jll.jl:2\n",
            "\u001b[91m\u001b[1mERROR: \u001b[22m\u001b[39mLoadError: LoadError: Failed to precompile GLFW_jll [0656b61e-2033-5cc2-a64a-77c0f6c09b89] to /root/.julia/compiled/v1.6/GLFW_jll/jl_Fsijvg.\n",
            "Stacktrace:\n",
            "  [1] \u001b[0m\u001b[1merror\u001b[22m\u001b[0m\u001b[1m(\u001b[22m\u001b[90ms\u001b[39m::\u001b[0mString\u001b[0m\u001b[1m)\u001b[22m\n",
            "\u001b[90m    @ \u001b[39m\u001b[90mBase\u001b[39m \u001b[90m./\u001b[39m\u001b[90;4merror.jl:33\u001b[0m\n",
            "  [2] \u001b[0m\u001b[1mcompilecache\u001b[22m\u001b[0m\u001b[1m(\u001b[22m\u001b[90mpkg\u001b[39m::\u001b[0mBase.PkgId, \u001b[90mpath\u001b[39m::\u001b[0mString, \u001b[90minternal_stderr\u001b[39m::\u001b[0mIOContext\u001b[90m{Base.PipeEndpoint}\u001b[39m, \u001b[90minternal_stdout\u001b[39m::\u001b[0mIOContext\u001b[90m{Base.PipeEndpoint}\u001b[39m, \u001b[90mignore_loaded_modules\u001b[39m::\u001b[0mBool\u001b[0m\u001b[1m)\u001b[22m\n",
            "\u001b[90m    @ \u001b[39m\u001b[90mBase\u001b[39m \u001b[90m./\u001b[39m\u001b[90;4mloading.jl:1385\u001b[0m\n",
            "  [3] \u001b[0m\u001b[1mcompilecache\u001b[22m\u001b[0m\u001b[1m(\u001b[22m\u001b[90mpkg\u001b[39m::\u001b[0mBase.PkgId, \u001b[90mpath\u001b[39m::\u001b[0mString\u001b[0m\u001b[1m)\u001b[22m\n",
            "\u001b[90m    @ \u001b[39m\u001b[90mBase\u001b[39m \u001b[90m./\u001b[39m\u001b[90;4mloading.jl:1329\u001b[0m\n",
            "  [4] \u001b[0m\u001b[1m_require\u001b[22m\u001b[0m\u001b[1m(\u001b[22m\u001b[90mpkg\u001b[39m::\u001b[0mBase.PkgId\u001b[0m\u001b[1m)\u001b[22m\n",
            "\u001b[90m    @ \u001b[39m\u001b[90mBase\u001b[39m \u001b[90m./\u001b[39m\u001b[90;4mloading.jl:1043\u001b[0m\n",
            "  [5] \u001b[0m\u001b[1mrequire\u001b[22m\u001b[0m\u001b[1m(\u001b[22m\u001b[90muuidkey\u001b[39m::\u001b[0mBase.PkgId\u001b[0m\u001b[1m)\u001b[22m\n",
            "\u001b[90m    @ \u001b[39m\u001b[90mBase\u001b[39m \u001b[90m./\u001b[39m\u001b[90;4mloading.jl:936\u001b[0m\n",
            "  [6] \u001b[0m\u001b[1mrequire\u001b[22m\u001b[0m\u001b[1m(\u001b[22m\u001b[90minto\u001b[39m::\u001b[0mModule, \u001b[90mmod\u001b[39m::\u001b[0mSymbol\u001b[0m\u001b[1m)\u001b[22m\n",
            "\u001b[90m    @ \u001b[39m\u001b[90mBase\u001b[39m \u001b[90m./\u001b[39m\u001b[90;4mloading.jl:923\u001b[0m\n",
            "  [7] \u001b[0m\u001b[1minclude\u001b[22m\u001b[0m\u001b[1m(\u001b[22m\u001b[90mmod\u001b[39m::\u001b[0mModule, \u001b[90m_path\u001b[39m::\u001b[0mString\u001b[0m\u001b[1m)\u001b[22m\n",
            "\u001b[90m    @ \u001b[39m\u001b[90mBase\u001b[39m \u001b[90m./\u001b[39m\u001b[90;4mBase.jl:386\u001b[0m\n",
            "  [8] top-level scope\n",
            "\u001b[90m    @ \u001b[39m\u001b[90m~/.julia/packages/JLLWrappers/bkwIo/src/\u001b[39m\u001b[90;4mtoplevel_generators.jl:170\u001b[0m\n",
            "  [9] \u001b[0m\u001b[1minclude\u001b[22m\n",
            "\u001b[90m    @ \u001b[39m\u001b[90m./\u001b[39m\u001b[90;4mBase.jl:386\u001b[0m\u001b[90m [inlined]\u001b[39m\n",
            " [10] \u001b[0m\u001b[1minclude_package_for_output\u001b[22m\u001b[0m\u001b[1m(\u001b[22m\u001b[90mpkg\u001b[39m::\u001b[0mBase.PkgId, \u001b[90minput\u001b[39m::\u001b[0mString, \u001b[90mdepot_path\u001b[39m::\u001b[0mVector\u001b[90m{String}\u001b[39m, \u001b[90mdl_load_path\u001b[39m::\u001b[0mVector\u001b[90m{String}\u001b[39m, \u001b[90mload_path\u001b[39m::\u001b[0mVector\u001b[90m{String}\u001b[39m, \u001b[90mconcrete_deps\u001b[39m::\u001b[0mVector\u001b[90m{Pair{Base.PkgId, UInt64}}\u001b[39m, \u001b[90msource\u001b[39m::\u001b[0mNothing\u001b[0m\u001b[1m)\u001b[22m\n",
            "\u001b[90m    @ \u001b[39m\u001b[90mBase\u001b[39m \u001b[90m./\u001b[39m\u001b[90;4mloading.jl:1235\u001b[0m\n",
            " [11] top-level scope\n",
            "\u001b[90m    @ \u001b[39m\u001b[90;4mnone:1\u001b[0m\n",
            " [12] \u001b[0m\u001b[1meval\u001b[22m\n",
            "\u001b[90m    @ \u001b[39m\u001b[90m./\u001b[39m\u001b[90;4mboot.jl:360\u001b[0m\u001b[90m [inlined]\u001b[39m\n",
            " [13] \u001b[0m\u001b[1meval\u001b[22m\u001b[0m\u001b[1m(\u001b[22m\u001b[90mx\u001b[39m::\u001b[0mExpr\u001b[0m\u001b[1m)\u001b[22m\n",
            "\u001b[90m    @ \u001b[39m\u001b[90mBase.MainInclude\u001b[39m \u001b[90m./\u001b[39m\u001b[90;4mclient.jl:446\u001b[0m\n",
            " [14] top-level scope\n",
            "\u001b[90m    @ \u001b[39m\u001b[90;4mnone:1\u001b[0m\n",
            "in expression starting at /root/.julia/packages/GR_jll/hbRLR/src/wrappers/x86_64-linux-gnu-cxx11.jl:8\n",
            "in expression starting at /root/.julia/packages/GR_jll/hbRLR/src/GR_jll.jl:2\n"
          ]
        },
        {
          "output_type": "stream",
          "name": "stdout",
          "text": [
            "Your GR installation is incomplete. Rerunning build step for GR package.\n"
          ]
        },
        {
          "output_type": "stream",
          "name": "stderr",
          "text": [
            "┌ Error: Error importing GR_jll:\n",
            "│   err = ErrorException(\"Failed to precompile GR_jll [d2c73de3-f751-5644-a686-071e5b155ba9] to /root/.julia/compiled/v1.6/GR_jll/jl_UoAq51.\")\n",
            "└ @ GR /root/.julia/packages/GR/SOvTP/src/funcptrs.jl:42\n",
            "┌ Info: Switching provider to GR due to error in depsfile\n",
            "│   depsfile = /root/.julia/packages/GR/SOvTP/deps/deps.jl\n",
            "└ @ GR /root/.julia/packages/GR/SOvTP/src/GR.jl:355\n",
            "┌ Info: Emptying depsfile. GR provider is GR\n",
            "│   provider = GR\n",
            "│   depsfile = /root/.julia/packages/GR/SOvTP/deps/deps.jl\n",
            "└ @ GR.Builder /root/.julia/packages/GR/SOvTP/deps/build.jl:128\n",
            "┌ Info: Downloading pre-compiled GR 0.62.0 Ubuntu binary\n",
            "└ @ GR.Builder /root/.julia/packages/GR/SOvTP/deps/build.jl:193\n"
          ]
        },
        {
          "output_type": "execute_result",
          "data": {
            "image/png": "[encoded data removed]"
          },
          "metadata": {},
          "execution_count": 40
        },
        {
          "output_type": "stream",
          "name": "stderr",
          "text": [
            "┌ Info: GR was successfully rebuilt\n",
            "└ @ GR /root/.julia/packages/GR/SOvTP/src/GR.jl:364\n"
          ]
        }
      ]
    }
  ]
}