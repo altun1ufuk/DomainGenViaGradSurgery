{
 "cells": [
  {
   "cell_type": "markdown",
   "id": "70fd1309",
   "metadata": {},
   "source": [
    "Ufuk Altun"
   ]
  },
  {
   "cell_type": "markdown",
   "id": "9adae3e8",
   "metadata": {},
   "source": [
    "using Pkg; pkg\"add CUDA Knet IterTools FileIO JLD2 Images Plots PyCall\""
   ]
  },
  {
   "cell_type": "code",
   "execution_count": 47,
   "id": "1345dd52",
   "metadata": {},
   "outputs": [],
   "source": [
    "using PyCall\n",
    "@pyimport torch"
   ]
  },
  {
   "cell_type": "code",
   "execution_count": 48,
   "id": "1b1c2919",
   "metadata": {},
   "outputs": [],
   "source": [
    "include(\"models.jl\");\n",
    "include(\"training.jl\");"
   ]
  },
  {
   "cell_type": "markdown",
   "id": "6127b255",
   "metadata": {},
   "source": [
    "#### Generate an alexnet model"
   ]
  },
  {
   "cell_type": "code",
   "execution_count": 49,
   "id": "4454bad2",
   "metadata": {},
   "outputs": [],
   "source": [
    "model = generate_alexnet_model(; pretrained = true);"
   ]
  },
  {
   "cell_type": "markdown",
   "id": "e952ad86",
   "metadata": {},
   "source": [
    "#### Set optimizers of each parameter to Adam. Parameter sizes should be:\n",
    "##### Original Alexnet\n",
    "- (11, 11, 3, 64)\n",
    "- (1, 1, 64, 1)\n",
    "- (5, 5, 64, 192)\n",
    "- (1, 1, 192, 1)\n",
    "- (3, 3, 192, 384)\n",
    "- (1, 1, 384, 1)\n",
    "- (3, 3, 384, 256)\n",
    "- (1, 1, 256, 1)\n",
    "- (3, 3, 256, 256)\n",
    "- (1, 1, 256, 1)\n",
    "- (4096, 9216)\n",
    "- (4096,)\n",
    "- (4096, 4096)\n",
    "- (4096,)\n",
    "- (7, 4096)\n",
    "- (7,)"
   ]
  },
  {
   "cell_type": "code",
   "execution_count": 50,
   "id": "065ef923",
   "metadata": {},
   "outputs": [
    {
     "name": "stdout",
     "output_type": "stream",
     "text": [
      "(11, 11, 3, 64)\n",
      "(1, 1, 64, 1)\n",
      "(5, 5, 64, 192)\n",
      "(1, 1, 192, 1)\n",
      "(3, 3, 192, 384)\n",
      "(1, 1, 384, 1)\n",
      "(3, 3, 384, 256)\n",
      "(1, 1, 256, 1)\n",
      "(3, 3, 256, 256)\n",
      "(1, 1, 256, 1)\n",
      "(4096, 9216)\n",
      "(4096,)\n",
      "(4096, 4096)\n",
      "(4096,)\n",
      "(7, 4096)\n",
      "(7,)\n"
     ]
    }
   ],
   "source": [
    "for param in params(model)\n",
    "    param.opt = Adam(; lr=1e-5)\n",
    "    println(size(param))\n",
    "end"
   ]
  },
  {
   "cell_type": "markdown",
   "id": "80d439ef",
   "metadata": {},
   "source": [
    "#### Define batchsize, model path and target domain  "
   ]
  },
  {
   "cell_type": "code",
   "execution_count": 52,
   "id": "2953cd8b",
   "metadata": {},
   "outputs": [],
   "source": [
    "num_iter=1000\n",
    "check_freq=20\n",
    "batchsize = 128\n",
    "atype = Array{Float32}\n",
    "data_path = \"/Users/ufukaltun/Documents/koç/dersler/ku deep learning/project\";"
   ]
  },
  {
   "cell_type": "markdown",
   "id": "ce1e8d8b",
   "metadata": {},
   "source": [
    "#### Preprocess data, generate minibatches for each modain and generate a baseline minibach which contains three known domains"
   ]
  },
  {
   "cell_type": "code",
   "execution_count": 53,
   "id": "eaee9bd3",
   "metadata": {},
   "outputs": [
    {
     "name": "stdout",
     "output_type": "stream",
     "text": [
      "Datasets are loaded\n"
     ]
    },
    {
     "name": "stderr",
     "output_type": "stream",
     "text": [
      "\r",
      "[1, 00:00, 2.42i/s] "
     ]
    },
    {
     "name": "stdout",
     "output_type": "stream",
     "text": [
      "First batch is trained successfully\n"
     ]
    },
    {
     "name": "stderr",
     "output_type": "stream",
     "text": [
      "[20, 11:47, 35.79s/i] "
     ]
    },
    {
     "name": "stdout",
     "output_type": "stream",
     "text": [
      "Train loss: 1.6811548  Val loss: 1.6547217  Train acc: 0.3297275641025641  Val acc: 0.3411458333333333\n"
     ]
    },
    {
     "name": "stderr",
     "output_type": "stream",
     "text": [
      "[40, 29:01, 36.03s/i]  "
     ]
    },
    {
     "name": "stdout",
     "output_type": "stream",
     "text": [
      "Train loss: 1.372548  Val loss: 1.372881  Train acc: 0.4823717948717949  Val acc: 0.484375\n"
     ]
    },
    {
     "name": "stderr",
     "output_type": "stream",
     "text": [
      "[60, 46:24, 36.47s/i]  "
     ]
    },
    {
     "name": "stdout",
     "output_type": "stream",
     "text": [
      "Train loss: 1.166081  Val loss: 1.1536483  Train acc: 0.5731169871794872  Val acc: 0.5755208333333334\n"
     ]
    },
    {
     "name": "stderr",
     "output_type": "stream",
     "text": [
      "[80, 01:03:34, 36.67s/i] "
     ]
    },
    {
     "name": "stdout",
     "output_type": "stream",
     "text": [
      "Train loss: 1.0069515  Val loss: 1.038829  Train acc: 0.6360176282051282  Val acc: 0.6067708333333334\n"
     ]
    },
    {
     "name": "stderr",
     "output_type": "stream",
     "text": [
      "[100, 01:20:49, 36.36s/i] "
     ]
    },
    {
     "name": "stdout",
     "output_type": "stream",
     "text": [
      "Train loss: 0.8867362  Val loss: 0.9458806  Train acc: 0.6887019230769231  Val acc: 0.671875\n"
     ]
    },
    {
     "name": "stderr",
     "output_type": "stream",
     "text": [
      "[120, 01:38:05, 35.82s/i]  "
     ]
    },
    {
     "name": "stdout",
     "output_type": "stream",
     "text": [
      "Train loss: 0.7799274  Val loss: 0.9068277  Train acc: 0.7247596153846154  Val acc: 0.734375\n"
     ]
    },
    {
     "name": "stderr",
     "output_type": "stream",
     "text": [
      "[140, 01:55:11, 37.76s/i]  "
     ]
    },
    {
     "name": "stdout",
     "output_type": "stream",
     "text": [
      "Train loss: 0.68930614  Val loss: 0.7208038  Train acc: 0.7512019230769231  Val acc: 0.7161458333333334\n"
     ]
    },
    {
     "name": "stderr",
     "output_type": "stream",
     "text": [
      "[160, 02:12:25, 36.27s/i]  "
     ]
    },
    {
     "name": "stdout",
     "output_type": "stream",
     "text": [
      "Train loss: 0.6248631  Val loss: 0.7452648  Train acc: 0.7788461538461539  Val acc: 0.7473958333333334\n"
     ]
    },
    {
     "name": "stderr",
     "output_type": "stream",
     "text": [
      "[180, 02:29:40, 36.45s/i]  "
     ]
    },
    {
     "name": "stdout",
     "output_type": "stream",
     "text": [
      "Train loss: 0.5740669  Val loss: 0.75275284  Train acc: 0.7972756410256411  Val acc: 0.7682291666666666\n"
     ]
    },
    {
     "name": "stderr",
     "output_type": "stream",
     "text": [
      "[200, 02:46:55, 35.11s/i]  "
     ]
    },
    {
     "name": "stdout",
     "output_type": "stream",
     "text": [
      "Train loss: 0.5333836  Val loss: 0.6962369  Train acc: 0.811698717948718  Val acc: 0.7734375\n"
     ]
    },
    {
     "name": "stderr",
     "output_type": "stream",
     "text": [
      "[221, 03:09:43, 338.78s/i] "
     ]
    },
    {
     "name": "stdout",
     "output_type": "stream",
     "text": [
      "Train loss: 0.47862273  Val loss: 0.6429613  Train acc: 0.828125  Val acc: 0.7421875\n"
     ]
    },
    {
     "name": "stderr",
     "output_type": "stream",
     "text": [
      "[240, 03:21:17, 38.60s/i] "
     ]
    },
    {
     "name": "stdout",
     "output_type": "stream",
     "text": [
      "Train loss: 0.44071653  Val loss: 0.5766459  Train acc: 0.8441506410256411  Val acc: 0.7864583333333334\n"
     ]
    },
    {
     "name": "stderr",
     "output_type": "stream",
     "text": [
      "[260, 03:38:34, 36.76s/i]  "
     ]
    },
    {
     "name": "stdout",
     "output_type": "stream",
     "text": [
      "Train loss: 0.40158015  Val loss: 0.56761557  Train acc: 0.8597756410256411  Val acc: 0.7994791666666666\n"
     ]
    },
    {
     "name": "stderr",
     "output_type": "stream",
     "text": [
      "[280, 03:55:55, 37.03s/i]  "
     ]
    },
    {
     "name": "stdout",
     "output_type": "stream",
     "text": [
      "Train loss: 0.3664578  Val loss: 0.5515788  Train acc: 0.8747996794871795  Val acc: 0.8098958333333334\n"
     ]
    },
    {
     "name": "stderr",
     "output_type": "stream",
     "text": [
      "[300, 04:13:13, 36.97s/i]  "
     ]
    },
    {
     "name": "stdout",
     "output_type": "stream",
     "text": [
      "Train loss: 0.33514684  Val loss: 0.51838976  Train acc: 0.8850160256410257  Val acc: 0.7708333333333334\n"
     ]
    },
    {
     "name": "stderr",
     "output_type": "stream",
     "text": [
      "[320, 04:30:18, 37.33s/i]  "
     ]
    },
    {
     "name": "stdout",
     "output_type": "stream",
     "text": [
      "Train loss: 0.3060014  Val loss: 0.51100296  Train acc: 0.8974358974358975  Val acc: 0.7890625\n"
     ]
    },
    {
     "name": "stderr",
     "output_type": "stream",
     "text": [
      "[340, 04:47:41, 36.14s/i]  "
     ]
    },
    {
     "name": "stdout",
     "output_type": "stream",
     "text": [
      "Train loss: 0.29059225  Val loss: 0.5329103  Train acc: 0.9040464743589743  Val acc: 0.8151041666666666\n"
     ]
    },
    {
     "name": "stderr",
     "output_type": "stream",
     "text": [
      "[360, 09:53:28, 42.28s/i] ] "
     ]
    },
    {
     "name": "stdout",
     "output_type": "stream",
     "text": [
      "Train loss: 0.25967655  Val loss: 0.47947145  Train acc: 0.9160657051282052  Val acc: 0.8463541666666666\n"
     ]
    },
    {
     "name": "stderr",
     "output_type": "stream",
     "text": [
      "[380, 10:11:26, 37.04s/i]  "
     ]
    },
    {
     "name": "stdout",
     "output_type": "stream",
     "text": [
      "Train loss: 0.24304326  Val loss: 0.5128648  Train acc: 0.9244791666666666  Val acc: 0.8359375\n"
     ]
    },
    {
     "name": "stderr",
     "output_type": "stream",
     "text": [
      "[400, 10:29:50, 38.63s/i]  "
     ]
    },
    {
     "name": "stdout",
     "output_type": "stream",
     "text": [
      "Train loss: 0.22227326  Val loss: 0.44964734  Train acc: 0.9280849358974359  Val acc: 0.8229166666666666\n"
     ]
    },
    {
     "name": "stderr",
     "output_type": "stream",
     "text": [
      "[420, 10:47:27, 37.04s/i]  "
     ]
    },
    {
     "name": "stdout",
     "output_type": "stream",
     "text": [
      "Train loss: 0.20461816  Val loss: 0.45532927  Train acc: 0.9401041666666666  Val acc: 0.8255208333333334\n"
     ]
    },
    {
     "name": "stderr",
     "output_type": "stream",
     "text": [
      "[440, 11:05:47, 39.12s/i]  "
     ]
    },
    {
     "name": "stdout",
     "output_type": "stream",
     "text": [
      "Train loss: 0.18647674  Val loss: 0.4961743  Train acc: 0.9449118589743589  Val acc: 0.8333333333333334\n"
     ]
    },
    {
     "name": "stderr",
     "output_type": "stream",
     "text": [
      "[460, 11:23:34, 37.74s/i]  "
     ]
    },
    {
     "name": "stdout",
     "output_type": "stream",
     "text": [
      "Train loss: 0.17239188  Val loss: 0.46746156  Train acc: 0.9503205128205128  Val acc: 0.8385416666666666\n"
     ]
    },
    {
     "name": "stderr",
     "output_type": "stream",
     "text": [
      "[480, 11:41:19, 37.94s/i]  "
     ]
    },
    {
     "name": "stdout",
     "output_type": "stream",
     "text": [
      "Train loss: 0.15488315  Val loss: 0.4578023  Train acc: 0.9565304487179487  Val acc: 0.8463541666666666\n"
     ]
    },
    {
     "name": "stderr",
     "output_type": "stream",
     "text": [
      "[500, 11:58:56, 37.33s/i]  "
     ]
    },
    {
     "name": "stdout",
     "output_type": "stream",
     "text": [
      "Train loss: 0.14303333  Val loss: 0.4876976  Train acc: 0.9615384615384616  Val acc: 0.8541666666666666\n"
     ]
    },
    {
     "name": "stderr",
     "output_type": "stream",
     "text": [
      "[520, 12:17:18, 36.80s/i]  "
     ]
    },
    {
     "name": "stdout",
     "output_type": "stream",
     "text": [
      "Train loss: 0.13037583  Val loss: 0.39757946  Train acc: 0.9627403846153846  Val acc: 0.8333333333333334\n"
     ]
    },
    {
     "name": "stderr",
     "output_type": "stream",
     "text": [
      "[540, 12:35:01, 37.15s/i]  "
     ]
    },
    {
     "name": "stdout",
     "output_type": "stream",
     "text": [
      "Train loss: 0.11671192  Val loss: 0.40960583  Train acc: 0.969551282051282  Val acc: 0.84375\n"
     ]
    },
    {
     "name": "stderr",
     "output_type": "stream",
     "text": [
      "[560, 12:52:45, 37.76s/i]  "
     ]
    },
    {
     "name": "stdout",
     "output_type": "stream",
     "text": [
      "Train loss: 0.106083736  Val loss: 0.52848154  Train acc: 0.9733573717948718  Val acc: 0.8567708333333334\n"
     ]
    },
    {
     "name": "stderr",
     "output_type": "stream",
     "text": [
      "[580, 13:10:27, 36.33s/i]  "
     ]
    },
    {
     "name": "stdout",
     "output_type": "stream",
     "text": [
      "Train loss: 0.09928881  Val loss: 0.42786798  Train acc: 0.9765625  Val acc: 0.8411458333333334\n"
     ]
    },
    {
     "name": "stderr",
     "output_type": "stream",
     "text": [
      "[600, 13:27:57, 38.30s/i]  "
     ]
    },
    {
     "name": "stdout",
     "output_type": "stream",
     "text": [
      "Train loss: 0.09138319  Val loss: 0.46996343  Train acc: 0.9791666666666666  Val acc: 0.8671875\n"
     ]
    },
    {
     "name": "stderr",
     "output_type": "stream",
     "text": [
      "[620, 13:45:41, 39.25s/i]  "
     ]
    },
    {
     "name": "stdout",
     "output_type": "stream",
     "text": [
      "Train loss: 0.081010856  Val loss: 0.44564167  Train acc: 0.983573717948718  Val acc: 0.8619791666666666\n"
     ]
    },
    {
     "name": "stderr",
     "output_type": "stream",
     "text": [
      "[640, 14:03:03, 38.50s/i]  "
     ]
    },
    {
     "name": "stdout",
     "output_type": "stream",
     "text": [
      "Train loss: 0.07600398  Val loss: 0.45043948  Train acc: 0.9827724358974359  Val acc: 0.8645833333333334\n"
     ]
    },
    {
     "name": "stderr",
     "output_type": "stream",
     "text": [
      "[660, 15:39:35, 36.48s/i] ] "
     ]
    },
    {
     "name": "stdout",
     "output_type": "stream",
     "text": [
      "Train loss: 0.070385955  Val loss: 0.36867526  Train acc: 0.985176282051282  Val acc: 0.8723958333333334\n"
     ]
    },
    {
     "name": "stderr",
     "output_type": "stream",
     "text": [
      "[680, 15:57:19, 39.09s/i]  "
     ]
    },
    {
     "name": "stdout",
     "output_type": "stream",
     "text": [
      "Train loss: 0.06631861  Val loss: 0.4810256  Train acc: 0.9871794871794872  Val acc: 0.8567708333333334\n"
     ]
    },
    {
     "name": "stderr",
     "output_type": "stream",
     "text": [
      "[700, 16:14:56, 38.37s/i]  "
     ]
    },
    {
     "name": "stdout",
     "output_type": "stream",
     "text": [
      "Train loss: 0.05641973  Val loss: 0.4754391  Train acc: 0.9901842948717948  Val acc: 0.8645833333333334\n"
     ]
    },
    {
     "name": "stderr",
     "output_type": "stream",
     "text": [
      "[720, 16:32:44, 36.85s/i]  "
     ]
    },
    {
     "name": "stdout",
     "output_type": "stream",
     "text": [
      "Train loss: 0.052626066  Val loss: 0.39172933  Train acc: 0.9905849358974359  Val acc: 0.8619791666666666\n"
     ]
    },
    {
     "name": "stderr",
     "output_type": "stream",
     "text": [
      "[740, 16:50:12, 37.57s/i]  "
     ]
    },
    {
     "name": "stdout",
     "output_type": "stream",
     "text": [
      "Train loss: 0.048828896  Val loss: 0.4792454  Train acc: 0.9917868589743589  Val acc: 0.8463541666666666\n"
     ]
    },
    {
     "name": "stderr",
     "output_type": "stream",
     "text": [
      "[760, 17:07:38, 36.73s/i]  "
     ]
    },
    {
     "name": "stdout",
     "output_type": "stream",
     "text": [
      "Train loss: 0.044482186  Val loss: 0.4528214  Train acc: 0.9927884615384616  Val acc: 0.8645833333333334\n"
     ]
    },
    {
     "name": "stderr",
     "output_type": "stream",
     "text": [
      "[780, 17:25:07, 38.40s/i]  "
     ]
    },
    {
     "name": "stdout",
     "output_type": "stream",
     "text": [
      "Train loss: 0.040264282  Val loss: 0.44348648  Train acc: 0.9933894230769231  Val acc: 0.8619791666666666\n"
     ]
    },
    {
     "name": "stderr",
     "output_type": "stream",
     "text": [
      "[800, 17:42:37, 36.54s/i]  "
     ]
    },
    {
     "name": "stdout",
     "output_type": "stream",
     "text": [
      "Train loss: 0.03707322  Val loss: 0.37398806  Train acc: 0.9959935897435898  Val acc: 0.8333333333333334\n"
     ]
    },
    {
     "name": "stderr",
     "output_type": "stream",
     "text": [
      "[820, 17:59:53, 36.59s/i]  "
     ]
    },
    {
     "name": "stdout",
     "output_type": "stream",
     "text": [
      "Train loss: 0.032466263  Val loss: 0.376811  Train acc: 0.9969951923076923  Val acc: 0.875\n"
     ]
    },
    {
     "name": "stderr",
     "output_type": "stream",
     "text": [
      "[840, 18:17:17, 36.45s/i]  "
     ]
    },
    {
     "name": "stdout",
     "output_type": "stream",
     "text": [
      "Train loss: 0.029204302  Val loss: 0.49921915  Train acc: 0.9985977564102564  Val acc: 0.875\n"
     ]
    },
    {
     "name": "stderr",
     "output_type": "stream",
     "text": [
      "[860, 18:34:20, 35.72s/i]  "
     ]
    },
    {
     "name": "stdout",
     "output_type": "stream",
     "text": [
      "Train loss: 0.02741877  Val loss: 0.37838218  Train acc: 0.9975961538461539  Val acc: 0.8671875\n"
     ]
    },
    {
     "name": "stderr",
     "output_type": "stream",
     "text": [
      "[880, 18:51:39, 38.07s/i]  "
     ]
    },
    {
     "name": "stdout",
     "output_type": "stream",
     "text": [
      "Train loss: 0.025987566  Val loss: 0.40988263  Train acc: 0.9981971153846154  Val acc: 0.875\n"
     ]
    },
    {
     "name": "stderr",
     "output_type": "stream",
     "text": [
      "[900, 19:08:54, 35.80s/i]  "
     ]
    },
    {
     "name": "stdout",
     "output_type": "stream",
     "text": [
      "Train loss: 0.02434696  Val loss: 0.37340698  Train acc: 0.9989983974358975  Val acc: 0.8828125\n"
     ]
    },
    {
     "name": "stderr",
     "output_type": "stream",
     "text": [
      "[920, 19:26:22, 37.44s/i]  "
     ]
    },
    {
     "name": "stdout",
     "output_type": "stream",
     "text": [
      "Train loss: 0.023206363  Val loss: 0.48030496  Train acc: 0.9979967948717948  Val acc: 0.875\n"
     ]
    },
    {
     "name": "stderr",
     "output_type": "stream",
     "text": [
      "[940, 19:43:34, 46.17s/i]  "
     ]
    },
    {
     "name": "stdout",
     "output_type": "stream",
     "text": [
      "Train loss: 0.019732306  Val loss: 0.49660614  Train acc: 0.9993990384615384  Val acc: 0.8489583333333334\n"
     ]
    },
    {
     "name": "stderr",
     "output_type": "stream",
     "text": [
      "[960, 20:01:28, 37.58s/i]  "
     ]
    },
    {
     "name": "stdout",
     "output_type": "stream",
     "text": [
      "Train loss: 0.018043634  Val loss: 0.45485702  Train acc: 0.9985977564102564  Val acc: 0.8671875\n"
     ]
    },
    {
     "name": "stderr",
     "output_type": "stream",
     "text": [
      "[980, 20:19:11, 38.16s/i]  "
     ]
    },
    {
     "name": "stdout",
     "output_type": "stream",
     "text": [
      "Train loss: 0.016777111  Val loss: 0.43449572  Train acc: 0.9995993589743589  Val acc: 0.8567708333333334\n"
     ]
    },
    {
     "name": "stderr",
     "output_type": "stream",
     "text": [
      "[1000, 20:36:59, 37.37s/i] "
     ]
    },
    {
     "name": "stdout",
     "output_type": "stream",
     "text": [
      "Train loss: 0.015241056  Val loss: 0.48205268  Train acc: 0.9995993589743589  Val acc: 0.8567708333333334\n",
      "Training ended successfully, saving the results\n",
      "Test loss: 2.120942  Test acc: 0.5234375\n"
     ]
    }
   ],
   "source": [
    "loss, acc = train(\"b\", \"PACS\", \"cartoon\", model; num_iter=num_iter, \n",
    "                                                 check_freq=check_freq, \n",
    "                                                 batchsize=batchsize, \n",
    "                                                 data_path=data_path, \n",
    "                                                 atype=atype);"
   ]
  },
  {
   "cell_type": "code",
   "execution_count": 57,
   "id": "9955474a",
   "metadata": {},
   "outputs": [
    {
     "name": "stdout",
     "output_type": "stream",
     "text": [
      "(11, 11, 3, 64)\n",
      "(1, 1, 64, 1)\n",
      "(5, 5, 64, 192)\n",
      "(1, 1, 192, 1)\n",
      "(3, 3, 192, 384)\n",
      "(1, 1, 384, 1)\n",
      "(3, 3, 384, 256)\n",
      "(1, 1, 256, 1)\n",
      "(3, 3, 256, 256)\n",
      "(1, 1, 256, 1)\n",
      "(4096, 9216)\n",
      "(4096,)\n",
      "(4096, 4096)\n",
      "(4096,)\n",
      "(7, 4096)\n",
      "(7,)\n"
     ]
    }
   ],
   "source": [
    "model = generate_alexnet_model(; pretrained = true);\n",
    "for param in params(model)\n",
    "    param.opt = Adam(; lr=1e-5)\n",
    "    println(size(param))\n",
    "end\n"
   ]
  },
  {
   "cell_type": "code",
   "execution_count": 58,
   "id": "995d624b",
   "metadata": {},
   "outputs": [
    {
     "name": "stdout",
     "output_type": "stream",
     "text": [
      "Datasets are loaded\n"
     ]
    },
    {
     "name": "stderr",
     "output_type": "stream",
     "text": [
      "\r",
      "[1, 00:01, 1.26i/s] "
     ]
    },
    {
     "name": "stdout",
     "output_type": "stream",
     "text": [
      "First batch is trained successfully\n"
     ]
    },
    {
     "name": "stderr",
     "output_type": "stream",
     "text": [
      "[20, 14:48, 48.92s/i] "
     ]
    },
    {
     "name": "stdout",
     "output_type": "stream",
     "text": [
      "Train loss: 1.9850997  Val loss: 1.9525241  Train acc: 0.23998397435897437  Val acc: 0.2526041666666667\n"
     ]
    },
    {
     "name": "stderr",
     "output_type": "stream",
     "text": [
      "[40, 35:16, 44.44s/i]  "
     ]
    },
    {
     "name": "stdout",
     "output_type": "stream",
     "text": [
      "Train loss: 1.6619569  Val loss: 1.6248733  Train acc: 0.34755608974358976  Val acc: 0.3645833333333333\n"
     ]
    },
    {
     "name": "stderr",
     "output_type": "stream",
     "text": [
      "[60, 55:45, 48.28s/i]  "
     ]
    },
    {
     "name": "stdout",
     "output_type": "stream",
     "text": [
      "Train loss: 1.4901892  Val loss: 1.4897054  Train acc: 0.421474358974359  Val acc: 0.4296875\n"
     ]
    },
    {
     "name": "stderr",
     "output_type": "stream",
     "text": [
      "[80, 01:16:17, 44.30s/i]  "
     ]
    },
    {
     "name": "stdout",
     "output_type": "stream",
     "text": [
      "Train loss: 1.3624923  Val loss: 1.3862195  Train acc: 0.4671474358974359  Val acc: 0.453125\n"
     ]
    },
    {
     "name": "stderr",
     "output_type": "stream",
     "text": [
      "[100, 01:36:24, 43.34s/i] "
     ]
    },
    {
     "name": "stdout",
     "output_type": "stream",
     "text": [
      "Train loss: 1.2554932  Val loss: 1.2708596  Train acc: 0.507011217948718  Val acc: 0.4921875\n"
     ]
    },
    {
     "name": "stderr",
     "output_type": "stream",
     "text": [
      "[120, 01:56:25, 43.31s/i]  "
     ]
    },
    {
     "name": "stdout",
     "output_type": "stream",
     "text": [
      "Train loss: 1.1688328  Val loss: 1.1752058  Train acc: 0.5532852564102564  Val acc: 0.5651041666666666\n"
     ]
    },
    {
     "name": "stderr",
     "output_type": "stream",
     "text": [
      "[140, 02:16:22, 47.60s/i]  "
     ]
    },
    {
     "name": "stdout",
     "output_type": "stream",
     "text": [
      "Train loss: 1.0936054  Val loss: 1.0988561  Train acc: 0.5793269230769231  Val acc: 0.5807291666666666\n"
     ]
    },
    {
     "name": "stderr",
     "output_type": "stream",
     "text": [
      "[160, 02:36:23, 43.91s/i]  "
     ]
    },
    {
     "name": "stdout",
     "output_type": "stream",
     "text": [
      "Train loss: 1.031007  Val loss: 1.052233  Train acc: 0.6081730769230769  Val acc: 0.5911458333333334\n"
     ]
    },
    {
     "name": "stderr",
     "output_type": "stream",
     "text": [
      "[180, 02:56:15, 45.30s/i]  "
     ]
    },
    {
     "name": "stdout",
     "output_type": "stream",
     "text": [
      "Train loss: 0.9868508  Val loss: 0.9804261  Train acc: 0.6266025641025641  Val acc: 0.6145833333333334\n"
     ]
    },
    {
     "name": "stderr",
     "output_type": "stream",
     "text": [
      "[200, 03:16:16, 46.82s/i]  "
     ]
    },
    {
     "name": "stdout",
     "output_type": "stream",
     "text": [
      "Train loss: 0.9367182  Val loss: 0.88624877  Train acc: 0.6446314102564102  Val acc: 0.6145833333333334\n"
     ]
    },
    {
     "name": "stderr",
     "output_type": "stream",
     "text": [
      "[220, 03:36:36, 46.07s/i]  "
     ]
    },
    {
     "name": "stdout",
     "output_type": "stream",
     "text": [
      "Train loss: 0.9096242  Val loss: 0.90911907  Train acc: 0.6626602564102564  Val acc: 0.6614583333333334\n"
     ]
    },
    {
     "name": "stderr",
     "output_type": "stream",
     "text": [
      "[240, 03:56:36, 46.27s/i]  "
     ]
    },
    {
     "name": "stdout",
     "output_type": "stream",
     "text": [
      "Train loss: 0.8778768  Val loss: 0.85912234  Train acc: 0.6806891025641025  Val acc: 0.6614583333333334\n"
     ]
    },
    {
     "name": "stderr",
     "output_type": "stream",
     "text": [
      "[260, 04:16:37, 43.40s/i]  "
     ]
    },
    {
     "name": "stdout",
     "output_type": "stream",
     "text": [
      "Train loss: 0.85819733  Val loss: 0.8305966  Train acc: 0.6854967948717948  Val acc: 0.6953125\n"
     ]
    },
    {
     "name": "stderr",
     "output_type": "stream",
     "text": [
      "[280, 04:36:46, 43.99s/i]  "
     ]
    },
    {
     "name": "stdout",
     "output_type": "stream",
     "text": [
      "Train loss: 0.8454591  Val loss: 0.75714064  Train acc: 0.6905048076923077  Val acc: 0.6848958333333334\n"
     ]
    },
    {
     "name": "stderr",
     "output_type": "stream",
     "text": [
      "[300, 04:56:56, 43.64s/i]  "
     ]
    },
    {
     "name": "stdout",
     "output_type": "stream",
     "text": [
      "Train loss: 0.8132256  Val loss: 0.79539925  Train acc: 0.7057291666666666  Val acc: 0.6875\n"
     ]
    },
    {
     "name": "stderr",
     "output_type": "stream",
     "text": [
      "[320, 05:17:01, 43.67s/i]  "
     ]
    },
    {
     "name": "stdout",
     "output_type": "stream",
     "text": [
      "Train loss: 0.8092255  Val loss: 0.7389934  Train acc: 0.711738782051282  Val acc: 0.7135416666666666\n"
     ]
    },
    {
     "name": "stderr",
     "output_type": "stream",
     "text": [
      "[340, 05:37:06, 44.11s/i]  "
     ]
    },
    {
     "name": "stdout",
     "output_type": "stream",
     "text": [
      "Train loss: 0.79291046  Val loss: 0.70827794  Train acc: 0.7201522435897436  Val acc: 0.7786458333333334\n"
     ]
    },
    {
     "name": "stderr",
     "output_type": "stream",
     "text": [
      "[360, 05:57:24, 44.41s/i]  "
     ]
    },
    {
     "name": "stdout",
     "output_type": "stream",
     "text": [
      "Train loss: 0.7861707  Val loss: 0.75506926  Train acc: 0.7275641025641025  Val acc: 0.7447916666666666\n"
     ]
    },
    {
     "name": "stderr",
     "output_type": "stream",
     "text": [
      "[380, 06:17:30, 43.12s/i]  "
     ]
    },
    {
     "name": "stdout",
     "output_type": "stream",
     "text": [
      "Train loss: 0.78226066  Val loss: 0.7340476  Train acc: 0.7313701923076923  Val acc: 0.71875\n"
     ]
    },
    {
     "name": "stderr",
     "output_type": "stream",
     "text": [
      "[400, 06:37:36, 45.13s/i]  "
     ]
    },
    {
     "name": "stdout",
     "output_type": "stream",
     "text": [
      "Train loss: 0.78607833  Val loss: 0.7365288  Train acc: 0.7333733974358975  Val acc: 0.7604166666666666\n"
     ]
    },
    {
     "name": "stderr",
     "output_type": "stream",
     "text": [
      "[420, 06:57:44, 43.19s/i]  "
     ]
    },
    {
     "name": "stdout",
     "output_type": "stream",
     "text": [
      "Train loss: 0.76406777  Val loss: 0.60680586  Train acc: 0.7425881410256411  Val acc: 0.7734375\n"
     ]
    },
    {
     "name": "stderr",
     "output_type": "stream",
     "text": [
      "[440, 07:17:55, 43.43s/i]  "
     ]
    },
    {
     "name": "stdout",
     "output_type": "stream",
     "text": [
      "Train loss: 0.7617452  Val loss: 0.657304  Train acc: 0.7453926282051282  Val acc: 0.7604166666666666\n"
     ]
    },
    {
     "name": "stderr",
     "output_type": "stream",
     "text": [
      "[460, 07:38:28, 46.25s/i]  "
     ]
    },
    {
     "name": "stdout",
     "output_type": "stream",
     "text": [
      "Train loss: 0.7721844  Val loss: 0.73444796  Train acc: 0.7461939102564102  Val acc: 0.7395833333333334\n"
     ]
    },
    {
     "name": "stderr",
     "output_type": "stream",
     "text": [
      "[480, 07:59:08, 46.30s/i]  "
     ]
    },
    {
     "name": "stdout",
     "output_type": "stream",
     "text": [
      "Train loss: 0.78027207  Val loss: 0.79909295  Train acc: 0.7483974358974359  Val acc: 0.7317708333333334\n"
     ]
    },
    {
     "name": "stderr",
     "output_type": "stream",
     "text": [
      "[500, 08:19:30, 44.02s/i]  "
     ]
    },
    {
     "name": "stdout",
     "output_type": "stream",
     "text": [
      "Train loss: 0.7704417  Val loss: 0.7857141  Train acc: 0.7522035256410257  Val acc: 0.7630208333333334\n"
     ]
    },
    {
     "name": "stderr",
     "output_type": "stream",
     "text": [
      "[520, 08:39:58, 44.17s/i]  "
     ]
    },
    {
     "name": "stdout",
     "output_type": "stream",
     "text": [
      "Train loss: 0.76069283  Val loss: 0.76871973  Train acc: 0.7518028846153846  Val acc: 0.7265625\n"
     ]
    },
    {
     "name": "stderr",
     "output_type": "stream",
     "text": [
      "[540, 09:00:40, 43.11s/i]  "
     ]
    },
    {
     "name": "stdout",
     "output_type": "stream",
     "text": [
      "Train loss: 0.754643  Val loss: 0.72464377  Train acc: 0.7526041666666666  Val acc: 0.765625\n"
     ]
    },
    {
     "name": "stderr",
     "output_type": "stream",
     "text": [
      "[560, 09:21:03, 46.48s/i]  "
     ]
    },
    {
     "name": "stdout",
     "output_type": "stream",
     "text": [
      "Train loss: 0.77504593  Val loss: 0.6695079  Train acc: 0.7556089743589743  Val acc: 0.7682291666666666\n"
     ]
    },
    {
     "name": "stderr",
     "output_type": "stream",
     "text": [
      "[580, 09:41:16, 45.69s/i]  "
     ]
    },
    {
     "name": "stdout",
     "output_type": "stream",
     "text": [
      "Train loss: 0.76380736  Val loss: 0.68638176  Train acc: 0.7568108974358975  Val acc: 0.7734375\n"
     ]
    },
    {
     "name": "stderr",
     "output_type": "stream",
     "text": [
      "[600, 10:01:20, 43.26s/i]  "
     ]
    },
    {
     "name": "stdout",
     "output_type": "stream",
     "text": [
      "Train loss: 0.7706842  Val loss: 0.7090109  Train acc: 0.7640224358974359  Val acc: 0.7526041666666666\n"
     ]
    },
    {
     "name": "stderr",
     "output_type": "stream",
     "text": [
      "[620, 10:21:48, 43.49s/i]  "
     ]
    },
    {
     "name": "stdout",
     "output_type": "stream",
     "text": [
      "Train loss: 0.7749186  Val loss: 0.6613582  Train acc: 0.7646233974358975  Val acc: 0.7786458333333334\n"
     ]
    },
    {
     "name": "stderr",
     "output_type": "stream",
     "text": [
      "[640, 10:42:08, 43.15s/i]  "
     ]
    },
    {
     "name": "stdout",
     "output_type": "stream",
     "text": [
      "Train loss: 0.7629622  Val loss: 0.8190255  Train acc: 0.7706330128205128  Val acc: 0.7734375\n"
     ]
    },
    {
     "name": "stderr",
     "output_type": "stream",
     "text": [
      "[660, 11:02:23, 44.34s/i]  "
     ]
    },
    {
     "name": "stdout",
     "output_type": "stream",
     "text": [
      "Train loss: 0.7734842  Val loss: 0.7248948  Train acc: 0.7674278846153846  Val acc: 0.7994791666666666\n"
     ]
    },
    {
     "name": "stderr",
     "output_type": "stream",
     "text": [
      "[680, 11:22:38, 45.57s/i]  "
     ]
    },
    {
     "name": "stdout",
     "output_type": "stream",
     "text": [
      "Train loss: 0.7787398  Val loss: 0.72617525  Train acc: 0.7688301282051282  Val acc: 0.7552083333333334\n"
     ]
    },
    {
     "name": "stderr",
     "output_type": "stream",
     "text": [
      "[700, 11:43:10, 42.97s/i]  "
     ]
    },
    {
     "name": "stdout",
     "output_type": "stream",
     "text": [
      "Train loss: 0.7789641  Val loss: 0.6567799  Train acc: 0.7698317307692307  Val acc: 0.7604166666666666\n"
     ]
    },
    {
     "name": "stderr",
     "output_type": "stream",
     "text": [
      "[720, 12:03:47, 47.08s/i]  "
     ]
    },
    {
     "name": "stdout",
     "output_type": "stream",
     "text": [
      "Train loss: 0.77257717  Val loss: 0.73053724  Train acc: 0.7714342948717948  Val acc: 0.7864583333333334\n"
     ]
    },
    {
     "name": "stderr",
     "output_type": "stream",
     "text": [
      "[740, 12:24:18, 47.02s/i]  "
     ]
    },
    {
     "name": "stdout",
     "output_type": "stream",
     "text": [
      "Train loss: 0.7745486  Val loss: 0.84312534  Train acc: 0.7732371794871795  Val acc: 0.7734375\n"
     ]
    },
    {
     "name": "stderr",
     "output_type": "stream",
     "text": [
      "[760, 12:44:28, 45.08s/i]  "
     ]
    },
    {
     "name": "stdout",
     "output_type": "stream",
     "text": [
      "Train loss: 0.7874927  Val loss: 0.860986  Train acc: 0.7764423076923077  Val acc: 0.7864583333333334\n"
     ]
    },
    {
     "name": "stderr",
     "output_type": "stream",
     "text": [
      "[780, 13:04:28, 45.75s/i]  "
     ]
    },
    {
     "name": "stdout",
     "output_type": "stream",
     "text": [
      "Train loss: 0.7963572  Val loss: 0.66889596  Train acc: 0.7766426282051282  Val acc: 0.7838541666666666\n"
     ]
    },
    {
     "name": "stderr",
     "output_type": "stream",
     "text": [
      "[800, 13:24:44, 42.67s/i]  "
     ]
    },
    {
     "name": "stdout",
     "output_type": "stream",
     "text": [
      "Train loss: 0.7864923  Val loss: 0.7161768  Train acc: 0.7770432692307693  Val acc: 0.8046875\n"
     ]
    },
    {
     "name": "stderr",
     "output_type": "stream",
     "text": [
      "[820, 13:45:11, 46.73s/i]  "
     ]
    },
    {
     "name": "stdout",
     "output_type": "stream",
     "text": [
      "Train loss: 0.803454  Val loss: 0.8035369  Train acc: 0.7732371794871795  Val acc: 0.7890625\n"
     ]
    },
    {
     "name": "stderr",
     "output_type": "stream",
     "text": [
      "[840, 14:05:21, 48.03s/i]  "
     ]
    },
    {
     "name": "stdout",
     "output_type": "stream",
     "text": [
      "Train loss: 0.79256356  Val loss: 0.8122961  Train acc: 0.7762419871794872  Val acc: 0.7760416666666666\n"
     ]
    },
    {
     "name": "stderr",
     "output_type": "stream",
     "text": [
      "[860, 14:25:42, 47.23s/i]  "
     ]
    },
    {
     "name": "stdout",
     "output_type": "stream",
     "text": [
      "Train loss: 0.81655324  Val loss: 0.7881315  Train acc: 0.7738381410256411  Val acc: 0.7942708333333334\n"
     ]
    },
    {
     "name": "stderr",
     "output_type": "stream",
     "text": [
      "[880, 14:46:11, 48.92s/i]  "
     ]
    },
    {
     "name": "stdout",
     "output_type": "stream",
     "text": [
      "Train loss: 0.79734397  Val loss: 0.7220215  Train acc: 0.7800480769230769  Val acc: 0.7786458333333334\n"
     ]
    },
    {
     "name": "stderr",
     "output_type": "stream",
     "text": [
      "[900, 15:06:36, 46.77s/i]  "
     ]
    },
    {
     "name": "stdout",
     "output_type": "stream",
     "text": [
      "Train loss: 0.8104356  Val loss: 0.7122774  Train acc: 0.7792467948717948  Val acc: 0.8046875\n"
     ]
    },
    {
     "name": "stderr",
     "output_type": "stream",
     "text": [
      "[920, 15:26:52, 48.24s/i]  "
     ]
    },
    {
     "name": "stdout",
     "output_type": "stream",
     "text": [
      "Train loss: 0.82887274  Val loss: 0.6554241  Train acc: 0.7780448717948718  Val acc: 0.8020833333333334\n"
     ]
    },
    {
     "name": "stderr",
     "output_type": "stream",
     "text": [
      "[940, 15:47:16, 47.24s/i]  "
     ]
    },
    {
     "name": "stdout",
     "output_type": "stream",
     "text": [
      "Train loss: 0.8025162  Val loss: 0.89297706  Train acc: 0.7796474358974359  Val acc: 0.8020833333333334\n"
     ]
    },
    {
     "name": "stderr",
     "output_type": "stream",
     "text": [
      "[960, 16:08:45, 51.79s/i]  "
     ]
    },
    {
     "name": "stdout",
     "output_type": "stream",
     "text": [
      "Train loss: 0.79509354  Val loss: 0.7484415  Train acc: 0.7794471153846154  Val acc: 0.7838541666666666\n"
     ]
    },
    {
     "name": "stderr",
     "output_type": "stream",
     "text": [
      "[980, 16:29:28, 47.14s/i]  "
     ]
    },
    {
     "name": "stdout",
     "output_type": "stream",
     "text": [
      "Train loss: 0.81570536  Val loss: 0.70817924  Train acc: 0.7814503205128205  Val acc: 0.7864583333333334\n"
     ]
    },
    {
     "name": "stderr",
     "output_type": "stream",
     "text": [
      "[1000, 16:50:15, 50.97s/i] "
     ]
    },
    {
     "name": "stdout",
     "output_type": "stream",
     "text": [
      "Train loss: 0.8190168  Val loss: 0.7325484  Train acc: 0.7810496794871795  Val acc: 0.7760416666666666\n",
      "Training ended successfully, saving the results\n",
      "Test loss: 2.8079996  Test acc: 0.4609375\n"
     ]
    }
   ],
   "source": [
    "loss, acc = train(\"gs\", \"PACS\", \"cartoon\", model; num_iter=num_iter, \n",
    "                                                  check_freq=check_freq, \n",
    "                                                  batchsize=batchsize, \n",
    "                                                  data_path=data_path, \n",
    "                                                  atype=atype);"
   ]
  },
  {
   "cell_type": "code",
   "execution_count": null,
   "id": "ed18a081",
   "metadata": {},
   "outputs": [],
   "source": []
  },
  {
   "cell_type": "code",
   "execution_count": 93,
   "id": "44114f6d",
   "metadata": {},
   "outputs": [],
   "source": [
    "best_model_b = load(\"/Users/ufukaltun/Documents/koç/dersler/ku deep learning/project_final/results_b_target_cartoon.jld2\")[\"results\"];"
   ]
  },
  {
   "cell_type": "code",
   "execution_count": 94,
   "id": "7ee4bd66",
   "metadata": {},
   "outputs": [],
   "source": [
    "best_model_b = reshape(collect(Float32,flatten(best_model_b)),(4,:));"
   ]
  },
  {
   "cell_type": "code",
   "execution_count": 95,
   "id": "270d23c8",
   "metadata": {},
   "outputs": [
    {
     "data": {
      "image/svg+xml": [
       "<?xml version=\"1.0\" encoding=\"utf-8\"?>\n",
       "<svg xmlns=\"http://www.w3.org/2000/svg\" xmlns:xlink=\"http://www.w3.org/1999/xlink\" width=\"600\" height=\"400\" viewBox=\"0 0 2400 1600\">\n",
       "<defs>\n",
       "  <clipPath id=\"clip310\">\n",
       "    <rect x=\"0\" y=\"0\" width=\"2400\" height=\"1600\"/>\n",
       "  </clipPath>\n",
       "</defs>\n",
       "<path clip-path=\"url(#clip310)\" d=\"\n",
       "M0 1600 L2400 1600 L2400 0 L0 0  Z\n",
       "  \" fill=\"#ffffff\" fill-rule=\"evenodd\" fill-opacity=\"1\"/>\n",
       "<defs>\n",
       "  <clipPath id=\"clip311\">\n",
       "    <rect x=\"480\" y=\"0\" width=\"1681\" height=\"1600\"/>\n",
       "  </clipPath>\n",
       "</defs>\n",
       "<path clip-path=\"url(#clip310)\" d=\"\n",
       "M219.38 1423.18 L2352.76 1423.18 L2352.76 47.2441 L219.38 47.2441  Z\n",
       "  \" fill=\"#ffffff\" fill-rule=\"evenodd\" fill-opacity=\"1\"/>\n",
       "<defs>\n",
       "  <clipPath id=\"clip312\">\n",
       "    <rect x=\"219\" y=\"47\" width=\"2134\" height=\"1377\"/>\n",
       "  </clipPath>\n",
       "</defs>\n",
       "<polyline clip-path=\"url(#clip312)\" style=\"stroke:#000000; stroke-linecap:butt; stroke-linejoin:round; stroke-width:2; stroke-opacity:0.1; fill:none\" points=\"\n",
       "  238.685,1423.18 238.685,47.2441 \n",
       "  \"/>\n",
       "<polyline clip-path=\"url(#clip312)\" style=\"stroke:#000000; stroke-linecap:butt; stroke-linejoin:round; stroke-width:2; stroke-opacity:0.1; fill:none\" points=\"\n",
       "  649.423,1423.18 649.423,47.2441 \n",
       "  \"/>\n",
       "<polyline clip-path=\"url(#clip312)\" style=\"stroke:#000000; stroke-linecap:butt; stroke-linejoin:round; stroke-width:2; stroke-opacity:0.1; fill:none\" points=\"\n",
       "  1060.16,1423.18 1060.16,47.2441 \n",
       "  \"/>\n",
       "<polyline clip-path=\"url(#clip312)\" style=\"stroke:#000000; stroke-linecap:butt; stroke-linejoin:round; stroke-width:2; stroke-opacity:0.1; fill:none\" points=\"\n",
       "  1470.9,1423.18 1470.9,47.2441 \n",
       "  \"/>\n",
       "<polyline clip-path=\"url(#clip312)\" style=\"stroke:#000000; stroke-linecap:butt; stroke-linejoin:round; stroke-width:2; stroke-opacity:0.1; fill:none\" points=\"\n",
       "  1881.64,1423.18 1881.64,47.2441 \n",
       "  \"/>\n",
       "<polyline clip-path=\"url(#clip312)\" style=\"stroke:#000000; stroke-linecap:butt; stroke-linejoin:round; stroke-width:2; stroke-opacity:0.1; fill:none\" points=\"\n",
       "  2292.38,1423.18 2292.38,47.2441 \n",
       "  \"/>\n",
       "<polyline clip-path=\"url(#clip310)\" style=\"stroke:#000000; stroke-linecap:butt; stroke-linejoin:round; stroke-width:4; stroke-opacity:1; fill:none\" points=\"\n",
       "  219.38,1423.18 2352.76,1423.18 \n",
       "  \"/>\n",
       "<polyline clip-path=\"url(#clip310)\" style=\"stroke:#000000; stroke-linecap:butt; stroke-linejoin:round; stroke-width:4; stroke-opacity:1; fill:none\" points=\"\n",
       "  238.685,1423.18 238.685,1404.28 \n",
       "  \"/>\n",
       "<polyline clip-path=\"url(#clip310)\" style=\"stroke:#000000; stroke-linecap:butt; stroke-linejoin:round; stroke-width:4; stroke-opacity:1; fill:none\" points=\"\n",
       "  649.423,1423.18 649.423,1404.28 \n",
       "  \"/>\n",
       "<polyline clip-path=\"url(#clip310)\" style=\"stroke:#000000; stroke-linecap:butt; stroke-linejoin:round; stroke-width:4; stroke-opacity:1; fill:none\" points=\"\n",
       "  1060.16,1423.18 1060.16,1404.28 \n",
       "  \"/>\n",
       "<polyline clip-path=\"url(#clip310)\" style=\"stroke:#000000; stroke-linecap:butt; stroke-linejoin:round; stroke-width:4; stroke-opacity:1; fill:none\" points=\"\n",
       "  1470.9,1423.18 1470.9,1404.28 \n",
       "  \"/>\n",
       "<polyline clip-path=\"url(#clip310)\" style=\"stroke:#000000; stroke-linecap:butt; stroke-linejoin:round; stroke-width:4; stroke-opacity:1; fill:none\" points=\"\n",
       "  1881.64,1423.18 1881.64,1404.28 \n",
       "  \"/>\n",
       "<polyline clip-path=\"url(#clip310)\" style=\"stroke:#000000; stroke-linecap:butt; stroke-linejoin:round; stroke-width:4; stroke-opacity:1; fill:none\" points=\"\n",
       "  2292.38,1423.18 2292.38,1404.28 \n",
       "  \"/>\n",
       "<path clip-path=\"url(#clip310)\" d=\"M238.685 1454.1 Q235.074 1454.1 233.245 1457.66 Q231.44 1461.2 231.44 1468.33 Q231.44 1475.44 233.245 1479.01 Q235.074 1482.55 238.685 1482.55 Q242.319 1482.55 244.125 1479.01 Q245.953 1475.44 245.953 1468.33 Q245.953 1461.2 244.125 1457.66 Q242.319 1454.1 238.685 1454.1 M238.685 1450.39 Q244.495 1450.39 247.551 1455 Q250.629 1459.58 250.629 1468.33 Q250.629 1477.06 247.551 1481.67 Q244.495 1486.25 238.685 1486.25 Q232.875 1486.25 229.796 1481.67 Q226.74 1477.06 226.74 1468.33 Q226.74 1459.58 229.796 1455 Q232.875 1450.39 238.685 1450.39 Z\" fill=\"#000000\" fill-rule=\"evenodd\" fill-opacity=\"1\" /><path clip-path=\"url(#clip310)\" d=\"M624.111 1481.64 L631.75 1481.64 L631.75 1455.28 L623.44 1456.95 L623.44 1452.69 L631.704 1451.02 L636.379 1451.02 L636.379 1481.64 L644.018 1481.64 L644.018 1485.58 L624.111 1485.58 L624.111 1481.64 Z\" fill=\"#000000\" fill-rule=\"evenodd\" fill-opacity=\"1\" /><path clip-path=\"url(#clip310)\" d=\"M663.463 1454.1 Q659.852 1454.1 658.023 1457.66 Q656.217 1461.2 656.217 1468.33 Q656.217 1475.44 658.023 1479.01 Q659.852 1482.55 663.463 1482.55 Q667.097 1482.55 668.902 1479.01 Q670.731 1475.44 670.731 1468.33 Q670.731 1461.2 668.902 1457.66 Q667.097 1454.1 663.463 1454.1 M663.463 1450.39 Q669.273 1450.39 672.328 1455 Q675.407 1459.58 675.407 1468.33 Q675.407 1477.06 672.328 1481.67 Q669.273 1486.25 663.463 1486.25 Q657.652 1486.25 654.574 1481.67 Q651.518 1477.06 651.518 1468.33 Q651.518 1459.58 654.574 1455 Q657.652 1450.39 663.463 1450.39 Z\" fill=\"#000000\" fill-rule=\"evenodd\" fill-opacity=\"1\" /><path clip-path=\"url(#clip310)\" d=\"M1038.94 1481.64 L1055.25 1481.64 L1055.25 1485.58 L1033.31 1485.58 L1033.31 1481.64 Q1035.97 1478.89 1040.56 1474.26 Q1045.16 1469.61 1046.34 1468.27 Q1048.59 1465.74 1049.47 1464.01 Q1050.37 1462.25 1050.37 1460.56 Q1050.37 1457.8 1048.43 1456.07 Q1046.5 1454.33 1043.4 1454.33 Q1041.2 1454.33 1038.75 1455.09 Q1036.32 1455.86 1033.54 1457.41 L1033.54 1452.69 Q1036.37 1451.55 1038.82 1450.97 Q1041.27 1450.39 1043.31 1450.39 Q1048.68 1450.39 1051.87 1453.08 Q1055.07 1455.77 1055.07 1460.26 Q1055.07 1462.39 1054.26 1464.31 Q1053.47 1466.2 1051.37 1468.8 Q1050.79 1469.47 1047.69 1472.69 Q1044.58 1475.88 1038.94 1481.64 Z\" fill=\"#000000\" fill-rule=\"evenodd\" fill-opacity=\"1\" /><path clip-path=\"url(#clip310)\" d=\"M1075.07 1454.1 Q1071.46 1454.1 1069.63 1457.66 Q1067.82 1461.2 1067.82 1468.33 Q1067.82 1475.44 1069.63 1479.01 Q1071.46 1482.55 1075.07 1482.55 Q1078.7 1482.55 1080.51 1479.01 Q1082.34 1475.44 1082.34 1468.33 Q1082.34 1461.2 1080.51 1457.66 Q1078.7 1454.1 1075.07 1454.1 M1075.07 1450.39 Q1080.88 1450.39 1083.93 1455 Q1087.01 1459.58 1087.01 1468.33 Q1087.01 1477.06 1083.93 1481.67 Q1080.88 1486.25 1075.07 1486.25 Q1069.26 1486.25 1066.18 1481.67 Q1063.12 1477.06 1063.12 1468.33 Q1063.12 1459.58 1066.18 1455 Q1069.26 1450.39 1075.07 1450.39 Z\" fill=\"#000000\" fill-rule=\"evenodd\" fill-opacity=\"1\" /><path clip-path=\"url(#clip310)\" d=\"M1459.74 1466.95 Q1463.1 1467.66 1464.97 1469.93 Q1466.87 1472.2 1466.87 1475.53 Q1466.87 1480.65 1463.35 1483.45 Q1459.84 1486.25 1453.35 1486.25 Q1451.18 1486.25 1448.86 1485.81 Q1446.57 1485.39 1444.12 1484.54 L1444.12 1480.02 Q1446.06 1481.16 1448.38 1481.74 Q1450.69 1482.32 1453.22 1482.32 Q1457.61 1482.32 1459.91 1480.58 Q1462.22 1478.84 1462.22 1475.53 Q1462.22 1472.48 1460.07 1470.77 Q1457.94 1469.03 1454.12 1469.03 L1450.09 1469.03 L1450.09 1465.19 L1454.3 1465.19 Q1457.75 1465.19 1459.58 1463.82 Q1461.41 1462.43 1461.41 1459.84 Q1461.41 1457.18 1459.51 1455.77 Q1457.64 1454.33 1454.12 1454.33 Q1452.2 1454.33 1450 1454.75 Q1447.8 1455.16 1445.16 1456.04 L1445.16 1451.88 Q1447.82 1451.14 1450.14 1450.77 Q1452.47 1450.39 1454.53 1450.39 Q1459.86 1450.39 1462.96 1452.83 Q1466.06 1455.23 1466.06 1459.35 Q1466.06 1462.22 1464.42 1464.21 Q1462.78 1466.18 1459.74 1466.95 Z\" fill=\"#000000\" fill-rule=\"evenodd\" fill-opacity=\"1\" /><path clip-path=\"url(#clip310)\" d=\"M1485.74 1454.1 Q1482.13 1454.1 1480.3 1457.66 Q1478.49 1461.2 1478.49 1468.33 Q1478.49 1475.44 1480.3 1479.01 Q1482.13 1482.55 1485.74 1482.55 Q1489.37 1482.55 1491.18 1479.01 Q1493.01 1475.44 1493.01 1468.33 Q1493.01 1461.2 1491.18 1457.66 Q1489.37 1454.1 1485.74 1454.1 M1485.74 1450.39 Q1491.55 1450.39 1494.6 1455 Q1497.68 1459.58 1497.68 1468.33 Q1497.68 1477.06 1494.6 1481.67 Q1491.55 1486.25 1485.74 1486.25 Q1479.93 1486.25 1476.85 1481.67 Q1473.79 1477.06 1473.79 1468.33 Q1473.79 1459.58 1476.85 1455 Q1479.93 1450.39 1485.74 1450.39 Z\" fill=\"#000000\" fill-rule=\"evenodd\" fill-opacity=\"1\" /><path clip-path=\"url(#clip310)\" d=\"M1869.81 1455.09 L1858 1473.54 L1869.81 1473.54 L1869.81 1455.09 M1868.58 1451.02 L1874.46 1451.02 L1874.46 1473.54 L1879.39 1473.54 L1879.39 1477.43 L1874.46 1477.43 L1874.46 1485.58 L1869.81 1485.58 L1869.81 1477.43 L1854.21 1477.43 L1854.21 1472.92 L1868.58 1451.02 Z\" fill=\"#000000\" fill-rule=\"evenodd\" fill-opacity=\"1\" /><path clip-path=\"url(#clip310)\" d=\"M1897.12 1454.1 Q1893.51 1454.1 1891.69 1457.66 Q1889.88 1461.2 1889.88 1468.33 Q1889.88 1475.44 1891.69 1479.01 Q1893.51 1482.55 1897.12 1482.55 Q1900.76 1482.55 1902.56 1479.01 Q1904.39 1475.44 1904.39 1468.33 Q1904.39 1461.2 1902.56 1457.66 Q1900.76 1454.1 1897.12 1454.1 M1897.12 1450.39 Q1902.94 1450.39 1905.99 1455 Q1909.07 1459.58 1909.07 1468.33 Q1909.07 1477.06 1905.99 1481.67 Q1902.94 1486.25 1897.12 1486.25 Q1891.31 1486.25 1888.24 1481.67 Q1885.18 1477.06 1885.18 1468.33 Q1885.18 1459.58 1888.24 1455 Q1891.31 1450.39 1897.12 1450.39 Z\" fill=\"#000000\" fill-rule=\"evenodd\" fill-opacity=\"1\" /><path clip-path=\"url(#clip310)\" d=\"M2267.08 1451.02 L2285.43 1451.02 L2285.43 1454.96 L2271.36 1454.96 L2271.36 1463.43 Q2272.38 1463.08 2273.4 1462.92 Q2274.41 1462.73 2275.43 1462.73 Q2281.22 1462.73 2284.6 1465.9 Q2287.98 1469.08 2287.98 1474.49 Q2287.98 1480.07 2284.51 1483.17 Q2281.03 1486.25 2274.72 1486.25 Q2272.54 1486.25 2270.27 1485.88 Q2268.03 1485.51 2265.62 1484.77 L2265.62 1480.07 Q2267.7 1481.2 2269.92 1481.76 Q2272.15 1482.32 2274.62 1482.32 Q2278.63 1482.32 2280.97 1480.21 Q2283.3 1478.1 2283.3 1474.49 Q2283.3 1470.88 2280.97 1468.77 Q2278.63 1466.67 2274.62 1466.67 Q2272.75 1466.67 2270.87 1467.08 Q2269.02 1467.5 2267.08 1468.38 L2267.08 1451.02 Z\" fill=\"#000000\" fill-rule=\"evenodd\" fill-opacity=\"1\" /><path clip-path=\"url(#clip310)\" d=\"M2307.19 1454.1 Q2303.58 1454.1 2301.75 1457.66 Q2299.95 1461.2 2299.95 1468.33 Q2299.95 1475.44 2301.75 1479.01 Q2303.58 1482.55 2307.19 1482.55 Q2310.83 1482.55 2312.63 1479.01 Q2314.46 1475.44 2314.46 1468.33 Q2314.46 1461.2 2312.63 1457.66 Q2310.83 1454.1 2307.19 1454.1 M2307.19 1450.39 Q2313 1450.39 2316.06 1455 Q2319.14 1459.58 2319.14 1468.33 Q2319.14 1477.06 2316.06 1481.67 Q2313 1486.25 2307.19 1486.25 Q2301.38 1486.25 2298.3 1481.67 Q2295.25 1477.06 2295.25 1468.33 Q2295.25 1459.58 2298.3 1455 Q2301.38 1450.39 2307.19 1450.39 Z\" fill=\"#000000\" fill-rule=\"evenodd\" fill-opacity=\"1\" /><path clip-path=\"url(#clip310)\" d=\"M1135.63 1520.52 L1142.06 1520.52 L1142.06 1568.04 L1135.63 1568.04 L1135.63 1520.52 Z\" fill=\"#000000\" fill-rule=\"evenodd\" fill-opacity=\"1\" /><path clip-path=\"url(#clip310)\" d=\"M1160.39 1522.27 L1160.39 1532.4 L1172.46 1532.4 L1172.46 1536.95 L1160.39 1536.95 L1160.39 1556.3 Q1160.39 1560.66 1161.57 1561.9 Q1162.78 1563.14 1166.44 1563.14 L1172.46 1563.14 L1172.46 1568.04 L1166.44 1568.04 Q1159.66 1568.04 1157.08 1565.53 Q1154.5 1562.98 1154.5 1556.3 L1154.5 1536.95 L1150.21 1536.95 L1150.21 1532.4 L1154.5 1532.4 L1154.5 1522.27 L1160.39 1522.27 Z\" fill=\"#000000\" fill-rule=\"evenodd\" fill-opacity=\"1\" /><path clip-path=\"url(#clip310)\" d=\"M1210.65 1548.76 L1210.65 1551.62 L1183.72 1551.62 Q1184.11 1557.67 1187.35 1560.85 Q1190.63 1564 1196.45 1564 Q1199.83 1564 1202.98 1563.17 Q1206.16 1562.35 1209.28 1560.69 L1209.28 1566.23 Q1206.13 1567.57 1202.82 1568.27 Q1199.51 1568.97 1196.1 1568.97 Q1187.57 1568.97 1182.58 1564 Q1177.61 1559.04 1177.61 1550.57 Q1177.61 1541.82 1182.32 1536.69 Q1187.07 1531.54 1195.09 1531.54 Q1202.28 1531.54 1206.45 1536.18 Q1210.65 1540.8 1210.65 1548.76 M1204.79 1547.04 Q1204.73 1542.23 1202.09 1539.37 Q1199.48 1536.5 1195.15 1536.5 Q1190.25 1536.5 1187.29 1539.27 Q1184.36 1542.04 1183.91 1547.07 L1204.79 1547.04 Z\" fill=\"#000000\" fill-rule=\"evenodd\" fill-opacity=\"1\" /><path clip-path=\"url(#clip310)\" d=\"M1240.92 1537.87 Q1239.93 1537.3 1238.75 1537.04 Q1237.61 1536.76 1236.21 1536.76 Q1231.24 1536.76 1228.57 1540 Q1225.93 1543.22 1225.93 1549.27 L1225.93 1568.04 L1220.04 1568.04 L1220.04 1532.4 L1225.93 1532.4 L1225.93 1537.93 Q1227.77 1534.69 1230.73 1533.13 Q1233.69 1531.54 1237.93 1531.54 Q1238.53 1531.54 1239.26 1531.63 Q1240 1531.7 1240.89 1531.85 L1240.92 1537.87 Z\" fill=\"#000000\" fill-rule=\"evenodd\" fill-opacity=\"1\" /><path clip-path=\"url(#clip310)\" d=\"M1263.26 1550.12 Q1256.17 1550.12 1253.43 1551.75 Q1250.69 1553.37 1250.69 1557.29 Q1250.69 1560.4 1252.73 1562.25 Q1254.8 1564.07 1258.33 1564.07 Q1263.2 1564.07 1266.13 1560.63 Q1269.09 1557.16 1269.09 1551.43 L1269.09 1550.12 L1263.26 1550.12 M1274.94 1547.71 L1274.94 1568.04 L1269.09 1568.04 L1269.09 1562.63 Q1267.08 1565.88 1264.09 1567.44 Q1261.1 1568.97 1256.77 1568.97 Q1251.3 1568.97 1248.05 1565.91 Q1244.83 1562.82 1244.83 1557.67 Q1244.83 1551.65 1248.84 1548.6 Q1252.89 1545.54 1260.88 1545.54 L1269.09 1545.54 L1269.09 1544.97 Q1269.09 1540.93 1266.41 1538.73 Q1263.77 1536.5 1258.97 1536.5 Q1255.91 1536.5 1253.01 1537.23 Q1250.12 1537.97 1247.44 1539.43 L1247.44 1534.02 Q1250.66 1532.78 1253.68 1532.17 Q1256.71 1531.54 1259.57 1531.54 Q1267.31 1531.54 1271.12 1535.55 Q1274.94 1539.56 1274.94 1547.71 Z\" fill=\"#000000\" fill-rule=\"evenodd\" fill-opacity=\"1\" /><path clip-path=\"url(#clip310)\" d=\"M1292.8 1522.27 L1292.8 1532.4 L1304.86 1532.4 L1304.86 1536.95 L1292.8 1536.95 L1292.8 1556.3 Q1292.8 1560.66 1293.98 1561.9 Q1295.19 1563.14 1298.85 1563.14 L1304.86 1563.14 L1304.86 1568.04 L1298.85 1568.04 Q1292.07 1568.04 1289.49 1565.53 Q1286.91 1562.98 1286.91 1556.3 L1286.91 1536.95 L1282.61 1536.95 L1282.61 1532.4 L1286.91 1532.4 L1286.91 1522.27 L1292.8 1522.27 Z\" fill=\"#000000\" fill-rule=\"evenodd\" fill-opacity=\"1\" /><path clip-path=\"url(#clip310)\" d=\"M1312.57 1532.4 L1318.42 1532.4 L1318.42 1568.04 L1312.57 1568.04 L1312.57 1532.4 M1312.57 1518.52 L1318.42 1518.52 L1318.42 1525.93 L1312.57 1525.93 L1312.57 1518.52 Z\" fill=\"#000000\" fill-rule=\"evenodd\" fill-opacity=\"1\" /><path clip-path=\"url(#clip310)\" d=\"M1344.49 1536.5 Q1339.78 1536.5 1337.04 1540.19 Q1334.3 1543.85 1334.3 1550.25 Q1334.3 1556.65 1337.01 1560.34 Q1339.75 1564 1344.49 1564 Q1349.17 1564 1351.91 1560.31 Q1354.64 1556.62 1354.64 1550.25 Q1354.64 1543.92 1351.91 1540.23 Q1349.17 1536.5 1344.49 1536.5 M1344.49 1531.54 Q1352.13 1531.54 1356.49 1536.5 Q1360.85 1541.47 1360.85 1550.25 Q1360.85 1559 1356.49 1564 Q1352.13 1568.97 1344.49 1568.97 Q1336.82 1568.97 1332.46 1564 Q1328.13 1559 1328.13 1550.25 Q1328.13 1541.47 1332.46 1536.5 Q1336.82 1531.54 1344.49 1531.54 Z\" fill=\"#000000\" fill-rule=\"evenodd\" fill-opacity=\"1\" /><path clip-path=\"url(#clip310)\" d=\"M1400.19 1546.53 L1400.19 1568.04 L1394.33 1568.04 L1394.33 1546.72 Q1394.33 1541.66 1392.36 1539.14 Q1390.39 1536.63 1386.44 1536.63 Q1381.7 1536.63 1378.96 1539.65 Q1376.22 1542.68 1376.22 1547.9 L1376.22 1568.04 L1370.33 1568.04 L1370.33 1532.4 L1376.22 1532.4 L1376.22 1537.93 Q1378.32 1534.72 1381.16 1533.13 Q1384.02 1531.54 1387.74 1531.54 Q1393.89 1531.54 1397.04 1535.36 Q1400.19 1539.14 1400.19 1546.53 Z\" fill=\"#000000\" fill-rule=\"evenodd\" fill-opacity=\"1\" /><path clip-path=\"url(#clip310)\" d=\"M1434.6 1533.45 L1434.6 1538.98 Q1432.11 1537.71 1429.44 1537.07 Q1426.77 1536.44 1423.9 1536.44 Q1419.54 1536.44 1417.34 1537.77 Q1415.18 1539.11 1415.18 1541.79 Q1415.18 1543.82 1416.74 1545 Q1418.3 1546.15 1423.01 1547.2 L1425.02 1547.64 Q1431.25 1548.98 1433.86 1551.43 Q1436.51 1553.85 1436.51 1558.21 Q1436.51 1563.17 1432.56 1566.07 Q1428.64 1568.97 1421.77 1568.97 Q1418.9 1568.97 1415.79 1568.39 Q1412.7 1567.85 1409.26 1566.74 L1409.26 1560.69 Q1412.51 1562.38 1415.66 1563.24 Q1418.81 1564.07 1421.9 1564.07 Q1426.03 1564.07 1428.26 1562.66 Q1430.49 1561.23 1430.49 1558.65 Q1430.49 1556.27 1428.87 1554.99 Q1427.28 1553.72 1421.83 1552.54 L1419.8 1552.07 Q1414.35 1550.92 1411.93 1548.56 Q1409.51 1546.18 1409.51 1542.04 Q1409.51 1537.01 1413.08 1534.27 Q1416.64 1531.54 1423.2 1531.54 Q1426.45 1531.54 1429.31 1532.01 Q1432.18 1532.49 1434.6 1533.45 Z\" fill=\"#000000\" fill-rule=\"evenodd\" fill-opacity=\"1\" /><polyline clip-path=\"url(#clip312)\" style=\"stroke:#000000; stroke-linecap:butt; stroke-linejoin:round; stroke-width:2; stroke-opacity:0.1; fill:none\" points=\"\n",
       "  219.38,1396.11 2352.76,1396.11 \n",
       "  \"/>\n",
       "<polyline clip-path=\"url(#clip312)\" style=\"stroke:#000000; stroke-linecap:butt; stroke-linejoin:round; stroke-width:2; stroke-opacity:0.1; fill:none\" points=\"\n",
       "  219.38,1006.52 2352.76,1006.52 \n",
       "  \"/>\n",
       "<polyline clip-path=\"url(#clip312)\" style=\"stroke:#000000; stroke-linecap:butt; stroke-linejoin:round; stroke-width:2; stroke-opacity:0.1; fill:none\" points=\"\n",
       "  219.38,616.93 2352.76,616.93 \n",
       "  \"/>\n",
       "<polyline clip-path=\"url(#clip312)\" style=\"stroke:#000000; stroke-linecap:butt; stroke-linejoin:round; stroke-width:2; stroke-opacity:0.1; fill:none\" points=\"\n",
       "  219.38,227.339 2352.76,227.339 \n",
       "  \"/>\n",
       "<polyline clip-path=\"url(#clip310)\" style=\"stroke:#000000; stroke-linecap:butt; stroke-linejoin:round; stroke-width:4; stroke-opacity:1; fill:none\" points=\"\n",
       "  219.38,1423.18 219.38,47.2441 \n",
       "  \"/>\n",
       "<polyline clip-path=\"url(#clip310)\" style=\"stroke:#000000; stroke-linecap:butt; stroke-linejoin:round; stroke-width:4; stroke-opacity:1; fill:none\" points=\"\n",
       "  219.38,1396.11 238.278,1396.11 \n",
       "  \"/>\n",
       "<polyline clip-path=\"url(#clip310)\" style=\"stroke:#000000; stroke-linecap:butt; stroke-linejoin:round; stroke-width:4; stroke-opacity:1; fill:none\" points=\"\n",
       "  219.38,1006.52 238.278,1006.52 \n",
       "  \"/>\n",
       "<polyline clip-path=\"url(#clip310)\" style=\"stroke:#000000; stroke-linecap:butt; stroke-linejoin:round; stroke-width:4; stroke-opacity:1; fill:none\" points=\"\n",
       "  219.38,616.93 238.278,616.93 \n",
       "  \"/>\n",
       "<polyline clip-path=\"url(#clip310)\" style=\"stroke:#000000; stroke-linecap:butt; stroke-linejoin:round; stroke-width:4; stroke-opacity:1; fill:none\" points=\"\n",
       "  219.38,227.339 238.278,227.339 \n",
       "  \"/>\n",
       "<path clip-path=\"url(#clip310)\" d=\"M126.205 1381.91 Q122.593 1381.91 120.765 1385.48 Q118.959 1389.02 118.959 1396.15 Q118.959 1403.26 120.765 1406.82 Q122.593 1410.36 126.205 1410.36 Q129.839 1410.36 131.644 1406.82 Q133.473 1403.26 133.473 1396.15 Q133.473 1389.02 131.644 1385.48 Q129.839 1381.91 126.205 1381.91 M126.205 1378.21 Q132.015 1378.21 135.07 1382.82 Q138.149 1387.4 138.149 1396.15 Q138.149 1404.88 135.07 1409.48 Q132.015 1414.07 126.205 1414.07 Q120.394 1414.07 117.316 1409.48 Q114.26 1404.88 114.26 1396.15 Q114.26 1387.4 117.316 1382.82 Q120.394 1378.21 126.205 1378.21 Z\" fill=\"#000000\" fill-rule=\"evenodd\" fill-opacity=\"1\" /><path clip-path=\"url(#clip310)\" d=\"M146.366 1407.51 L151.251 1407.51 L151.251 1413.39 L146.366 1413.39 L146.366 1407.51 Z\" fill=\"#000000\" fill-rule=\"evenodd\" fill-opacity=\"1\" /><path clip-path=\"url(#clip310)\" d=\"M171.436 1381.91 Q167.825 1381.91 165.996 1385.48 Q164.19 1389.02 164.19 1396.15 Q164.19 1403.26 165.996 1406.82 Q167.825 1410.36 171.436 1410.36 Q175.07 1410.36 176.876 1406.82 Q178.704 1403.26 178.704 1396.15 Q178.704 1389.02 176.876 1385.48 Q175.07 1381.91 171.436 1381.91 M171.436 1378.21 Q177.246 1378.21 180.301 1382.82 Q183.38 1387.4 183.38 1396.15 Q183.38 1404.88 180.301 1409.48 Q177.246 1414.07 171.436 1414.07 Q165.626 1414.07 162.547 1409.48 Q159.491 1404.88 159.491 1396.15 Q159.491 1387.4 162.547 1382.82 Q165.626 1378.21 171.436 1378.21 Z\" fill=\"#000000\" fill-rule=\"evenodd\" fill-opacity=\"1\" /><path clip-path=\"url(#clip310)\" d=\"M127.2 992.321 Q123.589 992.321 121.76 995.886 Q119.955 999.427 119.955 1006.56 Q119.955 1013.66 121.76 1017.23 Q123.589 1020.77 127.2 1020.77 Q130.834 1020.77 132.64 1017.23 Q134.468 1013.66 134.468 1006.56 Q134.468 999.427 132.64 995.886 Q130.834 992.321 127.2 992.321 M127.2 988.617 Q133.01 988.617 136.066 993.224 Q139.144 997.807 139.144 1006.56 Q139.144 1015.28 136.066 1019.89 Q133.01 1024.47 127.2 1024.47 Q121.39 1024.47 118.311 1019.89 Q115.256 1015.28 115.256 1006.56 Q115.256 997.807 118.311 993.224 Q121.39 988.617 127.2 988.617 Z\" fill=\"#000000\" fill-rule=\"evenodd\" fill-opacity=\"1\" /><path clip-path=\"url(#clip310)\" d=\"M147.362 1017.92 L152.246 1017.92 L152.246 1023.8 L147.362 1023.8 L147.362 1017.92 Z\" fill=\"#000000\" fill-rule=\"evenodd\" fill-opacity=\"1\" /><path clip-path=\"url(#clip310)\" d=\"M162.477 989.242 L180.834 989.242 L180.834 993.177 L166.76 993.177 L166.76 1001.65 Q167.778 1001.3 168.797 1001.14 Q169.815 1000.95 170.834 1000.95 Q176.621 1000.95 180.001 1004.13 Q183.38 1007.3 183.38 1012.71 Q183.38 1018.29 179.908 1021.39 Q176.436 1024.47 170.116 1024.47 Q167.94 1024.47 165.672 1024.1 Q163.427 1023.73 161.019 1022.99 L161.019 1018.29 Q163.102 1019.43 165.325 1019.98 Q167.547 1020.54 170.024 1020.54 Q174.028 1020.54 176.366 1018.43 Q178.704 1016.33 178.704 1012.71 Q178.704 1009.1 176.366 1007 Q174.028 1004.89 170.024 1004.89 Q168.149 1004.89 166.274 1005.31 Q164.422 1005.72 162.477 1006.6 L162.477 989.242 Z\" fill=\"#000000\" fill-rule=\"evenodd\" fill-opacity=\"1\" /><path clip-path=\"url(#clip310)\" d=\"M117.015 630.275 L124.654 630.275 L124.654 603.91 L116.343 605.576 L116.343 601.317 L124.607 599.65 L129.283 599.65 L129.283 630.275 L136.922 630.275 L136.922 634.21 L117.015 634.21 L117.015 630.275 Z\" fill=\"#000000\" fill-rule=\"evenodd\" fill-opacity=\"1\" /><path clip-path=\"url(#clip310)\" d=\"M146.366 628.331 L151.251 628.331 L151.251 634.21 L146.366 634.21 L146.366 628.331 Z\" fill=\"#000000\" fill-rule=\"evenodd\" fill-opacity=\"1\" /><path clip-path=\"url(#clip310)\" d=\"M171.436 602.729 Q167.825 602.729 165.996 606.294 Q164.19 609.835 164.19 616.965 Q164.19 624.071 165.996 627.636 Q167.825 631.178 171.436 631.178 Q175.07 631.178 176.876 627.636 Q178.704 624.071 178.704 616.965 Q178.704 609.835 176.876 606.294 Q175.07 602.729 171.436 602.729 M171.436 599.025 Q177.246 599.025 180.301 603.632 Q183.38 608.215 183.38 616.965 Q183.38 625.692 180.301 630.298 Q177.246 634.882 171.436 634.882 Q165.626 634.882 162.547 630.298 Q159.491 625.692 159.491 616.965 Q159.491 608.215 162.547 603.632 Q165.626 599.025 171.436 599.025 Z\" fill=\"#000000\" fill-rule=\"evenodd\" fill-opacity=\"1\" /><path clip-path=\"url(#clip310)\" d=\"M118.01 240.683 L125.649 240.683 L125.649 214.318 L117.339 215.984 L117.339 211.725 L125.603 210.059 L130.279 210.059 L130.279 240.683 L137.917 240.683 L137.917 244.619 L118.01 244.619 L118.01 240.683 Z\" fill=\"#000000\" fill-rule=\"evenodd\" fill-opacity=\"1\" /><path clip-path=\"url(#clip310)\" d=\"M147.362 238.739 L152.246 238.739 L152.246 244.619 L147.362 244.619 L147.362 238.739 Z\" fill=\"#000000\" fill-rule=\"evenodd\" fill-opacity=\"1\" /><path clip-path=\"url(#clip310)\" d=\"M162.477 210.059 L180.834 210.059 L180.834 213.994 L166.76 213.994 L166.76 222.466 Q167.778 222.119 168.797 221.957 Q169.815 221.771 170.834 221.771 Q176.621 221.771 180.001 224.943 Q183.38 228.114 183.38 233.531 Q183.38 239.109 179.908 242.211 Q176.436 245.29 170.116 245.29 Q167.94 245.29 165.672 244.919 Q163.427 244.549 161.019 243.808 L161.019 239.109 Q163.102 240.244 165.325 240.799 Q167.547 241.355 170.024 241.355 Q174.028 241.355 176.366 239.248 Q178.704 237.142 178.704 233.531 Q178.704 229.92 176.366 227.813 Q174.028 225.707 170.024 225.707 Q168.149 225.707 166.274 226.123 Q164.422 226.54 162.477 227.42 L162.477 210.059 Z\" fill=\"#000000\" fill-rule=\"evenodd\" fill-opacity=\"1\" /><path clip-path=\"url(#clip310)\" d=\"M16.4842 801.909 L16.4842 795.479 L58.5933 795.479 L58.5933 772.34 L64.0042 772.34 L64.0042 801.909 L16.4842 801.909 Z\" fill=\"#000000\" fill-rule=\"evenodd\" fill-opacity=\"1\" /><path clip-path=\"url(#clip310)\" d=\"M32.4621 753.179 Q32.4621 757.89 36.1542 760.627 Q39.8145 763.364 46.212 763.364 Q52.6095 763.364 56.3017 760.659 Q59.9619 757.922 59.9619 753.179 Q59.9619 748.5 56.2698 745.763 Q52.5777 743.026 46.212 743.026 Q39.8781 743.026 36.186 745.763 Q32.4621 748.5 32.4621 753.179 M27.4968 753.179 Q27.4968 745.54 32.4621 741.18 Q37.4273 736.819 46.212 736.819 Q54.9649 736.819 59.9619 741.18 Q64.9272 745.54 64.9272 753.179 Q64.9272 760.85 59.9619 765.21 Q54.9649 769.539 46.212 769.539 Q37.4273 769.539 32.4621 765.21 Q27.4968 760.85 27.4968 753.179 Z\" fill=\"#000000\" fill-rule=\"evenodd\" fill-opacity=\"1\" /><path clip-path=\"url(#clip310)\" d=\"M29.4065 704.386 L34.9447 704.386 Q33.6716 706.869 33.035 709.542 Q32.3984 712.216 32.3984 715.08 Q32.3984 719.441 33.7352 721.637 Q35.072 723.801 37.7456 723.801 Q39.7826 723.801 40.9603 722.242 Q42.1061 720.682 43.1565 715.972 L43.6021 713.966 Q44.9389 707.728 47.3897 705.118 Q49.8086 702.476 54.1691 702.476 Q59.1344 702.476 62.0308 706.423 Q64.9272 710.338 64.9272 717.213 Q64.9272 720.078 64.3543 723.197 Q63.8132 726.284 62.6992 729.722 L56.6518 729.722 Q58.3387 726.475 59.198 723.324 Q60.0256 720.173 60.0256 717.086 Q60.0256 712.948 58.6251 710.72 Q57.1929 708.492 54.6147 708.492 Q52.2276 708.492 50.9545 710.115 Q49.6813 711.707 48.5037 717.149 L48.0262 719.186 Q46.8804 724.629 44.5251 727.048 Q42.138 729.467 38.0002 729.467 Q32.9713 729.467 30.2341 725.902 Q27.4968 722.337 27.4968 715.781 Q27.4968 712.534 27.9743 709.67 Q28.4517 706.805 29.4065 704.386 Z\" fill=\"#000000\" fill-rule=\"evenodd\" fill-opacity=\"1\" /><path clip-path=\"url(#clip310)\" d=\"M29.4065 670.425 L34.9447 670.425 Q33.6716 672.908 33.035 675.581 Q32.3984 678.255 32.3984 681.119 Q32.3984 685.48 33.7352 687.676 Q35.072 689.84 37.7456 689.84 Q39.7826 689.84 40.9603 688.281 Q42.1061 686.721 43.1565 682.011 L43.6021 680.005 Q44.9389 673.767 47.3897 671.157 Q49.8086 668.515 54.1691 668.515 Q59.1344 668.515 62.0308 672.462 Q64.9272 676.377 64.9272 683.252 Q64.9272 686.116 64.3543 689.236 Q63.8132 692.323 62.6992 695.761 L56.6518 695.761 Q58.3387 692.514 59.198 689.363 Q60.0256 686.212 60.0256 683.125 Q60.0256 678.987 58.6251 676.759 Q57.1929 674.531 54.6147 674.531 Q52.2276 674.531 50.9545 676.154 Q49.6813 677.746 48.5037 683.188 L48.0262 685.225 Q46.8804 690.668 44.5251 693.087 Q42.138 695.506 38.0002 695.506 Q32.9713 695.506 30.2341 691.941 Q27.4968 688.376 27.4968 681.82 Q27.4968 678.573 27.9743 675.709 Q28.4517 672.844 29.4065 670.425 Z\" fill=\"#000000\" fill-rule=\"evenodd\" fill-opacity=\"1\" /><polyline clip-path=\"url(#clip312)\" style=\"stroke:#009af9; stroke-linecap:butt; stroke-linejoin:round; stroke-width:4; stroke-opacity:1; fill:none\" points=\"\n",
       "  279.759,86.1857 320.833,326.647 361.906,487.523 402.98,611.514 444.054,705.184 485.128,788.407 526.202,859.018 567.276,909.231 608.35,948.81 649.423,980.51 \n",
       "  690.497,1023.18 731.571,1052.71 772.645,1083.21 813.719,1110.58 854.793,1134.97 895.866,1157.68 936.94,1169.69 978.014,1193.78 1019.09,1206.74 1060.16,1222.92 \n",
       "  1101.24,1236.68 1142.31,1250.81 1183.38,1261.79 1224.46,1275.43 1265.53,1284.66 1306.6,1294.53 1347.68,1305.17 1388.75,1313.46 1429.83,1318.75 1470.9,1324.91 \n",
       "  1511.97,1332.99 1553.05,1336.89 1594.12,1341.27 1635.2,1344.44 1676.27,1352.15 1717.34,1355.11 1758.42,1358.07 1799.49,1361.45 1840.57,1364.74 1881.64,1367.23 \n",
       "  1922.71,1370.82 1963.79,1373.36 2004.86,1374.75 2045.93,1375.86 2087.01,1377.14 2128.08,1378.03 2169.16,1380.74 2210.23,1382.05 2251.3,1383.04 2292.38,1384.24 \n",
       "  \n",
       "  \"/>\n",
       "<polyline clip-path=\"url(#clip312)\" style=\"stroke:#e26f46; stroke-linecap:butt; stroke-linejoin:round; stroke-width:4; stroke-opacity:1; fill:none\" points=\"\n",
       "  279.759,106.782 320.833,326.388 361.906,497.21 402.98,586.675 444.054,659.099 485.128,689.529 526.202,834.475 567.276,815.416 608.35,809.581 649.423,853.618 \n",
       "  690.497,895.129 731.571,946.801 772.645,953.837 813.719,966.333 854.793,992.193 895.866,997.949 936.94,980.879 978.014,1022.52 1019.09,996.498 1060.16,1045.76 \n",
       "  1101.24,1041.33 1142.31,1009.5 1183.38,1031.88 1224.46,1039.4 1265.53,1016.11 1306.6,1086.33 1347.68,1076.96 1388.75,984.33 1429.83,1062.73 1470.9,1029.93 \n",
       "  1511.97,1048.88 1553.05,1045.14 1594.12,1108.85 1635.2,1021.31 1676.27,1025.66 1717.34,1090.88 1758.42,1022.69 1799.49,1043.28 1840.57,1050.56 1881.64,1104.71 \n",
       "  1922.71,1102.51 1963.79,1007.13 2004.86,1101.28 2045.93,1076.74 2087.01,1105.16 2128.08,1021.87 2169.16,1009.17 2210.23,1041.7 2251.3,1057.56 2292.38,1020.51 \n",
       "  \n",
       "  \"/>\n",
       "<path clip-path=\"url(#clip310)\" d=\"\n",
       "M1871.41 248.629 L2281.64 248.629 L2281.64 93.1086 L1871.41 93.1086  Z\n",
       "  \" fill=\"#ffffff\" fill-rule=\"evenodd\" fill-opacity=\"1\"/>\n",
       "<polyline clip-path=\"url(#clip310)\" style=\"stroke:#000000; stroke-linecap:butt; stroke-linejoin:round; stroke-width:4; stroke-opacity:1; fill:none\" points=\"\n",
       "  1871.41,248.629 2281.64,248.629 2281.64,93.1086 1871.41,93.1086 1871.41,248.629 \n",
       "  \"/>\n",
       "<polyline clip-path=\"url(#clip310)\" style=\"stroke:#009af9; stroke-linecap:butt; stroke-linejoin:round; stroke-width:4; stroke-opacity:1; fill:none\" points=\"\n",
       "  1895.11,144.949 2037.34,144.949 \n",
       "  \"/>\n",
       "<path clip-path=\"url(#clip310)\" d=\"M2068.45 128.942 L2068.45 136.303 L2077.22 136.303 L2077.22 139.613 L2068.45 139.613 L2068.45 153.687 Q2068.45 156.858 2069.31 157.761 Q2070.18 158.664 2072.85 158.664 L2077.22 158.664 L2077.22 162.229 L2072.85 162.229 Q2067.92 162.229 2066.04 160.4 Q2064.17 158.548 2064.17 153.687 L2064.17 139.613 L2061.04 139.613 L2061.04 136.303 L2064.17 136.303 L2064.17 128.942 L2068.45 128.942 Z\" fill=\"#000000\" fill-rule=\"evenodd\" fill-opacity=\"1\" /><path clip-path=\"url(#clip310)\" d=\"M2097.85 140.284 Q2097.13 139.868 2096.27 139.682 Q2095.44 139.474 2094.42 139.474 Q2090.81 139.474 2088.87 141.835 Q2086.94 144.173 2086.94 148.571 L2086.94 162.229 L2082.66 162.229 L2082.66 136.303 L2086.94 136.303 L2086.94 140.331 Q2088.29 137.969 2090.44 136.835 Q2092.59 135.678 2095.67 135.678 Q2096.11 135.678 2096.64 135.747 Q2097.18 135.794 2097.82 135.909 L2097.85 140.284 Z\" fill=\"#000000\" fill-rule=\"evenodd\" fill-opacity=\"1\" /><path clip-path=\"url(#clip310)\" d=\"M2123.03 146.581 L2123.03 162.229 L2118.77 162.229 L2118.77 146.719 Q2118.77 143.039 2117.34 141.21 Q2115.9 139.382 2113.03 139.382 Q2109.58 139.382 2107.59 141.581 Q2105.6 143.78 2105.6 147.576 L2105.6 162.229 L2101.32 162.229 L2101.32 136.303 L2105.6 136.303 L2105.6 140.331 Q2107.13 137.993 2109.19 136.835 Q2111.27 135.678 2113.98 135.678 Q2118.45 135.678 2120.74 138.456 Q2123.03 141.21 2123.03 146.581 Z\" fill=\"#000000\" fill-rule=\"evenodd\" fill-opacity=\"1\" /><path clip-path=\"url(#clip310)\" d=\"M2146.6 126.21 L2150.86 126.21 L2150.86 162.229 L2146.6 162.229 L2146.6 126.21 Z\" fill=\"#000000\" fill-rule=\"evenodd\" fill-opacity=\"1\" /><path clip-path=\"url(#clip310)\" d=\"M2169.81 139.289 Q2166.39 139.289 2164.4 141.974 Q2162.41 144.636 2162.41 149.289 Q2162.41 153.942 2164.37 156.627 Q2166.37 159.289 2169.81 159.289 Q2173.22 159.289 2175.21 156.604 Q2177.2 153.918 2177.2 149.289 Q2177.2 144.682 2175.21 141.997 Q2173.22 139.289 2169.81 139.289 M2169.81 135.678 Q2175.37 135.678 2178.54 139.289 Q2181.71 142.9 2181.71 149.289 Q2181.71 155.655 2178.54 159.289 Q2175.37 162.9 2169.81 162.9 Q2164.24 162.9 2161.06 159.289 Q2157.92 155.655 2157.92 149.289 Q2157.92 142.9 2161.06 139.289 Q2164.24 135.678 2169.81 135.678 Z\" fill=\"#000000\" fill-rule=\"evenodd\" fill-opacity=\"1\" /><path clip-path=\"url(#clip310)\" d=\"M2205.3 137.067 L2205.3 141.094 Q2203.49 140.169 2201.55 139.706 Q2199.61 139.243 2197.52 139.243 Q2194.35 139.243 2192.75 140.215 Q2191.18 141.187 2191.18 143.131 Q2191.18 144.613 2192.31 145.469 Q2193.45 146.303 2196.87 147.067 L2198.33 147.391 Q2202.87 148.363 2204.77 150.145 Q2206.69 151.905 2206.69 155.076 Q2206.69 158.687 2203.82 160.793 Q2200.97 162.9 2195.97 162.9 Q2193.89 162.9 2191.62 162.483 Q2189.37 162.09 2186.87 161.28 L2186.87 156.881 Q2189.24 158.108 2191.53 158.733 Q2193.82 159.335 2196.06 159.335 Q2199.07 159.335 2200.69 158.317 Q2202.31 157.275 2202.31 155.4 Q2202.31 153.664 2201.13 152.738 Q2199.98 151.812 2196.02 150.956 L2194.54 150.608 Q2190.58 149.775 2188.82 148.062 Q2187.06 146.326 2187.06 143.317 Q2187.06 139.659 2189.65 137.669 Q2192.24 135.678 2197.01 135.678 Q2199.37 135.678 2201.46 136.025 Q2203.54 136.372 2205.3 137.067 Z\" fill=\"#000000\" fill-rule=\"evenodd\" fill-opacity=\"1\" /><path clip-path=\"url(#clip310)\" d=\"M2230 137.067 L2230 141.094 Q2228.19 140.169 2226.25 139.706 Q2224.3 139.243 2222.22 139.243 Q2219.05 139.243 2217.45 140.215 Q2215.88 141.187 2215.88 143.131 Q2215.88 144.613 2217.01 145.469 Q2218.15 146.303 2221.57 147.067 L2223.03 147.391 Q2227.57 148.363 2229.47 150.145 Q2231.39 151.905 2231.39 155.076 Q2231.39 158.687 2228.52 160.793 Q2225.67 162.9 2220.67 162.9 Q2218.59 162.9 2216.32 162.483 Q2214.07 162.09 2211.57 161.28 L2211.57 156.881 Q2213.93 158.108 2216.23 158.733 Q2218.52 159.335 2220.76 159.335 Q2223.77 159.335 2225.39 158.317 Q2227.01 157.275 2227.01 155.4 Q2227.01 153.664 2225.83 152.738 Q2224.67 151.812 2220.72 150.956 L2219.24 150.608 Q2215.28 149.775 2213.52 148.062 Q2211.76 146.326 2211.76 143.317 Q2211.76 139.659 2214.35 137.669 Q2216.94 135.678 2221.71 135.678 Q2224.07 135.678 2226.16 136.025 Q2228.24 136.372 2230 137.067 Z\" fill=\"#000000\" fill-rule=\"evenodd\" fill-opacity=\"1\" /><polyline clip-path=\"url(#clip310)\" style=\"stroke:#e26f46; stroke-linecap:butt; stroke-linejoin:round; stroke-width:4; stroke-opacity:1; fill:none\" points=\"\n",
       "  1895.11,196.789 2037.34,196.789 \n",
       "  \"/>\n",
       "<path clip-path=\"url(#clip310)\" d=\"M2061.04 188.143 L2065.56 188.143 L2073.66 209.902 L2081.76 188.143 L2086.27 188.143 L2076.55 214.069 L2070.76 214.069 L2061.04 188.143 Z\" fill=\"#000000\" fill-rule=\"evenodd\" fill-opacity=\"1\" /><path clip-path=\"url(#clip310)\" d=\"M2103.93 201.036 Q2098.77 201.036 2096.78 202.217 Q2094.79 203.397 2094.79 206.245 Q2094.79 208.513 2096.27 209.856 Q2097.78 211.175 2100.35 211.175 Q2103.89 211.175 2106.02 208.675 Q2108.17 206.152 2108.17 201.985 L2108.17 201.036 L2103.93 201.036 M2112.43 199.277 L2112.43 214.069 L2108.17 214.069 L2108.17 210.133 Q2106.71 212.495 2104.54 213.629 Q2102.36 214.74 2099.21 214.74 Q2095.23 214.74 2092.87 212.518 Q2090.53 210.272 2090.53 206.522 Q2090.53 202.147 2093.45 199.925 Q2096.39 197.703 2102.2 197.703 L2108.17 197.703 L2108.17 197.286 Q2108.17 194.347 2106.23 192.749 Q2104.31 191.129 2100.81 191.129 Q2098.59 191.129 2096.48 191.661 Q2094.37 192.194 2092.43 193.259 L2092.43 189.323 Q2094.77 188.421 2096.97 187.981 Q2099.17 187.518 2101.25 187.518 Q2106.87 187.518 2109.65 190.434 Q2112.43 193.351 2112.43 199.277 Z\" fill=\"#000000\" fill-rule=\"evenodd\" fill-opacity=\"1\" /><path clip-path=\"url(#clip310)\" d=\"M2121.2 178.05 L2125.46 178.05 L2125.46 214.069 L2121.2 214.069 L2121.2 178.05 Z\" fill=\"#000000\" fill-rule=\"evenodd\" fill-opacity=\"1\" /><path clip-path=\"url(#clip310)\" d=\"M2149.44 178.05 L2153.7 178.05 L2153.7 214.069 L2149.44 214.069 L2149.44 178.05 Z\" fill=\"#000000\" fill-rule=\"evenodd\" fill-opacity=\"1\" /><path clip-path=\"url(#clip310)\" d=\"M2172.66 191.129 Q2169.24 191.129 2167.24 193.814 Q2165.25 196.476 2165.25 201.129 Q2165.25 205.782 2167.22 208.467 Q2169.21 211.129 2172.66 211.129 Q2176.06 211.129 2178.05 208.444 Q2180.05 205.758 2180.05 201.129 Q2180.05 196.522 2178.05 193.837 Q2176.06 191.129 2172.66 191.129 M2172.66 187.518 Q2178.22 187.518 2181.39 191.129 Q2184.56 194.74 2184.56 201.129 Q2184.56 207.495 2181.39 211.129 Q2178.22 214.74 2172.66 214.74 Q2167.08 214.74 2163.91 211.129 Q2160.76 207.495 2160.76 201.129 Q2160.76 194.74 2163.91 191.129 Q2167.08 187.518 2172.66 187.518 Z\" fill=\"#000000\" fill-rule=\"evenodd\" fill-opacity=\"1\" /><path clip-path=\"url(#clip310)\" d=\"M2208.15 188.907 L2208.15 192.934 Q2206.34 192.009 2204.4 191.546 Q2202.45 191.083 2200.37 191.083 Q2197.2 191.083 2195.6 192.055 Q2194.03 193.027 2194.03 194.971 Q2194.03 196.453 2195.16 197.309 Q2196.3 198.143 2199.72 198.907 L2201.18 199.231 Q2205.72 200.203 2207.61 201.985 Q2209.54 203.745 2209.54 206.916 Q2209.54 210.527 2206.67 212.633 Q2203.82 214.74 2198.82 214.74 Q2196.74 214.74 2194.47 214.323 Q2192.22 213.93 2189.72 213.12 L2189.72 208.721 Q2192.08 209.948 2194.37 210.573 Q2196.67 211.175 2198.91 211.175 Q2201.92 211.175 2203.54 210.157 Q2205.16 209.115 2205.16 207.24 Q2205.16 205.504 2203.98 204.578 Q2202.82 203.652 2198.86 202.796 L2197.38 202.448 Q2193.43 201.615 2191.67 199.902 Q2189.91 198.166 2189.91 195.157 Q2189.91 191.499 2192.5 189.509 Q2195.09 187.518 2199.86 187.518 Q2202.22 187.518 2204.3 187.865 Q2206.39 188.212 2208.15 188.907 Z\" fill=\"#000000\" fill-rule=\"evenodd\" fill-opacity=\"1\" /><path clip-path=\"url(#clip310)\" d=\"M2232.85 188.907 L2232.85 192.934 Q2231.04 192.009 2229.1 191.546 Q2227.15 191.083 2225.07 191.083 Q2221.9 191.083 2220.3 192.055 Q2218.73 193.027 2218.73 194.971 Q2218.73 196.453 2219.86 197.309 Q2220.99 198.143 2224.42 198.907 L2225.88 199.231 Q2230.42 200.203 2232.31 201.985 Q2234.24 203.745 2234.24 206.916 Q2234.24 210.527 2231.36 212.633 Q2228.52 214.74 2223.52 214.74 Q2221.43 214.74 2219.17 214.323 Q2216.92 213.93 2214.42 213.12 L2214.42 208.721 Q2216.78 209.948 2219.07 210.573 Q2221.36 211.175 2223.61 211.175 Q2226.62 211.175 2228.24 210.157 Q2229.86 209.115 2229.86 207.24 Q2229.86 205.504 2228.68 204.578 Q2227.52 203.652 2223.56 202.796 L2222.08 202.448 Q2218.12 201.615 2216.36 199.902 Q2214.61 198.166 2214.61 195.157 Q2214.61 191.499 2217.2 189.509 Q2219.79 187.518 2224.56 187.518 Q2226.92 187.518 2229 187.865 Q2231.09 188.212 2232.85 188.907 Z\" fill=\"#000000\" fill-rule=\"evenodd\" fill-opacity=\"1\" /></svg>\n"
      ]
     },
     "execution_count": 95,
     "metadata": {},
     "output_type": "execute_result"
    }
   ],
   "source": [
    "plot([best_model_b[1,:], best_model_b[2,:]],\n",
    "    labels=[\"trn loss\" \"val loss\" ],xlabel=\"Iterations\",ylabel=\"Loss\")"
   ]
  },
  {
   "cell_type": "code",
   "execution_count": 96,
   "id": "0a0d2bcb",
   "metadata": {},
   "outputs": [
    {
     "data": {
      "image/svg+xml": [
       "<?xml version=\"1.0\" encoding=\"utf-8\"?>\n",
       "<svg xmlns=\"http://www.w3.org/2000/svg\" xmlns:xlink=\"http://www.w3.org/1999/xlink\" width=\"600\" height=\"400\" viewBox=\"0 0 2400 1600\">\n",
       "<defs>\n",
       "  <clipPath id=\"clip350\">\n",
       "    <rect x=\"0\" y=\"0\" width=\"2400\" height=\"1600\"/>\n",
       "  </clipPath>\n",
       "</defs>\n",
       "<path clip-path=\"url(#clip350)\" d=\"\n",
       "M0 1600 L2400 1600 L2400 0 L0 0  Z\n",
       "  \" fill=\"#ffffff\" fill-rule=\"evenodd\" fill-opacity=\"1\"/>\n",
       "<defs>\n",
       "  <clipPath id=\"clip351\">\n",
       "    <rect x=\"480\" y=\"0\" width=\"1681\" height=\"1600\"/>\n",
       "  </clipPath>\n",
       "</defs>\n",
       "<path clip-path=\"url(#clip350)\" d=\"\n",
       "M219.866 1423.18 L2352.76 1423.18 L2352.76 47.2441 L219.866 47.2441  Z\n",
       "  \" fill=\"#ffffff\" fill-rule=\"evenodd\" fill-opacity=\"1\"/>\n",
       "<defs>\n",
       "  <clipPath id=\"clip352\">\n",
       "    <rect x=\"219\" y=\"47\" width=\"2134\" height=\"1377\"/>\n",
       "  </clipPath>\n",
       "</defs>\n",
       "<polyline clip-path=\"url(#clip352)\" style=\"stroke:#000000; stroke-linecap:butt; stroke-linejoin:round; stroke-width:2; stroke-opacity:0.1; fill:none\" points=\"\n",
       "  239.167,1423.18 239.167,47.2441 \n",
       "  \"/>\n",
       "<polyline clip-path=\"url(#clip352)\" style=\"stroke:#000000; stroke-linecap:butt; stroke-linejoin:round; stroke-width:2; stroke-opacity:0.1; fill:none\" points=\"\n",
       "  649.811,1423.18 649.811,47.2441 \n",
       "  \"/>\n",
       "<polyline clip-path=\"url(#clip352)\" style=\"stroke:#000000; stroke-linecap:butt; stroke-linejoin:round; stroke-width:2; stroke-opacity:0.1; fill:none\" points=\"\n",
       "  1060.46,1423.18 1060.46,47.2441 \n",
       "  \"/>\n",
       "<polyline clip-path=\"url(#clip352)\" style=\"stroke:#000000; stroke-linecap:butt; stroke-linejoin:round; stroke-width:2; stroke-opacity:0.1; fill:none\" points=\"\n",
       "  1471.1,1423.18 1471.1,47.2441 \n",
       "  \"/>\n",
       "<polyline clip-path=\"url(#clip352)\" style=\"stroke:#000000; stroke-linecap:butt; stroke-linejoin:round; stroke-width:2; stroke-opacity:0.1; fill:none\" points=\"\n",
       "  1881.75,1423.18 1881.75,47.2441 \n",
       "  \"/>\n",
       "<polyline clip-path=\"url(#clip352)\" style=\"stroke:#000000; stroke-linecap:butt; stroke-linejoin:round; stroke-width:2; stroke-opacity:0.1; fill:none\" points=\"\n",
       "  2292.39,1423.18 2292.39,47.2441 \n",
       "  \"/>\n",
       "<polyline clip-path=\"url(#clip350)\" style=\"stroke:#000000; stroke-linecap:butt; stroke-linejoin:round; stroke-width:4; stroke-opacity:1; fill:none\" points=\"\n",
       "  219.866,1423.18 2352.76,1423.18 \n",
       "  \"/>\n",
       "<polyline clip-path=\"url(#clip350)\" style=\"stroke:#000000; stroke-linecap:butt; stroke-linejoin:round; stroke-width:4; stroke-opacity:1; fill:none\" points=\"\n",
       "  239.167,1423.18 239.167,1404.28 \n",
       "  \"/>\n",
       "<polyline clip-path=\"url(#clip350)\" style=\"stroke:#000000; stroke-linecap:butt; stroke-linejoin:round; stroke-width:4; stroke-opacity:1; fill:none\" points=\"\n",
       "  649.811,1423.18 649.811,1404.28 \n",
       "  \"/>\n",
       "<polyline clip-path=\"url(#clip350)\" style=\"stroke:#000000; stroke-linecap:butt; stroke-linejoin:round; stroke-width:4; stroke-opacity:1; fill:none\" points=\"\n",
       "  1060.46,1423.18 1060.46,1404.28 \n",
       "  \"/>\n",
       "<polyline clip-path=\"url(#clip350)\" style=\"stroke:#000000; stroke-linecap:butt; stroke-linejoin:round; stroke-width:4; stroke-opacity:1; fill:none\" points=\"\n",
       "  1471.1,1423.18 1471.1,1404.28 \n",
       "  \"/>\n",
       "<polyline clip-path=\"url(#clip350)\" style=\"stroke:#000000; stroke-linecap:butt; stroke-linejoin:round; stroke-width:4; stroke-opacity:1; fill:none\" points=\"\n",
       "  1881.75,1423.18 1881.75,1404.28 \n",
       "  \"/>\n",
       "<polyline clip-path=\"url(#clip350)\" style=\"stroke:#000000; stroke-linecap:butt; stroke-linejoin:round; stroke-width:4; stroke-opacity:1; fill:none\" points=\"\n",
       "  2292.39,1423.18 2292.39,1404.28 \n",
       "  \"/>\n",
       "<path clip-path=\"url(#clip350)\" d=\"M239.167 1454.1 Q235.555 1454.1 233.727 1457.66 Q231.921 1461.2 231.921 1468.33 Q231.921 1475.44 233.727 1479.01 Q235.555 1482.55 239.167 1482.55 Q242.801 1482.55 244.606 1479.01 Q246.435 1475.44 246.435 1468.33 Q246.435 1461.2 244.606 1457.66 Q242.801 1454.1 239.167 1454.1 M239.167 1450.39 Q244.977 1450.39 248.032 1455 Q251.111 1459.58 251.111 1468.33 Q251.111 1477.06 248.032 1481.67 Q244.977 1486.25 239.167 1486.25 Q233.356 1486.25 230.278 1481.67 Q227.222 1477.06 227.222 1468.33 Q227.222 1459.58 230.278 1455 Q233.356 1450.39 239.167 1450.39 Z\" fill=\"#000000\" fill-rule=\"evenodd\" fill-opacity=\"1\" /><path clip-path=\"url(#clip350)\" d=\"M624.499 1481.64 L632.138 1481.64 L632.138 1455.28 L623.828 1456.95 L623.828 1452.69 L632.092 1451.02 L636.768 1451.02 L636.768 1481.64 L644.406 1481.64 L644.406 1485.58 L624.499 1485.58 L624.499 1481.64 Z\" fill=\"#000000\" fill-rule=\"evenodd\" fill-opacity=\"1\" /><path clip-path=\"url(#clip350)\" d=\"M663.851 1454.1 Q660.24 1454.1 658.411 1457.66 Q656.605 1461.2 656.605 1468.33 Q656.605 1475.44 658.411 1479.01 Q660.24 1482.55 663.851 1482.55 Q667.485 1482.55 669.291 1479.01 Q671.119 1475.44 671.119 1468.33 Q671.119 1461.2 669.291 1457.66 Q667.485 1454.1 663.851 1454.1 M663.851 1450.39 Q669.661 1450.39 672.716 1455 Q675.795 1459.58 675.795 1468.33 Q675.795 1477.06 672.716 1481.67 Q669.661 1486.25 663.851 1486.25 Q658.041 1486.25 654.962 1481.67 Q651.906 1477.06 651.906 1468.33 Q651.906 1459.58 654.962 1455 Q658.041 1450.39 663.851 1450.39 Z\" fill=\"#000000\" fill-rule=\"evenodd\" fill-opacity=\"1\" /><path clip-path=\"url(#clip350)\" d=\"M1039.23 1481.64 L1055.55 1481.64 L1055.55 1485.58 L1033.6 1485.58 L1033.6 1481.64 Q1036.27 1478.89 1040.85 1474.26 Q1045.46 1469.61 1046.64 1468.27 Q1048.88 1465.74 1049.76 1464.01 Q1050.66 1462.25 1050.66 1460.56 Q1050.66 1457.8 1048.72 1456.07 Q1046.8 1454.33 1043.7 1454.33 Q1041.5 1454.33 1039.04 1455.09 Q1036.61 1455.86 1033.84 1457.41 L1033.84 1452.69 Q1036.66 1451.55 1039.11 1450.97 Q1041.57 1450.39 1043.6 1450.39 Q1048.97 1450.39 1052.17 1453.08 Q1055.36 1455.77 1055.36 1460.26 Q1055.36 1462.39 1054.55 1464.31 Q1053.77 1466.2 1051.66 1468.8 Q1051.08 1469.47 1047.98 1472.69 Q1044.88 1475.88 1039.23 1481.64 Z\" fill=\"#000000\" fill-rule=\"evenodd\" fill-opacity=\"1\" /><path clip-path=\"url(#clip350)\" d=\"M1075.36 1454.1 Q1071.75 1454.1 1069.92 1457.66 Q1068.12 1461.2 1068.12 1468.33 Q1068.12 1475.44 1069.92 1479.01 Q1071.75 1482.55 1075.36 1482.55 Q1079 1482.55 1080.8 1479.01 Q1082.63 1475.44 1082.63 1468.33 Q1082.63 1461.2 1080.8 1457.66 Q1079 1454.1 1075.36 1454.1 M1075.36 1450.39 Q1081.17 1450.39 1084.23 1455 Q1087.31 1459.58 1087.31 1468.33 Q1087.31 1477.06 1084.23 1481.67 Q1081.17 1486.25 1075.36 1486.25 Q1069.55 1486.25 1066.47 1481.67 Q1063.42 1477.06 1063.42 1468.33 Q1063.42 1459.58 1066.47 1455 Q1069.55 1450.39 1075.36 1450.39 Z\" fill=\"#000000\" fill-rule=\"evenodd\" fill-opacity=\"1\" /><path clip-path=\"url(#clip350)\" d=\"M1459.94 1466.95 Q1463.3 1467.66 1465.18 1469.93 Q1467.07 1472.2 1467.07 1475.53 Q1467.07 1480.65 1463.56 1483.45 Q1460.04 1486.25 1453.56 1486.25 Q1451.38 1486.25 1449.06 1485.81 Q1446.77 1485.39 1444.32 1484.54 L1444.32 1480.02 Q1446.26 1481.16 1448.58 1481.74 Q1450.89 1482.32 1453.42 1482.32 Q1457.81 1482.32 1460.11 1480.58 Q1462.42 1478.84 1462.42 1475.53 Q1462.42 1472.48 1460.27 1470.77 Q1458.14 1469.03 1454.32 1469.03 L1450.29 1469.03 L1450.29 1465.19 L1454.5 1465.19 Q1457.95 1465.19 1459.78 1463.82 Q1461.61 1462.43 1461.61 1459.84 Q1461.61 1457.18 1459.71 1455.77 Q1457.84 1454.33 1454.32 1454.33 Q1452.4 1454.33 1450.2 1454.75 Q1448 1455.16 1445.36 1456.04 L1445.36 1451.88 Q1448.02 1451.14 1450.34 1450.77 Q1452.68 1450.39 1454.74 1450.39 Q1460.06 1450.39 1463.16 1452.83 Q1466.26 1455.23 1466.26 1459.35 Q1466.26 1462.22 1464.62 1464.21 Q1462.98 1466.18 1459.94 1466.95 Z\" fill=\"#000000\" fill-rule=\"evenodd\" fill-opacity=\"1\" /><path clip-path=\"url(#clip350)\" d=\"M1485.94 1454.1 Q1482.33 1454.1 1480.5 1457.66 Q1478.69 1461.2 1478.69 1468.33 Q1478.69 1475.44 1480.5 1479.01 Q1482.33 1482.55 1485.94 1482.55 Q1489.57 1482.55 1491.38 1479.01 Q1493.21 1475.44 1493.21 1468.33 Q1493.21 1461.2 1491.38 1457.66 Q1489.57 1454.1 1485.94 1454.1 M1485.94 1450.39 Q1491.75 1450.39 1494.8 1455 Q1497.88 1459.58 1497.88 1468.33 Q1497.88 1477.06 1494.8 1481.67 Q1491.75 1486.25 1485.94 1486.25 Q1480.13 1486.25 1477.05 1481.67 Q1473.99 1477.06 1473.99 1468.33 Q1473.99 1459.58 1477.05 1455 Q1480.13 1450.39 1485.94 1450.39 Z\" fill=\"#000000\" fill-rule=\"evenodd\" fill-opacity=\"1\" /><path clip-path=\"url(#clip350)\" d=\"M1869.92 1455.09 L1858.11 1473.54 L1869.92 1473.54 L1869.92 1455.09 M1868.69 1451.02 L1874.57 1451.02 L1874.57 1473.54 L1879.5 1473.54 L1879.5 1477.43 L1874.57 1477.43 L1874.57 1485.58 L1869.92 1485.58 L1869.92 1477.43 L1854.32 1477.43 L1854.32 1472.92 L1868.69 1451.02 Z\" fill=\"#000000\" fill-rule=\"evenodd\" fill-opacity=\"1\" /><path clip-path=\"url(#clip350)\" d=\"M1897.23 1454.1 Q1893.62 1454.1 1891.79 1457.66 Q1889.99 1461.2 1889.99 1468.33 Q1889.99 1475.44 1891.79 1479.01 Q1893.62 1482.55 1897.23 1482.55 Q1900.87 1482.55 1902.67 1479.01 Q1904.5 1475.44 1904.5 1468.33 Q1904.5 1461.2 1902.67 1457.66 Q1900.87 1454.1 1897.23 1454.1 M1897.23 1450.39 Q1903.04 1450.39 1906.1 1455 Q1909.18 1459.58 1909.18 1468.33 Q1909.18 1477.06 1906.1 1481.67 Q1903.04 1486.25 1897.23 1486.25 Q1891.42 1486.25 1888.34 1481.67 Q1885.29 1477.06 1885.29 1468.33 Q1885.29 1459.58 1888.34 1455 Q1891.42 1450.39 1897.23 1450.39 Z\" fill=\"#000000\" fill-rule=\"evenodd\" fill-opacity=\"1\" /><path clip-path=\"url(#clip350)\" d=\"M2267.09 1451.02 L2285.45 1451.02 L2285.45 1454.96 L2271.37 1454.96 L2271.37 1463.43 Q2272.39 1463.08 2273.41 1462.92 Q2274.43 1462.73 2275.45 1462.73 Q2281.23 1462.73 2284.61 1465.9 Q2287.99 1469.08 2287.99 1474.49 Q2287.99 1480.07 2284.52 1483.17 Q2281.05 1486.25 2274.73 1486.25 Q2272.55 1486.25 2270.28 1485.88 Q2268.04 1485.51 2265.63 1484.77 L2265.63 1480.07 Q2267.72 1481.2 2269.94 1481.76 Q2272.16 1482.32 2274.64 1482.32 Q2278.64 1482.32 2280.98 1480.21 Q2283.32 1478.1 2283.32 1474.49 Q2283.32 1470.88 2280.98 1468.77 Q2278.64 1466.67 2274.64 1466.67 Q2272.76 1466.67 2270.89 1467.08 Q2269.03 1467.5 2267.09 1468.38 L2267.09 1451.02 Z\" fill=\"#000000\" fill-rule=\"evenodd\" fill-opacity=\"1\" /><path clip-path=\"url(#clip350)\" d=\"M2307.21 1454.1 Q2303.59 1454.1 2301.77 1457.66 Q2299.96 1461.2 2299.96 1468.33 Q2299.96 1475.44 2301.77 1479.01 Q2303.59 1482.55 2307.21 1482.55 Q2310.84 1482.55 2312.65 1479.01 Q2314.47 1475.44 2314.47 1468.33 Q2314.47 1461.2 2312.65 1457.66 Q2310.84 1454.1 2307.21 1454.1 M2307.21 1450.39 Q2313.02 1450.39 2316.07 1455 Q2319.15 1459.58 2319.15 1468.33 Q2319.15 1477.06 2316.07 1481.67 Q2313.02 1486.25 2307.21 1486.25 Q2301.4 1486.25 2298.32 1481.67 Q2295.26 1477.06 2295.26 1468.33 Q2295.26 1459.58 2298.32 1455 Q2301.4 1450.39 2307.21 1450.39 Z\" fill=\"#000000\" fill-rule=\"evenodd\" fill-opacity=\"1\" /><path clip-path=\"url(#clip350)\" d=\"M1135.87 1520.52 L1142.3 1520.52 L1142.3 1568.04 L1135.87 1568.04 L1135.87 1520.52 Z\" fill=\"#000000\" fill-rule=\"evenodd\" fill-opacity=\"1\" /><path clip-path=\"url(#clip350)\" d=\"M1160.64 1522.27 L1160.64 1532.4 L1172.7 1532.4 L1172.7 1536.95 L1160.64 1536.95 L1160.64 1556.3 Q1160.64 1560.66 1161.81 1561.9 Q1163.02 1563.14 1166.68 1563.14 L1172.7 1563.14 L1172.7 1568.04 L1166.68 1568.04 Q1159.9 1568.04 1157.33 1565.53 Q1154.75 1562.98 1154.75 1556.3 L1154.75 1536.95 L1150.45 1536.95 L1150.45 1532.4 L1154.75 1532.4 L1154.75 1522.27 L1160.64 1522.27 Z\" fill=\"#000000\" fill-rule=\"evenodd\" fill-opacity=\"1\" /><path clip-path=\"url(#clip350)\" d=\"M1210.89 1548.76 L1210.89 1551.62 L1183.97 1551.62 Q1184.35 1557.67 1187.59 1560.85 Q1190.87 1564 1196.7 1564 Q1200.07 1564 1203.22 1563.17 Q1206.41 1562.35 1209.52 1560.69 L1209.52 1566.23 Q1206.37 1567.57 1203.06 1568.27 Q1199.75 1568.97 1196.35 1568.97 Q1187.82 1568.97 1182.82 1564 Q1177.86 1559.04 1177.86 1550.57 Q1177.86 1541.82 1182.57 1536.69 Q1187.31 1531.54 1195.33 1531.54 Q1202.52 1531.54 1206.69 1536.18 Q1210.89 1540.8 1210.89 1548.76 M1205.04 1547.04 Q1204.97 1542.23 1202.33 1539.37 Q1199.72 1536.5 1195.39 1536.5 Q1190.49 1536.5 1187.53 1539.27 Q1184.6 1542.04 1184.16 1547.07 L1205.04 1547.04 Z\" fill=\"#000000\" fill-rule=\"evenodd\" fill-opacity=\"1\" /><path clip-path=\"url(#clip350)\" d=\"M1241.16 1537.87 Q1240.18 1537.3 1239 1537.04 Q1237.85 1536.76 1236.45 1536.76 Q1231.49 1536.76 1228.81 1540 Q1226.17 1543.22 1226.17 1549.27 L1226.17 1568.04 L1220.28 1568.04 L1220.28 1532.4 L1226.17 1532.4 L1226.17 1537.93 Q1228.02 1534.69 1230.98 1533.13 Q1233.94 1531.54 1238.17 1531.54 Q1238.78 1531.54 1239.51 1531.63 Q1240.24 1531.7 1241.13 1531.85 L1241.16 1537.87 Z\" fill=\"#000000\" fill-rule=\"evenodd\" fill-opacity=\"1\" /><path clip-path=\"url(#clip350)\" d=\"M1263.51 1550.12 Q1256.41 1550.12 1253.67 1551.75 Q1250.93 1553.37 1250.93 1557.29 Q1250.93 1560.4 1252.97 1562.25 Q1255.04 1564.07 1258.57 1564.07 Q1263.44 1564.07 1266.37 1560.63 Q1269.33 1557.16 1269.33 1551.43 L1269.33 1550.12 L1263.51 1550.12 M1275.19 1547.71 L1275.19 1568.04 L1269.33 1568.04 L1269.33 1562.63 Q1267.33 1565.88 1264.33 1567.44 Q1261.34 1568.97 1257.01 1568.97 Q1251.54 1568.97 1248.29 1565.91 Q1245.08 1562.82 1245.08 1557.67 Q1245.08 1551.65 1249.09 1548.6 Q1253.13 1545.54 1261.12 1545.54 L1269.33 1545.54 L1269.33 1544.97 Q1269.33 1540.93 1266.66 1538.73 Q1264.02 1536.5 1259.21 1536.5 Q1256.15 1536.5 1253.26 1537.23 Q1250.36 1537.97 1247.69 1539.43 L1247.69 1534.02 Q1250.9 1532.78 1253.93 1532.17 Q1256.95 1531.54 1259.81 1531.54 Q1267.55 1531.54 1271.37 1535.55 Q1275.19 1539.56 1275.19 1547.71 Z\" fill=\"#000000\" fill-rule=\"evenodd\" fill-opacity=\"1\" /><path clip-path=\"url(#clip350)\" d=\"M1293.04 1522.27 L1293.04 1532.4 L1305.11 1532.4 L1305.11 1536.95 L1293.04 1536.95 L1293.04 1556.3 Q1293.04 1560.66 1294.22 1561.9 Q1295.43 1563.14 1299.09 1563.14 L1305.11 1563.14 L1305.11 1568.04 L1299.09 1568.04 Q1292.31 1568.04 1289.73 1565.53 Q1287.15 1562.98 1287.15 1556.3 L1287.15 1536.95 L1282.86 1536.95 L1282.86 1532.4 L1287.15 1532.4 L1287.15 1522.27 L1293.04 1522.27 Z\" fill=\"#000000\" fill-rule=\"evenodd\" fill-opacity=\"1\" /><path clip-path=\"url(#clip350)\" d=\"M1312.81 1532.4 L1318.66 1532.4 L1318.66 1568.04 L1312.81 1568.04 L1312.81 1532.4 M1312.81 1518.52 L1318.66 1518.52 L1318.66 1525.93 L1312.81 1525.93 L1312.81 1518.52 Z\" fill=\"#000000\" fill-rule=\"evenodd\" fill-opacity=\"1\" /><path clip-path=\"url(#clip350)\" d=\"M1344.73 1536.5 Q1340.02 1536.5 1337.28 1540.19 Q1334.55 1543.85 1334.55 1550.25 Q1334.55 1556.65 1337.25 1560.34 Q1339.99 1564 1344.73 1564 Q1349.41 1564 1352.15 1560.31 Q1354.89 1556.62 1354.89 1550.25 Q1354.89 1543.92 1352.15 1540.23 Q1349.41 1536.5 1344.73 1536.5 M1344.73 1531.54 Q1352.37 1531.54 1356.73 1536.5 Q1361.09 1541.47 1361.09 1550.25 Q1361.09 1559 1356.73 1564 Q1352.37 1568.97 1344.73 1568.97 Q1337.06 1568.97 1332.7 1564 Q1328.37 1559 1328.37 1550.25 Q1328.37 1541.47 1332.7 1536.5 Q1337.06 1531.54 1344.73 1531.54 Z\" fill=\"#000000\" fill-rule=\"evenodd\" fill-opacity=\"1\" /><path clip-path=\"url(#clip350)\" d=\"M1400.43 1546.53 L1400.43 1568.04 L1394.58 1568.04 L1394.58 1546.72 Q1394.58 1541.66 1392.6 1539.14 Q1390.63 1536.63 1386.68 1536.63 Q1381.94 1536.63 1379.2 1539.65 Q1376.47 1542.68 1376.47 1547.9 L1376.47 1568.04 L1370.58 1568.04 L1370.58 1532.4 L1376.47 1532.4 L1376.47 1537.93 Q1378.57 1534.72 1381.4 1533.13 Q1384.26 1531.54 1387.99 1531.54 Q1394.13 1531.54 1397.28 1535.36 Q1400.43 1539.14 1400.43 1546.53 Z\" fill=\"#000000\" fill-rule=\"evenodd\" fill-opacity=\"1\" /><path clip-path=\"url(#clip350)\" d=\"M1434.84 1533.45 L1434.84 1538.98 Q1432.36 1537.71 1429.68 1537.07 Q1427.01 1536.44 1424.14 1536.44 Q1419.78 1536.44 1417.59 1537.77 Q1415.42 1539.11 1415.42 1541.79 Q1415.42 1543.82 1416.98 1545 Q1418.54 1546.15 1423.25 1547.2 L1425.26 1547.64 Q1431.5 1548.98 1434.11 1551.43 Q1436.75 1553.85 1436.75 1558.21 Q1436.75 1563.17 1432.8 1566.07 Q1428.89 1568.97 1422.01 1568.97 Q1419.15 1568.97 1416.03 1568.39 Q1412.94 1567.85 1409.5 1566.74 L1409.5 1560.69 Q1412.75 1562.38 1415.9 1563.24 Q1419.05 1564.07 1422.14 1564.07 Q1426.28 1564.07 1428.51 1562.66 Q1430.73 1561.23 1430.73 1558.65 Q1430.73 1556.27 1429.11 1554.99 Q1427.52 1553.72 1422.08 1552.54 L1420.04 1552.07 Q1414.6 1550.92 1412.18 1548.56 Q1409.76 1546.18 1409.76 1542.04 Q1409.76 1537.01 1413.32 1534.27 Q1416.89 1531.54 1423.44 1531.54 Q1426.69 1531.54 1429.56 1532.01 Q1432.42 1532.49 1434.84 1533.45 Z\" fill=\"#000000\" fill-rule=\"evenodd\" fill-opacity=\"1\" /><polyline clip-path=\"url(#clip352)\" style=\"stroke:#000000; stroke-linecap:butt; stroke-linejoin:round; stroke-width:2; stroke-opacity:0.1; fill:none\" points=\"\n",
       "  219.866,1248.07 2352.76,1248.07 \n",
       "  \"/>\n",
       "<polyline clip-path=\"url(#clip352)\" style=\"stroke:#000000; stroke-linecap:butt; stroke-linejoin:round; stroke-width:2; stroke-opacity:0.1; fill:none\" points=\"\n",
       "  219.866,1054.29 2352.76,1054.29 \n",
       "  \"/>\n",
       "<polyline clip-path=\"url(#clip352)\" style=\"stroke:#000000; stroke-linecap:butt; stroke-linejoin:round; stroke-width:2; stroke-opacity:0.1; fill:none\" points=\"\n",
       "  219.866,860.514 2352.76,860.514 \n",
       "  \"/>\n",
       "<polyline clip-path=\"url(#clip352)\" style=\"stroke:#000000; stroke-linecap:butt; stroke-linejoin:round; stroke-width:2; stroke-opacity:0.1; fill:none\" points=\"\n",
       "  219.866,666.738 2352.76,666.738 \n",
       "  \"/>\n",
       "<polyline clip-path=\"url(#clip352)\" style=\"stroke:#000000; stroke-linecap:butt; stroke-linejoin:round; stroke-width:2; stroke-opacity:0.1; fill:none\" points=\"\n",
       "  219.866,472.962 2352.76,472.962 \n",
       "  \"/>\n",
       "<polyline clip-path=\"url(#clip352)\" style=\"stroke:#000000; stroke-linecap:butt; stroke-linejoin:round; stroke-width:2; stroke-opacity:0.1; fill:none\" points=\"\n",
       "  219.866,279.186 2352.76,279.186 \n",
       "  \"/>\n",
       "<polyline clip-path=\"url(#clip352)\" style=\"stroke:#000000; stroke-linecap:butt; stroke-linejoin:round; stroke-width:2; stroke-opacity:0.1; fill:none\" points=\"\n",
       "  219.866,85.4093 2352.76,85.4093 \n",
       "  \"/>\n",
       "<polyline clip-path=\"url(#clip350)\" style=\"stroke:#000000; stroke-linecap:butt; stroke-linejoin:round; stroke-width:4; stroke-opacity:1; fill:none\" points=\"\n",
       "  219.866,1423.18 219.866,47.2441 \n",
       "  \"/>\n",
       "<polyline clip-path=\"url(#clip350)\" style=\"stroke:#000000; stroke-linecap:butt; stroke-linejoin:round; stroke-width:4; stroke-opacity:1; fill:none\" points=\"\n",
       "  219.866,1248.07 238.764,1248.07 \n",
       "  \"/>\n",
       "<polyline clip-path=\"url(#clip350)\" style=\"stroke:#000000; stroke-linecap:butt; stroke-linejoin:round; stroke-width:4; stroke-opacity:1; fill:none\" points=\"\n",
       "  219.866,1054.29 238.764,1054.29 \n",
       "  \"/>\n",
       "<polyline clip-path=\"url(#clip350)\" style=\"stroke:#000000; stroke-linecap:butt; stroke-linejoin:round; stroke-width:4; stroke-opacity:1; fill:none\" points=\"\n",
       "  219.866,860.514 238.764,860.514 \n",
       "  \"/>\n",
       "<polyline clip-path=\"url(#clip350)\" style=\"stroke:#000000; stroke-linecap:butt; stroke-linejoin:round; stroke-width:4; stroke-opacity:1; fill:none\" points=\"\n",
       "  219.866,666.738 238.764,666.738 \n",
       "  \"/>\n",
       "<polyline clip-path=\"url(#clip350)\" style=\"stroke:#000000; stroke-linecap:butt; stroke-linejoin:round; stroke-width:4; stroke-opacity:1; fill:none\" points=\"\n",
       "  219.866,472.962 238.764,472.962 \n",
       "  \"/>\n",
       "<polyline clip-path=\"url(#clip350)\" style=\"stroke:#000000; stroke-linecap:butt; stroke-linejoin:round; stroke-width:4; stroke-opacity:1; fill:none\" points=\"\n",
       "  219.866,279.186 238.764,279.186 \n",
       "  \"/>\n",
       "<polyline clip-path=\"url(#clip350)\" style=\"stroke:#000000; stroke-linecap:butt; stroke-linejoin:round; stroke-width:4; stroke-opacity:1; fill:none\" points=\"\n",
       "  219.866,85.4093 238.764,85.4093 \n",
       "  \"/>\n",
       "<path clip-path=\"url(#clip350)\" d=\"M126.205 1233.87 Q122.593 1233.87 120.765 1237.43 Q118.959 1240.97 118.959 1248.1 Q118.959 1255.21 120.765 1258.77 Q122.593 1262.31 126.205 1262.31 Q129.839 1262.31 131.644 1258.77 Q133.473 1255.21 133.473 1248.1 Q133.473 1240.97 131.644 1237.43 Q129.839 1233.87 126.205 1233.87 M126.205 1230.16 Q132.015 1230.16 135.07 1234.77 Q138.149 1239.35 138.149 1248.1 Q138.149 1256.83 135.07 1261.43 Q132.015 1266.02 126.205 1266.02 Q120.394 1266.02 117.316 1261.43 Q114.26 1256.83 114.26 1248.1 Q114.26 1239.35 117.316 1234.77 Q120.394 1230.16 126.205 1230.16 Z\" fill=\"#000000\" fill-rule=\"evenodd\" fill-opacity=\"1\" /><path clip-path=\"url(#clip350)\" d=\"M146.366 1259.47 L151.251 1259.47 L151.251 1265.35 L146.366 1265.35 L146.366 1259.47 Z\" fill=\"#000000\" fill-rule=\"evenodd\" fill-opacity=\"1\" /><path clip-path=\"url(#clip350)\" d=\"M174.283 1234.86 L162.477 1253.31 L174.283 1253.31 L174.283 1234.86 M173.056 1230.79 L178.936 1230.79 L178.936 1253.31 L183.866 1253.31 L183.866 1257.2 L178.936 1257.2 L178.936 1265.35 L174.283 1265.35 L174.283 1257.2 L158.681 1257.2 L158.681 1252.68 L173.056 1230.79 Z\" fill=\"#000000\" fill-rule=\"evenodd\" fill-opacity=\"1\" /><path clip-path=\"url(#clip350)\" d=\"M127.686 1040.09 Q124.075 1040.09 122.246 1043.65 Q120.441 1047.2 120.441 1054.33 Q120.441 1061.43 122.246 1065 Q124.075 1068.54 127.686 1068.54 Q131.32 1068.54 133.126 1065 Q134.954 1061.43 134.954 1054.33 Q134.954 1047.2 133.126 1043.65 Q131.32 1040.09 127.686 1040.09 M127.686 1036.39 Q133.496 1036.39 136.552 1040.99 Q139.63 1045.58 139.63 1054.33 Q139.63 1063.05 136.552 1067.66 Q133.496 1072.24 127.686 1072.24 Q121.876 1072.24 118.797 1067.66 Q115.742 1063.05 115.742 1054.33 Q115.742 1045.58 118.797 1040.99 Q121.876 1036.39 127.686 1036.39 Z\" fill=\"#000000\" fill-rule=\"evenodd\" fill-opacity=\"1\" /><path clip-path=\"url(#clip350)\" d=\"M147.848 1065.69 L152.732 1065.69 L152.732 1071.57 L147.848 1071.57 L147.848 1065.69 Z\" fill=\"#000000\" fill-rule=\"evenodd\" fill-opacity=\"1\" /><path clip-path=\"url(#clip350)\" d=\"M162.964 1037.01 L181.32 1037.01 L181.32 1040.95 L167.246 1040.95 L167.246 1049.42 Q168.264 1049.07 169.283 1048.91 Q170.302 1048.72 171.32 1048.72 Q177.107 1048.72 180.487 1051.89 Q183.866 1055.07 183.866 1060.48 Q183.866 1066.06 180.394 1069.16 Q176.922 1072.24 170.602 1072.24 Q168.427 1072.24 166.158 1071.87 Q163.913 1071.5 161.505 1070.76 L161.505 1066.06 Q163.589 1067.2 165.811 1067.75 Q168.033 1068.31 170.51 1068.31 Q174.514 1068.31 176.852 1066.2 Q179.19 1064.09 179.19 1060.48 Q179.19 1056.87 176.852 1054.77 Q174.514 1052.66 170.51 1052.66 Q168.635 1052.66 166.76 1053.08 Q164.908 1053.49 162.964 1054.37 L162.964 1037.01 Z\" fill=\"#000000\" fill-rule=\"evenodd\" fill-opacity=\"1\" /><path clip-path=\"url(#clip350)\" d=\"M126.529 846.313 Q122.918 846.313 121.089 849.878 Q119.283 853.42 119.283 860.549 Q119.283 867.656 121.089 871.22 Q122.918 874.762 126.529 874.762 Q130.163 874.762 131.968 871.22 Q133.797 867.656 133.797 860.549 Q133.797 853.42 131.968 849.878 Q130.163 846.313 126.529 846.313 M126.529 842.609 Q132.339 842.609 135.394 847.216 Q138.473 851.799 138.473 860.549 Q138.473 869.276 135.394 873.882 Q132.339 878.466 126.529 878.466 Q120.718 878.466 117.64 873.882 Q114.584 869.276 114.584 860.549 Q114.584 851.799 117.64 847.216 Q120.718 842.609 126.529 842.609 Z\" fill=\"#000000\" fill-rule=\"evenodd\" fill-opacity=\"1\" /><path clip-path=\"url(#clip350)\" d=\"M146.691 871.915 L151.575 871.915 L151.575 877.794 L146.691 877.794 L146.691 871.915 Z\" fill=\"#000000\" fill-rule=\"evenodd\" fill-opacity=\"1\" /><path clip-path=\"url(#clip350)\" d=\"M172.339 858.651 Q169.19 858.651 167.339 860.804 Q165.51 862.957 165.51 866.706 Q165.51 870.433 167.339 872.609 Q169.19 874.762 172.339 874.762 Q175.487 874.762 177.315 872.609 Q179.167 870.433 179.167 866.706 Q179.167 862.957 177.315 860.804 Q175.487 858.651 172.339 858.651 M181.621 843.998 L181.621 848.258 Q179.862 847.424 178.056 846.984 Q176.274 846.545 174.514 846.545 Q169.885 846.545 167.431 849.67 Q165.001 852.795 164.653 859.114 Q166.019 857.1 168.079 856.035 Q170.139 854.947 172.616 854.947 Q177.825 854.947 180.834 858.119 Q183.866 861.267 183.866 866.706 Q183.866 872.031 180.718 875.248 Q177.57 878.466 172.339 878.466 Q166.343 878.466 163.172 873.882 Q160.001 869.276 160.001 860.549 Q160.001 852.355 163.89 847.494 Q167.778 842.609 174.329 842.609 Q176.089 842.609 177.871 842.957 Q179.676 843.304 181.621 843.998 Z\" fill=\"#000000\" fill-rule=\"evenodd\" fill-opacity=\"1\" /><path clip-path=\"url(#clip350)\" d=\"M127.593 652.537 Q123.982 652.537 122.154 656.102 Q120.348 659.643 120.348 666.773 Q120.348 673.879 122.154 677.444 Q123.982 680.986 127.593 680.986 Q131.228 680.986 133.033 677.444 Q134.862 673.879 134.862 666.773 Q134.862 659.643 133.033 656.102 Q131.228 652.537 127.593 652.537 M127.593 648.833 Q133.404 648.833 136.459 653.44 Q139.538 658.023 139.538 666.773 Q139.538 675.5 136.459 680.106 Q133.404 684.689 127.593 684.689 Q121.783 684.689 118.705 680.106 Q115.649 675.5 115.649 666.773 Q115.649 658.023 118.705 653.44 Q121.783 648.833 127.593 648.833 Z\" fill=\"#000000\" fill-rule=\"evenodd\" fill-opacity=\"1\" /><path clip-path=\"url(#clip350)\" d=\"M147.755 678.139 L152.64 678.139 L152.64 684.018 L147.755 684.018 L147.755 678.139 Z\" fill=\"#000000\" fill-rule=\"evenodd\" fill-opacity=\"1\" /><path clip-path=\"url(#clip350)\" d=\"M161.644 649.458 L183.866 649.458 L183.866 651.449 L171.32 684.018 L166.436 684.018 L178.241 653.393 L161.644 653.393 L161.644 649.458 Z\" fill=\"#000000\" fill-rule=\"evenodd\" fill-opacity=\"1\" /><path clip-path=\"url(#clip350)\" d=\"M126.783 458.761 Q123.172 458.761 121.343 462.325 Q119.538 465.867 119.538 472.997 Q119.538 480.103 121.343 483.668 Q123.172 487.209 126.783 487.209 Q130.417 487.209 132.223 483.668 Q134.052 480.103 134.052 472.997 Q134.052 465.867 132.223 462.325 Q130.417 458.761 126.783 458.761 M126.783 455.057 Q132.593 455.057 135.649 459.663 Q138.728 464.247 138.728 472.997 Q138.728 481.723 135.649 486.33 Q132.593 490.913 126.783 490.913 Q120.973 490.913 117.894 486.33 Q114.839 481.723 114.839 472.997 Q114.839 464.247 117.894 459.663 Q120.973 455.057 126.783 455.057 Z\" fill=\"#000000\" fill-rule=\"evenodd\" fill-opacity=\"1\" /><path clip-path=\"url(#clip350)\" d=\"M146.945 484.362 L151.829 484.362 L151.829 490.242 L146.945 490.242 L146.945 484.362 Z\" fill=\"#000000\" fill-rule=\"evenodd\" fill-opacity=\"1\" /><path clip-path=\"url(#clip350)\" d=\"M172.014 473.83 Q168.681 473.83 166.76 475.612 Q164.862 477.395 164.862 480.52 Q164.862 483.645 166.76 485.427 Q168.681 487.209 172.014 487.209 Q175.348 487.209 177.269 485.427 Q179.19 483.622 179.19 480.52 Q179.19 477.395 177.269 475.612 Q175.371 473.83 172.014 473.83 M167.339 471.839 Q164.329 471.098 162.64 469.038 Q160.973 466.978 160.973 464.015 Q160.973 459.872 163.913 457.464 Q166.876 455.057 172.014 455.057 Q177.176 455.057 180.116 457.464 Q183.056 459.872 183.056 464.015 Q183.056 466.978 181.366 469.038 Q179.7 471.098 176.714 471.839 Q180.093 472.626 181.968 474.918 Q183.866 477.21 183.866 480.52 Q183.866 485.543 180.788 488.228 Q177.732 490.913 172.014 490.913 Q166.297 490.913 163.218 488.228 Q160.163 485.543 160.163 480.52 Q160.163 477.21 162.061 474.918 Q163.959 472.626 167.339 471.839 M165.626 464.455 Q165.626 467.14 167.292 468.645 Q168.982 470.149 172.014 470.149 Q175.024 470.149 176.714 468.645 Q178.426 467.14 178.426 464.455 Q178.426 461.77 176.714 460.265 Q175.024 458.761 172.014 458.761 Q168.982 458.761 167.292 460.265 Q165.626 461.77 165.626 464.455 Z\" fill=\"#000000\" fill-rule=\"evenodd\" fill-opacity=\"1\" /><path clip-path=\"url(#clip350)\" d=\"M126.876 264.984 Q123.265 264.984 121.436 268.549 Q119.63 272.091 119.63 279.22 Q119.63 286.327 121.436 289.892 Q123.265 293.433 126.876 293.433 Q130.51 293.433 132.316 289.892 Q134.144 286.327 134.144 279.22 Q134.144 272.091 132.316 268.549 Q130.51 264.984 126.876 264.984 M126.876 261.281 Q132.686 261.281 135.742 265.887 Q138.82 270.47 138.82 279.22 Q138.82 287.947 135.742 292.554 Q132.686 297.137 126.876 297.137 Q121.066 297.137 117.987 292.554 Q114.931 287.947 114.931 279.22 Q114.931 270.47 117.987 265.887 Q121.066 261.281 126.876 261.281 Z\" fill=\"#000000\" fill-rule=\"evenodd\" fill-opacity=\"1\" /><path clip-path=\"url(#clip350)\" d=\"M147.038 290.586 L151.922 290.586 L151.922 296.466 L147.038 296.466 L147.038 290.586 Z\" fill=\"#000000\" fill-rule=\"evenodd\" fill-opacity=\"1\" /><path clip-path=\"url(#clip350)\" d=\"M162.246 295.748 L162.246 291.489 Q164.005 292.322 165.811 292.762 Q167.616 293.202 169.352 293.202 Q173.982 293.202 176.413 290.1 Q178.866 286.975 179.214 280.632 Q177.871 282.623 175.811 283.688 Q173.751 284.753 171.251 284.753 Q166.065 284.753 163.033 281.628 Q160.024 278.48 160.024 273.04 Q160.024 267.716 163.172 264.498 Q166.32 261.281 171.552 261.281 Q177.547 261.281 180.695 265.887 Q183.866 270.47 183.866 279.22 Q183.866 287.392 179.977 292.276 Q176.112 297.137 169.561 297.137 Q167.802 297.137 165.996 296.79 Q164.19 296.442 162.246 295.748 M171.552 281.095 Q174.7 281.095 176.528 278.943 Q178.38 276.79 178.38 273.04 Q178.38 269.313 176.528 267.16 Q174.7 264.984 171.552 264.984 Q168.403 264.984 166.552 267.16 Q164.723 269.313 164.723 273.04 Q164.723 276.79 166.552 278.943 Q168.403 281.095 171.552 281.095 Z\" fill=\"#000000\" fill-rule=\"evenodd\" fill-opacity=\"1\" /><path clip-path=\"url(#clip350)\" d=\"M117.501 98.7541 L125.14 98.7541 L125.14 72.3885 L116.83 74.0552 L116.83 69.7959 L125.093 68.1293 L129.769 68.1293 L129.769 98.7541 L137.408 98.7541 L137.408 102.689 L117.501 102.689 L117.501 98.7541 Z\" fill=\"#000000\" fill-rule=\"evenodd\" fill-opacity=\"1\" /><path clip-path=\"url(#clip350)\" d=\"M146.853 96.8097 L151.737 96.8097 L151.737 102.689 L146.853 102.689 L146.853 96.8097 Z\" fill=\"#000000\" fill-rule=\"evenodd\" fill-opacity=\"1\" /><path clip-path=\"url(#clip350)\" d=\"M171.922 71.208 Q168.311 71.208 166.482 74.7728 Q164.677 78.3144 164.677 85.444 Q164.677 92.5504 166.482 96.1152 Q168.311 99.6569 171.922 99.6569 Q175.556 99.6569 177.362 96.1152 Q179.19 92.5504 179.19 85.444 Q179.19 78.3144 177.362 74.7728 Q175.556 71.208 171.922 71.208 M171.922 67.5043 Q177.732 67.5043 180.788 72.1107 Q183.866 76.6941 183.866 85.444 Q183.866 94.1708 180.788 98.7773 Q177.732 103.361 171.922 103.361 Q166.112 103.361 163.033 98.7773 Q159.978 94.1708 159.978 85.444 Q159.978 76.6941 163.033 72.1107 Q166.112 67.5043 171.922 67.5043 Z\" fill=\"#000000\" fill-rule=\"evenodd\" fill-opacity=\"1\" /><path clip-path=\"url(#clip350)\" d=\"M22.818 861.014 L46.4666 869.735 L46.4666 852.261 L22.818 861.014 M16.4842 864.643 L16.4842 857.354 L64.0042 839.244 L64.0042 845.928 L51.8138 850.256 L51.8138 871.677 L64.0042 876.005 L64.0042 882.785 L16.4842 864.643 Z\" fill=\"#000000\" fill-rule=\"evenodd\" fill-opacity=\"1\" /><path clip-path=\"url(#clip350)\" d=\"M29.7248 808.052 L35.1993 808.052 Q33.8307 810.534 33.1623 813.049 Q32.4621 815.531 32.4621 818.078 Q32.4621 823.775 36.0905 826.926 Q39.6872 830.077 46.212 830.077 Q52.7369 830.077 56.3653 826.926 Q59.9619 823.775 59.9619 818.078 Q59.9619 815.531 59.2935 813.049 Q58.5933 810.534 57.2247 808.052 L62.6355 808.052 Q63.7814 810.502 64.3543 813.144 Q64.9272 815.754 64.9272 818.714 Q64.9272 826.767 59.8664 831.509 Q54.8057 836.252 46.212 836.252 Q37.491 836.252 32.4939 831.477 Q27.4968 826.671 27.4968 818.332 Q27.4968 815.627 28.0697 813.049 Q28.6108 810.471 29.7248 808.052 Z\" fill=\"#000000\" fill-rule=\"evenodd\" fill-opacity=\"1\" /><path clip-path=\"url(#clip350)\" d=\"M29.7248 772.213 L35.1993 772.213 Q33.8307 774.695 33.1623 777.21 Q32.4621 779.692 32.4621 782.239 Q32.4621 787.936 36.0905 791.087 Q39.6872 794.238 46.212 794.238 Q52.7369 794.238 56.3653 791.087 Q59.9619 787.936 59.9619 782.239 Q59.9619 779.692 59.2935 777.21 Q58.5933 774.695 57.2247 772.213 L62.6355 772.213 Q63.7814 774.663 64.3543 777.305 Q64.9272 779.915 64.9272 782.875 Q64.9272 790.928 59.8664 795.67 Q54.8057 800.413 46.212 800.413 Q37.491 800.413 32.4939 795.638 Q27.4968 790.832 27.4968 782.493 Q27.4968 779.788 28.0697 777.21 Q28.6108 774.632 29.7248 772.213 Z\" fill=\"#000000\" fill-rule=\"evenodd\" fill-opacity=\"1\" /><path clip-path=\"url(#clip350)\" d=\"M49.9359 762.632 L28.3562 762.632 L28.3562 756.776 L49.7131 756.776 Q54.7739 756.776 57.3202 754.802 Q59.8346 752.829 59.8346 748.882 Q59.8346 744.14 56.8109 741.403 Q53.7872 738.634 48.5673 738.634 L28.3562 738.634 L28.3562 732.777 L64.0042 732.777 L64.0042 738.634 L58.5296 738.634 Q61.7762 740.766 63.3676 743.599 Q64.9272 746.4 64.9272 750.124 Q64.9272 756.267 61.1078 759.449 Q57.2883 762.632 49.9359 762.632 M27.4968 747.896 L27.4968 747.896 Z\" fill=\"#000000\" fill-rule=\"evenodd\" fill-opacity=\"1\" /><path clip-path=\"url(#clip350)\" d=\"M33.8307 700.057 Q33.2578 701.044 33.0032 702.222 Q32.7167 703.368 32.7167 704.768 Q32.7167 709.733 35.9632 712.407 Q39.1779 715.049 45.2253 715.049 L64.0042 715.049 L64.0042 720.937 L28.3562 720.937 L28.3562 715.049 L33.8944 715.049 Q30.6479 713.203 29.0883 710.242 Q27.4968 707.282 27.4968 703.049 Q27.4968 702.444 27.5923 701.712 Q27.656 700.98 27.8151 700.089 L33.8307 700.057 Z\" fill=\"#000000\" fill-rule=\"evenodd\" fill-opacity=\"1\" /><path clip-path=\"url(#clip350)\" d=\"M46.0847 677.714 Q46.0847 684.811 47.7079 687.549 Q49.3312 690.286 53.2461 690.286 Q56.3653 690.286 58.2114 688.249 Q60.0256 686.18 60.0256 682.647 Q60.0256 677.777 56.5881 674.849 Q53.1188 671.889 47.3897 671.889 L46.0847 671.889 L46.0847 677.714 M43.6657 666.033 L64.0042 666.033 L64.0042 671.889 L58.5933 671.889 Q61.8398 673.894 63.3994 676.886 Q64.9272 679.878 64.9272 684.207 Q64.9272 689.681 61.8716 692.928 Q58.7843 696.142 53.6281 696.142 Q47.6125 696.142 44.5569 692.132 Q41.5014 688.09 41.5014 680.101 L41.5014 671.889 L40.9285 671.889 Q36.8862 671.889 34.6901 674.563 Q32.4621 677.204 32.4621 682.011 Q32.4621 685.066 33.1941 687.963 Q33.9262 690.859 35.3903 693.533 L29.9795 693.533 Q28.7381 690.318 28.1334 687.294 Q27.4968 684.27 27.4968 681.406 Q27.4968 673.671 31.5072 669.852 Q35.5176 666.033 43.6657 666.033 Z\" fill=\"#000000\" fill-rule=\"evenodd\" fill-opacity=\"1\" /><path clip-path=\"url(#clip350)\" d=\"M29.7248 628.316 L35.1993 628.316 Q33.8307 630.798 33.1623 633.313 Q32.4621 635.796 32.4621 638.342 Q32.4621 644.039 36.0905 647.19 Q39.6872 650.341 46.212 650.341 Q52.7369 650.341 56.3653 647.19 Q59.9619 644.039 59.9619 638.342 Q59.9619 635.796 59.2935 633.313 Q58.5933 630.798 57.2247 628.316 L62.6355 628.316 Q63.7814 630.767 64.3543 633.408 Q64.9272 636.018 64.9272 638.978 Q64.9272 647.031 59.8664 651.773 Q54.8057 656.516 46.212 656.516 Q37.491 656.516 32.4939 651.742 Q27.4968 646.936 27.4968 638.596 Q27.4968 635.891 28.0697 633.313 Q28.6108 630.735 29.7248 628.316 Z\" fill=\"#000000\" fill-rule=\"evenodd\" fill-opacity=\"1\" /><path clip-path=\"url(#clip350)\" d=\"M67.3143 603.299 Q73.68 605.781 75.6216 608.137 Q77.5631 610.492 77.5631 614.439 L77.5631 619.117 L72.6615 619.117 L72.6615 615.68 Q72.6615 613.261 71.5157 611.924 Q70.3699 610.587 66.1048 608.964 L63.4312 607.914 L28.3562 622.332 L28.3562 616.126 L56.238 604.986 L28.3562 593.846 L28.3562 587.639 L67.3143 603.299 Z\" fill=\"#000000\" fill-rule=\"evenodd\" fill-opacity=\"1\" /><polyline clip-path=\"url(#clip352)\" style=\"stroke:#009af9; stroke-linecap:butt; stroke-linejoin:round; stroke-width:4; stroke-opacity:1; fill:none\" points=\"\n",
       "  280.231,1384.24 321.296,1088.45 362.36,912.607 403.425,790.721 444.489,688.631 485.554,618.76 526.618,567.521 567.683,513.953 608.747,478.241 649.811,450.292 \n",
       "  690.876,418.462 731.94,387.408 773.005,357.131 814.069,328.018 855.134,308.221 896.198,284.154 937.263,271.344 978.327,248.054 1019.39,231.751 1060.46,224.764 \n",
       "  1101.52,201.473 1142.59,192.157 1183.65,181.676 1224.71,169.643 1265.78,159.939 1306.84,157.61 1347.91,144.412 1388.97,137.036 1430.04,130.826 1471.1,125.779 \n",
       "  1512.17,117.239 1553.23,118.792 1594.29,114.134 1635.36,110.252 1676.42,104.43 1717.49,103.653 1758.55,101.324 1799.62,99.3836 1840.68,98.219 1881.75,93.1727 \n",
       "  1922.81,91.2319 1963.88,88.1265 2004.94,90.0674 2046,88.9028 2087.07,87.3501 2128.13,89.291 2169.2,86.5738 2210.26,88.1265 2251.33,86.1857 2292.39,86.1857 \n",
       "  \n",
       "  \"/>\n",
       "<polyline clip-path=\"url(#clip352)\" style=\"stroke:#e26f46; stroke-linecap:butt; stroke-linejoin:round; stroke-width:4; stroke-opacity:1; fill:none\" points=\"\n",
       "  280.231,1362.11 321.296,1084.57 362.36,907.949 403.425,847.394 444.489,721.238 485.554,600.128 526.618,635.451 567.683,574.896 608.747,534.526 649.811,524.434 \n",
       "  690.876,584.989 731.94,499.202 773.005,473.971 814.069,453.786 855.134,529.48 896.198,494.156 937.263,443.694 978.327,383.138 1019.39,403.323 1060.46,428.555 \n",
       "  1101.52,423.509 1142.59,408.37 1183.65,398.277 1224.71,383.138 1265.78,368 1306.84,408.37 1347.91,388.185 1388.97,362.953 1430.04,393.231 1471.1,342.768 \n",
       "  1512.17,352.861 1553.23,347.815 1594.29,332.676 1635.36,362.953 1676.42,347.815 1717.49,352.861 1758.55,383.138 1799.62,347.815 1840.68,352.861 1881.75,408.37 \n",
       "  1922.81,327.63 1963.88,327.63 2004.94,342.768 2046,327.63 2087.07,312.491 2128.13,327.63 2169.2,378.092 2210.26,342.768 2251.33,362.953 2292.39,362.953 \n",
       "  \n",
       "  \"/>\n",
       "<path clip-path=\"url(#clip350)\" d=\"\n",
       "M1748.26 248.629 L2281.66 248.629 L2281.66 93.1086 L1748.26 93.1086  Z\n",
       "  \" fill=\"#ffffff\" fill-rule=\"evenodd\" fill-opacity=\"1\"/>\n",
       "<polyline clip-path=\"url(#clip350)\" style=\"stroke:#000000; stroke-linecap:butt; stroke-linejoin:round; stroke-width:4; stroke-opacity:1; fill:none\" points=\"\n",
       "  1748.26,248.629 2281.66,248.629 2281.66,93.1086 1748.26,93.1086 1748.26,248.629 \n",
       "  \"/>\n",
       "<polyline clip-path=\"url(#clip350)\" style=\"stroke:#009af9; stroke-linecap:butt; stroke-linejoin:round; stroke-width:4; stroke-opacity:1; fill:none\" points=\"\n",
       "  1771.96,144.949 1914.15,144.949 \n",
       "  \"/>\n",
       "<path clip-path=\"url(#clip350)\" d=\"M1945.26 128.942 L1945.26 136.303 L1954.03 136.303 L1954.03 139.613 L1945.26 139.613 L1945.26 153.687 Q1945.26 156.858 1946.12 157.761 Q1947 158.664 1949.66 158.664 L1954.03 158.664 L1954.03 162.229 L1949.66 162.229 Q1944.73 162.229 1942.85 160.4 Q1940.98 158.548 1940.98 153.687 L1940.98 139.613 L1937.85 139.613 L1937.85 136.303 L1940.98 136.303 L1940.98 128.942 L1945.26 128.942 Z\" fill=\"#000000\" fill-rule=\"evenodd\" fill-opacity=\"1\" /><path clip-path=\"url(#clip350)\" d=\"M1974.66 140.284 Q1973.94 139.868 1973.08 139.682 Q1972.25 139.474 1971.23 139.474 Q1967.62 139.474 1965.68 141.835 Q1963.75 144.173 1963.75 148.571 L1963.75 162.229 L1959.47 162.229 L1959.47 136.303 L1963.75 136.303 L1963.75 140.331 Q1965.1 137.969 1967.25 136.835 Q1969.4 135.678 1972.48 135.678 Q1972.92 135.678 1973.45 135.747 Q1973.99 135.794 1974.63 135.909 L1974.66 140.284 Z\" fill=\"#000000\" fill-rule=\"evenodd\" fill-opacity=\"1\" /><path clip-path=\"url(#clip350)\" d=\"M1999.84 146.581 L1999.84 162.229 L1995.58 162.229 L1995.58 146.719 Q1995.58 143.039 1994.15 141.21 Q1992.71 139.382 1989.84 139.382 Q1986.39 139.382 1984.4 141.581 Q1982.41 143.78 1982.41 147.576 L1982.41 162.229 L1978.13 162.229 L1978.13 136.303 L1982.41 136.303 L1982.41 140.331 Q1983.94 137.993 1986 136.835 Q1988.08 135.678 1990.79 135.678 Q1995.26 135.678 1997.55 138.456 Q1999.84 141.21 1999.84 146.581 Z\" fill=\"#000000\" fill-rule=\"evenodd\" fill-opacity=\"1\" /><path clip-path=\"url(#clip350)\" d=\"M2035.19 149.196 Q2030.03 149.196 2028.04 150.377 Q2026.05 151.557 2026.05 154.405 Q2026.05 156.673 2027.53 158.016 Q2029.03 159.335 2031.6 159.335 Q2035.14 159.335 2037.27 156.835 Q2039.43 154.312 2039.43 150.145 L2039.43 149.196 L2035.19 149.196 M2043.68 147.437 L2043.68 162.229 L2039.43 162.229 L2039.43 158.293 Q2037.97 160.655 2035.79 161.789 Q2033.61 162.9 2030.47 162.9 Q2026.49 162.9 2024.12 160.678 Q2021.79 158.432 2021.79 154.682 Q2021.79 150.307 2024.7 148.085 Q2027.64 145.863 2033.45 145.863 L2039.43 145.863 L2039.43 145.446 Q2039.43 142.507 2037.48 140.909 Q2035.56 139.289 2032.06 139.289 Q2029.84 139.289 2027.74 139.821 Q2025.63 140.354 2023.68 141.419 L2023.68 137.483 Q2026.02 136.581 2028.22 136.141 Q2030.42 135.678 2032.5 135.678 Q2038.13 135.678 2040.91 138.594 Q2043.68 141.511 2043.68 147.437 Z\" fill=\"#000000\" fill-rule=\"evenodd\" fill-opacity=\"1\" /><path clip-path=\"url(#clip350)\" d=\"M2071.11 137.298 L2071.11 141.28 Q2069.31 140.284 2067.48 139.798 Q2065.67 139.289 2063.82 139.289 Q2059.68 139.289 2057.39 141.928 Q2055.1 144.544 2055.1 149.289 Q2055.1 154.034 2057.39 156.673 Q2059.68 159.289 2063.82 159.289 Q2065.67 159.289 2067.48 158.803 Q2069.31 158.293 2071.11 157.298 L2071.11 161.233 Q2069.33 162.067 2067.41 162.483 Q2065.51 162.9 2063.36 162.9 Q2057.5 162.9 2054.05 159.219 Q2050.61 155.539 2050.61 149.289 Q2050.61 142.946 2054.08 139.312 Q2057.57 135.678 2063.64 135.678 Q2065.61 135.678 2067.48 136.095 Q2069.36 136.488 2071.11 137.298 Z\" fill=\"#000000\" fill-rule=\"evenodd\" fill-opacity=\"1\" /><path clip-path=\"url(#clip350)\" d=\"M2097.18 137.298 L2097.18 141.28 Q2095.37 140.284 2093.55 139.798 Q2091.74 139.289 2089.89 139.289 Q2085.74 139.289 2083.45 141.928 Q2081.16 144.544 2081.16 149.289 Q2081.16 154.034 2083.45 156.673 Q2085.74 159.289 2089.89 159.289 Q2091.74 159.289 2093.55 158.803 Q2095.37 158.293 2097.18 157.298 L2097.18 161.233 Q2095.4 162.067 2093.48 162.483 Q2091.58 162.9 2089.42 162.9 Q2083.57 162.9 2080.12 159.219 Q2076.67 155.539 2076.67 149.289 Q2076.67 142.946 2080.14 139.312 Q2083.64 135.678 2089.7 135.678 Q2091.67 135.678 2093.55 136.095 Q2095.42 136.488 2097.18 137.298 Z\" fill=\"#000000\" fill-rule=\"evenodd\" fill-opacity=\"1\" /><path clip-path=\"url(#clip350)\" d=\"M2104.15 151.997 L2104.15 136.303 L2108.41 136.303 L2108.41 151.835 Q2108.41 155.516 2109.84 157.368 Q2111.28 159.196 2114.15 159.196 Q2117.6 159.196 2119.59 156.997 Q2121.6 154.798 2121.6 151.002 L2121.6 136.303 L2125.86 136.303 L2125.86 162.229 L2121.6 162.229 L2121.6 158.247 Q2120.05 160.608 2117.99 161.766 Q2115.95 162.9 2113.24 162.9 Q2108.78 162.9 2106.46 160.122 Q2104.15 157.344 2104.15 151.997 M2114.86 135.678 L2114.86 135.678 Z\" fill=\"#000000\" fill-rule=\"evenodd\" fill-opacity=\"1\" /><path clip-path=\"url(#clip350)\" d=\"M2149.66 140.284 Q2148.94 139.868 2148.08 139.682 Q2147.25 139.474 2146.23 139.474 Q2142.62 139.474 2140.67 141.835 Q2138.75 144.173 2138.75 148.571 L2138.75 162.229 L2134.47 162.229 L2134.47 136.303 L2138.75 136.303 L2138.75 140.331 Q2140.1 137.969 2142.25 136.835 Q2144.4 135.678 2147.48 135.678 Q2147.92 135.678 2148.45 135.747 Q2148.98 135.794 2149.63 135.909 L2149.66 140.284 Z\" fill=\"#000000\" fill-rule=\"evenodd\" fill-opacity=\"1\" /><path clip-path=\"url(#clip350)\" d=\"M2165.91 149.196 Q2160.74 149.196 2158.75 150.377 Q2156.76 151.557 2156.76 154.405 Q2156.76 156.673 2158.24 158.016 Q2159.75 159.335 2162.32 159.335 Q2165.86 159.335 2167.99 156.835 Q2170.14 154.312 2170.14 150.145 L2170.14 149.196 L2165.91 149.196 M2174.4 147.437 L2174.4 162.229 L2170.14 162.229 L2170.14 158.293 Q2168.68 160.655 2166.51 161.789 Q2164.33 162.9 2161.18 162.9 Q2157.2 162.9 2154.84 160.678 Q2152.5 158.432 2152.5 154.682 Q2152.5 150.307 2155.42 148.085 Q2158.36 145.863 2164.17 145.863 L2170.14 145.863 L2170.14 145.446 Q2170.14 142.507 2168.2 140.909 Q2166.28 139.289 2162.78 139.289 Q2160.56 139.289 2158.45 139.821 Q2156.35 140.354 2154.4 141.419 L2154.4 137.483 Q2156.74 136.581 2158.94 136.141 Q2161.14 135.678 2163.22 135.678 Q2168.85 135.678 2171.62 138.594 Q2174.4 141.511 2174.4 147.437 Z\" fill=\"#000000\" fill-rule=\"evenodd\" fill-opacity=\"1\" /><path clip-path=\"url(#clip350)\" d=\"M2201.83 137.298 L2201.83 141.28 Q2200.03 140.284 2198.2 139.798 Q2196.39 139.289 2194.54 139.289 Q2190.4 139.289 2188.1 141.928 Q2185.81 144.544 2185.81 149.289 Q2185.81 154.034 2188.1 156.673 Q2190.4 159.289 2194.54 159.289 Q2196.39 159.289 2198.2 158.803 Q2200.03 158.293 2201.83 157.298 L2201.83 161.233 Q2200.05 162.067 2198.13 162.483 Q2196.23 162.9 2194.08 162.9 Q2188.22 162.9 2184.77 159.219 Q2181.32 155.539 2181.32 149.289 Q2181.32 142.946 2184.79 139.312 Q2188.29 135.678 2194.35 135.678 Q2196.32 135.678 2198.2 136.095 Q2200.07 136.488 2201.83 137.298 Z\" fill=\"#000000\" fill-rule=\"evenodd\" fill-opacity=\"1\" /><path clip-path=\"url(#clip350)\" d=\"M2220.03 164.636 Q2218.22 169.266 2216.51 170.678 Q2214.79 172.09 2211.92 172.09 L2208.52 172.09 L2208.52 168.525 L2211.02 168.525 Q2212.78 168.525 2213.75 167.692 Q2214.73 166.858 2215.91 163.756 L2216.67 161.812 L2206.18 136.303 L2210.7 136.303 L2218.8 156.581 L2226.9 136.303 L2231.41 136.303 L2220.03 164.636 Z\" fill=\"#000000\" fill-rule=\"evenodd\" fill-opacity=\"1\" /><polyline clip-path=\"url(#clip350)\" style=\"stroke:#e26f46; stroke-linecap:butt; stroke-linejoin:round; stroke-width:4; stroke-opacity:1; fill:none\" points=\"\n",
       "  1771.96,196.789 1914.15,196.789 \n",
       "  \"/>\n",
       "<path clip-path=\"url(#clip350)\" d=\"M1937.85 188.143 L1942.37 188.143 L1950.47 209.902 L1958.57 188.143 L1963.08 188.143 L1953.36 214.069 L1947.57 214.069 L1937.85 188.143 Z\" fill=\"#000000\" fill-rule=\"evenodd\" fill-opacity=\"1\" /><path clip-path=\"url(#clip350)\" d=\"M1980.74 201.036 Q1975.58 201.036 1973.59 202.217 Q1971.6 203.397 1971.6 206.245 Q1971.6 208.513 1973.08 209.856 Q1974.59 211.175 1977.16 211.175 Q1980.7 211.175 1982.83 208.675 Q1984.98 206.152 1984.98 201.985 L1984.98 201.036 L1980.74 201.036 M1989.24 199.277 L1989.24 214.069 L1984.98 214.069 L1984.98 210.133 Q1983.52 212.495 1981.35 213.629 Q1979.17 214.74 1976.02 214.74 Q1972.04 214.74 1969.68 212.518 Q1967.34 210.272 1967.34 206.522 Q1967.34 202.147 1970.26 199.925 Q1973.2 197.703 1979.01 197.703 L1984.98 197.703 L1984.98 197.286 Q1984.98 194.347 1983.04 192.749 Q1981.12 191.129 1977.62 191.129 Q1975.4 191.129 1973.29 191.661 Q1971.18 192.194 1969.24 193.259 L1969.24 189.323 Q1971.58 188.421 1973.78 187.981 Q1975.98 187.518 1978.06 187.518 Q1983.68 187.518 1986.46 190.434 Q1989.24 193.351 1989.24 199.277 Z\" fill=\"#000000\" fill-rule=\"evenodd\" fill-opacity=\"1\" /><path clip-path=\"url(#clip350)\" d=\"M1998.01 178.05 L2002.27 178.05 L2002.27 214.069 L1998.01 214.069 L1998.01 178.05 Z\" fill=\"#000000\" fill-rule=\"evenodd\" fill-opacity=\"1\" /><path clip-path=\"url(#clip350)\" d=\"M2038.04 201.036 Q2032.87 201.036 2030.88 202.217 Q2028.89 203.397 2028.89 206.245 Q2028.89 208.513 2030.37 209.856 Q2031.88 211.175 2034.45 211.175 Q2037.99 211.175 2040.12 208.675 Q2042.27 206.152 2042.27 201.985 L2042.27 201.036 L2038.04 201.036 M2046.53 199.277 L2046.53 214.069 L2042.27 214.069 L2042.27 210.133 Q2040.81 212.495 2038.64 213.629 Q2036.46 214.74 2033.31 214.74 Q2029.33 214.74 2026.97 212.518 Q2024.63 210.272 2024.63 206.522 Q2024.63 202.147 2027.55 199.925 Q2030.49 197.703 2036.3 197.703 L2042.27 197.703 L2042.27 197.286 Q2042.27 194.347 2040.33 192.749 Q2038.41 191.129 2034.91 191.129 Q2032.69 191.129 2030.58 191.661 Q2028.48 192.194 2026.53 193.259 L2026.53 189.323 Q2028.87 188.421 2031.07 187.981 Q2033.27 187.518 2035.35 187.518 Q2040.98 187.518 2043.75 190.434 Q2046.53 193.351 2046.53 199.277 Z\" fill=\"#000000\" fill-rule=\"evenodd\" fill-opacity=\"1\" /><path clip-path=\"url(#clip350)\" d=\"M2073.96 189.138 L2073.96 193.12 Q2072.16 192.124 2070.33 191.638 Q2068.52 191.129 2066.67 191.129 Q2062.53 191.129 2060.24 193.768 Q2057.94 196.384 2057.94 201.129 Q2057.94 205.874 2060.24 208.513 Q2062.53 211.129 2066.67 211.129 Q2068.52 211.129 2070.33 210.643 Q2072.16 210.133 2073.96 209.138 L2073.96 213.073 Q2072.18 213.907 2070.26 214.323 Q2068.36 214.74 2066.21 214.74 Q2060.35 214.74 2056.9 211.059 Q2053.45 207.379 2053.45 201.129 Q2053.45 194.786 2056.93 191.152 Q2060.42 187.518 2066.49 187.518 Q2068.45 187.518 2070.33 187.935 Q2072.2 188.328 2073.96 189.138 Z\" fill=\"#000000\" fill-rule=\"evenodd\" fill-opacity=\"1\" /><path clip-path=\"url(#clip350)\" d=\"M2100.03 189.138 L2100.03 193.12 Q2098.22 192.124 2096.39 191.638 Q2094.59 191.129 2092.74 191.129 Q2088.59 191.129 2086.3 193.768 Q2084.01 196.384 2084.01 201.129 Q2084.01 205.874 2086.3 208.513 Q2088.59 211.129 2092.74 211.129 Q2094.59 211.129 2096.39 210.643 Q2098.22 210.133 2100.03 209.138 L2100.03 213.073 Q2098.24 213.907 2096.32 214.323 Q2094.42 214.74 2092.27 214.74 Q2086.42 214.74 2082.97 211.059 Q2079.52 207.379 2079.52 201.129 Q2079.52 194.786 2082.99 191.152 Q2086.49 187.518 2092.55 187.518 Q2094.52 187.518 2096.39 187.935 Q2098.27 188.328 2100.03 189.138 Z\" fill=\"#000000\" fill-rule=\"evenodd\" fill-opacity=\"1\" /><path clip-path=\"url(#clip350)\" d=\"M2106.99 203.837 L2106.99 188.143 L2111.25 188.143 L2111.25 203.675 Q2111.25 207.356 2112.69 209.208 Q2114.12 211.036 2116.99 211.036 Q2120.44 211.036 2122.43 208.837 Q2124.45 206.638 2124.45 202.842 L2124.45 188.143 L2128.71 188.143 L2128.71 214.069 L2124.45 214.069 L2124.45 210.087 Q2122.9 212.448 2120.84 213.606 Q2118.8 214.74 2116.09 214.74 Q2111.62 214.74 2109.31 211.962 Q2106.99 209.184 2106.99 203.837 M2117.71 187.518 L2117.71 187.518 Z\" fill=\"#000000\" fill-rule=\"evenodd\" fill-opacity=\"1\" /><path clip-path=\"url(#clip350)\" d=\"M2152.5 192.124 Q2151.79 191.708 2150.93 191.522 Q2150.1 191.314 2149.08 191.314 Q2145.47 191.314 2143.52 193.675 Q2141.6 196.013 2141.6 200.411 L2141.6 214.069 L2137.32 214.069 L2137.32 188.143 L2141.6 188.143 L2141.6 192.171 Q2142.94 189.809 2145.1 188.675 Q2147.25 187.518 2150.33 187.518 Q2150.77 187.518 2151.3 187.587 Q2151.83 187.634 2152.48 187.749 L2152.5 192.124 Z\" fill=\"#000000\" fill-rule=\"evenodd\" fill-opacity=\"1\" /><path clip-path=\"url(#clip350)\" d=\"M2168.75 201.036 Q2163.59 201.036 2161.6 202.217 Q2159.61 203.397 2159.61 206.245 Q2159.61 208.513 2161.09 209.856 Q2162.6 211.175 2165.17 211.175 Q2168.71 211.175 2170.84 208.675 Q2172.99 206.152 2172.99 201.985 L2172.99 201.036 L2168.75 201.036 M2177.25 199.277 L2177.25 214.069 L2172.99 214.069 L2172.99 210.133 Q2171.53 212.495 2169.35 213.629 Q2167.18 214.74 2164.03 214.74 Q2160.05 214.74 2157.69 212.518 Q2155.35 210.272 2155.35 206.522 Q2155.35 202.147 2158.27 199.925 Q2161.21 197.703 2167.02 197.703 L2172.99 197.703 L2172.99 197.286 Q2172.99 194.347 2171.04 192.749 Q2169.12 191.129 2165.63 191.129 Q2163.41 191.129 2161.3 191.661 Q2159.19 192.194 2157.25 193.259 L2157.25 189.323 Q2159.59 188.421 2161.79 187.981 Q2163.98 187.518 2166.07 187.518 Q2171.69 187.518 2174.47 190.434 Q2177.25 193.351 2177.25 199.277 Z\" fill=\"#000000\" fill-rule=\"evenodd\" fill-opacity=\"1\" /><path clip-path=\"url(#clip350)\" d=\"M2204.68 189.138 L2204.68 193.12 Q2202.87 192.124 2201.04 191.638 Q2199.24 191.129 2197.39 191.129 Q2193.24 191.129 2190.95 193.768 Q2188.66 196.384 2188.66 201.129 Q2188.66 205.874 2190.95 208.513 Q2193.24 211.129 2197.39 211.129 Q2199.24 211.129 2201.04 210.643 Q2202.87 210.133 2204.68 209.138 L2204.68 213.073 Q2202.9 213.907 2200.98 214.323 Q2199.08 214.74 2196.92 214.74 Q2191.07 214.74 2187.62 211.059 Q2184.17 207.379 2184.17 201.129 Q2184.17 194.786 2187.64 191.152 Q2191.14 187.518 2197.2 187.518 Q2199.17 187.518 2201.04 187.935 Q2202.92 188.328 2204.68 189.138 Z\" fill=\"#000000\" fill-rule=\"evenodd\" fill-opacity=\"1\" /><path clip-path=\"url(#clip350)\" d=\"M2222.87 216.476 Q2221.07 221.106 2219.35 222.518 Q2217.64 223.93 2214.77 223.93 L2211.37 223.93 L2211.37 220.365 L2213.87 220.365 Q2215.63 220.365 2216.6 219.532 Q2217.57 218.698 2218.75 215.596 L2219.52 213.652 L2209.03 188.143 L2213.54 188.143 L2221.65 208.421 L2229.75 188.143 L2234.26 188.143 L2222.87 216.476 Z\" fill=\"#000000\" fill-rule=\"evenodd\" fill-opacity=\"1\" /></svg>\n"
      ]
     },
     "execution_count": 96,
     "metadata": {},
     "output_type": "execute_result"
    }
   ],
   "source": [
    "plot([best_model_b[3,:], best_model_b[4,:]],\n",
    "    labels=[\"trn accuracy\" \"val accuracy\" ],xlabel=\"Iterations\",ylabel=\"Accuracy\")"
   ]
  },
  {
   "cell_type": "code",
   "execution_count": null,
   "id": "79a4e73e",
   "metadata": {},
   "outputs": [],
   "source": []
  },
  {
   "cell_type": "code",
   "execution_count": 97,
   "id": "ad4b513d",
   "metadata": {},
   "outputs": [],
   "source": [
    "best_model_gs = load(\"/Users/ufukaltun/Documents/koç/dersler/ku deep learning/project_final/results_gs_target_cartoon.jld2\")[\"results\"];"
   ]
  },
  {
   "cell_type": "code",
   "execution_count": 98,
   "id": "3fd96b89",
   "metadata": {},
   "outputs": [],
   "source": [
    "best_model_gs = reshape(collect(Float32,flatten(best_model_gs)),(4,:));"
   ]
  },
  {
   "cell_type": "code",
   "execution_count": 99,
   "id": "22243375",
   "metadata": {},
   "outputs": [
    {
     "data": {
      "image/svg+xml": [
       "<?xml version=\"1.0\" encoding=\"utf-8\"?>\n",
       "<svg xmlns=\"http://www.w3.org/2000/svg\" xmlns:xlink=\"http://www.w3.org/1999/xlink\" width=\"600\" height=\"400\" viewBox=\"0 0 2400 1600\">\n",
       "<defs>\n",
       "  <clipPath id=\"clip390\">\n",
       "    <rect x=\"0\" y=\"0\" width=\"2400\" height=\"1600\"/>\n",
       "  </clipPath>\n",
       "</defs>\n",
       "<path clip-path=\"url(#clip390)\" d=\"\n",
       "M0 1600 L2400 1600 L2400 0 L0 0  Z\n",
       "  \" fill=\"#ffffff\" fill-rule=\"evenodd\" fill-opacity=\"1\"/>\n",
       "<defs>\n",
       "  <clipPath id=\"clip391\">\n",
       "    <rect x=\"480\" y=\"0\" width=\"1681\" height=\"1600\"/>\n",
       "  </clipPath>\n",
       "</defs>\n",
       "<path clip-path=\"url(#clip390)\" d=\"\n",
       "M249.195 1423.18 L2352.76 1423.18 L2352.76 47.2441 L249.195 47.2441  Z\n",
       "  \" fill=\"#ffffff\" fill-rule=\"evenodd\" fill-opacity=\"1\"/>\n",
       "<defs>\n",
       "  <clipPath id=\"clip392\">\n",
       "    <rect x=\"249\" y=\"47\" width=\"2105\" height=\"1377\"/>\n",
       "  </clipPath>\n",
       "</defs>\n",
       "<polyline clip-path=\"url(#clip392)\" style=\"stroke:#000000; stroke-linecap:butt; stroke-linejoin:round; stroke-width:2; stroke-opacity:0.1; fill:none\" points=\"\n",
       "  268.23,1423.18 268.23,47.2441 \n",
       "  \"/>\n",
       "<polyline clip-path=\"url(#clip392)\" style=\"stroke:#000000; stroke-linecap:butt; stroke-linejoin:round; stroke-width:2; stroke-opacity:0.1; fill:none\" points=\"\n",
       "  673.228,1423.18 673.228,47.2441 \n",
       "  \"/>\n",
       "<polyline clip-path=\"url(#clip392)\" style=\"stroke:#000000; stroke-linecap:butt; stroke-linejoin:round; stroke-width:2; stroke-opacity:0.1; fill:none\" points=\"\n",
       "  1078.23,1423.18 1078.23,47.2441 \n",
       "  \"/>\n",
       "<polyline clip-path=\"url(#clip392)\" style=\"stroke:#000000; stroke-linecap:butt; stroke-linejoin:round; stroke-width:2; stroke-opacity:0.1; fill:none\" points=\"\n",
       "  1483.22,1423.18 1483.22,47.2441 \n",
       "  \"/>\n",
       "<polyline clip-path=\"url(#clip392)\" style=\"stroke:#000000; stroke-linecap:butt; stroke-linejoin:round; stroke-width:2; stroke-opacity:0.1; fill:none\" points=\"\n",
       "  1888.22,1423.18 1888.22,47.2441 \n",
       "  \"/>\n",
       "<polyline clip-path=\"url(#clip392)\" style=\"stroke:#000000; stroke-linecap:butt; stroke-linejoin:round; stroke-width:2; stroke-opacity:0.1; fill:none\" points=\"\n",
       "  2293.22,1423.18 2293.22,47.2441 \n",
       "  \"/>\n",
       "<polyline clip-path=\"url(#clip390)\" style=\"stroke:#000000; stroke-linecap:butt; stroke-linejoin:round; stroke-width:4; stroke-opacity:1; fill:none\" points=\"\n",
       "  249.195,1423.18 2352.76,1423.18 \n",
       "  \"/>\n",
       "<polyline clip-path=\"url(#clip390)\" style=\"stroke:#000000; stroke-linecap:butt; stroke-linejoin:round; stroke-width:4; stroke-opacity:1; fill:none\" points=\"\n",
       "  268.23,1423.18 268.23,1404.28 \n",
       "  \"/>\n",
       "<polyline clip-path=\"url(#clip390)\" style=\"stroke:#000000; stroke-linecap:butt; stroke-linejoin:round; stroke-width:4; stroke-opacity:1; fill:none\" points=\"\n",
       "  673.228,1423.18 673.228,1404.28 \n",
       "  \"/>\n",
       "<polyline clip-path=\"url(#clip390)\" style=\"stroke:#000000; stroke-linecap:butt; stroke-linejoin:round; stroke-width:4; stroke-opacity:1; fill:none\" points=\"\n",
       "  1078.23,1423.18 1078.23,1404.28 \n",
       "  \"/>\n",
       "<polyline clip-path=\"url(#clip390)\" style=\"stroke:#000000; stroke-linecap:butt; stroke-linejoin:round; stroke-width:4; stroke-opacity:1; fill:none\" points=\"\n",
       "  1483.22,1423.18 1483.22,1404.28 \n",
       "  \"/>\n",
       "<polyline clip-path=\"url(#clip390)\" style=\"stroke:#000000; stroke-linecap:butt; stroke-linejoin:round; stroke-width:4; stroke-opacity:1; fill:none\" points=\"\n",
       "  1888.22,1423.18 1888.22,1404.28 \n",
       "  \"/>\n",
       "<polyline clip-path=\"url(#clip390)\" style=\"stroke:#000000; stroke-linecap:butt; stroke-linejoin:round; stroke-width:4; stroke-opacity:1; fill:none\" points=\"\n",
       "  2293.22,1423.18 2293.22,1404.28 \n",
       "  \"/>\n",
       "<path clip-path=\"url(#clip390)\" d=\"M268.23 1454.1 Q264.619 1454.1 262.79 1457.66 Q260.984 1461.2 260.984 1468.33 Q260.984 1475.44 262.79 1479.01 Q264.619 1482.55 268.23 1482.55 Q271.864 1482.55 273.67 1479.01 Q275.498 1475.44 275.498 1468.33 Q275.498 1461.2 273.67 1457.66 Q271.864 1454.1 268.23 1454.1 M268.23 1450.39 Q274.04 1450.39 277.095 1455 Q280.174 1459.58 280.174 1468.33 Q280.174 1477.06 277.095 1481.67 Q274.04 1486.25 268.23 1486.25 Q262.42 1486.25 259.341 1481.67 Q256.285 1477.06 256.285 1468.33 Q256.285 1459.58 259.341 1455 Q262.42 1450.39 268.23 1450.39 Z\" fill=\"#000000\" fill-rule=\"evenodd\" fill-opacity=\"1\" /><path clip-path=\"url(#clip390)\" d=\"M647.916 1481.64 L655.555 1481.64 L655.555 1455.28 L647.244 1456.95 L647.244 1452.69 L655.508 1451.02 L660.184 1451.02 L660.184 1481.64 L667.823 1481.64 L667.823 1485.58 L647.916 1485.58 L647.916 1481.64 Z\" fill=\"#000000\" fill-rule=\"evenodd\" fill-opacity=\"1\" /><path clip-path=\"url(#clip390)\" d=\"M687.267 1454.1 Q683.656 1454.1 681.828 1457.66 Q680.022 1461.2 680.022 1468.33 Q680.022 1475.44 681.828 1479.01 Q683.656 1482.55 687.267 1482.55 Q690.902 1482.55 692.707 1479.01 Q694.536 1475.44 694.536 1468.33 Q694.536 1461.2 692.707 1457.66 Q690.902 1454.1 687.267 1454.1 M687.267 1450.39 Q693.077 1450.39 696.133 1455 Q699.212 1459.58 699.212 1468.33 Q699.212 1477.06 696.133 1481.67 Q693.077 1486.25 687.267 1486.25 Q681.457 1486.25 678.378 1481.67 Q675.323 1477.06 675.323 1468.33 Q675.323 1459.58 678.378 1455 Q681.457 1450.39 687.267 1450.39 Z\" fill=\"#000000\" fill-rule=\"evenodd\" fill-opacity=\"1\" /><path clip-path=\"url(#clip390)\" d=\"M1057 1481.64 L1073.32 1481.64 L1073.32 1485.58 L1051.37 1485.58 L1051.37 1481.64 Q1054.04 1478.89 1058.62 1474.26 Q1063.23 1469.61 1064.41 1468.27 Q1066.65 1465.74 1067.53 1464.01 Q1068.43 1462.25 1068.43 1460.56 Q1068.43 1457.8 1066.49 1456.07 Q1064.57 1454.33 1061.47 1454.33 Q1059.27 1454.33 1056.81 1455.09 Q1054.38 1455.86 1051.61 1457.41 L1051.61 1452.69 Q1054.43 1451.55 1056.88 1450.97 Q1059.34 1450.39 1061.37 1450.39 Q1066.74 1450.39 1069.94 1453.08 Q1073.13 1455.77 1073.13 1460.26 Q1073.13 1462.39 1072.32 1464.31 Q1071.54 1466.2 1069.43 1468.8 Q1068.85 1469.47 1065.75 1472.69 Q1062.65 1475.88 1057 1481.64 Z\" fill=\"#000000\" fill-rule=\"evenodd\" fill-opacity=\"1\" /><path clip-path=\"url(#clip390)\" d=\"M1093.13 1454.1 Q1089.52 1454.1 1087.69 1457.66 Q1085.89 1461.2 1085.89 1468.33 Q1085.89 1475.44 1087.69 1479.01 Q1089.52 1482.55 1093.13 1482.55 Q1096.77 1482.55 1098.57 1479.01 Q1100.4 1475.44 1100.4 1468.33 Q1100.4 1461.2 1098.57 1457.66 Q1096.77 1454.1 1093.13 1454.1 M1093.13 1450.39 Q1098.94 1450.39 1102 1455 Q1105.08 1459.58 1105.08 1468.33 Q1105.08 1477.06 1102 1481.67 Q1098.94 1486.25 1093.13 1486.25 Q1087.32 1486.25 1084.24 1481.67 Q1081.19 1477.06 1081.19 1468.33 Q1081.19 1459.58 1084.24 1455 Q1087.32 1450.39 1093.13 1450.39 Z\" fill=\"#000000\" fill-rule=\"evenodd\" fill-opacity=\"1\" /><path clip-path=\"url(#clip390)\" d=\"M1472.07 1466.95 Q1475.42 1467.66 1477.3 1469.93 Q1479.2 1472.2 1479.2 1475.53 Q1479.2 1480.65 1475.68 1483.45 Q1472.16 1486.25 1465.68 1486.25 Q1463.5 1486.25 1461.19 1485.81 Q1458.9 1485.39 1456.44 1484.54 L1456.44 1480.02 Q1458.39 1481.16 1460.7 1481.74 Q1463.02 1482.32 1465.54 1482.32 Q1469.94 1482.32 1472.23 1480.58 Q1474.54 1478.84 1474.54 1475.53 Q1474.54 1472.48 1472.39 1470.77 Q1470.26 1469.03 1466.44 1469.03 L1462.41 1469.03 L1462.41 1465.19 L1466.63 1465.19 Q1470.08 1465.19 1471.91 1463.82 Q1473.73 1462.43 1473.73 1459.84 Q1473.73 1457.18 1471.84 1455.77 Q1469.96 1454.33 1466.44 1454.33 Q1464.52 1454.33 1462.32 1454.75 Q1460.12 1455.16 1457.48 1456.04 L1457.48 1451.88 Q1460.15 1451.14 1462.46 1450.77 Q1464.8 1450.39 1466.86 1450.39 Q1472.18 1450.39 1475.28 1452.83 Q1478.39 1455.23 1478.39 1459.35 Q1478.39 1462.22 1476.74 1464.21 Q1475.1 1466.18 1472.07 1466.95 Z\" fill=\"#000000\" fill-rule=\"evenodd\" fill-opacity=\"1\" /><path clip-path=\"url(#clip390)\" d=\"M1498.06 1454.1 Q1494.45 1454.1 1492.62 1457.66 Q1490.82 1461.2 1490.82 1468.33 Q1490.82 1475.44 1492.62 1479.01 Q1494.45 1482.55 1498.06 1482.55 Q1501.7 1482.55 1503.5 1479.01 Q1505.33 1475.44 1505.33 1468.33 Q1505.33 1461.2 1503.5 1457.66 Q1501.7 1454.1 1498.06 1454.1 M1498.06 1450.39 Q1503.87 1450.39 1506.93 1455 Q1510.01 1459.58 1510.01 1468.33 Q1510.01 1477.06 1506.93 1481.67 Q1503.87 1486.25 1498.06 1486.25 Q1492.25 1486.25 1489.17 1481.67 Q1486.12 1477.06 1486.12 1468.33 Q1486.12 1459.58 1489.17 1455 Q1492.25 1450.39 1498.06 1450.39 Z\" fill=\"#000000\" fill-rule=\"evenodd\" fill-opacity=\"1\" /><path clip-path=\"url(#clip390)\" d=\"M1876.39 1455.09 L1864.59 1473.54 L1876.39 1473.54 L1876.39 1455.09 M1875.17 1451.02 L1881.05 1451.02 L1881.05 1473.54 L1885.98 1473.54 L1885.98 1477.43 L1881.05 1477.43 L1881.05 1485.58 L1876.39 1485.58 L1876.39 1477.43 L1860.79 1477.43 L1860.79 1472.92 L1875.17 1451.02 Z\" fill=\"#000000\" fill-rule=\"evenodd\" fill-opacity=\"1\" /><path clip-path=\"url(#clip390)\" d=\"M1903.71 1454.1 Q1900.1 1454.1 1898.27 1457.66 Q1896.46 1461.2 1896.46 1468.33 Q1896.46 1475.44 1898.27 1479.01 Q1900.1 1482.55 1903.71 1482.55 Q1907.34 1482.55 1909.15 1479.01 Q1910.98 1475.44 1910.98 1468.33 Q1910.98 1461.2 1909.15 1457.66 Q1907.34 1454.1 1903.71 1454.1 M1903.71 1450.39 Q1909.52 1450.39 1912.57 1455 Q1915.65 1459.58 1915.65 1468.33 Q1915.65 1477.06 1912.57 1481.67 Q1909.52 1486.25 1903.71 1486.25 Q1897.9 1486.25 1894.82 1481.67 Q1891.76 1477.06 1891.76 1468.33 Q1891.76 1459.58 1894.82 1455 Q1897.9 1450.39 1903.71 1450.39 Z\" fill=\"#000000\" fill-rule=\"evenodd\" fill-opacity=\"1\" /><path clip-path=\"url(#clip390)\" d=\"M2267.92 1451.02 L2286.28 1451.02 L2286.28 1454.96 L2272.2 1454.96 L2272.2 1463.43 Q2273.22 1463.08 2274.24 1462.92 Q2275.26 1462.73 2276.28 1462.73 Q2282.06 1462.73 2285.44 1465.9 Q2288.82 1469.08 2288.82 1474.49 Q2288.82 1480.07 2285.35 1483.17 Q2281.88 1486.25 2275.56 1486.25 Q2273.38 1486.25 2271.11 1485.88 Q2268.87 1485.51 2266.46 1484.77 L2266.46 1480.07 Q2268.55 1481.2 2270.77 1481.76 Q2272.99 1482.32 2275.47 1482.32 Q2279.47 1482.32 2281.81 1480.21 Q2284.15 1478.1 2284.15 1474.49 Q2284.15 1470.88 2281.81 1468.77 Q2279.47 1466.67 2275.47 1466.67 Q2273.59 1466.67 2271.72 1467.08 Q2269.86 1467.5 2267.92 1468.38 L2267.92 1451.02 Z\" fill=\"#000000\" fill-rule=\"evenodd\" fill-opacity=\"1\" /><path clip-path=\"url(#clip390)\" d=\"M2308.04 1454.1 Q2304.42 1454.1 2302.6 1457.66 Q2300.79 1461.2 2300.79 1468.33 Q2300.79 1475.44 2302.6 1479.01 Q2304.42 1482.55 2308.04 1482.55 Q2311.67 1482.55 2313.48 1479.01 Q2315.3 1475.44 2315.3 1468.33 Q2315.3 1461.2 2313.48 1457.66 Q2311.67 1454.1 2308.04 1454.1 M2308.04 1450.39 Q2313.85 1450.39 2316.9 1455 Q2319.98 1459.58 2319.98 1468.33 Q2319.98 1477.06 2316.9 1481.67 Q2313.85 1486.25 2308.04 1486.25 Q2302.23 1486.25 2299.15 1481.67 Q2296.09 1477.06 2296.09 1468.33 Q2296.09 1459.58 2299.15 1455 Q2302.23 1450.39 2308.04 1450.39 Z\" fill=\"#000000\" fill-rule=\"evenodd\" fill-opacity=\"1\" /><path clip-path=\"url(#clip390)\" d=\"M1150.54 1520.52 L1156.97 1520.52 L1156.97 1568.04 L1150.54 1568.04 L1150.54 1520.52 Z\" fill=\"#000000\" fill-rule=\"evenodd\" fill-opacity=\"1\" /><path clip-path=\"url(#clip390)\" d=\"M1175.3 1522.27 L1175.3 1532.4 L1187.36 1532.4 L1187.36 1536.95 L1175.3 1536.95 L1175.3 1556.3 Q1175.3 1560.66 1176.48 1561.9 Q1177.69 1563.14 1181.35 1563.14 L1187.36 1563.14 L1187.36 1568.04 L1181.35 1568.04 Q1174.57 1568.04 1171.99 1565.53 Q1169.41 1562.98 1169.41 1556.3 L1169.41 1536.95 L1165.12 1536.95 L1165.12 1532.4 L1169.41 1532.4 L1169.41 1522.27 L1175.3 1522.27 Z\" fill=\"#000000\" fill-rule=\"evenodd\" fill-opacity=\"1\" /><path clip-path=\"url(#clip390)\" d=\"M1225.56 1548.76 L1225.56 1551.62 L1198.63 1551.62 Q1199.01 1557.67 1202.26 1560.85 Q1205.54 1564 1211.36 1564 Q1214.74 1564 1217.89 1563.17 Q1221.07 1562.35 1224.19 1560.69 L1224.19 1566.23 Q1221.04 1567.57 1217.73 1568.27 Q1214.42 1568.97 1211.01 1568.97 Q1202.48 1568.97 1197.48 1564 Q1192.52 1559.04 1192.52 1550.57 Q1192.52 1541.82 1197.23 1536.69 Q1201.97 1531.54 1209.99 1531.54 Q1217.19 1531.54 1221.36 1536.18 Q1225.56 1540.8 1225.56 1548.76 M1219.7 1547.04 Q1219.64 1542.23 1217 1539.37 Q1214.39 1536.5 1210.06 1536.5 Q1205.16 1536.5 1202.2 1539.27 Q1199.27 1542.04 1198.82 1547.07 L1219.7 1547.04 Z\" fill=\"#000000\" fill-rule=\"evenodd\" fill-opacity=\"1\" /><path clip-path=\"url(#clip390)\" d=\"M1255.83 1537.87 Q1254.84 1537.3 1253.66 1537.04 Q1252.52 1536.76 1251.12 1536.76 Q1246.15 1536.76 1243.48 1540 Q1240.84 1543.22 1240.84 1549.27 L1240.84 1568.04 L1234.95 1568.04 L1234.95 1532.4 L1240.84 1532.4 L1240.84 1537.93 Q1242.68 1534.69 1245.64 1533.13 Q1248.6 1531.54 1252.83 1531.54 Q1253.44 1531.54 1254.17 1531.63 Q1254.9 1531.7 1255.79 1531.85 L1255.83 1537.87 Z\" fill=\"#000000\" fill-rule=\"evenodd\" fill-opacity=\"1\" /><path clip-path=\"url(#clip390)\" d=\"M1278.17 1550.12 Q1271.07 1550.12 1268.34 1551.75 Q1265.6 1553.37 1265.6 1557.29 Q1265.6 1560.4 1267.63 1562.25 Q1269.7 1564.07 1273.24 1564.07 Q1278.11 1564.07 1281.03 1560.63 Q1283.99 1557.16 1283.99 1551.43 L1283.99 1550.12 L1278.17 1550.12 M1289.85 1547.71 L1289.85 1568.04 L1283.99 1568.04 L1283.99 1562.63 Q1281.99 1565.88 1279 1567.44 Q1276.01 1568.97 1271.68 1568.97 Q1266.2 1568.97 1262.96 1565.91 Q1259.74 1562.82 1259.74 1557.67 Q1259.74 1551.65 1263.75 1548.6 Q1267.79 1545.54 1275.78 1545.54 L1283.99 1545.54 L1283.99 1544.97 Q1283.99 1540.93 1281.32 1538.73 Q1278.68 1536.5 1273.87 1536.5 Q1270.82 1536.5 1267.92 1537.23 Q1265.03 1537.97 1262.35 1539.43 L1262.35 1534.02 Q1265.57 1532.78 1268.59 1532.17 Q1271.61 1531.54 1274.48 1531.54 Q1282.21 1531.54 1286.03 1535.55 Q1289.85 1539.56 1289.85 1547.71 Z\" fill=\"#000000\" fill-rule=\"evenodd\" fill-opacity=\"1\" /><path clip-path=\"url(#clip390)\" d=\"M1307.71 1522.27 L1307.71 1532.4 L1319.77 1532.4 L1319.77 1536.95 L1307.71 1536.95 L1307.71 1556.3 Q1307.71 1560.66 1308.88 1561.9 Q1310.09 1563.14 1313.75 1563.14 L1319.77 1563.14 L1319.77 1568.04 L1313.75 1568.04 Q1306.98 1568.04 1304.4 1565.53 Q1301.82 1562.98 1301.82 1556.3 L1301.82 1536.95 L1297.52 1536.95 L1297.52 1532.4 L1301.82 1532.4 L1301.82 1522.27 L1307.71 1522.27 Z\" fill=\"#000000\" fill-rule=\"evenodd\" fill-opacity=\"1\" /><path clip-path=\"url(#clip390)\" d=\"M1327.47 1532.4 L1333.33 1532.4 L1333.33 1568.04 L1327.47 1568.04 L1327.47 1532.4 M1327.47 1518.52 L1333.33 1518.52 L1333.33 1525.93 L1327.47 1525.93 L1327.47 1518.52 Z\" fill=\"#000000\" fill-rule=\"evenodd\" fill-opacity=\"1\" /><path clip-path=\"url(#clip390)\" d=\"M1359.4 1536.5 Q1354.69 1536.5 1351.95 1540.19 Q1349.21 1543.85 1349.21 1550.25 Q1349.21 1556.65 1351.92 1560.34 Q1354.65 1564 1359.4 1564 Q1364.08 1564 1366.81 1560.31 Q1369.55 1556.62 1369.55 1550.25 Q1369.55 1543.92 1366.81 1540.23 Q1364.08 1536.5 1359.4 1536.5 M1359.4 1531.54 Q1367.04 1531.54 1371.4 1536.5 Q1375.76 1541.47 1375.76 1550.25 Q1375.76 1559 1371.4 1564 Q1367.04 1568.97 1359.4 1568.97 Q1351.73 1568.97 1347.37 1564 Q1343.04 1559 1343.04 1550.25 Q1343.04 1541.47 1347.37 1536.5 Q1351.73 1531.54 1359.4 1531.54 Z\" fill=\"#000000\" fill-rule=\"evenodd\" fill-opacity=\"1\" /><path clip-path=\"url(#clip390)\" d=\"M1415.1 1546.53 L1415.1 1568.04 L1409.24 1568.04 L1409.24 1546.72 Q1409.24 1541.66 1407.27 1539.14 Q1405.29 1536.63 1401.35 1536.63 Q1396.6 1536.63 1393.87 1539.65 Q1391.13 1542.68 1391.13 1547.9 L1391.13 1568.04 L1385.24 1568.04 L1385.24 1532.4 L1391.13 1532.4 L1391.13 1537.93 Q1393.23 1534.72 1396.06 1533.13 Q1398.93 1531.54 1402.65 1531.54 Q1408.79 1531.54 1411.95 1535.36 Q1415.1 1539.14 1415.1 1546.53 Z\" fill=\"#000000\" fill-rule=\"evenodd\" fill-opacity=\"1\" /><path clip-path=\"url(#clip390)\" d=\"M1449.5 1533.45 L1449.5 1538.98 Q1447.02 1537.71 1444.35 1537.07 Q1441.67 1536.44 1438.81 1536.44 Q1434.45 1536.44 1432.25 1537.77 Q1430.09 1539.11 1430.09 1541.79 Q1430.09 1543.82 1431.65 1545 Q1433.21 1546.15 1437.92 1547.2 L1439.92 1547.64 Q1446.16 1548.98 1448.77 1551.43 Q1451.41 1553.85 1451.41 1558.21 Q1451.41 1563.17 1447.47 1566.07 Q1443.55 1568.97 1436.68 1568.97 Q1433.81 1568.97 1430.69 1568.39 Q1427.61 1567.85 1424.17 1566.74 L1424.17 1560.69 Q1427.41 1562.38 1430.57 1563.24 Q1433.72 1564.07 1436.8 1564.07 Q1440.94 1564.07 1443.17 1562.66 Q1445.4 1561.23 1445.4 1558.65 Q1445.4 1556.27 1443.77 1554.99 Q1442.18 1553.72 1436.74 1552.54 L1434.7 1552.07 Q1429.26 1550.92 1426.84 1548.56 Q1424.42 1546.18 1424.42 1542.04 Q1424.42 1537.01 1427.99 1534.27 Q1431.55 1531.54 1438.11 1531.54 Q1441.36 1531.54 1444.22 1532.01 Q1447.08 1532.49 1449.5 1533.45 Z\" fill=\"#000000\" fill-rule=\"evenodd\" fill-opacity=\"1\" /><polyline clip-path=\"url(#clip392)\" style=\"stroke:#000000; stroke-linecap:butt; stroke-linejoin:round; stroke-width:2; stroke-opacity:0.1; fill:none\" points=\"\n",
       "  249.195,1249.38 2352.76,1249.38 \n",
       "  \"/>\n",
       "<polyline clip-path=\"url(#clip392)\" style=\"stroke:#000000; stroke-linecap:butt; stroke-linejoin:round; stroke-width:2; stroke-opacity:0.1; fill:none\" points=\"\n",
       "  249.195,1013.94 2352.76,1013.94 \n",
       "  \"/>\n",
       "<polyline clip-path=\"url(#clip392)\" style=\"stroke:#000000; stroke-linecap:butt; stroke-linejoin:round; stroke-width:2; stroke-opacity:0.1; fill:none\" points=\"\n",
       "  249.195,778.489 2352.76,778.489 \n",
       "  \"/>\n",
       "<polyline clip-path=\"url(#clip392)\" style=\"stroke:#000000; stroke-linecap:butt; stroke-linejoin:round; stroke-width:2; stroke-opacity:0.1; fill:none\" points=\"\n",
       "  249.195,543.044 2352.76,543.044 \n",
       "  \"/>\n",
       "<polyline clip-path=\"url(#clip392)\" style=\"stroke:#000000; stroke-linecap:butt; stroke-linejoin:round; stroke-width:2; stroke-opacity:0.1; fill:none\" points=\"\n",
       "  249.195,307.598 2352.76,307.598 \n",
       "  \"/>\n",
       "<polyline clip-path=\"url(#clip392)\" style=\"stroke:#000000; stroke-linecap:butt; stroke-linejoin:round; stroke-width:2; stroke-opacity:0.1; fill:none\" points=\"\n",
       "  249.195,72.1528 2352.76,72.1528 \n",
       "  \"/>\n",
       "<polyline clip-path=\"url(#clip390)\" style=\"stroke:#000000; stroke-linecap:butt; stroke-linejoin:round; stroke-width:4; stroke-opacity:1; fill:none\" points=\"\n",
       "  249.195,1423.18 249.195,47.2441 \n",
       "  \"/>\n",
       "<polyline clip-path=\"url(#clip390)\" style=\"stroke:#000000; stroke-linecap:butt; stroke-linejoin:round; stroke-width:4; stroke-opacity:1; fill:none\" points=\"\n",
       "  249.195,1249.38 268.092,1249.38 \n",
       "  \"/>\n",
       "<polyline clip-path=\"url(#clip390)\" style=\"stroke:#000000; stroke-linecap:butt; stroke-linejoin:round; stroke-width:4; stroke-opacity:1; fill:none\" points=\"\n",
       "  249.195,1013.94 268.092,1013.94 \n",
       "  \"/>\n",
       "<polyline clip-path=\"url(#clip390)\" style=\"stroke:#000000; stroke-linecap:butt; stroke-linejoin:round; stroke-width:4; stroke-opacity:1; fill:none\" points=\"\n",
       "  249.195,778.489 268.092,778.489 \n",
       "  \"/>\n",
       "<polyline clip-path=\"url(#clip390)\" style=\"stroke:#000000; stroke-linecap:butt; stroke-linejoin:round; stroke-width:4; stroke-opacity:1; fill:none\" points=\"\n",
       "  249.195,543.044 268.092,543.044 \n",
       "  \"/>\n",
       "<polyline clip-path=\"url(#clip390)\" style=\"stroke:#000000; stroke-linecap:butt; stroke-linejoin:round; stroke-width:4; stroke-opacity:1; fill:none\" points=\"\n",
       "  249.195,307.598 268.092,307.598 \n",
       "  \"/>\n",
       "<polyline clip-path=\"url(#clip390)\" style=\"stroke:#000000; stroke-linecap:butt; stroke-linejoin:round; stroke-width:4; stroke-opacity:1; fill:none\" points=\"\n",
       "  249.195,72.1528 268.092,72.1528 \n",
       "  \"/>\n",
       "<path clip-path=\"url(#clip390)\" d=\"M126.853 1235.18 Q123.242 1235.18 121.413 1238.74 Q119.607 1242.29 119.607 1249.42 Q119.607 1256.52 121.413 1260.09 Q123.242 1263.63 126.853 1263.63 Q130.487 1263.63 132.292 1260.09 Q134.121 1256.52 134.121 1249.42 Q134.121 1242.29 132.292 1238.74 Q130.487 1235.18 126.853 1235.18 M126.853 1231.48 Q132.663 1231.48 135.718 1236.08 Q138.797 1240.67 138.797 1249.42 Q138.797 1258.14 135.718 1262.75 Q132.663 1267.33 126.853 1267.33 Q121.043 1267.33 117.964 1262.75 Q114.908 1258.14 114.908 1249.42 Q114.908 1240.67 117.964 1236.08 Q121.043 1231.48 126.853 1231.48 Z\" fill=\"#000000\" fill-rule=\"evenodd\" fill-opacity=\"1\" /><path clip-path=\"url(#clip390)\" d=\"M147.015 1260.78 L151.899 1260.78 L151.899 1266.66 L147.015 1266.66 L147.015 1260.78 Z\" fill=\"#000000\" fill-rule=\"evenodd\" fill-opacity=\"1\" /><path clip-path=\"url(#clip390)\" d=\"M160.903 1232.1 L183.126 1232.1 L183.126 1234.09 L170.579 1266.66 L165.695 1266.66 L177.501 1236.04 L160.903 1236.04 L160.903 1232.1 Z\" fill=\"#000000\" fill-rule=\"evenodd\" fill-opacity=\"1\" /><path clip-path=\"url(#clip390)\" d=\"M192.292 1232.1 L210.649 1232.1 L210.649 1236.04 L196.575 1236.04 L196.575 1244.51 Q197.593 1244.16 198.612 1244 Q199.63 1243.81 200.649 1243.81 Q206.436 1243.81 209.815 1246.98 Q213.195 1250.16 213.195 1255.57 Q213.195 1261.15 209.723 1264.25 Q206.25 1267.33 199.931 1267.33 Q197.755 1267.33 195.487 1266.96 Q193.241 1266.59 190.834 1265.85 L190.834 1261.15 Q192.917 1262.29 195.139 1262.84 Q197.362 1263.4 199.838 1263.4 Q203.843 1263.4 206.181 1261.29 Q208.519 1259.18 208.519 1255.57 Q208.519 1251.96 206.181 1249.86 Q203.843 1247.75 199.838 1247.75 Q197.963 1247.75 196.088 1248.17 Q194.237 1248.58 192.292 1249.46 L192.292 1232.1 Z\" fill=\"#000000\" fill-rule=\"evenodd\" fill-opacity=\"1\" /><path clip-path=\"url(#clip390)\" d=\"M116.668 1027.28 L124.306 1027.28 L124.306 1000.91 L115.996 1002.58 L115.996 998.322 L124.26 996.655 L128.936 996.655 L128.936 1027.28 L136.575 1027.28 L136.575 1031.22 L116.668 1031.22 L116.668 1027.28 Z\" fill=\"#000000\" fill-rule=\"evenodd\" fill-opacity=\"1\" /><path clip-path=\"url(#clip390)\" d=\"M146.019 1025.34 L150.903 1025.34 L150.903 1031.22 L146.019 1031.22 L146.019 1025.34 Z\" fill=\"#000000\" fill-rule=\"evenodd\" fill-opacity=\"1\" /><path clip-path=\"url(#clip390)\" d=\"M171.089 999.734 Q167.477 999.734 165.649 1003.3 Q163.843 1006.84 163.843 1013.97 Q163.843 1021.08 165.649 1024.64 Q167.477 1028.18 171.089 1028.18 Q174.723 1028.18 176.528 1024.64 Q178.357 1021.08 178.357 1013.97 Q178.357 1006.84 176.528 1003.3 Q174.723 999.734 171.089 999.734 M171.089 996.03 Q176.899 996.03 179.954 1000.64 Q183.033 1005.22 183.033 1013.97 Q183.033 1022.7 179.954 1027.3 Q176.899 1031.89 171.089 1031.89 Q165.278 1031.89 162.2 1027.3 Q159.144 1022.7 159.144 1013.97 Q159.144 1005.22 162.2 1000.64 Q165.278 996.03 171.089 996.03 Z\" fill=\"#000000\" fill-rule=\"evenodd\" fill-opacity=\"1\" /><path clip-path=\"url(#clip390)\" d=\"M201.25 999.734 Q197.639 999.734 195.811 1003.3 Q194.005 1006.84 194.005 1013.97 Q194.005 1021.08 195.811 1024.64 Q197.639 1028.18 201.25 1028.18 Q204.885 1028.18 206.69 1024.64 Q208.519 1021.08 208.519 1013.97 Q208.519 1006.84 206.69 1003.3 Q204.885 999.734 201.25 999.734 M201.25 996.03 Q207.061 996.03 210.116 1000.64 Q213.195 1005.22 213.195 1013.97 Q213.195 1022.7 210.116 1027.3 Q207.061 1031.89 201.25 1031.89 Q195.44 1031.89 192.362 1027.3 Q189.306 1022.7 189.306 1013.97 Q189.306 1005.22 192.362 1000.64 Q195.44 996.03 201.25 996.03 Z\" fill=\"#000000\" fill-rule=\"evenodd\" fill-opacity=\"1\" /><path clip-path=\"url(#clip390)\" d=\"M117.663 791.834 L125.302 791.834 L125.302 765.469 L116.992 767.135 L116.992 762.876 L125.255 761.209 L129.931 761.209 L129.931 791.834 L137.57 791.834 L137.57 795.769 L117.663 795.769 L117.663 791.834 Z\" fill=\"#000000\" fill-rule=\"evenodd\" fill-opacity=\"1\" /><path clip-path=\"url(#clip390)\" d=\"M147.015 789.89 L151.899 789.89 L151.899 795.769 L147.015 795.769 L147.015 789.89 Z\" fill=\"#000000\" fill-rule=\"evenodd\" fill-opacity=\"1\" /><path clip-path=\"url(#clip390)\" d=\"M166.112 791.834 L182.431 791.834 L182.431 795.769 L160.487 795.769 L160.487 791.834 Q163.149 789.08 167.732 784.45 Q172.339 779.797 173.519 778.455 Q175.764 775.932 176.644 774.196 Q177.547 772.436 177.547 770.746 Q177.547 767.992 175.602 766.256 Q173.681 764.52 170.579 764.52 Q168.38 764.52 165.927 765.284 Q163.496 766.047 160.718 767.598 L160.718 762.876 Q163.542 761.742 165.996 761.163 Q168.45 760.584 170.487 760.584 Q175.857 760.584 179.051 763.27 Q182.246 765.955 182.246 770.446 Q182.246 772.575 181.436 774.496 Q180.649 776.395 178.542 778.987 Q177.964 779.658 174.862 782.876 Q171.76 786.07 166.112 791.834 Z\" fill=\"#000000\" fill-rule=\"evenodd\" fill-opacity=\"1\" /><path clip-path=\"url(#clip390)\" d=\"M192.292 761.209 L210.649 761.209 L210.649 765.145 L196.575 765.145 L196.575 773.617 Q197.593 773.27 198.612 773.108 Q199.63 772.922 200.649 772.922 Q206.436 772.922 209.815 776.094 Q213.195 779.265 213.195 784.682 Q213.195 790.26 209.723 793.362 Q206.25 796.441 199.931 796.441 Q197.755 796.441 195.487 796.07 Q193.241 795.7 190.834 794.959 L190.834 790.26 Q192.917 791.394 195.139 791.95 Q197.362 792.506 199.838 792.506 Q203.843 792.506 206.181 790.399 Q208.519 788.293 208.519 784.682 Q208.519 781.07 206.181 778.964 Q203.843 776.858 199.838 776.858 Q197.963 776.858 196.088 777.274 Q194.237 777.691 192.292 778.57 L192.292 761.209 Z\" fill=\"#000000\" fill-rule=\"evenodd\" fill-opacity=\"1\" /><path clip-path=\"url(#clip390)\" d=\"M116.668 556.389 L124.306 556.389 L124.306 530.023 L115.996 531.69 L115.996 527.431 L124.26 525.764 L128.936 525.764 L128.936 556.389 L136.575 556.389 L136.575 560.324 L116.668 560.324 L116.668 556.389 Z\" fill=\"#000000\" fill-rule=\"evenodd\" fill-opacity=\"1\" /><path clip-path=\"url(#clip390)\" d=\"M146.019 554.444 L150.903 554.444 L150.903 560.324 L146.019 560.324 L146.019 554.444 Z\" fill=\"#000000\" fill-rule=\"evenodd\" fill-opacity=\"1\" /><path clip-path=\"url(#clip390)\" d=\"M161.135 525.764 L179.491 525.764 L179.491 529.699 L165.417 529.699 L165.417 538.171 Q166.436 537.824 167.454 537.662 Q168.473 537.477 169.491 537.477 Q175.278 537.477 178.658 540.648 Q182.038 543.819 182.038 549.236 Q182.038 554.815 178.565 557.917 Q175.093 560.995 168.774 560.995 Q166.598 560.995 164.329 560.625 Q162.084 560.254 159.677 559.514 L159.677 554.815 Q161.76 555.949 163.982 556.504 Q166.204 557.06 168.681 557.06 Q172.686 557.06 175.024 554.954 Q177.362 552.847 177.362 549.236 Q177.362 545.625 175.024 543.518 Q172.686 541.412 168.681 541.412 Q166.806 541.412 164.931 541.829 Q163.079 542.245 161.135 543.125 L161.135 525.764 Z\" fill=\"#000000\" fill-rule=\"evenodd\" fill-opacity=\"1\" /><path clip-path=\"url(#clip390)\" d=\"M201.25 528.843 Q197.639 528.843 195.811 532.407 Q194.005 535.949 194.005 543.079 Q194.005 550.185 195.811 553.75 Q197.639 557.292 201.25 557.292 Q204.885 557.292 206.69 553.75 Q208.519 550.185 208.519 543.079 Q208.519 535.949 206.69 532.407 Q204.885 528.843 201.25 528.843 M201.25 525.139 Q207.061 525.139 210.116 529.745 Q213.195 534.329 213.195 543.079 Q213.195 551.805 210.116 556.412 Q207.061 560.995 201.25 560.995 Q195.44 560.995 192.362 556.412 Q189.306 551.805 189.306 543.079 Q189.306 534.329 192.362 529.745 Q195.44 525.139 201.25 525.139 Z\" fill=\"#000000\" fill-rule=\"evenodd\" fill-opacity=\"1\" /><path clip-path=\"url(#clip390)\" d=\"M117.663 320.943 L125.302 320.943 L125.302 294.578 L116.992 296.244 L116.992 291.985 L125.255 290.318 L129.931 290.318 L129.931 320.943 L137.57 320.943 L137.57 324.878 L117.663 324.878 L117.663 320.943 Z\" fill=\"#000000\" fill-rule=\"evenodd\" fill-opacity=\"1\" /><path clip-path=\"url(#clip390)\" d=\"M147.015 318.999 L151.899 318.999 L151.899 324.878 L147.015 324.878 L147.015 318.999 Z\" fill=\"#000000\" fill-rule=\"evenodd\" fill-opacity=\"1\" /><path clip-path=\"url(#clip390)\" d=\"M160.903 290.318 L183.126 290.318 L183.126 292.309 L170.579 324.878 L165.695 324.878 L177.501 294.254 L160.903 294.254 L160.903 290.318 Z\" fill=\"#000000\" fill-rule=\"evenodd\" fill-opacity=\"1\" /><path clip-path=\"url(#clip390)\" d=\"M192.292 290.318 L210.649 290.318 L210.649 294.254 L196.575 294.254 L196.575 302.726 Q197.593 302.378 198.612 302.216 Q199.63 302.031 200.649 302.031 Q206.436 302.031 209.815 305.203 Q213.195 308.374 213.195 313.79 Q213.195 319.369 209.723 322.471 Q206.25 325.55 199.931 325.55 Q197.755 325.55 195.487 325.179 Q193.241 324.809 190.834 324.068 L190.834 319.369 Q192.917 320.503 195.139 321.059 Q197.362 321.614 199.838 321.614 Q203.843 321.614 206.181 319.508 Q208.519 317.402 208.519 313.79 Q208.519 310.179 206.181 308.073 Q203.843 305.966 199.838 305.966 Q197.963 305.966 196.088 306.383 Q194.237 306.8 192.292 307.679 L192.292 290.318 Z\" fill=\"#000000\" fill-rule=\"evenodd\" fill-opacity=\"1\" /><path clip-path=\"url(#clip390)\" d=\"M119.885 85.4976 L136.204 85.4976 L136.204 89.4328 L114.26 89.4328 L114.26 85.4976 Q116.922 82.743 121.505 78.1134 Q126.112 73.4607 127.292 72.1181 Q129.538 69.595 130.417 67.8589 Q131.32 66.0996 131.32 64.4098 Q131.32 61.6552 129.376 59.9191 Q127.455 58.183 124.353 58.183 Q122.154 58.183 119.7 58.9469 Q117.269 59.7107 114.492 61.2617 L114.492 56.5395 Q117.316 55.4052 119.769 54.8265 Q122.223 54.2478 124.26 54.2478 Q129.63 54.2478 132.825 56.933 Q136.019 59.6182 136.019 64.1089 Q136.019 66.2385 135.209 68.1598 Q134.422 70.0579 132.316 72.6505 Q131.737 73.3218 128.635 76.5394 Q125.533 79.7338 119.885 85.4976 Z\" fill=\"#000000\" fill-rule=\"evenodd\" fill-opacity=\"1\" /><path clip-path=\"url(#clip390)\" d=\"M146.019 83.5532 L150.903 83.5532 L150.903 89.4328 L146.019 89.4328 L146.019 83.5532 Z\" fill=\"#000000\" fill-rule=\"evenodd\" fill-opacity=\"1\" /><path clip-path=\"url(#clip390)\" d=\"M171.089 57.9515 Q167.477 57.9515 165.649 61.5163 Q163.843 65.0579 163.843 72.1875 Q163.843 79.294 165.649 82.8588 Q167.477 86.4004 171.089 86.4004 Q174.723 86.4004 176.528 82.8588 Q178.357 79.294 178.357 72.1875 Q178.357 65.0579 176.528 61.5163 Q174.723 57.9515 171.089 57.9515 M171.089 54.2478 Q176.899 54.2478 179.954 58.8543 Q183.033 63.4376 183.033 72.1875 Q183.033 80.9143 179.954 85.5208 Q176.899 90.1041 171.089 90.1041 Q165.278 90.1041 162.2 85.5208 Q159.144 80.9143 159.144 72.1875 Q159.144 63.4376 162.2 58.8543 Q165.278 54.2478 171.089 54.2478 Z\" fill=\"#000000\" fill-rule=\"evenodd\" fill-opacity=\"1\" /><path clip-path=\"url(#clip390)\" d=\"M201.25 57.9515 Q197.639 57.9515 195.811 61.5163 Q194.005 65.0579 194.005 72.1875 Q194.005 79.294 195.811 82.8588 Q197.639 86.4004 201.25 86.4004 Q204.885 86.4004 206.69 82.8588 Q208.519 79.294 208.519 72.1875 Q208.519 65.0579 206.69 61.5163 Q204.885 57.9515 201.25 57.9515 M201.25 54.2478 Q207.061 54.2478 210.116 58.8543 Q213.195 63.4376 213.195 72.1875 Q213.195 80.9143 210.116 85.5208 Q207.061 90.1041 201.25 90.1041 Q195.44 90.1041 192.362 85.5208 Q189.306 80.9143 189.306 72.1875 Q189.306 63.4376 192.362 58.8543 Q195.44 54.2478 201.25 54.2478 Z\" fill=\"#000000\" fill-rule=\"evenodd\" fill-opacity=\"1\" /><path clip-path=\"url(#clip390)\" d=\"M16.4842 801.909 L16.4842 795.479 L58.5933 795.479 L58.5933 772.34 L64.0042 772.34 L64.0042 801.909 L16.4842 801.909 Z\" fill=\"#000000\" fill-rule=\"evenodd\" fill-opacity=\"1\" /><path clip-path=\"url(#clip390)\" d=\"M32.4621 753.179 Q32.4621 757.89 36.1542 760.627 Q39.8145 763.364 46.212 763.364 Q52.6095 763.364 56.3017 760.659 Q59.9619 757.922 59.9619 753.179 Q59.9619 748.5 56.2698 745.763 Q52.5777 743.026 46.212 743.026 Q39.8781 743.026 36.186 745.763 Q32.4621 748.5 32.4621 753.179 M27.4968 753.179 Q27.4968 745.54 32.4621 741.18 Q37.4273 736.819 46.212 736.819 Q54.9649 736.819 59.9619 741.18 Q64.9272 745.54 64.9272 753.179 Q64.9272 760.85 59.9619 765.21 Q54.9649 769.539 46.212 769.539 Q37.4273 769.539 32.4621 765.21 Q27.4968 760.85 27.4968 753.179 Z\" fill=\"#000000\" fill-rule=\"evenodd\" fill-opacity=\"1\" /><path clip-path=\"url(#clip390)\" d=\"M29.4065 704.386 L34.9447 704.386 Q33.6716 706.869 33.035 709.542 Q32.3984 712.216 32.3984 715.08 Q32.3984 719.441 33.7352 721.637 Q35.072 723.801 37.7456 723.801 Q39.7826 723.801 40.9603 722.242 Q42.1061 720.682 43.1565 715.972 L43.6021 713.966 Q44.9389 707.728 47.3897 705.118 Q49.8086 702.476 54.1691 702.476 Q59.1344 702.476 62.0308 706.423 Q64.9272 710.338 64.9272 717.213 Q64.9272 720.078 64.3543 723.197 Q63.8132 726.284 62.6992 729.722 L56.6518 729.722 Q58.3387 726.475 59.198 723.324 Q60.0256 720.173 60.0256 717.086 Q60.0256 712.948 58.6251 710.72 Q57.1929 708.492 54.6147 708.492 Q52.2276 708.492 50.9545 710.115 Q49.6813 711.707 48.5037 717.149 L48.0262 719.186 Q46.8804 724.629 44.5251 727.048 Q42.138 729.467 38.0002 729.467 Q32.9713 729.467 30.2341 725.902 Q27.4968 722.337 27.4968 715.781 Q27.4968 712.534 27.9743 709.67 Q28.4517 706.805 29.4065 704.386 Z\" fill=\"#000000\" fill-rule=\"evenodd\" fill-opacity=\"1\" /><path clip-path=\"url(#clip390)\" d=\"M29.4065 670.425 L34.9447 670.425 Q33.6716 672.908 33.035 675.581 Q32.3984 678.255 32.3984 681.119 Q32.3984 685.48 33.7352 687.676 Q35.072 689.84 37.7456 689.84 Q39.7826 689.84 40.9603 688.281 Q42.1061 686.721 43.1565 682.011 L43.6021 680.005 Q44.9389 673.767 47.3897 671.157 Q49.8086 668.515 54.1691 668.515 Q59.1344 668.515 62.0308 672.462 Q64.9272 676.377 64.9272 683.252 Q64.9272 686.116 64.3543 689.236 Q63.8132 692.323 62.6992 695.761 L56.6518 695.761 Q58.3387 692.514 59.198 689.363 Q60.0256 686.212 60.0256 683.125 Q60.0256 678.987 58.6251 676.759 Q57.1929 674.531 54.6147 674.531 Q52.2276 674.531 50.9545 676.154 Q49.6813 677.746 48.5037 683.188 L48.0262 685.225 Q46.8804 690.668 44.5251 693.087 Q42.138 695.506 38.0002 695.506 Q32.9713 695.506 30.2341 691.941 Q27.4968 688.376 27.4968 681.82 Q27.4968 678.573 27.9743 675.709 Q28.4517 672.844 29.4065 670.425 Z\" fill=\"#000000\" fill-rule=\"evenodd\" fill-opacity=\"1\" /><polyline clip-path=\"url(#clip392)\" style=\"stroke:#009af9; stroke-linecap:butt; stroke-linejoin:round; stroke-width:4; stroke-opacity:1; fill:none\" points=\"\n",
       "  308.73,86.1857 349.229,390.516 389.729,552.284 430.229,672.546 470.729,773.316 511.229,854.931 551.729,925.779 592.228,984.733 632.728,1026.32 673.228,1073.53 \n",
       "  713.728,1099.05 754.228,1128.95 794.728,1147.48 835.227,1159.48 875.727,1189.84 916.227,1193.6 956.727,1208.97 997.227,1215.32 1037.73,1219 1078.23,1215.4 \n",
       "  1118.73,1236.13 1159.23,1238.32 1199.73,1228.49 1240.23,1220.87 1280.73,1230.13 1321.23,1239.31 1361.73,1245.01 1402.22,1225.79 1442.72,1236.38 1483.22,1229.9 \n",
       "  1523.72,1225.91 1564.22,1237.17 1604.72,1227.26 1645.22,1222.31 1685.72,1222.1 1726.22,1228.12 1766.72,1226.26 1807.22,1214.07 1847.72,1205.72 1888.22,1215.01 \n",
       "  1928.72,1199.04 1969.22,1209.29 2009.72,1186.7 2050.22,1204.79 2090.72,1192.46 2131.22,1175.1 2171.72,1199.92 2212.22,1206.91 2252.72,1187.5 2293.22,1184.38 \n",
       "  \n",
       "  \"/>\n",
       "<polyline clip-path=\"url(#clip392)\" style=\"stroke:#e26f46; stroke-linecap:butt; stroke-linejoin:round; stroke-width:4; stroke-opacity:1; fill:none\" points=\"\n",
       "  308.73,116.865 349.229,425.44 389.729,552.739 430.229,650.2 470.729,758.844 511.229,848.929 551.729,920.834 592.228,964.743 632.728,1032.37 673.228,1121.06 \n",
       "  713.728,1099.53 754.228,1146.61 794.728,1173.48 835.227,1242.66 875.727,1206.62 916.227,1259.75 956.727,1288.67 997.227,1244.61 1037.73,1264.4 1078.23,1262.07 \n",
       "  1118.73,1384.24 1159.23,1336.68 1199.73,1264.03 1240.23,1203.15 1280.73,1215.75 1321.23,1231.75 1361.73,1273.26 1402.22,1325.19 1442.72,1309.3 1483.22,1287.98 \n",
       "  1523.72,1332.86 1564.22,1184.37 1604.72,1273.02 1645.22,1271.82 1685.72,1337.17 1726.22,1267.71 1766.72,1161.68 1807.22,1144.86 1847.72,1325.76 1888.22,1281.23 \n",
       "  1928.72,1198.96 1969.22,1190.71 2009.72,1213.47 2050.22,1275.73 2090.72,1284.91 2131.22,1338.45 2171.72,1114.73 2212.22,1250.85 2252.72,1288.77 2293.22,1265.82 \n",
       "  \n",
       "  \"/>\n",
       "<path clip-path=\"url(#clip390)\" d=\"\n",
       "M1875.71 248.629 L2282.64 248.629 L2282.64 93.1086 L1875.71 93.1086  Z\n",
       "  \" fill=\"#ffffff\" fill-rule=\"evenodd\" fill-opacity=\"1\"/>\n",
       "<polyline clip-path=\"url(#clip390)\" style=\"stroke:#000000; stroke-linecap:butt; stroke-linejoin:round; stroke-width:4; stroke-opacity:1; fill:none\" points=\"\n",
       "  1875.71,248.629 2282.64,248.629 2282.64,93.1086 1875.71,93.1086 1875.71,248.629 \n",
       "  \"/>\n",
       "<polyline clip-path=\"url(#clip390)\" style=\"stroke:#009af9; stroke-linecap:butt; stroke-linejoin:round; stroke-width:4; stroke-opacity:1; fill:none\" points=\"\n",
       "  1899.09,144.949 2039.32,144.949 \n",
       "  \"/>\n",
       "<path clip-path=\"url(#clip390)\" d=\"M2070.11 128.942 L2070.11 136.303 L2078.88 136.303 L2078.88 139.613 L2070.11 139.613 L2070.11 153.687 Q2070.11 156.858 2070.96 157.761 Q2071.84 158.664 2074.5 158.664 L2078.88 158.664 L2078.88 162.229 L2074.5 162.229 Q2069.57 162.229 2067.7 160.4 Q2065.82 158.548 2065.82 153.687 L2065.82 139.613 L2062.7 139.613 L2062.7 136.303 L2065.82 136.303 L2065.82 128.942 L2070.11 128.942 Z\" fill=\"#000000\" fill-rule=\"evenodd\" fill-opacity=\"1\" /><path clip-path=\"url(#clip390)\" d=\"M2099.5 140.284 Q2098.79 139.868 2097.93 139.682 Q2097.1 139.474 2096.08 139.474 Q2092.47 139.474 2090.52 141.835 Q2088.6 144.173 2088.6 148.571 L2088.6 162.229 L2084.32 162.229 L2084.32 136.303 L2088.6 136.303 L2088.6 140.331 Q2089.94 137.969 2092.1 136.835 Q2094.25 135.678 2097.33 135.678 Q2097.77 135.678 2098.3 135.747 Q2098.83 135.794 2099.48 135.909 L2099.5 140.284 Z\" fill=\"#000000\" fill-rule=\"evenodd\" fill-opacity=\"1\" /><path clip-path=\"url(#clip390)\" d=\"M2124.69 146.581 L2124.69 162.229 L2120.43 162.229 L2120.43 146.719 Q2120.43 143.039 2118.99 141.21 Q2117.56 139.382 2114.69 139.382 Q2111.24 139.382 2109.25 141.581 Q2107.26 143.78 2107.26 147.576 L2107.26 162.229 L2102.98 162.229 L2102.98 136.303 L2107.26 136.303 L2107.26 140.331 Q2108.79 137.993 2110.85 136.835 Q2112.93 135.678 2115.64 135.678 Q2120.1 135.678 2122.4 138.456 Q2124.69 141.21 2124.69 146.581 Z\" fill=\"#000000\" fill-rule=\"evenodd\" fill-opacity=\"1\" /><path clip-path=\"url(#clip390)\" d=\"M2148.25 126.21 L2152.51 126.21 L2152.51 162.229 L2148.25 162.229 L2148.25 126.21 Z\" fill=\"#000000\" fill-rule=\"evenodd\" fill-opacity=\"1\" /><path clip-path=\"url(#clip390)\" d=\"M2171.47 139.289 Q2168.04 139.289 2166.05 141.974 Q2164.06 144.636 2164.06 149.289 Q2164.06 153.942 2166.03 156.627 Q2168.02 159.289 2171.47 159.289 Q2174.87 159.289 2176.86 156.604 Q2178.85 153.918 2178.85 149.289 Q2178.85 144.682 2176.86 141.997 Q2174.87 139.289 2171.47 139.289 M2171.47 135.678 Q2177.03 135.678 2180.2 139.289 Q2183.37 142.9 2183.37 149.289 Q2183.37 155.655 2180.2 159.289 Q2177.03 162.9 2171.47 162.9 Q2165.89 162.9 2162.72 159.289 Q2159.57 155.655 2159.57 149.289 Q2159.57 142.9 2162.72 139.289 Q2165.89 135.678 2171.47 135.678 Z\" fill=\"#000000\" fill-rule=\"evenodd\" fill-opacity=\"1\" /><path clip-path=\"url(#clip390)\" d=\"M2206.96 137.067 L2206.96 141.094 Q2205.15 140.169 2203.21 139.706 Q2201.26 139.243 2199.18 139.243 Q2196.01 139.243 2194.41 140.215 Q2192.84 141.187 2192.84 143.131 Q2192.84 144.613 2193.97 145.469 Q2195.1 146.303 2198.53 147.067 L2199.99 147.391 Q2204.53 148.363 2206.42 150.145 Q2208.35 151.905 2208.35 155.076 Q2208.35 158.687 2205.47 160.793 Q2202.63 162.9 2197.63 162.9 Q2195.54 162.9 2193.28 162.483 Q2191.03 162.09 2188.53 161.28 L2188.53 156.881 Q2190.89 158.108 2193.18 158.733 Q2195.47 159.335 2197.72 159.335 Q2200.73 159.335 2202.35 158.317 Q2203.97 157.275 2203.97 155.4 Q2203.97 153.664 2202.79 152.738 Q2201.63 151.812 2197.67 150.956 L2196.19 150.608 Q2192.23 149.775 2190.47 148.062 Q2188.72 146.326 2188.72 143.317 Q2188.72 139.659 2191.31 137.669 Q2193.9 135.678 2198.67 135.678 Q2201.03 135.678 2203.11 136.025 Q2205.2 136.372 2206.96 137.067 Z\" fill=\"#000000\" fill-rule=\"evenodd\" fill-opacity=\"1\" /><path clip-path=\"url(#clip390)\" d=\"M2231.66 137.067 L2231.66 141.094 Q2229.85 140.169 2227.91 139.706 Q2225.96 139.243 2223.88 139.243 Q2220.71 139.243 2219.11 140.215 Q2217.54 141.187 2217.54 143.131 Q2217.54 144.613 2218.67 145.469 Q2219.8 146.303 2223.23 147.067 L2224.69 147.391 Q2229.22 148.363 2231.12 150.145 Q2233.04 151.905 2233.04 155.076 Q2233.04 158.687 2230.17 160.793 Q2227.33 162.9 2222.33 162.9 Q2220.24 162.9 2217.97 162.483 Q2215.73 162.09 2213.23 161.28 L2213.23 156.881 Q2215.59 158.108 2217.88 158.733 Q2220.17 159.335 2222.42 159.335 Q2225.43 159.335 2227.05 158.317 Q2228.67 157.275 2228.67 155.4 Q2228.67 153.664 2227.49 152.738 Q2226.33 151.812 2222.37 150.956 L2220.89 150.608 Q2216.93 149.775 2215.17 148.062 Q2213.41 146.326 2213.41 143.317 Q2213.41 139.659 2216.01 137.669 Q2218.6 135.678 2223.37 135.678 Q2225.73 135.678 2227.81 136.025 Q2229.9 136.372 2231.66 137.067 Z\" fill=\"#000000\" fill-rule=\"evenodd\" fill-opacity=\"1\" /><polyline clip-path=\"url(#clip390)\" style=\"stroke:#e26f46; stroke-linecap:butt; stroke-linejoin:round; stroke-width:4; stroke-opacity:1; fill:none\" points=\"\n",
       "  1899.09,196.789 2039.32,196.789 \n",
       "  \"/>\n",
       "<path clip-path=\"url(#clip390)\" d=\"M2062.7 188.143 L2067.21 188.143 L2075.31 209.902 L2083.42 188.143 L2087.93 188.143 L2078.21 214.069 L2072.42 214.069 L2062.7 188.143 Z\" fill=\"#000000\" fill-rule=\"evenodd\" fill-opacity=\"1\" /><path clip-path=\"url(#clip390)\" d=\"M2105.59 201.036 Q2100.43 201.036 2098.44 202.217 Q2096.45 203.397 2096.45 206.245 Q2096.45 208.513 2097.93 209.856 Q2099.43 211.175 2102 211.175 Q2105.54 211.175 2107.67 208.675 Q2109.83 206.152 2109.83 201.985 L2109.83 201.036 L2105.59 201.036 M2114.09 199.277 L2114.09 214.069 L2109.83 214.069 L2109.83 210.133 Q2108.37 212.495 2106.19 213.629 Q2104.02 214.74 2100.87 214.74 Q2096.89 214.74 2094.53 212.518 Q2092.19 210.272 2092.19 206.522 Q2092.19 202.147 2095.11 199.925 Q2098.04 197.703 2103.86 197.703 L2109.83 197.703 L2109.83 197.286 Q2109.83 194.347 2107.88 192.749 Q2105.96 191.129 2102.47 191.129 Q2100.24 191.129 2098.14 191.661 Q2096.03 192.194 2094.09 193.259 L2094.09 189.323 Q2096.42 188.421 2098.62 187.981 Q2100.82 187.518 2102.91 187.518 Q2108.53 187.518 2111.31 190.434 Q2114.09 193.351 2114.09 199.277 Z\" fill=\"#000000\" fill-rule=\"evenodd\" fill-opacity=\"1\" /><path clip-path=\"url(#clip390)\" d=\"M2122.86 178.05 L2127.12 178.05 L2127.12 214.069 L2122.86 214.069 L2122.86 178.05 Z\" fill=\"#000000\" fill-rule=\"evenodd\" fill-opacity=\"1\" /><path clip-path=\"url(#clip390)\" d=\"M2151.1 178.05 L2155.36 178.05 L2155.36 214.069 L2151.1 214.069 L2151.1 178.05 Z\" fill=\"#000000\" fill-rule=\"evenodd\" fill-opacity=\"1\" /><path clip-path=\"url(#clip390)\" d=\"M2174.32 191.129 Q2170.89 191.129 2168.9 193.814 Q2166.91 196.476 2166.91 201.129 Q2166.91 205.782 2168.88 208.467 Q2170.87 211.129 2174.32 211.129 Q2177.72 211.129 2179.71 208.444 Q2181.7 205.758 2181.7 201.129 Q2181.7 196.522 2179.71 193.837 Q2177.72 191.129 2174.32 191.129 M2174.32 187.518 Q2179.87 187.518 2183.04 191.129 Q2186.22 194.74 2186.22 201.129 Q2186.22 207.495 2183.04 211.129 Q2179.87 214.74 2174.32 214.74 Q2168.74 214.74 2165.57 211.129 Q2162.42 207.495 2162.42 201.129 Q2162.42 194.74 2165.57 191.129 Q2168.74 187.518 2174.32 187.518 Z\" fill=\"#000000\" fill-rule=\"evenodd\" fill-opacity=\"1\" /><path clip-path=\"url(#clip390)\" d=\"M2209.8 188.907 L2209.8 192.934 Q2208 192.009 2206.05 191.546 Q2204.11 191.083 2202.03 191.083 Q2198.85 191.083 2197.26 192.055 Q2195.68 193.027 2195.68 194.971 Q2195.68 196.453 2196.82 197.309 Q2197.95 198.143 2201.38 198.907 L2202.84 199.231 Q2207.37 200.203 2209.27 201.985 Q2211.19 203.745 2211.19 206.916 Q2211.19 210.527 2208.32 212.633 Q2205.47 214.74 2200.47 214.74 Q2198.39 214.74 2196.12 214.323 Q2193.88 213.93 2191.38 213.12 L2191.38 208.721 Q2193.74 209.948 2196.03 210.573 Q2198.32 211.175 2200.57 211.175 Q2203.58 211.175 2205.2 210.157 Q2206.82 209.115 2206.82 207.24 Q2206.82 205.504 2205.64 204.578 Q2204.48 203.652 2200.52 202.796 L2199.04 202.448 Q2195.08 201.615 2193.32 199.902 Q2191.56 198.166 2191.56 195.157 Q2191.56 191.499 2194.16 189.509 Q2196.75 187.518 2201.52 187.518 Q2203.88 187.518 2205.96 187.865 Q2208.04 188.212 2209.8 188.907 Z\" fill=\"#000000\" fill-rule=\"evenodd\" fill-opacity=\"1\" /><path clip-path=\"url(#clip390)\" d=\"M2234.5 188.907 L2234.5 192.934 Q2232.7 192.009 2230.75 191.546 Q2228.81 191.083 2226.72 191.083 Q2223.55 191.083 2221.96 192.055 Q2220.38 193.027 2220.38 194.971 Q2220.38 196.453 2221.52 197.309 Q2222.65 198.143 2226.08 198.907 L2227.53 199.231 Q2232.07 200.203 2233.97 201.985 Q2235.89 203.745 2235.89 206.916 Q2235.89 210.527 2233.02 212.633 Q2230.17 214.74 2225.17 214.74 Q2223.09 214.74 2220.82 214.323 Q2218.58 213.93 2216.08 213.12 L2216.08 208.721 Q2218.44 209.948 2220.73 210.573 Q2223.02 211.175 2225.27 211.175 Q2228.28 211.175 2229.9 210.157 Q2231.52 209.115 2231.52 207.24 Q2231.52 205.504 2230.34 204.578 Q2229.18 203.652 2225.22 202.796 L2223.74 202.448 Q2219.78 201.615 2218.02 199.902 Q2216.26 198.166 2216.26 195.157 Q2216.26 191.499 2218.85 189.509 Q2221.45 187.518 2226.22 187.518 Q2228.58 187.518 2230.66 187.865 Q2232.74 188.212 2234.5 188.907 Z\" fill=\"#000000\" fill-rule=\"evenodd\" fill-opacity=\"1\" /></svg>\n"
      ]
     },
     "execution_count": 99,
     "metadata": {},
     "output_type": "execute_result"
    }
   ],
   "source": [
    "plot([best_model_gs[1,:], best_model_gs[2,:]],\n",
    "    labels=[\"trn loss\" \"val loss\" ],xlabel=\"Iterations\",ylabel=\"Loss\")"
   ]
  },
  {
   "cell_type": "code",
   "execution_count": 100,
   "id": "a93181c6",
   "metadata": {},
   "outputs": [
    {
     "data": {
      "image/svg+xml": [
       "<?xml version=\"1.0\" encoding=\"utf-8\"?>\n",
       "<svg xmlns=\"http://www.w3.org/2000/svg\" xmlns:xlink=\"http://www.w3.org/1999/xlink\" width=\"600\" height=\"400\" viewBox=\"0 0 2400 1600\">\n",
       "<defs>\n",
       "  <clipPath id=\"clip430\">\n",
       "    <rect x=\"0\" y=\"0\" width=\"2400\" height=\"1600\"/>\n",
       "  </clipPath>\n",
       "</defs>\n",
       "<path clip-path=\"url(#clip430)\" d=\"\n",
       "M0 1600 L2400 1600 L2400 0 L0 0  Z\n",
       "  \" fill=\"#ffffff\" fill-rule=\"evenodd\" fill-opacity=\"1\"/>\n",
       "<defs>\n",
       "  <clipPath id=\"clip431\">\n",
       "    <rect x=\"480\" y=\"0\" width=\"1681\" height=\"1600\"/>\n",
       "  </clipPath>\n",
       "</defs>\n",
       "<path clip-path=\"url(#clip430)\" d=\"\n",
       "M219.866 1423.18 L2352.76 1423.18 L2352.76 47.2441 L219.866 47.2441  Z\n",
       "  \" fill=\"#ffffff\" fill-rule=\"evenodd\" fill-opacity=\"1\"/>\n",
       "<defs>\n",
       "  <clipPath id=\"clip432\">\n",
       "    <rect x=\"219\" y=\"47\" width=\"2134\" height=\"1377\"/>\n",
       "  </clipPath>\n",
       "</defs>\n",
       "<polyline clip-path=\"url(#clip432)\" style=\"stroke:#000000; stroke-linecap:butt; stroke-linejoin:round; stroke-width:2; stroke-opacity:0.1; fill:none\" points=\"\n",
       "  239.167,1423.18 239.167,47.2441 \n",
       "  \"/>\n",
       "<polyline clip-path=\"url(#clip432)\" style=\"stroke:#000000; stroke-linecap:butt; stroke-linejoin:round; stroke-width:2; stroke-opacity:0.1; fill:none\" points=\"\n",
       "  649.811,1423.18 649.811,47.2441 \n",
       "  \"/>\n",
       "<polyline clip-path=\"url(#clip432)\" style=\"stroke:#000000; stroke-linecap:butt; stroke-linejoin:round; stroke-width:2; stroke-opacity:0.1; fill:none\" points=\"\n",
       "  1060.46,1423.18 1060.46,47.2441 \n",
       "  \"/>\n",
       "<polyline clip-path=\"url(#clip432)\" style=\"stroke:#000000; stroke-linecap:butt; stroke-linejoin:round; stroke-width:2; stroke-opacity:0.1; fill:none\" points=\"\n",
       "  1471.1,1423.18 1471.1,47.2441 \n",
       "  \"/>\n",
       "<polyline clip-path=\"url(#clip432)\" style=\"stroke:#000000; stroke-linecap:butt; stroke-linejoin:round; stroke-width:2; stroke-opacity:0.1; fill:none\" points=\"\n",
       "  1881.75,1423.18 1881.75,47.2441 \n",
       "  \"/>\n",
       "<polyline clip-path=\"url(#clip432)\" style=\"stroke:#000000; stroke-linecap:butt; stroke-linejoin:round; stroke-width:2; stroke-opacity:0.1; fill:none\" points=\"\n",
       "  2292.39,1423.18 2292.39,47.2441 \n",
       "  \"/>\n",
       "<polyline clip-path=\"url(#clip430)\" style=\"stroke:#000000; stroke-linecap:butt; stroke-linejoin:round; stroke-width:4; stroke-opacity:1; fill:none\" points=\"\n",
       "  219.866,1423.18 2352.76,1423.18 \n",
       "  \"/>\n",
       "<polyline clip-path=\"url(#clip430)\" style=\"stroke:#000000; stroke-linecap:butt; stroke-linejoin:round; stroke-width:4; stroke-opacity:1; fill:none\" points=\"\n",
       "  239.167,1423.18 239.167,1404.28 \n",
       "  \"/>\n",
       "<polyline clip-path=\"url(#clip430)\" style=\"stroke:#000000; stroke-linecap:butt; stroke-linejoin:round; stroke-width:4; stroke-opacity:1; fill:none\" points=\"\n",
       "  649.811,1423.18 649.811,1404.28 \n",
       "  \"/>\n",
       "<polyline clip-path=\"url(#clip430)\" style=\"stroke:#000000; stroke-linecap:butt; stroke-linejoin:round; stroke-width:4; stroke-opacity:1; fill:none\" points=\"\n",
       "  1060.46,1423.18 1060.46,1404.28 \n",
       "  \"/>\n",
       "<polyline clip-path=\"url(#clip430)\" style=\"stroke:#000000; stroke-linecap:butt; stroke-linejoin:round; stroke-width:4; stroke-opacity:1; fill:none\" points=\"\n",
       "  1471.1,1423.18 1471.1,1404.28 \n",
       "  \"/>\n",
       "<polyline clip-path=\"url(#clip430)\" style=\"stroke:#000000; stroke-linecap:butt; stroke-linejoin:round; stroke-width:4; stroke-opacity:1; fill:none\" points=\"\n",
       "  1881.75,1423.18 1881.75,1404.28 \n",
       "  \"/>\n",
       "<polyline clip-path=\"url(#clip430)\" style=\"stroke:#000000; stroke-linecap:butt; stroke-linejoin:round; stroke-width:4; stroke-opacity:1; fill:none\" points=\"\n",
       "  2292.39,1423.18 2292.39,1404.28 \n",
       "  \"/>\n",
       "<path clip-path=\"url(#clip430)\" d=\"M239.167 1454.1 Q235.555 1454.1 233.727 1457.66 Q231.921 1461.2 231.921 1468.33 Q231.921 1475.44 233.727 1479.01 Q235.555 1482.55 239.167 1482.55 Q242.801 1482.55 244.606 1479.01 Q246.435 1475.44 246.435 1468.33 Q246.435 1461.2 244.606 1457.66 Q242.801 1454.1 239.167 1454.1 M239.167 1450.39 Q244.977 1450.39 248.032 1455 Q251.111 1459.58 251.111 1468.33 Q251.111 1477.06 248.032 1481.67 Q244.977 1486.25 239.167 1486.25 Q233.356 1486.25 230.278 1481.67 Q227.222 1477.06 227.222 1468.33 Q227.222 1459.58 230.278 1455 Q233.356 1450.39 239.167 1450.39 Z\" fill=\"#000000\" fill-rule=\"evenodd\" fill-opacity=\"1\" /><path clip-path=\"url(#clip430)\" d=\"M624.499 1481.64 L632.138 1481.64 L632.138 1455.28 L623.828 1456.95 L623.828 1452.69 L632.092 1451.02 L636.768 1451.02 L636.768 1481.64 L644.406 1481.64 L644.406 1485.58 L624.499 1485.58 L624.499 1481.64 Z\" fill=\"#000000\" fill-rule=\"evenodd\" fill-opacity=\"1\" /><path clip-path=\"url(#clip430)\" d=\"M663.851 1454.1 Q660.24 1454.1 658.411 1457.66 Q656.605 1461.2 656.605 1468.33 Q656.605 1475.44 658.411 1479.01 Q660.24 1482.55 663.851 1482.55 Q667.485 1482.55 669.291 1479.01 Q671.119 1475.44 671.119 1468.33 Q671.119 1461.2 669.291 1457.66 Q667.485 1454.1 663.851 1454.1 M663.851 1450.39 Q669.661 1450.39 672.716 1455 Q675.795 1459.58 675.795 1468.33 Q675.795 1477.06 672.716 1481.67 Q669.661 1486.25 663.851 1486.25 Q658.041 1486.25 654.962 1481.67 Q651.906 1477.06 651.906 1468.33 Q651.906 1459.58 654.962 1455 Q658.041 1450.39 663.851 1450.39 Z\" fill=\"#000000\" fill-rule=\"evenodd\" fill-opacity=\"1\" /><path clip-path=\"url(#clip430)\" d=\"M1039.23 1481.64 L1055.55 1481.64 L1055.55 1485.58 L1033.6 1485.58 L1033.6 1481.64 Q1036.27 1478.89 1040.85 1474.26 Q1045.46 1469.61 1046.64 1468.27 Q1048.88 1465.74 1049.76 1464.01 Q1050.66 1462.25 1050.66 1460.56 Q1050.66 1457.8 1048.72 1456.07 Q1046.8 1454.33 1043.7 1454.33 Q1041.5 1454.33 1039.04 1455.09 Q1036.61 1455.86 1033.84 1457.41 L1033.84 1452.69 Q1036.66 1451.55 1039.11 1450.97 Q1041.57 1450.39 1043.6 1450.39 Q1048.97 1450.39 1052.17 1453.08 Q1055.36 1455.77 1055.36 1460.26 Q1055.36 1462.39 1054.55 1464.31 Q1053.77 1466.2 1051.66 1468.8 Q1051.08 1469.47 1047.98 1472.69 Q1044.88 1475.88 1039.23 1481.64 Z\" fill=\"#000000\" fill-rule=\"evenodd\" fill-opacity=\"1\" /><path clip-path=\"url(#clip430)\" d=\"M1075.36 1454.1 Q1071.75 1454.1 1069.92 1457.66 Q1068.12 1461.2 1068.12 1468.33 Q1068.12 1475.44 1069.92 1479.01 Q1071.75 1482.55 1075.36 1482.55 Q1079 1482.55 1080.8 1479.01 Q1082.63 1475.44 1082.63 1468.33 Q1082.63 1461.2 1080.8 1457.66 Q1079 1454.1 1075.36 1454.1 M1075.36 1450.39 Q1081.17 1450.39 1084.23 1455 Q1087.31 1459.58 1087.31 1468.33 Q1087.31 1477.06 1084.23 1481.67 Q1081.17 1486.25 1075.36 1486.25 Q1069.55 1486.25 1066.47 1481.67 Q1063.42 1477.06 1063.42 1468.33 Q1063.42 1459.58 1066.47 1455 Q1069.55 1450.39 1075.36 1450.39 Z\" fill=\"#000000\" fill-rule=\"evenodd\" fill-opacity=\"1\" /><path clip-path=\"url(#clip430)\" d=\"M1459.94 1466.95 Q1463.3 1467.66 1465.18 1469.93 Q1467.07 1472.2 1467.07 1475.53 Q1467.07 1480.65 1463.56 1483.45 Q1460.04 1486.25 1453.56 1486.25 Q1451.38 1486.25 1449.06 1485.81 Q1446.77 1485.39 1444.32 1484.54 L1444.32 1480.02 Q1446.26 1481.16 1448.58 1481.74 Q1450.89 1482.32 1453.42 1482.32 Q1457.81 1482.32 1460.11 1480.58 Q1462.42 1478.84 1462.42 1475.53 Q1462.42 1472.48 1460.27 1470.77 Q1458.14 1469.03 1454.32 1469.03 L1450.29 1469.03 L1450.29 1465.19 L1454.5 1465.19 Q1457.95 1465.19 1459.78 1463.82 Q1461.61 1462.43 1461.61 1459.84 Q1461.61 1457.18 1459.71 1455.77 Q1457.84 1454.33 1454.32 1454.33 Q1452.4 1454.33 1450.2 1454.75 Q1448 1455.16 1445.36 1456.04 L1445.36 1451.88 Q1448.02 1451.14 1450.34 1450.77 Q1452.68 1450.39 1454.74 1450.39 Q1460.06 1450.39 1463.16 1452.83 Q1466.26 1455.23 1466.26 1459.35 Q1466.26 1462.22 1464.62 1464.21 Q1462.98 1466.18 1459.94 1466.95 Z\" fill=\"#000000\" fill-rule=\"evenodd\" fill-opacity=\"1\" /><path clip-path=\"url(#clip430)\" d=\"M1485.94 1454.1 Q1482.33 1454.1 1480.5 1457.66 Q1478.69 1461.2 1478.69 1468.33 Q1478.69 1475.44 1480.5 1479.01 Q1482.33 1482.55 1485.94 1482.55 Q1489.57 1482.55 1491.38 1479.01 Q1493.21 1475.44 1493.21 1468.33 Q1493.21 1461.2 1491.38 1457.66 Q1489.57 1454.1 1485.94 1454.1 M1485.94 1450.39 Q1491.75 1450.39 1494.8 1455 Q1497.88 1459.58 1497.88 1468.33 Q1497.88 1477.06 1494.8 1481.67 Q1491.75 1486.25 1485.94 1486.25 Q1480.13 1486.25 1477.05 1481.67 Q1473.99 1477.06 1473.99 1468.33 Q1473.99 1459.58 1477.05 1455 Q1480.13 1450.39 1485.94 1450.39 Z\" fill=\"#000000\" fill-rule=\"evenodd\" fill-opacity=\"1\" /><path clip-path=\"url(#clip430)\" d=\"M1869.92 1455.09 L1858.11 1473.54 L1869.92 1473.54 L1869.92 1455.09 M1868.69 1451.02 L1874.57 1451.02 L1874.57 1473.54 L1879.5 1473.54 L1879.5 1477.43 L1874.57 1477.43 L1874.57 1485.58 L1869.92 1485.58 L1869.92 1477.43 L1854.32 1477.43 L1854.32 1472.92 L1868.69 1451.02 Z\" fill=\"#000000\" fill-rule=\"evenodd\" fill-opacity=\"1\" /><path clip-path=\"url(#clip430)\" d=\"M1897.23 1454.1 Q1893.62 1454.1 1891.79 1457.66 Q1889.99 1461.2 1889.99 1468.33 Q1889.99 1475.44 1891.79 1479.01 Q1893.62 1482.55 1897.23 1482.55 Q1900.87 1482.55 1902.67 1479.01 Q1904.5 1475.44 1904.5 1468.33 Q1904.5 1461.2 1902.67 1457.66 Q1900.87 1454.1 1897.23 1454.1 M1897.23 1450.39 Q1903.04 1450.39 1906.1 1455 Q1909.18 1459.58 1909.18 1468.33 Q1909.18 1477.06 1906.1 1481.67 Q1903.04 1486.25 1897.23 1486.25 Q1891.42 1486.25 1888.34 1481.67 Q1885.29 1477.06 1885.29 1468.33 Q1885.29 1459.58 1888.34 1455 Q1891.42 1450.39 1897.23 1450.39 Z\" fill=\"#000000\" fill-rule=\"evenodd\" fill-opacity=\"1\" /><path clip-path=\"url(#clip430)\" d=\"M2267.09 1451.02 L2285.45 1451.02 L2285.45 1454.96 L2271.37 1454.96 L2271.37 1463.43 Q2272.39 1463.08 2273.41 1462.92 Q2274.43 1462.73 2275.45 1462.73 Q2281.23 1462.73 2284.61 1465.9 Q2287.99 1469.08 2287.99 1474.49 Q2287.99 1480.07 2284.52 1483.17 Q2281.05 1486.25 2274.73 1486.25 Q2272.55 1486.25 2270.28 1485.88 Q2268.04 1485.51 2265.63 1484.77 L2265.63 1480.07 Q2267.72 1481.2 2269.94 1481.76 Q2272.16 1482.32 2274.64 1482.32 Q2278.64 1482.32 2280.98 1480.21 Q2283.32 1478.1 2283.32 1474.49 Q2283.32 1470.88 2280.98 1468.77 Q2278.64 1466.67 2274.64 1466.67 Q2272.76 1466.67 2270.89 1467.08 Q2269.03 1467.5 2267.09 1468.38 L2267.09 1451.02 Z\" fill=\"#000000\" fill-rule=\"evenodd\" fill-opacity=\"1\" /><path clip-path=\"url(#clip430)\" d=\"M2307.21 1454.1 Q2303.59 1454.1 2301.77 1457.66 Q2299.96 1461.2 2299.96 1468.33 Q2299.96 1475.44 2301.77 1479.01 Q2303.59 1482.55 2307.21 1482.55 Q2310.84 1482.55 2312.65 1479.01 Q2314.47 1475.44 2314.47 1468.33 Q2314.47 1461.2 2312.65 1457.66 Q2310.84 1454.1 2307.21 1454.1 M2307.21 1450.39 Q2313.02 1450.39 2316.07 1455 Q2319.15 1459.58 2319.15 1468.33 Q2319.15 1477.06 2316.07 1481.67 Q2313.02 1486.25 2307.21 1486.25 Q2301.4 1486.25 2298.32 1481.67 Q2295.26 1477.06 2295.26 1468.33 Q2295.26 1459.58 2298.32 1455 Q2301.4 1450.39 2307.21 1450.39 Z\" fill=\"#000000\" fill-rule=\"evenodd\" fill-opacity=\"1\" /><path clip-path=\"url(#clip430)\" d=\"M1135.87 1520.52 L1142.3 1520.52 L1142.3 1568.04 L1135.87 1568.04 L1135.87 1520.52 Z\" fill=\"#000000\" fill-rule=\"evenodd\" fill-opacity=\"1\" /><path clip-path=\"url(#clip430)\" d=\"M1160.64 1522.27 L1160.64 1532.4 L1172.7 1532.4 L1172.7 1536.95 L1160.64 1536.95 L1160.64 1556.3 Q1160.64 1560.66 1161.81 1561.9 Q1163.02 1563.14 1166.68 1563.14 L1172.7 1563.14 L1172.7 1568.04 L1166.68 1568.04 Q1159.9 1568.04 1157.33 1565.53 Q1154.75 1562.98 1154.75 1556.3 L1154.75 1536.95 L1150.45 1536.95 L1150.45 1532.4 L1154.75 1532.4 L1154.75 1522.27 L1160.64 1522.27 Z\" fill=\"#000000\" fill-rule=\"evenodd\" fill-opacity=\"1\" /><path clip-path=\"url(#clip430)\" d=\"M1210.89 1548.76 L1210.89 1551.62 L1183.97 1551.62 Q1184.35 1557.67 1187.59 1560.85 Q1190.87 1564 1196.7 1564 Q1200.07 1564 1203.22 1563.17 Q1206.41 1562.35 1209.52 1560.69 L1209.52 1566.23 Q1206.37 1567.57 1203.06 1568.27 Q1199.75 1568.97 1196.35 1568.97 Q1187.82 1568.97 1182.82 1564 Q1177.86 1559.04 1177.86 1550.57 Q1177.86 1541.82 1182.57 1536.69 Q1187.31 1531.54 1195.33 1531.54 Q1202.52 1531.54 1206.69 1536.18 Q1210.89 1540.8 1210.89 1548.76 M1205.04 1547.04 Q1204.97 1542.23 1202.33 1539.37 Q1199.72 1536.5 1195.39 1536.5 Q1190.49 1536.5 1187.53 1539.27 Q1184.6 1542.04 1184.16 1547.07 L1205.04 1547.04 Z\" fill=\"#000000\" fill-rule=\"evenodd\" fill-opacity=\"1\" /><path clip-path=\"url(#clip430)\" d=\"M1241.16 1537.87 Q1240.18 1537.3 1239 1537.04 Q1237.85 1536.76 1236.45 1536.76 Q1231.49 1536.76 1228.81 1540 Q1226.17 1543.22 1226.17 1549.27 L1226.17 1568.04 L1220.28 1568.04 L1220.28 1532.4 L1226.17 1532.4 L1226.17 1537.93 Q1228.02 1534.69 1230.98 1533.13 Q1233.94 1531.54 1238.17 1531.54 Q1238.78 1531.54 1239.51 1531.63 Q1240.24 1531.7 1241.13 1531.85 L1241.16 1537.87 Z\" fill=\"#000000\" fill-rule=\"evenodd\" fill-opacity=\"1\" /><path clip-path=\"url(#clip430)\" d=\"M1263.51 1550.12 Q1256.41 1550.12 1253.67 1551.75 Q1250.93 1553.37 1250.93 1557.29 Q1250.93 1560.4 1252.97 1562.25 Q1255.04 1564.07 1258.57 1564.07 Q1263.44 1564.07 1266.37 1560.63 Q1269.33 1557.16 1269.33 1551.43 L1269.33 1550.12 L1263.51 1550.12 M1275.19 1547.71 L1275.19 1568.04 L1269.33 1568.04 L1269.33 1562.63 Q1267.33 1565.88 1264.33 1567.44 Q1261.34 1568.97 1257.01 1568.97 Q1251.54 1568.97 1248.29 1565.91 Q1245.08 1562.82 1245.08 1557.67 Q1245.08 1551.65 1249.09 1548.6 Q1253.13 1545.54 1261.12 1545.54 L1269.33 1545.54 L1269.33 1544.97 Q1269.33 1540.93 1266.66 1538.73 Q1264.02 1536.5 1259.21 1536.5 Q1256.15 1536.5 1253.26 1537.23 Q1250.36 1537.97 1247.69 1539.43 L1247.69 1534.02 Q1250.9 1532.78 1253.93 1532.17 Q1256.95 1531.54 1259.81 1531.54 Q1267.55 1531.54 1271.37 1535.55 Q1275.19 1539.56 1275.19 1547.71 Z\" fill=\"#000000\" fill-rule=\"evenodd\" fill-opacity=\"1\" /><path clip-path=\"url(#clip430)\" d=\"M1293.04 1522.27 L1293.04 1532.4 L1305.11 1532.4 L1305.11 1536.95 L1293.04 1536.95 L1293.04 1556.3 Q1293.04 1560.66 1294.22 1561.9 Q1295.43 1563.14 1299.09 1563.14 L1305.11 1563.14 L1305.11 1568.04 L1299.09 1568.04 Q1292.31 1568.04 1289.73 1565.53 Q1287.15 1562.98 1287.15 1556.3 L1287.15 1536.95 L1282.86 1536.95 L1282.86 1532.4 L1287.15 1532.4 L1287.15 1522.27 L1293.04 1522.27 Z\" fill=\"#000000\" fill-rule=\"evenodd\" fill-opacity=\"1\" /><path clip-path=\"url(#clip430)\" d=\"M1312.81 1532.4 L1318.66 1532.4 L1318.66 1568.04 L1312.81 1568.04 L1312.81 1532.4 M1312.81 1518.52 L1318.66 1518.52 L1318.66 1525.93 L1312.81 1525.93 L1312.81 1518.52 Z\" fill=\"#000000\" fill-rule=\"evenodd\" fill-opacity=\"1\" /><path clip-path=\"url(#clip430)\" d=\"M1344.73 1536.5 Q1340.02 1536.5 1337.28 1540.19 Q1334.55 1543.85 1334.55 1550.25 Q1334.55 1556.65 1337.25 1560.34 Q1339.99 1564 1344.73 1564 Q1349.41 1564 1352.15 1560.31 Q1354.89 1556.62 1354.89 1550.25 Q1354.89 1543.92 1352.15 1540.23 Q1349.41 1536.5 1344.73 1536.5 M1344.73 1531.54 Q1352.37 1531.54 1356.73 1536.5 Q1361.09 1541.47 1361.09 1550.25 Q1361.09 1559 1356.73 1564 Q1352.37 1568.97 1344.73 1568.97 Q1337.06 1568.97 1332.7 1564 Q1328.37 1559 1328.37 1550.25 Q1328.37 1541.47 1332.7 1536.5 Q1337.06 1531.54 1344.73 1531.54 Z\" fill=\"#000000\" fill-rule=\"evenodd\" fill-opacity=\"1\" /><path clip-path=\"url(#clip430)\" d=\"M1400.43 1546.53 L1400.43 1568.04 L1394.58 1568.04 L1394.58 1546.72 Q1394.58 1541.66 1392.6 1539.14 Q1390.63 1536.63 1386.68 1536.63 Q1381.94 1536.63 1379.2 1539.65 Q1376.47 1542.68 1376.47 1547.9 L1376.47 1568.04 L1370.58 1568.04 L1370.58 1532.4 L1376.47 1532.4 L1376.47 1537.93 Q1378.57 1534.72 1381.4 1533.13 Q1384.26 1531.54 1387.99 1531.54 Q1394.13 1531.54 1397.28 1535.36 Q1400.43 1539.14 1400.43 1546.53 Z\" fill=\"#000000\" fill-rule=\"evenodd\" fill-opacity=\"1\" /><path clip-path=\"url(#clip430)\" d=\"M1434.84 1533.45 L1434.84 1538.98 Q1432.36 1537.71 1429.68 1537.07 Q1427.01 1536.44 1424.14 1536.44 Q1419.78 1536.44 1417.59 1537.77 Q1415.42 1539.11 1415.42 1541.79 Q1415.42 1543.82 1416.98 1545 Q1418.54 1546.15 1423.25 1547.2 L1425.26 1547.64 Q1431.5 1548.98 1434.11 1551.43 Q1436.75 1553.85 1436.75 1558.21 Q1436.75 1563.17 1432.8 1566.07 Q1428.89 1568.97 1422.01 1568.97 Q1419.15 1568.97 1416.03 1568.39 Q1412.94 1567.85 1409.5 1566.74 L1409.5 1560.69 Q1412.75 1562.38 1415.9 1563.24 Q1419.05 1564.07 1422.14 1564.07 Q1426.28 1564.07 1428.51 1562.66 Q1430.73 1561.23 1430.73 1558.65 Q1430.73 1556.27 1429.11 1554.99 Q1427.52 1553.72 1422.08 1552.54 L1420.04 1552.07 Q1414.6 1550.92 1412.18 1548.56 Q1409.76 1546.18 1409.76 1542.04 Q1409.76 1537.01 1413.32 1534.27 Q1416.89 1531.54 1423.44 1531.54 Q1426.69 1531.54 1429.56 1532.01 Q1432.42 1532.49 1434.84 1533.45 Z\" fill=\"#000000\" fill-rule=\"evenodd\" fill-opacity=\"1\" /><polyline clip-path=\"url(#clip432)\" style=\"stroke:#000000; stroke-linecap:butt; stroke-linejoin:round; stroke-width:2; stroke-opacity:0.1; fill:none\" points=\"\n",
       "  219.866,1246.28 2352.76,1246.28 \n",
       "  \"/>\n",
       "<polyline clip-path=\"url(#clip432)\" style=\"stroke:#000000; stroke-linecap:butt; stroke-linejoin:round; stroke-width:2; stroke-opacity:0.1; fill:none\" points=\"\n",
       "  219.866,1016.42 2352.76,1016.42 \n",
       "  \"/>\n",
       "<polyline clip-path=\"url(#clip432)\" style=\"stroke:#000000; stroke-linecap:butt; stroke-linejoin:round; stroke-width:2; stroke-opacity:0.1; fill:none\" points=\"\n",
       "  219.866,786.554 2352.76,786.554 \n",
       "  \"/>\n",
       "<polyline clip-path=\"url(#clip432)\" style=\"stroke:#000000; stroke-linecap:butt; stroke-linejoin:round; stroke-width:2; stroke-opacity:0.1; fill:none\" points=\"\n",
       "  219.866,556.689 2352.76,556.689 \n",
       "  \"/>\n",
       "<polyline clip-path=\"url(#clip432)\" style=\"stroke:#000000; stroke-linecap:butt; stroke-linejoin:round; stroke-width:2; stroke-opacity:0.1; fill:none\" points=\"\n",
       "  219.866,326.825 2352.76,326.825 \n",
       "  \"/>\n",
       "<polyline clip-path=\"url(#clip432)\" style=\"stroke:#000000; stroke-linecap:butt; stroke-linejoin:round; stroke-width:2; stroke-opacity:0.1; fill:none\" points=\"\n",
       "  219.866,96.9606 2352.76,96.9606 \n",
       "  \"/>\n",
       "<polyline clip-path=\"url(#clip430)\" style=\"stroke:#000000; stroke-linecap:butt; stroke-linejoin:round; stroke-width:4; stroke-opacity:1; fill:none\" points=\"\n",
       "  219.866,1423.18 219.866,47.2441 \n",
       "  \"/>\n",
       "<polyline clip-path=\"url(#clip430)\" style=\"stroke:#000000; stroke-linecap:butt; stroke-linejoin:round; stroke-width:4; stroke-opacity:1; fill:none\" points=\"\n",
       "  219.866,1246.28 238.764,1246.28 \n",
       "  \"/>\n",
       "<polyline clip-path=\"url(#clip430)\" style=\"stroke:#000000; stroke-linecap:butt; stroke-linejoin:round; stroke-width:4; stroke-opacity:1; fill:none\" points=\"\n",
       "  219.866,1016.42 238.764,1016.42 \n",
       "  \"/>\n",
       "<polyline clip-path=\"url(#clip430)\" style=\"stroke:#000000; stroke-linecap:butt; stroke-linejoin:round; stroke-width:4; stroke-opacity:1; fill:none\" points=\"\n",
       "  219.866,786.554 238.764,786.554 \n",
       "  \"/>\n",
       "<polyline clip-path=\"url(#clip430)\" style=\"stroke:#000000; stroke-linecap:butt; stroke-linejoin:round; stroke-width:4; stroke-opacity:1; fill:none\" points=\"\n",
       "  219.866,556.689 238.764,556.689 \n",
       "  \"/>\n",
       "<polyline clip-path=\"url(#clip430)\" style=\"stroke:#000000; stroke-linecap:butt; stroke-linejoin:round; stroke-width:4; stroke-opacity:1; fill:none\" points=\"\n",
       "  219.866,326.825 238.764,326.825 \n",
       "  \"/>\n",
       "<polyline clip-path=\"url(#clip430)\" style=\"stroke:#000000; stroke-linecap:butt; stroke-linejoin:round; stroke-width:4; stroke-opacity:1; fill:none\" points=\"\n",
       "  219.866,96.9606 238.764,96.9606 \n",
       "  \"/>\n",
       "<path clip-path=\"url(#clip430)\" d=\"M127.339 1232.08 Q123.728 1232.08 121.899 1235.65 Q120.093 1239.19 120.093 1246.32 Q120.093 1253.42 121.899 1256.99 Q123.728 1260.53 127.339 1260.53 Q130.973 1260.53 132.779 1256.99 Q134.607 1253.42 134.607 1246.32 Q134.607 1239.19 132.779 1235.65 Q130.973 1232.08 127.339 1232.08 M127.339 1228.38 Q133.149 1228.38 136.204 1232.98 Q139.283 1237.57 139.283 1246.32 Q139.283 1255.04 136.204 1259.65 Q133.149 1264.23 127.339 1264.23 Q121.529 1264.23 118.45 1259.65 Q115.394 1255.04 115.394 1246.32 Q115.394 1237.57 118.45 1232.98 Q121.529 1228.38 127.339 1228.38 Z\" fill=\"#000000\" fill-rule=\"evenodd\" fill-opacity=\"1\" /><path clip-path=\"url(#clip430)\" d=\"M147.501 1257.68 L152.385 1257.68 L152.385 1263.56 L147.501 1263.56 L147.501 1257.68 Z\" fill=\"#000000\" fill-rule=\"evenodd\" fill-opacity=\"1\" /><path clip-path=\"url(#clip430)\" d=\"M176.737 1244.93 Q180.093 1245.65 181.968 1247.91 Q183.866 1250.18 183.866 1253.52 Q183.866 1258.63 180.348 1261.43 Q176.829 1264.23 170.348 1264.23 Q168.172 1264.23 165.857 1263.79 Q163.565 1263.38 161.112 1262.52 L161.112 1258.01 Q163.056 1259.14 165.371 1259.72 Q167.686 1260.3 170.209 1260.3 Q174.607 1260.3 176.899 1258.56 Q179.214 1256.83 179.214 1253.52 Q179.214 1250.46 177.061 1248.75 Q174.931 1247.01 171.112 1247.01 L167.084 1247.01 L167.084 1243.17 L171.297 1243.17 Q174.746 1243.17 176.575 1241.8 Q178.403 1240.41 178.403 1237.82 Q178.403 1235.16 176.505 1233.75 Q174.63 1232.31 171.112 1232.31 Q169.19 1232.31 166.991 1232.73 Q164.792 1233.15 162.153 1234.03 L162.153 1229.86 Q164.815 1229.12 167.13 1228.75 Q169.468 1228.38 171.528 1228.38 Q176.852 1228.38 179.954 1230.81 Q183.056 1233.22 183.056 1237.34 Q183.056 1240.21 181.413 1242.2 Q179.769 1244.16 176.737 1244.93 Z\" fill=\"#000000\" fill-rule=\"evenodd\" fill-opacity=\"1\" /><path clip-path=\"url(#clip430)\" d=\"M126.205 1002.22 Q122.593 1002.22 120.765 1005.78 Q118.959 1009.32 118.959 1016.45 Q118.959 1023.56 120.765 1027.12 Q122.593 1030.67 126.205 1030.67 Q129.839 1030.67 131.644 1027.12 Q133.473 1023.56 133.473 1016.45 Q133.473 1009.32 131.644 1005.78 Q129.839 1002.22 126.205 1002.22 M126.205 998.513 Q132.015 998.513 135.07 1003.12 Q138.149 1007.7 138.149 1016.45 Q138.149 1025.18 135.07 1029.79 Q132.015 1034.37 126.205 1034.37 Q120.394 1034.37 117.316 1029.79 Q114.26 1025.18 114.26 1016.45 Q114.26 1007.7 117.316 1003.12 Q120.394 998.513 126.205 998.513 Z\" fill=\"#000000\" fill-rule=\"evenodd\" fill-opacity=\"1\" /><path clip-path=\"url(#clip430)\" d=\"M146.366 1027.82 L151.251 1027.82 L151.251 1033.7 L146.366 1033.7 L146.366 1027.82 Z\" fill=\"#000000\" fill-rule=\"evenodd\" fill-opacity=\"1\" /><path clip-path=\"url(#clip430)\" d=\"M174.283 1003.21 L162.477 1021.66 L174.283 1021.66 L174.283 1003.21 M173.056 999.138 L178.936 999.138 L178.936 1021.66 L183.866 1021.66 L183.866 1025.55 L178.936 1025.55 L178.936 1033.7 L174.283 1033.7 L174.283 1025.55 L158.681 1025.55 L158.681 1021.04 L173.056 999.138 Z\" fill=\"#000000\" fill-rule=\"evenodd\" fill-opacity=\"1\" /><path clip-path=\"url(#clip430)\" d=\"M127.686 772.353 Q124.075 772.353 122.246 775.917 Q120.441 779.459 120.441 786.589 Q120.441 793.695 122.246 797.26 Q124.075 800.801 127.686 800.801 Q131.32 800.801 133.126 797.26 Q134.954 793.695 134.954 786.589 Q134.954 779.459 133.126 775.917 Q131.32 772.353 127.686 772.353 M127.686 768.649 Q133.496 768.649 136.552 773.255 Q139.63 777.839 139.63 786.589 Q139.63 795.315 136.552 799.922 Q133.496 804.505 127.686 804.505 Q121.876 804.505 118.797 799.922 Q115.742 795.315 115.742 786.589 Q115.742 777.839 118.797 773.255 Q121.876 768.649 127.686 768.649 Z\" fill=\"#000000\" fill-rule=\"evenodd\" fill-opacity=\"1\" /><path clip-path=\"url(#clip430)\" d=\"M147.848 797.954 L152.732 797.954 L152.732 803.834 L147.848 803.834 L147.848 797.954 Z\" fill=\"#000000\" fill-rule=\"evenodd\" fill-opacity=\"1\" /><path clip-path=\"url(#clip430)\" d=\"M162.964 769.274 L181.32 769.274 L181.32 773.209 L167.246 773.209 L167.246 781.681 Q168.264 781.334 169.283 781.172 Q170.302 780.987 171.32 780.987 Q177.107 780.987 180.487 784.158 Q183.866 787.329 183.866 792.746 Q183.866 798.325 180.394 801.426 Q176.922 804.505 170.602 804.505 Q168.427 804.505 166.158 804.135 Q163.913 803.764 161.505 803.024 L161.505 798.325 Q163.589 799.459 165.811 800.014 Q168.033 800.57 170.51 800.57 Q174.514 800.57 176.852 798.464 Q179.19 796.357 179.19 792.746 Q179.19 789.135 176.852 787.028 Q174.514 784.922 170.51 784.922 Q168.635 784.922 166.76 785.339 Q164.908 785.755 162.964 786.635 L162.964 769.274 Z\" fill=\"#000000\" fill-rule=\"evenodd\" fill-opacity=\"1\" /><path clip-path=\"url(#clip430)\" d=\"M126.529 542.488 Q122.918 542.488 121.089 546.053 Q119.283 549.595 119.283 556.724 Q119.283 563.831 121.089 567.395 Q122.918 570.937 126.529 570.937 Q130.163 570.937 131.968 567.395 Q133.797 563.831 133.797 556.724 Q133.797 549.595 131.968 546.053 Q130.163 542.488 126.529 542.488 M126.529 538.784 Q132.339 538.784 135.394 543.391 Q138.473 547.974 138.473 556.724 Q138.473 565.451 135.394 570.057 Q132.339 574.641 126.529 574.641 Q120.718 574.641 117.64 570.057 Q114.584 565.451 114.584 556.724 Q114.584 547.974 117.64 543.391 Q120.718 538.784 126.529 538.784 Z\" fill=\"#000000\" fill-rule=\"evenodd\" fill-opacity=\"1\" /><path clip-path=\"url(#clip430)\" d=\"M146.691 568.09 L151.575 568.09 L151.575 573.969 L146.691 573.969 L146.691 568.09 Z\" fill=\"#000000\" fill-rule=\"evenodd\" fill-opacity=\"1\" /><path clip-path=\"url(#clip430)\" d=\"M172.339 554.826 Q169.19 554.826 167.339 556.979 Q165.51 559.132 165.51 562.882 Q165.51 566.608 167.339 568.784 Q169.19 570.937 172.339 570.937 Q175.487 570.937 177.315 568.784 Q179.167 566.608 179.167 562.882 Q179.167 559.132 177.315 556.979 Q175.487 554.826 172.339 554.826 M181.621 540.173 L181.621 544.433 Q179.862 543.599 178.056 543.159 Q176.274 542.72 174.514 542.72 Q169.885 542.72 167.431 545.845 Q165.001 548.97 164.653 555.289 Q166.019 553.275 168.079 552.21 Q170.139 551.122 172.616 551.122 Q177.825 551.122 180.834 554.294 Q183.866 557.442 183.866 562.882 Q183.866 568.206 180.718 571.423 Q177.57 574.641 172.339 574.641 Q166.343 574.641 163.172 570.057 Q160.001 565.451 160.001 556.724 Q160.001 548.53 163.89 543.669 Q167.778 538.784 174.329 538.784 Q176.089 538.784 177.871 539.132 Q179.676 539.479 181.621 540.173 Z\" fill=\"#000000\" fill-rule=\"evenodd\" fill-opacity=\"1\" /><path clip-path=\"url(#clip430)\" d=\"M127.593 312.624 Q123.982 312.624 122.154 316.188 Q120.348 319.73 120.348 326.86 Q120.348 333.966 122.154 337.531 Q123.982 341.073 127.593 341.073 Q131.228 341.073 133.033 337.531 Q134.862 333.966 134.862 326.86 Q134.862 319.73 133.033 316.188 Q131.228 312.624 127.593 312.624 M127.593 308.92 Q133.404 308.92 136.459 313.526 Q139.538 318.11 139.538 326.86 Q139.538 335.587 136.459 340.193 Q133.404 344.776 127.593 344.776 Q121.783 344.776 118.705 340.193 Q115.649 335.587 115.649 326.86 Q115.649 318.11 118.705 313.526 Q121.783 308.92 127.593 308.92 Z\" fill=\"#000000\" fill-rule=\"evenodd\" fill-opacity=\"1\" /><path clip-path=\"url(#clip430)\" d=\"M147.755 338.225 L152.64 338.225 L152.64 344.105 L147.755 344.105 L147.755 338.225 Z\" fill=\"#000000\" fill-rule=\"evenodd\" fill-opacity=\"1\" /><path clip-path=\"url(#clip430)\" d=\"M161.644 309.545 L183.866 309.545 L183.866 311.536 L171.32 344.105 L166.436 344.105 L178.241 313.48 L161.644 313.48 L161.644 309.545 Z\" fill=\"#000000\" fill-rule=\"evenodd\" fill-opacity=\"1\" /><path clip-path=\"url(#clip430)\" d=\"M126.783 82.7593 Q123.172 82.7593 121.343 86.3241 Q119.538 89.8657 119.538 96.9953 Q119.538 104.102 121.343 107.667 Q123.172 111.208 126.783 111.208 Q130.417 111.208 132.223 107.667 Q134.052 104.102 134.052 96.9953 Q134.052 89.8657 132.223 86.3241 Q130.417 82.7593 126.783 82.7593 M126.783 79.0556 Q132.593 79.0556 135.649 83.662 Q138.728 88.2453 138.728 96.9953 Q138.728 105.722 135.649 110.329 Q132.593 114.912 126.783 114.912 Q120.973 114.912 117.894 110.329 Q114.839 105.722 114.839 96.9953 Q114.839 88.2453 117.894 83.662 Q120.973 79.0556 126.783 79.0556 Z\" fill=\"#000000\" fill-rule=\"evenodd\" fill-opacity=\"1\" /><path clip-path=\"url(#clip430)\" d=\"M146.945 108.361 L151.829 108.361 L151.829 114.241 L146.945 114.241 L146.945 108.361 Z\" fill=\"#000000\" fill-rule=\"evenodd\" fill-opacity=\"1\" /><path clip-path=\"url(#clip430)\" d=\"M172.014 97.8286 Q168.681 97.8286 166.76 99.611 Q164.862 101.393 164.862 104.518 Q164.862 107.643 166.76 109.426 Q168.681 111.208 172.014 111.208 Q175.348 111.208 177.269 109.426 Q179.19 107.62 179.19 104.518 Q179.19 101.393 177.269 99.611 Q175.371 97.8286 172.014 97.8286 M167.339 95.8379 Q164.329 95.0972 162.64 93.037 Q160.973 90.9768 160.973 88.0139 Q160.973 83.8704 163.913 81.463 Q166.876 79.0556 172.014 79.0556 Q177.176 79.0556 180.116 81.463 Q183.056 83.8704 183.056 88.0139 Q183.056 90.9768 181.366 93.037 Q179.7 95.0972 176.714 95.8379 Q180.093 96.6249 181.968 98.9166 Q183.866 101.208 183.866 104.518 Q183.866 109.542 180.788 112.227 Q177.732 114.912 172.014 114.912 Q166.297 114.912 163.218 112.227 Q160.163 109.542 160.163 104.518 Q160.163 101.208 162.061 98.9166 Q163.959 96.6249 167.339 95.8379 M165.626 88.4537 Q165.626 91.1388 167.292 92.6435 Q168.982 94.1481 172.014 94.1481 Q175.024 94.1481 176.714 92.6435 Q178.426 91.1388 178.426 88.4537 Q178.426 85.7685 176.714 84.2639 Q175.024 82.7593 172.014 82.7593 Q168.982 82.7593 167.292 84.2639 Q165.626 85.7685 165.626 88.4537 Z\" fill=\"#000000\" fill-rule=\"evenodd\" fill-opacity=\"1\" /><path clip-path=\"url(#clip430)\" d=\"M22.818 861.014 L46.4666 869.735 L46.4666 852.261 L22.818 861.014 M16.4842 864.643 L16.4842 857.354 L64.0042 839.244 L64.0042 845.928 L51.8138 850.256 L51.8138 871.677 L64.0042 876.005 L64.0042 882.785 L16.4842 864.643 Z\" fill=\"#000000\" fill-rule=\"evenodd\" fill-opacity=\"1\" /><path clip-path=\"url(#clip430)\" d=\"M29.7248 808.052 L35.1993 808.052 Q33.8307 810.534 33.1623 813.049 Q32.4621 815.531 32.4621 818.078 Q32.4621 823.775 36.0905 826.926 Q39.6872 830.077 46.212 830.077 Q52.7369 830.077 56.3653 826.926 Q59.9619 823.775 59.9619 818.078 Q59.9619 815.531 59.2935 813.049 Q58.5933 810.534 57.2247 808.052 L62.6355 808.052 Q63.7814 810.502 64.3543 813.144 Q64.9272 815.754 64.9272 818.714 Q64.9272 826.767 59.8664 831.509 Q54.8057 836.252 46.212 836.252 Q37.491 836.252 32.4939 831.477 Q27.4968 826.671 27.4968 818.332 Q27.4968 815.627 28.0697 813.049 Q28.6108 810.471 29.7248 808.052 Z\" fill=\"#000000\" fill-rule=\"evenodd\" fill-opacity=\"1\" /><path clip-path=\"url(#clip430)\" d=\"M29.7248 772.213 L35.1993 772.213 Q33.8307 774.695 33.1623 777.21 Q32.4621 779.692 32.4621 782.239 Q32.4621 787.936 36.0905 791.087 Q39.6872 794.238 46.212 794.238 Q52.7369 794.238 56.3653 791.087 Q59.9619 787.936 59.9619 782.239 Q59.9619 779.692 59.2935 777.21 Q58.5933 774.695 57.2247 772.213 L62.6355 772.213 Q63.7814 774.663 64.3543 777.305 Q64.9272 779.915 64.9272 782.875 Q64.9272 790.928 59.8664 795.67 Q54.8057 800.413 46.212 800.413 Q37.491 800.413 32.4939 795.638 Q27.4968 790.832 27.4968 782.493 Q27.4968 779.788 28.0697 777.21 Q28.6108 774.632 29.7248 772.213 Z\" fill=\"#000000\" fill-rule=\"evenodd\" fill-opacity=\"1\" /><path clip-path=\"url(#clip430)\" d=\"M49.9359 762.632 L28.3562 762.632 L28.3562 756.776 L49.7131 756.776 Q54.7739 756.776 57.3202 754.802 Q59.8346 752.829 59.8346 748.882 Q59.8346 744.14 56.8109 741.403 Q53.7872 738.634 48.5673 738.634 L28.3562 738.634 L28.3562 732.777 L64.0042 732.777 L64.0042 738.634 L58.5296 738.634 Q61.7762 740.766 63.3676 743.599 Q64.9272 746.4 64.9272 750.124 Q64.9272 756.267 61.1078 759.449 Q57.2883 762.632 49.9359 762.632 M27.4968 747.896 L27.4968 747.896 Z\" fill=\"#000000\" fill-rule=\"evenodd\" fill-opacity=\"1\" /><path clip-path=\"url(#clip430)\" d=\"M33.8307 700.057 Q33.2578 701.044 33.0032 702.222 Q32.7167 703.368 32.7167 704.768 Q32.7167 709.733 35.9632 712.407 Q39.1779 715.049 45.2253 715.049 L64.0042 715.049 L64.0042 720.937 L28.3562 720.937 L28.3562 715.049 L33.8944 715.049 Q30.6479 713.203 29.0883 710.242 Q27.4968 707.282 27.4968 703.049 Q27.4968 702.444 27.5923 701.712 Q27.656 700.98 27.8151 700.089 L33.8307 700.057 Z\" fill=\"#000000\" fill-rule=\"evenodd\" fill-opacity=\"1\" /><path clip-path=\"url(#clip430)\" d=\"M46.0847 677.714 Q46.0847 684.811 47.7079 687.549 Q49.3312 690.286 53.2461 690.286 Q56.3653 690.286 58.2114 688.249 Q60.0256 686.18 60.0256 682.647 Q60.0256 677.777 56.5881 674.849 Q53.1188 671.889 47.3897 671.889 L46.0847 671.889 L46.0847 677.714 M43.6657 666.033 L64.0042 666.033 L64.0042 671.889 L58.5933 671.889 Q61.8398 673.894 63.3994 676.886 Q64.9272 679.878 64.9272 684.207 Q64.9272 689.681 61.8716 692.928 Q58.7843 696.142 53.6281 696.142 Q47.6125 696.142 44.5569 692.132 Q41.5014 688.09 41.5014 680.101 L41.5014 671.889 L40.9285 671.889 Q36.8862 671.889 34.6901 674.563 Q32.4621 677.204 32.4621 682.011 Q32.4621 685.066 33.1941 687.963 Q33.9262 690.859 35.3903 693.533 L29.9795 693.533 Q28.7381 690.318 28.1334 687.294 Q27.4968 684.27 27.4968 681.406 Q27.4968 673.671 31.5072 669.852 Q35.5176 666.033 43.6657 666.033 Z\" fill=\"#000000\" fill-rule=\"evenodd\" fill-opacity=\"1\" /><path clip-path=\"url(#clip430)\" d=\"M29.7248 628.316 L35.1993 628.316 Q33.8307 630.798 33.1623 633.313 Q32.4621 635.796 32.4621 638.342 Q32.4621 644.039 36.0905 647.19 Q39.6872 650.341 46.212 650.341 Q52.7369 650.341 56.3653 647.19 Q59.9619 644.039 59.9619 638.342 Q59.9619 635.796 59.2935 633.313 Q58.5933 630.798 57.2247 628.316 L62.6355 628.316 Q63.7814 630.767 64.3543 633.408 Q64.9272 636.018 64.9272 638.978 Q64.9272 647.031 59.8664 651.773 Q54.8057 656.516 46.212 656.516 Q37.491 656.516 32.4939 651.742 Q27.4968 646.936 27.4968 638.596 Q27.4968 635.891 28.0697 633.313 Q28.6108 630.735 29.7248 628.316 Z\" fill=\"#000000\" fill-rule=\"evenodd\" fill-opacity=\"1\" /><path clip-path=\"url(#clip430)\" d=\"M67.3143 603.299 Q73.68 605.781 75.6216 608.137 Q77.5631 610.492 77.5631 614.439 L77.5631 619.117 L72.6615 619.117 L72.6615 615.68 Q72.6615 613.261 71.5157 611.924 Q70.3699 610.587 66.1048 608.964 L63.4312 607.914 L28.3562 622.332 L28.3562 616.126 L56.238 604.986 L28.3562 593.846 L28.3562 587.639 L67.3143 603.299 Z\" fill=\"#000000\" fill-rule=\"evenodd\" fill-opacity=\"1\" /><polyline clip-path=\"url(#clip432)\" style=\"stroke:#009af9; stroke-linecap:butt; stroke-linejoin:round; stroke-width:4; stroke-opacity:1; fill:none\" points=\"\n",
       "  280.231,1384.24 321.296,1136.97 362.36,967.056 403.425,862.07 444.489,770.438 485.554,664.07 526.618,604.209 567.683,537.902 608.747,495.54 649.811,454.098 \n",
       "  690.876,412.656 731.94,371.214 773.005,360.163 814.069,348.651 855.134,313.656 896.198,299.842 937.263,280.502 978.327,263.465 1019.39,254.716 1060.46,250.111 \n",
       "  1101.52,228.93 1142.59,222.484 1183.65,220.642 1224.71,215.577 1265.78,206.828 1306.84,207.749 1347.91,205.907 1388.97,199 1430.04,196.237 1471.1,179.66 \n",
       "  1512.17,178.279 1553.23,164.465 1594.29,171.832 1635.36,168.609 1676.42,166.307 1717.49,162.623 1758.55,158.479 1799.62,151.111 1840.68,150.651 1881.75,149.73 \n",
       "  1922.81,158.479 1963.88,151.572 2004.94,157.097 2046,142.823 2087.07,144.665 2128.13,147.428 2169.2,143.744 2210.26,144.204 2251.33,139.6 2292.39,140.521 \n",
       "  \n",
       "  \"/>\n",
       "<polyline clip-path=\"url(#clip432)\" style=\"stroke:#e26f46; stroke-linecap:butt; stroke-linejoin:round; stroke-width:4; stroke-opacity:1; fill:none\" points=\"\n",
       "  280.231,1355.23 321.296,1097.83 362.36,948.177 403.425,894.303 444.489,804.512 485.554,636.903 526.618,600.986 567.683,577.042 608.747,523.168 649.811,523.168 \n",
       "  690.876,415.419 731.94,415.419 773.005,337.6 814.069,361.544 855.134,355.558 896.198,295.697 937.263,146.046 978.327,223.865 1019.39,283.725 1060.46,187.949 \n",
       "  1101.52,158.018 1142.59,187.949 1183.65,235.837 1224.71,253.795 1265.78,181.963 1306.84,265.767 1347.91,175.976 1388.97,169.99 1430.04,158.018 1471.1,205.907 \n",
       "  1512.17,146.046 1553.23,158.018 1594.29,98.1577 1635.36,199.921 1676.42,187.949 1717.49,128.088 1758.55,158.018 1799.62,128.088 1840.68,134.074 1881.75,86.1857 \n",
       "  1922.81,122.102 1963.88,152.032 2004.94,110.13 2046,146.046 2087.07,86.1857 2128.13,92.1718 2169.2,92.1718 2210.26,134.074 2251.33,128.088 2292.39,152.032 \n",
       "  \n",
       "  \"/>\n",
       "<path clip-path=\"url(#clip430)\" d=\"\n",
       "M1748.26 248.629 L2281.66 248.629 L2281.66 93.1086 L1748.26 93.1086  Z\n",
       "  \" fill=\"#ffffff\" fill-rule=\"evenodd\" fill-opacity=\"1\"/>\n",
       "<polyline clip-path=\"url(#clip430)\" style=\"stroke:#000000; stroke-linecap:butt; stroke-linejoin:round; stroke-width:4; stroke-opacity:1; fill:none\" points=\"\n",
       "  1748.26,248.629 2281.66,248.629 2281.66,93.1086 1748.26,93.1086 1748.26,248.629 \n",
       "  \"/>\n",
       "<polyline clip-path=\"url(#clip430)\" style=\"stroke:#009af9; stroke-linecap:butt; stroke-linejoin:round; stroke-width:4; stroke-opacity:1; fill:none\" points=\"\n",
       "  1771.96,144.949 1914.15,144.949 \n",
       "  \"/>\n",
       "<path clip-path=\"url(#clip430)\" d=\"M1945.26 128.942 L1945.26 136.303 L1954.03 136.303 L1954.03 139.613 L1945.26 139.613 L1945.26 153.687 Q1945.26 156.858 1946.12 157.761 Q1947 158.664 1949.66 158.664 L1954.03 158.664 L1954.03 162.229 L1949.66 162.229 Q1944.73 162.229 1942.85 160.4 Q1940.98 158.548 1940.98 153.687 L1940.98 139.613 L1937.85 139.613 L1937.85 136.303 L1940.98 136.303 L1940.98 128.942 L1945.26 128.942 Z\" fill=\"#000000\" fill-rule=\"evenodd\" fill-opacity=\"1\" /><path clip-path=\"url(#clip430)\" d=\"M1974.66 140.284 Q1973.94 139.868 1973.08 139.682 Q1972.25 139.474 1971.23 139.474 Q1967.62 139.474 1965.68 141.835 Q1963.75 144.173 1963.75 148.571 L1963.75 162.229 L1959.47 162.229 L1959.47 136.303 L1963.75 136.303 L1963.75 140.331 Q1965.1 137.969 1967.25 136.835 Q1969.4 135.678 1972.48 135.678 Q1972.92 135.678 1973.45 135.747 Q1973.99 135.794 1974.63 135.909 L1974.66 140.284 Z\" fill=\"#000000\" fill-rule=\"evenodd\" fill-opacity=\"1\" /><path clip-path=\"url(#clip430)\" d=\"M1999.84 146.581 L1999.84 162.229 L1995.58 162.229 L1995.58 146.719 Q1995.58 143.039 1994.15 141.21 Q1992.71 139.382 1989.84 139.382 Q1986.39 139.382 1984.4 141.581 Q1982.41 143.78 1982.41 147.576 L1982.41 162.229 L1978.13 162.229 L1978.13 136.303 L1982.41 136.303 L1982.41 140.331 Q1983.94 137.993 1986 136.835 Q1988.08 135.678 1990.79 135.678 Q1995.26 135.678 1997.55 138.456 Q1999.84 141.21 1999.84 146.581 Z\" fill=\"#000000\" fill-rule=\"evenodd\" fill-opacity=\"1\" /><path clip-path=\"url(#clip430)\" d=\"M2035.19 149.196 Q2030.03 149.196 2028.04 150.377 Q2026.05 151.557 2026.05 154.405 Q2026.05 156.673 2027.53 158.016 Q2029.03 159.335 2031.6 159.335 Q2035.14 159.335 2037.27 156.835 Q2039.43 154.312 2039.43 150.145 L2039.43 149.196 L2035.19 149.196 M2043.68 147.437 L2043.68 162.229 L2039.43 162.229 L2039.43 158.293 Q2037.97 160.655 2035.79 161.789 Q2033.61 162.9 2030.47 162.9 Q2026.49 162.9 2024.12 160.678 Q2021.79 158.432 2021.79 154.682 Q2021.79 150.307 2024.7 148.085 Q2027.64 145.863 2033.45 145.863 L2039.43 145.863 L2039.43 145.446 Q2039.43 142.507 2037.48 140.909 Q2035.56 139.289 2032.06 139.289 Q2029.84 139.289 2027.74 139.821 Q2025.63 140.354 2023.68 141.419 L2023.68 137.483 Q2026.02 136.581 2028.22 136.141 Q2030.42 135.678 2032.5 135.678 Q2038.13 135.678 2040.91 138.594 Q2043.68 141.511 2043.68 147.437 Z\" fill=\"#000000\" fill-rule=\"evenodd\" fill-opacity=\"1\" /><path clip-path=\"url(#clip430)\" d=\"M2071.11 137.298 L2071.11 141.28 Q2069.31 140.284 2067.48 139.798 Q2065.67 139.289 2063.82 139.289 Q2059.68 139.289 2057.39 141.928 Q2055.1 144.544 2055.1 149.289 Q2055.1 154.034 2057.39 156.673 Q2059.68 159.289 2063.82 159.289 Q2065.67 159.289 2067.48 158.803 Q2069.31 158.293 2071.11 157.298 L2071.11 161.233 Q2069.33 162.067 2067.41 162.483 Q2065.51 162.9 2063.36 162.9 Q2057.5 162.9 2054.05 159.219 Q2050.61 155.539 2050.61 149.289 Q2050.61 142.946 2054.08 139.312 Q2057.57 135.678 2063.64 135.678 Q2065.61 135.678 2067.48 136.095 Q2069.36 136.488 2071.11 137.298 Z\" fill=\"#000000\" fill-rule=\"evenodd\" fill-opacity=\"1\" /><path clip-path=\"url(#clip430)\" d=\"M2097.18 137.298 L2097.18 141.28 Q2095.37 140.284 2093.55 139.798 Q2091.74 139.289 2089.89 139.289 Q2085.74 139.289 2083.45 141.928 Q2081.16 144.544 2081.16 149.289 Q2081.16 154.034 2083.45 156.673 Q2085.74 159.289 2089.89 159.289 Q2091.74 159.289 2093.55 158.803 Q2095.37 158.293 2097.18 157.298 L2097.18 161.233 Q2095.4 162.067 2093.48 162.483 Q2091.58 162.9 2089.42 162.9 Q2083.57 162.9 2080.12 159.219 Q2076.67 155.539 2076.67 149.289 Q2076.67 142.946 2080.14 139.312 Q2083.64 135.678 2089.7 135.678 Q2091.67 135.678 2093.55 136.095 Q2095.42 136.488 2097.18 137.298 Z\" fill=\"#000000\" fill-rule=\"evenodd\" fill-opacity=\"1\" /><path clip-path=\"url(#clip430)\" d=\"M2104.15 151.997 L2104.15 136.303 L2108.41 136.303 L2108.41 151.835 Q2108.41 155.516 2109.84 157.368 Q2111.28 159.196 2114.15 159.196 Q2117.6 159.196 2119.59 156.997 Q2121.6 154.798 2121.6 151.002 L2121.6 136.303 L2125.86 136.303 L2125.86 162.229 L2121.6 162.229 L2121.6 158.247 Q2120.05 160.608 2117.99 161.766 Q2115.95 162.9 2113.24 162.9 Q2108.78 162.9 2106.46 160.122 Q2104.15 157.344 2104.15 151.997 M2114.86 135.678 L2114.86 135.678 Z\" fill=\"#000000\" fill-rule=\"evenodd\" fill-opacity=\"1\" /><path clip-path=\"url(#clip430)\" d=\"M2149.66 140.284 Q2148.94 139.868 2148.08 139.682 Q2147.25 139.474 2146.23 139.474 Q2142.62 139.474 2140.67 141.835 Q2138.75 144.173 2138.75 148.571 L2138.75 162.229 L2134.47 162.229 L2134.47 136.303 L2138.75 136.303 L2138.75 140.331 Q2140.1 137.969 2142.25 136.835 Q2144.4 135.678 2147.48 135.678 Q2147.92 135.678 2148.45 135.747 Q2148.98 135.794 2149.63 135.909 L2149.66 140.284 Z\" fill=\"#000000\" fill-rule=\"evenodd\" fill-opacity=\"1\" /><path clip-path=\"url(#clip430)\" d=\"M2165.91 149.196 Q2160.74 149.196 2158.75 150.377 Q2156.76 151.557 2156.76 154.405 Q2156.76 156.673 2158.24 158.016 Q2159.75 159.335 2162.32 159.335 Q2165.86 159.335 2167.99 156.835 Q2170.14 154.312 2170.14 150.145 L2170.14 149.196 L2165.91 149.196 M2174.4 147.437 L2174.4 162.229 L2170.14 162.229 L2170.14 158.293 Q2168.68 160.655 2166.51 161.789 Q2164.33 162.9 2161.18 162.9 Q2157.2 162.9 2154.84 160.678 Q2152.5 158.432 2152.5 154.682 Q2152.5 150.307 2155.42 148.085 Q2158.36 145.863 2164.17 145.863 L2170.14 145.863 L2170.14 145.446 Q2170.14 142.507 2168.2 140.909 Q2166.28 139.289 2162.78 139.289 Q2160.56 139.289 2158.45 139.821 Q2156.35 140.354 2154.4 141.419 L2154.4 137.483 Q2156.74 136.581 2158.94 136.141 Q2161.14 135.678 2163.22 135.678 Q2168.85 135.678 2171.62 138.594 Q2174.4 141.511 2174.4 147.437 Z\" fill=\"#000000\" fill-rule=\"evenodd\" fill-opacity=\"1\" /><path clip-path=\"url(#clip430)\" d=\"M2201.83 137.298 L2201.83 141.28 Q2200.03 140.284 2198.2 139.798 Q2196.39 139.289 2194.54 139.289 Q2190.4 139.289 2188.1 141.928 Q2185.81 144.544 2185.81 149.289 Q2185.81 154.034 2188.1 156.673 Q2190.4 159.289 2194.54 159.289 Q2196.39 159.289 2198.2 158.803 Q2200.03 158.293 2201.83 157.298 L2201.83 161.233 Q2200.05 162.067 2198.13 162.483 Q2196.23 162.9 2194.08 162.9 Q2188.22 162.9 2184.77 159.219 Q2181.32 155.539 2181.32 149.289 Q2181.32 142.946 2184.79 139.312 Q2188.29 135.678 2194.35 135.678 Q2196.32 135.678 2198.2 136.095 Q2200.07 136.488 2201.83 137.298 Z\" fill=\"#000000\" fill-rule=\"evenodd\" fill-opacity=\"1\" /><path clip-path=\"url(#clip430)\" d=\"M2220.03 164.636 Q2218.22 169.266 2216.51 170.678 Q2214.79 172.09 2211.92 172.09 L2208.52 172.09 L2208.52 168.525 L2211.02 168.525 Q2212.78 168.525 2213.75 167.692 Q2214.73 166.858 2215.91 163.756 L2216.67 161.812 L2206.18 136.303 L2210.7 136.303 L2218.8 156.581 L2226.9 136.303 L2231.41 136.303 L2220.03 164.636 Z\" fill=\"#000000\" fill-rule=\"evenodd\" fill-opacity=\"1\" /><polyline clip-path=\"url(#clip430)\" style=\"stroke:#e26f46; stroke-linecap:butt; stroke-linejoin:round; stroke-width:4; stroke-opacity:1; fill:none\" points=\"\n",
       "  1771.96,196.789 1914.15,196.789 \n",
       "  \"/>\n",
       "<path clip-path=\"url(#clip430)\" d=\"M1937.85 188.143 L1942.37 188.143 L1950.47 209.902 L1958.57 188.143 L1963.08 188.143 L1953.36 214.069 L1947.57 214.069 L1937.85 188.143 Z\" fill=\"#000000\" fill-rule=\"evenodd\" fill-opacity=\"1\" /><path clip-path=\"url(#clip430)\" d=\"M1980.74 201.036 Q1975.58 201.036 1973.59 202.217 Q1971.6 203.397 1971.6 206.245 Q1971.6 208.513 1973.08 209.856 Q1974.59 211.175 1977.16 211.175 Q1980.7 211.175 1982.83 208.675 Q1984.98 206.152 1984.98 201.985 L1984.98 201.036 L1980.74 201.036 M1989.24 199.277 L1989.24 214.069 L1984.98 214.069 L1984.98 210.133 Q1983.52 212.495 1981.35 213.629 Q1979.17 214.74 1976.02 214.74 Q1972.04 214.74 1969.68 212.518 Q1967.34 210.272 1967.34 206.522 Q1967.34 202.147 1970.26 199.925 Q1973.2 197.703 1979.01 197.703 L1984.98 197.703 L1984.98 197.286 Q1984.98 194.347 1983.04 192.749 Q1981.12 191.129 1977.62 191.129 Q1975.4 191.129 1973.29 191.661 Q1971.18 192.194 1969.24 193.259 L1969.24 189.323 Q1971.58 188.421 1973.78 187.981 Q1975.98 187.518 1978.06 187.518 Q1983.68 187.518 1986.46 190.434 Q1989.24 193.351 1989.24 199.277 Z\" fill=\"#000000\" fill-rule=\"evenodd\" fill-opacity=\"1\" /><path clip-path=\"url(#clip430)\" d=\"M1998.01 178.05 L2002.27 178.05 L2002.27 214.069 L1998.01 214.069 L1998.01 178.05 Z\" fill=\"#000000\" fill-rule=\"evenodd\" fill-opacity=\"1\" /><path clip-path=\"url(#clip430)\" d=\"M2038.04 201.036 Q2032.87 201.036 2030.88 202.217 Q2028.89 203.397 2028.89 206.245 Q2028.89 208.513 2030.37 209.856 Q2031.88 211.175 2034.45 211.175 Q2037.99 211.175 2040.12 208.675 Q2042.27 206.152 2042.27 201.985 L2042.27 201.036 L2038.04 201.036 M2046.53 199.277 L2046.53 214.069 L2042.27 214.069 L2042.27 210.133 Q2040.81 212.495 2038.64 213.629 Q2036.46 214.74 2033.31 214.74 Q2029.33 214.74 2026.97 212.518 Q2024.63 210.272 2024.63 206.522 Q2024.63 202.147 2027.55 199.925 Q2030.49 197.703 2036.3 197.703 L2042.27 197.703 L2042.27 197.286 Q2042.27 194.347 2040.33 192.749 Q2038.41 191.129 2034.91 191.129 Q2032.69 191.129 2030.58 191.661 Q2028.48 192.194 2026.53 193.259 L2026.53 189.323 Q2028.87 188.421 2031.07 187.981 Q2033.27 187.518 2035.35 187.518 Q2040.98 187.518 2043.75 190.434 Q2046.53 193.351 2046.53 199.277 Z\" fill=\"#000000\" fill-rule=\"evenodd\" fill-opacity=\"1\" /><path clip-path=\"url(#clip430)\" d=\"M2073.96 189.138 L2073.96 193.12 Q2072.16 192.124 2070.33 191.638 Q2068.52 191.129 2066.67 191.129 Q2062.53 191.129 2060.24 193.768 Q2057.94 196.384 2057.94 201.129 Q2057.94 205.874 2060.24 208.513 Q2062.53 211.129 2066.67 211.129 Q2068.52 211.129 2070.33 210.643 Q2072.16 210.133 2073.96 209.138 L2073.96 213.073 Q2072.18 213.907 2070.26 214.323 Q2068.36 214.74 2066.21 214.74 Q2060.35 214.74 2056.9 211.059 Q2053.45 207.379 2053.45 201.129 Q2053.45 194.786 2056.93 191.152 Q2060.42 187.518 2066.49 187.518 Q2068.45 187.518 2070.33 187.935 Q2072.2 188.328 2073.96 189.138 Z\" fill=\"#000000\" fill-rule=\"evenodd\" fill-opacity=\"1\" /><path clip-path=\"url(#clip430)\" d=\"M2100.03 189.138 L2100.03 193.12 Q2098.22 192.124 2096.39 191.638 Q2094.59 191.129 2092.74 191.129 Q2088.59 191.129 2086.3 193.768 Q2084.01 196.384 2084.01 201.129 Q2084.01 205.874 2086.3 208.513 Q2088.59 211.129 2092.74 211.129 Q2094.59 211.129 2096.39 210.643 Q2098.22 210.133 2100.03 209.138 L2100.03 213.073 Q2098.24 213.907 2096.32 214.323 Q2094.42 214.74 2092.27 214.74 Q2086.42 214.74 2082.97 211.059 Q2079.52 207.379 2079.52 201.129 Q2079.52 194.786 2082.99 191.152 Q2086.49 187.518 2092.55 187.518 Q2094.52 187.518 2096.39 187.935 Q2098.27 188.328 2100.03 189.138 Z\" fill=\"#000000\" fill-rule=\"evenodd\" fill-opacity=\"1\" /><path clip-path=\"url(#clip430)\" d=\"M2106.99 203.837 L2106.99 188.143 L2111.25 188.143 L2111.25 203.675 Q2111.25 207.356 2112.69 209.208 Q2114.12 211.036 2116.99 211.036 Q2120.44 211.036 2122.43 208.837 Q2124.45 206.638 2124.45 202.842 L2124.45 188.143 L2128.71 188.143 L2128.71 214.069 L2124.45 214.069 L2124.45 210.087 Q2122.9 212.448 2120.84 213.606 Q2118.8 214.74 2116.09 214.74 Q2111.62 214.74 2109.31 211.962 Q2106.99 209.184 2106.99 203.837 M2117.71 187.518 L2117.71 187.518 Z\" fill=\"#000000\" fill-rule=\"evenodd\" fill-opacity=\"1\" /><path clip-path=\"url(#clip430)\" d=\"M2152.5 192.124 Q2151.79 191.708 2150.93 191.522 Q2150.1 191.314 2149.08 191.314 Q2145.47 191.314 2143.52 193.675 Q2141.6 196.013 2141.6 200.411 L2141.6 214.069 L2137.32 214.069 L2137.32 188.143 L2141.6 188.143 L2141.6 192.171 Q2142.94 189.809 2145.1 188.675 Q2147.25 187.518 2150.33 187.518 Q2150.77 187.518 2151.3 187.587 Q2151.83 187.634 2152.48 187.749 L2152.5 192.124 Z\" fill=\"#000000\" fill-rule=\"evenodd\" fill-opacity=\"1\" /><path clip-path=\"url(#clip430)\" d=\"M2168.75 201.036 Q2163.59 201.036 2161.6 202.217 Q2159.61 203.397 2159.61 206.245 Q2159.61 208.513 2161.09 209.856 Q2162.6 211.175 2165.17 211.175 Q2168.71 211.175 2170.84 208.675 Q2172.99 206.152 2172.99 201.985 L2172.99 201.036 L2168.75 201.036 M2177.25 199.277 L2177.25 214.069 L2172.99 214.069 L2172.99 210.133 Q2171.53 212.495 2169.35 213.629 Q2167.18 214.74 2164.03 214.74 Q2160.05 214.74 2157.69 212.518 Q2155.35 210.272 2155.35 206.522 Q2155.35 202.147 2158.27 199.925 Q2161.21 197.703 2167.02 197.703 L2172.99 197.703 L2172.99 197.286 Q2172.99 194.347 2171.04 192.749 Q2169.12 191.129 2165.63 191.129 Q2163.41 191.129 2161.3 191.661 Q2159.19 192.194 2157.25 193.259 L2157.25 189.323 Q2159.59 188.421 2161.79 187.981 Q2163.98 187.518 2166.07 187.518 Q2171.69 187.518 2174.47 190.434 Q2177.25 193.351 2177.25 199.277 Z\" fill=\"#000000\" fill-rule=\"evenodd\" fill-opacity=\"1\" /><path clip-path=\"url(#clip430)\" d=\"M2204.68 189.138 L2204.68 193.12 Q2202.87 192.124 2201.04 191.638 Q2199.24 191.129 2197.39 191.129 Q2193.24 191.129 2190.95 193.768 Q2188.66 196.384 2188.66 201.129 Q2188.66 205.874 2190.95 208.513 Q2193.24 211.129 2197.39 211.129 Q2199.24 211.129 2201.04 210.643 Q2202.87 210.133 2204.68 209.138 L2204.68 213.073 Q2202.9 213.907 2200.98 214.323 Q2199.08 214.74 2196.92 214.74 Q2191.07 214.74 2187.62 211.059 Q2184.17 207.379 2184.17 201.129 Q2184.17 194.786 2187.64 191.152 Q2191.14 187.518 2197.2 187.518 Q2199.17 187.518 2201.04 187.935 Q2202.92 188.328 2204.68 189.138 Z\" fill=\"#000000\" fill-rule=\"evenodd\" fill-opacity=\"1\" /><path clip-path=\"url(#clip430)\" d=\"M2222.87 216.476 Q2221.07 221.106 2219.35 222.518 Q2217.64 223.93 2214.77 223.93 L2211.37 223.93 L2211.37 220.365 L2213.87 220.365 Q2215.63 220.365 2216.6 219.532 Q2217.57 218.698 2218.75 215.596 L2219.52 213.652 L2209.03 188.143 L2213.54 188.143 L2221.65 208.421 L2229.75 188.143 L2234.26 188.143 L2222.87 216.476 Z\" fill=\"#000000\" fill-rule=\"evenodd\" fill-opacity=\"1\" /></svg>\n"
      ]
     },
     "execution_count": 100,
     "metadata": {},
     "output_type": "execute_result"
    }
   ],
   "source": [
    "plot([best_model_gs[3,:], best_model_gs[4,:]],\n",
    "    labels=[\"trn accuracy\" \"val accuracy\" ],xlabel=\"Iterations\",ylabel=\"Accuracy\")"
   ]
  },
  {
   "cell_type": "code",
   "execution_count": null,
   "id": "59996fd5",
   "metadata": {},
   "outputs": [],
   "source": []
  }
 ],
 "metadata": {
  "kernelspec": {
   "display_name": "Julia 1.6.4",
   "language": "julia",
   "name": "julia-1.6"
  },
  "language_info": {
   "file_extension": ".jl",
   "mimetype": "application/julia",
   "name": "julia",
   "version": "1.6.4"
  }
 },
 "nbformat": 4,
 "nbformat_minor": 5
}
