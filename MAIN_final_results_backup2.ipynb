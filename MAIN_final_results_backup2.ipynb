{
 "cells": [
  {
   "cell_type": "markdown",
   "id": "70fd1309",
   "metadata": {},
   "source": [
    "Ufuk Altun"
   ]
  },
  {
   "cell_type": "markdown",
   "id": "9adae3e8",
   "metadata": {},
   "source": [
    "using Pkg; pkg\"add CUDA Knet IterTools FileIO JLD2 Images Plots PyCall\""
   ]
  },
  {
   "cell_type": "code",
   "execution_count": 1,
   "id": "1345dd52",
   "metadata": {},
   "outputs": [],
   "source": [
    "using PyCall\n",
    "@pyimport torch"
   ]
  },
  {
   "cell_type": "code",
   "execution_count": 2,
   "id": "1b1c2919",
   "metadata": {},
   "outputs": [],
   "source": [
    "include(\"models.jl\");\n",
    "include(\"training.jl\");"
   ]
  },
  {
   "cell_type": "markdown",
   "id": "6127b255",
   "metadata": {},
   "source": [
    "#### Generate an alexnet model"
   ]
  },
  {
   "cell_type": "code",
   "execution_count": 13,
   "id": "4454bad2",
   "metadata": {},
   "outputs": [],
   "source": [
    "model = generate_alexnet_model( 7 ; pretrained = true);"
   ]
  },
  {
   "cell_type": "markdown",
   "id": "e952ad86",
   "metadata": {},
   "source": [
    "#### Set optimizers of each parameter to Adam. Parameter sizes should be:\n",
    "##### Original Alexnet\n",
    "- (11, 11, 3, 64)\n",
    "- (1, 1, 64, 1)\n",
    "- (5, 5, 64, 192)\n",
    "- (1, 1, 192, 1)\n",
    "- (3, 3, 192, 384)\n",
    "- (1, 1, 384, 1)\n",
    "- (3, 3, 384, 256)\n",
    "- (1, 1, 256, 1)\n",
    "- (3, 3, 256, 256)\n",
    "- (1, 1, 256, 1)\n",
    "- (4096, 9216)\n",
    "- (4096,)\n",
    "- (4096, 4096)\n",
    "- (4096,)\n",
    "- (7, 4096)\n",
    "- (7,)"
   ]
  },
  {
   "cell_type": "code",
   "execution_count": 4,
   "id": "065ef923",
   "metadata": {},
   "outputs": [
    {
     "name": "stdout",
     "output_type": "stream",
     "text": [
      "(11, 11, 3, 64)\n",
      "(1, 1, 64, 1)\n",
      "(5, 5, 64, 192)\n",
      "(1, 1, 192, 1)\n",
      "(3, 3, 192, 384)\n",
      "(1, 1, 384, 1)\n",
      "(3, 3, 384, 256)\n",
      "(1, 1, 256, 1)\n",
      "(3, 3, 256, 256)\n",
      "(1, 1, 256, 1)\n",
      "(4096, 9216)\n",
      "(4096,)\n",
      "(4096, 4096)\n",
      "(4096,)\n",
      "(7, 4096)\n",
      "(7,)\n"
     ]
    }
   ],
   "source": [
    "for param in params(model)\n",
    "    param.opt = Adam(; lr=1e-5)\n",
    "    println(size(param))\n",
    "end"
   ]
  },
  {
   "cell_type": "markdown",
   "id": "80d439ef",
   "metadata": {},
   "source": [
    "#### Define batchsize, model path and target domain  "
   ]
  },
  {
   "cell_type": "code",
   "execution_count": 5,
   "id": "2953cd8b",
   "metadata": {},
   "outputs": [],
   "source": [
    "num_iter=1000\n",
    "check_freq=20\n",
    "batchsize = 128\n",
    "atype = Array{Float32}\n",
    "data_path = \"/Users/ufukaltun/Documents/koç/dersler/ku deep learning/project\";"
   ]
  },
  {
   "cell_type": "markdown",
   "id": "ce1e8d8b",
   "metadata": {},
   "source": [
    "#### Preprocess data, generate minibatches for each modain and generate a baseline minibach which contains three known domains"
   ]
  },
  {
   "cell_type": "code",
   "execution_count": 6,
   "id": "eaee9bd3",
   "metadata": {},
   "outputs": [
    {
     "name": "stdout",
     "output_type": "stream",
     "text": [
      "Datasets are loaded\n"
     ]
    },
    {
     "name": "stderr",
     "output_type": "stream",
     "text": [
      "\r",
      "[1, 00:00, 3.36i/s] "
     ]
    },
    {
     "name": "stdout",
     "output_type": "stream",
     "text": [
      "First batch is trained successfully\n"
     ]
    },
    {
     "name": "stderr",
     "output_type": "stream",
     "text": [
      "[20, 12:37, 38.63s/i] "
     ]
    },
    {
     "name": "stdout",
     "output_type": "stream",
     "text": [
      "Train loss: 1.7693803  Val loss: 1.7726035  Train acc: 0.30694444444444446  Val acc: 0.2877604166666667\n"
     ]
    },
    {
     "name": "stderr",
     "output_type": "stream",
     "text": [
      "[40, 31:23, 36.01s/i]  "
     ]
    },
    {
     "name": "stdout",
     "output_type": "stream",
     "text": [
      "Train loss: 1.4692999  Val loss: 1.4858196  Train acc: 0.45590277777777777  Val acc: 0.4479166666666667\n"
     ]
    },
    {
     "name": "stderr",
     "output_type": "stream",
     "text": [
      "[60, 49:55, 36.05s/i]  "
     ]
    },
    {
     "name": "stdout",
     "output_type": "stream",
     "text": [
      "Train loss: 1.2617698  Val loss: 1.3003395  Train acc: 0.5477430555555556  Val acc: 0.515625\n"
     ]
    },
    {
     "name": "stderr",
     "output_type": "stream",
     "text": [
      "[80, 01:08:26, 37.23s/i] "
     ]
    },
    {
     "name": "stdout",
     "output_type": "stream",
     "text": [
      "Train loss: 1.100818  Val loss: 1.1534643  Train acc: 0.6015625  Val acc: 0.58203125\n"
     ]
    },
    {
     "name": "stderr",
     "output_type": "stream",
     "text": [
      "[100, 01:26:52, 36.01s/i] "
     ]
    },
    {
     "name": "stdout",
     "output_type": "stream",
     "text": [
      "Train loss: 0.9659938  Val loss: 1.032042  Train acc: 0.6512152777777778  Val acc: 0.6236979166666666\n"
     ]
    },
    {
     "name": "stderr",
     "output_type": "stream",
     "text": [
      "[120, 01:45:25, 36.93s/i]  "
     ]
    },
    {
     "name": "stdout",
     "output_type": "stream",
     "text": [
      "Train loss: 0.85270876  Val loss: 0.9388882  Train acc: 0.6934027777777778  Val acc: 0.6653645833333334\n"
     ]
    },
    {
     "name": "stderr",
     "output_type": "stream",
     "text": [
      "[140, 02:03:59, 37.49s/i]  "
     ]
    },
    {
     "name": "stdout",
     "output_type": "stream",
     "text": [
      "Train loss: 0.7552204  Val loss: 0.8573478  Train acc: 0.7305555555555555  Val acc: 0.7018229166666666\n"
     ]
    },
    {
     "name": "stderr",
     "output_type": "stream",
     "text": [
      "[160, 02:22:25, 36.25s/i]  "
     ]
    },
    {
     "name": "stdout",
     "output_type": "stream",
     "text": [
      "Train loss: 0.6771482  Val loss: 0.79719555  Train acc: 0.7628472222222222  Val acc: 0.7161458333333334\n"
     ]
    },
    {
     "name": "stderr",
     "output_type": "stream",
     "text": [
      "[180, 02:41:09, 37.15s/i]  "
     ]
    },
    {
     "name": "stdout",
     "output_type": "stream",
     "text": [
      "Train loss: 0.61321825  Val loss: 0.7652385  Train acc: 0.7838541666666666  Val acc: 0.734375\n"
     ]
    },
    {
     "name": "stderr",
     "output_type": "stream",
     "text": [
      "[200, 02:59:46, 36.09s/i]  "
     ]
    },
    {
     "name": "stdout",
     "output_type": "stream",
     "text": [
      "Train loss: 0.56198937  Val loss: 0.7309541  Train acc: 0.8003472222222222  Val acc: 0.73828125\n"
     ]
    },
    {
     "name": "stderr",
     "output_type": "stream",
     "text": [
      "[220, 03:18:30, 37.98s/i]  "
     ]
    },
    {
     "name": "stdout",
     "output_type": "stream",
     "text": [
      "Train loss: 0.51624054  Val loss: 0.7078626  Train acc: 0.8196180555555556  Val acc: 0.75\n"
     ]
    },
    {
     "name": "stderr",
     "output_type": "stream",
     "text": [
      "[240, 03:36:59, 36.51s/i]  "
     ]
    },
    {
     "name": "stdout",
     "output_type": "stream",
     "text": [
      "Train loss: 0.46591988  Val loss: 0.6660583  Train acc: 0.8368055555555556  Val acc: 0.7604166666666666\n"
     ]
    },
    {
     "name": "stderr",
     "output_type": "stream",
     "text": [
      "[260, 03:55:41, 35.60s/i]  "
     ]
    },
    {
     "name": "stdout",
     "output_type": "stream",
     "text": [
      "Train loss: 0.43026748  Val loss: 0.64623845  Train acc: 0.8508680555555556  Val acc: 0.765625\n"
     ]
    },
    {
     "name": "stderr",
     "output_type": "stream",
     "text": [
      "[280, 04:14:22, 36.11s/i]  "
     ]
    },
    {
     "name": "stdout",
     "output_type": "stream",
     "text": [
      "Train loss: 0.39117306  Val loss: 0.620133  Train acc: 0.86875  Val acc: 0.7682291666666666\n"
     ]
    },
    {
     "name": "stderr",
     "output_type": "stream",
     "text": [
      "[300, 04:32:56, 36.85s/i]  "
     ]
    },
    {
     "name": "stdout",
     "output_type": "stream",
     "text": [
      "Train loss: 0.36097935  Val loss: 0.6093371  Train acc: 0.8772569444444445  Val acc: 0.7734375\n"
     ]
    },
    {
     "name": "stderr",
     "output_type": "stream",
     "text": [
      "[320, 04:51:34, 36.28s/i]  "
     ]
    },
    {
     "name": "stdout",
     "output_type": "stream",
     "text": [
      "Train loss: 0.33249077  Val loss: 0.5872967  Train acc: 0.8911458333333333  Val acc: 0.7734375\n"
     ]
    },
    {
     "name": "stderr",
     "output_type": "stream",
     "text": [
      "[340, 05:10:02, 35.58s/i]  "
     ]
    },
    {
     "name": "stdout",
     "output_type": "stream",
     "text": [
      "Train loss: 0.30710304  Val loss: 0.59066695  Train acc: 0.8986111111111111  Val acc: 0.7825520833333334\n"
     ]
    },
    {
     "name": "stderr",
     "output_type": "stream",
     "text": [
      "[360, 05:28:28, 36.11s/i]  "
     ]
    },
    {
     "name": "stdout",
     "output_type": "stream",
     "text": [
      "Train loss: 0.2857373  Val loss: 0.579203  Train acc: 0.9055555555555556  Val acc: 0.7825520833333334\n"
     ]
    },
    {
     "name": "stderr",
     "output_type": "stream",
     "text": [
      "[380, 05:46:40, 40.98s/i]  "
     ]
    },
    {
     "name": "stdout",
     "output_type": "stream",
     "text": [
      "Train loss: 0.26337293  Val loss: 0.56644773  Train acc: 0.915625  Val acc: 0.8020833333333334\n"
     ]
    },
    {
     "name": "stderr",
     "output_type": "stream",
     "text": [
      "[400, 06:05:23, 36.36s/i]  "
     ]
    },
    {
     "name": "stdout",
     "output_type": "stream",
     "text": [
      "Train loss: 0.24012999  Val loss: 0.5538404  Train acc: 0.9258680555555555  Val acc: 0.8033854166666666\n"
     ]
    },
    {
     "name": "stderr",
     "output_type": "stream",
     "text": [
      "[420, 06:24:05, 35.90s/i]  "
     ]
    },
    {
     "name": "stdout",
     "output_type": "stream",
     "text": [
      "Train loss: 0.2225433  Val loss: 0.5501272  Train acc: 0.9293402777777777  Val acc: 0.8072916666666666\n"
     ]
    },
    {
     "name": "stderr",
     "output_type": "stream",
     "text": [
      "[440, 06:42:33, 36.28s/i]  "
     ]
    },
    {
     "name": "stdout",
     "output_type": "stream",
     "text": [
      "Train loss: 0.20417716  Val loss: 0.5394837  Train acc: 0.9345486111111111  Val acc: 0.80078125\n"
     ]
    },
    {
     "name": "stderr",
     "output_type": "stream",
     "text": [
      "[460, 07:00:55, 36.38s/i]  "
     ]
    },
    {
     "name": "stdout",
     "output_type": "stream",
     "text": [
      "Train loss: 0.18476886  Val loss: 0.5202576  Train acc: 0.9465277777777777  Val acc: 0.8046875\n"
     ]
    },
    {
     "name": "stderr",
     "output_type": "stream",
     "text": [
      "[480, 07:19:34, 37.29s/i]  "
     ]
    },
    {
     "name": "stdout",
     "output_type": "stream",
     "text": [
      "Train loss: 0.16854607  Val loss: 0.5550811  Train acc: 0.9508680555555555  Val acc: 0.8111979166666666\n"
     ]
    },
    {
     "name": "stderr",
     "output_type": "stream",
     "text": [
      "[500, 07:38:23, 35.81s/i]  "
     ]
    },
    {
     "name": "stdout",
     "output_type": "stream",
     "text": [
      "Train loss: 0.15340315  Val loss: 0.52074146  Train acc: 0.9579861111111111  Val acc: 0.8138020833333334\n"
     ]
    },
    {
     "name": "stderr",
     "output_type": "stream",
     "text": [
      "[520, 07:56:53, 36.31s/i]  "
     ]
    },
    {
     "name": "stdout",
     "output_type": "stream",
     "text": [
      "Train loss: 0.14244443  Val loss: 0.51104695  Train acc: 0.9598958333333333  Val acc: 0.8138020833333334\n"
     ]
    },
    {
     "name": "stderr",
     "output_type": "stream",
     "text": [
      "[540, 08:15:26, 36.50s/i]  "
     ]
    },
    {
     "name": "stdout",
     "output_type": "stream",
     "text": [
      "Train loss: 0.13190214  Val loss: 0.5324927  Train acc: 0.9654513888888889  Val acc: 0.8111979166666666\n"
     ]
    },
    {
     "name": "stderr",
     "output_type": "stream",
     "text": [
      "[560, 08:34:00, 37.05s/i]  "
     ]
    },
    {
     "name": "stdout",
     "output_type": "stream",
     "text": [
      "Train loss: 0.11878823  Val loss: 0.5168364  Train acc: 0.9701388888888889  Val acc: 0.8151041666666666\n"
     ]
    },
    {
     "name": "stderr",
     "output_type": "stream",
     "text": [
      "[580, 08:52:55, 37.15s/i]  "
     ]
    },
    {
     "name": "stdout",
     "output_type": "stream",
     "text": [
      "Train loss: 0.10827076  Val loss: 0.501763  Train acc: 0.9743055555555555  Val acc: 0.8125\n"
     ]
    },
    {
     "name": "stderr",
     "output_type": "stream",
     "text": [
      "[600, 09:11:39, 38.22s/i]  "
     ]
    },
    {
     "name": "stdout",
     "output_type": "stream",
     "text": [
      "Train loss: 0.099813916  Val loss: 0.50971454  Train acc: 0.9755208333333333  Val acc: 0.82421875\n"
     ]
    },
    {
     "name": "stderr",
     "output_type": "stream",
     "text": [
      "[620, 09:30:16, 36.99s/i]  "
     ]
    },
    {
     "name": "stdout",
     "output_type": "stream",
     "text": [
      "Train loss: 0.09807769  Val loss: 0.50881755  Train acc: 0.9755208333333333  Val acc: 0.8294270833333334\n"
     ]
    },
    {
     "name": "stderr",
     "output_type": "stream",
     "text": [
      "[640, 09:48:51, 35.96s/i]  "
     ]
    },
    {
     "name": "stdout",
     "output_type": "stream",
     "text": [
      "Train loss: 0.092437215  Val loss: 0.5285538  Train acc: 0.9765625  Val acc: 0.8229166666666666\n"
     ]
    },
    {
     "name": "stderr",
     "output_type": "stream",
     "text": [
      "[660, 10:07:11, 36.27s/i]  "
     ]
    },
    {
     "name": "stdout",
     "output_type": "stream",
     "text": [
      "Train loss: 0.076045424  Val loss: 0.51205146  Train acc: 0.9835069444444444  Val acc: 0.8346354166666666\n"
     ]
    },
    {
     "name": "stderr",
     "output_type": "stream",
     "text": [
      "[680, 10:26:05, 36.56s/i]  "
     ]
    },
    {
     "name": "stdout",
     "output_type": "stream",
     "text": [
      "Train loss: 0.071642004  Val loss: 0.502106  Train acc: 0.9862847222222222  Val acc: 0.8307291666666666\n"
     ]
    },
    {
     "name": "stderr",
     "output_type": "stream",
     "text": [
      "[700, 10:44:26, 38.91s/i]  "
     ]
    },
    {
     "name": "stdout",
     "output_type": "stream",
     "text": [
      "Train loss: 0.064566106  Val loss: 0.49230686  Train acc: 0.9888888888888889  Val acc: 0.828125\n"
     ]
    },
    {
     "name": "stderr",
     "output_type": "stream",
     "text": [
      "[720, 11:03:02, 39.63s/i]  "
     ]
    },
    {
     "name": "stdout",
     "output_type": "stream",
     "text": [
      "Train loss: 0.060651172  Val loss: 0.51231784  Train acc: 0.9892361111111111  Val acc: 0.8268229166666666\n"
     ]
    },
    {
     "name": "stderr",
     "output_type": "stream",
     "text": [
      "[740, 11:21:49, 36.34s/i]  "
     ]
    },
    {
     "name": "stdout",
     "output_type": "stream",
     "text": [
      "Train loss: 0.05364814  Val loss: 0.5161682  Train acc: 0.9918402777777777  Val acc: 0.8385416666666666\n"
     ]
    },
    {
     "name": "stderr",
     "output_type": "stream",
     "text": [
      "[760, 11:40:48, 44.18s/i]  "
     ]
    },
    {
     "name": "stdout",
     "output_type": "stream",
     "text": [
      "Train loss: 0.051825356  Val loss: 0.53242886  Train acc: 0.9904513888888888  Val acc: 0.8268229166666666\n"
     ]
    },
    {
     "name": "stderr",
     "output_type": "stream",
     "text": [
      "[780, 11:59:06, 36.35s/i]  "
     ]
    },
    {
     "name": "stdout",
     "output_type": "stream",
     "text": [
      "Train loss: 0.045146428  Val loss: 0.5094925  Train acc: 0.9944444444444445  Val acc: 0.84765625\n"
     ]
    },
    {
     "name": "stderr",
     "output_type": "stream",
     "text": [
      "[800, 12:17:40, 36.86s/i]  "
     ]
    },
    {
     "name": "stdout",
     "output_type": "stream",
     "text": [
      "Train loss: 0.041551113  Val loss: 0.5262027  Train acc: 0.9951388888888889  Val acc: 0.8385416666666666\n"
     ]
    },
    {
     "name": "stderr",
     "output_type": "stream",
     "text": [
      "[820, 12:36:25, 36.44s/i]  "
     ]
    },
    {
     "name": "stdout",
     "output_type": "stream",
     "text": [
      "Train loss: 0.03934339  Val loss: 0.5153776  Train acc: 0.9963541666666667  Val acc: 0.828125\n"
     ]
    },
    {
     "name": "stderr",
     "output_type": "stream",
     "text": [
      "[840, 12:55:07, 36.23s/i]  "
     ]
    },
    {
     "name": "stdout",
     "output_type": "stream",
     "text": [
      "Train loss: 0.034007743  Val loss: 0.48454672  Train acc: 0.996875  Val acc: 0.8424479166666666\n"
     ]
    },
    {
     "name": "stderr",
     "output_type": "stream",
     "text": [
      "[860, 13:13:40, 35.47s/i]  "
     ]
    },
    {
     "name": "stdout",
     "output_type": "stream",
     "text": [
      "Train loss: 0.031852014  Val loss: 0.49876025  Train acc: 0.9970486111111111  Val acc: 0.8450520833333334\n"
     ]
    },
    {
     "name": "stderr",
     "output_type": "stream",
     "text": [
      "[880, 13:32:06, 35.44s/i]  "
     ]
    },
    {
     "name": "stdout",
     "output_type": "stream",
     "text": [
      "Train loss: 0.02926367  Val loss: 0.51580393  Train acc: 0.9967013888888889  Val acc: 0.8385416666666666\n"
     ]
    },
    {
     "name": "stderr",
     "output_type": "stream",
     "text": [
      "[900, 13:50:26, 36.60s/i]  "
     ]
    },
    {
     "name": "stdout",
     "output_type": "stream",
     "text": [
      "Train loss: 0.027662091  Val loss: 0.50412726  Train acc: 0.9972222222222222  Val acc: 0.8346354166666666\n"
     ]
    },
    {
     "name": "stderr",
     "output_type": "stream",
     "text": [
      "[920, 14:09:07, 35.87s/i]  "
     ]
    },
    {
     "name": "stdout",
     "output_type": "stream",
     "text": [
      "Train loss: 0.024855038  Val loss: 0.52192414  Train acc: 0.9980902777777778  Val acc: 0.84765625\n"
     ]
    },
    {
     "name": "stderr",
     "output_type": "stream",
     "text": [
      "[940, 14:27:36, 35.69s/i]  "
     ]
    },
    {
     "name": "stdout",
     "output_type": "stream",
     "text": [
      "Train loss: 0.02274852  Val loss: 0.5203736  Train acc: 0.9987847222222223  Val acc: 0.8424479166666666\n"
     ]
    },
    {
     "name": "stderr",
     "output_type": "stream",
     "text": [
      "[960, 14:46:09, 39.80s/i]  "
     ]
    },
    {
     "name": "stdout",
     "output_type": "stream",
     "text": [
      "Train loss: 0.021129232  Val loss: 0.5132348  Train acc: 0.9987847222222223  Val acc: 0.8450520833333334\n"
     ]
    },
    {
     "name": "stderr",
     "output_type": "stream",
     "text": [
      "[980, 15:04:51, 35.98s/i]  "
     ]
    },
    {
     "name": "stdout",
     "output_type": "stream",
     "text": [
      "Train loss: 0.019637186  Val loss: 0.49189633  Train acc: 0.9989583333333333  Val acc: 0.8450520833333334\n"
     ]
    },
    {
     "name": "stderr",
     "output_type": "stream",
     "text": [
      "[1000, 15:23:24, 37.22s/i] "
     ]
    },
    {
     "name": "stdout",
     "output_type": "stream",
     "text": [
      "Train loss: 0.018936904  Val loss: 0.51046  Train acc: 0.9993055555555556  Val acc: 0.8541666666666666\n",
      "Training ended successfully, saving the results\n",
      "Test loss: 1.5125751  Test acc: 0.65234375\n"
     ]
    }
   ],
   "source": [
    "loss, acc = train(\"b\", \"PACS\", \"photo\", model; num_iter=num_iter, \n",
    "                                                 check_freq=check_freq, \n",
    "                                                 batchsize=batchsize, \n",
    "                                                 data_path=data_path, \n",
    "                                                 atype=atype);"
   ]
  },
  {
   "cell_type": "code",
   "execution_count": 7,
   "id": "9955474a",
   "metadata": {},
   "outputs": [
    {
     "name": "stdout",
     "output_type": "stream",
     "text": [
      "(11, 11, 3, 64)\n",
      "(1, 1, 64, 1)\n",
      "(5, 5, 64, 192)\n",
      "(1, 1, 192, 1)\n",
      "(3, 3, 192, 384)\n",
      "(1, 1, 384, 1)\n",
      "(3, 3, 384, 256)\n",
      "(1, 1, 256, 1)\n",
      "(3, 3, 256, 256)\n",
      "(1, 1, 256, 1)\n",
      "(4096, 9216)\n",
      "(4096,)\n",
      "(4096, 4096)\n",
      "(4096,)\n",
      "(7, 4096)\n",
      "(7,)\n"
     ]
    }
   ],
   "source": [
    "model = generate_alexnet_model(; pretrained = true);\n",
    "for param in params(model)\n",
    "    param.opt = Adam(; lr=1e-5)\n",
    "    println(size(param))\n",
    "end\n"
   ]
  },
  {
   "cell_type": "code",
   "execution_count": 8,
   "id": "995d624b",
   "metadata": {},
   "outputs": [
    {
     "name": "stdout",
     "output_type": "stream",
     "text": [
      "Datasets are loaded\n"
     ]
    },
    {
     "name": "stderr",
     "output_type": "stream",
     "text": [
      "\r",
      "[1, 00:01, 1.94i/s] "
     ]
    },
    {
     "name": "stdout",
     "output_type": "stream",
     "text": [
      "First batch is trained successfully\n"
     ]
    },
    {
     "name": "stderr",
     "output_type": "stream",
     "text": [
      "[20, 14:45, 45.14s/i] "
     ]
    },
    {
     "name": "stdout",
     "output_type": "stream",
     "text": [
      "Train loss: 2.031459  Val loss: 2.0373447  Train acc: 0.22378472222222223  Val acc: 0.21614583333333334\n"
     ]
    },
    {
     "name": "stderr",
     "output_type": "stream",
     "text": [
      "[40, 36:30, 44.36s/i]  "
     ]
    },
    {
     "name": "stdout",
     "output_type": "stream",
     "text": [
      "Train loss: 1.7415799  Val loss: 1.7448311  Train acc: 0.32222222222222224  Val acc: 0.3216145833333333\n"
     ]
    },
    {
     "name": "stderr",
     "output_type": "stream",
     "text": [
      "[60, 58:14, 46.90s/i]  "
     ]
    },
    {
     "name": "stdout",
     "output_type": "stream",
     "text": [
      "Train loss: 1.5744001  Val loss: 1.5738167  Train acc: 0.396875  Val acc: 0.3958333333333333\n"
     ]
    },
    {
     "name": "stderr",
     "output_type": "stream",
     "text": [
      "[80, 01:19:37, 43.32s/i]  "
     ]
    },
    {
     "name": "stdout",
     "output_type": "stream",
     "text": [
      "Train loss: 1.4468952  Val loss: 1.430152  Train acc: 0.4486111111111111  Val acc: 0.4583333333333333\n"
     ]
    },
    {
     "name": "stderr",
     "output_type": "stream",
     "text": [
      "[100, 01:41:26, 48.56s/i] "
     ]
    },
    {
     "name": "stdout",
     "output_type": "stream",
     "text": [
      "Train loss: 1.3353683  Val loss: 1.3246176  Train acc: 0.49444444444444446  Val acc: 0.5013020833333334\n"
     ]
    },
    {
     "name": "stderr",
     "output_type": "stream",
     "text": [
      "[120, 02:02:45, 42.92s/i]  "
     ]
    },
    {
     "name": "stdout",
     "output_type": "stream",
     "text": [
      "Train loss: 1.2392563  Val loss: 1.2108686  Train acc: 0.5395833333333333  Val acc: 0.5520833333333334\n"
     ]
    },
    {
     "name": "stderr",
     "output_type": "stream",
     "text": [
      "[140, 02:24:44, 46.25s/i]  "
     ]
    },
    {
     "name": "stdout",
     "output_type": "stream",
     "text": [
      "Train loss: 1.1529175  Val loss: 1.1079891  Train acc: 0.5755208333333334  Val acc: 0.59765625\n"
     ]
    },
    {
     "name": "stderr",
     "output_type": "stream",
     "text": [
      "[160, 02:46:21, 46.82s/i]  "
     ]
    },
    {
     "name": "stdout",
     "output_type": "stream",
     "text": [
      "Train loss: 1.0819458  Val loss: 1.0284618  Train acc: 0.6027777777777777  Val acc: 0.62109375\n"
     ]
    },
    {
     "name": "stderr",
     "output_type": "stream",
     "text": [
      "[180, 03:07:50, 43.97s/i]  "
     ]
    },
    {
     "name": "stdout",
     "output_type": "stream",
     "text": [
      "Train loss: 1.0165516  Val loss: 0.9538046  Train acc: 0.6203125  Val acc: 0.6484375\n"
     ]
    },
    {
     "name": "stderr",
     "output_type": "stream",
     "text": [
      "[200, 03:29:34, 46.43s/i]  "
     ]
    },
    {
     "name": "stdout",
     "output_type": "stream",
     "text": [
      "Train loss: 0.97323525  Val loss: 0.8974693  Train acc: 0.6442708333333333  Val acc: 0.66796875\n"
     ]
    },
    {
     "name": "stderr",
     "output_type": "stream",
     "text": [
      "[220, 03:51:13, 44.86s/i]  "
     ]
    },
    {
     "name": "stdout",
     "output_type": "stream",
     "text": [
      "Train loss: 0.9332549  Val loss: 0.8664124  Train acc: 0.6633680555555556  Val acc: 0.67578125\n"
     ]
    },
    {
     "name": "stderr",
     "output_type": "stream",
     "text": [
      "[240, 04:12:42, 46.27s/i]  "
     ]
    },
    {
     "name": "stdout",
     "output_type": "stream",
     "text": [
      "Train loss: 0.897069  Val loss: 0.8289206  Train acc: 0.6751736111111111  Val acc: 0.7018229166666666\n"
     ]
    },
    {
     "name": "stderr",
     "output_type": "stream",
     "text": [
      "[260, 04:34:01, 47.36s/i]  "
     ]
    },
    {
     "name": "stdout",
     "output_type": "stream",
     "text": [
      "Train loss: 0.86965716  Val loss: 0.8003079  Train acc: 0.6866319444444444  Val acc: 0.7096354166666666\n"
     ]
    },
    {
     "name": "stderr",
     "output_type": "stream",
     "text": [
      "[280, 04:56:03, 46.67s/i]  "
     ]
    },
    {
     "name": "stdout",
     "output_type": "stream",
     "text": [
      "Train loss: 0.85022473  Val loss: 0.77011454  Train acc: 0.696875  Val acc: 0.7213541666666666\n"
     ]
    },
    {
     "name": "stderr",
     "output_type": "stream",
     "text": [
      "[300, 05:17:33, 43.08s/i]  "
     ]
    },
    {
     "name": "stdout",
     "output_type": "stream",
     "text": [
      "Train loss: 0.8346781  Val loss: 0.7564896  Train acc: 0.7050347222222222  Val acc: 0.7135416666666666\n"
     ]
    },
    {
     "name": "stderr",
     "output_type": "stream",
     "text": [
      "[320, 05:38:38, 43.26s/i]  "
     ]
    },
    {
     "name": "stdout",
     "output_type": "stream",
     "text": [
      "Train loss: 0.8230523  Val loss: 0.729748  Train acc: 0.7131944444444445  Val acc: 0.7356770833333334\n"
     ]
    },
    {
     "name": "stderr",
     "output_type": "stream",
     "text": [
      "[340, 06:00:18, 43.89s/i]  "
     ]
    },
    {
     "name": "stdout",
     "output_type": "stream",
     "text": [
      "Train loss: 0.81080335  Val loss: 0.72863495  Train acc: 0.7185763888888889  Val acc: 0.7395833333333334\n"
     ]
    },
    {
     "name": "stderr",
     "output_type": "stream",
     "text": [
      "[360, 06:22:02, 44.24s/i]  "
     ]
    },
    {
     "name": "stdout",
     "output_type": "stream",
     "text": [
      "Train loss: 0.8027732  Val loss: 0.6982343  Train acc: 0.721875  Val acc: 0.7565104166666666\n"
     ]
    },
    {
     "name": "stderr",
     "output_type": "stream",
     "text": [
      "[380, 06:43:25, 43.63s/i]  "
     ]
    },
    {
     "name": "stdout",
     "output_type": "stream",
     "text": [
      "Train loss: 0.79722524  Val loss: 0.69814384  Train acc: 0.7274305555555556  Val acc: 0.7526041666666666\n"
     ]
    },
    {
     "name": "stderr",
     "output_type": "stream",
     "text": [
      "[400, 07:05:27, 48.41s/i]  "
     ]
    },
    {
     "name": "stdout",
     "output_type": "stream",
     "text": [
      "Train loss: 0.7941777  Val loss: 0.7009713  Train acc: 0.7328125  Val acc: 0.7604166666666666\n"
     ]
    },
    {
     "name": "stderr",
     "output_type": "stream",
     "text": [
      "[420, 07:28:37, 49.62s/i]  "
     ]
    },
    {
     "name": "stdout",
     "output_type": "stream",
     "text": [
      "Train loss: 0.79477525  Val loss: 0.6930174  Train acc: 0.7378472222222222  Val acc: 0.7643229166666666\n"
     ]
    },
    {
     "name": "stderr",
     "output_type": "stream",
     "text": [
      "[440, 07:52:53, 47.75s/i]  "
     ]
    },
    {
     "name": "stdout",
     "output_type": "stream",
     "text": [
      "Train loss: 0.78542453  Val loss: 0.6802764  Train acc: 0.7380208333333333  Val acc: 0.7682291666666666\n"
     ]
    },
    {
     "name": "stderr",
     "output_type": "stream",
     "text": [
      "[460, 08:15:52, 47.58s/i]  "
     ]
    },
    {
     "name": "stdout",
     "output_type": "stream",
     "text": [
      "Train loss: 0.7905906  Val loss: 0.68547523  Train acc: 0.7430555555555556  Val acc: 0.7721354166666666\n"
     ]
    },
    {
     "name": "stderr",
     "output_type": "stream",
     "text": [
      "[480, 08:40:12, 48.70s/i]  "
     ]
    },
    {
     "name": "stdout",
     "output_type": "stream",
     "text": [
      "Train loss: 0.7871459  Val loss: 0.68218327  Train acc: 0.7444444444444445  Val acc: 0.7669270833333334\n"
     ]
    },
    {
     "name": "stderr",
     "output_type": "stream",
     "text": [
      "[500, 09:02:49, 55.59s/i]  "
     ]
    },
    {
     "name": "stdout",
     "output_type": "stream",
     "text": [
      "Train loss: 0.7984008  Val loss: 0.66029084  Train acc: 0.7439236111111112  Val acc: 0.7734375\n"
     ]
    },
    {
     "name": "stderr",
     "output_type": "stream",
     "text": [
      "[520, 09:25:54, 48.12s/i]  "
     ]
    },
    {
     "name": "stdout",
     "output_type": "stream",
     "text": [
      "Train loss: 0.79383856  Val loss: 0.6868979  Train acc: 0.7472222222222222  Val acc: 0.7682291666666666\n"
     ]
    },
    {
     "name": "stderr",
     "output_type": "stream",
     "text": [
      "[540, 09:50:12, 56.24s/i]  "
     ]
    },
    {
     "name": "stdout",
     "output_type": "stream",
     "text": [
      "Train loss: 0.7984399  Val loss: 0.693735  Train acc: 0.7520833333333333  Val acc: 0.7825520833333334\n"
     ]
    },
    {
     "name": "stderr",
     "output_type": "stream",
     "text": [
      "[560, 10:13:06, 45.91s/i]  "
     ]
    },
    {
     "name": "stdout",
     "output_type": "stream",
     "text": [
      "Train loss: 0.80336994  Val loss: 0.6678444  Train acc: 0.7520833333333333  Val acc: 0.77734375\n"
     ]
    },
    {
     "name": "stderr",
     "output_type": "stream",
     "text": [
      "[580, 10:37:08, 54.48s/i]  "
     ]
    },
    {
     "name": "stdout",
     "output_type": "stream",
     "text": [
      "Train loss: 0.81140685  Val loss: 0.6788236  Train acc: 0.7524305555555556  Val acc: 0.78125\n"
     ]
    },
    {
     "name": "stderr",
     "output_type": "stream",
     "text": [
      "[600, 10:59:43, 46.25s/i]  "
     ]
    },
    {
     "name": "stdout",
     "output_type": "stream",
     "text": [
      "Train loss: 0.7997152  Val loss: 0.6911441  Train acc: 0.7567708333333333  Val acc: 0.7760416666666666\n"
     ]
    },
    {
     "name": "stderr",
     "output_type": "stream",
     "text": [
      "[620, 11:21:58, 43.35s/i]  "
     ]
    },
    {
     "name": "stdout",
     "output_type": "stream",
     "text": [
      "Train loss: 0.80218965  Val loss: 0.68799937  Train acc: 0.75625  Val acc: 0.7747395833333334\n"
     ]
    },
    {
     "name": "stderr",
     "output_type": "stream",
     "text": [
      "[640, 11:44:09, 48.43s/i]  "
     ]
    },
    {
     "name": "stdout",
     "output_type": "stream",
     "text": [
      "Train loss: 0.81173486  Val loss: 0.69354725  Train acc: 0.7578125  Val acc: 0.7708333333333334\n"
     ]
    },
    {
     "name": "stderr",
     "output_type": "stream",
     "text": [
      "[660, 12:06:15, 48.38s/i]  "
     ]
    },
    {
     "name": "stdout",
     "output_type": "stream",
     "text": [
      "Train loss: 0.8087753  Val loss: 0.68271655  Train acc: 0.7598958333333333  Val acc: 0.7838541666666666\n"
     ]
    },
    {
     "name": "stderr",
     "output_type": "stream",
     "text": [
      "[680, 12:28:12, 45.64s/i]  "
     ]
    },
    {
     "name": "stdout",
     "output_type": "stream",
     "text": [
      "Train loss: 0.80216277  Val loss: 0.6865966  Train acc: 0.7642361111111111  Val acc: 0.78125\n"
     ]
    },
    {
     "name": "stderr",
     "output_type": "stream",
     "text": [
      "[700, 12:50:04, 43.90s/i]  "
     ]
    },
    {
     "name": "stdout",
     "output_type": "stream",
     "text": [
      "Train loss: 0.8119195  Val loss: 0.68121433  Train acc: 0.7651041666666667  Val acc: 0.7838541666666666\n"
     ]
    },
    {
     "name": "stderr",
     "output_type": "stream",
     "text": [
      "[720, 13:12:20, 49.74s/i]  "
     ]
    },
    {
     "name": "stdout",
     "output_type": "stream",
     "text": [
      "Train loss: 0.82360435  Val loss: 0.68923753  Train acc: 0.7623263888888889  Val acc: 0.7721354166666666\n"
     ]
    },
    {
     "name": "stderr",
     "output_type": "stream",
     "text": [
      "[740, 13:34:21, 47.42s/i]  "
     ]
    },
    {
     "name": "stdout",
     "output_type": "stream",
     "text": [
      "Train loss: 0.8294766  Val loss: 0.7038171  Train acc: 0.7657986111111111  Val acc: 0.7864583333333334\n"
     ]
    },
    {
     "name": "stderr",
     "output_type": "stream",
     "text": [
      "[760, 13:56:38, 50.70s/i]  "
     ]
    },
    {
     "name": "stdout",
     "output_type": "stream",
     "text": [
      "Train loss: 0.82219976  Val loss: 0.6853478  Train acc: 0.7668402777777777  Val acc: 0.7864583333333334\n"
     ]
    },
    {
     "name": "stderr",
     "output_type": "stream",
     "text": [
      "[780, 14:19:08, 48.13s/i]  "
     ]
    },
    {
     "name": "stdout",
     "output_type": "stream",
     "text": [
      "Train loss: 0.8277329  Val loss: 0.7136692  Train acc: 0.7685763888888889  Val acc: 0.7955729166666666\n"
     ]
    },
    {
     "name": "stderr",
     "output_type": "stream",
     "text": [
      "[800, 14:41:25, 48.68s/i]  "
     ]
    },
    {
     "name": "stdout",
     "output_type": "stream",
     "text": [
      "Train loss: 0.8359601  Val loss: 0.68515813  Train acc: 0.7696180555555555  Val acc: 0.7721354166666666\n"
     ]
    },
    {
     "name": "stderr",
     "output_type": "stream",
     "text": [
      "[820, 15:03:35, 47.16s/i]  "
     ]
    },
    {
     "name": "stdout",
     "output_type": "stream",
     "text": [
      "Train loss: 0.84174377  Val loss: 0.7148069  Train acc: 0.7697916666666667  Val acc: 0.7903645833333334\n"
     ]
    },
    {
     "name": "stderr",
     "output_type": "stream",
     "text": [
      "[840, 15:25:45, 50.56s/i]  "
     ]
    },
    {
     "name": "stdout",
     "output_type": "stream",
     "text": [
      "Train loss: 0.8356792  Val loss: 0.69278073  Train acc: 0.7722222222222223  Val acc: 0.7799479166666666\n"
     ]
    },
    {
     "name": "stderr",
     "output_type": "stream",
     "text": [
      "[860, 15:47:31, 46.32s/i]  "
     ]
    },
    {
     "name": "stdout",
     "output_type": "stream",
     "text": [
      "Train loss: 0.8543291  Val loss: 0.7073717  Train acc: 0.7713541666666667  Val acc: 0.7825520833333334\n"
     ]
    },
    {
     "name": "stderr",
     "output_type": "stream",
     "text": [
      "[880, 16:10:11, 46.13s/i]  "
     ]
    },
    {
     "name": "stdout",
     "output_type": "stream",
     "text": [
      "Train loss: 0.85249525  Val loss: 0.7121217  Train acc: 0.7756944444444445  Val acc: 0.7825520833333334\n"
     ]
    },
    {
     "name": "stderr",
     "output_type": "stream",
     "text": [
      "[900, 16:32:23, 48.60s/i]  "
     ]
    },
    {
     "name": "stdout",
     "output_type": "stream",
     "text": [
      "Train loss: 0.85204226  Val loss: 0.74911743  Train acc: 0.7760416666666666  Val acc: 0.7877604166666666\n"
     ]
    },
    {
     "name": "stderr",
     "output_type": "stream",
     "text": [
      "[920, 16:54:58, 50.90s/i]  "
     ]
    },
    {
     "name": "stdout",
     "output_type": "stream",
     "text": [
      "Train loss: 0.8583385  Val loss: 0.70964414  Train acc: 0.7763888888888889  Val acc: 0.7838541666666666\n"
     ]
    },
    {
     "name": "stderr",
     "output_type": "stream",
     "text": [
      "[940, 17:17:06, 45.48s/i]  "
     ]
    },
    {
     "name": "stdout",
     "output_type": "stream",
     "text": [
      "Train loss: 0.84752053  Val loss: 0.70517075  Train acc: 0.7767361111111111  Val acc: 0.7890625\n"
     ]
    },
    {
     "name": "stderr",
     "output_type": "stream",
     "text": [
      "[960, 17:39:09, 47.06s/i]  "
     ]
    },
    {
     "name": "stdout",
     "output_type": "stream",
     "text": [
      "Train loss: 0.8700703  Val loss: 0.73871934  Train acc: 0.7755208333333333  Val acc: 0.7903645833333334\n"
     ]
    },
    {
     "name": "stderr",
     "output_type": "stream",
     "text": [
      "[980, 18:01:20, 47.06s/i]  "
     ]
    },
    {
     "name": "stdout",
     "output_type": "stream",
     "text": [
      "Train loss: 0.8640619  Val loss: 0.7212856  Train acc: 0.7769097222222222  Val acc: 0.7903645833333334\n"
     ]
    },
    {
     "name": "stderr",
     "output_type": "stream",
     "text": [
      "[1000, 18:23:32, 45.41s/i] "
     ]
    },
    {
     "name": "stdout",
     "output_type": "stream",
     "text": [
      "Train loss: 0.86706257  Val loss: 0.7168604  Train acc: 0.7748263888888889  Val acc: 0.8059895833333334\n",
      "Training ended successfully, saving the results\n",
      "Test loss: 2.133886  Test acc: 0.5625\n"
     ]
    }
   ],
   "source": [
    "loss, acc = train(\"gs\", \"PACS\", \"photo\", model; num_iter=num_iter, \n",
    "                                                  check_freq=check_freq, \n",
    "                                                  batchsize=batchsize, \n",
    "                                                  data_path=data_path, \n",
    "                                                  atype=atype);"
   ]
  },
  {
   "cell_type": "code",
   "execution_count": 4,
   "id": "ed18a081",
   "metadata": {},
   "outputs": [],
   "source": [
    "using Plots"
   ]
  },
  {
   "cell_type": "code",
   "execution_count": 9,
   "id": "44114f6d",
   "metadata": {},
   "outputs": [],
   "source": [
    "best_model_b = load(\"/Users/ufukaltun/Documents/koç/dersler/ku deep learning/project_final/results_b_target_photo.jld2\")[\"results\"];"
   ]
  },
  {
   "cell_type": "code",
   "execution_count": 10,
   "id": "7ee4bd66",
   "metadata": {},
   "outputs": [],
   "source": [
    "best_model_b = reshape(collect(Float32,flatten(best_model_b)),(4,:));"
   ]
  },
  {
   "cell_type": "code",
   "execution_count": 11,
   "id": "270d23c8",
   "metadata": {},
   "outputs": [
    {
     "data": {
      "image/svg+xml": [
       "<?xml version=\"1.0\" encoding=\"utf-8\"?>\n",
       "<svg xmlns=\"http://www.w3.org/2000/svg\" xmlns:xlink=\"http://www.w3.org/1999/xlink\" width=\"600\" height=\"400\" viewBox=\"0 0 2400 1600\">\n",
       "<defs>\n",
       "  <clipPath id=\"clip420\">\n",
       "    <rect x=\"0\" y=\"0\" width=\"2400\" height=\"1600\"/>\n",
       "  </clipPath>\n",
       "</defs>\n",
       "<path clip-path=\"url(#clip420)\" d=\"\n",
       "M0 1600 L2400 1600 L2400 0 L0 0  Z\n",
       "  \" fill=\"#ffffff\" fill-rule=\"evenodd\" fill-opacity=\"1\"/>\n",
       "<defs>\n",
       "  <clipPath id=\"clip421\">\n",
       "    <rect x=\"480\" y=\"0\" width=\"1681\" height=\"1600\"/>\n",
       "  </clipPath>\n",
       "</defs>\n",
       "<path clip-path=\"url(#clip420)\" d=\"\n",
       "M219.38 1423.18 L2352.76 1423.18 L2352.76 47.2441 L219.38 47.2441  Z\n",
       "  \" fill=\"#ffffff\" fill-rule=\"evenodd\" fill-opacity=\"1\"/>\n",
       "<defs>\n",
       "  <clipPath id=\"clip422\">\n",
       "    <rect x=\"219\" y=\"47\" width=\"2134\" height=\"1377\"/>\n",
       "  </clipPath>\n",
       "</defs>\n",
       "<polyline clip-path=\"url(#clip422)\" style=\"stroke:#000000; stroke-linecap:butt; stroke-linejoin:round; stroke-width:2; stroke-opacity:0.1; fill:none\" points=\"\n",
       "  238.685,1423.18 238.685,47.2441 \n",
       "  \"/>\n",
       "<polyline clip-path=\"url(#clip422)\" style=\"stroke:#000000; stroke-linecap:butt; stroke-linejoin:round; stroke-width:2; stroke-opacity:0.1; fill:none\" points=\"\n",
       "  649.423,1423.18 649.423,47.2441 \n",
       "  \"/>\n",
       "<polyline clip-path=\"url(#clip422)\" style=\"stroke:#000000; stroke-linecap:butt; stroke-linejoin:round; stroke-width:2; stroke-opacity:0.1; fill:none\" points=\"\n",
       "  1060.16,1423.18 1060.16,47.2441 \n",
       "  \"/>\n",
       "<polyline clip-path=\"url(#clip422)\" style=\"stroke:#000000; stroke-linecap:butt; stroke-linejoin:round; stroke-width:2; stroke-opacity:0.1; fill:none\" points=\"\n",
       "  1470.9,1423.18 1470.9,47.2441 \n",
       "  \"/>\n",
       "<polyline clip-path=\"url(#clip422)\" style=\"stroke:#000000; stroke-linecap:butt; stroke-linejoin:round; stroke-width:2; stroke-opacity:0.1; fill:none\" points=\"\n",
       "  1881.64,1423.18 1881.64,47.2441 \n",
       "  \"/>\n",
       "<polyline clip-path=\"url(#clip422)\" style=\"stroke:#000000; stroke-linecap:butt; stroke-linejoin:round; stroke-width:2; stroke-opacity:0.1; fill:none\" points=\"\n",
       "  2292.38,1423.18 2292.38,47.2441 \n",
       "  \"/>\n",
       "<polyline clip-path=\"url(#clip420)\" style=\"stroke:#000000; stroke-linecap:butt; stroke-linejoin:round; stroke-width:4; stroke-opacity:1; fill:none\" points=\"\n",
       "  219.38,1423.18 2352.76,1423.18 \n",
       "  \"/>\n",
       "<polyline clip-path=\"url(#clip420)\" style=\"stroke:#000000; stroke-linecap:butt; stroke-linejoin:round; stroke-width:4; stroke-opacity:1; fill:none\" points=\"\n",
       "  238.685,1423.18 238.685,1404.28 \n",
       "  \"/>\n",
       "<polyline clip-path=\"url(#clip420)\" style=\"stroke:#000000; stroke-linecap:butt; stroke-linejoin:round; stroke-width:4; stroke-opacity:1; fill:none\" points=\"\n",
       "  649.423,1423.18 649.423,1404.28 \n",
       "  \"/>\n",
       "<polyline clip-path=\"url(#clip420)\" style=\"stroke:#000000; stroke-linecap:butt; stroke-linejoin:round; stroke-width:4; stroke-opacity:1; fill:none\" points=\"\n",
       "  1060.16,1423.18 1060.16,1404.28 \n",
       "  \"/>\n",
       "<polyline clip-path=\"url(#clip420)\" style=\"stroke:#000000; stroke-linecap:butt; stroke-linejoin:round; stroke-width:4; stroke-opacity:1; fill:none\" points=\"\n",
       "  1470.9,1423.18 1470.9,1404.28 \n",
       "  \"/>\n",
       "<polyline clip-path=\"url(#clip420)\" style=\"stroke:#000000; stroke-linecap:butt; stroke-linejoin:round; stroke-width:4; stroke-opacity:1; fill:none\" points=\"\n",
       "  1881.64,1423.18 1881.64,1404.28 \n",
       "  \"/>\n",
       "<polyline clip-path=\"url(#clip420)\" style=\"stroke:#000000; stroke-linecap:butt; stroke-linejoin:round; stroke-width:4; stroke-opacity:1; fill:none\" points=\"\n",
       "  2292.38,1423.18 2292.38,1404.28 \n",
       "  \"/>\n",
       "<path clip-path=\"url(#clip420)\" d=\"M238.685 1454.1 Q235.074 1454.1 233.245 1457.66 Q231.44 1461.2 231.44 1468.33 Q231.44 1475.44 233.245 1479.01 Q235.074 1482.55 238.685 1482.55 Q242.319 1482.55 244.125 1479.01 Q245.953 1475.44 245.953 1468.33 Q245.953 1461.2 244.125 1457.66 Q242.319 1454.1 238.685 1454.1 M238.685 1450.39 Q244.495 1450.39 247.551 1455 Q250.629 1459.58 250.629 1468.33 Q250.629 1477.06 247.551 1481.67 Q244.495 1486.25 238.685 1486.25 Q232.875 1486.25 229.796 1481.67 Q226.74 1477.06 226.74 1468.33 Q226.74 1459.58 229.796 1455 Q232.875 1450.39 238.685 1450.39 Z\" fill=\"#000000\" fill-rule=\"evenodd\" fill-opacity=\"1\" /><path clip-path=\"url(#clip420)\" d=\"M624.111 1481.64 L631.75 1481.64 L631.75 1455.28 L623.44 1456.95 L623.44 1452.69 L631.704 1451.02 L636.379 1451.02 L636.379 1481.64 L644.018 1481.64 L644.018 1485.58 L624.111 1485.58 L624.111 1481.64 Z\" fill=\"#000000\" fill-rule=\"evenodd\" fill-opacity=\"1\" /><path clip-path=\"url(#clip420)\" d=\"M663.463 1454.1 Q659.852 1454.1 658.023 1457.66 Q656.217 1461.2 656.217 1468.33 Q656.217 1475.44 658.023 1479.01 Q659.852 1482.55 663.463 1482.55 Q667.097 1482.55 668.902 1479.01 Q670.731 1475.44 670.731 1468.33 Q670.731 1461.2 668.902 1457.66 Q667.097 1454.1 663.463 1454.1 M663.463 1450.39 Q669.273 1450.39 672.328 1455 Q675.407 1459.58 675.407 1468.33 Q675.407 1477.06 672.328 1481.67 Q669.273 1486.25 663.463 1486.25 Q657.652 1486.25 654.574 1481.67 Q651.518 1477.06 651.518 1468.33 Q651.518 1459.58 654.574 1455 Q657.652 1450.39 663.463 1450.39 Z\" fill=\"#000000\" fill-rule=\"evenodd\" fill-opacity=\"1\" /><path clip-path=\"url(#clip420)\" d=\"M1038.94 1481.64 L1055.25 1481.64 L1055.25 1485.58 L1033.31 1485.58 L1033.31 1481.64 Q1035.97 1478.89 1040.56 1474.26 Q1045.16 1469.61 1046.34 1468.27 Q1048.59 1465.74 1049.47 1464.01 Q1050.37 1462.25 1050.37 1460.56 Q1050.37 1457.8 1048.43 1456.07 Q1046.5 1454.33 1043.4 1454.33 Q1041.2 1454.33 1038.75 1455.09 Q1036.32 1455.86 1033.54 1457.41 L1033.54 1452.69 Q1036.37 1451.55 1038.82 1450.97 Q1041.27 1450.39 1043.31 1450.39 Q1048.68 1450.39 1051.87 1453.08 Q1055.07 1455.77 1055.07 1460.26 Q1055.07 1462.39 1054.26 1464.31 Q1053.47 1466.2 1051.37 1468.8 Q1050.79 1469.47 1047.69 1472.69 Q1044.58 1475.88 1038.94 1481.64 Z\" fill=\"#000000\" fill-rule=\"evenodd\" fill-opacity=\"1\" /><path clip-path=\"url(#clip420)\" d=\"M1075.07 1454.1 Q1071.46 1454.1 1069.63 1457.66 Q1067.82 1461.2 1067.82 1468.33 Q1067.82 1475.44 1069.63 1479.01 Q1071.46 1482.55 1075.07 1482.55 Q1078.7 1482.55 1080.51 1479.01 Q1082.34 1475.44 1082.34 1468.33 Q1082.34 1461.2 1080.51 1457.66 Q1078.7 1454.1 1075.07 1454.1 M1075.07 1450.39 Q1080.88 1450.39 1083.93 1455 Q1087.01 1459.58 1087.01 1468.33 Q1087.01 1477.06 1083.93 1481.67 Q1080.88 1486.25 1075.07 1486.25 Q1069.26 1486.25 1066.18 1481.67 Q1063.12 1477.06 1063.12 1468.33 Q1063.12 1459.58 1066.18 1455 Q1069.26 1450.39 1075.07 1450.39 Z\" fill=\"#000000\" fill-rule=\"evenodd\" fill-opacity=\"1\" /><path clip-path=\"url(#clip420)\" d=\"M1459.74 1466.95 Q1463.1 1467.66 1464.97 1469.93 Q1466.87 1472.2 1466.87 1475.53 Q1466.87 1480.65 1463.35 1483.45 Q1459.84 1486.25 1453.35 1486.25 Q1451.18 1486.25 1448.86 1485.81 Q1446.57 1485.39 1444.12 1484.54 L1444.12 1480.02 Q1446.06 1481.16 1448.38 1481.74 Q1450.69 1482.32 1453.22 1482.32 Q1457.61 1482.32 1459.91 1480.58 Q1462.22 1478.84 1462.22 1475.53 Q1462.22 1472.48 1460.07 1470.77 Q1457.94 1469.03 1454.12 1469.03 L1450.09 1469.03 L1450.09 1465.19 L1454.3 1465.19 Q1457.75 1465.19 1459.58 1463.82 Q1461.41 1462.43 1461.41 1459.84 Q1461.41 1457.18 1459.51 1455.77 Q1457.64 1454.33 1454.12 1454.33 Q1452.2 1454.33 1450 1454.75 Q1447.8 1455.16 1445.16 1456.04 L1445.16 1451.88 Q1447.82 1451.14 1450.14 1450.77 Q1452.47 1450.39 1454.53 1450.39 Q1459.86 1450.39 1462.96 1452.83 Q1466.06 1455.23 1466.06 1459.35 Q1466.06 1462.22 1464.42 1464.21 Q1462.78 1466.18 1459.74 1466.95 Z\" fill=\"#000000\" fill-rule=\"evenodd\" fill-opacity=\"1\" /><path clip-path=\"url(#clip420)\" d=\"M1485.74 1454.1 Q1482.13 1454.1 1480.3 1457.66 Q1478.49 1461.2 1478.49 1468.33 Q1478.49 1475.44 1480.3 1479.01 Q1482.13 1482.55 1485.74 1482.55 Q1489.37 1482.55 1491.18 1479.01 Q1493.01 1475.44 1493.01 1468.33 Q1493.01 1461.2 1491.18 1457.66 Q1489.37 1454.1 1485.74 1454.1 M1485.74 1450.39 Q1491.55 1450.39 1494.6 1455 Q1497.68 1459.58 1497.68 1468.33 Q1497.68 1477.06 1494.6 1481.67 Q1491.55 1486.25 1485.74 1486.25 Q1479.93 1486.25 1476.85 1481.67 Q1473.79 1477.06 1473.79 1468.33 Q1473.79 1459.58 1476.85 1455 Q1479.93 1450.39 1485.74 1450.39 Z\" fill=\"#000000\" fill-rule=\"evenodd\" fill-opacity=\"1\" /><path clip-path=\"url(#clip420)\" d=\"M1869.81 1455.09 L1858 1473.54 L1869.81 1473.54 L1869.81 1455.09 M1868.58 1451.02 L1874.46 1451.02 L1874.46 1473.54 L1879.39 1473.54 L1879.39 1477.43 L1874.46 1477.43 L1874.46 1485.58 L1869.81 1485.58 L1869.81 1477.43 L1854.21 1477.43 L1854.21 1472.92 L1868.58 1451.02 Z\" fill=\"#000000\" fill-rule=\"evenodd\" fill-opacity=\"1\" /><path clip-path=\"url(#clip420)\" d=\"M1897.12 1454.1 Q1893.51 1454.1 1891.69 1457.66 Q1889.88 1461.2 1889.88 1468.33 Q1889.88 1475.44 1891.69 1479.01 Q1893.51 1482.55 1897.12 1482.55 Q1900.76 1482.55 1902.56 1479.01 Q1904.39 1475.44 1904.39 1468.33 Q1904.39 1461.2 1902.56 1457.66 Q1900.76 1454.1 1897.12 1454.1 M1897.12 1450.39 Q1902.94 1450.39 1905.99 1455 Q1909.07 1459.58 1909.07 1468.33 Q1909.07 1477.06 1905.99 1481.67 Q1902.94 1486.25 1897.12 1486.25 Q1891.31 1486.25 1888.24 1481.67 Q1885.18 1477.06 1885.18 1468.33 Q1885.18 1459.58 1888.24 1455 Q1891.31 1450.39 1897.12 1450.39 Z\" fill=\"#000000\" fill-rule=\"evenodd\" fill-opacity=\"1\" /><path clip-path=\"url(#clip420)\" d=\"M2267.08 1451.02 L2285.43 1451.02 L2285.43 1454.96 L2271.36 1454.96 L2271.36 1463.43 Q2272.38 1463.08 2273.4 1462.92 Q2274.41 1462.73 2275.43 1462.73 Q2281.22 1462.73 2284.6 1465.9 Q2287.98 1469.08 2287.98 1474.49 Q2287.98 1480.07 2284.51 1483.17 Q2281.03 1486.25 2274.72 1486.25 Q2272.54 1486.25 2270.27 1485.88 Q2268.03 1485.51 2265.62 1484.77 L2265.62 1480.07 Q2267.7 1481.2 2269.92 1481.76 Q2272.15 1482.32 2274.62 1482.32 Q2278.63 1482.32 2280.97 1480.21 Q2283.3 1478.1 2283.3 1474.49 Q2283.3 1470.88 2280.97 1468.77 Q2278.63 1466.67 2274.62 1466.67 Q2272.75 1466.67 2270.87 1467.08 Q2269.02 1467.5 2267.08 1468.38 L2267.08 1451.02 Z\" fill=\"#000000\" fill-rule=\"evenodd\" fill-opacity=\"1\" /><path clip-path=\"url(#clip420)\" d=\"M2307.19 1454.1 Q2303.58 1454.1 2301.75 1457.66 Q2299.95 1461.2 2299.95 1468.33 Q2299.95 1475.44 2301.75 1479.01 Q2303.58 1482.55 2307.19 1482.55 Q2310.83 1482.55 2312.63 1479.01 Q2314.46 1475.44 2314.46 1468.33 Q2314.46 1461.2 2312.63 1457.66 Q2310.83 1454.1 2307.19 1454.1 M2307.19 1450.39 Q2313 1450.39 2316.06 1455 Q2319.14 1459.58 2319.14 1468.33 Q2319.14 1477.06 2316.06 1481.67 Q2313 1486.25 2307.19 1486.25 Q2301.38 1486.25 2298.3 1481.67 Q2295.25 1477.06 2295.25 1468.33 Q2295.25 1459.58 2298.3 1455 Q2301.38 1450.39 2307.19 1450.39 Z\" fill=\"#000000\" fill-rule=\"evenodd\" fill-opacity=\"1\" /><path clip-path=\"url(#clip420)\" d=\"M1135.63 1520.52 L1142.06 1520.52 L1142.06 1568.04 L1135.63 1568.04 L1135.63 1520.52 Z\" fill=\"#000000\" fill-rule=\"evenodd\" fill-opacity=\"1\" /><path clip-path=\"url(#clip420)\" d=\"M1160.39 1522.27 L1160.39 1532.4 L1172.46 1532.4 L1172.46 1536.95 L1160.39 1536.95 L1160.39 1556.3 Q1160.39 1560.66 1161.57 1561.9 Q1162.78 1563.14 1166.44 1563.14 L1172.46 1563.14 L1172.46 1568.04 L1166.44 1568.04 Q1159.66 1568.04 1157.08 1565.53 Q1154.5 1562.98 1154.5 1556.3 L1154.5 1536.95 L1150.21 1536.95 L1150.21 1532.4 L1154.5 1532.4 L1154.5 1522.27 L1160.39 1522.27 Z\" fill=\"#000000\" fill-rule=\"evenodd\" fill-opacity=\"1\" /><path clip-path=\"url(#clip420)\" d=\"M1210.65 1548.76 L1210.65 1551.62 L1183.72 1551.62 Q1184.11 1557.67 1187.35 1560.85 Q1190.63 1564 1196.45 1564 Q1199.83 1564 1202.98 1563.17 Q1206.16 1562.35 1209.28 1560.69 L1209.28 1566.23 Q1206.13 1567.57 1202.82 1568.27 Q1199.51 1568.97 1196.1 1568.97 Q1187.57 1568.97 1182.58 1564 Q1177.61 1559.04 1177.61 1550.57 Q1177.61 1541.82 1182.32 1536.69 Q1187.07 1531.54 1195.09 1531.54 Q1202.28 1531.54 1206.45 1536.18 Q1210.65 1540.8 1210.65 1548.76 M1204.79 1547.04 Q1204.73 1542.23 1202.09 1539.37 Q1199.48 1536.5 1195.15 1536.5 Q1190.25 1536.5 1187.29 1539.27 Q1184.36 1542.04 1183.91 1547.07 L1204.79 1547.04 Z\" fill=\"#000000\" fill-rule=\"evenodd\" fill-opacity=\"1\" /><path clip-path=\"url(#clip420)\" d=\"M1240.92 1537.87 Q1239.93 1537.3 1238.75 1537.04 Q1237.61 1536.76 1236.21 1536.76 Q1231.24 1536.76 1228.57 1540 Q1225.93 1543.22 1225.93 1549.27 L1225.93 1568.04 L1220.04 1568.04 L1220.04 1532.4 L1225.93 1532.4 L1225.93 1537.93 Q1227.77 1534.69 1230.73 1533.13 Q1233.69 1531.54 1237.93 1531.54 Q1238.53 1531.54 1239.26 1531.63 Q1240 1531.7 1240.89 1531.85 L1240.92 1537.87 Z\" fill=\"#000000\" fill-rule=\"evenodd\" fill-opacity=\"1\" /><path clip-path=\"url(#clip420)\" d=\"M1263.26 1550.12 Q1256.17 1550.12 1253.43 1551.75 Q1250.69 1553.37 1250.69 1557.29 Q1250.69 1560.4 1252.73 1562.25 Q1254.8 1564.07 1258.33 1564.07 Q1263.2 1564.07 1266.13 1560.63 Q1269.09 1557.16 1269.09 1551.43 L1269.09 1550.12 L1263.26 1550.12 M1274.94 1547.71 L1274.94 1568.04 L1269.09 1568.04 L1269.09 1562.63 Q1267.08 1565.88 1264.09 1567.44 Q1261.1 1568.97 1256.77 1568.97 Q1251.3 1568.97 1248.05 1565.91 Q1244.83 1562.82 1244.83 1557.67 Q1244.83 1551.65 1248.84 1548.6 Q1252.89 1545.54 1260.88 1545.54 L1269.09 1545.54 L1269.09 1544.97 Q1269.09 1540.93 1266.41 1538.73 Q1263.77 1536.5 1258.97 1536.5 Q1255.91 1536.5 1253.01 1537.23 Q1250.12 1537.97 1247.44 1539.43 L1247.44 1534.02 Q1250.66 1532.78 1253.68 1532.17 Q1256.71 1531.54 1259.57 1531.54 Q1267.31 1531.54 1271.12 1535.55 Q1274.94 1539.56 1274.94 1547.71 Z\" fill=\"#000000\" fill-rule=\"evenodd\" fill-opacity=\"1\" /><path clip-path=\"url(#clip420)\" d=\"M1292.8 1522.27 L1292.8 1532.4 L1304.86 1532.4 L1304.86 1536.95 L1292.8 1536.95 L1292.8 1556.3 Q1292.8 1560.66 1293.98 1561.9 Q1295.19 1563.14 1298.85 1563.14 L1304.86 1563.14 L1304.86 1568.04 L1298.85 1568.04 Q1292.07 1568.04 1289.49 1565.53 Q1286.91 1562.98 1286.91 1556.3 L1286.91 1536.95 L1282.61 1536.95 L1282.61 1532.4 L1286.91 1532.4 L1286.91 1522.27 L1292.8 1522.27 Z\" fill=\"#000000\" fill-rule=\"evenodd\" fill-opacity=\"1\" /><path clip-path=\"url(#clip420)\" d=\"M1312.57 1532.4 L1318.42 1532.4 L1318.42 1568.04 L1312.57 1568.04 L1312.57 1532.4 M1312.57 1518.52 L1318.42 1518.52 L1318.42 1525.93 L1312.57 1525.93 L1312.57 1518.52 Z\" fill=\"#000000\" fill-rule=\"evenodd\" fill-opacity=\"1\" /><path clip-path=\"url(#clip420)\" d=\"M1344.49 1536.5 Q1339.78 1536.5 1337.04 1540.19 Q1334.3 1543.85 1334.3 1550.25 Q1334.3 1556.65 1337.01 1560.34 Q1339.75 1564 1344.49 1564 Q1349.17 1564 1351.91 1560.31 Q1354.64 1556.62 1354.64 1550.25 Q1354.64 1543.92 1351.91 1540.23 Q1349.17 1536.5 1344.49 1536.5 M1344.49 1531.54 Q1352.13 1531.54 1356.49 1536.5 Q1360.85 1541.47 1360.85 1550.25 Q1360.85 1559 1356.49 1564 Q1352.13 1568.97 1344.49 1568.97 Q1336.82 1568.97 1332.46 1564 Q1328.13 1559 1328.13 1550.25 Q1328.13 1541.47 1332.46 1536.5 Q1336.82 1531.54 1344.49 1531.54 Z\" fill=\"#000000\" fill-rule=\"evenodd\" fill-opacity=\"1\" /><path clip-path=\"url(#clip420)\" d=\"M1400.19 1546.53 L1400.19 1568.04 L1394.33 1568.04 L1394.33 1546.72 Q1394.33 1541.66 1392.36 1539.14 Q1390.39 1536.63 1386.44 1536.63 Q1381.7 1536.63 1378.96 1539.65 Q1376.22 1542.68 1376.22 1547.9 L1376.22 1568.04 L1370.33 1568.04 L1370.33 1532.4 L1376.22 1532.4 L1376.22 1537.93 Q1378.32 1534.72 1381.16 1533.13 Q1384.02 1531.54 1387.74 1531.54 Q1393.89 1531.54 1397.04 1535.36 Q1400.19 1539.14 1400.19 1546.53 Z\" fill=\"#000000\" fill-rule=\"evenodd\" fill-opacity=\"1\" /><path clip-path=\"url(#clip420)\" d=\"M1434.6 1533.45 L1434.6 1538.98 Q1432.11 1537.71 1429.44 1537.07 Q1426.77 1536.44 1423.9 1536.44 Q1419.54 1536.44 1417.34 1537.77 Q1415.18 1539.11 1415.18 1541.79 Q1415.18 1543.82 1416.74 1545 Q1418.3 1546.15 1423.01 1547.2 L1425.02 1547.64 Q1431.25 1548.98 1433.86 1551.43 Q1436.51 1553.85 1436.51 1558.21 Q1436.51 1563.17 1432.56 1566.07 Q1428.64 1568.97 1421.77 1568.97 Q1418.9 1568.97 1415.79 1568.39 Q1412.7 1567.85 1409.26 1566.74 L1409.26 1560.69 Q1412.51 1562.38 1415.66 1563.24 Q1418.81 1564.07 1421.9 1564.07 Q1426.03 1564.07 1428.26 1562.66 Q1430.49 1561.23 1430.49 1558.65 Q1430.49 1556.27 1428.87 1554.99 Q1427.28 1553.72 1421.83 1552.54 L1419.8 1552.07 Q1414.35 1550.92 1411.93 1548.56 Q1409.51 1546.18 1409.51 1542.04 Q1409.51 1537.01 1413.08 1534.27 Q1416.64 1531.54 1423.2 1531.54 Q1426.45 1531.54 1429.31 1532.01 Q1432.18 1532.49 1434.6 1533.45 Z\" fill=\"#000000\" fill-rule=\"evenodd\" fill-opacity=\"1\" /><polyline clip-path=\"url(#clip422)\" style=\"stroke:#000000; stroke-linecap:butt; stroke-linejoin:round; stroke-width:2; stroke-opacity:0.1; fill:none\" points=\"\n",
       "  219.38,1398.26 2352.76,1398.26 \n",
       "  \"/>\n",
       "<polyline clip-path=\"url(#clip422)\" style=\"stroke:#000000; stroke-linecap:butt; stroke-linejoin:round; stroke-width:2; stroke-opacity:0.1; fill:none\" points=\"\n",
       "  219.38,1028.16 2352.76,1028.16 \n",
       "  \"/>\n",
       "<polyline clip-path=\"url(#clip422)\" style=\"stroke:#000000; stroke-linecap:butt; stroke-linejoin:round; stroke-width:2; stroke-opacity:0.1; fill:none\" points=\"\n",
       "  219.38,658.062 2352.76,658.062 \n",
       "  \"/>\n",
       "<polyline clip-path=\"url(#clip422)\" style=\"stroke:#000000; stroke-linecap:butt; stroke-linejoin:round; stroke-width:2; stroke-opacity:0.1; fill:none\" points=\"\n",
       "  219.38,287.965 2352.76,287.965 \n",
       "  \"/>\n",
       "<polyline clip-path=\"url(#clip420)\" style=\"stroke:#000000; stroke-linecap:butt; stroke-linejoin:round; stroke-width:4; stroke-opacity:1; fill:none\" points=\"\n",
       "  219.38,1423.18 219.38,47.2441 \n",
       "  \"/>\n",
       "<polyline clip-path=\"url(#clip420)\" style=\"stroke:#000000; stroke-linecap:butt; stroke-linejoin:round; stroke-width:4; stroke-opacity:1; fill:none\" points=\"\n",
       "  219.38,1398.26 238.278,1398.26 \n",
       "  \"/>\n",
       "<polyline clip-path=\"url(#clip420)\" style=\"stroke:#000000; stroke-linecap:butt; stroke-linejoin:round; stroke-width:4; stroke-opacity:1; fill:none\" points=\"\n",
       "  219.38,1028.16 238.278,1028.16 \n",
       "  \"/>\n",
       "<polyline clip-path=\"url(#clip420)\" style=\"stroke:#000000; stroke-linecap:butt; stroke-linejoin:round; stroke-width:4; stroke-opacity:1; fill:none\" points=\"\n",
       "  219.38,658.062 238.278,658.062 \n",
       "  \"/>\n",
       "<polyline clip-path=\"url(#clip420)\" style=\"stroke:#000000; stroke-linecap:butt; stroke-linejoin:round; stroke-width:4; stroke-opacity:1; fill:none\" points=\"\n",
       "  219.38,287.965 238.278,287.965 \n",
       "  \"/>\n",
       "<path clip-path=\"url(#clip420)\" d=\"M126.205 1384.05 Q122.593 1384.05 120.765 1387.62 Q118.959 1391.16 118.959 1398.29 Q118.959 1405.4 120.765 1408.96 Q122.593 1412.5 126.205 1412.5 Q129.839 1412.5 131.644 1408.96 Q133.473 1405.4 133.473 1398.29 Q133.473 1391.16 131.644 1387.62 Q129.839 1384.05 126.205 1384.05 M126.205 1380.35 Q132.015 1380.35 135.07 1384.96 Q138.149 1389.54 138.149 1398.29 Q138.149 1407.02 135.07 1411.62 Q132.015 1416.21 126.205 1416.21 Q120.394 1416.21 117.316 1411.62 Q114.26 1407.02 114.26 1398.29 Q114.26 1389.54 117.316 1384.96 Q120.394 1380.35 126.205 1380.35 Z\" fill=\"#000000\" fill-rule=\"evenodd\" fill-opacity=\"1\" /><path clip-path=\"url(#clip420)\" d=\"M146.366 1409.66 L151.251 1409.66 L151.251 1415.54 L146.366 1415.54 L146.366 1409.66 Z\" fill=\"#000000\" fill-rule=\"evenodd\" fill-opacity=\"1\" /><path clip-path=\"url(#clip420)\" d=\"M171.436 1384.05 Q167.825 1384.05 165.996 1387.62 Q164.19 1391.16 164.19 1398.29 Q164.19 1405.4 165.996 1408.96 Q167.825 1412.5 171.436 1412.5 Q175.07 1412.5 176.876 1408.96 Q178.704 1405.4 178.704 1398.29 Q178.704 1391.16 176.876 1387.62 Q175.07 1384.05 171.436 1384.05 M171.436 1380.35 Q177.246 1380.35 180.301 1384.96 Q183.38 1389.54 183.38 1398.29 Q183.38 1407.02 180.301 1411.62 Q177.246 1416.21 171.436 1416.21 Q165.626 1416.21 162.547 1411.62 Q159.491 1407.02 159.491 1398.29 Q159.491 1389.54 162.547 1384.96 Q165.626 1380.35 171.436 1380.35 Z\" fill=\"#000000\" fill-rule=\"evenodd\" fill-opacity=\"1\" /><path clip-path=\"url(#clip420)\" d=\"M127.2 1013.96 Q123.589 1013.96 121.76 1017.52 Q119.955 1021.06 119.955 1028.19 Q119.955 1035.3 121.76 1038.86 Q123.589 1042.41 127.2 1042.41 Q130.834 1042.41 132.64 1038.86 Q134.468 1035.3 134.468 1028.19 Q134.468 1021.06 132.64 1017.52 Q130.834 1013.96 127.2 1013.96 M127.2 1010.25 Q133.01 1010.25 136.066 1014.86 Q139.144 1019.44 139.144 1028.19 Q139.144 1036.92 136.066 1041.53 Q133.01 1046.11 127.2 1046.11 Q121.39 1046.11 118.311 1041.53 Q115.256 1036.92 115.256 1028.19 Q115.256 1019.44 118.311 1014.86 Q121.39 1010.25 127.2 1010.25 Z\" fill=\"#000000\" fill-rule=\"evenodd\" fill-opacity=\"1\" /><path clip-path=\"url(#clip420)\" d=\"M147.362 1039.56 L152.246 1039.56 L152.246 1045.44 L147.362 1045.44 L147.362 1039.56 Z\" fill=\"#000000\" fill-rule=\"evenodd\" fill-opacity=\"1\" /><path clip-path=\"url(#clip420)\" d=\"M162.477 1010.88 L180.834 1010.88 L180.834 1014.81 L166.76 1014.81 L166.76 1023.29 Q167.778 1022.94 168.797 1022.78 Q169.815 1022.59 170.834 1022.59 Q176.621 1022.59 180.001 1025.76 Q183.38 1028.93 183.38 1034.35 Q183.38 1039.93 179.908 1043.03 Q176.436 1046.11 170.116 1046.11 Q167.94 1046.11 165.672 1045.74 Q163.427 1045.37 161.019 1044.63 L161.019 1039.93 Q163.102 1041.06 165.325 1041.62 Q167.547 1042.17 170.024 1042.17 Q174.028 1042.17 176.366 1040.07 Q178.704 1037.96 178.704 1034.35 Q178.704 1030.74 176.366 1028.63 Q174.028 1026.53 170.024 1026.53 Q168.149 1026.53 166.274 1026.94 Q164.422 1027.36 162.477 1028.24 L162.477 1010.88 Z\" fill=\"#000000\" fill-rule=\"evenodd\" fill-opacity=\"1\" /><path clip-path=\"url(#clip420)\" d=\"M117.015 671.407 L124.654 671.407 L124.654 645.041 L116.343 646.708 L116.343 642.448 L124.607 640.782 L129.283 640.782 L129.283 671.407 L136.922 671.407 L136.922 675.342 L117.015 675.342 L117.015 671.407 Z\" fill=\"#000000\" fill-rule=\"evenodd\" fill-opacity=\"1\" /><path clip-path=\"url(#clip420)\" d=\"M146.366 669.462 L151.251 669.462 L151.251 675.342 L146.366 675.342 L146.366 669.462 Z\" fill=\"#000000\" fill-rule=\"evenodd\" fill-opacity=\"1\" /><path clip-path=\"url(#clip420)\" d=\"M171.436 643.86 Q167.825 643.86 165.996 647.425 Q164.19 650.967 164.19 658.096 Q164.19 665.203 165.996 668.768 Q167.825 672.309 171.436 672.309 Q175.07 672.309 176.876 668.768 Q178.704 665.203 178.704 658.096 Q178.704 650.967 176.876 647.425 Q175.07 643.86 171.436 643.86 M171.436 640.157 Q177.246 640.157 180.301 644.763 Q183.38 649.347 183.38 658.096 Q183.38 666.823 180.301 671.43 Q177.246 676.013 171.436 676.013 Q165.626 676.013 162.547 671.43 Q159.491 666.823 159.491 658.096 Q159.491 649.347 162.547 644.763 Q165.626 640.157 171.436 640.157 Z\" fill=\"#000000\" fill-rule=\"evenodd\" fill-opacity=\"1\" /><path clip-path=\"url(#clip420)\" d=\"M118.01 301.31 L125.649 301.31 L125.649 274.944 L117.339 276.611 L117.339 272.352 L125.603 270.685 L130.279 270.685 L130.279 301.31 L137.917 301.31 L137.917 305.245 L118.01 305.245 L118.01 301.31 Z\" fill=\"#000000\" fill-rule=\"evenodd\" fill-opacity=\"1\" /><path clip-path=\"url(#clip420)\" d=\"M147.362 299.365 L152.246 299.365 L152.246 305.245 L147.362 305.245 L147.362 299.365 Z\" fill=\"#000000\" fill-rule=\"evenodd\" fill-opacity=\"1\" /><path clip-path=\"url(#clip420)\" d=\"M162.477 270.685 L180.834 270.685 L180.834 274.62 L166.76 274.62 L166.76 283.092 Q167.778 282.745 168.797 282.583 Q169.815 282.398 170.834 282.398 Q176.621 282.398 180.001 285.569 Q183.38 288.74 183.38 294.157 Q183.38 299.736 179.908 302.838 Q176.436 305.916 170.116 305.916 Q167.94 305.916 165.672 305.546 Q163.427 305.176 161.019 304.435 L161.019 299.736 Q163.102 300.87 165.325 301.426 Q167.547 301.981 170.024 301.981 Q174.028 301.981 176.366 299.875 Q178.704 297.768 178.704 294.157 Q178.704 290.546 176.366 288.44 Q174.028 286.333 170.024 286.333 Q168.149 286.333 166.274 286.75 Q164.422 287.166 162.477 288.046 L162.477 270.685 Z\" fill=\"#000000\" fill-rule=\"evenodd\" fill-opacity=\"1\" /><path clip-path=\"url(#clip420)\" d=\"M16.4842 801.909 L16.4842 795.479 L58.5933 795.479 L58.5933 772.34 L64.0042 772.34 L64.0042 801.909 L16.4842 801.909 Z\" fill=\"#000000\" fill-rule=\"evenodd\" fill-opacity=\"1\" /><path clip-path=\"url(#clip420)\" d=\"M32.4621 753.179 Q32.4621 757.89 36.1542 760.627 Q39.8145 763.364 46.212 763.364 Q52.6095 763.364 56.3017 760.659 Q59.9619 757.922 59.9619 753.179 Q59.9619 748.5 56.2698 745.763 Q52.5777 743.026 46.212 743.026 Q39.8781 743.026 36.186 745.763 Q32.4621 748.5 32.4621 753.179 M27.4968 753.179 Q27.4968 745.54 32.4621 741.18 Q37.4273 736.819 46.212 736.819 Q54.9649 736.819 59.9619 741.18 Q64.9272 745.54 64.9272 753.179 Q64.9272 760.85 59.9619 765.21 Q54.9649 769.539 46.212 769.539 Q37.4273 769.539 32.4621 765.21 Q27.4968 760.85 27.4968 753.179 Z\" fill=\"#000000\" fill-rule=\"evenodd\" fill-opacity=\"1\" /><path clip-path=\"url(#clip420)\" d=\"M29.4065 704.386 L34.9447 704.386 Q33.6716 706.869 33.035 709.542 Q32.3984 712.216 32.3984 715.08 Q32.3984 719.441 33.7352 721.637 Q35.072 723.801 37.7456 723.801 Q39.7826 723.801 40.9603 722.242 Q42.1061 720.682 43.1565 715.972 L43.6021 713.966 Q44.9389 707.728 47.3897 705.118 Q49.8086 702.476 54.1691 702.476 Q59.1344 702.476 62.0308 706.423 Q64.9272 710.338 64.9272 717.213 Q64.9272 720.078 64.3543 723.197 Q63.8132 726.284 62.6992 729.722 L56.6518 729.722 Q58.3387 726.475 59.198 723.324 Q60.0256 720.173 60.0256 717.086 Q60.0256 712.948 58.6251 710.72 Q57.1929 708.492 54.6147 708.492 Q52.2276 708.492 50.9545 710.115 Q49.6813 711.707 48.5037 717.149 L48.0262 719.186 Q46.8804 724.629 44.5251 727.048 Q42.138 729.467 38.0002 729.467 Q32.9713 729.467 30.2341 725.902 Q27.4968 722.337 27.4968 715.781 Q27.4968 712.534 27.9743 709.67 Q28.4517 706.805 29.4065 704.386 Z\" fill=\"#000000\" fill-rule=\"evenodd\" fill-opacity=\"1\" /><path clip-path=\"url(#clip420)\" d=\"M29.4065 670.425 L34.9447 670.425 Q33.6716 672.908 33.035 675.581 Q32.3984 678.255 32.3984 681.119 Q32.3984 685.48 33.7352 687.676 Q35.072 689.84 37.7456 689.84 Q39.7826 689.84 40.9603 688.281 Q42.1061 686.721 43.1565 682.011 L43.6021 680.005 Q44.9389 673.767 47.3897 671.157 Q49.8086 668.515 54.1691 668.515 Q59.1344 668.515 62.0308 672.462 Q64.9272 676.377 64.9272 683.252 Q64.9272 686.116 64.3543 689.236 Q63.8132 692.323 62.6992 695.761 L56.6518 695.761 Q58.3387 692.514 59.198 689.363 Q60.0256 686.212 60.0256 683.125 Q60.0256 678.987 58.6251 676.759 Q57.1929 674.531 54.6147 674.531 Q52.2276 674.531 50.9545 676.154 Q49.6813 677.746 48.5037 683.188 L48.0262 685.225 Q46.8804 690.668 44.5251 693.087 Q42.138 695.506 38.0002 695.506 Q32.9713 695.506 30.2341 691.941 Q27.4968 688.376 27.4968 681.82 Q27.4968 678.573 27.9743 675.709 Q28.4517 672.844 29.4065 670.425 Z\" fill=\"#000000\" fill-rule=\"evenodd\" fill-opacity=\"1\" /><polyline clip-path=\"url(#clip422)\" style=\"stroke:#009af9; stroke-linecap:butt; stroke-linejoin:round; stroke-width:4; stroke-opacity:1; fill:none\" points=\"\n",
       "  279.759,88.5714 320.833,310.689 361.906,464.301 402.98,583.437 444.054,683.233 485.128,767.086 526.202,839.246 567.276,897.035 608.35,944.355 649.423,982.274 \n",
       "  690.497,1016.14 731.571,1053.38 772.645,1079.77 813.719,1108.71 854.793,1131.06 895.866,1152.15 936.94,1170.94 978.014,1186.75 1019.09,1203.31 1060.16,1220.51 \n",
       "  1101.24,1233.53 1142.31,1247.12 1183.38,1261.49 1224.46,1273.5 1265.53,1284.71 1306.6,1292.82 1347.68,1300.62 1388.75,1310.33 1429.83,1318.11 1470.9,1324.37 \n",
       "  1511.97,1325.66 1553.05,1329.83 1594.12,1341.97 1635.2,1345.23 1676.27,1350.46 1717.34,1353.36 1758.42,1358.55 1799.49,1359.89 1840.57,1364.84 1881.64,1367.5 \n",
       "  1922.71,1369.13 1963.79,1373.08 2004.86,1374.68 2045.93,1376.59 2087.01,1377.78 2128.08,1379.86 2169.16,1381.42 2210.23,1382.62 2251.3,1383.72 2292.38,1384.24 \n",
       "  \n",
       "  \"/>\n",
       "<polyline clip-path=\"url(#clip422)\" style=\"stroke:#e26f46; stroke-linecap:butt; stroke-linejoin:round; stroke-width:4; stroke-opacity:1; fill:none\" points=\"\n",
       "  279.759,86.1857 320.833,298.461 361.906,435.752 402.98,544.468 444.054,634.344 485.128,703.296 526.202,763.652 567.276,808.176 608.35,831.831 649.423,857.208 \n",
       "  690.497,874.3 731.571,905.243 772.645,919.914 813.719,939.237 854.793,947.228 895.866,963.542 936.94,961.047 978.014,969.533 1019.09,978.974 1060.16,988.306 \n",
       "  1101.24,991.055 1142.31,998.933 1183.38,1013.16 1224.46,987.388 1265.53,1012.81 1306.6,1019.98 1347.68,1004.11 1388.75,1015.7 1429.83,1026.85 1470.9,1020.97 \n",
       "  1511.97,1021.63 1553.05,1007.02 1594.12,1019.24 1635.2,1026.6 1676.27,1033.85 1717.34,1019.04 1758.42,1016.19 1799.49,1004.15 1840.57,1021.13 1881.64,1008.76 \n",
       "  1922.71,1016.78 1963.79,1039.6 2004.86,1029.08 2045.93,1016.46 2087.01,1025.1 2128.08,1011.93 2169.16,1013.08 2210.23,1018.36 2251.3,1034.16 2292.38,1020.42 \n",
       "  \n",
       "  \"/>\n",
       "<path clip-path=\"url(#clip420)\" d=\"\n",
       "M1871.41 248.629 L2281.64 248.629 L2281.64 93.1086 L1871.41 93.1086  Z\n",
       "  \" fill=\"#ffffff\" fill-rule=\"evenodd\" fill-opacity=\"1\"/>\n",
       "<polyline clip-path=\"url(#clip420)\" style=\"stroke:#000000; stroke-linecap:butt; stroke-linejoin:round; stroke-width:4; stroke-opacity:1; fill:none\" points=\"\n",
       "  1871.41,248.629 2281.64,248.629 2281.64,93.1086 1871.41,93.1086 1871.41,248.629 \n",
       "  \"/>\n",
       "<polyline clip-path=\"url(#clip420)\" style=\"stroke:#009af9; stroke-linecap:butt; stroke-linejoin:round; stroke-width:4; stroke-opacity:1; fill:none\" points=\"\n",
       "  1895.11,144.949 2037.34,144.949 \n",
       "  \"/>\n",
       "<path clip-path=\"url(#clip420)\" d=\"M2068.45 128.942 L2068.45 136.303 L2077.22 136.303 L2077.22 139.613 L2068.45 139.613 L2068.45 153.687 Q2068.45 156.858 2069.31 157.761 Q2070.18 158.664 2072.85 158.664 L2077.22 158.664 L2077.22 162.229 L2072.85 162.229 Q2067.92 162.229 2066.04 160.4 Q2064.17 158.548 2064.17 153.687 L2064.17 139.613 L2061.04 139.613 L2061.04 136.303 L2064.17 136.303 L2064.17 128.942 L2068.45 128.942 Z\" fill=\"#000000\" fill-rule=\"evenodd\" fill-opacity=\"1\" /><path clip-path=\"url(#clip420)\" d=\"M2097.85 140.284 Q2097.13 139.868 2096.27 139.682 Q2095.44 139.474 2094.42 139.474 Q2090.81 139.474 2088.87 141.835 Q2086.94 144.173 2086.94 148.571 L2086.94 162.229 L2082.66 162.229 L2082.66 136.303 L2086.94 136.303 L2086.94 140.331 Q2088.29 137.969 2090.44 136.835 Q2092.59 135.678 2095.67 135.678 Q2096.11 135.678 2096.64 135.747 Q2097.18 135.794 2097.82 135.909 L2097.85 140.284 Z\" fill=\"#000000\" fill-rule=\"evenodd\" fill-opacity=\"1\" /><path clip-path=\"url(#clip420)\" d=\"M2123.03 146.581 L2123.03 162.229 L2118.77 162.229 L2118.77 146.719 Q2118.77 143.039 2117.34 141.21 Q2115.9 139.382 2113.03 139.382 Q2109.58 139.382 2107.59 141.581 Q2105.6 143.78 2105.6 147.576 L2105.6 162.229 L2101.32 162.229 L2101.32 136.303 L2105.6 136.303 L2105.6 140.331 Q2107.13 137.993 2109.19 136.835 Q2111.27 135.678 2113.98 135.678 Q2118.45 135.678 2120.74 138.456 Q2123.03 141.21 2123.03 146.581 Z\" fill=\"#000000\" fill-rule=\"evenodd\" fill-opacity=\"1\" /><path clip-path=\"url(#clip420)\" d=\"M2146.6 126.21 L2150.86 126.21 L2150.86 162.229 L2146.6 162.229 L2146.6 126.21 Z\" fill=\"#000000\" fill-rule=\"evenodd\" fill-opacity=\"1\" /><path clip-path=\"url(#clip420)\" d=\"M2169.81 139.289 Q2166.39 139.289 2164.4 141.974 Q2162.41 144.636 2162.41 149.289 Q2162.41 153.942 2164.37 156.627 Q2166.37 159.289 2169.81 159.289 Q2173.22 159.289 2175.21 156.604 Q2177.2 153.918 2177.2 149.289 Q2177.2 144.682 2175.21 141.997 Q2173.22 139.289 2169.81 139.289 M2169.81 135.678 Q2175.37 135.678 2178.54 139.289 Q2181.71 142.9 2181.71 149.289 Q2181.71 155.655 2178.54 159.289 Q2175.37 162.9 2169.81 162.9 Q2164.24 162.9 2161.06 159.289 Q2157.92 155.655 2157.92 149.289 Q2157.92 142.9 2161.06 139.289 Q2164.24 135.678 2169.81 135.678 Z\" fill=\"#000000\" fill-rule=\"evenodd\" fill-opacity=\"1\" /><path clip-path=\"url(#clip420)\" d=\"M2205.3 137.067 L2205.3 141.094 Q2203.49 140.169 2201.55 139.706 Q2199.61 139.243 2197.52 139.243 Q2194.35 139.243 2192.75 140.215 Q2191.18 141.187 2191.18 143.131 Q2191.18 144.613 2192.31 145.469 Q2193.45 146.303 2196.87 147.067 L2198.33 147.391 Q2202.87 148.363 2204.77 150.145 Q2206.69 151.905 2206.69 155.076 Q2206.69 158.687 2203.82 160.793 Q2200.97 162.9 2195.97 162.9 Q2193.89 162.9 2191.62 162.483 Q2189.37 162.09 2186.87 161.28 L2186.87 156.881 Q2189.24 158.108 2191.53 158.733 Q2193.82 159.335 2196.06 159.335 Q2199.07 159.335 2200.69 158.317 Q2202.31 157.275 2202.31 155.4 Q2202.31 153.664 2201.13 152.738 Q2199.98 151.812 2196.02 150.956 L2194.54 150.608 Q2190.58 149.775 2188.82 148.062 Q2187.06 146.326 2187.06 143.317 Q2187.06 139.659 2189.65 137.669 Q2192.24 135.678 2197.01 135.678 Q2199.37 135.678 2201.46 136.025 Q2203.54 136.372 2205.3 137.067 Z\" fill=\"#000000\" fill-rule=\"evenodd\" fill-opacity=\"1\" /><path clip-path=\"url(#clip420)\" d=\"M2230 137.067 L2230 141.094 Q2228.19 140.169 2226.25 139.706 Q2224.3 139.243 2222.22 139.243 Q2219.05 139.243 2217.45 140.215 Q2215.88 141.187 2215.88 143.131 Q2215.88 144.613 2217.01 145.469 Q2218.15 146.303 2221.57 147.067 L2223.03 147.391 Q2227.57 148.363 2229.47 150.145 Q2231.39 151.905 2231.39 155.076 Q2231.39 158.687 2228.52 160.793 Q2225.67 162.9 2220.67 162.9 Q2218.59 162.9 2216.32 162.483 Q2214.07 162.09 2211.57 161.28 L2211.57 156.881 Q2213.93 158.108 2216.23 158.733 Q2218.52 159.335 2220.76 159.335 Q2223.77 159.335 2225.39 158.317 Q2227.01 157.275 2227.01 155.4 Q2227.01 153.664 2225.83 152.738 Q2224.67 151.812 2220.72 150.956 L2219.24 150.608 Q2215.28 149.775 2213.52 148.062 Q2211.76 146.326 2211.76 143.317 Q2211.76 139.659 2214.35 137.669 Q2216.94 135.678 2221.71 135.678 Q2224.07 135.678 2226.16 136.025 Q2228.24 136.372 2230 137.067 Z\" fill=\"#000000\" fill-rule=\"evenodd\" fill-opacity=\"1\" /><polyline clip-path=\"url(#clip420)\" style=\"stroke:#e26f46; stroke-linecap:butt; stroke-linejoin:round; stroke-width:4; stroke-opacity:1; fill:none\" points=\"\n",
       "  1895.11,196.789 2037.34,196.789 \n",
       "  \"/>\n",
       "<path clip-path=\"url(#clip420)\" d=\"M2061.04 188.143 L2065.56 188.143 L2073.66 209.902 L2081.76 188.143 L2086.27 188.143 L2076.55 214.069 L2070.76 214.069 L2061.04 188.143 Z\" fill=\"#000000\" fill-rule=\"evenodd\" fill-opacity=\"1\" /><path clip-path=\"url(#clip420)\" d=\"M2103.93 201.036 Q2098.77 201.036 2096.78 202.217 Q2094.79 203.397 2094.79 206.245 Q2094.79 208.513 2096.27 209.856 Q2097.78 211.175 2100.35 211.175 Q2103.89 211.175 2106.02 208.675 Q2108.17 206.152 2108.17 201.985 L2108.17 201.036 L2103.93 201.036 M2112.43 199.277 L2112.43 214.069 L2108.17 214.069 L2108.17 210.133 Q2106.71 212.495 2104.54 213.629 Q2102.36 214.74 2099.21 214.74 Q2095.23 214.74 2092.87 212.518 Q2090.53 210.272 2090.53 206.522 Q2090.53 202.147 2093.45 199.925 Q2096.39 197.703 2102.2 197.703 L2108.17 197.703 L2108.17 197.286 Q2108.17 194.347 2106.23 192.749 Q2104.31 191.129 2100.81 191.129 Q2098.59 191.129 2096.48 191.661 Q2094.37 192.194 2092.43 193.259 L2092.43 189.323 Q2094.77 188.421 2096.97 187.981 Q2099.17 187.518 2101.25 187.518 Q2106.87 187.518 2109.65 190.434 Q2112.43 193.351 2112.43 199.277 Z\" fill=\"#000000\" fill-rule=\"evenodd\" fill-opacity=\"1\" /><path clip-path=\"url(#clip420)\" d=\"M2121.2 178.05 L2125.46 178.05 L2125.46 214.069 L2121.2 214.069 L2121.2 178.05 Z\" fill=\"#000000\" fill-rule=\"evenodd\" fill-opacity=\"1\" /><path clip-path=\"url(#clip420)\" d=\"M2149.44 178.05 L2153.7 178.05 L2153.7 214.069 L2149.44 214.069 L2149.44 178.05 Z\" fill=\"#000000\" fill-rule=\"evenodd\" fill-opacity=\"1\" /><path clip-path=\"url(#clip420)\" d=\"M2172.66 191.129 Q2169.24 191.129 2167.24 193.814 Q2165.25 196.476 2165.25 201.129 Q2165.25 205.782 2167.22 208.467 Q2169.21 211.129 2172.66 211.129 Q2176.06 211.129 2178.05 208.444 Q2180.05 205.758 2180.05 201.129 Q2180.05 196.522 2178.05 193.837 Q2176.06 191.129 2172.66 191.129 M2172.66 187.518 Q2178.22 187.518 2181.39 191.129 Q2184.56 194.74 2184.56 201.129 Q2184.56 207.495 2181.39 211.129 Q2178.22 214.74 2172.66 214.74 Q2167.08 214.74 2163.91 211.129 Q2160.76 207.495 2160.76 201.129 Q2160.76 194.74 2163.91 191.129 Q2167.08 187.518 2172.66 187.518 Z\" fill=\"#000000\" fill-rule=\"evenodd\" fill-opacity=\"1\" /><path clip-path=\"url(#clip420)\" d=\"M2208.15 188.907 L2208.15 192.934 Q2206.34 192.009 2204.4 191.546 Q2202.45 191.083 2200.37 191.083 Q2197.2 191.083 2195.6 192.055 Q2194.03 193.027 2194.03 194.971 Q2194.03 196.453 2195.16 197.309 Q2196.3 198.143 2199.72 198.907 L2201.18 199.231 Q2205.72 200.203 2207.61 201.985 Q2209.54 203.745 2209.54 206.916 Q2209.54 210.527 2206.67 212.633 Q2203.82 214.74 2198.82 214.74 Q2196.74 214.74 2194.47 214.323 Q2192.22 213.93 2189.72 213.12 L2189.72 208.721 Q2192.08 209.948 2194.37 210.573 Q2196.67 211.175 2198.91 211.175 Q2201.92 211.175 2203.54 210.157 Q2205.16 209.115 2205.16 207.24 Q2205.16 205.504 2203.98 204.578 Q2202.82 203.652 2198.86 202.796 L2197.38 202.448 Q2193.43 201.615 2191.67 199.902 Q2189.91 198.166 2189.91 195.157 Q2189.91 191.499 2192.5 189.509 Q2195.09 187.518 2199.86 187.518 Q2202.22 187.518 2204.3 187.865 Q2206.39 188.212 2208.15 188.907 Z\" fill=\"#000000\" fill-rule=\"evenodd\" fill-opacity=\"1\" /><path clip-path=\"url(#clip420)\" d=\"M2232.85 188.907 L2232.85 192.934 Q2231.04 192.009 2229.1 191.546 Q2227.15 191.083 2225.07 191.083 Q2221.9 191.083 2220.3 192.055 Q2218.73 193.027 2218.73 194.971 Q2218.73 196.453 2219.86 197.309 Q2220.99 198.143 2224.42 198.907 L2225.88 199.231 Q2230.42 200.203 2232.31 201.985 Q2234.24 203.745 2234.24 206.916 Q2234.24 210.527 2231.36 212.633 Q2228.52 214.74 2223.52 214.74 Q2221.43 214.74 2219.17 214.323 Q2216.92 213.93 2214.42 213.12 L2214.42 208.721 Q2216.78 209.948 2219.07 210.573 Q2221.36 211.175 2223.61 211.175 Q2226.62 211.175 2228.24 210.157 Q2229.86 209.115 2229.86 207.24 Q2229.86 205.504 2228.68 204.578 Q2227.52 203.652 2223.56 202.796 L2222.08 202.448 Q2218.12 201.615 2216.36 199.902 Q2214.61 198.166 2214.61 195.157 Q2214.61 191.499 2217.2 189.509 Q2219.79 187.518 2224.56 187.518 Q2226.92 187.518 2229 187.865 Q2231.09 188.212 2232.85 188.907 Z\" fill=\"#000000\" fill-rule=\"evenodd\" fill-opacity=\"1\" /></svg>\n"
      ]
     },
     "execution_count": 11,
     "metadata": {},
     "output_type": "execute_result"
    }
   ],
   "source": [
    "plot([best_model_b[1,:], best_model_b[2,:]],\n",
    "    labels=[\"trn loss\" \"val loss\" ],xlabel=\"Iterations\",ylabel=\"Loss\")"
   ]
  },
  {
   "cell_type": "code",
   "execution_count": 12,
   "id": "0a0d2bcb",
   "metadata": {},
   "outputs": [
    {
     "data": {
      "image/svg+xml": [
       "<?xml version=\"1.0\" encoding=\"utf-8\"?>\n",
       "<svg xmlns=\"http://www.w3.org/2000/svg\" xmlns:xlink=\"http://www.w3.org/1999/xlink\" width=\"600\" height=\"400\" viewBox=\"0 0 2400 1600\">\n",
       "<defs>\n",
       "  <clipPath id=\"clip460\">\n",
       "    <rect x=\"0\" y=\"0\" width=\"2400\" height=\"1600\"/>\n",
       "  </clipPath>\n",
       "</defs>\n",
       "<path clip-path=\"url(#clip460)\" d=\"\n",
       "M0 1600 L2400 1600 L2400 0 L0 0  Z\n",
       "  \" fill=\"#ffffff\" fill-rule=\"evenodd\" fill-opacity=\"1\"/>\n",
       "<defs>\n",
       "  <clipPath id=\"clip461\">\n",
       "    <rect x=\"480\" y=\"0\" width=\"1681\" height=\"1600\"/>\n",
       "  </clipPath>\n",
       "</defs>\n",
       "<path clip-path=\"url(#clip460)\" d=\"\n",
       "M219.866 1423.18 L2352.76 1423.18 L2352.76 47.2441 L219.866 47.2441  Z\n",
       "  \" fill=\"#ffffff\" fill-rule=\"evenodd\" fill-opacity=\"1\"/>\n",
       "<defs>\n",
       "  <clipPath id=\"clip462\">\n",
       "    <rect x=\"219\" y=\"47\" width=\"2134\" height=\"1377\"/>\n",
       "  </clipPath>\n",
       "</defs>\n",
       "<polyline clip-path=\"url(#clip462)\" style=\"stroke:#000000; stroke-linecap:butt; stroke-linejoin:round; stroke-width:2; stroke-opacity:0.1; fill:none\" points=\"\n",
       "  239.167,1423.18 239.167,47.2441 \n",
       "  \"/>\n",
       "<polyline clip-path=\"url(#clip462)\" style=\"stroke:#000000; stroke-linecap:butt; stroke-linejoin:round; stroke-width:2; stroke-opacity:0.1; fill:none\" points=\"\n",
       "  649.811,1423.18 649.811,47.2441 \n",
       "  \"/>\n",
       "<polyline clip-path=\"url(#clip462)\" style=\"stroke:#000000; stroke-linecap:butt; stroke-linejoin:round; stroke-width:2; stroke-opacity:0.1; fill:none\" points=\"\n",
       "  1060.46,1423.18 1060.46,47.2441 \n",
       "  \"/>\n",
       "<polyline clip-path=\"url(#clip462)\" style=\"stroke:#000000; stroke-linecap:butt; stroke-linejoin:round; stroke-width:2; stroke-opacity:0.1; fill:none\" points=\"\n",
       "  1471.1,1423.18 1471.1,47.2441 \n",
       "  \"/>\n",
       "<polyline clip-path=\"url(#clip462)\" style=\"stroke:#000000; stroke-linecap:butt; stroke-linejoin:round; stroke-width:2; stroke-opacity:0.1; fill:none\" points=\"\n",
       "  1881.75,1423.18 1881.75,47.2441 \n",
       "  \"/>\n",
       "<polyline clip-path=\"url(#clip462)\" style=\"stroke:#000000; stroke-linecap:butt; stroke-linejoin:round; stroke-width:2; stroke-opacity:0.1; fill:none\" points=\"\n",
       "  2292.39,1423.18 2292.39,47.2441 \n",
       "  \"/>\n",
       "<polyline clip-path=\"url(#clip460)\" style=\"stroke:#000000; stroke-linecap:butt; stroke-linejoin:round; stroke-width:4; stroke-opacity:1; fill:none\" points=\"\n",
       "  219.866,1423.18 2352.76,1423.18 \n",
       "  \"/>\n",
       "<polyline clip-path=\"url(#clip460)\" style=\"stroke:#000000; stroke-linecap:butt; stroke-linejoin:round; stroke-width:4; stroke-opacity:1; fill:none\" points=\"\n",
       "  239.167,1423.18 239.167,1404.28 \n",
       "  \"/>\n",
       "<polyline clip-path=\"url(#clip460)\" style=\"stroke:#000000; stroke-linecap:butt; stroke-linejoin:round; stroke-width:4; stroke-opacity:1; fill:none\" points=\"\n",
       "  649.811,1423.18 649.811,1404.28 \n",
       "  \"/>\n",
       "<polyline clip-path=\"url(#clip460)\" style=\"stroke:#000000; stroke-linecap:butt; stroke-linejoin:round; stroke-width:4; stroke-opacity:1; fill:none\" points=\"\n",
       "  1060.46,1423.18 1060.46,1404.28 \n",
       "  \"/>\n",
       "<polyline clip-path=\"url(#clip460)\" style=\"stroke:#000000; stroke-linecap:butt; stroke-linejoin:round; stroke-width:4; stroke-opacity:1; fill:none\" points=\"\n",
       "  1471.1,1423.18 1471.1,1404.28 \n",
       "  \"/>\n",
       "<polyline clip-path=\"url(#clip460)\" style=\"stroke:#000000; stroke-linecap:butt; stroke-linejoin:round; stroke-width:4; stroke-opacity:1; fill:none\" points=\"\n",
       "  1881.75,1423.18 1881.75,1404.28 \n",
       "  \"/>\n",
       "<polyline clip-path=\"url(#clip460)\" style=\"stroke:#000000; stroke-linecap:butt; stroke-linejoin:round; stroke-width:4; stroke-opacity:1; fill:none\" points=\"\n",
       "  2292.39,1423.18 2292.39,1404.28 \n",
       "  \"/>\n",
       "<path clip-path=\"url(#clip460)\" d=\"M239.167 1454.1 Q235.555 1454.1 233.727 1457.66 Q231.921 1461.2 231.921 1468.33 Q231.921 1475.44 233.727 1479.01 Q235.555 1482.55 239.167 1482.55 Q242.801 1482.55 244.606 1479.01 Q246.435 1475.44 246.435 1468.33 Q246.435 1461.2 244.606 1457.66 Q242.801 1454.1 239.167 1454.1 M239.167 1450.39 Q244.977 1450.39 248.032 1455 Q251.111 1459.58 251.111 1468.33 Q251.111 1477.06 248.032 1481.67 Q244.977 1486.25 239.167 1486.25 Q233.356 1486.25 230.278 1481.67 Q227.222 1477.06 227.222 1468.33 Q227.222 1459.58 230.278 1455 Q233.356 1450.39 239.167 1450.39 Z\" fill=\"#000000\" fill-rule=\"evenodd\" fill-opacity=\"1\" /><path clip-path=\"url(#clip460)\" d=\"M624.499 1481.64 L632.138 1481.64 L632.138 1455.28 L623.828 1456.95 L623.828 1452.69 L632.092 1451.02 L636.768 1451.02 L636.768 1481.64 L644.406 1481.64 L644.406 1485.58 L624.499 1485.58 L624.499 1481.64 Z\" fill=\"#000000\" fill-rule=\"evenodd\" fill-opacity=\"1\" /><path clip-path=\"url(#clip460)\" d=\"M663.851 1454.1 Q660.24 1454.1 658.411 1457.66 Q656.605 1461.2 656.605 1468.33 Q656.605 1475.44 658.411 1479.01 Q660.24 1482.55 663.851 1482.55 Q667.485 1482.55 669.291 1479.01 Q671.119 1475.44 671.119 1468.33 Q671.119 1461.2 669.291 1457.66 Q667.485 1454.1 663.851 1454.1 M663.851 1450.39 Q669.661 1450.39 672.716 1455 Q675.795 1459.58 675.795 1468.33 Q675.795 1477.06 672.716 1481.67 Q669.661 1486.25 663.851 1486.25 Q658.041 1486.25 654.962 1481.67 Q651.906 1477.06 651.906 1468.33 Q651.906 1459.58 654.962 1455 Q658.041 1450.39 663.851 1450.39 Z\" fill=\"#000000\" fill-rule=\"evenodd\" fill-opacity=\"1\" /><path clip-path=\"url(#clip460)\" d=\"M1039.23 1481.64 L1055.55 1481.64 L1055.55 1485.58 L1033.6 1485.58 L1033.6 1481.64 Q1036.27 1478.89 1040.85 1474.26 Q1045.46 1469.61 1046.64 1468.27 Q1048.88 1465.74 1049.76 1464.01 Q1050.66 1462.25 1050.66 1460.56 Q1050.66 1457.8 1048.72 1456.07 Q1046.8 1454.33 1043.7 1454.33 Q1041.5 1454.33 1039.04 1455.09 Q1036.61 1455.86 1033.84 1457.41 L1033.84 1452.69 Q1036.66 1451.55 1039.11 1450.97 Q1041.57 1450.39 1043.6 1450.39 Q1048.97 1450.39 1052.17 1453.08 Q1055.36 1455.77 1055.36 1460.26 Q1055.36 1462.39 1054.55 1464.31 Q1053.77 1466.2 1051.66 1468.8 Q1051.08 1469.47 1047.98 1472.69 Q1044.88 1475.88 1039.23 1481.64 Z\" fill=\"#000000\" fill-rule=\"evenodd\" fill-opacity=\"1\" /><path clip-path=\"url(#clip460)\" d=\"M1075.36 1454.1 Q1071.75 1454.1 1069.92 1457.66 Q1068.12 1461.2 1068.12 1468.33 Q1068.12 1475.44 1069.92 1479.01 Q1071.75 1482.55 1075.36 1482.55 Q1079 1482.55 1080.8 1479.01 Q1082.63 1475.44 1082.63 1468.33 Q1082.63 1461.2 1080.8 1457.66 Q1079 1454.1 1075.36 1454.1 M1075.36 1450.39 Q1081.17 1450.39 1084.23 1455 Q1087.31 1459.58 1087.31 1468.33 Q1087.31 1477.06 1084.23 1481.67 Q1081.17 1486.25 1075.36 1486.25 Q1069.55 1486.25 1066.47 1481.67 Q1063.42 1477.06 1063.42 1468.33 Q1063.42 1459.58 1066.47 1455 Q1069.55 1450.39 1075.36 1450.39 Z\" fill=\"#000000\" fill-rule=\"evenodd\" fill-opacity=\"1\" /><path clip-path=\"url(#clip460)\" d=\"M1459.94 1466.95 Q1463.3 1467.66 1465.18 1469.93 Q1467.07 1472.2 1467.07 1475.53 Q1467.07 1480.65 1463.56 1483.45 Q1460.04 1486.25 1453.56 1486.25 Q1451.38 1486.25 1449.06 1485.81 Q1446.77 1485.39 1444.32 1484.54 L1444.32 1480.02 Q1446.26 1481.16 1448.58 1481.74 Q1450.89 1482.32 1453.42 1482.32 Q1457.81 1482.32 1460.11 1480.58 Q1462.42 1478.84 1462.42 1475.53 Q1462.42 1472.48 1460.27 1470.77 Q1458.14 1469.03 1454.32 1469.03 L1450.29 1469.03 L1450.29 1465.19 L1454.5 1465.19 Q1457.95 1465.19 1459.78 1463.82 Q1461.61 1462.43 1461.61 1459.84 Q1461.61 1457.18 1459.71 1455.77 Q1457.84 1454.33 1454.32 1454.33 Q1452.4 1454.33 1450.2 1454.75 Q1448 1455.16 1445.36 1456.04 L1445.36 1451.88 Q1448.02 1451.14 1450.34 1450.77 Q1452.68 1450.39 1454.74 1450.39 Q1460.06 1450.39 1463.16 1452.83 Q1466.26 1455.23 1466.26 1459.35 Q1466.26 1462.22 1464.62 1464.21 Q1462.98 1466.18 1459.94 1466.95 Z\" fill=\"#000000\" fill-rule=\"evenodd\" fill-opacity=\"1\" /><path clip-path=\"url(#clip460)\" d=\"M1485.94 1454.1 Q1482.33 1454.1 1480.5 1457.66 Q1478.69 1461.2 1478.69 1468.33 Q1478.69 1475.44 1480.5 1479.01 Q1482.33 1482.55 1485.94 1482.55 Q1489.57 1482.55 1491.38 1479.01 Q1493.21 1475.44 1493.21 1468.33 Q1493.21 1461.2 1491.38 1457.66 Q1489.57 1454.1 1485.94 1454.1 M1485.94 1450.39 Q1491.75 1450.39 1494.8 1455 Q1497.88 1459.58 1497.88 1468.33 Q1497.88 1477.06 1494.8 1481.67 Q1491.75 1486.25 1485.94 1486.25 Q1480.13 1486.25 1477.05 1481.67 Q1473.99 1477.06 1473.99 1468.33 Q1473.99 1459.58 1477.05 1455 Q1480.13 1450.39 1485.94 1450.39 Z\" fill=\"#000000\" fill-rule=\"evenodd\" fill-opacity=\"1\" /><path clip-path=\"url(#clip460)\" d=\"M1869.92 1455.09 L1858.11 1473.54 L1869.92 1473.54 L1869.92 1455.09 M1868.69 1451.02 L1874.57 1451.02 L1874.57 1473.54 L1879.5 1473.54 L1879.5 1477.43 L1874.57 1477.43 L1874.57 1485.58 L1869.92 1485.58 L1869.92 1477.43 L1854.32 1477.43 L1854.32 1472.92 L1868.69 1451.02 Z\" fill=\"#000000\" fill-rule=\"evenodd\" fill-opacity=\"1\" /><path clip-path=\"url(#clip460)\" d=\"M1897.23 1454.1 Q1893.62 1454.1 1891.79 1457.66 Q1889.99 1461.2 1889.99 1468.33 Q1889.99 1475.44 1891.79 1479.01 Q1893.62 1482.55 1897.23 1482.55 Q1900.87 1482.55 1902.67 1479.01 Q1904.5 1475.44 1904.5 1468.33 Q1904.5 1461.2 1902.67 1457.66 Q1900.87 1454.1 1897.23 1454.1 M1897.23 1450.39 Q1903.04 1450.39 1906.1 1455 Q1909.18 1459.58 1909.18 1468.33 Q1909.18 1477.06 1906.1 1481.67 Q1903.04 1486.25 1897.23 1486.25 Q1891.42 1486.25 1888.34 1481.67 Q1885.29 1477.06 1885.29 1468.33 Q1885.29 1459.58 1888.34 1455 Q1891.42 1450.39 1897.23 1450.39 Z\" fill=\"#000000\" fill-rule=\"evenodd\" fill-opacity=\"1\" /><path clip-path=\"url(#clip460)\" d=\"M2267.09 1451.02 L2285.45 1451.02 L2285.45 1454.96 L2271.37 1454.96 L2271.37 1463.43 Q2272.39 1463.08 2273.41 1462.92 Q2274.43 1462.73 2275.45 1462.73 Q2281.23 1462.73 2284.61 1465.9 Q2287.99 1469.08 2287.99 1474.49 Q2287.99 1480.07 2284.52 1483.17 Q2281.05 1486.25 2274.73 1486.25 Q2272.55 1486.25 2270.28 1485.88 Q2268.04 1485.51 2265.63 1484.77 L2265.63 1480.07 Q2267.72 1481.2 2269.94 1481.76 Q2272.16 1482.32 2274.64 1482.32 Q2278.64 1482.32 2280.98 1480.21 Q2283.32 1478.1 2283.32 1474.49 Q2283.32 1470.88 2280.98 1468.77 Q2278.64 1466.67 2274.64 1466.67 Q2272.76 1466.67 2270.89 1467.08 Q2269.03 1467.5 2267.09 1468.38 L2267.09 1451.02 Z\" fill=\"#000000\" fill-rule=\"evenodd\" fill-opacity=\"1\" /><path clip-path=\"url(#clip460)\" d=\"M2307.21 1454.1 Q2303.59 1454.1 2301.77 1457.66 Q2299.96 1461.2 2299.96 1468.33 Q2299.96 1475.44 2301.77 1479.01 Q2303.59 1482.55 2307.21 1482.55 Q2310.84 1482.55 2312.65 1479.01 Q2314.47 1475.44 2314.47 1468.33 Q2314.47 1461.2 2312.65 1457.66 Q2310.84 1454.1 2307.21 1454.1 M2307.21 1450.39 Q2313.02 1450.39 2316.07 1455 Q2319.15 1459.58 2319.15 1468.33 Q2319.15 1477.06 2316.07 1481.67 Q2313.02 1486.25 2307.21 1486.25 Q2301.4 1486.25 2298.32 1481.67 Q2295.26 1477.06 2295.26 1468.33 Q2295.26 1459.58 2298.32 1455 Q2301.4 1450.39 2307.21 1450.39 Z\" fill=\"#000000\" fill-rule=\"evenodd\" fill-opacity=\"1\" /><path clip-path=\"url(#clip460)\" d=\"M1135.87 1520.52 L1142.3 1520.52 L1142.3 1568.04 L1135.87 1568.04 L1135.87 1520.52 Z\" fill=\"#000000\" fill-rule=\"evenodd\" fill-opacity=\"1\" /><path clip-path=\"url(#clip460)\" d=\"M1160.64 1522.27 L1160.64 1532.4 L1172.7 1532.4 L1172.7 1536.95 L1160.64 1536.95 L1160.64 1556.3 Q1160.64 1560.66 1161.81 1561.9 Q1163.02 1563.14 1166.68 1563.14 L1172.7 1563.14 L1172.7 1568.04 L1166.68 1568.04 Q1159.9 1568.04 1157.33 1565.53 Q1154.75 1562.98 1154.75 1556.3 L1154.75 1536.95 L1150.45 1536.95 L1150.45 1532.4 L1154.75 1532.4 L1154.75 1522.27 L1160.64 1522.27 Z\" fill=\"#000000\" fill-rule=\"evenodd\" fill-opacity=\"1\" /><path clip-path=\"url(#clip460)\" d=\"M1210.89 1548.76 L1210.89 1551.62 L1183.97 1551.62 Q1184.35 1557.67 1187.59 1560.85 Q1190.87 1564 1196.7 1564 Q1200.07 1564 1203.22 1563.17 Q1206.41 1562.35 1209.52 1560.69 L1209.52 1566.23 Q1206.37 1567.57 1203.06 1568.27 Q1199.75 1568.97 1196.35 1568.97 Q1187.82 1568.97 1182.82 1564 Q1177.86 1559.04 1177.86 1550.57 Q1177.86 1541.82 1182.57 1536.69 Q1187.31 1531.54 1195.33 1531.54 Q1202.52 1531.54 1206.69 1536.18 Q1210.89 1540.8 1210.89 1548.76 M1205.04 1547.04 Q1204.97 1542.23 1202.33 1539.37 Q1199.72 1536.5 1195.39 1536.5 Q1190.49 1536.5 1187.53 1539.27 Q1184.6 1542.04 1184.16 1547.07 L1205.04 1547.04 Z\" fill=\"#000000\" fill-rule=\"evenodd\" fill-opacity=\"1\" /><path clip-path=\"url(#clip460)\" d=\"M1241.16 1537.87 Q1240.18 1537.3 1239 1537.04 Q1237.85 1536.76 1236.45 1536.76 Q1231.49 1536.76 1228.81 1540 Q1226.17 1543.22 1226.17 1549.27 L1226.17 1568.04 L1220.28 1568.04 L1220.28 1532.4 L1226.17 1532.4 L1226.17 1537.93 Q1228.02 1534.69 1230.98 1533.13 Q1233.94 1531.54 1238.17 1531.54 Q1238.78 1531.54 1239.51 1531.63 Q1240.24 1531.7 1241.13 1531.85 L1241.16 1537.87 Z\" fill=\"#000000\" fill-rule=\"evenodd\" fill-opacity=\"1\" /><path clip-path=\"url(#clip460)\" d=\"M1263.51 1550.12 Q1256.41 1550.12 1253.67 1551.75 Q1250.93 1553.37 1250.93 1557.29 Q1250.93 1560.4 1252.97 1562.25 Q1255.04 1564.07 1258.57 1564.07 Q1263.44 1564.07 1266.37 1560.63 Q1269.33 1557.16 1269.33 1551.43 L1269.33 1550.12 L1263.51 1550.12 M1275.19 1547.71 L1275.19 1568.04 L1269.33 1568.04 L1269.33 1562.63 Q1267.33 1565.88 1264.33 1567.44 Q1261.34 1568.97 1257.01 1568.97 Q1251.54 1568.97 1248.29 1565.91 Q1245.08 1562.82 1245.08 1557.67 Q1245.08 1551.65 1249.09 1548.6 Q1253.13 1545.54 1261.12 1545.54 L1269.33 1545.54 L1269.33 1544.97 Q1269.33 1540.93 1266.66 1538.73 Q1264.02 1536.5 1259.21 1536.5 Q1256.15 1536.5 1253.26 1537.23 Q1250.36 1537.97 1247.69 1539.43 L1247.69 1534.02 Q1250.9 1532.78 1253.93 1532.17 Q1256.95 1531.54 1259.81 1531.54 Q1267.55 1531.54 1271.37 1535.55 Q1275.19 1539.56 1275.19 1547.71 Z\" fill=\"#000000\" fill-rule=\"evenodd\" fill-opacity=\"1\" /><path clip-path=\"url(#clip460)\" d=\"M1293.04 1522.27 L1293.04 1532.4 L1305.11 1532.4 L1305.11 1536.95 L1293.04 1536.95 L1293.04 1556.3 Q1293.04 1560.66 1294.22 1561.9 Q1295.43 1563.14 1299.09 1563.14 L1305.11 1563.14 L1305.11 1568.04 L1299.09 1568.04 Q1292.31 1568.04 1289.73 1565.53 Q1287.15 1562.98 1287.15 1556.3 L1287.15 1536.95 L1282.86 1536.95 L1282.86 1532.4 L1287.15 1532.4 L1287.15 1522.27 L1293.04 1522.27 Z\" fill=\"#000000\" fill-rule=\"evenodd\" fill-opacity=\"1\" /><path clip-path=\"url(#clip460)\" d=\"M1312.81 1532.4 L1318.66 1532.4 L1318.66 1568.04 L1312.81 1568.04 L1312.81 1532.4 M1312.81 1518.52 L1318.66 1518.52 L1318.66 1525.93 L1312.81 1525.93 L1312.81 1518.52 Z\" fill=\"#000000\" fill-rule=\"evenodd\" fill-opacity=\"1\" /><path clip-path=\"url(#clip460)\" d=\"M1344.73 1536.5 Q1340.02 1536.5 1337.28 1540.19 Q1334.55 1543.85 1334.55 1550.25 Q1334.55 1556.65 1337.25 1560.34 Q1339.99 1564 1344.73 1564 Q1349.41 1564 1352.15 1560.31 Q1354.89 1556.62 1354.89 1550.25 Q1354.89 1543.92 1352.15 1540.23 Q1349.41 1536.5 1344.73 1536.5 M1344.73 1531.54 Q1352.37 1531.54 1356.73 1536.5 Q1361.09 1541.47 1361.09 1550.25 Q1361.09 1559 1356.73 1564 Q1352.37 1568.97 1344.73 1568.97 Q1337.06 1568.97 1332.7 1564 Q1328.37 1559 1328.37 1550.25 Q1328.37 1541.47 1332.7 1536.5 Q1337.06 1531.54 1344.73 1531.54 Z\" fill=\"#000000\" fill-rule=\"evenodd\" fill-opacity=\"1\" /><path clip-path=\"url(#clip460)\" d=\"M1400.43 1546.53 L1400.43 1568.04 L1394.58 1568.04 L1394.58 1546.72 Q1394.58 1541.66 1392.6 1539.14 Q1390.63 1536.63 1386.68 1536.63 Q1381.94 1536.63 1379.2 1539.65 Q1376.47 1542.68 1376.47 1547.9 L1376.47 1568.04 L1370.58 1568.04 L1370.58 1532.4 L1376.47 1532.4 L1376.47 1537.93 Q1378.57 1534.72 1381.4 1533.13 Q1384.26 1531.54 1387.99 1531.54 Q1394.13 1531.54 1397.28 1535.36 Q1400.43 1539.14 1400.43 1546.53 Z\" fill=\"#000000\" fill-rule=\"evenodd\" fill-opacity=\"1\" /><path clip-path=\"url(#clip460)\" d=\"M1434.84 1533.45 L1434.84 1538.98 Q1432.36 1537.71 1429.68 1537.07 Q1427.01 1536.44 1424.14 1536.44 Q1419.78 1536.44 1417.59 1537.77 Q1415.42 1539.11 1415.42 1541.79 Q1415.42 1543.82 1416.98 1545 Q1418.54 1546.15 1423.25 1547.2 L1425.26 1547.64 Q1431.5 1548.98 1434.11 1551.43 Q1436.75 1553.85 1436.75 1558.21 Q1436.75 1563.17 1432.8 1566.07 Q1428.89 1568.97 1422.01 1568.97 Q1419.15 1568.97 1416.03 1568.39 Q1412.94 1567.85 1409.5 1566.74 L1409.5 1560.69 Q1412.75 1562.38 1415.9 1563.24 Q1419.05 1564.07 1422.14 1564.07 Q1426.28 1564.07 1428.51 1562.66 Q1430.73 1561.23 1430.73 1558.65 Q1430.73 1556.27 1429.11 1554.99 Q1427.52 1553.72 1422.08 1552.54 L1420.04 1552.07 Q1414.6 1550.92 1412.18 1548.56 Q1409.76 1546.18 1409.76 1542.04 Q1409.76 1537.01 1413.32 1534.27 Q1416.89 1531.54 1423.44 1531.54 Q1426.69 1531.54 1429.56 1532.01 Q1432.42 1532.49 1434.84 1533.45 Z\" fill=\"#000000\" fill-rule=\"evenodd\" fill-opacity=\"1\" /><polyline clip-path=\"url(#clip462)\" style=\"stroke:#000000; stroke-linecap:butt; stroke-linejoin:round; stroke-width:2; stroke-opacity:0.1; fill:none\" points=\"\n",
       "  219.866,1179.48 2352.76,1179.48 \n",
       "  \"/>\n",
       "<polyline clip-path=\"url(#clip462)\" style=\"stroke:#000000; stroke-linecap:butt; stroke-linejoin:round; stroke-width:2; stroke-opacity:0.1; fill:none\" points=\"\n",
       "  219.866,814.628 2352.76,814.628 \n",
       "  \"/>\n",
       "<polyline clip-path=\"url(#clip462)\" style=\"stroke:#000000; stroke-linecap:butt; stroke-linejoin:round; stroke-width:2; stroke-opacity:0.1; fill:none\" points=\"\n",
       "  219.866,449.773 2352.76,449.773 \n",
       "  \"/>\n",
       "<polyline clip-path=\"url(#clip462)\" style=\"stroke:#000000; stroke-linecap:butt; stroke-linejoin:round; stroke-width:2; stroke-opacity:0.1; fill:none\" points=\"\n",
       "  219.866,84.9188 2352.76,84.9188 \n",
       "  \"/>\n",
       "<polyline clip-path=\"url(#clip460)\" style=\"stroke:#000000; stroke-linecap:butt; stroke-linejoin:round; stroke-width:4; stroke-opacity:1; fill:none\" points=\"\n",
       "  219.866,1423.18 219.866,47.2441 \n",
       "  \"/>\n",
       "<polyline clip-path=\"url(#clip460)\" style=\"stroke:#000000; stroke-linecap:butt; stroke-linejoin:round; stroke-width:4; stroke-opacity:1; fill:none\" points=\"\n",
       "  219.866,1179.48 238.764,1179.48 \n",
       "  \"/>\n",
       "<polyline clip-path=\"url(#clip460)\" style=\"stroke:#000000; stroke-linecap:butt; stroke-linejoin:round; stroke-width:4; stroke-opacity:1; fill:none\" points=\"\n",
       "  219.866,814.628 238.764,814.628 \n",
       "  \"/>\n",
       "<polyline clip-path=\"url(#clip460)\" style=\"stroke:#000000; stroke-linecap:butt; stroke-linejoin:round; stroke-width:4; stroke-opacity:1; fill:none\" points=\"\n",
       "  219.866,449.773 238.764,449.773 \n",
       "  \"/>\n",
       "<polyline clip-path=\"url(#clip460)\" style=\"stroke:#000000; stroke-linecap:butt; stroke-linejoin:round; stroke-width:4; stroke-opacity:1; fill:none\" points=\"\n",
       "  219.866,84.9188 238.764,84.9188 \n",
       "  \"/>\n",
       "<path clip-path=\"url(#clip460)\" d=\"M126.205 1165.28 Q122.593 1165.28 120.765 1168.85 Q118.959 1172.39 118.959 1179.52 Q118.959 1186.62 120.765 1190.19 Q122.593 1193.73 126.205 1193.73 Q129.839 1193.73 131.644 1190.19 Q133.473 1186.62 133.473 1179.52 Q133.473 1172.39 131.644 1168.85 Q129.839 1165.28 126.205 1165.28 M126.205 1161.58 Q132.015 1161.58 135.07 1166.18 Q138.149 1170.77 138.149 1179.52 Q138.149 1188.24 135.07 1192.85 Q132.015 1197.43 126.205 1197.43 Q120.394 1197.43 117.316 1192.85 Q114.26 1188.24 114.26 1179.52 Q114.26 1170.77 117.316 1166.18 Q120.394 1161.58 126.205 1161.58 Z\" fill=\"#000000\" fill-rule=\"evenodd\" fill-opacity=\"1\" /><path clip-path=\"url(#clip460)\" d=\"M146.366 1190.88 L151.251 1190.88 L151.251 1196.76 L146.366 1196.76 L146.366 1190.88 Z\" fill=\"#000000\" fill-rule=\"evenodd\" fill-opacity=\"1\" /><path clip-path=\"url(#clip460)\" d=\"M174.283 1166.28 L162.477 1184.73 L174.283 1184.73 L174.283 1166.28 M173.056 1162.2 L178.936 1162.2 L178.936 1184.73 L183.866 1184.73 L183.866 1188.61 L178.936 1188.61 L178.936 1196.76 L174.283 1196.76 L174.283 1188.61 L158.681 1188.61 L158.681 1184.1 L173.056 1162.2 Z\" fill=\"#000000\" fill-rule=\"evenodd\" fill-opacity=\"1\" /><path clip-path=\"url(#clip460)\" d=\"M126.529 800.427 Q122.918 800.427 121.089 803.991 Q119.283 807.533 119.283 814.663 Q119.283 821.769 121.089 825.334 Q122.918 828.876 126.529 828.876 Q130.163 828.876 131.968 825.334 Q133.797 821.769 133.797 814.663 Q133.797 807.533 131.968 803.991 Q130.163 800.427 126.529 800.427 M126.529 796.723 Q132.339 796.723 135.394 801.329 Q138.473 805.913 138.473 814.663 Q138.473 823.39 135.394 827.996 Q132.339 832.579 126.529 832.579 Q120.718 832.579 117.64 827.996 Q114.584 823.39 114.584 814.663 Q114.584 805.913 117.64 801.329 Q120.718 796.723 126.529 796.723 Z\" fill=\"#000000\" fill-rule=\"evenodd\" fill-opacity=\"1\" /><path clip-path=\"url(#clip460)\" d=\"M146.691 826.028 L151.575 826.028 L151.575 831.908 L146.691 831.908 L146.691 826.028 Z\" fill=\"#000000\" fill-rule=\"evenodd\" fill-opacity=\"1\" /><path clip-path=\"url(#clip460)\" d=\"M172.339 812.765 Q169.19 812.765 167.339 814.917 Q165.51 817.07 165.51 820.82 Q165.51 824.547 167.339 826.723 Q169.19 828.876 172.339 828.876 Q175.487 828.876 177.315 826.723 Q179.167 824.547 179.167 820.82 Q179.167 817.07 177.315 814.917 Q175.487 812.765 172.339 812.765 M181.621 798.112 L181.621 802.371 Q179.862 801.538 178.056 801.098 Q176.274 800.658 174.514 800.658 Q169.885 800.658 167.431 803.783 Q165.001 806.908 164.653 813.228 Q166.019 811.214 168.079 810.149 Q170.139 809.061 172.616 809.061 Q177.825 809.061 180.834 812.232 Q183.866 815.38 183.866 820.82 Q183.866 826.144 180.718 829.362 Q177.57 832.579 172.339 832.579 Q166.343 832.579 163.172 827.996 Q160.001 823.39 160.001 814.663 Q160.001 806.468 163.89 801.607 Q167.778 796.723 174.329 796.723 Q176.089 796.723 177.871 797.07 Q179.676 797.417 181.621 798.112 Z\" fill=\"#000000\" fill-rule=\"evenodd\" fill-opacity=\"1\" /><path clip-path=\"url(#clip460)\" d=\"M126.783 435.572 Q123.172 435.572 121.343 439.137 Q119.538 442.679 119.538 449.808 Q119.538 456.915 121.343 460.479 Q123.172 464.021 126.783 464.021 Q130.417 464.021 132.223 460.479 Q134.052 456.915 134.052 449.808 Q134.052 442.679 132.223 439.137 Q130.417 435.572 126.783 435.572 M126.783 431.868 Q132.593 431.868 135.649 436.475 Q138.728 441.058 138.728 449.808 Q138.728 458.535 135.649 463.141 Q132.593 467.725 126.783 467.725 Q120.973 467.725 117.894 463.141 Q114.839 458.535 114.839 449.808 Q114.839 441.058 117.894 436.475 Q120.973 431.868 126.783 431.868 Z\" fill=\"#000000\" fill-rule=\"evenodd\" fill-opacity=\"1\" /><path clip-path=\"url(#clip460)\" d=\"M146.945 461.174 L151.829 461.174 L151.829 467.053 L146.945 467.053 L146.945 461.174 Z\" fill=\"#000000\" fill-rule=\"evenodd\" fill-opacity=\"1\" /><path clip-path=\"url(#clip460)\" d=\"M172.014 450.641 Q168.681 450.641 166.76 452.424 Q164.862 454.206 164.862 457.331 Q164.862 460.456 166.76 462.239 Q168.681 464.021 172.014 464.021 Q175.348 464.021 177.269 462.239 Q179.19 460.433 179.19 457.331 Q179.19 454.206 177.269 452.424 Q175.371 450.641 172.014 450.641 M167.339 448.651 Q164.329 447.91 162.64 445.85 Q160.973 443.79 160.973 440.827 Q160.973 436.683 163.913 434.276 Q166.876 431.868 172.014 431.868 Q177.176 431.868 180.116 434.276 Q183.056 436.683 183.056 440.827 Q183.056 443.79 181.366 445.85 Q179.7 447.91 176.714 448.651 Q180.093 449.438 181.968 451.729 Q183.866 454.021 183.866 457.331 Q183.866 462.354 180.788 465.04 Q177.732 467.725 172.014 467.725 Q166.297 467.725 163.218 465.04 Q160.163 462.354 160.163 457.331 Q160.163 454.021 162.061 451.729 Q163.959 449.438 167.339 448.651 M165.626 441.267 Q165.626 443.952 167.292 445.456 Q168.982 446.961 172.014 446.961 Q175.024 446.961 176.714 445.456 Q178.426 443.952 178.426 441.267 Q178.426 438.581 176.714 437.077 Q175.024 435.572 172.014 435.572 Q168.982 435.572 167.292 437.077 Q165.626 438.581 165.626 441.267 Z\" fill=\"#000000\" fill-rule=\"evenodd\" fill-opacity=\"1\" /><path clip-path=\"url(#clip460)\" d=\"M117.501 98.2636 L125.14 98.2636 L125.14 71.898 L116.83 73.5647 L116.83 69.3055 L125.093 67.6388 L129.769 67.6388 L129.769 98.2636 L137.408 98.2636 L137.408 102.199 L117.501 102.199 L117.501 98.2636 Z\" fill=\"#000000\" fill-rule=\"evenodd\" fill-opacity=\"1\" /><path clip-path=\"url(#clip460)\" d=\"M146.853 96.3192 L151.737 96.3192 L151.737 102.199 L146.853 102.199 L146.853 96.3192 Z\" fill=\"#000000\" fill-rule=\"evenodd\" fill-opacity=\"1\" /><path clip-path=\"url(#clip460)\" d=\"M171.922 70.7175 Q168.311 70.7175 166.482 74.2823 Q164.677 77.8239 164.677 84.9535 Q164.677 92.06 166.482 95.6248 Q168.311 99.1664 171.922 99.1664 Q175.556 99.1664 177.362 95.6248 Q179.19 92.06 179.19 84.9535 Q179.19 77.8239 177.362 74.2823 Q175.556 70.7175 171.922 70.7175 M171.922 67.0138 Q177.732 67.0138 180.788 71.6203 Q183.866 76.2036 183.866 84.9535 Q183.866 93.6803 180.788 98.2868 Q177.732 102.87 171.922 102.87 Q166.112 102.87 163.033 98.2868 Q159.978 93.6803 159.978 84.9535 Q159.978 76.2036 163.033 71.6203 Q166.112 67.0138 171.922 67.0138 Z\" fill=\"#000000\" fill-rule=\"evenodd\" fill-opacity=\"1\" /><path clip-path=\"url(#clip460)\" d=\"M22.818 861.014 L46.4666 869.735 L46.4666 852.261 L22.818 861.014 M16.4842 864.643 L16.4842 857.354 L64.0042 839.244 L64.0042 845.928 L51.8138 850.256 L51.8138 871.677 L64.0042 876.005 L64.0042 882.785 L16.4842 864.643 Z\" fill=\"#000000\" fill-rule=\"evenodd\" fill-opacity=\"1\" /><path clip-path=\"url(#clip460)\" d=\"M29.7248 808.052 L35.1993 808.052 Q33.8307 810.534 33.1623 813.049 Q32.4621 815.531 32.4621 818.078 Q32.4621 823.775 36.0905 826.926 Q39.6872 830.077 46.212 830.077 Q52.7369 830.077 56.3653 826.926 Q59.9619 823.775 59.9619 818.078 Q59.9619 815.531 59.2935 813.049 Q58.5933 810.534 57.2247 808.052 L62.6355 808.052 Q63.7814 810.502 64.3543 813.144 Q64.9272 815.754 64.9272 818.714 Q64.9272 826.767 59.8664 831.509 Q54.8057 836.252 46.212 836.252 Q37.491 836.252 32.4939 831.477 Q27.4968 826.671 27.4968 818.332 Q27.4968 815.627 28.0697 813.049 Q28.6108 810.471 29.7248 808.052 Z\" fill=\"#000000\" fill-rule=\"evenodd\" fill-opacity=\"1\" /><path clip-path=\"url(#clip460)\" d=\"M29.7248 772.213 L35.1993 772.213 Q33.8307 774.695 33.1623 777.21 Q32.4621 779.692 32.4621 782.239 Q32.4621 787.936 36.0905 791.087 Q39.6872 794.238 46.212 794.238 Q52.7369 794.238 56.3653 791.087 Q59.9619 787.936 59.9619 782.239 Q59.9619 779.692 59.2935 777.21 Q58.5933 774.695 57.2247 772.213 L62.6355 772.213 Q63.7814 774.663 64.3543 777.305 Q64.9272 779.915 64.9272 782.875 Q64.9272 790.928 59.8664 795.67 Q54.8057 800.413 46.212 800.413 Q37.491 800.413 32.4939 795.638 Q27.4968 790.832 27.4968 782.493 Q27.4968 779.788 28.0697 777.21 Q28.6108 774.632 29.7248 772.213 Z\" fill=\"#000000\" fill-rule=\"evenodd\" fill-opacity=\"1\" /><path clip-path=\"url(#clip460)\" d=\"M49.9359 762.632 L28.3562 762.632 L28.3562 756.776 L49.7131 756.776 Q54.7739 756.776 57.3202 754.802 Q59.8346 752.829 59.8346 748.882 Q59.8346 744.14 56.8109 741.403 Q53.7872 738.634 48.5673 738.634 L28.3562 738.634 L28.3562 732.777 L64.0042 732.777 L64.0042 738.634 L58.5296 738.634 Q61.7762 740.766 63.3676 743.599 Q64.9272 746.4 64.9272 750.124 Q64.9272 756.267 61.1078 759.449 Q57.2883 762.632 49.9359 762.632 M27.4968 747.896 L27.4968 747.896 Z\" fill=\"#000000\" fill-rule=\"evenodd\" fill-opacity=\"1\" /><path clip-path=\"url(#clip460)\" d=\"M33.8307 700.057 Q33.2578 701.044 33.0032 702.222 Q32.7167 703.368 32.7167 704.768 Q32.7167 709.733 35.9632 712.407 Q39.1779 715.049 45.2253 715.049 L64.0042 715.049 L64.0042 720.937 L28.3562 720.937 L28.3562 715.049 L33.8944 715.049 Q30.6479 713.203 29.0883 710.242 Q27.4968 707.282 27.4968 703.049 Q27.4968 702.444 27.5923 701.712 Q27.656 700.98 27.8151 700.089 L33.8307 700.057 Z\" fill=\"#000000\" fill-rule=\"evenodd\" fill-opacity=\"1\" /><path clip-path=\"url(#clip460)\" d=\"M46.0847 677.714 Q46.0847 684.811 47.7079 687.549 Q49.3312 690.286 53.2461 690.286 Q56.3653 690.286 58.2114 688.249 Q60.0256 686.18 60.0256 682.647 Q60.0256 677.777 56.5881 674.849 Q53.1188 671.889 47.3897 671.889 L46.0847 671.889 L46.0847 677.714 M43.6657 666.033 L64.0042 666.033 L64.0042 671.889 L58.5933 671.889 Q61.8398 673.894 63.3994 676.886 Q64.9272 679.878 64.9272 684.207 Q64.9272 689.681 61.8716 692.928 Q58.7843 696.142 53.6281 696.142 Q47.6125 696.142 44.5569 692.132 Q41.5014 688.09 41.5014 680.101 L41.5014 671.889 L40.9285 671.889 Q36.8862 671.889 34.6901 674.563 Q32.4621 677.204 32.4621 682.011 Q32.4621 685.066 33.1941 687.963 Q33.9262 690.859 35.3903 693.533 L29.9795 693.533 Q28.7381 690.318 28.1334 687.294 Q27.4968 684.27 27.4968 681.406 Q27.4968 673.671 31.5072 669.852 Q35.5176 666.033 43.6657 666.033 Z\" fill=\"#000000\" fill-rule=\"evenodd\" fill-opacity=\"1\" /><path clip-path=\"url(#clip460)\" d=\"M29.7248 628.316 L35.1993 628.316 Q33.8307 630.798 33.1623 633.313 Q32.4621 635.796 32.4621 638.342 Q32.4621 644.039 36.0905 647.19 Q39.6872 650.341 46.212 650.341 Q52.7369 650.341 56.3653 647.19 Q59.9619 644.039 59.9619 638.342 Q59.9619 635.796 59.2935 633.313 Q58.5933 630.798 57.2247 628.316 L62.6355 628.316 Q63.7814 630.767 64.3543 633.408 Q64.9272 636.018 64.9272 638.978 Q64.9272 647.031 59.8664 651.773 Q54.8057 656.516 46.212 656.516 Q37.491 656.516 32.4939 651.742 Q27.4968 646.936 27.4968 638.596 Q27.4968 635.891 28.0697 633.313 Q28.6108 630.735 29.7248 628.316 Z\" fill=\"#000000\" fill-rule=\"evenodd\" fill-opacity=\"1\" /><path clip-path=\"url(#clip460)\" d=\"M67.3143 603.299 Q73.68 605.781 75.6216 608.137 Q77.5631 610.492 77.5631 614.439 L77.5631 619.117 L72.6615 619.117 L72.6615 615.68 Q72.6615 613.261 71.5157 611.924 Q70.3699 610.587 66.1048 608.964 L63.4312 607.914 L28.3562 622.332 L28.3562 616.126 L56.238 604.986 L28.3562 593.846 L28.3562 587.639 L67.3143 603.299 Z\" fill=\"#000000\" fill-rule=\"evenodd\" fill-opacity=\"1\" /><polyline clip-path=\"url(#clip462)\" style=\"stroke:#009af9; stroke-linecap:butt; stroke-linejoin:round; stroke-width:4; stroke-opacity:1; fill:none\" points=\"\n",
       "  280.231,1349.24 321.296,1077.5 362.36,909.959 403.425,811.778 444.489,721.197 485.554,644.236 526.618,576.459 567.683,517.55 608.747,479.228 649.811,449.14 \n",
       "  690.876,413.985 731.94,382.63 773.005,356.976 814.069,324.355 855.134,308.836 896.198,283.499 937.263,269.88 978.327,257.211 1019.39,238.842 1060.46,220.156 \n",
       "  1101.52,213.821 1142.59,204.32 1183.65,182.467 1224.71,174.549 1265.78,161.564 1306.84,158.08 1347.91,147.945 1388.97,139.394 1430.04,131.792 1471.1,129.575 \n",
       "  1512.17,129.575 1553.23,127.675 1594.29,115.007 1635.36,109.939 1676.42,105.189 1717.49,104.555 1758.55,99.8043 1799.62,102.338 1840.68,95.0537 1881.75,93.7868 \n",
       "  1922.81,91.5698 1963.88,90.6197 2004.94,90.3029 2046,90.9364 2087.07,89.9862 2128.13,88.4027 2169.2,87.1358 2210.26,87.1358 2251.33,86.8191 2292.39,86.1857 \n",
       "  \n",
       "  \"/>\n",
       "<polyline clip-path=\"url(#clip462)\" style=\"stroke:#e26f46; stroke-linecap:butt; stroke-linejoin:round; stroke-width:4; stroke-opacity:1; fill:none\" points=\"\n",
       "  280.231,1384.24 321.296,1092.07 362.36,968.551 403.425,847.408 444.489,771.396 485.554,695.385 526.618,628.875 567.683,602.746 608.747,569.491 649.811,562.365 \n",
       "  690.876,540.987 731.94,521.984 773.005,512.483 814.069,507.732 855.134,498.231 896.198,498.231 937.263,481.603 978.327,481.603 1019.39,445.973 1060.46,443.597 \n",
       "  1101.52,436.471 1142.59,448.348 1183.65,441.222 1224.71,429.345 1265.78,424.595 1306.84,424.595 1347.91,429.345 1388.97,422.219 1430.04,426.97 1471.1,405.592 \n",
       "  1512.17,396.09 1553.23,407.967 1594.29,386.589 1635.36,393.715 1676.42,398.466 1717.49,400.841 1758.55,379.463 1799.62,400.841 1840.68,362.835 1881.75,379.463 \n",
       "  1922.81,398.466 1963.88,372.337 2004.94,367.586 2046,379.463 2087.07,386.589 2128.13,362.835 2169.2,372.337 2210.26,367.586 2251.33,367.586 2292.39,350.959 \n",
       "  \n",
       "  \"/>\n",
       "<path clip-path=\"url(#clip460)\" d=\"\n",
       "M1748.26 248.629 L2281.66 248.629 L2281.66 93.1086 L1748.26 93.1086  Z\n",
       "  \" fill=\"#ffffff\" fill-rule=\"evenodd\" fill-opacity=\"1\"/>\n",
       "<polyline clip-path=\"url(#clip460)\" style=\"stroke:#000000; stroke-linecap:butt; stroke-linejoin:round; stroke-width:4; stroke-opacity:1; fill:none\" points=\"\n",
       "  1748.26,248.629 2281.66,248.629 2281.66,93.1086 1748.26,93.1086 1748.26,248.629 \n",
       "  \"/>\n",
       "<polyline clip-path=\"url(#clip460)\" style=\"stroke:#009af9; stroke-linecap:butt; stroke-linejoin:round; stroke-width:4; stroke-opacity:1; fill:none\" points=\"\n",
       "  1771.96,144.949 1914.15,144.949 \n",
       "  \"/>\n",
       "<path clip-path=\"url(#clip460)\" d=\"M1945.26 128.942 L1945.26 136.303 L1954.03 136.303 L1954.03 139.613 L1945.26 139.613 L1945.26 153.687 Q1945.26 156.858 1946.12 157.761 Q1947 158.664 1949.66 158.664 L1954.03 158.664 L1954.03 162.229 L1949.66 162.229 Q1944.73 162.229 1942.85 160.4 Q1940.98 158.548 1940.98 153.687 L1940.98 139.613 L1937.85 139.613 L1937.85 136.303 L1940.98 136.303 L1940.98 128.942 L1945.26 128.942 Z\" fill=\"#000000\" fill-rule=\"evenodd\" fill-opacity=\"1\" /><path clip-path=\"url(#clip460)\" d=\"M1974.66 140.284 Q1973.94 139.868 1973.08 139.682 Q1972.25 139.474 1971.23 139.474 Q1967.62 139.474 1965.68 141.835 Q1963.75 144.173 1963.75 148.571 L1963.75 162.229 L1959.47 162.229 L1959.47 136.303 L1963.75 136.303 L1963.75 140.331 Q1965.1 137.969 1967.25 136.835 Q1969.4 135.678 1972.48 135.678 Q1972.92 135.678 1973.45 135.747 Q1973.99 135.794 1974.63 135.909 L1974.66 140.284 Z\" fill=\"#000000\" fill-rule=\"evenodd\" fill-opacity=\"1\" /><path clip-path=\"url(#clip460)\" d=\"M1999.84 146.581 L1999.84 162.229 L1995.58 162.229 L1995.58 146.719 Q1995.58 143.039 1994.15 141.21 Q1992.71 139.382 1989.84 139.382 Q1986.39 139.382 1984.4 141.581 Q1982.41 143.78 1982.41 147.576 L1982.41 162.229 L1978.13 162.229 L1978.13 136.303 L1982.41 136.303 L1982.41 140.331 Q1983.94 137.993 1986 136.835 Q1988.08 135.678 1990.79 135.678 Q1995.26 135.678 1997.55 138.456 Q1999.84 141.21 1999.84 146.581 Z\" fill=\"#000000\" fill-rule=\"evenodd\" fill-opacity=\"1\" /><path clip-path=\"url(#clip460)\" d=\"M2035.19 149.196 Q2030.03 149.196 2028.04 150.377 Q2026.05 151.557 2026.05 154.405 Q2026.05 156.673 2027.53 158.016 Q2029.03 159.335 2031.6 159.335 Q2035.14 159.335 2037.27 156.835 Q2039.43 154.312 2039.43 150.145 L2039.43 149.196 L2035.19 149.196 M2043.68 147.437 L2043.68 162.229 L2039.43 162.229 L2039.43 158.293 Q2037.97 160.655 2035.79 161.789 Q2033.61 162.9 2030.47 162.9 Q2026.49 162.9 2024.12 160.678 Q2021.79 158.432 2021.79 154.682 Q2021.79 150.307 2024.7 148.085 Q2027.64 145.863 2033.45 145.863 L2039.43 145.863 L2039.43 145.446 Q2039.43 142.507 2037.48 140.909 Q2035.56 139.289 2032.06 139.289 Q2029.84 139.289 2027.74 139.821 Q2025.63 140.354 2023.68 141.419 L2023.68 137.483 Q2026.02 136.581 2028.22 136.141 Q2030.42 135.678 2032.5 135.678 Q2038.13 135.678 2040.91 138.594 Q2043.68 141.511 2043.68 147.437 Z\" fill=\"#000000\" fill-rule=\"evenodd\" fill-opacity=\"1\" /><path clip-path=\"url(#clip460)\" d=\"M2071.11 137.298 L2071.11 141.28 Q2069.31 140.284 2067.48 139.798 Q2065.67 139.289 2063.82 139.289 Q2059.68 139.289 2057.39 141.928 Q2055.1 144.544 2055.1 149.289 Q2055.1 154.034 2057.39 156.673 Q2059.68 159.289 2063.82 159.289 Q2065.67 159.289 2067.48 158.803 Q2069.31 158.293 2071.11 157.298 L2071.11 161.233 Q2069.33 162.067 2067.41 162.483 Q2065.51 162.9 2063.36 162.9 Q2057.5 162.9 2054.05 159.219 Q2050.61 155.539 2050.61 149.289 Q2050.61 142.946 2054.08 139.312 Q2057.57 135.678 2063.64 135.678 Q2065.61 135.678 2067.48 136.095 Q2069.36 136.488 2071.11 137.298 Z\" fill=\"#000000\" fill-rule=\"evenodd\" fill-opacity=\"1\" /><path clip-path=\"url(#clip460)\" d=\"M2097.18 137.298 L2097.18 141.28 Q2095.37 140.284 2093.55 139.798 Q2091.74 139.289 2089.89 139.289 Q2085.74 139.289 2083.45 141.928 Q2081.16 144.544 2081.16 149.289 Q2081.16 154.034 2083.45 156.673 Q2085.74 159.289 2089.89 159.289 Q2091.74 159.289 2093.55 158.803 Q2095.37 158.293 2097.18 157.298 L2097.18 161.233 Q2095.4 162.067 2093.48 162.483 Q2091.58 162.9 2089.42 162.9 Q2083.57 162.9 2080.12 159.219 Q2076.67 155.539 2076.67 149.289 Q2076.67 142.946 2080.14 139.312 Q2083.64 135.678 2089.7 135.678 Q2091.67 135.678 2093.55 136.095 Q2095.42 136.488 2097.18 137.298 Z\" fill=\"#000000\" fill-rule=\"evenodd\" fill-opacity=\"1\" /><path clip-path=\"url(#clip460)\" d=\"M2104.15 151.997 L2104.15 136.303 L2108.41 136.303 L2108.41 151.835 Q2108.41 155.516 2109.84 157.368 Q2111.28 159.196 2114.15 159.196 Q2117.6 159.196 2119.59 156.997 Q2121.6 154.798 2121.6 151.002 L2121.6 136.303 L2125.86 136.303 L2125.86 162.229 L2121.6 162.229 L2121.6 158.247 Q2120.05 160.608 2117.99 161.766 Q2115.95 162.9 2113.24 162.9 Q2108.78 162.9 2106.46 160.122 Q2104.15 157.344 2104.15 151.997 M2114.86 135.678 L2114.86 135.678 Z\" fill=\"#000000\" fill-rule=\"evenodd\" fill-opacity=\"1\" /><path clip-path=\"url(#clip460)\" d=\"M2149.66 140.284 Q2148.94 139.868 2148.08 139.682 Q2147.25 139.474 2146.23 139.474 Q2142.62 139.474 2140.67 141.835 Q2138.75 144.173 2138.75 148.571 L2138.75 162.229 L2134.47 162.229 L2134.47 136.303 L2138.75 136.303 L2138.75 140.331 Q2140.1 137.969 2142.25 136.835 Q2144.4 135.678 2147.48 135.678 Q2147.92 135.678 2148.45 135.747 Q2148.98 135.794 2149.63 135.909 L2149.66 140.284 Z\" fill=\"#000000\" fill-rule=\"evenodd\" fill-opacity=\"1\" /><path clip-path=\"url(#clip460)\" d=\"M2165.91 149.196 Q2160.74 149.196 2158.75 150.377 Q2156.76 151.557 2156.76 154.405 Q2156.76 156.673 2158.24 158.016 Q2159.75 159.335 2162.32 159.335 Q2165.86 159.335 2167.99 156.835 Q2170.14 154.312 2170.14 150.145 L2170.14 149.196 L2165.91 149.196 M2174.4 147.437 L2174.4 162.229 L2170.14 162.229 L2170.14 158.293 Q2168.68 160.655 2166.51 161.789 Q2164.33 162.9 2161.18 162.9 Q2157.2 162.9 2154.84 160.678 Q2152.5 158.432 2152.5 154.682 Q2152.5 150.307 2155.42 148.085 Q2158.36 145.863 2164.17 145.863 L2170.14 145.863 L2170.14 145.446 Q2170.14 142.507 2168.2 140.909 Q2166.28 139.289 2162.78 139.289 Q2160.56 139.289 2158.45 139.821 Q2156.35 140.354 2154.4 141.419 L2154.4 137.483 Q2156.74 136.581 2158.94 136.141 Q2161.14 135.678 2163.22 135.678 Q2168.85 135.678 2171.62 138.594 Q2174.4 141.511 2174.4 147.437 Z\" fill=\"#000000\" fill-rule=\"evenodd\" fill-opacity=\"1\" /><path clip-path=\"url(#clip460)\" d=\"M2201.83 137.298 L2201.83 141.28 Q2200.03 140.284 2198.2 139.798 Q2196.39 139.289 2194.54 139.289 Q2190.4 139.289 2188.1 141.928 Q2185.81 144.544 2185.81 149.289 Q2185.81 154.034 2188.1 156.673 Q2190.4 159.289 2194.54 159.289 Q2196.39 159.289 2198.2 158.803 Q2200.03 158.293 2201.83 157.298 L2201.83 161.233 Q2200.05 162.067 2198.13 162.483 Q2196.23 162.9 2194.08 162.9 Q2188.22 162.9 2184.77 159.219 Q2181.32 155.539 2181.32 149.289 Q2181.32 142.946 2184.79 139.312 Q2188.29 135.678 2194.35 135.678 Q2196.32 135.678 2198.2 136.095 Q2200.07 136.488 2201.83 137.298 Z\" fill=\"#000000\" fill-rule=\"evenodd\" fill-opacity=\"1\" /><path clip-path=\"url(#clip460)\" d=\"M2220.03 164.636 Q2218.22 169.266 2216.51 170.678 Q2214.79 172.09 2211.92 172.09 L2208.52 172.09 L2208.52 168.525 L2211.02 168.525 Q2212.78 168.525 2213.75 167.692 Q2214.73 166.858 2215.91 163.756 L2216.67 161.812 L2206.18 136.303 L2210.7 136.303 L2218.8 156.581 L2226.9 136.303 L2231.41 136.303 L2220.03 164.636 Z\" fill=\"#000000\" fill-rule=\"evenodd\" fill-opacity=\"1\" /><polyline clip-path=\"url(#clip460)\" style=\"stroke:#e26f46; stroke-linecap:butt; stroke-linejoin:round; stroke-width:4; stroke-opacity:1; fill:none\" points=\"\n",
       "  1771.96,196.789 1914.15,196.789 \n",
       "  \"/>\n",
       "<path clip-path=\"url(#clip460)\" d=\"M1937.85 188.143 L1942.37 188.143 L1950.47 209.902 L1958.57 188.143 L1963.08 188.143 L1953.36 214.069 L1947.57 214.069 L1937.85 188.143 Z\" fill=\"#000000\" fill-rule=\"evenodd\" fill-opacity=\"1\" /><path clip-path=\"url(#clip460)\" d=\"M1980.74 201.036 Q1975.58 201.036 1973.59 202.217 Q1971.6 203.397 1971.6 206.245 Q1971.6 208.513 1973.08 209.856 Q1974.59 211.175 1977.16 211.175 Q1980.7 211.175 1982.83 208.675 Q1984.98 206.152 1984.98 201.985 L1984.98 201.036 L1980.74 201.036 M1989.24 199.277 L1989.24 214.069 L1984.98 214.069 L1984.98 210.133 Q1983.52 212.495 1981.35 213.629 Q1979.17 214.74 1976.02 214.74 Q1972.04 214.74 1969.68 212.518 Q1967.34 210.272 1967.34 206.522 Q1967.34 202.147 1970.26 199.925 Q1973.2 197.703 1979.01 197.703 L1984.98 197.703 L1984.98 197.286 Q1984.98 194.347 1983.04 192.749 Q1981.12 191.129 1977.62 191.129 Q1975.4 191.129 1973.29 191.661 Q1971.18 192.194 1969.24 193.259 L1969.24 189.323 Q1971.58 188.421 1973.78 187.981 Q1975.98 187.518 1978.06 187.518 Q1983.68 187.518 1986.46 190.434 Q1989.24 193.351 1989.24 199.277 Z\" fill=\"#000000\" fill-rule=\"evenodd\" fill-opacity=\"1\" /><path clip-path=\"url(#clip460)\" d=\"M1998.01 178.05 L2002.27 178.05 L2002.27 214.069 L1998.01 214.069 L1998.01 178.05 Z\" fill=\"#000000\" fill-rule=\"evenodd\" fill-opacity=\"1\" /><path clip-path=\"url(#clip460)\" d=\"M2038.04 201.036 Q2032.87 201.036 2030.88 202.217 Q2028.89 203.397 2028.89 206.245 Q2028.89 208.513 2030.37 209.856 Q2031.88 211.175 2034.45 211.175 Q2037.99 211.175 2040.12 208.675 Q2042.27 206.152 2042.27 201.985 L2042.27 201.036 L2038.04 201.036 M2046.53 199.277 L2046.53 214.069 L2042.27 214.069 L2042.27 210.133 Q2040.81 212.495 2038.64 213.629 Q2036.46 214.74 2033.31 214.74 Q2029.33 214.74 2026.97 212.518 Q2024.63 210.272 2024.63 206.522 Q2024.63 202.147 2027.55 199.925 Q2030.49 197.703 2036.3 197.703 L2042.27 197.703 L2042.27 197.286 Q2042.27 194.347 2040.33 192.749 Q2038.41 191.129 2034.91 191.129 Q2032.69 191.129 2030.58 191.661 Q2028.48 192.194 2026.53 193.259 L2026.53 189.323 Q2028.87 188.421 2031.07 187.981 Q2033.27 187.518 2035.35 187.518 Q2040.98 187.518 2043.75 190.434 Q2046.53 193.351 2046.53 199.277 Z\" fill=\"#000000\" fill-rule=\"evenodd\" fill-opacity=\"1\" /><path clip-path=\"url(#clip460)\" d=\"M2073.96 189.138 L2073.96 193.12 Q2072.16 192.124 2070.33 191.638 Q2068.52 191.129 2066.67 191.129 Q2062.53 191.129 2060.24 193.768 Q2057.94 196.384 2057.94 201.129 Q2057.94 205.874 2060.24 208.513 Q2062.53 211.129 2066.67 211.129 Q2068.52 211.129 2070.33 210.643 Q2072.16 210.133 2073.96 209.138 L2073.96 213.073 Q2072.18 213.907 2070.26 214.323 Q2068.36 214.74 2066.21 214.74 Q2060.35 214.74 2056.9 211.059 Q2053.45 207.379 2053.45 201.129 Q2053.45 194.786 2056.93 191.152 Q2060.42 187.518 2066.49 187.518 Q2068.45 187.518 2070.33 187.935 Q2072.2 188.328 2073.96 189.138 Z\" fill=\"#000000\" fill-rule=\"evenodd\" fill-opacity=\"1\" /><path clip-path=\"url(#clip460)\" d=\"M2100.03 189.138 L2100.03 193.12 Q2098.22 192.124 2096.39 191.638 Q2094.59 191.129 2092.74 191.129 Q2088.59 191.129 2086.3 193.768 Q2084.01 196.384 2084.01 201.129 Q2084.01 205.874 2086.3 208.513 Q2088.59 211.129 2092.74 211.129 Q2094.59 211.129 2096.39 210.643 Q2098.22 210.133 2100.03 209.138 L2100.03 213.073 Q2098.24 213.907 2096.32 214.323 Q2094.42 214.74 2092.27 214.74 Q2086.42 214.74 2082.97 211.059 Q2079.52 207.379 2079.52 201.129 Q2079.52 194.786 2082.99 191.152 Q2086.49 187.518 2092.55 187.518 Q2094.52 187.518 2096.39 187.935 Q2098.27 188.328 2100.03 189.138 Z\" fill=\"#000000\" fill-rule=\"evenodd\" fill-opacity=\"1\" /><path clip-path=\"url(#clip460)\" d=\"M2106.99 203.837 L2106.99 188.143 L2111.25 188.143 L2111.25 203.675 Q2111.25 207.356 2112.69 209.208 Q2114.12 211.036 2116.99 211.036 Q2120.44 211.036 2122.43 208.837 Q2124.45 206.638 2124.45 202.842 L2124.45 188.143 L2128.71 188.143 L2128.71 214.069 L2124.45 214.069 L2124.45 210.087 Q2122.9 212.448 2120.84 213.606 Q2118.8 214.74 2116.09 214.74 Q2111.62 214.74 2109.31 211.962 Q2106.99 209.184 2106.99 203.837 M2117.71 187.518 L2117.71 187.518 Z\" fill=\"#000000\" fill-rule=\"evenodd\" fill-opacity=\"1\" /><path clip-path=\"url(#clip460)\" d=\"M2152.5 192.124 Q2151.79 191.708 2150.93 191.522 Q2150.1 191.314 2149.08 191.314 Q2145.47 191.314 2143.52 193.675 Q2141.6 196.013 2141.6 200.411 L2141.6 214.069 L2137.32 214.069 L2137.32 188.143 L2141.6 188.143 L2141.6 192.171 Q2142.94 189.809 2145.1 188.675 Q2147.25 187.518 2150.33 187.518 Q2150.77 187.518 2151.3 187.587 Q2151.83 187.634 2152.48 187.749 L2152.5 192.124 Z\" fill=\"#000000\" fill-rule=\"evenodd\" fill-opacity=\"1\" /><path clip-path=\"url(#clip460)\" d=\"M2168.75 201.036 Q2163.59 201.036 2161.6 202.217 Q2159.61 203.397 2159.61 206.245 Q2159.61 208.513 2161.09 209.856 Q2162.6 211.175 2165.17 211.175 Q2168.71 211.175 2170.84 208.675 Q2172.99 206.152 2172.99 201.985 L2172.99 201.036 L2168.75 201.036 M2177.25 199.277 L2177.25 214.069 L2172.99 214.069 L2172.99 210.133 Q2171.53 212.495 2169.35 213.629 Q2167.18 214.74 2164.03 214.74 Q2160.05 214.74 2157.69 212.518 Q2155.35 210.272 2155.35 206.522 Q2155.35 202.147 2158.27 199.925 Q2161.21 197.703 2167.02 197.703 L2172.99 197.703 L2172.99 197.286 Q2172.99 194.347 2171.04 192.749 Q2169.12 191.129 2165.63 191.129 Q2163.41 191.129 2161.3 191.661 Q2159.19 192.194 2157.25 193.259 L2157.25 189.323 Q2159.59 188.421 2161.79 187.981 Q2163.98 187.518 2166.07 187.518 Q2171.69 187.518 2174.47 190.434 Q2177.25 193.351 2177.25 199.277 Z\" fill=\"#000000\" fill-rule=\"evenodd\" fill-opacity=\"1\" /><path clip-path=\"url(#clip460)\" d=\"M2204.68 189.138 L2204.68 193.12 Q2202.87 192.124 2201.04 191.638 Q2199.24 191.129 2197.39 191.129 Q2193.24 191.129 2190.95 193.768 Q2188.66 196.384 2188.66 201.129 Q2188.66 205.874 2190.95 208.513 Q2193.24 211.129 2197.39 211.129 Q2199.24 211.129 2201.04 210.643 Q2202.87 210.133 2204.68 209.138 L2204.68 213.073 Q2202.9 213.907 2200.98 214.323 Q2199.08 214.74 2196.92 214.74 Q2191.07 214.74 2187.62 211.059 Q2184.17 207.379 2184.17 201.129 Q2184.17 194.786 2187.64 191.152 Q2191.14 187.518 2197.2 187.518 Q2199.17 187.518 2201.04 187.935 Q2202.92 188.328 2204.68 189.138 Z\" fill=\"#000000\" fill-rule=\"evenodd\" fill-opacity=\"1\" /><path clip-path=\"url(#clip460)\" d=\"M2222.87 216.476 Q2221.07 221.106 2219.35 222.518 Q2217.64 223.93 2214.77 223.93 L2211.37 223.93 L2211.37 220.365 L2213.87 220.365 Q2215.63 220.365 2216.6 219.532 Q2217.57 218.698 2218.75 215.596 L2219.52 213.652 L2209.03 188.143 L2213.54 188.143 L2221.65 208.421 L2229.75 188.143 L2234.26 188.143 L2222.87 216.476 Z\" fill=\"#000000\" fill-rule=\"evenodd\" fill-opacity=\"1\" /></svg>\n"
      ]
     },
     "execution_count": 12,
     "metadata": {},
     "output_type": "execute_result"
    }
   ],
   "source": [
    "plot([best_model_b[3,:], best_model_b[4,:]],\n",
    "    labels=[\"trn accuracy\" \"val accuracy\" ],xlabel=\"Iterations\",ylabel=\"Accuracy\")"
   ]
  },
  {
   "cell_type": "code",
   "execution_count": null,
   "id": "79a4e73e",
   "metadata": {},
   "outputs": [],
   "source": []
  },
  {
   "cell_type": "code",
   "execution_count": 13,
   "id": "ad4b513d",
   "metadata": {},
   "outputs": [],
   "source": [
    "best_model_gs = load(\"/Users/ufukaltun/Documents/koç/dersler/ku deep learning/project_final/results_gs_target_photo.jld2\")[\"results\"];"
   ]
  },
  {
   "cell_type": "code",
   "execution_count": 14,
   "id": "3fd96b89",
   "metadata": {},
   "outputs": [],
   "source": [
    "best_model_gs = reshape(collect(Float32,flatten(best_model_gs)),(4,:));"
   ]
  },
  {
   "cell_type": "code",
   "execution_count": 15,
   "id": "22243375",
   "metadata": {},
   "outputs": [
    {
     "data": {
      "image/svg+xml": [
       "<?xml version=\"1.0\" encoding=\"utf-8\"?>\n",
       "<svg xmlns=\"http://www.w3.org/2000/svg\" xmlns:xlink=\"http://www.w3.org/1999/xlink\" width=\"600\" height=\"400\" viewBox=\"0 0 2400 1600\">\n",
       "<defs>\n",
       "  <clipPath id=\"clip500\">\n",
       "    <rect x=\"0\" y=\"0\" width=\"2400\" height=\"1600\"/>\n",
       "  </clipPath>\n",
       "</defs>\n",
       "<path clip-path=\"url(#clip500)\" d=\"\n",
       "M0 1600 L2400 1600 L2400 0 L0 0  Z\n",
       "  \" fill=\"#ffffff\" fill-rule=\"evenodd\" fill-opacity=\"1\"/>\n",
       "<defs>\n",
       "  <clipPath id=\"clip501\">\n",
       "    <rect x=\"480\" y=\"0\" width=\"1681\" height=\"1600\"/>\n",
       "  </clipPath>\n",
       "</defs>\n",
       "<path clip-path=\"url(#clip500)\" d=\"\n",
       "M219.195 1423.18 L2352.76 1423.18 L2352.76 47.2441 L219.195 47.2441  Z\n",
       "  \" fill=\"#ffffff\" fill-rule=\"evenodd\" fill-opacity=\"1\"/>\n",
       "<defs>\n",
       "  <clipPath id=\"clip502\">\n",
       "    <rect x=\"219\" y=\"47\" width=\"2135\" height=\"1377\"/>\n",
       "  </clipPath>\n",
       "</defs>\n",
       "<polyline clip-path=\"url(#clip502)\" style=\"stroke:#000000; stroke-linecap:butt; stroke-linejoin:round; stroke-width:2; stroke-opacity:0.1; fill:none\" points=\"\n",
       "  238.501,1423.18 238.501,47.2441 \n",
       "  \"/>\n",
       "<polyline clip-path=\"url(#clip502)\" style=\"stroke:#000000; stroke-linecap:butt; stroke-linejoin:round; stroke-width:2; stroke-opacity:0.1; fill:none\" points=\"\n",
       "  649.276,1423.18 649.276,47.2441 \n",
       "  \"/>\n",
       "<polyline clip-path=\"url(#clip502)\" style=\"stroke:#000000; stroke-linecap:butt; stroke-linejoin:round; stroke-width:2; stroke-opacity:0.1; fill:none\" points=\"\n",
       "  1060.05,1423.18 1060.05,47.2441 \n",
       "  \"/>\n",
       "<polyline clip-path=\"url(#clip502)\" style=\"stroke:#000000; stroke-linecap:butt; stroke-linejoin:round; stroke-width:2; stroke-opacity:0.1; fill:none\" points=\"\n",
       "  1470.82,1423.18 1470.82,47.2441 \n",
       "  \"/>\n",
       "<polyline clip-path=\"url(#clip502)\" style=\"stroke:#000000; stroke-linecap:butt; stroke-linejoin:round; stroke-width:2; stroke-opacity:0.1; fill:none\" points=\"\n",
       "  1881.6,1423.18 1881.6,47.2441 \n",
       "  \"/>\n",
       "<polyline clip-path=\"url(#clip502)\" style=\"stroke:#000000; stroke-linecap:butt; stroke-linejoin:round; stroke-width:2; stroke-opacity:0.1; fill:none\" points=\"\n",
       "  2292.37,1423.18 2292.37,47.2441 \n",
       "  \"/>\n",
       "<polyline clip-path=\"url(#clip500)\" style=\"stroke:#000000; stroke-linecap:butt; stroke-linejoin:round; stroke-width:4; stroke-opacity:1; fill:none\" points=\"\n",
       "  219.195,1423.18 2352.76,1423.18 \n",
       "  \"/>\n",
       "<polyline clip-path=\"url(#clip500)\" style=\"stroke:#000000; stroke-linecap:butt; stroke-linejoin:round; stroke-width:4; stroke-opacity:1; fill:none\" points=\"\n",
       "  238.501,1423.18 238.501,1404.28 \n",
       "  \"/>\n",
       "<polyline clip-path=\"url(#clip500)\" style=\"stroke:#000000; stroke-linecap:butt; stroke-linejoin:round; stroke-width:4; stroke-opacity:1; fill:none\" points=\"\n",
       "  649.276,1423.18 649.276,1404.28 \n",
       "  \"/>\n",
       "<polyline clip-path=\"url(#clip500)\" style=\"stroke:#000000; stroke-linecap:butt; stroke-linejoin:round; stroke-width:4; stroke-opacity:1; fill:none\" points=\"\n",
       "  1060.05,1423.18 1060.05,1404.28 \n",
       "  \"/>\n",
       "<polyline clip-path=\"url(#clip500)\" style=\"stroke:#000000; stroke-linecap:butt; stroke-linejoin:round; stroke-width:4; stroke-opacity:1; fill:none\" points=\"\n",
       "  1470.82,1423.18 1470.82,1404.28 \n",
       "  \"/>\n",
       "<polyline clip-path=\"url(#clip500)\" style=\"stroke:#000000; stroke-linecap:butt; stroke-linejoin:round; stroke-width:4; stroke-opacity:1; fill:none\" points=\"\n",
       "  1881.6,1423.18 1881.6,1404.28 \n",
       "  \"/>\n",
       "<polyline clip-path=\"url(#clip500)\" style=\"stroke:#000000; stroke-linecap:butt; stroke-linejoin:round; stroke-width:4; stroke-opacity:1; fill:none\" points=\"\n",
       "  2292.37,1423.18 2292.37,1404.28 \n",
       "  \"/>\n",
       "<path clip-path=\"url(#clip500)\" d=\"M238.501 1454.1 Q234.89 1454.1 233.062 1457.66 Q231.256 1461.2 231.256 1468.33 Q231.256 1475.44 233.062 1479.01 Q234.89 1482.55 238.501 1482.55 Q242.136 1482.55 243.941 1479.01 Q245.77 1475.44 245.77 1468.33 Q245.77 1461.2 243.941 1457.66 Q242.136 1454.1 238.501 1454.1 M238.501 1450.39 Q244.312 1450.39 247.367 1455 Q250.446 1459.58 250.446 1468.33 Q250.446 1477.06 247.367 1481.67 Q244.312 1486.25 238.501 1486.25 Q232.691 1486.25 229.613 1481.67 Q226.557 1477.06 226.557 1468.33 Q226.557 1459.58 229.613 1455 Q232.691 1450.39 238.501 1450.39 Z\" fill=\"#000000\" fill-rule=\"evenodd\" fill-opacity=\"1\" /><path clip-path=\"url(#clip500)\" d=\"M623.963 1481.64 L631.602 1481.64 L631.602 1455.28 L623.292 1456.95 L623.292 1452.69 L631.556 1451.02 L636.232 1451.02 L636.232 1481.64 L643.87 1481.64 L643.87 1485.58 L623.963 1485.58 L623.963 1481.64 Z\" fill=\"#000000\" fill-rule=\"evenodd\" fill-opacity=\"1\" /><path clip-path=\"url(#clip500)\" d=\"M663.315 1454.1 Q659.704 1454.1 657.875 1457.66 Q656.069 1461.2 656.069 1468.33 Q656.069 1475.44 657.875 1479.01 Q659.704 1482.55 663.315 1482.55 Q666.949 1482.55 668.755 1479.01 Q670.583 1475.44 670.583 1468.33 Q670.583 1461.2 668.755 1457.66 Q666.949 1454.1 663.315 1454.1 M663.315 1450.39 Q669.125 1450.39 672.18 1455 Q675.259 1459.58 675.259 1468.33 Q675.259 1477.06 672.18 1481.67 Q669.125 1486.25 663.315 1486.25 Q657.505 1486.25 654.426 1481.67 Q651.37 1477.06 651.37 1468.33 Q651.37 1459.58 654.426 1455 Q657.505 1450.39 663.315 1450.39 Z\" fill=\"#000000\" fill-rule=\"evenodd\" fill-opacity=\"1\" /><path clip-path=\"url(#clip500)\" d=\"M1038.82 1481.64 L1055.14 1481.64 L1055.14 1485.58 L1033.2 1485.58 L1033.2 1481.64 Q1035.86 1478.89 1040.44 1474.26 Q1045.05 1469.61 1046.23 1468.27 Q1048.48 1465.74 1049.36 1464.01 Q1050.26 1462.25 1050.26 1460.56 Q1050.26 1457.8 1048.31 1456.07 Q1046.39 1454.33 1043.29 1454.33 Q1041.09 1454.33 1038.64 1455.09 Q1036.21 1455.86 1033.43 1457.41 L1033.43 1452.69 Q1036.25 1451.55 1038.71 1450.97 Q1041.16 1450.39 1043.2 1450.39 Q1048.57 1450.39 1051.76 1453.08 Q1054.96 1455.77 1054.96 1460.26 Q1054.96 1462.39 1054.15 1464.31 Q1053.36 1466.2 1051.25 1468.8 Q1050.67 1469.47 1047.57 1472.69 Q1044.47 1475.88 1038.82 1481.64 Z\" fill=\"#000000\" fill-rule=\"evenodd\" fill-opacity=\"1\" /><path clip-path=\"url(#clip500)\" d=\"M1074.96 1454.1 Q1071.35 1454.1 1069.52 1457.66 Q1067.71 1461.2 1067.71 1468.33 Q1067.71 1475.44 1069.52 1479.01 Q1071.35 1482.55 1074.96 1482.55 Q1078.59 1482.55 1080.4 1479.01 Q1082.23 1475.44 1082.23 1468.33 Q1082.23 1461.2 1080.4 1457.66 Q1078.59 1454.1 1074.96 1454.1 M1074.96 1450.39 Q1080.77 1450.39 1083.82 1455 Q1086.9 1459.58 1086.9 1468.33 Q1086.9 1477.06 1083.82 1481.67 Q1080.77 1486.25 1074.96 1486.25 Q1069.15 1486.25 1066.07 1481.67 Q1063.01 1477.06 1063.01 1468.33 Q1063.01 1459.58 1066.07 1455 Q1069.15 1450.39 1074.96 1450.39 Z\" fill=\"#000000\" fill-rule=\"evenodd\" fill-opacity=\"1\" /><path clip-path=\"url(#clip500)\" d=\"M1459.67 1466.95 Q1463.02 1467.66 1464.9 1469.93 Q1466.8 1472.2 1466.8 1475.53 Q1466.8 1480.65 1463.28 1483.45 Q1459.76 1486.25 1453.28 1486.25 Q1451.1 1486.25 1448.79 1485.81 Q1446.5 1485.39 1444.04 1484.54 L1444.04 1480.02 Q1445.99 1481.16 1448.3 1481.74 Q1450.62 1482.32 1453.14 1482.32 Q1457.54 1482.32 1459.83 1480.58 Q1462.14 1478.84 1462.14 1475.53 Q1462.14 1472.48 1459.99 1470.77 Q1457.86 1469.03 1454.04 1469.03 L1450.01 1469.03 L1450.01 1465.19 L1454.23 1465.19 Q1457.68 1465.19 1459.5 1463.82 Q1461.33 1462.43 1461.33 1459.84 Q1461.33 1457.18 1459.43 1455.77 Q1457.56 1454.33 1454.04 1454.33 Q1452.12 1454.33 1449.92 1454.75 Q1447.72 1455.16 1445.08 1456.04 L1445.08 1451.88 Q1447.75 1451.14 1450.06 1450.77 Q1452.4 1450.39 1454.46 1450.39 Q1459.78 1450.39 1462.88 1452.83 Q1465.99 1455.23 1465.99 1459.35 Q1465.99 1462.22 1464.34 1464.21 Q1462.7 1466.18 1459.67 1466.95 Z\" fill=\"#000000\" fill-rule=\"evenodd\" fill-opacity=\"1\" /><path clip-path=\"url(#clip500)\" d=\"M1485.66 1454.1 Q1482.05 1454.1 1480.22 1457.66 Q1478.42 1461.2 1478.42 1468.33 Q1478.42 1475.44 1480.22 1479.01 Q1482.05 1482.55 1485.66 1482.55 Q1489.3 1482.55 1491.1 1479.01 Q1492.93 1475.44 1492.93 1468.33 Q1492.93 1461.2 1491.1 1457.66 Q1489.3 1454.1 1485.66 1454.1 M1485.66 1450.39 Q1491.47 1450.39 1494.53 1455 Q1497.61 1459.58 1497.61 1468.33 Q1497.61 1477.06 1494.53 1481.67 Q1491.47 1486.25 1485.66 1486.25 Q1479.85 1486.25 1476.77 1481.67 Q1473.72 1477.06 1473.72 1468.33 Q1473.72 1459.58 1476.77 1455 Q1479.85 1450.39 1485.66 1450.39 Z\" fill=\"#000000\" fill-rule=\"evenodd\" fill-opacity=\"1\" /><path clip-path=\"url(#clip500)\" d=\"M1869.77 1455.09 L1857.96 1473.54 L1869.77 1473.54 L1869.77 1455.09 M1868.54 1451.02 L1874.42 1451.02 L1874.42 1473.54 L1879.35 1473.54 L1879.35 1477.43 L1874.42 1477.43 L1874.42 1485.58 L1869.77 1485.58 L1869.77 1477.43 L1854.17 1477.43 L1854.17 1472.92 L1868.54 1451.02 Z\" fill=\"#000000\" fill-rule=\"evenodd\" fill-opacity=\"1\" /><path clip-path=\"url(#clip500)\" d=\"M1897.08 1454.1 Q1893.47 1454.1 1891.64 1457.66 Q1889.84 1461.2 1889.84 1468.33 Q1889.84 1475.44 1891.64 1479.01 Q1893.47 1482.55 1897.08 1482.55 Q1900.72 1482.55 1902.52 1479.01 Q1904.35 1475.44 1904.35 1468.33 Q1904.35 1461.2 1902.52 1457.66 Q1900.72 1454.1 1897.08 1454.1 M1897.08 1450.39 Q1902.89 1450.39 1905.95 1455 Q1909.03 1459.58 1909.03 1468.33 Q1909.03 1477.06 1905.95 1481.67 Q1902.89 1486.25 1897.08 1486.25 Q1891.27 1486.25 1888.2 1481.67 Q1885.14 1477.06 1885.14 1468.33 Q1885.14 1459.58 1888.2 1455 Q1891.27 1450.39 1897.08 1450.39 Z\" fill=\"#000000\" fill-rule=\"evenodd\" fill-opacity=\"1\" /><path clip-path=\"url(#clip500)\" d=\"M2267.07 1451.02 L2285.43 1451.02 L2285.43 1454.96 L2271.35 1454.96 L2271.35 1463.43 Q2272.37 1463.08 2273.39 1462.92 Q2274.41 1462.73 2275.43 1462.73 Q2281.21 1462.73 2284.59 1465.9 Q2287.97 1469.08 2287.97 1474.49 Q2287.97 1480.07 2284.5 1483.17 Q2281.03 1486.25 2274.71 1486.25 Q2272.53 1486.25 2270.27 1485.88 Q2268.02 1485.51 2265.61 1484.77 L2265.61 1480.07 Q2267.7 1481.2 2269.92 1481.76 Q2272.14 1482.32 2274.62 1482.32 Q2278.62 1482.32 2280.96 1480.21 Q2283.3 1478.1 2283.3 1474.49 Q2283.3 1470.88 2280.96 1468.77 Q2278.62 1466.67 2274.62 1466.67 Q2272.74 1466.67 2270.87 1467.08 Q2269.02 1467.5 2267.07 1468.38 L2267.07 1451.02 Z\" fill=\"#000000\" fill-rule=\"evenodd\" fill-opacity=\"1\" /><path clip-path=\"url(#clip500)\" d=\"M2307.19 1454.1 Q2303.58 1454.1 2301.75 1457.66 Q2299.94 1461.2 2299.94 1468.33 Q2299.94 1475.44 2301.75 1479.01 Q2303.58 1482.55 2307.19 1482.55 Q2310.82 1482.55 2312.63 1479.01 Q2314.46 1475.44 2314.46 1468.33 Q2314.46 1461.2 2312.63 1457.66 Q2310.82 1454.1 2307.19 1454.1 M2307.19 1450.39 Q2313 1450.39 2316.05 1455 Q2319.13 1459.58 2319.13 1468.33 Q2319.13 1477.06 2316.05 1481.67 Q2313 1486.25 2307.19 1486.25 Q2301.38 1486.25 2298.3 1481.67 Q2295.24 1477.06 2295.24 1468.33 Q2295.24 1459.58 2298.3 1455 Q2301.38 1450.39 2307.19 1450.39 Z\" fill=\"#000000\" fill-rule=\"evenodd\" fill-opacity=\"1\" /><path clip-path=\"url(#clip500)\" d=\"M1135.54 1520.52 L1141.97 1520.52 L1141.97 1568.04 L1135.54 1568.04 L1135.54 1520.52 Z\" fill=\"#000000\" fill-rule=\"evenodd\" fill-opacity=\"1\" /><path clip-path=\"url(#clip500)\" d=\"M1160.3 1522.27 L1160.3 1532.4 L1172.36 1532.4 L1172.36 1536.95 L1160.3 1536.95 L1160.3 1556.3 Q1160.3 1560.66 1161.48 1561.9 Q1162.69 1563.14 1166.35 1563.14 L1172.36 1563.14 L1172.36 1568.04 L1166.35 1568.04 Q1159.57 1568.04 1156.99 1565.53 Q1154.41 1562.98 1154.41 1556.3 L1154.41 1536.95 L1150.12 1536.95 L1150.12 1532.4 L1154.41 1532.4 L1154.41 1522.27 L1160.3 1522.27 Z\" fill=\"#000000\" fill-rule=\"evenodd\" fill-opacity=\"1\" /><path clip-path=\"url(#clip500)\" d=\"M1210.56 1548.76 L1210.56 1551.62 L1183.63 1551.62 Q1184.01 1557.67 1187.26 1560.85 Q1190.54 1564 1196.36 1564 Q1199.74 1564 1202.89 1563.17 Q1206.07 1562.35 1209.19 1560.69 L1209.19 1566.23 Q1206.04 1567.57 1202.73 1568.27 Q1199.42 1568.97 1196.01 1568.97 Q1187.48 1568.97 1182.48 1564 Q1177.52 1559.04 1177.52 1550.57 Q1177.52 1541.82 1182.23 1536.69 Q1186.97 1531.54 1194.99 1531.54 Q1202.19 1531.54 1206.36 1536.18 Q1210.56 1540.8 1210.56 1548.76 M1204.7 1547.04 Q1204.64 1542.23 1202 1539.37 Q1199.39 1536.5 1195.06 1536.5 Q1190.16 1536.5 1187.2 1539.27 Q1184.27 1542.04 1183.82 1547.07 L1204.7 1547.04 Z\" fill=\"#000000\" fill-rule=\"evenodd\" fill-opacity=\"1\" /><path clip-path=\"url(#clip500)\" d=\"M1240.83 1537.87 Q1239.84 1537.3 1238.66 1537.04 Q1237.52 1536.76 1236.12 1536.76 Q1231.15 1536.76 1228.48 1540 Q1225.84 1543.22 1225.84 1549.27 L1225.84 1568.04 L1219.95 1568.04 L1219.95 1532.4 L1225.84 1532.4 L1225.84 1537.93 Q1227.68 1534.69 1230.64 1533.13 Q1233.6 1531.54 1237.83 1531.54 Q1238.44 1531.54 1239.17 1531.63 Q1239.9 1531.7 1240.79 1531.85 L1240.83 1537.87 Z\" fill=\"#000000\" fill-rule=\"evenodd\" fill-opacity=\"1\" /><path clip-path=\"url(#clip500)\" d=\"M1263.17 1550.12 Q1256.07 1550.12 1253.34 1551.75 Q1250.6 1553.37 1250.6 1557.29 Q1250.6 1560.4 1252.64 1562.25 Q1254.7 1564.07 1258.24 1564.07 Q1263.11 1564.07 1266.03 1560.63 Q1268.99 1557.16 1268.99 1551.43 L1268.99 1550.12 L1263.17 1550.12 M1274.85 1547.71 L1274.85 1568.04 L1268.99 1568.04 L1268.99 1562.63 Q1266.99 1565.88 1264 1567.44 Q1261.01 1568.97 1256.68 1568.97 Q1251.2 1568.97 1247.96 1565.91 Q1244.74 1562.82 1244.74 1557.67 Q1244.74 1551.65 1248.75 1548.6 Q1252.79 1545.54 1260.78 1545.54 L1268.99 1545.54 L1268.99 1544.97 Q1268.99 1540.93 1266.32 1538.73 Q1263.68 1536.5 1258.87 1536.5 Q1255.82 1536.5 1252.92 1537.23 Q1250.03 1537.97 1247.35 1539.43 L1247.35 1534.02 Q1250.57 1532.78 1253.59 1532.17 Q1256.61 1531.54 1259.48 1531.54 Q1267.21 1531.54 1271.03 1535.55 Q1274.85 1539.56 1274.85 1547.71 Z\" fill=\"#000000\" fill-rule=\"evenodd\" fill-opacity=\"1\" /><path clip-path=\"url(#clip500)\" d=\"M1292.71 1522.27 L1292.71 1532.4 L1304.77 1532.4 L1304.77 1536.95 L1292.71 1536.95 L1292.71 1556.3 Q1292.71 1560.66 1293.88 1561.9 Q1295.09 1563.14 1298.75 1563.14 L1304.77 1563.14 L1304.77 1568.04 L1298.75 1568.04 Q1291.98 1568.04 1289.4 1565.53 Q1286.82 1562.98 1286.82 1556.3 L1286.82 1536.95 L1282.52 1536.95 L1282.52 1532.4 L1286.82 1532.4 L1286.82 1522.27 L1292.71 1522.27 Z\" fill=\"#000000\" fill-rule=\"evenodd\" fill-opacity=\"1\" /><path clip-path=\"url(#clip500)\" d=\"M1312.47 1532.4 L1318.33 1532.4 L1318.33 1568.04 L1312.47 1568.04 L1312.47 1532.4 M1312.47 1518.52 L1318.33 1518.52 L1318.33 1525.93 L1312.47 1525.93 L1312.47 1518.52 Z\" fill=\"#000000\" fill-rule=\"evenodd\" fill-opacity=\"1\" /><path clip-path=\"url(#clip500)\" d=\"M1344.4 1536.5 Q1339.69 1536.5 1336.95 1540.19 Q1334.21 1543.85 1334.21 1550.25 Q1334.21 1556.65 1336.92 1560.34 Q1339.65 1564 1344.4 1564 Q1349.08 1564 1351.81 1560.31 Q1354.55 1556.62 1354.55 1550.25 Q1354.55 1543.92 1351.81 1540.23 Q1349.08 1536.5 1344.4 1536.5 M1344.4 1531.54 Q1352.04 1531.54 1356.4 1536.5 Q1360.76 1541.47 1360.76 1550.25 Q1360.76 1559 1356.4 1564 Q1352.04 1568.97 1344.4 1568.97 Q1336.73 1568.97 1332.37 1564 Q1328.04 1559 1328.04 1550.25 Q1328.04 1541.47 1332.37 1536.5 Q1336.73 1531.54 1344.4 1531.54 Z\" fill=\"#000000\" fill-rule=\"evenodd\" fill-opacity=\"1\" /><path clip-path=\"url(#clip500)\" d=\"M1400.1 1546.53 L1400.1 1568.04 L1394.24 1568.04 L1394.24 1546.72 Q1394.24 1541.66 1392.27 1539.14 Q1390.29 1536.63 1386.35 1536.63 Q1381.6 1536.63 1378.87 1539.65 Q1376.13 1542.68 1376.13 1547.9 L1376.13 1568.04 L1370.24 1568.04 L1370.24 1532.4 L1376.13 1532.4 L1376.13 1537.93 Q1378.23 1534.72 1381.06 1533.13 Q1383.93 1531.54 1387.65 1531.54 Q1393.79 1531.54 1396.95 1535.36 Q1400.1 1539.14 1400.1 1546.53 Z\" fill=\"#000000\" fill-rule=\"evenodd\" fill-opacity=\"1\" /><path clip-path=\"url(#clip500)\" d=\"M1434.5 1533.45 L1434.5 1538.98 Q1432.02 1537.71 1429.35 1537.07 Q1426.67 1536.44 1423.81 1536.44 Q1419.45 1536.44 1417.25 1537.77 Q1415.09 1539.11 1415.09 1541.79 Q1415.09 1543.82 1416.65 1545 Q1418.21 1546.15 1422.92 1547.2 L1424.92 1547.64 Q1431.16 1548.98 1433.77 1551.43 Q1436.41 1553.85 1436.41 1558.21 Q1436.41 1563.17 1432.47 1566.07 Q1428.55 1568.97 1421.68 1568.97 Q1418.81 1568.97 1415.69 1568.39 Q1412.61 1567.85 1409.17 1566.74 L1409.17 1560.69 Q1412.41 1562.38 1415.57 1563.24 Q1418.72 1564.07 1421.8 1564.07 Q1425.94 1564.07 1428.17 1562.66 Q1430.4 1561.23 1430.4 1558.65 Q1430.4 1556.27 1428.77 1554.99 Q1427.18 1553.72 1421.74 1552.54 L1419.7 1552.07 Q1414.26 1550.92 1411.84 1548.56 Q1409.42 1546.18 1409.42 1542.04 Q1409.42 1537.01 1412.99 1534.27 Q1416.55 1531.54 1423.11 1531.54 Q1426.36 1531.54 1429.22 1532.01 Q1432.08 1532.49 1434.5 1533.45 Z\" fill=\"#000000\" fill-rule=\"evenodd\" fill-opacity=\"1\" /><polyline clip-path=\"url(#clip502)\" style=\"stroke:#000000; stroke-linecap:butt; stroke-linejoin:round; stroke-width:2; stroke-opacity:0.1; fill:none\" points=\"\n",
       "  219.195,1158.28 2352.76,1158.28 \n",
       "  \"/>\n",
       "<polyline clip-path=\"url(#clip502)\" style=\"stroke:#000000; stroke-linecap:butt; stroke-linejoin:round; stroke-width:2; stroke-opacity:0.1; fill:none\" points=\"\n",
       "  219.195,875.492 2352.76,875.492 \n",
       "  \"/>\n",
       "<polyline clip-path=\"url(#clip502)\" style=\"stroke:#000000; stroke-linecap:butt; stroke-linejoin:round; stroke-width:2; stroke-opacity:0.1; fill:none\" points=\"\n",
       "  219.195,592.703 2352.76,592.703 \n",
       "  \"/>\n",
       "<polyline clip-path=\"url(#clip502)\" style=\"stroke:#000000; stroke-linecap:butt; stroke-linejoin:round; stroke-width:2; stroke-opacity:0.1; fill:none\" points=\"\n",
       "  219.195,309.914 2352.76,309.914 \n",
       "  \"/>\n",
       "<polyline clip-path=\"url(#clip500)\" style=\"stroke:#000000; stroke-linecap:butt; stroke-linejoin:round; stroke-width:4; stroke-opacity:1; fill:none\" points=\"\n",
       "  219.195,1423.18 219.195,47.2441 \n",
       "  \"/>\n",
       "<polyline clip-path=\"url(#clip500)\" style=\"stroke:#000000; stroke-linecap:butt; stroke-linejoin:round; stroke-width:4; stroke-opacity:1; fill:none\" points=\"\n",
       "  219.195,1158.28 238.093,1158.28 \n",
       "  \"/>\n",
       "<polyline clip-path=\"url(#clip500)\" style=\"stroke:#000000; stroke-linecap:butt; stroke-linejoin:round; stroke-width:4; stroke-opacity:1; fill:none\" points=\"\n",
       "  219.195,875.492 238.093,875.492 \n",
       "  \"/>\n",
       "<polyline clip-path=\"url(#clip500)\" style=\"stroke:#000000; stroke-linecap:butt; stroke-linejoin:round; stroke-width:4; stroke-opacity:1; fill:none\" points=\"\n",
       "  219.195,592.703 238.093,592.703 \n",
       "  \"/>\n",
       "<polyline clip-path=\"url(#clip500)\" style=\"stroke:#000000; stroke-linecap:butt; stroke-linejoin:round; stroke-width:4; stroke-opacity:1; fill:none\" points=\"\n",
       "  219.195,309.914 238.093,309.914 \n",
       "  \"/>\n",
       "<path clip-path=\"url(#clip500)\" d=\"M126.205 1144.08 Q122.593 1144.08 120.765 1147.64 Q118.959 1151.19 118.959 1158.32 Q118.959 1165.42 120.765 1168.99 Q122.593 1172.53 126.205 1172.53 Q129.839 1172.53 131.644 1168.99 Q133.473 1165.42 133.473 1158.32 Q133.473 1151.19 131.644 1147.64 Q129.839 1144.08 126.205 1144.08 M126.205 1140.38 Q132.015 1140.38 135.07 1144.98 Q138.149 1149.57 138.149 1158.32 Q138.149 1167.04 135.07 1171.65 Q132.015 1176.23 126.205 1176.23 Q120.394 1176.23 117.316 1171.65 Q114.26 1167.04 114.26 1158.32 Q114.26 1149.57 117.316 1144.98 Q120.394 1140.38 126.205 1140.38 Z\" fill=\"#000000\" fill-rule=\"evenodd\" fill-opacity=\"1\" /><path clip-path=\"url(#clip500)\" d=\"M146.366 1169.68 L151.251 1169.68 L151.251 1175.56 L146.366 1175.56 L146.366 1169.68 Z\" fill=\"#000000\" fill-rule=\"evenodd\" fill-opacity=\"1\" /><path clip-path=\"url(#clip500)\" d=\"M161.575 1174.84 L161.575 1170.58 Q163.334 1171.42 165.14 1171.86 Q166.945 1172.3 168.681 1172.3 Q173.311 1172.3 175.741 1169.2 Q178.195 1166.07 178.542 1159.73 Q177.2 1161.72 175.139 1162.78 Q173.079 1163.85 170.579 1163.85 Q165.394 1163.85 162.362 1160.72 Q159.353 1157.58 159.353 1152.14 Q159.353 1146.81 162.501 1143.59 Q165.649 1140.38 170.88 1140.38 Q176.876 1140.38 180.024 1144.98 Q183.195 1149.57 183.195 1158.32 Q183.195 1166.49 179.306 1171.37 Q175.44 1176.23 168.889 1176.23 Q167.13 1176.23 165.325 1175.89 Q163.519 1175.54 161.575 1174.84 M170.88 1160.19 Q174.028 1160.19 175.857 1158.04 Q177.709 1155.89 177.709 1152.14 Q177.709 1148.41 175.857 1146.26 Q174.028 1144.08 170.88 1144.08 Q167.732 1144.08 165.88 1146.26 Q164.052 1148.41 164.052 1152.14 Q164.052 1155.89 165.88 1158.04 Q167.732 1160.19 170.88 1160.19 Z\" fill=\"#000000\" fill-rule=\"evenodd\" fill-opacity=\"1\" /><path clip-path=\"url(#clip500)\" d=\"M118.427 888.837 L126.066 888.837 L126.066 862.471 L117.756 864.138 L117.756 859.879 L126.019 858.212 L130.695 858.212 L130.695 888.837 L138.334 888.837 L138.334 892.772 L118.427 892.772 L118.427 888.837 Z\" fill=\"#000000\" fill-rule=\"evenodd\" fill-opacity=\"1\" /><path clip-path=\"url(#clip500)\" d=\"M147.778 886.892 L152.663 886.892 L152.663 892.772 L147.778 892.772 L147.778 886.892 Z\" fill=\"#000000\" fill-rule=\"evenodd\" fill-opacity=\"1\" /><path clip-path=\"url(#clip500)\" d=\"M166.876 888.837 L183.195 888.837 L183.195 892.772 L161.251 892.772 L161.251 888.837 Q163.913 886.082 168.496 881.453 Q173.102 876.8 174.283 875.457 Q176.528 872.934 177.408 871.198 Q178.311 869.439 178.311 867.749 Q178.311 864.994 176.366 863.258 Q174.445 861.522 171.343 861.522 Q169.144 861.522 166.69 862.286 Q164.26 863.05 161.482 864.601 L161.482 859.879 Q164.306 858.744 166.76 858.166 Q169.214 857.587 171.251 857.587 Q176.621 857.587 179.815 860.272 Q183.01 862.957 183.01 867.448 Q183.01 869.578 182.2 871.499 Q181.413 873.397 179.306 875.99 Q178.727 876.661 175.626 879.879 Q172.524 883.073 166.876 888.837 Z\" fill=\"#000000\" fill-rule=\"evenodd\" fill-opacity=\"1\" /><path clip-path=\"url(#clip500)\" d=\"M117.825 606.048 L125.464 606.048 L125.464 579.682 L117.154 581.349 L117.154 577.09 L125.418 575.423 L130.093 575.423 L130.093 606.048 L137.732 606.048 L137.732 609.983 L117.825 609.983 L117.825 606.048 Z\" fill=\"#000000\" fill-rule=\"evenodd\" fill-opacity=\"1\" /><path clip-path=\"url(#clip500)\" d=\"M147.177 604.103 L152.061 604.103 L152.061 609.983 L147.177 609.983 L147.177 604.103 Z\" fill=\"#000000\" fill-rule=\"evenodd\" fill-opacity=\"1\" /><path clip-path=\"url(#clip500)\" d=\"M162.292 575.423 L180.649 575.423 L180.649 579.358 L166.575 579.358 L166.575 587.83 Q167.593 587.483 168.612 587.321 Q169.63 587.136 170.649 587.136 Q176.436 587.136 179.815 590.307 Q183.195 593.478 183.195 598.895 Q183.195 604.474 179.723 607.576 Q176.251 610.654 169.931 610.654 Q167.755 610.654 165.487 610.284 Q163.241 609.914 160.834 609.173 L160.834 604.474 Q162.917 605.608 165.14 606.164 Q167.362 606.719 169.839 606.719 Q173.843 606.719 176.181 604.613 Q178.519 602.506 178.519 598.895 Q178.519 595.284 176.181 593.178 Q173.843 591.071 169.839 591.071 Q167.964 591.071 166.089 591.488 Q164.237 591.904 162.292 592.784 L162.292 575.423 Z\" fill=\"#000000\" fill-rule=\"evenodd\" fill-opacity=\"1\" /><path clip-path=\"url(#clip500)\" d=\"M116.922 323.259 L124.561 323.259 L124.561 296.893 L116.251 298.56 L116.251 294.301 L124.515 292.634 L129.191 292.634 L129.191 323.259 L136.829 323.259 L136.829 327.194 L116.922 327.194 L116.922 323.259 Z\" fill=\"#000000\" fill-rule=\"evenodd\" fill-opacity=\"1\" /><path clip-path=\"url(#clip500)\" d=\"M146.274 321.314 L151.158 321.314 L151.158 327.194 L146.274 327.194 L146.274 321.314 Z\" fill=\"#000000\" fill-rule=\"evenodd\" fill-opacity=\"1\" /><path clip-path=\"url(#clip500)\" d=\"M171.343 310.782 Q168.01 310.782 166.089 312.564 Q164.19 314.347 164.19 317.472 Q164.19 320.597 166.089 322.379 Q168.01 324.162 171.343 324.162 Q174.677 324.162 176.598 322.379 Q178.519 320.574 178.519 317.472 Q178.519 314.347 176.598 312.564 Q174.7 310.782 171.343 310.782 M166.667 308.791 Q163.658 308.051 161.968 305.99 Q160.302 303.93 160.302 300.967 Q160.302 296.824 163.241 294.416 Q166.204 292.009 171.343 292.009 Q176.505 292.009 179.445 294.416 Q182.385 296.824 182.385 300.967 Q182.385 303.93 180.695 305.99 Q179.028 308.051 176.042 308.791 Q179.422 309.578 181.297 311.87 Q183.195 314.162 183.195 317.472 Q183.195 322.495 180.116 325.18 Q177.061 327.865 171.343 327.865 Q165.626 327.865 162.547 325.18 Q159.491 322.495 159.491 317.472 Q159.491 314.162 161.39 311.87 Q163.288 309.578 166.667 308.791 M164.954 301.407 Q164.954 304.092 166.621 305.597 Q168.311 307.101 171.343 307.101 Q174.352 307.101 176.042 305.597 Q177.755 304.092 177.755 301.407 Q177.755 298.722 176.042 297.217 Q174.352 295.713 171.343 295.713 Q168.311 295.713 166.621 297.217 Q164.954 298.722 164.954 301.407 Z\" fill=\"#000000\" fill-rule=\"evenodd\" fill-opacity=\"1\" /><path clip-path=\"url(#clip500)\" d=\"M16.4842 801.909 L16.4842 795.479 L58.5933 795.479 L58.5933 772.34 L64.0042 772.34 L64.0042 801.909 L16.4842 801.909 Z\" fill=\"#000000\" fill-rule=\"evenodd\" fill-opacity=\"1\" /><path clip-path=\"url(#clip500)\" d=\"M32.4621 753.179 Q32.4621 757.89 36.1542 760.627 Q39.8145 763.364 46.212 763.364 Q52.6095 763.364 56.3017 760.659 Q59.9619 757.922 59.9619 753.179 Q59.9619 748.5 56.2698 745.763 Q52.5777 743.026 46.212 743.026 Q39.8781 743.026 36.186 745.763 Q32.4621 748.5 32.4621 753.179 M27.4968 753.179 Q27.4968 745.54 32.4621 741.18 Q37.4273 736.819 46.212 736.819 Q54.9649 736.819 59.9619 741.18 Q64.9272 745.54 64.9272 753.179 Q64.9272 760.85 59.9619 765.21 Q54.9649 769.539 46.212 769.539 Q37.4273 769.539 32.4621 765.21 Q27.4968 760.85 27.4968 753.179 Z\" fill=\"#000000\" fill-rule=\"evenodd\" fill-opacity=\"1\" /><path clip-path=\"url(#clip500)\" d=\"M29.4065 704.386 L34.9447 704.386 Q33.6716 706.869 33.035 709.542 Q32.3984 712.216 32.3984 715.08 Q32.3984 719.441 33.7352 721.637 Q35.072 723.801 37.7456 723.801 Q39.7826 723.801 40.9603 722.242 Q42.1061 720.682 43.1565 715.972 L43.6021 713.966 Q44.9389 707.728 47.3897 705.118 Q49.8086 702.476 54.1691 702.476 Q59.1344 702.476 62.0308 706.423 Q64.9272 710.338 64.9272 717.213 Q64.9272 720.078 64.3543 723.197 Q63.8132 726.284 62.6992 729.722 L56.6518 729.722 Q58.3387 726.475 59.198 723.324 Q60.0256 720.173 60.0256 717.086 Q60.0256 712.948 58.6251 710.72 Q57.1929 708.492 54.6147 708.492 Q52.2276 708.492 50.9545 710.115 Q49.6813 711.707 48.5037 717.149 L48.0262 719.186 Q46.8804 724.629 44.5251 727.048 Q42.138 729.467 38.0002 729.467 Q32.9713 729.467 30.2341 725.902 Q27.4968 722.337 27.4968 715.781 Q27.4968 712.534 27.9743 709.67 Q28.4517 706.805 29.4065 704.386 Z\" fill=\"#000000\" fill-rule=\"evenodd\" fill-opacity=\"1\" /><path clip-path=\"url(#clip500)\" d=\"M29.4065 670.425 L34.9447 670.425 Q33.6716 672.908 33.035 675.581 Q32.3984 678.255 32.3984 681.119 Q32.3984 685.48 33.7352 687.676 Q35.072 689.84 37.7456 689.84 Q39.7826 689.84 40.9603 688.281 Q42.1061 686.721 43.1565 682.011 L43.6021 680.005 Q44.9389 673.767 47.3897 671.157 Q49.8086 668.515 54.1691 668.515 Q59.1344 668.515 62.0308 672.462 Q64.9272 676.377 64.9272 683.252 Q64.9272 686.116 64.3543 689.236 Q63.8132 692.323 62.6992 695.761 L56.6518 695.761 Q58.3387 692.514 59.198 689.363 Q60.0256 686.212 60.0256 683.125 Q60.0256 678.987 58.6251 676.759 Q57.1929 674.531 54.6147 674.531 Q52.2276 674.531 50.9545 676.154 Q49.6813 677.746 48.5037 683.188 L48.0262 685.225 Q46.8804 690.668 44.5251 693.087 Q42.138 695.506 38.0002 695.506 Q32.9713 695.506 30.2341 691.941 Q27.4968 688.376 27.4968 681.82 Q27.4968 678.573 27.9743 675.709 Q28.4517 672.844 29.4065 670.425 Z\" fill=\"#000000\" fill-rule=\"evenodd\" fill-opacity=\"1\" /><polyline clip-path=\"url(#clip502)\" style=\"stroke:#009af9; stroke-linecap:butt; stroke-linejoin:round; stroke-width:4; stroke-opacity:1; fill:none\" points=\"\n",
       "  279.579,91.7336 320.656,364.983 361.734,522.571 402.811,642.761 443.888,747.89 484.966,838.488 526.043,919.873 567.121,986.774 608.198,1048.42 649.276,1089.25 \n",
       "  690.353,1126.93 731.43,1161.04 772.508,1186.88 813.585,1205.2 854.663,1219.86 895.74,1230.81 936.817,1242.36 977.895,1249.93 1018.97,1255.16 1060.05,1258.03 \n",
       "  1101.13,1257.47 1142.2,1266.28 1183.28,1261.41 1224.36,1264.66 1265.44,1254.05 1306.51,1258.35 1347.59,1254.01 1388.67,1249.37 1429.75,1241.79 1470.82,1252.81 \n",
       "  1511.9,1250.48 1552.98,1241.48 1594.06,1244.27 1635.13,1250.51 1676.21,1241.31 1717.29,1230.29 1758.37,1224.76 1799.44,1231.62 1840.52,1226.4 1881.6,1218.65 \n",
       "  1922.68,1213.2 1963.75,1218.91 2004.83,1201.33 2045.91,1203.06 2086.99,1203.49 2128.06,1197.55 2169.14,1207.75 2210.22,1186.49 2251.29,1192.16 2292.37,1189.33 \n",
       "  \n",
       "  \"/>\n",
       "<polyline clip-path=\"url(#clip502)\" style=\"stroke:#e26f46; stroke-linecap:butt; stroke-linejoin:round; stroke-width:4; stroke-opacity:1; fill:none\" points=\"\n",
       "  279.579,86.1857 320.656,361.918 361.734,523.121 402.811,658.544 443.888,758.024 484.966,865.247 526.043,962.224 567.121,1037.19 608.198,1107.56 649.276,1160.67 \n",
       "  690.353,1189.94 731.43,1225.28 772.508,1252.25 813.585,1280.72 854.663,1293.56 895.74,1318.77 936.817,1319.82 977.895,1348.47 1018.97,1348.56 1060.05,1345.89 \n",
       "  1101.13,1353.39 1142.2,1365.4 1183.28,1360.5 1224.36,1363.6 1265.44,1384.24 1306.51,1359.16 1347.59,1352.71 1388.67,1377.12 1429.75,1366.77 1470.82,1355.16 \n",
       "  1511.9,1358.12 1552.98,1352.89 1594.06,1363.1 1635.13,1359.44 1676.21,1364.52 1717.29,1356.95 1758.37,1343.21 1799.44,1360.62 1840.52,1333.92 1881.6,1360.8 \n",
       "  1922.68,1332.85 1963.75,1353.61 2004.83,1339.86 2045.91,1335.38 2086.99,1300.51 2128.06,1337.72 2169.14,1341.93 2210.22,1310.31 2251.29,1326.74 2292.37,1330.91 \n",
       "  \n",
       "  \"/>\n",
       "<path clip-path=\"url(#clip500)\" d=\"\n",
       "M1871.38 248.629 L2281.64 248.629 L2281.64 93.1086 L1871.38 93.1086  Z\n",
       "  \" fill=\"#ffffff\" fill-rule=\"evenodd\" fill-opacity=\"1\"/>\n",
       "<polyline clip-path=\"url(#clip500)\" style=\"stroke:#000000; stroke-linecap:butt; stroke-linejoin:round; stroke-width:4; stroke-opacity:1; fill:none\" points=\"\n",
       "  1871.38,248.629 2281.64,248.629 2281.64,93.1086 1871.38,93.1086 1871.38,248.629 \n",
       "  \"/>\n",
       "<polyline clip-path=\"url(#clip500)\" style=\"stroke:#009af9; stroke-linecap:butt; stroke-linejoin:round; stroke-width:4; stroke-opacity:1; fill:none\" points=\"\n",
       "  1895.09,144.949 2037.32,144.949 \n",
       "  \"/>\n",
       "<path clip-path=\"url(#clip500)\" d=\"M2068.44 128.942 L2068.44 136.303 L2077.21 136.303 L2077.21 139.613 L2068.44 139.613 L2068.44 153.687 Q2068.44 156.858 2069.3 157.761 Q2070.17 158.664 2072.84 158.664 L2077.21 158.664 L2077.21 162.229 L2072.84 162.229 Q2067.91 162.229 2066.03 160.4 Q2064.16 158.548 2064.16 153.687 L2064.16 139.613 L2061.03 139.613 L2061.03 136.303 L2064.16 136.303 L2064.16 128.942 L2068.44 128.942 Z\" fill=\"#000000\" fill-rule=\"evenodd\" fill-opacity=\"1\" /><path clip-path=\"url(#clip500)\" d=\"M2097.84 140.284 Q2097.12 139.868 2096.26 139.682 Q2095.43 139.474 2094.41 139.474 Q2090.8 139.474 2088.86 141.835 Q2086.93 144.173 2086.93 148.571 L2086.93 162.229 L2082.65 162.229 L2082.65 136.303 L2086.93 136.303 L2086.93 140.331 Q2088.28 137.969 2090.43 136.835 Q2092.58 135.678 2095.66 135.678 Q2096.1 135.678 2096.63 135.747 Q2097.17 135.794 2097.81 135.909 L2097.84 140.284 Z\" fill=\"#000000\" fill-rule=\"evenodd\" fill-opacity=\"1\" /><path clip-path=\"url(#clip500)\" d=\"M2123.02 146.581 L2123.02 162.229 L2118.76 162.229 L2118.76 146.719 Q2118.76 143.039 2117.33 141.21 Q2115.89 139.382 2113.02 139.382 Q2109.57 139.382 2107.58 141.581 Q2105.59 143.78 2105.59 147.576 L2105.59 162.229 L2101.31 162.229 L2101.31 136.303 L2105.59 136.303 L2105.59 140.331 Q2107.12 137.993 2109.18 136.835 Q2111.26 135.678 2113.97 135.678 Q2118.44 135.678 2120.73 138.456 Q2123.02 141.21 2123.02 146.581 Z\" fill=\"#000000\" fill-rule=\"evenodd\" fill-opacity=\"1\" /><path clip-path=\"url(#clip500)\" d=\"M2146.59 126.21 L2150.85 126.21 L2150.85 162.229 L2146.59 162.229 L2146.59 126.21 Z\" fill=\"#000000\" fill-rule=\"evenodd\" fill-opacity=\"1\" /><path clip-path=\"url(#clip500)\" d=\"M2169.8 139.289 Q2166.38 139.289 2164.39 141.974 Q2162.4 144.636 2162.4 149.289 Q2162.4 153.942 2164.36 156.627 Q2166.35 159.289 2169.8 159.289 Q2173.21 159.289 2175.2 156.604 Q2177.19 153.918 2177.19 149.289 Q2177.19 144.682 2175.2 141.997 Q2173.21 139.289 2169.8 139.289 M2169.8 135.678 Q2175.36 135.678 2178.53 139.289 Q2181.7 142.9 2181.7 149.289 Q2181.7 155.655 2178.53 159.289 Q2175.36 162.9 2169.8 162.9 Q2164.23 162.9 2161.05 159.289 Q2157.91 155.655 2157.91 149.289 Q2157.91 142.9 2161.05 139.289 Q2164.23 135.678 2169.8 135.678 Z\" fill=\"#000000\" fill-rule=\"evenodd\" fill-opacity=\"1\" /><path clip-path=\"url(#clip500)\" d=\"M2205.29 137.067 L2205.29 141.094 Q2203.48 140.169 2201.54 139.706 Q2199.6 139.243 2197.51 139.243 Q2194.34 139.243 2192.74 140.215 Q2191.17 141.187 2191.17 143.131 Q2191.17 144.613 2192.3 145.469 Q2193.44 146.303 2196.86 147.067 L2198.32 147.391 Q2202.86 148.363 2204.76 150.145 Q2206.68 151.905 2206.68 155.076 Q2206.68 158.687 2203.81 160.793 Q2200.96 162.9 2195.96 162.9 Q2193.88 162.9 2191.61 162.483 Q2189.36 162.09 2186.86 161.28 L2186.86 156.881 Q2189.22 158.108 2191.52 158.733 Q2193.81 159.335 2196.05 159.335 Q2199.06 159.335 2200.68 158.317 Q2202.3 157.275 2202.3 155.4 Q2202.3 153.664 2201.12 152.738 Q2199.97 151.812 2196.01 150.956 L2194.53 150.608 Q2190.57 149.775 2188.81 148.062 Q2187.05 146.326 2187.05 143.317 Q2187.05 139.659 2189.64 137.669 Q2192.23 135.678 2197 135.678 Q2199.36 135.678 2201.45 136.025 Q2203.53 136.372 2205.29 137.067 Z\" fill=\"#000000\" fill-rule=\"evenodd\" fill-opacity=\"1\" /><path clip-path=\"url(#clip500)\" d=\"M2229.99 137.067 L2229.99 141.094 Q2228.18 140.169 2226.24 139.706 Q2224.29 139.243 2222.21 139.243 Q2219.04 139.243 2217.44 140.215 Q2215.87 141.187 2215.87 143.131 Q2215.87 144.613 2217 145.469 Q2218.14 146.303 2221.56 147.067 L2223.02 147.391 Q2227.56 148.363 2229.46 150.145 Q2231.38 151.905 2231.38 155.076 Q2231.38 158.687 2228.51 160.793 Q2225.66 162.9 2220.66 162.9 Q2218.58 162.9 2216.31 162.483 Q2214.06 162.09 2211.56 161.28 L2211.56 156.881 Q2213.92 158.108 2216.22 158.733 Q2218.51 159.335 2220.75 159.335 Q2223.76 159.335 2225.38 158.317 Q2227 157.275 2227 155.4 Q2227 153.664 2225.82 152.738 Q2224.66 151.812 2220.71 150.956 L2219.22 150.608 Q2215.27 149.775 2213.51 148.062 Q2211.75 146.326 2211.75 143.317 Q2211.75 139.659 2214.34 137.669 Q2216.93 135.678 2221.7 135.678 Q2224.06 135.678 2226.15 136.025 Q2228.23 136.372 2229.99 137.067 Z\" fill=\"#000000\" fill-rule=\"evenodd\" fill-opacity=\"1\" /><polyline clip-path=\"url(#clip500)\" style=\"stroke:#e26f46; stroke-linecap:butt; stroke-linejoin:round; stroke-width:4; stroke-opacity:1; fill:none\" points=\"\n",
       "  1895.09,196.789 2037.32,196.789 \n",
       "  \"/>\n",
       "<path clip-path=\"url(#clip500)\" d=\"M2061.03 188.143 L2065.55 188.143 L2073.65 209.902 L2081.75 188.143 L2086.26 188.143 L2076.54 214.069 L2070.75 214.069 L2061.03 188.143 Z\" fill=\"#000000\" fill-rule=\"evenodd\" fill-opacity=\"1\" /><path clip-path=\"url(#clip500)\" d=\"M2103.92 201.036 Q2098.76 201.036 2096.77 202.217 Q2094.78 203.397 2094.78 206.245 Q2094.78 208.513 2096.26 209.856 Q2097.77 211.175 2100.34 211.175 Q2103.88 211.175 2106.01 208.675 Q2108.16 206.152 2108.16 201.985 L2108.16 201.036 L2103.92 201.036 M2112.42 199.277 L2112.42 214.069 L2108.16 214.069 L2108.16 210.133 Q2106.7 212.495 2104.53 213.629 Q2102.35 214.74 2099.2 214.74 Q2095.22 214.74 2092.86 212.518 Q2090.52 210.272 2090.52 206.522 Q2090.52 202.147 2093.44 199.925 Q2096.38 197.703 2102.19 197.703 L2108.16 197.703 L2108.16 197.286 Q2108.16 194.347 2106.22 192.749 Q2104.29 191.129 2100.8 191.129 Q2098.58 191.129 2096.47 191.661 Q2094.36 192.194 2092.42 193.259 L2092.42 189.323 Q2094.76 188.421 2096.96 187.981 Q2099.16 187.518 2101.24 187.518 Q2106.86 187.518 2109.64 190.434 Q2112.42 193.351 2112.42 199.277 Z\" fill=\"#000000\" fill-rule=\"evenodd\" fill-opacity=\"1\" /><path clip-path=\"url(#clip500)\" d=\"M2121.19 178.05 L2125.45 178.05 L2125.45 214.069 L2121.19 214.069 L2121.19 178.05 Z\" fill=\"#000000\" fill-rule=\"evenodd\" fill-opacity=\"1\" /><path clip-path=\"url(#clip500)\" d=\"M2149.43 178.05 L2153.69 178.05 L2153.69 214.069 L2149.43 214.069 L2149.43 178.05 Z\" fill=\"#000000\" fill-rule=\"evenodd\" fill-opacity=\"1\" /><path clip-path=\"url(#clip500)\" d=\"M2172.65 191.129 Q2169.23 191.129 2167.23 193.814 Q2165.24 196.476 2165.24 201.129 Q2165.24 205.782 2167.21 208.467 Q2169.2 211.129 2172.65 211.129 Q2176.05 211.129 2178.04 208.444 Q2180.04 205.758 2180.04 201.129 Q2180.04 196.522 2178.04 193.837 Q2176.05 191.129 2172.65 191.129 M2172.65 187.518 Q2178.21 187.518 2181.38 191.129 Q2184.55 194.74 2184.55 201.129 Q2184.55 207.495 2181.38 211.129 Q2178.21 214.74 2172.65 214.74 Q2167.07 214.74 2163.9 211.129 Q2160.75 207.495 2160.75 201.129 Q2160.75 194.74 2163.9 191.129 Q2167.07 187.518 2172.65 187.518 Z\" fill=\"#000000\" fill-rule=\"evenodd\" fill-opacity=\"1\" /><path clip-path=\"url(#clip500)\" d=\"M2208.14 188.907 L2208.14 192.934 Q2206.33 192.009 2204.39 191.546 Q2202.44 191.083 2200.36 191.083 Q2197.19 191.083 2195.59 192.055 Q2194.02 193.027 2194.02 194.971 Q2194.02 196.453 2195.15 197.309 Q2196.29 198.143 2199.71 198.907 L2201.17 199.231 Q2205.71 200.203 2207.6 201.985 Q2209.53 203.745 2209.53 206.916 Q2209.53 210.527 2206.66 212.633 Q2203.81 214.74 2198.81 214.74 Q2196.72 214.74 2194.46 214.323 Q2192.21 213.93 2189.71 213.12 L2189.71 208.721 Q2192.07 209.948 2194.36 210.573 Q2196.66 211.175 2198.9 211.175 Q2201.91 211.175 2203.53 210.157 Q2205.15 209.115 2205.15 207.24 Q2205.15 205.504 2203.97 204.578 Q2202.81 203.652 2198.85 202.796 L2197.37 202.448 Q2193.41 201.615 2191.66 199.902 Q2189.9 198.166 2189.9 195.157 Q2189.9 191.499 2192.49 189.509 Q2195.08 187.518 2199.85 187.518 Q2202.21 187.518 2204.29 187.865 Q2206.38 188.212 2208.14 188.907 Z\" fill=\"#000000\" fill-rule=\"evenodd\" fill-opacity=\"1\" /><path clip-path=\"url(#clip500)\" d=\"M2232.84 188.907 L2232.84 192.934 Q2231.03 192.009 2229.09 191.546 Q2227.14 191.083 2225.06 191.083 Q2221.89 191.083 2220.29 192.055 Q2218.72 193.027 2218.72 194.971 Q2218.72 196.453 2219.85 197.309 Q2220.98 198.143 2224.41 198.907 L2225.87 199.231 Q2230.41 200.203 2232.3 201.985 Q2234.22 203.745 2234.22 206.916 Q2234.22 210.527 2231.35 212.633 Q2228.51 214.74 2223.51 214.74 Q2221.42 214.74 2219.16 214.323 Q2216.91 213.93 2214.41 213.12 L2214.41 208.721 Q2216.77 209.948 2219.06 210.573 Q2221.35 211.175 2223.6 211.175 Q2226.61 211.175 2228.23 210.157 Q2229.85 209.115 2229.85 207.24 Q2229.85 205.504 2228.67 204.578 Q2227.51 203.652 2223.55 202.796 L2222.07 202.448 Q2218.11 201.615 2216.35 199.902 Q2214.6 198.166 2214.6 195.157 Q2214.6 191.499 2217.19 189.509 Q2219.78 187.518 2224.55 187.518 Q2226.91 187.518 2228.99 187.865 Q2231.08 188.212 2232.84 188.907 Z\" fill=\"#000000\" fill-rule=\"evenodd\" fill-opacity=\"1\" /></svg>\n"
      ]
     },
     "execution_count": 15,
     "metadata": {},
     "output_type": "execute_result"
    }
   ],
   "source": [
    "plot([best_model_gs[1,:], best_model_gs[2,:]],\n",
    "    labels=[\"trn loss\" \"val loss\" ],xlabel=\"Iterations\",ylabel=\"Loss\")"
   ]
  },
  {
   "cell_type": "code",
   "execution_count": 16,
   "id": "a93181c6",
   "metadata": {},
   "outputs": [
    {
     "data": {
      "image/svg+xml": [
       "<?xml version=\"1.0\" encoding=\"utf-8\"?>\n",
       "<svg xmlns=\"http://www.w3.org/2000/svg\" xmlns:xlink=\"http://www.w3.org/1999/xlink\" width=\"600\" height=\"400\" viewBox=\"0 0 2400 1600\">\n",
       "<defs>\n",
       "  <clipPath id=\"clip540\">\n",
       "    <rect x=\"0\" y=\"0\" width=\"2400\" height=\"1600\"/>\n",
       "  </clipPath>\n",
       "</defs>\n",
       "<path clip-path=\"url(#clip540)\" d=\"\n",
       "M0 1600 L2400 1600 L2400 0 L0 0  Z\n",
       "  \" fill=\"#ffffff\" fill-rule=\"evenodd\" fill-opacity=\"1\"/>\n",
       "<defs>\n",
       "  <clipPath id=\"clip541\">\n",
       "    <rect x=\"480\" y=\"0\" width=\"1681\" height=\"1600\"/>\n",
       "  </clipPath>\n",
       "</defs>\n",
       "<path clip-path=\"url(#clip540)\" d=\"\n",
       "M219.866 1423.18 L2352.76 1423.18 L2352.76 47.2441 L219.866 47.2441  Z\n",
       "  \" fill=\"#ffffff\" fill-rule=\"evenodd\" fill-opacity=\"1\"/>\n",
       "<defs>\n",
       "  <clipPath id=\"clip542\">\n",
       "    <rect x=\"219\" y=\"47\" width=\"2134\" height=\"1377\"/>\n",
       "  </clipPath>\n",
       "</defs>\n",
       "<polyline clip-path=\"url(#clip542)\" style=\"stroke:#000000; stroke-linecap:butt; stroke-linejoin:round; stroke-width:2; stroke-opacity:0.1; fill:none\" points=\"\n",
       "  239.167,1423.18 239.167,47.2441 \n",
       "  \"/>\n",
       "<polyline clip-path=\"url(#clip542)\" style=\"stroke:#000000; stroke-linecap:butt; stroke-linejoin:round; stroke-width:2; stroke-opacity:0.1; fill:none\" points=\"\n",
       "  649.811,1423.18 649.811,47.2441 \n",
       "  \"/>\n",
       "<polyline clip-path=\"url(#clip542)\" style=\"stroke:#000000; stroke-linecap:butt; stroke-linejoin:round; stroke-width:2; stroke-opacity:0.1; fill:none\" points=\"\n",
       "  1060.46,1423.18 1060.46,47.2441 \n",
       "  \"/>\n",
       "<polyline clip-path=\"url(#clip542)\" style=\"stroke:#000000; stroke-linecap:butt; stroke-linejoin:round; stroke-width:2; stroke-opacity:0.1; fill:none\" points=\"\n",
       "  1471.1,1423.18 1471.1,47.2441 \n",
       "  \"/>\n",
       "<polyline clip-path=\"url(#clip542)\" style=\"stroke:#000000; stroke-linecap:butt; stroke-linejoin:round; stroke-width:2; stroke-opacity:0.1; fill:none\" points=\"\n",
       "  1881.75,1423.18 1881.75,47.2441 \n",
       "  \"/>\n",
       "<polyline clip-path=\"url(#clip542)\" style=\"stroke:#000000; stroke-linecap:butt; stroke-linejoin:round; stroke-width:2; stroke-opacity:0.1; fill:none\" points=\"\n",
       "  2292.39,1423.18 2292.39,47.2441 \n",
       "  \"/>\n",
       "<polyline clip-path=\"url(#clip540)\" style=\"stroke:#000000; stroke-linecap:butt; stroke-linejoin:round; stroke-width:4; stroke-opacity:1; fill:none\" points=\"\n",
       "  219.866,1423.18 2352.76,1423.18 \n",
       "  \"/>\n",
       "<polyline clip-path=\"url(#clip540)\" style=\"stroke:#000000; stroke-linecap:butt; stroke-linejoin:round; stroke-width:4; stroke-opacity:1; fill:none\" points=\"\n",
       "  239.167,1423.18 239.167,1404.28 \n",
       "  \"/>\n",
       "<polyline clip-path=\"url(#clip540)\" style=\"stroke:#000000; stroke-linecap:butt; stroke-linejoin:round; stroke-width:4; stroke-opacity:1; fill:none\" points=\"\n",
       "  649.811,1423.18 649.811,1404.28 \n",
       "  \"/>\n",
       "<polyline clip-path=\"url(#clip540)\" style=\"stroke:#000000; stroke-linecap:butt; stroke-linejoin:round; stroke-width:4; stroke-opacity:1; fill:none\" points=\"\n",
       "  1060.46,1423.18 1060.46,1404.28 \n",
       "  \"/>\n",
       "<polyline clip-path=\"url(#clip540)\" style=\"stroke:#000000; stroke-linecap:butt; stroke-linejoin:round; stroke-width:4; stroke-opacity:1; fill:none\" points=\"\n",
       "  1471.1,1423.18 1471.1,1404.28 \n",
       "  \"/>\n",
       "<polyline clip-path=\"url(#clip540)\" style=\"stroke:#000000; stroke-linecap:butt; stroke-linejoin:round; stroke-width:4; stroke-opacity:1; fill:none\" points=\"\n",
       "  1881.75,1423.18 1881.75,1404.28 \n",
       "  \"/>\n",
       "<polyline clip-path=\"url(#clip540)\" style=\"stroke:#000000; stroke-linecap:butt; stroke-linejoin:round; stroke-width:4; stroke-opacity:1; fill:none\" points=\"\n",
       "  2292.39,1423.18 2292.39,1404.28 \n",
       "  \"/>\n",
       "<path clip-path=\"url(#clip540)\" d=\"M239.167 1454.1 Q235.555 1454.1 233.727 1457.66 Q231.921 1461.2 231.921 1468.33 Q231.921 1475.44 233.727 1479.01 Q235.555 1482.55 239.167 1482.55 Q242.801 1482.55 244.606 1479.01 Q246.435 1475.44 246.435 1468.33 Q246.435 1461.2 244.606 1457.66 Q242.801 1454.1 239.167 1454.1 M239.167 1450.39 Q244.977 1450.39 248.032 1455 Q251.111 1459.58 251.111 1468.33 Q251.111 1477.06 248.032 1481.67 Q244.977 1486.25 239.167 1486.25 Q233.356 1486.25 230.278 1481.67 Q227.222 1477.06 227.222 1468.33 Q227.222 1459.58 230.278 1455 Q233.356 1450.39 239.167 1450.39 Z\" fill=\"#000000\" fill-rule=\"evenodd\" fill-opacity=\"1\" /><path clip-path=\"url(#clip540)\" d=\"M624.499 1481.64 L632.138 1481.64 L632.138 1455.28 L623.828 1456.95 L623.828 1452.69 L632.092 1451.02 L636.768 1451.02 L636.768 1481.64 L644.406 1481.64 L644.406 1485.58 L624.499 1485.58 L624.499 1481.64 Z\" fill=\"#000000\" fill-rule=\"evenodd\" fill-opacity=\"1\" /><path clip-path=\"url(#clip540)\" d=\"M663.851 1454.1 Q660.24 1454.1 658.411 1457.66 Q656.605 1461.2 656.605 1468.33 Q656.605 1475.44 658.411 1479.01 Q660.24 1482.55 663.851 1482.55 Q667.485 1482.55 669.291 1479.01 Q671.119 1475.44 671.119 1468.33 Q671.119 1461.2 669.291 1457.66 Q667.485 1454.1 663.851 1454.1 M663.851 1450.39 Q669.661 1450.39 672.716 1455 Q675.795 1459.58 675.795 1468.33 Q675.795 1477.06 672.716 1481.67 Q669.661 1486.25 663.851 1486.25 Q658.041 1486.25 654.962 1481.67 Q651.906 1477.06 651.906 1468.33 Q651.906 1459.58 654.962 1455 Q658.041 1450.39 663.851 1450.39 Z\" fill=\"#000000\" fill-rule=\"evenodd\" fill-opacity=\"1\" /><path clip-path=\"url(#clip540)\" d=\"M1039.23 1481.64 L1055.55 1481.64 L1055.55 1485.58 L1033.6 1485.58 L1033.6 1481.64 Q1036.27 1478.89 1040.85 1474.26 Q1045.46 1469.61 1046.64 1468.27 Q1048.88 1465.74 1049.76 1464.01 Q1050.66 1462.25 1050.66 1460.56 Q1050.66 1457.8 1048.72 1456.07 Q1046.8 1454.33 1043.7 1454.33 Q1041.5 1454.33 1039.04 1455.09 Q1036.61 1455.86 1033.84 1457.41 L1033.84 1452.69 Q1036.66 1451.55 1039.11 1450.97 Q1041.57 1450.39 1043.6 1450.39 Q1048.97 1450.39 1052.17 1453.08 Q1055.36 1455.77 1055.36 1460.26 Q1055.36 1462.39 1054.55 1464.31 Q1053.77 1466.2 1051.66 1468.8 Q1051.08 1469.47 1047.98 1472.69 Q1044.88 1475.88 1039.23 1481.64 Z\" fill=\"#000000\" fill-rule=\"evenodd\" fill-opacity=\"1\" /><path clip-path=\"url(#clip540)\" d=\"M1075.36 1454.1 Q1071.75 1454.1 1069.92 1457.66 Q1068.12 1461.2 1068.12 1468.33 Q1068.12 1475.44 1069.92 1479.01 Q1071.75 1482.55 1075.36 1482.55 Q1079 1482.55 1080.8 1479.01 Q1082.63 1475.44 1082.63 1468.33 Q1082.63 1461.2 1080.8 1457.66 Q1079 1454.1 1075.36 1454.1 M1075.36 1450.39 Q1081.17 1450.39 1084.23 1455 Q1087.31 1459.58 1087.31 1468.33 Q1087.31 1477.06 1084.23 1481.67 Q1081.17 1486.25 1075.36 1486.25 Q1069.55 1486.25 1066.47 1481.67 Q1063.42 1477.06 1063.42 1468.33 Q1063.42 1459.58 1066.47 1455 Q1069.55 1450.39 1075.36 1450.39 Z\" fill=\"#000000\" fill-rule=\"evenodd\" fill-opacity=\"1\" /><path clip-path=\"url(#clip540)\" d=\"M1459.94 1466.95 Q1463.3 1467.66 1465.18 1469.93 Q1467.07 1472.2 1467.07 1475.53 Q1467.07 1480.65 1463.56 1483.45 Q1460.04 1486.25 1453.56 1486.25 Q1451.38 1486.25 1449.06 1485.81 Q1446.77 1485.39 1444.32 1484.54 L1444.32 1480.02 Q1446.26 1481.16 1448.58 1481.74 Q1450.89 1482.32 1453.42 1482.32 Q1457.81 1482.32 1460.11 1480.58 Q1462.42 1478.84 1462.42 1475.53 Q1462.42 1472.48 1460.27 1470.77 Q1458.14 1469.03 1454.32 1469.03 L1450.29 1469.03 L1450.29 1465.19 L1454.5 1465.19 Q1457.95 1465.19 1459.78 1463.82 Q1461.61 1462.43 1461.61 1459.84 Q1461.61 1457.18 1459.71 1455.77 Q1457.84 1454.33 1454.32 1454.33 Q1452.4 1454.33 1450.2 1454.75 Q1448 1455.16 1445.36 1456.04 L1445.36 1451.88 Q1448.02 1451.14 1450.34 1450.77 Q1452.68 1450.39 1454.74 1450.39 Q1460.06 1450.39 1463.16 1452.83 Q1466.26 1455.23 1466.26 1459.35 Q1466.26 1462.22 1464.62 1464.21 Q1462.98 1466.18 1459.94 1466.95 Z\" fill=\"#000000\" fill-rule=\"evenodd\" fill-opacity=\"1\" /><path clip-path=\"url(#clip540)\" d=\"M1485.94 1454.1 Q1482.33 1454.1 1480.5 1457.66 Q1478.69 1461.2 1478.69 1468.33 Q1478.69 1475.44 1480.5 1479.01 Q1482.33 1482.55 1485.94 1482.55 Q1489.57 1482.55 1491.38 1479.01 Q1493.21 1475.44 1493.21 1468.33 Q1493.21 1461.2 1491.38 1457.66 Q1489.57 1454.1 1485.94 1454.1 M1485.94 1450.39 Q1491.75 1450.39 1494.8 1455 Q1497.88 1459.58 1497.88 1468.33 Q1497.88 1477.06 1494.8 1481.67 Q1491.75 1486.25 1485.94 1486.25 Q1480.13 1486.25 1477.05 1481.67 Q1473.99 1477.06 1473.99 1468.33 Q1473.99 1459.58 1477.05 1455 Q1480.13 1450.39 1485.94 1450.39 Z\" fill=\"#000000\" fill-rule=\"evenodd\" fill-opacity=\"1\" /><path clip-path=\"url(#clip540)\" d=\"M1869.92 1455.09 L1858.11 1473.54 L1869.92 1473.54 L1869.92 1455.09 M1868.69 1451.02 L1874.57 1451.02 L1874.57 1473.54 L1879.5 1473.54 L1879.5 1477.43 L1874.57 1477.43 L1874.57 1485.58 L1869.92 1485.58 L1869.92 1477.43 L1854.32 1477.43 L1854.32 1472.92 L1868.69 1451.02 Z\" fill=\"#000000\" fill-rule=\"evenodd\" fill-opacity=\"1\" /><path clip-path=\"url(#clip540)\" d=\"M1897.23 1454.1 Q1893.62 1454.1 1891.79 1457.66 Q1889.99 1461.2 1889.99 1468.33 Q1889.99 1475.44 1891.79 1479.01 Q1893.62 1482.55 1897.23 1482.55 Q1900.87 1482.55 1902.67 1479.01 Q1904.5 1475.44 1904.5 1468.33 Q1904.5 1461.2 1902.67 1457.66 Q1900.87 1454.1 1897.23 1454.1 M1897.23 1450.39 Q1903.04 1450.39 1906.1 1455 Q1909.18 1459.58 1909.18 1468.33 Q1909.18 1477.06 1906.1 1481.67 Q1903.04 1486.25 1897.23 1486.25 Q1891.42 1486.25 1888.34 1481.67 Q1885.29 1477.06 1885.29 1468.33 Q1885.29 1459.58 1888.34 1455 Q1891.42 1450.39 1897.23 1450.39 Z\" fill=\"#000000\" fill-rule=\"evenodd\" fill-opacity=\"1\" /><path clip-path=\"url(#clip540)\" d=\"M2267.09 1451.02 L2285.45 1451.02 L2285.45 1454.96 L2271.37 1454.96 L2271.37 1463.43 Q2272.39 1463.08 2273.41 1462.92 Q2274.43 1462.73 2275.45 1462.73 Q2281.23 1462.73 2284.61 1465.9 Q2287.99 1469.08 2287.99 1474.49 Q2287.99 1480.07 2284.52 1483.17 Q2281.05 1486.25 2274.73 1486.25 Q2272.55 1486.25 2270.28 1485.88 Q2268.04 1485.51 2265.63 1484.77 L2265.63 1480.07 Q2267.72 1481.2 2269.94 1481.76 Q2272.16 1482.32 2274.64 1482.32 Q2278.64 1482.32 2280.98 1480.21 Q2283.32 1478.1 2283.32 1474.49 Q2283.32 1470.88 2280.98 1468.77 Q2278.64 1466.67 2274.64 1466.67 Q2272.76 1466.67 2270.89 1467.08 Q2269.03 1467.5 2267.09 1468.38 L2267.09 1451.02 Z\" fill=\"#000000\" fill-rule=\"evenodd\" fill-opacity=\"1\" /><path clip-path=\"url(#clip540)\" d=\"M2307.21 1454.1 Q2303.59 1454.1 2301.77 1457.66 Q2299.96 1461.2 2299.96 1468.33 Q2299.96 1475.44 2301.77 1479.01 Q2303.59 1482.55 2307.21 1482.55 Q2310.84 1482.55 2312.65 1479.01 Q2314.47 1475.44 2314.47 1468.33 Q2314.47 1461.2 2312.65 1457.66 Q2310.84 1454.1 2307.21 1454.1 M2307.21 1450.39 Q2313.02 1450.39 2316.07 1455 Q2319.15 1459.58 2319.15 1468.33 Q2319.15 1477.06 2316.07 1481.67 Q2313.02 1486.25 2307.21 1486.25 Q2301.4 1486.25 2298.32 1481.67 Q2295.26 1477.06 2295.26 1468.33 Q2295.26 1459.58 2298.32 1455 Q2301.4 1450.39 2307.21 1450.39 Z\" fill=\"#000000\" fill-rule=\"evenodd\" fill-opacity=\"1\" /><path clip-path=\"url(#clip540)\" d=\"M1135.87 1520.52 L1142.3 1520.52 L1142.3 1568.04 L1135.87 1568.04 L1135.87 1520.52 Z\" fill=\"#000000\" fill-rule=\"evenodd\" fill-opacity=\"1\" /><path clip-path=\"url(#clip540)\" d=\"M1160.64 1522.27 L1160.64 1532.4 L1172.7 1532.4 L1172.7 1536.95 L1160.64 1536.95 L1160.64 1556.3 Q1160.64 1560.66 1161.81 1561.9 Q1163.02 1563.14 1166.68 1563.14 L1172.7 1563.14 L1172.7 1568.04 L1166.68 1568.04 Q1159.9 1568.04 1157.33 1565.53 Q1154.75 1562.98 1154.75 1556.3 L1154.75 1536.95 L1150.45 1536.95 L1150.45 1532.4 L1154.75 1532.4 L1154.75 1522.27 L1160.64 1522.27 Z\" fill=\"#000000\" fill-rule=\"evenodd\" fill-opacity=\"1\" /><path clip-path=\"url(#clip540)\" d=\"M1210.89 1548.76 L1210.89 1551.62 L1183.97 1551.62 Q1184.35 1557.67 1187.59 1560.85 Q1190.87 1564 1196.7 1564 Q1200.07 1564 1203.22 1563.17 Q1206.41 1562.35 1209.52 1560.69 L1209.52 1566.23 Q1206.37 1567.57 1203.06 1568.27 Q1199.75 1568.97 1196.35 1568.97 Q1187.82 1568.97 1182.82 1564 Q1177.86 1559.04 1177.86 1550.57 Q1177.86 1541.82 1182.57 1536.69 Q1187.31 1531.54 1195.33 1531.54 Q1202.52 1531.54 1206.69 1536.18 Q1210.89 1540.8 1210.89 1548.76 M1205.04 1547.04 Q1204.97 1542.23 1202.33 1539.37 Q1199.72 1536.5 1195.39 1536.5 Q1190.49 1536.5 1187.53 1539.27 Q1184.6 1542.04 1184.16 1547.07 L1205.04 1547.04 Z\" fill=\"#000000\" fill-rule=\"evenodd\" fill-opacity=\"1\" /><path clip-path=\"url(#clip540)\" d=\"M1241.16 1537.87 Q1240.18 1537.3 1239 1537.04 Q1237.85 1536.76 1236.45 1536.76 Q1231.49 1536.76 1228.81 1540 Q1226.17 1543.22 1226.17 1549.27 L1226.17 1568.04 L1220.28 1568.04 L1220.28 1532.4 L1226.17 1532.4 L1226.17 1537.93 Q1228.02 1534.69 1230.98 1533.13 Q1233.94 1531.54 1238.17 1531.54 Q1238.78 1531.54 1239.51 1531.63 Q1240.24 1531.7 1241.13 1531.85 L1241.16 1537.87 Z\" fill=\"#000000\" fill-rule=\"evenodd\" fill-opacity=\"1\" /><path clip-path=\"url(#clip540)\" d=\"M1263.51 1550.12 Q1256.41 1550.12 1253.67 1551.75 Q1250.93 1553.37 1250.93 1557.29 Q1250.93 1560.4 1252.97 1562.25 Q1255.04 1564.07 1258.57 1564.07 Q1263.44 1564.07 1266.37 1560.63 Q1269.33 1557.16 1269.33 1551.43 L1269.33 1550.12 L1263.51 1550.12 M1275.19 1547.71 L1275.19 1568.04 L1269.33 1568.04 L1269.33 1562.63 Q1267.33 1565.88 1264.33 1567.44 Q1261.34 1568.97 1257.01 1568.97 Q1251.54 1568.97 1248.29 1565.91 Q1245.08 1562.82 1245.08 1557.67 Q1245.08 1551.65 1249.09 1548.6 Q1253.13 1545.54 1261.12 1545.54 L1269.33 1545.54 L1269.33 1544.97 Q1269.33 1540.93 1266.66 1538.73 Q1264.02 1536.5 1259.21 1536.5 Q1256.15 1536.5 1253.26 1537.23 Q1250.36 1537.97 1247.69 1539.43 L1247.69 1534.02 Q1250.9 1532.78 1253.93 1532.17 Q1256.95 1531.54 1259.81 1531.54 Q1267.55 1531.54 1271.37 1535.55 Q1275.19 1539.56 1275.19 1547.71 Z\" fill=\"#000000\" fill-rule=\"evenodd\" fill-opacity=\"1\" /><path clip-path=\"url(#clip540)\" d=\"M1293.04 1522.27 L1293.04 1532.4 L1305.11 1532.4 L1305.11 1536.95 L1293.04 1536.95 L1293.04 1556.3 Q1293.04 1560.66 1294.22 1561.9 Q1295.43 1563.14 1299.09 1563.14 L1305.11 1563.14 L1305.11 1568.04 L1299.09 1568.04 Q1292.31 1568.04 1289.73 1565.53 Q1287.15 1562.98 1287.15 1556.3 L1287.15 1536.95 L1282.86 1536.95 L1282.86 1532.4 L1287.15 1532.4 L1287.15 1522.27 L1293.04 1522.27 Z\" fill=\"#000000\" fill-rule=\"evenodd\" fill-opacity=\"1\" /><path clip-path=\"url(#clip540)\" d=\"M1312.81 1532.4 L1318.66 1532.4 L1318.66 1568.04 L1312.81 1568.04 L1312.81 1532.4 M1312.81 1518.52 L1318.66 1518.52 L1318.66 1525.93 L1312.81 1525.93 L1312.81 1518.52 Z\" fill=\"#000000\" fill-rule=\"evenodd\" fill-opacity=\"1\" /><path clip-path=\"url(#clip540)\" d=\"M1344.73 1536.5 Q1340.02 1536.5 1337.28 1540.19 Q1334.55 1543.85 1334.55 1550.25 Q1334.55 1556.65 1337.25 1560.34 Q1339.99 1564 1344.73 1564 Q1349.41 1564 1352.15 1560.31 Q1354.89 1556.62 1354.89 1550.25 Q1354.89 1543.92 1352.15 1540.23 Q1349.41 1536.5 1344.73 1536.5 M1344.73 1531.54 Q1352.37 1531.54 1356.73 1536.5 Q1361.09 1541.47 1361.09 1550.25 Q1361.09 1559 1356.73 1564 Q1352.37 1568.97 1344.73 1568.97 Q1337.06 1568.97 1332.7 1564 Q1328.37 1559 1328.37 1550.25 Q1328.37 1541.47 1332.7 1536.5 Q1337.06 1531.54 1344.73 1531.54 Z\" fill=\"#000000\" fill-rule=\"evenodd\" fill-opacity=\"1\" /><path clip-path=\"url(#clip540)\" d=\"M1400.43 1546.53 L1400.43 1568.04 L1394.58 1568.04 L1394.58 1546.72 Q1394.58 1541.66 1392.6 1539.14 Q1390.63 1536.63 1386.68 1536.63 Q1381.94 1536.63 1379.2 1539.65 Q1376.47 1542.68 1376.47 1547.9 L1376.47 1568.04 L1370.58 1568.04 L1370.58 1532.4 L1376.47 1532.4 L1376.47 1537.93 Q1378.57 1534.72 1381.4 1533.13 Q1384.26 1531.54 1387.99 1531.54 Q1394.13 1531.54 1397.28 1535.36 Q1400.43 1539.14 1400.43 1546.53 Z\" fill=\"#000000\" fill-rule=\"evenodd\" fill-opacity=\"1\" /><path clip-path=\"url(#clip540)\" d=\"M1434.84 1533.45 L1434.84 1538.98 Q1432.36 1537.71 1429.68 1537.07 Q1427.01 1536.44 1424.14 1536.44 Q1419.78 1536.44 1417.59 1537.77 Q1415.42 1539.11 1415.42 1541.79 Q1415.42 1543.82 1416.98 1545 Q1418.54 1546.15 1423.25 1547.2 L1425.26 1547.64 Q1431.5 1548.98 1434.11 1551.43 Q1436.75 1553.85 1436.75 1558.21 Q1436.75 1563.17 1432.8 1566.07 Q1428.89 1568.97 1422.01 1568.97 Q1419.15 1568.97 1416.03 1568.39 Q1412.94 1567.85 1409.5 1566.74 L1409.5 1560.69 Q1412.75 1562.38 1415.9 1563.24 Q1419.05 1564.07 1422.14 1564.07 Q1426.28 1564.07 1428.51 1562.66 Q1430.73 1561.23 1430.73 1558.65 Q1430.73 1556.27 1429.11 1554.99 Q1427.52 1553.72 1422.08 1552.54 L1420.04 1552.07 Q1414.6 1550.92 1412.18 1548.56 Q1409.76 1546.18 1409.76 1542.04 Q1409.76 1537.01 1413.32 1534.27 Q1416.89 1531.54 1423.44 1531.54 Q1426.69 1531.54 1429.56 1532.01 Q1432.42 1532.49 1434.84 1533.45 Z\" fill=\"#000000\" fill-rule=\"evenodd\" fill-opacity=\"1\" /><polyline clip-path=\"url(#clip542)\" style=\"stroke:#000000; stroke-linecap:butt; stroke-linejoin:round; stroke-width:2; stroke-opacity:0.1; fill:none\" points=\"\n",
       "  219.866,1419.77 2352.76,1419.77 \n",
       "  \"/>\n",
       "<polyline clip-path=\"url(#clip542)\" style=\"stroke:#000000; stroke-linecap:butt; stroke-linejoin:round; stroke-width:2; stroke-opacity:0.1; fill:none\" points=\"\n",
       "  219.866,1199.7 2352.76,1199.7 \n",
       "  \"/>\n",
       "<polyline clip-path=\"url(#clip542)\" style=\"stroke:#000000; stroke-linecap:butt; stroke-linejoin:round; stroke-width:2; stroke-opacity:0.1; fill:none\" points=\"\n",
       "  219.866,979.636 2352.76,979.636 \n",
       "  \"/>\n",
       "<polyline clip-path=\"url(#clip542)\" style=\"stroke:#000000; stroke-linecap:butt; stroke-linejoin:round; stroke-width:2; stroke-opacity:0.1; fill:none\" points=\"\n",
       "  219.866,759.568 2352.76,759.568 \n",
       "  \"/>\n",
       "<polyline clip-path=\"url(#clip542)\" style=\"stroke:#000000; stroke-linecap:butt; stroke-linejoin:round; stroke-width:2; stroke-opacity:0.1; fill:none\" points=\"\n",
       "  219.866,539.501 2352.76,539.501 \n",
       "  \"/>\n",
       "<polyline clip-path=\"url(#clip542)\" style=\"stroke:#000000; stroke-linecap:butt; stroke-linejoin:round; stroke-width:2; stroke-opacity:0.1; fill:none\" points=\"\n",
       "  219.866,319.434 2352.76,319.434 \n",
       "  \"/>\n",
       "<polyline clip-path=\"url(#clip542)\" style=\"stroke:#000000; stroke-linecap:butt; stroke-linejoin:round; stroke-width:2; stroke-opacity:0.1; fill:none\" points=\"\n",
       "  219.866,99.3667 2352.76,99.3667 \n",
       "  \"/>\n",
       "<polyline clip-path=\"url(#clip540)\" style=\"stroke:#000000; stroke-linecap:butt; stroke-linejoin:round; stroke-width:4; stroke-opacity:1; fill:none\" points=\"\n",
       "  219.866,1423.18 219.866,47.2441 \n",
       "  \"/>\n",
       "<polyline clip-path=\"url(#clip540)\" style=\"stroke:#000000; stroke-linecap:butt; stroke-linejoin:round; stroke-width:4; stroke-opacity:1; fill:none\" points=\"\n",
       "  219.866,1419.77 238.764,1419.77 \n",
       "  \"/>\n",
       "<polyline clip-path=\"url(#clip540)\" style=\"stroke:#000000; stroke-linecap:butt; stroke-linejoin:round; stroke-width:4; stroke-opacity:1; fill:none\" points=\"\n",
       "  219.866,1199.7 238.764,1199.7 \n",
       "  \"/>\n",
       "<polyline clip-path=\"url(#clip540)\" style=\"stroke:#000000; stroke-linecap:butt; stroke-linejoin:round; stroke-width:4; stroke-opacity:1; fill:none\" points=\"\n",
       "  219.866,979.636 238.764,979.636 \n",
       "  \"/>\n",
       "<polyline clip-path=\"url(#clip540)\" style=\"stroke:#000000; stroke-linecap:butt; stroke-linejoin:round; stroke-width:4; stroke-opacity:1; fill:none\" points=\"\n",
       "  219.866,759.568 238.764,759.568 \n",
       "  \"/>\n",
       "<polyline clip-path=\"url(#clip540)\" style=\"stroke:#000000; stroke-linecap:butt; stroke-linejoin:round; stroke-width:4; stroke-opacity:1; fill:none\" points=\"\n",
       "  219.866,539.501 238.764,539.501 \n",
       "  \"/>\n",
       "<polyline clip-path=\"url(#clip540)\" style=\"stroke:#000000; stroke-linecap:butt; stroke-linejoin:round; stroke-width:4; stroke-opacity:1; fill:none\" points=\"\n",
       "  219.866,319.434 238.764,319.434 \n",
       "  \"/>\n",
       "<polyline clip-path=\"url(#clip540)\" style=\"stroke:#000000; stroke-linecap:butt; stroke-linejoin:round; stroke-width:4; stroke-opacity:1; fill:none\" points=\"\n",
       "  219.866,99.3667 238.764,99.3667 \n",
       "  \"/>\n",
       "<path clip-path=\"url(#clip540)\" d=\"M128.288 1405.57 Q124.677 1405.57 122.848 1409.13 Q121.043 1412.68 121.043 1419.8 Q121.043 1426.91 122.848 1430.48 Q124.677 1434.02 128.288 1434.02 Q131.922 1434.02 133.728 1430.48 Q135.556 1426.91 135.556 1419.8 Q135.556 1412.68 133.728 1409.13 Q131.922 1405.57 128.288 1405.57 M128.288 1401.86 Q134.098 1401.86 137.154 1406.47 Q140.232 1411.05 140.232 1419.8 Q140.232 1428.53 137.154 1433.14 Q134.098 1437.72 128.288 1437.72 Q122.478 1437.72 119.399 1433.14 Q116.343 1428.53 116.343 1419.8 Q116.343 1411.05 119.399 1406.47 Q122.478 1401.86 128.288 1401.86 Z\" fill=\"#000000\" fill-rule=\"evenodd\" fill-opacity=\"1\" /><path clip-path=\"url(#clip540)\" d=\"M148.45 1431.17 L153.334 1431.17 L153.334 1437.05 L148.45 1437.05 L148.45 1431.17 Z\" fill=\"#000000\" fill-rule=\"evenodd\" fill-opacity=\"1\" /><path clip-path=\"url(#clip540)\" d=\"M167.547 1433.11 L183.866 1433.11 L183.866 1437.05 L161.922 1437.05 L161.922 1433.11 Q164.584 1430.36 169.167 1425.73 Q173.774 1421.08 174.954 1419.74 Q177.2 1417.21 178.079 1415.48 Q178.982 1413.72 178.982 1412.03 Q178.982 1409.27 177.038 1407.54 Q175.116 1405.8 172.014 1405.8 Q169.815 1405.8 167.362 1406.56 Q164.931 1407.33 162.153 1408.88 L162.153 1404.16 Q164.977 1403.02 167.431 1402.44 Q169.885 1401.86 171.922 1401.86 Q177.292 1401.86 180.487 1404.55 Q183.681 1407.24 183.681 1411.73 Q183.681 1413.86 182.871 1415.78 Q182.084 1417.68 179.977 1420.27 Q179.399 1420.94 176.297 1424.16 Q173.195 1427.35 167.547 1433.11 Z\" fill=\"#000000\" fill-rule=\"evenodd\" fill-opacity=\"1\" /><path clip-path=\"url(#clip540)\" d=\"M127.339 1185.5 Q123.728 1185.5 121.899 1189.07 Q120.093 1192.61 120.093 1199.74 Q120.093 1206.84 121.899 1210.41 Q123.728 1213.95 127.339 1213.95 Q130.973 1213.95 132.779 1210.41 Q134.607 1206.84 134.607 1199.74 Q134.607 1192.61 132.779 1189.07 Q130.973 1185.5 127.339 1185.5 M127.339 1181.8 Q133.149 1181.8 136.204 1186.4 Q139.283 1190.99 139.283 1199.74 Q139.283 1208.46 136.204 1213.07 Q133.149 1217.65 127.339 1217.65 Q121.529 1217.65 118.45 1213.07 Q115.394 1208.46 115.394 1199.74 Q115.394 1190.99 118.45 1186.4 Q121.529 1181.8 127.339 1181.8 Z\" fill=\"#000000\" fill-rule=\"evenodd\" fill-opacity=\"1\" /><path clip-path=\"url(#clip540)\" d=\"M147.501 1211.1 L152.385 1211.1 L152.385 1216.98 L147.501 1216.98 L147.501 1211.1 Z\" fill=\"#000000\" fill-rule=\"evenodd\" fill-opacity=\"1\" /><path clip-path=\"url(#clip540)\" d=\"M176.737 1198.35 Q180.093 1199.07 181.968 1201.33 Q183.866 1203.6 183.866 1206.94 Q183.866 1212.05 180.348 1214.85 Q176.829 1217.65 170.348 1217.65 Q168.172 1217.65 165.857 1217.21 Q163.565 1216.8 161.112 1215.94 L161.112 1211.43 Q163.056 1212.56 165.371 1213.14 Q167.686 1213.72 170.209 1213.72 Q174.607 1213.72 176.899 1211.98 Q179.214 1210.25 179.214 1206.94 Q179.214 1203.88 177.061 1202.17 Q174.931 1200.43 171.112 1200.43 L167.084 1200.43 L167.084 1196.59 L171.297 1196.59 Q174.746 1196.59 176.575 1195.22 Q178.403 1193.83 178.403 1191.24 Q178.403 1188.58 176.505 1187.17 Q174.63 1185.73 171.112 1185.73 Q169.19 1185.73 166.991 1186.15 Q164.792 1186.57 162.153 1187.45 L162.153 1183.28 Q164.815 1182.54 167.13 1182.17 Q169.468 1181.8 171.528 1181.8 Q176.852 1181.8 179.954 1184.23 Q183.056 1186.64 183.056 1190.76 Q183.056 1193.63 181.413 1195.62 Q179.769 1197.58 176.737 1198.35 Z\" fill=\"#000000\" fill-rule=\"evenodd\" fill-opacity=\"1\" /><path clip-path=\"url(#clip540)\" d=\"M126.205 965.434 Q122.593 965.434 120.765 968.999 Q118.959 972.541 118.959 979.67 Q118.959 986.777 120.765 990.341 Q122.593 993.883 126.205 993.883 Q129.839 993.883 131.644 990.341 Q133.473 986.777 133.473 979.67 Q133.473 972.541 131.644 968.999 Q129.839 965.434 126.205 965.434 M126.205 961.731 Q132.015 961.731 135.07 966.337 Q138.149 970.92 138.149 979.67 Q138.149 988.397 135.07 993.004 Q132.015 997.587 126.205 997.587 Q120.394 997.587 117.316 993.004 Q114.26 988.397 114.26 979.67 Q114.26 970.92 117.316 966.337 Q120.394 961.731 126.205 961.731 Z\" fill=\"#000000\" fill-rule=\"evenodd\" fill-opacity=\"1\" /><path clip-path=\"url(#clip540)\" d=\"M146.366 991.036 L151.251 991.036 L151.251 996.916 L146.366 996.916 L146.366 991.036 Z\" fill=\"#000000\" fill-rule=\"evenodd\" fill-opacity=\"1\" /><path clip-path=\"url(#clip540)\" d=\"M174.283 966.43 L162.477 984.879 L174.283 984.879 L174.283 966.43 M173.056 962.356 L178.936 962.356 L178.936 984.879 L183.866 984.879 L183.866 988.767 L178.936 988.767 L178.936 996.916 L174.283 996.916 L174.283 988.767 L158.681 988.767 L158.681 984.254 L173.056 962.356 Z\" fill=\"#000000\" fill-rule=\"evenodd\" fill-opacity=\"1\" /><path clip-path=\"url(#clip540)\" d=\"M127.686 745.367 Q124.075 745.367 122.246 748.932 Q120.441 752.473 120.441 759.603 Q120.441 766.71 122.246 770.274 Q124.075 773.816 127.686 773.816 Q131.32 773.816 133.126 770.274 Q134.954 766.71 134.954 759.603 Q134.954 752.473 133.126 748.932 Q131.32 745.367 127.686 745.367 M127.686 741.663 Q133.496 741.663 136.552 746.27 Q139.63 750.853 139.63 759.603 Q139.63 768.33 136.552 772.936 Q133.496 777.52 127.686 777.52 Q121.876 777.52 118.797 772.936 Q115.742 768.33 115.742 759.603 Q115.742 750.853 118.797 746.27 Q121.876 741.663 127.686 741.663 Z\" fill=\"#000000\" fill-rule=\"evenodd\" fill-opacity=\"1\" /><path clip-path=\"url(#clip540)\" d=\"M147.848 770.969 L152.732 770.969 L152.732 776.848 L147.848 776.848 L147.848 770.969 Z\" fill=\"#000000\" fill-rule=\"evenodd\" fill-opacity=\"1\" /><path clip-path=\"url(#clip540)\" d=\"M162.964 742.288 L181.32 742.288 L181.32 746.224 L167.246 746.224 L167.246 754.696 Q168.264 754.348 169.283 754.186 Q170.302 754.001 171.32 754.001 Q177.107 754.001 180.487 757.173 Q183.866 760.344 183.866 765.76 Q183.866 771.339 180.394 774.441 Q176.922 777.52 170.602 777.52 Q168.427 777.52 166.158 777.149 Q163.913 776.779 161.505 776.038 L161.505 771.339 Q163.589 772.473 165.811 773.029 Q168.033 773.584 170.51 773.584 Q174.514 773.584 176.852 771.478 Q179.19 769.372 179.19 765.76 Q179.19 762.149 176.852 760.043 Q174.514 757.936 170.51 757.936 Q168.635 757.936 166.76 758.353 Q164.908 758.77 162.964 759.649 L162.964 742.288 Z\" fill=\"#000000\" fill-rule=\"evenodd\" fill-opacity=\"1\" /><path clip-path=\"url(#clip540)\" d=\"M126.529 525.3 Q122.918 525.3 121.089 528.865 Q119.283 532.406 119.283 539.536 Q119.283 546.642 121.089 550.207 Q122.918 553.749 126.529 553.749 Q130.163 553.749 131.968 550.207 Q133.797 546.642 133.797 539.536 Q133.797 532.406 131.968 528.865 Q130.163 525.3 126.529 525.3 M126.529 521.596 Q132.339 521.596 135.394 526.203 Q138.473 530.786 138.473 539.536 Q138.473 548.263 135.394 552.869 Q132.339 557.452 126.529 557.452 Q120.718 557.452 117.64 552.869 Q114.584 548.263 114.584 539.536 Q114.584 530.786 117.64 526.203 Q120.718 521.596 126.529 521.596 Z\" fill=\"#000000\" fill-rule=\"evenodd\" fill-opacity=\"1\" /><path clip-path=\"url(#clip540)\" d=\"M146.691 550.902 L151.575 550.902 L151.575 556.781 L146.691 556.781 L146.691 550.902 Z\" fill=\"#000000\" fill-rule=\"evenodd\" fill-opacity=\"1\" /><path clip-path=\"url(#clip540)\" d=\"M172.339 537.638 Q169.19 537.638 167.339 539.79 Q165.51 541.943 165.51 545.693 Q165.51 549.42 167.339 551.596 Q169.19 553.749 172.339 553.749 Q175.487 553.749 177.315 551.596 Q179.167 549.42 179.167 545.693 Q179.167 541.943 177.315 539.79 Q175.487 537.638 172.339 537.638 M181.621 522.985 L181.621 527.244 Q179.862 526.411 178.056 525.971 Q176.274 525.531 174.514 525.531 Q169.885 525.531 167.431 528.656 Q165.001 531.781 164.653 538.101 Q166.019 536.087 168.079 535.022 Q170.139 533.934 172.616 533.934 Q177.825 533.934 180.834 537.105 Q183.866 540.253 183.866 545.693 Q183.866 551.017 180.718 554.235 Q177.57 557.452 172.339 557.452 Q166.343 557.452 163.172 552.869 Q160.001 548.263 160.001 539.536 Q160.001 531.341 163.89 526.48 Q167.778 521.596 174.329 521.596 Q176.089 521.596 177.871 521.943 Q179.676 522.291 181.621 522.985 Z\" fill=\"#000000\" fill-rule=\"evenodd\" fill-opacity=\"1\" /><path clip-path=\"url(#clip540)\" d=\"M127.593 305.233 Q123.982 305.233 122.154 308.797 Q120.348 312.339 120.348 319.469 Q120.348 326.575 122.154 330.14 Q123.982 333.682 127.593 333.682 Q131.228 333.682 133.033 330.14 Q134.862 326.575 134.862 319.469 Q134.862 312.339 133.033 308.797 Q131.228 305.233 127.593 305.233 M127.593 301.529 Q133.404 301.529 136.459 306.135 Q139.538 310.719 139.538 319.469 Q139.538 328.195 136.459 332.802 Q133.404 337.385 127.593 337.385 Q121.783 337.385 118.705 332.802 Q115.649 328.195 115.649 319.469 Q115.649 310.719 118.705 306.135 Q121.783 301.529 127.593 301.529 Z\" fill=\"#000000\" fill-rule=\"evenodd\" fill-opacity=\"1\" /><path clip-path=\"url(#clip540)\" d=\"M147.755 330.834 L152.64 330.834 L152.64 336.714 L147.755 336.714 L147.755 330.834 Z\" fill=\"#000000\" fill-rule=\"evenodd\" fill-opacity=\"1\" /><path clip-path=\"url(#clip540)\" d=\"M161.644 302.154 L183.866 302.154 L183.866 304.145 L171.32 336.714 L166.436 336.714 L178.241 306.089 L161.644 306.089 L161.644 302.154 Z\" fill=\"#000000\" fill-rule=\"evenodd\" fill-opacity=\"1\" /><path clip-path=\"url(#clip540)\" d=\"M126.783 85.1654 Q123.172 85.1654 121.343 88.7302 Q119.538 92.2719 119.538 99.4015 Q119.538 106.508 121.343 110.073 Q123.172 113.614 126.783 113.614 Q130.417 113.614 132.223 110.073 Q134.052 106.508 134.052 99.4015 Q134.052 92.2719 132.223 88.7302 Q130.417 85.1654 126.783 85.1654 M126.783 81.4617 Q132.593 81.4617 135.649 86.0682 Q138.728 90.6515 138.728 99.4015 Q138.728 108.128 135.649 112.735 Q132.593 117.318 126.783 117.318 Q120.973 117.318 117.894 112.735 Q114.839 108.128 114.839 99.4015 Q114.839 90.6515 117.894 86.0682 Q120.973 81.4617 126.783 81.4617 Z\" fill=\"#000000\" fill-rule=\"evenodd\" fill-opacity=\"1\" /><path clip-path=\"url(#clip540)\" d=\"M146.945 110.767 L151.829 110.767 L151.829 116.647 L146.945 116.647 L146.945 110.767 Z\" fill=\"#000000\" fill-rule=\"evenodd\" fill-opacity=\"1\" /><path clip-path=\"url(#clip540)\" d=\"M172.014 100.235 Q168.681 100.235 166.76 102.017 Q164.862 103.8 164.862 106.925 Q164.862 110.05 166.76 111.832 Q168.681 113.614 172.014 113.614 Q175.348 113.614 177.269 111.832 Q179.19 110.026 179.19 106.925 Q179.19 103.8 177.269 102.017 Q175.371 100.235 172.014 100.235 M167.339 98.2441 Q164.329 97.5033 162.64 95.4431 Q160.973 93.383 160.973 90.42 Q160.973 86.2765 163.913 83.8691 Q166.876 81.4617 172.014 81.4617 Q177.176 81.4617 180.116 83.8691 Q183.056 86.2765 183.056 90.42 Q183.056 93.383 181.366 95.4431 Q179.7 97.5033 176.714 98.2441 Q180.093 99.0311 181.968 101.323 Q183.866 103.614 183.866 106.925 Q183.866 111.948 180.788 114.633 Q177.732 117.318 172.014 117.318 Q166.297 117.318 163.218 114.633 Q160.163 111.948 160.163 106.925 Q160.163 103.614 162.061 101.323 Q163.959 99.0311 167.339 98.2441 M165.626 90.8598 Q165.626 93.545 167.292 95.0496 Q168.982 96.5543 172.014 96.5543 Q175.024 96.5543 176.714 95.0496 Q178.426 93.545 178.426 90.8598 Q178.426 88.1747 176.714 86.67 Q175.024 85.1654 172.014 85.1654 Q168.982 85.1654 167.292 86.67 Q165.626 88.1747 165.626 90.8598 Z\" fill=\"#000000\" fill-rule=\"evenodd\" fill-opacity=\"1\" /><path clip-path=\"url(#clip540)\" d=\"M22.818 861.014 L46.4666 869.735 L46.4666 852.261 L22.818 861.014 M16.4842 864.643 L16.4842 857.354 L64.0042 839.244 L64.0042 845.928 L51.8138 850.256 L51.8138 871.677 L64.0042 876.005 L64.0042 882.785 L16.4842 864.643 Z\" fill=\"#000000\" fill-rule=\"evenodd\" fill-opacity=\"1\" /><path clip-path=\"url(#clip540)\" d=\"M29.7248 808.052 L35.1993 808.052 Q33.8307 810.534 33.1623 813.049 Q32.4621 815.531 32.4621 818.078 Q32.4621 823.775 36.0905 826.926 Q39.6872 830.077 46.212 830.077 Q52.7369 830.077 56.3653 826.926 Q59.9619 823.775 59.9619 818.078 Q59.9619 815.531 59.2935 813.049 Q58.5933 810.534 57.2247 808.052 L62.6355 808.052 Q63.7814 810.502 64.3543 813.144 Q64.9272 815.754 64.9272 818.714 Q64.9272 826.767 59.8664 831.509 Q54.8057 836.252 46.212 836.252 Q37.491 836.252 32.4939 831.477 Q27.4968 826.671 27.4968 818.332 Q27.4968 815.627 28.0697 813.049 Q28.6108 810.471 29.7248 808.052 Z\" fill=\"#000000\" fill-rule=\"evenodd\" fill-opacity=\"1\" /><path clip-path=\"url(#clip540)\" d=\"M29.7248 772.213 L35.1993 772.213 Q33.8307 774.695 33.1623 777.21 Q32.4621 779.692 32.4621 782.239 Q32.4621 787.936 36.0905 791.087 Q39.6872 794.238 46.212 794.238 Q52.7369 794.238 56.3653 791.087 Q59.9619 787.936 59.9619 782.239 Q59.9619 779.692 59.2935 777.21 Q58.5933 774.695 57.2247 772.213 L62.6355 772.213 Q63.7814 774.663 64.3543 777.305 Q64.9272 779.915 64.9272 782.875 Q64.9272 790.928 59.8664 795.67 Q54.8057 800.413 46.212 800.413 Q37.491 800.413 32.4939 795.638 Q27.4968 790.832 27.4968 782.493 Q27.4968 779.788 28.0697 777.21 Q28.6108 774.632 29.7248 772.213 Z\" fill=\"#000000\" fill-rule=\"evenodd\" fill-opacity=\"1\" /><path clip-path=\"url(#clip540)\" d=\"M49.9359 762.632 L28.3562 762.632 L28.3562 756.776 L49.7131 756.776 Q54.7739 756.776 57.3202 754.802 Q59.8346 752.829 59.8346 748.882 Q59.8346 744.14 56.8109 741.403 Q53.7872 738.634 48.5673 738.634 L28.3562 738.634 L28.3562 732.777 L64.0042 732.777 L64.0042 738.634 L58.5296 738.634 Q61.7762 740.766 63.3676 743.599 Q64.9272 746.4 64.9272 750.124 Q64.9272 756.267 61.1078 759.449 Q57.2883 762.632 49.9359 762.632 M27.4968 747.896 L27.4968 747.896 Z\" fill=\"#000000\" fill-rule=\"evenodd\" fill-opacity=\"1\" /><path clip-path=\"url(#clip540)\" d=\"M33.8307 700.057 Q33.2578 701.044 33.0032 702.222 Q32.7167 703.368 32.7167 704.768 Q32.7167 709.733 35.9632 712.407 Q39.1779 715.049 45.2253 715.049 L64.0042 715.049 L64.0042 720.937 L28.3562 720.937 L28.3562 715.049 L33.8944 715.049 Q30.6479 713.203 29.0883 710.242 Q27.4968 707.282 27.4968 703.049 Q27.4968 702.444 27.5923 701.712 Q27.656 700.98 27.8151 700.089 L33.8307 700.057 Z\" fill=\"#000000\" fill-rule=\"evenodd\" fill-opacity=\"1\" /><path clip-path=\"url(#clip540)\" d=\"M46.0847 677.714 Q46.0847 684.811 47.7079 687.549 Q49.3312 690.286 53.2461 690.286 Q56.3653 690.286 58.2114 688.249 Q60.0256 686.18 60.0256 682.647 Q60.0256 677.777 56.5881 674.849 Q53.1188 671.889 47.3897 671.889 L46.0847 671.889 L46.0847 677.714 M43.6657 666.033 L64.0042 666.033 L64.0042 671.889 L58.5933 671.889 Q61.8398 673.894 63.3994 676.886 Q64.9272 679.878 64.9272 684.207 Q64.9272 689.681 61.8716 692.928 Q58.7843 696.142 53.6281 696.142 Q47.6125 696.142 44.5569 692.132 Q41.5014 688.09 41.5014 680.101 L41.5014 671.889 L40.9285 671.889 Q36.8862 671.889 34.6901 674.563 Q32.4621 677.204 32.4621 682.011 Q32.4621 685.066 33.1941 687.963 Q33.9262 690.859 35.3903 693.533 L29.9795 693.533 Q28.7381 690.318 28.1334 687.294 Q27.4968 684.27 27.4968 681.406 Q27.4968 673.671 31.5072 669.852 Q35.5176 666.033 43.6657 666.033 Z\" fill=\"#000000\" fill-rule=\"evenodd\" fill-opacity=\"1\" /><path clip-path=\"url(#clip540)\" d=\"M29.7248 628.316 L35.1993 628.316 Q33.8307 630.798 33.1623 633.313 Q32.4621 635.796 32.4621 638.342 Q32.4621 644.039 36.0905 647.19 Q39.6872 650.341 46.212 650.341 Q52.7369 650.341 56.3653 647.19 Q59.9619 644.039 59.9619 638.342 Q59.9619 635.796 59.2935 633.313 Q58.5933 630.798 57.2247 628.316 L62.6355 628.316 Q63.7814 630.767 64.3543 633.408 Q64.9272 636.018 64.9272 638.978 Q64.9272 647.031 59.8664 651.773 Q54.8057 656.516 46.212 656.516 Q37.491 656.516 32.4939 651.742 Q27.4968 646.936 27.4968 638.596 Q27.4968 635.891 28.0697 633.313 Q28.6108 630.735 29.7248 628.316 Z\" fill=\"#000000\" fill-rule=\"evenodd\" fill-opacity=\"1\" /><path clip-path=\"url(#clip540)\" d=\"M67.3143 603.299 Q73.68 605.781 75.6216 608.137 Q77.5631 610.492 77.5631 614.439 L77.5631 619.117 L72.6615 619.117 L72.6615 615.68 Q72.6615 613.261 71.5157 611.924 Q70.3699 610.587 66.1048 608.964 L63.4312 607.914 L28.3562 622.332 L28.3562 616.126 L56.238 604.986 L28.3562 593.846 L28.3562 587.639 L67.3143 603.299 Z\" fill=\"#000000\" fill-rule=\"evenodd\" fill-opacity=\"1\" /><polyline clip-path=\"url(#clip542)\" style=\"stroke:#009af9; stroke-linecap:butt; stroke-linejoin:round; stroke-width:4; stroke-opacity:1; fill:none\" points=\"\n",
       "  280.231,1367.43 321.296,1150.8 362.36,986.513 403.425,872.658 444.489,771.794 485.554,672.458 526.618,593.372 567.683,533.388 608.747,494.8 649.811,442.076 \n",
       "  690.876,400.049 731.94,374.069 773.005,348.853 814.069,326.311 855.134,308.354 896.198,290.397 937.263,278.553 978.327,271.294 1019.39,259.068 1060.46,247.224 \n",
       "  1101.52,236.145 1142.59,235.763 1183.65,224.683 1224.71,221.626 1265.78,222.772 1306.84,215.513 1347.91,204.816 1388.97,204.816 1430.04,204.051 1471.1,194.5 \n",
       "  1512.17,195.646 1553.23,192.208 1594.29,187.623 1635.36,178.071 1676.42,176.161 1717.49,182.274 1758.55,174.633 1799.62,172.34 1840.68,168.52 1881.75,166.227 \n",
       "  1922.81,165.845 1963.88,160.497 2004.94,162.407 2046,152.855 2087.07,152.091 2128.13,151.327 2169.2,150.563 2210.26,153.237 2251.33,150.181 2292.39,154.766 \n",
       "  \n",
       "  \"/>\n",
       "<polyline clip-path=\"url(#clip542)\" style=\"stroke:#e26f46; stroke-linecap:butt; stroke-linejoin:round; stroke-width:4; stroke-opacity:1; fill:none\" points=\"\n",
       "  280.231,1384.24 321.296,1152.14 362.36,988.805 403.425,851.263 444.489,756.703 485.554,644.95 526.618,544.659 567.683,493.081 608.747,432.906 649.811,389.924 \n",
       "  690.876,372.731 731.94,315.422 773.005,298.23 814.069,272.44 855.134,289.633 896.198,240.92 937.263,232.324 978.327,195.073 1019.39,203.669 1060.46,186.477 \n",
       "  1101.52,177.88 1142.59,169.284 1183.65,160.688 1224.71,172.149 1265.78,157.822 1306.84,169.284 1347.91,137.764 1388.97,149.226 1430.04,140.629 1471.1,152.091 \n",
       "  1512.17,154.957 1553.23,163.553 1594.29,134.898 1635.36,140.629 1676.42,134.898 1717.49,160.688 1758.55,129.168 1799.62,129.168 1840.68,109.109 1881.75,160.688 \n",
       "  1922.81,120.571 1963.88,143.495 2004.94,137.764 2046,137.764 2087.07,126.302 2128.13,134.898 2169.2,123.437 2210.26,120.571 2251.33,120.571 2292.39,86.1857 \n",
       "  \n",
       "  \"/>\n",
       "<path clip-path=\"url(#clip540)\" d=\"\n",
       "M1748.26 248.629 L2281.66 248.629 L2281.66 93.1086 L1748.26 93.1086  Z\n",
       "  \" fill=\"#ffffff\" fill-rule=\"evenodd\" fill-opacity=\"1\"/>\n",
       "<polyline clip-path=\"url(#clip540)\" style=\"stroke:#000000; stroke-linecap:butt; stroke-linejoin:round; stroke-width:4; stroke-opacity:1; fill:none\" points=\"\n",
       "  1748.26,248.629 2281.66,248.629 2281.66,93.1086 1748.26,93.1086 1748.26,248.629 \n",
       "  \"/>\n",
       "<polyline clip-path=\"url(#clip540)\" style=\"stroke:#009af9; stroke-linecap:butt; stroke-linejoin:round; stroke-width:4; stroke-opacity:1; fill:none\" points=\"\n",
       "  1771.96,144.949 1914.15,144.949 \n",
       "  \"/>\n",
       "<path clip-path=\"url(#clip540)\" d=\"M1945.26 128.942 L1945.26 136.303 L1954.03 136.303 L1954.03 139.613 L1945.26 139.613 L1945.26 153.687 Q1945.26 156.858 1946.12 157.761 Q1947 158.664 1949.66 158.664 L1954.03 158.664 L1954.03 162.229 L1949.66 162.229 Q1944.73 162.229 1942.85 160.4 Q1940.98 158.548 1940.98 153.687 L1940.98 139.613 L1937.85 139.613 L1937.85 136.303 L1940.98 136.303 L1940.98 128.942 L1945.26 128.942 Z\" fill=\"#000000\" fill-rule=\"evenodd\" fill-opacity=\"1\" /><path clip-path=\"url(#clip540)\" d=\"M1974.66 140.284 Q1973.94 139.868 1973.08 139.682 Q1972.25 139.474 1971.23 139.474 Q1967.62 139.474 1965.68 141.835 Q1963.75 144.173 1963.75 148.571 L1963.75 162.229 L1959.47 162.229 L1959.47 136.303 L1963.75 136.303 L1963.75 140.331 Q1965.1 137.969 1967.25 136.835 Q1969.4 135.678 1972.48 135.678 Q1972.92 135.678 1973.45 135.747 Q1973.99 135.794 1974.63 135.909 L1974.66 140.284 Z\" fill=\"#000000\" fill-rule=\"evenodd\" fill-opacity=\"1\" /><path clip-path=\"url(#clip540)\" d=\"M1999.84 146.581 L1999.84 162.229 L1995.58 162.229 L1995.58 146.719 Q1995.58 143.039 1994.15 141.21 Q1992.71 139.382 1989.84 139.382 Q1986.39 139.382 1984.4 141.581 Q1982.41 143.78 1982.41 147.576 L1982.41 162.229 L1978.13 162.229 L1978.13 136.303 L1982.41 136.303 L1982.41 140.331 Q1983.94 137.993 1986 136.835 Q1988.08 135.678 1990.79 135.678 Q1995.26 135.678 1997.55 138.456 Q1999.84 141.21 1999.84 146.581 Z\" fill=\"#000000\" fill-rule=\"evenodd\" fill-opacity=\"1\" /><path clip-path=\"url(#clip540)\" d=\"M2035.19 149.196 Q2030.03 149.196 2028.04 150.377 Q2026.05 151.557 2026.05 154.405 Q2026.05 156.673 2027.53 158.016 Q2029.03 159.335 2031.6 159.335 Q2035.14 159.335 2037.27 156.835 Q2039.43 154.312 2039.43 150.145 L2039.43 149.196 L2035.19 149.196 M2043.68 147.437 L2043.68 162.229 L2039.43 162.229 L2039.43 158.293 Q2037.97 160.655 2035.79 161.789 Q2033.61 162.9 2030.47 162.9 Q2026.49 162.9 2024.12 160.678 Q2021.79 158.432 2021.79 154.682 Q2021.79 150.307 2024.7 148.085 Q2027.64 145.863 2033.45 145.863 L2039.43 145.863 L2039.43 145.446 Q2039.43 142.507 2037.48 140.909 Q2035.56 139.289 2032.06 139.289 Q2029.84 139.289 2027.74 139.821 Q2025.63 140.354 2023.68 141.419 L2023.68 137.483 Q2026.02 136.581 2028.22 136.141 Q2030.42 135.678 2032.5 135.678 Q2038.13 135.678 2040.91 138.594 Q2043.68 141.511 2043.68 147.437 Z\" fill=\"#000000\" fill-rule=\"evenodd\" fill-opacity=\"1\" /><path clip-path=\"url(#clip540)\" d=\"M2071.11 137.298 L2071.11 141.28 Q2069.31 140.284 2067.48 139.798 Q2065.67 139.289 2063.82 139.289 Q2059.68 139.289 2057.39 141.928 Q2055.1 144.544 2055.1 149.289 Q2055.1 154.034 2057.39 156.673 Q2059.68 159.289 2063.82 159.289 Q2065.67 159.289 2067.48 158.803 Q2069.31 158.293 2071.11 157.298 L2071.11 161.233 Q2069.33 162.067 2067.41 162.483 Q2065.51 162.9 2063.36 162.9 Q2057.5 162.9 2054.05 159.219 Q2050.61 155.539 2050.61 149.289 Q2050.61 142.946 2054.08 139.312 Q2057.57 135.678 2063.64 135.678 Q2065.61 135.678 2067.48 136.095 Q2069.36 136.488 2071.11 137.298 Z\" fill=\"#000000\" fill-rule=\"evenodd\" fill-opacity=\"1\" /><path clip-path=\"url(#clip540)\" d=\"M2097.18 137.298 L2097.18 141.28 Q2095.37 140.284 2093.55 139.798 Q2091.74 139.289 2089.89 139.289 Q2085.74 139.289 2083.45 141.928 Q2081.16 144.544 2081.16 149.289 Q2081.16 154.034 2083.45 156.673 Q2085.74 159.289 2089.89 159.289 Q2091.74 159.289 2093.55 158.803 Q2095.37 158.293 2097.18 157.298 L2097.18 161.233 Q2095.4 162.067 2093.48 162.483 Q2091.58 162.9 2089.42 162.9 Q2083.57 162.9 2080.12 159.219 Q2076.67 155.539 2076.67 149.289 Q2076.67 142.946 2080.14 139.312 Q2083.64 135.678 2089.7 135.678 Q2091.67 135.678 2093.55 136.095 Q2095.42 136.488 2097.18 137.298 Z\" fill=\"#000000\" fill-rule=\"evenodd\" fill-opacity=\"1\" /><path clip-path=\"url(#clip540)\" d=\"M2104.15 151.997 L2104.15 136.303 L2108.41 136.303 L2108.41 151.835 Q2108.41 155.516 2109.84 157.368 Q2111.28 159.196 2114.15 159.196 Q2117.6 159.196 2119.59 156.997 Q2121.6 154.798 2121.6 151.002 L2121.6 136.303 L2125.86 136.303 L2125.86 162.229 L2121.6 162.229 L2121.6 158.247 Q2120.05 160.608 2117.99 161.766 Q2115.95 162.9 2113.24 162.9 Q2108.78 162.9 2106.46 160.122 Q2104.15 157.344 2104.15 151.997 M2114.86 135.678 L2114.86 135.678 Z\" fill=\"#000000\" fill-rule=\"evenodd\" fill-opacity=\"1\" /><path clip-path=\"url(#clip540)\" d=\"M2149.66 140.284 Q2148.94 139.868 2148.08 139.682 Q2147.25 139.474 2146.23 139.474 Q2142.62 139.474 2140.67 141.835 Q2138.75 144.173 2138.75 148.571 L2138.75 162.229 L2134.47 162.229 L2134.47 136.303 L2138.75 136.303 L2138.75 140.331 Q2140.1 137.969 2142.25 136.835 Q2144.4 135.678 2147.48 135.678 Q2147.92 135.678 2148.45 135.747 Q2148.98 135.794 2149.63 135.909 L2149.66 140.284 Z\" fill=\"#000000\" fill-rule=\"evenodd\" fill-opacity=\"1\" /><path clip-path=\"url(#clip540)\" d=\"M2165.91 149.196 Q2160.74 149.196 2158.75 150.377 Q2156.76 151.557 2156.76 154.405 Q2156.76 156.673 2158.24 158.016 Q2159.75 159.335 2162.32 159.335 Q2165.86 159.335 2167.99 156.835 Q2170.14 154.312 2170.14 150.145 L2170.14 149.196 L2165.91 149.196 M2174.4 147.437 L2174.4 162.229 L2170.14 162.229 L2170.14 158.293 Q2168.68 160.655 2166.51 161.789 Q2164.33 162.9 2161.18 162.9 Q2157.2 162.9 2154.84 160.678 Q2152.5 158.432 2152.5 154.682 Q2152.5 150.307 2155.42 148.085 Q2158.36 145.863 2164.17 145.863 L2170.14 145.863 L2170.14 145.446 Q2170.14 142.507 2168.2 140.909 Q2166.28 139.289 2162.78 139.289 Q2160.56 139.289 2158.45 139.821 Q2156.35 140.354 2154.4 141.419 L2154.4 137.483 Q2156.74 136.581 2158.94 136.141 Q2161.14 135.678 2163.22 135.678 Q2168.85 135.678 2171.62 138.594 Q2174.4 141.511 2174.4 147.437 Z\" fill=\"#000000\" fill-rule=\"evenodd\" fill-opacity=\"1\" /><path clip-path=\"url(#clip540)\" d=\"M2201.83 137.298 L2201.83 141.28 Q2200.03 140.284 2198.2 139.798 Q2196.39 139.289 2194.54 139.289 Q2190.4 139.289 2188.1 141.928 Q2185.81 144.544 2185.81 149.289 Q2185.81 154.034 2188.1 156.673 Q2190.4 159.289 2194.54 159.289 Q2196.39 159.289 2198.2 158.803 Q2200.03 158.293 2201.83 157.298 L2201.83 161.233 Q2200.05 162.067 2198.13 162.483 Q2196.23 162.9 2194.08 162.9 Q2188.22 162.9 2184.77 159.219 Q2181.32 155.539 2181.32 149.289 Q2181.32 142.946 2184.79 139.312 Q2188.29 135.678 2194.35 135.678 Q2196.32 135.678 2198.2 136.095 Q2200.07 136.488 2201.83 137.298 Z\" fill=\"#000000\" fill-rule=\"evenodd\" fill-opacity=\"1\" /><path clip-path=\"url(#clip540)\" d=\"M2220.03 164.636 Q2218.22 169.266 2216.51 170.678 Q2214.79 172.09 2211.92 172.09 L2208.52 172.09 L2208.52 168.525 L2211.02 168.525 Q2212.78 168.525 2213.75 167.692 Q2214.73 166.858 2215.91 163.756 L2216.67 161.812 L2206.18 136.303 L2210.7 136.303 L2218.8 156.581 L2226.9 136.303 L2231.41 136.303 L2220.03 164.636 Z\" fill=\"#000000\" fill-rule=\"evenodd\" fill-opacity=\"1\" /><polyline clip-path=\"url(#clip540)\" style=\"stroke:#e26f46; stroke-linecap:butt; stroke-linejoin:round; stroke-width:4; stroke-opacity:1; fill:none\" points=\"\n",
       "  1771.96,196.789 1914.15,196.789 \n",
       "  \"/>\n",
       "<path clip-path=\"url(#clip540)\" d=\"M1937.85 188.143 L1942.37 188.143 L1950.47 209.902 L1958.57 188.143 L1963.08 188.143 L1953.36 214.069 L1947.57 214.069 L1937.85 188.143 Z\" fill=\"#000000\" fill-rule=\"evenodd\" fill-opacity=\"1\" /><path clip-path=\"url(#clip540)\" d=\"M1980.74 201.036 Q1975.58 201.036 1973.59 202.217 Q1971.6 203.397 1971.6 206.245 Q1971.6 208.513 1973.08 209.856 Q1974.59 211.175 1977.16 211.175 Q1980.7 211.175 1982.83 208.675 Q1984.98 206.152 1984.98 201.985 L1984.98 201.036 L1980.74 201.036 M1989.24 199.277 L1989.24 214.069 L1984.98 214.069 L1984.98 210.133 Q1983.52 212.495 1981.35 213.629 Q1979.17 214.74 1976.02 214.74 Q1972.04 214.74 1969.68 212.518 Q1967.34 210.272 1967.34 206.522 Q1967.34 202.147 1970.26 199.925 Q1973.2 197.703 1979.01 197.703 L1984.98 197.703 L1984.98 197.286 Q1984.98 194.347 1983.04 192.749 Q1981.12 191.129 1977.62 191.129 Q1975.4 191.129 1973.29 191.661 Q1971.18 192.194 1969.24 193.259 L1969.24 189.323 Q1971.58 188.421 1973.78 187.981 Q1975.98 187.518 1978.06 187.518 Q1983.68 187.518 1986.46 190.434 Q1989.24 193.351 1989.24 199.277 Z\" fill=\"#000000\" fill-rule=\"evenodd\" fill-opacity=\"1\" /><path clip-path=\"url(#clip540)\" d=\"M1998.01 178.05 L2002.27 178.05 L2002.27 214.069 L1998.01 214.069 L1998.01 178.05 Z\" fill=\"#000000\" fill-rule=\"evenodd\" fill-opacity=\"1\" /><path clip-path=\"url(#clip540)\" d=\"M2038.04 201.036 Q2032.87 201.036 2030.88 202.217 Q2028.89 203.397 2028.89 206.245 Q2028.89 208.513 2030.37 209.856 Q2031.88 211.175 2034.45 211.175 Q2037.99 211.175 2040.12 208.675 Q2042.27 206.152 2042.27 201.985 L2042.27 201.036 L2038.04 201.036 M2046.53 199.277 L2046.53 214.069 L2042.27 214.069 L2042.27 210.133 Q2040.81 212.495 2038.64 213.629 Q2036.46 214.74 2033.31 214.74 Q2029.33 214.74 2026.97 212.518 Q2024.63 210.272 2024.63 206.522 Q2024.63 202.147 2027.55 199.925 Q2030.49 197.703 2036.3 197.703 L2042.27 197.703 L2042.27 197.286 Q2042.27 194.347 2040.33 192.749 Q2038.41 191.129 2034.91 191.129 Q2032.69 191.129 2030.58 191.661 Q2028.48 192.194 2026.53 193.259 L2026.53 189.323 Q2028.87 188.421 2031.07 187.981 Q2033.27 187.518 2035.35 187.518 Q2040.98 187.518 2043.75 190.434 Q2046.53 193.351 2046.53 199.277 Z\" fill=\"#000000\" fill-rule=\"evenodd\" fill-opacity=\"1\" /><path clip-path=\"url(#clip540)\" d=\"M2073.96 189.138 L2073.96 193.12 Q2072.16 192.124 2070.33 191.638 Q2068.52 191.129 2066.67 191.129 Q2062.53 191.129 2060.24 193.768 Q2057.94 196.384 2057.94 201.129 Q2057.94 205.874 2060.24 208.513 Q2062.53 211.129 2066.67 211.129 Q2068.52 211.129 2070.33 210.643 Q2072.16 210.133 2073.96 209.138 L2073.96 213.073 Q2072.18 213.907 2070.26 214.323 Q2068.36 214.74 2066.21 214.74 Q2060.35 214.74 2056.9 211.059 Q2053.45 207.379 2053.45 201.129 Q2053.45 194.786 2056.93 191.152 Q2060.42 187.518 2066.49 187.518 Q2068.45 187.518 2070.33 187.935 Q2072.2 188.328 2073.96 189.138 Z\" fill=\"#000000\" fill-rule=\"evenodd\" fill-opacity=\"1\" /><path clip-path=\"url(#clip540)\" d=\"M2100.03 189.138 L2100.03 193.12 Q2098.22 192.124 2096.39 191.638 Q2094.59 191.129 2092.74 191.129 Q2088.59 191.129 2086.3 193.768 Q2084.01 196.384 2084.01 201.129 Q2084.01 205.874 2086.3 208.513 Q2088.59 211.129 2092.74 211.129 Q2094.59 211.129 2096.39 210.643 Q2098.22 210.133 2100.03 209.138 L2100.03 213.073 Q2098.24 213.907 2096.32 214.323 Q2094.42 214.74 2092.27 214.74 Q2086.42 214.74 2082.97 211.059 Q2079.52 207.379 2079.52 201.129 Q2079.52 194.786 2082.99 191.152 Q2086.49 187.518 2092.55 187.518 Q2094.52 187.518 2096.39 187.935 Q2098.27 188.328 2100.03 189.138 Z\" fill=\"#000000\" fill-rule=\"evenodd\" fill-opacity=\"1\" /><path clip-path=\"url(#clip540)\" d=\"M2106.99 203.837 L2106.99 188.143 L2111.25 188.143 L2111.25 203.675 Q2111.25 207.356 2112.69 209.208 Q2114.12 211.036 2116.99 211.036 Q2120.44 211.036 2122.43 208.837 Q2124.45 206.638 2124.45 202.842 L2124.45 188.143 L2128.71 188.143 L2128.71 214.069 L2124.45 214.069 L2124.45 210.087 Q2122.9 212.448 2120.84 213.606 Q2118.8 214.74 2116.09 214.74 Q2111.62 214.74 2109.31 211.962 Q2106.99 209.184 2106.99 203.837 M2117.71 187.518 L2117.71 187.518 Z\" fill=\"#000000\" fill-rule=\"evenodd\" fill-opacity=\"1\" /><path clip-path=\"url(#clip540)\" d=\"M2152.5 192.124 Q2151.79 191.708 2150.93 191.522 Q2150.1 191.314 2149.08 191.314 Q2145.47 191.314 2143.52 193.675 Q2141.6 196.013 2141.6 200.411 L2141.6 214.069 L2137.32 214.069 L2137.32 188.143 L2141.6 188.143 L2141.6 192.171 Q2142.94 189.809 2145.1 188.675 Q2147.25 187.518 2150.33 187.518 Q2150.77 187.518 2151.3 187.587 Q2151.83 187.634 2152.48 187.749 L2152.5 192.124 Z\" fill=\"#000000\" fill-rule=\"evenodd\" fill-opacity=\"1\" /><path clip-path=\"url(#clip540)\" d=\"M2168.75 201.036 Q2163.59 201.036 2161.6 202.217 Q2159.61 203.397 2159.61 206.245 Q2159.61 208.513 2161.09 209.856 Q2162.6 211.175 2165.17 211.175 Q2168.71 211.175 2170.84 208.675 Q2172.99 206.152 2172.99 201.985 L2172.99 201.036 L2168.75 201.036 M2177.25 199.277 L2177.25 214.069 L2172.99 214.069 L2172.99 210.133 Q2171.53 212.495 2169.35 213.629 Q2167.18 214.74 2164.03 214.74 Q2160.05 214.74 2157.69 212.518 Q2155.35 210.272 2155.35 206.522 Q2155.35 202.147 2158.27 199.925 Q2161.21 197.703 2167.02 197.703 L2172.99 197.703 L2172.99 197.286 Q2172.99 194.347 2171.04 192.749 Q2169.12 191.129 2165.63 191.129 Q2163.41 191.129 2161.3 191.661 Q2159.19 192.194 2157.25 193.259 L2157.25 189.323 Q2159.59 188.421 2161.79 187.981 Q2163.98 187.518 2166.07 187.518 Q2171.69 187.518 2174.47 190.434 Q2177.25 193.351 2177.25 199.277 Z\" fill=\"#000000\" fill-rule=\"evenodd\" fill-opacity=\"1\" /><path clip-path=\"url(#clip540)\" d=\"M2204.68 189.138 L2204.68 193.12 Q2202.87 192.124 2201.04 191.638 Q2199.24 191.129 2197.39 191.129 Q2193.24 191.129 2190.95 193.768 Q2188.66 196.384 2188.66 201.129 Q2188.66 205.874 2190.95 208.513 Q2193.24 211.129 2197.39 211.129 Q2199.24 211.129 2201.04 210.643 Q2202.87 210.133 2204.68 209.138 L2204.68 213.073 Q2202.9 213.907 2200.98 214.323 Q2199.08 214.74 2196.92 214.74 Q2191.07 214.74 2187.62 211.059 Q2184.17 207.379 2184.17 201.129 Q2184.17 194.786 2187.64 191.152 Q2191.14 187.518 2197.2 187.518 Q2199.17 187.518 2201.04 187.935 Q2202.92 188.328 2204.68 189.138 Z\" fill=\"#000000\" fill-rule=\"evenodd\" fill-opacity=\"1\" /><path clip-path=\"url(#clip540)\" d=\"M2222.87 216.476 Q2221.07 221.106 2219.35 222.518 Q2217.64 223.93 2214.77 223.93 L2211.37 223.93 L2211.37 220.365 L2213.87 220.365 Q2215.63 220.365 2216.6 219.532 Q2217.57 218.698 2218.75 215.596 L2219.52 213.652 L2209.03 188.143 L2213.54 188.143 L2221.65 208.421 L2229.75 188.143 L2234.26 188.143 L2222.87 216.476 Z\" fill=\"#000000\" fill-rule=\"evenodd\" fill-opacity=\"1\" /></svg>\n"
      ]
     },
     "execution_count": 16,
     "metadata": {},
     "output_type": "execute_result"
    }
   ],
   "source": [
    "plot([best_model_gs[3,:], best_model_gs[4,:]],\n",
    "    labels=[\"trn accuracy\" \"val accuracy\" ],xlabel=\"Iterations\",ylabel=\"Accuracy\")"
   ]
  },
  {
   "cell_type": "code",
   "execution_count": 3,
   "id": "59996fd5",
   "metadata": {},
   "outputs": [],
   "source": [
    "include(\"models.jl\");\n",
    "include(\"training.jl\");\n",
    "include(\"preprocess.jl\");"
   ]
  },
  {
   "cell_type": "code",
   "execution_count": 4,
   "id": "704ddbe7",
   "metadata": {},
   "outputs": [],
   "source": [
    "model = generate_alexnet_model( 5 ; pretrained = true);"
   ]
  },
  {
   "cell_type": "code",
   "execution_count": 5,
   "id": "5a0669a5",
   "metadata": {},
   "outputs": [
    {
     "name": "stdout",
     "output_type": "stream",
     "text": [
      "(11, 11, 3, 64)\n",
      "(1, 1, 64, 1)\n",
      "(5, 5, 64, 192)\n",
      "(1, 1, 192, 1)\n",
      "(3, 3, 192, 384)\n",
      "(1, 1, 384, 1)\n",
      "(3, 3, 384, 256)\n",
      "(1, 1, 256, 1)\n",
      "(3, 3, 256, 256)\n",
      "(1, 1, 256, 1)\n",
      "(4096, 9216)\n",
      "(4096,)\n",
      "(4096, 4096)\n",
      "(4096,)\n",
      "(5, 4096)\n",
      "(5,)\n"
     ]
    }
   ],
   "source": [
    "for param in params(model)\n",
    "    param.opt = Adam(; lr=1e-5)\n",
    "    println(size(param))\n",
    "end"
   ]
  },
  {
   "cell_type": "code",
   "execution_count": 8,
   "id": "0eecc875",
   "metadata": {},
   "outputs": [],
   "source": [
    "num_iter=500\n",
    "check_freq=20\n",
    "batchsize = 128\n",
    "atype = Array{Float32}\n",
    "data_path = \"/Users/ufukaltun/Documents/koç/dersler/ku deep learning/project_final\";"
   ]
  },
  {
   "cell_type": "code",
   "execution_count": 9,
   "id": "5f5c5d09",
   "metadata": {},
   "outputs": [
    {
     "name": "stdout",
     "output_type": "stream",
     "text": [
      "Datasets are loaded\n"
     ]
    },
    {
     "name": "stderr",
     "output_type": "stream",
     "text": [
      "\r",
      "[1, 00:01, 1.28i/s] "
     ]
    },
    {
     "name": "stdout",
     "output_type": "stream",
     "text": [
      "First batch is trained successfully\n"
     ]
    },
    {
     "name": "stderr",
     "output_type": "stream",
     "text": [
      "[20, 16:02, 47.85s/i] "
     ]
    },
    {
     "name": "stdout",
     "output_type": "stream",
     "text": [
      "Train loss: 1.2925138  Val loss: 1.2244875  Train acc: 0.4578450520833333  Val acc: 0.4817708333333333\n"
     ]
    },
    {
     "name": "stderr",
     "output_type": "stream",
     "text": [
      "[40, 39:13, 50.03s/i]  "
     ]
    },
    {
     "name": "stdout",
     "output_type": "stream",
     "text": [
      "Train loss: 1.1738372  Val loss: 1.1038848  Train acc: 0.5037434895833334  Val acc: 0.5611979166666666\n"
     ]
    },
    {
     "name": "stderr",
     "output_type": "stream",
     "text": [
      "[60, 01:02:40, 51.68s/i] "
     ]
    },
    {
     "name": "stdout",
     "output_type": "stream",
     "text": [
      "Train loss: 1.1010834  Val loss: 1.0475267  Train acc: 0.5330403645833334  Val acc: 0.5755208333333334\n"
     ]
    },
    {
     "name": "stderr",
     "output_type": "stream",
     "text": [
      "[80, 01:25:56, 47.03s/i]  "
     ]
    },
    {
     "name": "stdout",
     "output_type": "stream",
     "text": [
      "Train loss: 1.0621305  Val loss: 0.9729614  Train acc: 0.5447591145833334  Val acc: 0.6015625\n"
     ]
    },
    {
     "name": "stderr",
     "output_type": "stream",
     "text": [
      "[100, 01:49:16, 53.54s/i] "
     ]
    },
    {
     "name": "stdout",
     "output_type": "stream",
     "text": [
      "Train loss: 1.022398  Val loss: 0.97898716  Train acc: 0.5709635416666666  Val acc: 0.6197916666666666\n"
     ]
    },
    {
     "name": "stderr",
     "output_type": "stream",
     "text": [
      "[120, 02:13:02, 50.52s/i]  "
     ]
    },
    {
     "name": "stdout",
     "output_type": "stream",
     "text": [
      "Train loss: 0.99339175  Val loss: 0.9174049  Train acc: 0.5849609375  Val acc: 0.6315104166666666\n"
     ]
    },
    {
     "name": "stderr",
     "output_type": "stream",
     "text": [
      "[140, 02:37:12, 47.03s/i]  "
     ]
    },
    {
     "name": "stdout",
     "output_type": "stream",
     "text": [
      "Train loss: 0.97468984  Val loss: 0.90997434  Train acc: 0.59814453125  Val acc: 0.62109375\n"
     ]
    },
    {
     "name": "stderr",
     "output_type": "stream",
     "text": [
      "[160, 02:59:54, 45.96s/i]  "
     ]
    },
    {
     "name": "stdout",
     "output_type": "stream",
     "text": [
      "Train loss: 0.95654446  Val loss: 0.9035623  Train acc: 0.6012369791666666  Val acc: 0.6393229166666666\n"
     ]
    },
    {
     "name": "stderr",
     "output_type": "stream",
     "text": [
      "[180, 03:22:01, 44.99s/i]  "
     ]
    },
    {
     "name": "stdout",
     "output_type": "stream",
     "text": [
      "Train loss: 0.9458525  Val loss: 0.86992085  Train acc: 0.6119791666666666  Val acc: 0.6484375\n"
     ]
    },
    {
     "name": "stderr",
     "output_type": "stream",
     "text": [
      "[200, 03:44:06, 45.39s/i]  "
     ]
    },
    {
     "name": "stdout",
     "output_type": "stream",
     "text": [
      "Train loss: 0.93080896  Val loss: 0.86500037  Train acc: 0.61669921875  Val acc: 0.6484375\n"
     ]
    },
    {
     "name": "stderr",
     "output_type": "stream",
     "text": [
      "[220, 04:06:15, 46.14s/i]  "
     ]
    },
    {
     "name": "stdout",
     "output_type": "stream",
     "text": [
      "Train loss: 0.9287529  Val loss: 0.866237  Train acc: 0.6232096354166666  Val acc: 0.6614583333333334\n"
     ]
    },
    {
     "name": "stderr",
     "output_type": "stream",
     "text": [
      "[240, 04:28:31, 45.05s/i]  "
     ]
    },
    {
     "name": "stdout",
     "output_type": "stream",
     "text": [
      "Train loss: 0.9161434  Val loss: 0.8335563  Train acc: 0.6292317708333334  Val acc: 0.6666666666666666\n"
     ]
    },
    {
     "name": "stderr",
     "output_type": "stream",
     "text": [
      "[260, 04:50:46, 45.50s/i]  "
     ]
    },
    {
     "name": "stdout",
     "output_type": "stream",
     "text": [
      "Train loss: 0.9102886  Val loss: 0.8686609  Train acc: 0.6311848958333334  Val acc: 0.66015625\n"
     ]
    },
    {
     "name": "stderr",
     "output_type": "stream",
     "text": [
      "[280, 05:12:58, 45.81s/i]  "
     ]
    },
    {
     "name": "stdout",
     "output_type": "stream",
     "text": [
      "Train loss: 0.9045811  Val loss: 0.82474035  Train acc: 0.6326497395833334  Val acc: 0.6783854166666666\n"
     ]
    },
    {
     "name": "stderr",
     "output_type": "stream",
     "text": [
      "[300, 05:35:04, 46.00s/i]  "
     ]
    },
    {
     "name": "stdout",
     "output_type": "stream",
     "text": [
      "Train loss: 0.9042395  Val loss: 0.8474678  Train acc: 0.6368815104166666  Val acc: 0.6692708333333334\n"
     ]
    },
    {
     "name": "stderr",
     "output_type": "stream",
     "text": [
      "[320, 05:57:16, 43.64s/i]  "
     ]
    },
    {
     "name": "stdout",
     "output_type": "stream",
     "text": [
      "Train loss: 0.9083436  Val loss: 0.8345581  Train acc: 0.64013671875  Val acc: 0.6848958333333334\n"
     ]
    },
    {
     "name": "stderr",
     "output_type": "stream",
     "text": [
      "[340, 06:19:13, 47.29s/i]  "
     ]
    },
    {
     "name": "stdout",
     "output_type": "stream",
     "text": [
      "Train loss: 0.91574377  Val loss: 0.83285093  Train acc: 0.6455078125  Val acc: 0.6731770833333334\n"
     ]
    },
    {
     "name": "stderr",
     "output_type": "stream",
     "text": [
      "[360, 06:41:20, 44.15s/i]  "
     ]
    },
    {
     "name": "stdout",
     "output_type": "stream",
     "text": [
      "Train loss: 0.9111129  Val loss: 0.8236778  Train acc: 0.6492513020833334  Val acc: 0.6783854166666666\n"
     ]
    },
    {
     "name": "stderr",
     "output_type": "stream",
     "text": [
      "[380, 07:03:22, 46.04s/i]  "
     ]
    },
    {
     "name": "stdout",
     "output_type": "stream",
     "text": [
      "Train loss: 0.90977216  Val loss: 0.81879246  Train acc: 0.6487630208333334  Val acc: 0.6888020833333334\n"
     ]
    },
    {
     "name": "stderr",
     "output_type": "stream",
     "text": [
      "[400, 07:25:41, 46.23s/i]  "
     ]
    },
    {
     "name": "stdout",
     "output_type": "stream",
     "text": [
      "Train loss: 0.92108124  Val loss: 0.86042637  Train acc: 0.64892578125  Val acc: 0.6861979166666666\n"
     ]
    },
    {
     "name": "stderr",
     "output_type": "stream",
     "text": [
      "[420, 07:47:55, 45.65s/i]  "
     ]
    },
    {
     "name": "stdout",
     "output_type": "stream",
     "text": [
      "Train loss: 0.9266589  Val loss: 0.83805656  Train acc: 0.6463216145833334  Val acc: 0.69140625\n"
     ]
    },
    {
     "name": "stderr",
     "output_type": "stream",
     "text": [
      "[440, 08:10:13, 45.35s/i]  "
     ]
    },
    {
     "name": "stdout",
     "output_type": "stream",
     "text": [
      "Train loss: 0.938938  Val loss: 0.83751345  Train acc: 0.6443684895833334  Val acc: 0.6875\n"
     ]
    },
    {
     "name": "stderr",
     "output_type": "stream",
     "text": [
      "[460, 08:32:22, 47.14s/i]  "
     ]
    },
    {
     "name": "stdout",
     "output_type": "stream",
     "text": [
      "Train loss: 0.94287866  Val loss: 0.8499736  Train acc: 0.6463216145833334  Val acc: 0.671875\n"
     ]
    },
    {
     "name": "stderr",
     "output_type": "stream",
     "text": [
      "[480, 08:54:20, 45.07s/i]  "
     ]
    },
    {
     "name": "stdout",
     "output_type": "stream",
     "text": [
      "Train loss: 0.94519895  Val loss: 0.8231213  Train acc: 0.6512044270833334  Val acc: 0.6848958333333334\n"
     ]
    },
    {
     "name": "stderr",
     "output_type": "stream",
     "text": [
      "[500, 09:16:33, 45.89s/i]  "
     ]
    },
    {
     "name": "stdout",
     "output_type": "stream",
     "text": [
      "Train loss: 0.970165  Val loss: 0.88401914  Train acc: 0.64794921875  Val acc: 0.6888020833333334\n",
      "Training ended successfully, saving the results\n",
      "Test loss: 1.0041416  Test acc: 0.59375\n"
     ]
    }
   ],
   "source": [
    "loss, acc = train(\"gs\", \"VLCS\", \"Caltech101\", model; num_iter=num_iter, \n",
    "                                                     check_freq=check_freq, \n",
    "                                                     batchsize=batchsize, \n",
    "                                                     data_path=data_path, \n",
    "                                                     atype=atype);"
   ]
  },
  {
   "cell_type": "code",
   "execution_count": null,
   "id": "76adbad6",
   "metadata": {},
   "outputs": [],
   "source": []
  },
  {
   "cell_type": "code",
   "execution_count": 13,
   "id": "00462ddf",
   "metadata": {},
   "outputs": [],
   "source": [
    "best_model = load(\"/Users/ufukaltun/Documents/koç/dersler/ku deep learning/project_final/best_model_gs_target_Caltech101.jld2\")[\"weights\"];"
   ]
  },
  {
   "cell_type": "code",
   "execution_count": 15,
   "id": "fbb05c89",
   "metadata": {},
   "outputs": [],
   "source": [
    "d_trn, d_val, d_tst, d_trn_dom1, d_trn_dom2, d_trn_dom3 = VLCS(data_path, batchsize, atype, \"Caltech101\");"
   ]
  },
  {
   "cell_type": "code",
   "execution_count": 16,
   "id": "be4bab59",
   "metadata": {},
   "outputs": [
    {
     "name": "stdout",
     "output_type": "stream",
     "text": [
      "Test loss: 1.0491506  Test acc: 0.5859375\n"
     ]
    }
   ],
   "source": [
    "    tst_loss = best_model(d_tst)\n",
    "    tst_acc = accuracy(best_model,data=d_tst)\n",
    "    println(\"Test loss: \", tst_loss, \"  Test acc: \", tst_acc)"
   ]
  },
  {
   "cell_type": "code",
   "execution_count": null,
   "id": "be399083",
   "metadata": {},
   "outputs": [],
   "source": []
  },
  {
   "cell_type": "code",
   "execution_count": null,
   "id": "58e0e8e9",
   "metadata": {},
   "outputs": [],
   "source": []
  }
 ],
 "metadata": {
  "kernelspec": {
   "display_name": "Julia 1.6.4",
   "language": "julia",
   "name": "julia-1.6"
  },
  "language_info": {
   "file_extension": ".jl",
   "mimetype": "application/julia",
   "name": "julia",
   "version": "1.6.4"
  }
 },
 "nbformat": 4,
 "nbformat_minor": 5
}
