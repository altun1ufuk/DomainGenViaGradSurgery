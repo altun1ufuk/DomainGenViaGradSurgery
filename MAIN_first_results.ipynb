{
 "cells": [
  {
   "cell_type": "markdown",
   "metadata": {
    "id": "tQ1r1bbb0yBv"
   },
   "source": [
    "Domain Generalization via Gradient Surgery\n",
    "\n",
    "Ufuk Altun\n",
    "\n",
    "The Baseline Model"
   ]
  },
  {
   "cell_type": "code",
   "execution_count": null,
   "metadata": {
    "id": "cg1Ls-SnyxZc"
   },
   "outputs": [],
   "source": [
    "using Pkg; \n",
    "pkg\"add Knet IterTools MLDatasets FileIO Images CUDA\""
   ]
  },
  {
   "cell_type": "code",
   "execution_count": 1,
   "metadata": {
    "id": "Z-yHmg8N-ayo"
   },
   "outputs": [],
   "source": [
    "ENV[\"COLUMNS\"]=72\n",
    "using Base.Iterators: flatten\n",
    "using IterTools: ncycle, takenth\n",
    "using Statistics: mean\n",
    "using MLDatasets: MNIST\n",
    "using FileIO: load, save\n",
    "using CUDA: CUDA, CuArray # functional\n",
    "using Knet: Knet, conv4, pool, mat, nll, accuracy, progress, sgd, param, param0, dropout, relu, minibatch, Data\n",
    "using Knet, IterTools\n",
    "using Images"
   ]
  },
  {
   "cell_type": "code",
   "execution_count": 2,
   "metadata": {},
   "outputs": [],
   "source": [
    "xtrain1=load(\"xdata_cartoon.jld2\")[\"data\"];\n",
    "ytrain1=load(\"ydata_cartoon.jld2\")[\"data\"];\n",
    "\n",
    "xtrain2=load(\"xdata_photo.jld2\")[\"data\"];\n",
    "ytrain2=load(\"ydata_photo.jld2\")[\"data\"];\n",
    "\n",
    "xtrain3=load(\"xdata_sketch.jld2\")[\"data\"];\n",
    "ytrain3=load(\"ydata_sketch.jld2\")[\"data\"];\n",
    "\n",
    "xtest=load(\"xdata_art_painting.jld2\")[\"data\"];\n",
    "ytest=load(\"ydata_art_painting.jld2\")[\"data\"];\n"
   ]
  },
  {
   "cell_type": "code",
   "execution_count": 3,
   "metadata": {},
   "outputs": [
    {
     "name": "stdout",
     "output_type": "stream",
     "text": [
      "size(xtrain1) = (227, 227, 3, 2344)\n",
      "size(ytrain1) = (2344,)\n",
      "size(xtrain2) = (227, 227, 3, 1670)\n",
      "size(ytrain2) = (1670,)\n",
      "size(xtrain3) = (227, 227, 3, 3929)\n",
      "size(ytrain3) = (3929,)\n",
      "size(xtest) = (227, 227, 3, 2048)\n",
      "size(ytest) = (2048,)\n"
     ]
    },
    {
     "data": {
      "text/plain": [
       "(2048,)"
      ]
     },
     "execution_count": 3,
     "metadata": {},
     "output_type": "execute_result"
    }
   ],
   "source": [
    "@show size(xtrain1)\n",
    "@show size(ytrain1)\n",
    "@show size(xtrain2)\n",
    "@show size(ytrain2)\n",
    "@show size(xtrain3)\n",
    "@show size(ytrain3)\n",
    "@show size(xtest)\n",
    "@show size(ytest)"
   ]
  },
  {
   "cell_type": "code",
   "execution_count": 4,
   "metadata": {},
   "outputs": [],
   "source": [
    "dtrn1=Knet.minibatch(xtrain1[:,:,:,1:1000],ytrain1[1:1000],100,xtype=Array{Float32},ytype=Array{Int32});\n",
    "dtrn2=Knet.minibatch(xtrain2[:,:,:,1:1000],ytrain2[1:1000],100,xtype=Array{Float32},ytype=Array{Int32});\n",
    "dtrn3=Knet.minibatch(xtrain3[:,:,:,1:1000],ytrain3[1:1000],100,xtype=Array{Float32},ytype=Array{Int32});\n",
    "\n",
    "dtrn_baseline=Knet.minibatch(cat(xtrain1[:,:,:,1:1000],xtrain2[:,:,:,1:1000],xtrain3[:,:,:,1:1000],dims=4), cat(ytrain1[1:1000],ytrain2[1:1000],ytrain3[1:1000],dims=1), 100, shuffle=true, xtype=Array{Float32},ytype=Array{Int32});\n",
    "\n",
    "dtst=Knet.minibatch(xtest,ytest,100, xtype=Array{Float32},ytype=Array{Int32});"
   ]
  },
  {
   "cell_type": "code",
   "execution_count": 21,
   "metadata": {},
   "outputs": [
    {
     "data": {
      "text/plain": [
       "trainresults (generic function with 1 method)"
      ]
     },
     "execution_count": 21,
     "metadata": {},
     "output_type": "execute_result"
    }
   ],
   "source": [
    "include(\"models.jl\")\n",
    "include(\"utils.jl\")"
   ]
  },
  {
   "cell_type": "code",
   "execution_count": 22,
   "metadata": {},
   "outputs": [],
   "source": [
    "GS_model =   Chain(Conv(11, 11,   3,  96;pad_conv=0,stri_conv=4,pad_pool=0,stri_pool=2),\n",
    "                         Conv( 5,  5,  96, 256;pad_conv=2,stri_conv=1,pad_pool=0,stri_pool=2),\n",
    "                         Conv( 3,  3, 256, 384;pad_conv=1,stri_conv=1,pad_pool=0,stri_pool=1,wind=1),\n",
    "                         Conv( 3,  3, 384, 384;pad_conv=1,stri_conv=1,pad_pool=0,stri_pool=1,wind=1),\n",
    "                         Conv( 3,  3, 384, 256;pad_conv=1,stri_conv=1,pad_pool=0,stri_pool=3),\n",
    "                    Dense(4*4*256, 4*4*256,identity,pdrop=0.5),\n",
    "                    Dense(4*4*256, 7,identity,pdrop=0.5));"
   ]
  },
  {
   "cell_type": "code",
   "execution_count": 23,
   "metadata": {},
   "outputs": [],
   "source": [
    "baseline_model =   Chain(Conv(11, 11,   3,  96;pad_conv=0,stri_conv=4,pad_pool=0,stri_pool=2),\n",
    "                         Conv( 5,  5,  96, 256;pad_conv=2,stri_conv=1,pad_pool=0,stri_pool=2),\n",
    "                         Conv( 3,  3, 256, 384;pad_conv=1,stri_conv=1,pad_pool=0,stri_pool=1,wind=1),\n",
    "                         Conv( 3,  3, 384, 384;pad_conv=1,stri_conv=1,pad_pool=0,stri_pool=1,wind=1),\n",
    "                         Conv( 3,  3, 384, 256;pad_conv=1,stri_conv=1,pad_pool=0,stri_pool=3),\n",
    "                    Dense(4*4*256, 4*4*256,identity,pdrop=0.5),\n",
    "                    Dense(4*4*256, 7,identity,pdrop=0.5));"
   ]
  },
  {
   "cell_type": "code",
   "execution_count": 24,
   "metadata": {},
   "outputs": [
    {
     "name": "stdout",
     "output_type": "stream",
     "text": [
      "Train from scratch? stdin> y\n"
     ]
    },
    {
     "name": "stderr",
     "output_type": "stream",
     "text": [
      "┣██                  ┫ [10.00%, 10/100, 05:53/58:47, 32.67s/i]  ┌ Warning: accuracy(model,data; o...) is deprecated, please use accuracy(model; data=data, o...)\n",
      "└ @ Knet.Ops20 /Users/ufukaltun/.julia/packages/Knet/59nH1/src/ops20/loss.jl:205\n",
      "┣████████████████████┫ [100.00%, 100/100, 01:54:10/01:54:10, 68.50s/i] \n"
     ]
    },
    {
     "name": "stdout",
     "output_type": "stream",
     "text": [
      "Float32[NaN; NaN; 0.55; 0.8105]\n"
     ]
    }
   ],
   "source": [
    "GS = trainresultsGS(\"GS.jld2\",GS_model);"
   ]
  },
  {
   "cell_type": "code",
   "execution_count": 39,
   "metadata": {},
   "outputs": [
    {
     "name": "stdout",
     "output_type": "stream",
     "text": [
      "Train from scratch? stdin> y\n"
     ]
    },
    {
     "name": "stderr",
     "output_type": "stream",
     "text": [
      "┣████████████████████┫ [100.00%, 300/300, 02:43:36/02:43:36, 32.72s/i]  \n"
     ]
    },
    {
     "name": "stdout",
     "output_type": "stream",
     "text": [
      "Float32[1.3590528; 2.4063256; 0.55; 0.8105]\n"
     ]
    }
   ],
   "source": [
    "baseline = trainresults(\"baseline.jld2\",baseline_model);"
   ]
  },
  {
   "cell_type": "code",
   "execution_count": 25,
   "metadata": {},
   "outputs": [
    {
     "data": {
      "image/png": "[encoded data removed]"
     },
     "execution_count": 25,
     "metadata": {},
     "output_type": "execute_result"
    }
   ],
   "source": [
    "using Plots; default(fmt=:png,ls=:auto)\n",
    "\n",
    "plot([GS[1,:], GS[2,:]],ylim=(0.0,2),\n",
    "     labels=[\"trnGS\" \"tstGS\"],xlabel=\"Epochs\",ylabel=\"Loss\")"
   ]
  },
  {
   "cell_type": "code",
   "execution_count": 38,
   "metadata": {},
   "outputs": [
    {
     "data": {
      "image/png": "[encoded data removed]"
     },
     "execution_count": 38,
     "metadata": {},
     "output_type": "execute_result"
    }
   ],
   "source": [
    "plot(  [GS[3,:] , GS[4,:] ],ylim=(0.0,2),\n",
    "     labels=[\"trnGS\" \"tstGS\"],xlabel=\"Epochs\",ylabel=\"Accuracy\")"
   ]
  },
  {
   "cell_type": "code",
   "execution_count": 41,
   "metadata": {},
   "outputs": [
    {
     "data": {
      "image/png": "[encoded data removed]"
     },
     "execution_count": 41,
     "metadata": {},
     "output_type": "execute_result"
    }
   ],
   "source": [
    "plot([baseline[3,:], baseline[4,:]],ylim=(0.0,2),\n",
    "     labels=[\"trnBaseline\" \"tstBaseline\"],xlabel=\"Epochs\",ylabel=\"Loss\")"
   ]
  },
  {
   "cell_type": "code",
   "execution_count": 44,
   "metadata": {},
   "outputs": [
    {
     "data": {
      "text/plain": [
       "0.1895"
      ]
     },
     "execution_count": 44,
     "metadata": {},
     "output_type": "execute_result"
    }
   ],
   "source": [
    "accuracy(baseline_model,data=dtst)"
   ]
  },
  {
   "cell_type": "code",
   "execution_count": null,
   "metadata": {},
   "outputs": [],
   "source": []
  },
  {
   "cell_type": "markdown",
   "metadata": {},
   "source": [
    "Deneme"
   ]
  },
  {
   "cell_type": "code",
   "execution_count": null,
   "metadata": {},
   "outputs": [
    {
     "name": "stdout",
     "output_type": "stream",
     "text": [
      "param1 = P(Array{Float32, 4}(11,11,3,96))\n",
      "param1 = P(Array{Float32, 4}(1,1,96,1))\n",
      "param1 = P(Array{Float32, 4}(5,5,96,256))\n",
      "param1 = P(Array{Float32, 4}(1,1,256,1))\n",
      "param1 = P(Array{Float32, 4}(3,3,256,384))\n",
      "param1 = P(Array{Float32, 4}(1,1,384,1))\n",
      "param1 = P(Array{Float32, 4}(3,3,384,384))\n",
      "param1 = P(Array{Float32, 4}(1,1,384,1))\n",
      "param1 = P(Array{Float32, 4}(3,3,384,256))\n",
      "param1 = P(Array{Float32, 4}(1,1,256,1))\n",
      "param1 = P(Matrix{Float32}(4096,4096))\n",
      "param1 = "
     ]
    },
    {
     "name": "stderr",
     "output_type": "stream",
     "text": [
      "\r",
      "┣▏                   ┫ [1.00%, 1/100, 01:02/01:42:47, 61.67s/i] "
     ]
    },
    {
     "name": "stdout",
     "output_type": "stream",
     "text": [
      "P(Vector{Float32}(4096))\n",
      "param1 = P(Matrix{Float32}(7,4096))\n",
      "param1 = P(Vector{Float32}(7))\n",
      "param1 = P(Array{Float32, 4}(11,11,3,96))\n",
      "param1 = P(Array{Float32, 4}(1,1,96,1))\n",
      "param1 = P(Array{Float32, 4}(5,5,96,256))\n",
      "param1 = P(Array{Float32, 4}(1,1,256,1))\n",
      "param1 = P(Array{Float32, 4}(3,3,256,384))\n",
      "param1 = P(Array{Float32, 4}(1,1,384,1))\n",
      "param1 = P(Array{Float32, 4}(3,3,384,384))\n",
      "param1 = P(Array{Float32, 4}(1,1,384,1))\n",
      "param1 = P(Array{Float32, 4}(3,3,384,256))\n",
      "param1 = P(Array{Float32, 4}(1,1,256,1))\n"
     ]
    },
    {
     "name": "stderr",
     "output_type": "stream",
     "text": [
      "\r",
      "┣▍                   ┫ [2.00%, 2/100, 01:35/01:19:03, 33.19s/i] "
     ]
    },
    {
     "name": "stdout",
     "output_type": "stream",
     "text": [
      "param1 = P(Matrix{Float32}(4096,4096))\n",
      "param1 = P(Vector{Float32}(4096))\n",
      "param1 = P(Matrix{Float32}(7,4096))\n",
      "param1 = P(Vector{Float32}(7))\n",
      "param1 = P(Array{Float32, 4}(11,11,3,96))\n",
      "param1 = P(Array{Float32, 4}(1,1,96,1))\n",
      "param1 = P(Array{Float32, 4}(5,5,96,256))\n",
      "param1 = P(Array{Float32, 4}(1,1,256,1))\n",
      "param1 = P(Array{Float32, 4}(3,3,256,384))\n",
      "param1 = P(Array{Float32, 4}(1,1,384,1))\n",
      "param1 = P(Array{Float32, 4}(3,3,384,384))\n",
      "param1 = P(Array{Float32, 4}(1,1,384,1))\n",
      "param1 = P(Array{Float32, 4}(3,3,384,256))\n",
      "param1 = P(Array{Float32, 4}(1,1,256,1))\n"
     ]
    },
    {
     "name": "stderr",
     "output_type": "stream",
     "text": [
      "\r",
      "┣▌                   ┫ [3.00%, 3/100, 02:07/01:10:45, 32.49s/i] "
     ]
    },
    {
     "name": "stdout",
     "output_type": "stream",
     "text": [
      "param1 = P(Matrix{Float32}(4096,4096))\n",
      "param1 = P(Vector{Float32}(4096))\n",
      "param1 = P(Matrix{Float32}(7,4096))\n",
      "param1 = P(Vector{Float32}(7))\n"
     ]
    }
   ],
   "source": [
    "progress!(sgdGS(GS_model, ncycle(dtrn1,10), ncycle(dtrn2,10), ncycle(dtrn3,10) ))"
   ]
  },
  {
   "cell_type": "code",
   "execution_count": null,
   "metadata": {},
   "outputs": [],
   "source": []
  },
  {
   "cell_type": "code",
   "execution_count": 38,
   "metadata": {},
   "outputs": [
    {
     "data": {
      "text/latex": [
       "Usage:\n",
       "\n",
       "\\begin{verbatim}\n",
       "x = Param([1,2,3])          # The user declares parameters with `Param`\n",
       "y = @diff sum(x .* x)       # computes gradients using `@diff`\n",
       "grad(y,x) => [2,4,6]        # looks up the gradient of a parameter with `grad`\n",
       "\\end{verbatim}\n",
       "\\texttt{Param(x)} returns a struct that acts like \\texttt{x} but marks it as a parameter you want to compute gradients with respect to.\n",
       "\n",
       "\\texttt{@diff expr} evaluates an expression and returns a struct that contains its value (which should be a scalar) and gradients with respect to the \\texttt{Param}s used in the computation.\n",
       "\n",
       "\\texttt{grad(y, x)} returns the gradient of a \\texttt{@diff} result \\texttt{y} with respect to any parameter \\texttt{x::Param}. (\\texttt{nothing} may be returned if the gradient is 0).\n",
       "\n",
       "\\texttt{value(x)} returns the value associated with \\texttt{x} if \\texttt{x} is a \\texttt{Param} or the output of \\texttt{@diff}, otherwise returns \\texttt{x}.\n",
       "\n",
       "\\texttt{params(x)} returns an iterator of \\texttt{Param}s found by a recursive search of object \\texttt{x}, which is typically a model or a \\texttt{@diff} result.\n",
       "\n",
       "Alternative usage:\n",
       "\n",
       "\\begin{verbatim}\n",
       "x = [1 2 3]\n",
       "f(x) = sum(x .* x)\n",
       "f(x) => 14\n",
       "grad(f)(x) => [2 4 6]\n",
       "gradloss(f)(x) => ([2 4 6], 14)\n",
       "\\end{verbatim}\n",
       "Given a scalar valued function \\texttt{f}, \\texttt{grad(f,argnum=1)} returns another function \\texttt{g} which takes the same inputs as \\texttt{f} and returns the gradient of the output with respect to the argnum'th argument. \\texttt{gradloss} is similar except the resulting function also returns f's output.\n",
       "\n"
      ],
      "text/markdown": [
       "Usage:\n",
       "\n",
       "```\n",
       "x = Param([1,2,3])          # The user declares parameters with `Param`\n",
       "y = @diff sum(x .* x)       # computes gradients using `@diff`\n",
       "grad(y,x) => [2,4,6]        # looks up the gradient of a parameter with `grad`\n",
       "```\n",
       "\n",
       "`Param(x)` returns a struct that acts like `x` but marks it as a parameter you want to compute gradients with respect to.\n",
       "\n",
       "`@diff expr` evaluates an expression and returns a struct that contains its value (which should be a scalar) and gradients with respect to the `Param`s used in the computation.\n",
       "\n",
       "`grad(y, x)` returns the gradient of a `@diff` result `y` with respect to any parameter `x::Param`. (`nothing` may be returned if the gradient is 0).\n",
       "\n",
       "`value(x)` returns the value associated with `x` if `x` is a `Param` or the output of `@diff`, otherwise returns `x`.\n",
       "\n",
       "`params(x)` returns an iterator of `Param`s found by a recursive search of object `x`, which is typically a model or a `@diff` result.\n",
       "\n",
       "Alternative usage:\n",
       "\n",
       "```\n",
       "x = [1 2 3]\n",
       "f(x) = sum(x .* x)\n",
       "f(x) => 14\n",
       "grad(f)(x) => [2 4 6]\n",
       "gradloss(f)(x) => ([2 4 6], 14)\n",
       "```\n",
       "\n",
       "Given a scalar valued function `f`, `grad(f,argnum=1)` returns another function `g` which takes the same inputs as `f` and returns the gradient of the output with respect to the argnum'th argument. `gradloss` is similar except the resulting function also returns f's output.\n"
      ],
      "text/plain": [
       "  Usage:\n",
       "\n",
       "\u001b[36m  x = Param([1,2,3])          # The user declares parameters with `Param`\u001b[39m\n",
       "\u001b[36m  y = @diff sum(x .* x)       # computes gradients using `@diff`\u001b[39m\n",
       "\u001b[36m  grad(y,x) => [2,4,6]        # looks up the gradient of a parameter with `grad`\u001b[39m\n",
       "\n",
       "  \u001b[36mParam(x)\u001b[39m returns a struct that acts like \u001b[36mx\u001b[39m but marks it as a\n",
       "  parameter you want to compute gradients with respect to.\n",
       "\n",
       "  \u001b[36m@diff expr\u001b[39m evaluates an expression and returns a struct that\n",
       "  contains its value (which should be a scalar) and gradients with\n",
       "  respect to the \u001b[36mParam\u001b[39ms used in the computation.\n",
       "\n",
       "  \u001b[36mgrad(y, x)\u001b[39m returns the gradient of a \u001b[36m@diff\u001b[39m result \u001b[36my\u001b[39m with respect to\n",
       "  any parameter \u001b[36mx::Param\u001b[39m. (\u001b[36mnothing\u001b[39m may be returned if the gradient is\n",
       "  0).\n",
       "\n",
       "  \u001b[36mvalue(x)\u001b[39m returns the value associated with \u001b[36mx\u001b[39m if \u001b[36mx\u001b[39m is a \u001b[36mParam\u001b[39m or the\n",
       "  output of \u001b[36m@diff\u001b[39m, otherwise returns \u001b[36mx\u001b[39m.\n",
       "\n",
       "  \u001b[36mparams(x)\u001b[39m returns an iterator of \u001b[36mParam\u001b[39ms found by a recursive search\n",
       "  of object \u001b[36mx\u001b[39m, which is typically a model or a \u001b[36m@diff\u001b[39m result.\n",
       "\n",
       "  Alternative usage:\n",
       "\n",
       "\u001b[36m  x = [1 2 3]\u001b[39m\n",
       "\u001b[36m  f(x) = sum(x .* x)\u001b[39m\n",
       "\u001b[36m  f(x) => 14\u001b[39m\n",
       "\u001b[36m  grad(f)(x) => [2 4 6]\u001b[39m\n",
       "\u001b[36m  gradloss(f)(x) => ([2 4 6], 14)\u001b[39m\n",
       "\n",
       "  Given a scalar valued function \u001b[36mf\u001b[39m, \u001b[36mgrad(f,argnum=1)\u001b[39m returns another\n",
       "  function \u001b[36mg\u001b[39m which takes the same inputs as \u001b[36mf\u001b[39m and returns the gradient\n",
       "  of the output with respect to the argnum'th argument. \u001b[36mgradloss\u001b[39m is\n",
       "  similar except the resulting function also returns f's output."
      ]
     },
     "execution_count": 38,
     "metadata": {},
     "output_type": "execute_result"
    }
   ],
   "source": [
    "@doc @diff"
   ]
  },
  {
   "cell_type": "code",
   "execution_count": 11,
   "metadata": {},
   "outputs": [
    {
     "data": {
      "text/plain": [
       "0.170625"
      ]
     },
     "execution_count": 11,
     "metadata": {},
     "output_type": "execute_result"
    }
   ],
   "source": [
    "accuracy(Source1_model,data=dtrn1)"
   ]
  },
  {
   "cell_type": "code",
   "execution_count": 47,
   "metadata": {},
   "outputs": [
    {
     "name": "stdout",
     "output_type": "stream",
     "text": [
      "data = dtst = 2-element Data{Tuple{Array{Float32, N} where N, Array{Int32, N} where N}}\n"
     ]
    },
    {
     "data": {
      "text/plain": [
       "2-element Data{Tuple{Array{Float32, N} where N, Array{Int32, N} where N}}"
      ]
     },
     "execution_count": 47,
     "metadata": {},
     "output_type": "execute_result"
    }
   ],
   "source": [
    "@show (data=dtst)"
   ]
  },
  {
   "cell_type": "code",
   "execution_count": null,
   "metadata": {},
   "outputs": [],
   "source": [
    "accuracy(baseline_model,data=dtst)"
   ]
  },
  {
   "cell_type": "code",
   "execution_count": 38,
   "metadata": {},
   "outputs": [
    {
     "name": "stdout",
     "output_type": "stream",
     "text": [
      "Train from scratch? stdin> y\n"
     ]
    },
    {
     "name": "stderr",
     "output_type": "stream",
     "text": [
      "┣▏                   ┫ [1.00%, 8/800, 01:29/02:29:00, 10.30s/i] ┌ Warning: accuracy(model,data; o...) is deprecated, please use accuracy(model; data=data, o...)\n",
      "└ @ Knet.Ops20 /Users/ufukaltun/.julia/packages/Knet/59nH1/src/ops20/loss.jl:205\n",
      "┣█▌                  ┫ [8.00%, 64/800, 19:18/04:01:15, 10.69s/i] "
     ]
    },
    {
     "ename": "LoadError",
     "evalue": "InterruptException:",
     "output_type": "error",
     "traceback": [
      "InterruptException:",
      "",
      "Stacktrace:",
      "  [1] Array",
      "    @ ./boot.jl:460 [inlined]",
      "  [2] similar",
      "    @ ./array.jl:358 [inlined]",
      "  [3] similar",
      "    @ ./abstractarray.jl:742 [inlined]",
      "  [4] conv(x::Array{Float32, 4}, w::Array{Float32, 4}, cdims::NNlib.DenseConvDims{2, (3, 3), 384, 256, 1, (1, 1), (1, 1, 1, 1), (1, 1), false}; kwargs::Base.Iterators.Pairs{Union{}, Union{}, Tuple{}, NamedTuple{(), Tuple{}}})",
      "    @ NNlib ~/.julia/packages/NNlib/P9BhZ/src/conv.jl:89",
      "  [5] conv(x::Array{Float32, 4}, w::Array{Float32, 4}, cdims::NNlib.DenseConvDims{2, (3, 3), 384, 256, 1, (1, 1), (1, 1, 1, 1), (1, 1), false})",
      "    @ NNlib ~/.julia/packages/NNlib/P9BhZ/src/conv.jl:89",
      "  [6] conv4(w::Array{Float32, 4}, x::Array{Float32, 4}; padding::Int64, stride::Int64, dilation::Int64, mode::Int64, alpha::Int64, group::Int64)",
      "    @ Knet.Ops20 ~/.julia/packages/Knet/59nH1/src/ops20/conv.jl:40",
      "  [7] forw(::Function, ::Param{Array{Float32, 4}}, ::Vararg{Any, N} where N; kwargs::Base.Iterators.Pairs{Symbol, Int64, Tuple{Symbol, Symbol}, NamedTuple{(:padding, :stride), Tuple{Int64, Int64}}})",
      "    @ AutoGrad ~/.julia/packages/AutoGrad/TTpeo/src/core.jl:66",
      "  [8] #conv4#28",
      "    @ ./none:0 [inlined]",
      "  [9] (::Conv)(x::Array{Float32, 4})",
      "    @ Main ~/Documents/koç/dersler/ku deep learning/project/models.jl:3",
      " [10] (::Chain)(x::Array{Float32, 4})",
      "    @ Main ~/Documents/koç/dersler/ku deep learning/project/models.jl:22",
      " [11] (::Chain)(x::Array{Float32, 4}, y::Vector{Int32})",
      "    @ Main ~/Documents/koç/dersler/ku deep learning/project/models.jl:23",
      " [12] (::var\"#4#5\"{Chain})(::Tuple{Array{Float32, 4}, Vector{Int32}})",
      "    @ Main ./none:0",
      " [13] iterate",
      "    @ ./generator.jl:47 [inlined]",
      " [14] mean(f::typeof(identity), itr::Base.Generator{Data{Tuple{Array{Float32, N} where N, Array{Int32, N} where N}}, var\"#4#5\"{Chain}})",
      "    @ Statistics /Users/julia/buildbot/worker/package_macos64/build/usr/share/julia/stdlib/v1.6/Statistics/src/Statistics.jl:71",
      " [15] mean",
      "    @ /Users/julia/buildbot/worker/package_macos64/build/usr/share/julia/stdlib/v1.6/Statistics/src/Statistics.jl:44 [inlined]",
      " [16] (::Chain)(d::Data{Tuple{Array{Float32, N} where N, Array{Int32, N} where N}})",
      "    @ Main ~/Documents/koç/dersler/ku deep learning/project/models.jl:24",
      " [17] (::var\"#7#8\"{Chain})(x::Float32)",
      "    @ Main ./none:0",
      " [18] iterate",
      "    @ ./generator.jl:47 [inlined]",
      " [19] iterate(f::Base.Iterators.Flatten{Base.Generator{IterTools.TakeNth{Knet.Train20.Progress{Knet.Train20.Minimize{IterTools.NCycle{Data{Tuple{Array{Float32, N} where N, Array{Int32, N} where N}}}}}}, var\"#7#8\"{Chain}}}, state::Tuple{Tuple{Int64, Int64}, Tuple{Float32, Float32, Float64, Float64}, Int64})",
      "    @ Base.Iterators ./iterators.jl:1093",
      " [20] _collect(#unused#::Type{Float32}, itr::Base.Iterators.Flatten{Base.Generator{IterTools.TakeNth{Knet.Train20.Progress{Knet.Train20.Minimize{IterTools.NCycle{Data{Tuple{Array{Float32, N} where N, Array{Int32, N} where N}}}}}}, var\"#7#8\"{Chain}}}, isz::Base.SizeUnknown)",
      "    @ Base ./array.jl:568",
      " [21] collect(#unused#::Type{Float32}, itr::Base.Iterators.Flatten{Base.Generator{IterTools.TakeNth{Knet.Train20.Progress{Knet.Train20.Minimize{IterTools.NCycle{Data{Tuple{Array{Float32, N} where N, Array{Int32, N} where N}}}}}}, var\"#7#8\"{Chain}}})",
      "    @ Base ./array.jl:561",
      " [22] trainresults(file::String, model::Chain; o::Base.Iterators.Pairs{Union{}, Union{}, Tuple{}, NamedTuple{(), Tuple{}}})",
      "    @ Main ~/Documents/koç/dersler/ku deep learning/project/utils.jl:6",
      " [23] trainresults(file::String, model::Chain)",
      "    @ Main ~/Documents/koç/dersler/ku deep learning/project/utils.jl:3",
      " [24] top-level scope",
      "    @ In[38]:1",
      " [25] eval",
      "    @ ./boot.jl:360 [inlined]",
      " [26] include_string(mapexpr::typeof(REPL.softscope), mod::Module, code::String, filename::String)",
      "    @ Base ./loading.jl:1116"
     ]
    }
   ],
   "source": [
    "baseline = trainresults(\"baseline.jld2\",baseline_model);"
   ]
  },
  {
   "cell_type": "code",
   "execution_count": 75,
   "metadata": {},
   "outputs": [
    {
     "data": {
      "text/plain": [
       "0.14375"
      ]
     },
     "execution_count": 75,
     "metadata": {},
     "output_type": "execute_result"
    }
   ],
   "source": [
    "accuracy(baseline_model,data=dtrn)"
   ]
  },
  {
   "cell_type": "code",
   "execution_count": 39,
   "metadata": {},
   "outputs": [
    {
     "data": {
      "text/latex": [
       "\\begin{verbatim}\n",
       "minimize(func, data, optimizer=Adam(); params)\n",
       "sgd     (func, data; lr=0.1,  gclip, params)\n",
       "momentum(func, data; lr=0.05, gamma=0.95, gclip, params)\n",
       "nesterov(func, data; lr=0.05, gamma=0.95, gclip, params)\n",
       "adagrad (func, data; lr=0.05, eps=1e-6, gclip, params)\n",
       "rmsprop (func, data; lr=0.01, rho=0.9, eps=1e-6, gclip, params)\n",
       "adadelta(func, data; lr=1.0,  rho=0.9, eps=1e-6, gclip, params)\n",
       "adam    (func, data; lr=0.001, beta1=0.9, beta2=0.999, eps=1e-8, gclip, params)\n",
       "\\end{verbatim}\n",
       "Return an iterator which applies \\texttt{func} to arguments in \\texttt{data}, i.e.  \\texttt{(func(args...) for args in data)}, and updates the parameters every iteration to minimize \\texttt{func}.  \\texttt{func} should return a scalar value.\n",
       "\n",
       "The common keyword argument \\texttt{params} can be used to list the \\texttt{Param}s to be optimized.  If not specified, any \\texttt{Param} that takes part in the computation of \\texttt{func(args...)} will be updated.\n",
       "\n",
       "The common keyword argument \\texttt{gclip} can be used to implement per-parameter gradient clipping. For a parameter gradient \\texttt{g}, if \\texttt{norm(g) > gclip > 0}, \\texttt{g} is scaled so that its norm is equal to \\texttt{gclip}. If not specified no gradient clipping is performed.\n",
       "\n",
       "These functions do not perform optimization, but return an iterator that can. Any function that produces values from an iterator can be used with such an object, e.g. \\texttt{progress!(sgd(f,d))} iterates the sgd optimizer and displays a progress bar. For convenience, appending \\texttt{!} to the name of the function iterates and returns \\texttt{nothing}, i.e. \\texttt{sgd!(...)} is equivalent to \\texttt{(for x in sgd(...) end)}.\n",
       "\n",
       "We define optimizers as lazy iterators to have explicit control over them:\n",
       "\n",
       "\\begin{itemize}\n",
       "\\item To report progress use \\texttt{progress(sgd(f,d))}.\n",
       "\n",
       "\n",
       "\\item To run until convergence use \\texttt{converge(sgd(f,cycle(d)))}.\n",
       "\n",
       "\n",
       "\\item To run multiple epochs use \\texttt{sgd(f,repeat(d,n))}.\n",
       "\n",
       "\n",
       "\\item To run a given number of iterations use \\texttt{sgd(f,take(cycle(d),n))}.\n",
       "\n",
       "\n",
       "\\item To do a task every n iterations use \\texttt{(task() for (i,j) in enumerate(sgd(f,d)) if i\\%n == 1)}.\n",
       "\n",
       "\\end{itemize}\n",
       "These functions apply the same algorithm with the same configuration to every parameter by default. \\texttt{minimize} takes an explicit optimizer argument, all others call \\texttt{minimize} with an appropriate optimizer argument (see \\texttt{@doc update!} for a list of possible optimizers). Before calling \\href{@ref}{\\texttt{update!}} on a \\texttt{Param}, \\texttt{minimize} sets its \\texttt{opt} field to a copy of this default optimizer if it is not already set. The \\texttt{opt} field is used by the \\texttt{update!} function to determine the type of update performed on that parameter.  If you need finer grained control, you can set the optimizer of an individual \\texttt{Param} by setting its \\texttt{opt} field before calling one of these functions. They will not override the \\texttt{opt} field if it is already set, e.g. \\texttt{sgd(model,data)} will perform an \\texttt{Adam} update for a parameter whose \\texttt{opt} field is an \\texttt{Adam} object. This also means you can stop and start the training without losing optimization state, the first call will set the \\texttt{opt} fields and the subsequent calls will not override them.\n",
       "\n",
       "Given a parameter \\texttt{w} and its gradient \\texttt{g} here are the updates applied by each optimizer:\n",
       "\n",
       "\\begin{verbatim}\n",
       "# sgd (http://en.wikipedia.org/wiki/Stochastic_gradient_descent)\n",
       "w .= w - lr * g\n",
       "\n",
       "# momentum (http://jlmelville.github.io/mize/nesterov.html)\n",
       "v .= gamma * v - lr * g\n",
       "w .= w + v\n",
       "\n",
       "# nesterov (http://jlmelville.github.io/mize/nesterov.html)\n",
       "w .= w - gamma * v\n",
       "v .= gamma * v - lr * g\n",
       "w .= w + (1 + gamma) * v\n",
       "\n",
       "# adagrad (http://www.jmlr.org/papers/v12/duchi11a.html)\n",
       "G .= G + g .^ 2\n",
       "w .= w - lr * g ./ sqrt(G + eps)\n",
       "\n",
       "# rmsprop (http://www.cs.toronto.edu/~tijmen/csc321/slides/lecture_slides_lec6.pdf)\n",
       "G .= rho * G + (1-rho) * g .^ 2 \n",
       "w .= w - lr * g ./ sqrt(G + eps)\n",
       "\n",
       "# adadelta (http://arxiv.org/abs/1212.5701)\n",
       "G .= rho * G + (1-rho) * g .^ 2\n",
       "update = sqrt(delta + eps) .* g ./ sqrt(G + eps)\n",
       "w = w - lr * update\n",
       "delta = rho * delta + (1-rho) * update .^ 2\n",
       "\n",
       "# adam (http://arxiv.org/abs/1412.6980)\n",
       "v = beta1 * v + (1 - beta1) * g\n",
       "G = beta2 * G + (1 - beta2) * g .^ 2\n",
       "vhat = v ./ (1 - beta1 ^ t)\n",
       "Ghat = G ./ (1 - beta2 ^ t)\n",
       "w = w - (lr / (sqrt(Ghat) + eps)) * vhat\n",
       "\\end{verbatim}\n"
      ],
      "text/markdown": [
       "```\n",
       "minimize(func, data, optimizer=Adam(); params)\n",
       "sgd     (func, data; lr=0.1,  gclip, params)\n",
       "momentum(func, data; lr=0.05, gamma=0.95, gclip, params)\n",
       "nesterov(func, data; lr=0.05, gamma=0.95, gclip, params)\n",
       "adagrad (func, data; lr=0.05, eps=1e-6, gclip, params)\n",
       "rmsprop (func, data; lr=0.01, rho=0.9, eps=1e-6, gclip, params)\n",
       "adadelta(func, data; lr=1.0,  rho=0.9, eps=1e-6, gclip, params)\n",
       "adam    (func, data; lr=0.001, beta1=0.9, beta2=0.999, eps=1e-8, gclip, params)\n",
       "```\n",
       "\n",
       "Return an iterator which applies `func` to arguments in `data`, i.e.  `(func(args...) for args in data)`, and updates the parameters every iteration to minimize `func`.  `func` should return a scalar value.\n",
       "\n",
       "The common keyword argument `params` can be used to list the `Param`s to be optimized.  If not specified, any `Param` that takes part in the computation of `func(args...)` will be updated.\n",
       "\n",
       "The common keyword argument `gclip` can be used to implement per-parameter gradient clipping. For a parameter gradient `g`, if `norm(g) > gclip > 0`, `g` is scaled so that its norm is equal to `gclip`. If not specified no gradient clipping is performed.\n",
       "\n",
       "These functions do not perform optimization, but return an iterator that can. Any function that produces values from an iterator can be used with such an object, e.g. `progress!(sgd(f,d))` iterates the sgd optimizer and displays a progress bar. For convenience, appending `!` to the name of the function iterates and returns `nothing`, i.e. `sgd!(...)` is equivalent to `(for x in sgd(...) end)`.\n",
       "\n",
       "We define optimizers as lazy iterators to have explicit control over them:\n",
       "\n",
       "  * To report progress use `progress(sgd(f,d))`.\n",
       "  * To run until convergence use `converge(sgd(f,cycle(d)))`.\n",
       "  * To run multiple epochs use `sgd(f,repeat(d,n))`.\n",
       "  * To run a given number of iterations use `sgd(f,take(cycle(d),n))`.\n",
       "  * To do a task every n iterations use `(task() for (i,j) in enumerate(sgd(f,d)) if i%n == 1)`.\n",
       "\n",
       "These functions apply the same algorithm with the same configuration to every parameter by default. `minimize` takes an explicit optimizer argument, all others call `minimize` with an appropriate optimizer argument (see `@doc update!` for a list of possible optimizers). Before calling [`update!`](@ref) on a `Param`, `minimize` sets its `opt` field to a copy of this default optimizer if it is not already set. The `opt` field is used by the `update!` function to determine the type of update performed on that parameter.  If you need finer grained control, you can set the optimizer of an individual `Param` by setting its `opt` field before calling one of these functions. They will not override the `opt` field if it is already set, e.g. `sgd(model,data)` will perform an `Adam` update for a parameter whose `opt` field is an `Adam` object. This also means you can stop and start the training without losing optimization state, the first call will set the `opt` fields and the subsequent calls will not override them.\n",
       "\n",
       "Given a parameter `w` and its gradient `g` here are the updates applied by each optimizer:\n",
       "\n",
       "```\n",
       "# sgd (http://en.wikipedia.org/wiki/Stochastic_gradient_descent)\n",
       "w .= w - lr * g\n",
       "\n",
       "# momentum (http://jlmelville.github.io/mize/nesterov.html)\n",
       "v .= gamma * v - lr * g\n",
       "w .= w + v\n",
       "\n",
       "# nesterov (http://jlmelville.github.io/mize/nesterov.html)\n",
       "w .= w - gamma * v\n",
       "v .= gamma * v - lr * g\n",
       "w .= w + (1 + gamma) * v\n",
       "\n",
       "# adagrad (http://www.jmlr.org/papers/v12/duchi11a.html)\n",
       "G .= G + g .^ 2\n",
       "w .= w - lr * g ./ sqrt(G + eps)\n",
       "\n",
       "# rmsprop (http://www.cs.toronto.edu/~tijmen/csc321/slides/lecture_slides_lec6.pdf)\n",
       "G .= rho * G + (1-rho) * g .^ 2 \n",
       "w .= w - lr * g ./ sqrt(G + eps)\n",
       "\n",
       "# adadelta (http://arxiv.org/abs/1212.5701)\n",
       "G .= rho * G + (1-rho) * g .^ 2\n",
       "update = sqrt(delta + eps) .* g ./ sqrt(G + eps)\n",
       "w = w - lr * update\n",
       "delta = rho * delta + (1-rho) * update .^ 2\n",
       "\n",
       "# adam (http://arxiv.org/abs/1412.6980)\n",
       "v = beta1 * v + (1 - beta1) * g\n",
       "G = beta2 * G + (1 - beta2) * g .^ 2\n",
       "vhat = v ./ (1 - beta1 ^ t)\n",
       "Ghat = G ./ (1 - beta2 ^ t)\n",
       "w = w - (lr / (sqrt(Ghat) + eps)) * vhat\n",
       "```\n"
      ],
      "text/plain": [
       "\u001b[36m  minimize(func, data, optimizer=Adam(); params)\u001b[39m\n",
       "\u001b[36m  sgd     (func, data; lr=0.1,  gclip, params)\u001b[39m\n",
       "\u001b[36m  momentum(func, data; lr=0.05, gamma=0.95, gclip, params)\u001b[39m\n",
       "\u001b[36m  nesterov(func, data; lr=0.05, gamma=0.95, gclip, params)\u001b[39m\n",
       "\u001b[36m  adagrad (func, data; lr=0.05, eps=1e-6, gclip, params)\u001b[39m\n",
       "\u001b[36m  rmsprop (func, data; lr=0.01, rho=0.9, eps=1e-6, gclip, params)\u001b[39m\n",
       "\u001b[36m  adadelta(func, data; lr=1.0,  rho=0.9, eps=1e-6, gclip, params)\u001b[39m\n",
       "\u001b[36m  adam    (func, data; lr=0.001, beta1=0.9, beta2=0.999, eps=1e-8, gclip, params)\u001b[39m\n",
       "\n",
       "  Return an iterator which applies \u001b[36mfunc\u001b[39m to arguments in \u001b[36mdata\u001b[39m, i.e.\n",
       "  \u001b[36m(func(args...) for args in data)\u001b[39m, and updates the parameters every\n",
       "  iteration to minimize \u001b[36mfunc\u001b[39m. \u001b[36mfunc\u001b[39m should return a scalar value.\n",
       "\n",
       "  The common keyword argument \u001b[36mparams\u001b[39m can be used to list the \u001b[36mParam\u001b[39ms to\n",
       "  be optimized. If not specified, any \u001b[36mParam\u001b[39m that takes part in the\n",
       "  computation of \u001b[36mfunc(args...)\u001b[39m will be updated.\n",
       "\n",
       "  The common keyword argument \u001b[36mgclip\u001b[39m can be used to implement\n",
       "  per-parameter gradient clipping. For a parameter gradient \u001b[36mg\u001b[39m, if\n",
       "  \u001b[36mnorm(g) > gclip > 0\u001b[39m, \u001b[36mg\u001b[39m is scaled so that its norm is equal to \u001b[36mgclip\u001b[39m.\n",
       "  If not specified no gradient clipping is performed.\n",
       "\n",
       "  These functions do not perform optimization, but return an iterator\n",
       "  that can. Any function that produces values from an iterator can be\n",
       "  used with such an object, e.g. \u001b[36mprogress!(sgd(f,d))\u001b[39m iterates the sgd\n",
       "  optimizer and displays a progress bar. For convenience, appending \u001b[36m!\u001b[39m\n",
       "  to the name of the function iterates and returns \u001b[36mnothing\u001b[39m, i.e.\n",
       "  \u001b[36msgd!(...)\u001b[39m is equivalent to \u001b[36m(for x in sgd(...) end)\u001b[39m.\n",
       "\n",
       "  We define optimizers as lazy iterators to have explicit control over\n",
       "  them:\n",
       "\n",
       "    •  To report progress use \u001b[36mprogress(sgd(f,d))\u001b[39m.\n",
       "\n",
       "    •  To run until convergence use \u001b[36mconverge(sgd(f,cycle(d)))\u001b[39m.\n",
       "\n",
       "    •  To run multiple epochs use \u001b[36msgd(f,repeat(d,n))\u001b[39m.\n",
       "\n",
       "    •  To run a given number of iterations use\n",
       "       \u001b[36msgd(f,take(cycle(d),n))\u001b[39m.\n",
       "\n",
       "    •  To do a task every n iterations use \u001b[36m(task() for (i,j) in\n",
       "       enumerate(sgd(f,d)) if i%n == 1)\u001b[39m.\n",
       "\n",
       "  These functions apply the same algorithm with the same configuration\n",
       "  to every parameter by default. \u001b[36mminimize\u001b[39m takes an explicit optimizer\n",
       "  argument, all others call \u001b[36mminimize\u001b[39m with an appropriate optimizer\n",
       "  argument (see \u001b[36m@doc update!\u001b[39m for a list of possible optimizers).\n",
       "  Before calling \u001b[36mupdate!\u001b[39m on a \u001b[36mParam\u001b[39m, \u001b[36mminimize\u001b[39m sets its \u001b[36mopt\u001b[39m field to a\n",
       "  copy of this default optimizer if it is not already set. The \u001b[36mopt\u001b[39m\n",
       "  field is used by the \u001b[36mupdate!\u001b[39m function to determine the type of\n",
       "  update performed on that parameter. If you need finer grained\n",
       "  control, you can set the optimizer of an individual \u001b[36mParam\u001b[39m by setting\n",
       "  its \u001b[36mopt\u001b[39m field before calling one of these functions. They will not\n",
       "  override the \u001b[36mopt\u001b[39m field if it is already set, e.g. \u001b[36msgd(model,data)\u001b[39m\n",
       "  will perform an \u001b[36mAdam\u001b[39m update for a parameter whose \u001b[36mopt\u001b[39m field is an\n",
       "  \u001b[36mAdam\u001b[39m object. This also means you can stop and start the training\n",
       "  without losing optimization state, the first call will set the \u001b[36mopt\u001b[39m\n",
       "  fields and the subsequent calls will not override them.\n",
       "\n",
       "  Given a parameter \u001b[36mw\u001b[39m and its gradient \u001b[36mg\u001b[39m here are the updates applied\n",
       "  by each optimizer:\n",
       "\n",
       "\u001b[36m  # sgd (http://en.wikipedia.org/wiki/Stochastic_gradient_descent)\u001b[39m\n",
       "\u001b[36m  w .= w - lr * g\u001b[39m\n",
       "\u001b[36m  \u001b[39m\n",
       "\u001b[36m  # momentum (http://jlmelville.github.io/mize/nesterov.html)\u001b[39m\n",
       "\u001b[36m  v .= gamma * v - lr * g\u001b[39m\n",
       "\u001b[36m  w .= w + v\u001b[39m\n",
       "\u001b[36m  \u001b[39m\n",
       "\u001b[36m  # nesterov (http://jlmelville.github.io/mize/nesterov.html)\u001b[39m\n",
       "\u001b[36m  w .= w - gamma * v\u001b[39m\n",
       "\u001b[36m  v .= gamma * v - lr * g\u001b[39m\n",
       "\u001b[36m  w .= w + (1 + gamma) * v\u001b[39m\n",
       "\u001b[36m  \u001b[39m\n",
       "\u001b[36m  # adagrad (http://www.jmlr.org/papers/v12/duchi11a.html)\u001b[39m\n",
       "\u001b[36m  G .= G + g .^ 2\u001b[39m\n",
       "\u001b[36m  w .= w - lr * g ./ sqrt(G + eps)\u001b[39m\n",
       "\u001b[36m  \u001b[39m\n",
       "\u001b[36m  # rmsprop (http://www.cs.toronto.edu/~tijmen/csc321/slides/lecture_slides_lec6.pdf)\u001b[39m\n",
       "\u001b[36m  G .= rho * G + (1-rho) * g .^ 2 \u001b[39m\n",
       "\u001b[36m  w .= w - lr * g ./ sqrt(G + eps)\u001b[39m\n",
       "\u001b[36m  \u001b[39m\n",
       "\u001b[36m  # adadelta (http://arxiv.org/abs/1212.5701)\u001b[39m\n",
       "\u001b[36m  G .= rho * G + (1-rho) * g .^ 2\u001b[39m\n",
       "\u001b[36m  update = sqrt(delta + eps) .* g ./ sqrt(G + eps)\u001b[39m\n",
       "\u001b[36m  w = w - lr * update\u001b[39m\n",
       "\u001b[36m  delta = rho * delta + (1-rho) * update .^ 2\u001b[39m\n",
       "\u001b[36m  \u001b[39m\n",
       "\u001b[36m  # adam (http://arxiv.org/abs/1412.6980)\u001b[39m\n",
       "\u001b[36m  v = beta1 * v + (1 - beta1) * g\u001b[39m\n",
       "\u001b[36m  G = beta2 * G + (1 - beta2) * g .^ 2\u001b[39m\n",
       "\u001b[36m  vhat = v ./ (1 - beta1 ^ t)\u001b[39m\n",
       "\u001b[36m  Ghat = G ./ (1 - beta2 ^ t)\u001b[39m\n",
       "\u001b[36m  w = w - (lr / (sqrt(Ghat) + eps)) * vhat\u001b[39m"
      ]
     },
     "execution_count": 39,
     "metadata": {},
     "output_type": "execute_result"
    }
   ],
   "source": [
    "@doc sgd"
   ]
  },
  {
   "cell_type": "code",
   "execution_count": 40,
   "metadata": {},
   "outputs": [
    {
     "data": {
      "text/latex": [
       "\\begin{verbatim}\n",
       "update!(weights::Param, gradients)\n",
       "update!(weights, gradients; lr=0.1, gclip=0)\n",
       "update!(weights, gradients, optimizers)\n",
       "\\end{verbatim}\n",
       "Update the \\texttt{weights} using their \\texttt{gradients} and the optimization algorithms specified using (1) the \\texttt{opt} field of a \\texttt{Param}, (2) keyword arguments, (3) the third argument.\n",
       "\n",
       "\\texttt{weights} can be an individual \\texttt{Param}, numeric array, or a collection of arrays/Params represented by an iterator or dictionary. \\texttt{gradients} should be a matching individual array or collection. In the first form, the optimizer should be specified in \\texttt{weights.opt}. In the second form the optimizer defaults to \\href{@ref}{\\texttt{SGD}} with learning rate \\texttt{lr} and gradient clip \\texttt{gclip}. In the third form \\texttt{optimizers} should be a matching individual optimizer or collection of optimizers.  The \\texttt{weights} and possibly \\texttt{gradients} and \\texttt{optimizers} are modified in-place.\n",
       "\n",
       "Individual optimization parameters can be one of the following types. The keyword arguments for each constructor and their default values are listed as well.\n",
       "\n",
       "\\begin{itemize}\n",
       "\\item \\href{@ref}{\\texttt{SGD}}\\texttt{(;lr=0.1, gclip=0)}\n",
       "\n",
       "\n",
       "\\item \\href{@ref}{\\texttt{Momentum}}\\texttt{(;lr=0.05, gamma=0.95, gclip=0)}\n",
       "\n",
       "\n",
       "\\item \\href{@ref}{\\texttt{Nesterov}}\\texttt{(;lr=0.05, gamma=0.95, gclip=0)}\n",
       "\n",
       "\n",
       "\\item \\href{@ref}{\\texttt{Adagrad}}\\texttt{(;lr=0.05, eps=1e-6, gclip=0)}\n",
       "\n",
       "\n",
       "\\item \\href{@ref}{\\texttt{Rmsprop}}\\texttt{(;lr=0.01, rho=0.9, eps=1e-6, gclip=0)}\n",
       "\n",
       "\n",
       "\\item \\href{@ref}{\\texttt{Adadelta}}\\texttt{(;lr=1.0, rho=0.9, eps=1e-6, gclip=0)}\n",
       "\n",
       "\n",
       "\\item \\href{@ref}{\\texttt{Adam}}\\texttt{(;lr=0.001, beta1=0.9, beta2=0.999, eps=1e-8, gclip=0)}\n",
       "\n",
       "\\end{itemize}\n",
       "\\section{Example:}\n",
       "\\begin{verbatim}\n",
       "w = Param(rand(d), Adam())  # a Param with a specified optimizer\n",
       "g = lossgradient0(w)        # gradient g has the same shape as w\n",
       "update!(w, g)               # update w in-place with Adam()\n",
       "\n",
       "w = rand(d)                 # an individual weight array\n",
       "g = lossgradient1(w)        # gradient g has the same shape as w\n",
       "update!(w, g)               # update w in-place with SGD()\n",
       "update!(w, g; lr=0.1)       # update w in-place with SGD(lr=0.1)\n",
       "update!(w, g, SGD(lr=0.1))  # update w in-place with SGD(lr=0.1)\n",
       "\n",
       "w = (rand(d1), rand(d2))    # a tuple of weight arrays\n",
       "g = lossgradient2(w)        # g will also be a tuple\n",
       "p = (Adam(), SGD())         # p has optimizers for each w[i]\n",
       "update!(w, g, p)            # update each w[i] in-place with g[i],p[i]\n",
       "\n",
       "w = Any[rand(d1), rand(d2)] # any iterator can be used\n",
       "g = lossgradient3(w)        # g will be similar to w\n",
       "p = Any[Adam(), SGD()]      # p should be an iterator of same length\n",
       "update!(w, g, p)            # update each w[i] in-place with g[i],p[i]\n",
       "\n",
       "w = Dict(:a => rand(d1), :b => rand(d2)) # dictionaries can be used\n",
       "g = lossgradient4(w)\n",
       "p = Dict(:a => Adam(), :b => SGD())\n",
       "update!(w, g, p)\n",
       "\\end{verbatim}\n"
      ],
      "text/markdown": [
       "```\n",
       "update!(weights::Param, gradients)\n",
       "update!(weights, gradients; lr=0.1, gclip=0)\n",
       "update!(weights, gradients, optimizers)\n",
       "```\n",
       "\n",
       "Update the `weights` using their `gradients` and the optimization algorithms specified using (1) the `opt` field of a `Param`, (2) keyword arguments, (3) the third argument.\n",
       "\n",
       "`weights` can be an individual `Param`, numeric array, or a collection of arrays/Params represented by an iterator or dictionary. `gradients` should be a matching individual array or collection. In the first form, the optimizer should be specified in `weights.opt`. In the second form the optimizer defaults to [`SGD`](@ref) with learning rate `lr` and gradient clip `gclip`. In the third form `optimizers` should be a matching individual optimizer or collection of optimizers.  The `weights` and possibly `gradients` and `optimizers` are modified in-place.\n",
       "\n",
       "Individual optimization parameters can be one of the following types. The keyword arguments for each constructor and their default values are listed as well.\n",
       "\n",
       "  * [`SGD`](@ref)`(;lr=0.1, gclip=0)`\n",
       "  * [`Momentum`](@ref)`(;lr=0.05, gamma=0.95, gclip=0)`\n",
       "  * [`Nesterov`](@ref)`(;lr=0.05, gamma=0.95, gclip=0)`\n",
       "  * [`Adagrad`](@ref)`(;lr=0.05, eps=1e-6, gclip=0)`\n",
       "  * [`Rmsprop`](@ref)`(;lr=0.01, rho=0.9, eps=1e-6, gclip=0)`\n",
       "  * [`Adadelta`](@ref)`(;lr=1.0, rho=0.9, eps=1e-6, gclip=0)`\n",
       "  * [`Adam`](@ref)`(;lr=0.001, beta1=0.9, beta2=0.999, eps=1e-8, gclip=0)`\n",
       "\n",
       "# Example:\n",
       "\n",
       "```\n",
       "w = Param(rand(d), Adam())  # a Param with a specified optimizer\n",
       "g = lossgradient0(w)        # gradient g has the same shape as w\n",
       "update!(w, g)               # update w in-place with Adam()\n",
       "\n",
       "w = rand(d)                 # an individual weight array\n",
       "g = lossgradient1(w)        # gradient g has the same shape as w\n",
       "update!(w, g)               # update w in-place with SGD()\n",
       "update!(w, g; lr=0.1)       # update w in-place with SGD(lr=0.1)\n",
       "update!(w, g, SGD(lr=0.1))  # update w in-place with SGD(lr=0.1)\n",
       "\n",
       "w = (rand(d1), rand(d2))    # a tuple of weight arrays\n",
       "g = lossgradient2(w)        # g will also be a tuple\n",
       "p = (Adam(), SGD())         # p has optimizers for each w[i]\n",
       "update!(w, g, p)            # update each w[i] in-place with g[i],p[i]\n",
       "\n",
       "w = Any[rand(d1), rand(d2)] # any iterator can be used\n",
       "g = lossgradient3(w)        # g will be similar to w\n",
       "p = Any[Adam(), SGD()]      # p should be an iterator of same length\n",
       "update!(w, g, p)            # update each w[i] in-place with g[i],p[i]\n",
       "\n",
       "w = Dict(:a => rand(d1), :b => rand(d2)) # dictionaries can be used\n",
       "g = lossgradient4(w)\n",
       "p = Dict(:a => Adam(), :b => SGD())\n",
       "update!(w, g, p)\n",
       "```\n"
      ],
      "text/plain": [
       "\u001b[36m  update!(weights::Param, gradients)\u001b[39m\n",
       "\u001b[36m  update!(weights, gradients; lr=0.1, gclip=0)\u001b[39m\n",
       "\u001b[36m  update!(weights, gradients, optimizers)\u001b[39m\n",
       "\n",
       "  Update the \u001b[36mweights\u001b[39m using their \u001b[36mgradients\u001b[39m and the optimization\n",
       "  algorithms specified using (1) the \u001b[36mopt\u001b[39m field of a \u001b[36mParam\u001b[39m, (2) keyword\n",
       "  arguments, (3) the third argument.\n",
       "\n",
       "  \u001b[36mweights\u001b[39m can be an individual \u001b[36mParam\u001b[39m, numeric array, or a collection\n",
       "  of arrays/Params represented by an iterator or dictionary. \u001b[36mgradients\u001b[39m\n",
       "  should be a matching individual array or collection. In the first\n",
       "  form, the optimizer should be specified in \u001b[36mweights.opt\u001b[39m. In the\n",
       "  second form the optimizer defaults to \u001b[36mSGD\u001b[39m with learning rate \u001b[36mlr\u001b[39m and\n",
       "  gradient clip \u001b[36mgclip\u001b[39m. In the third form \u001b[36moptimizers\u001b[39m should be a\n",
       "  matching individual optimizer or collection of optimizers. The\n",
       "  \u001b[36mweights\u001b[39m and possibly \u001b[36mgradients\u001b[39m and \u001b[36moptimizers\u001b[39m are modified in-place.\n",
       "\n",
       "  Individual optimization parameters can be one of the following\n",
       "  types. The keyword arguments for each constructor and their default\n",
       "  values are listed as well.\n",
       "\n",
       "    •  \u001b[36mSGD\u001b[39m\u001b[36m(;lr=0.1, gclip=0)\u001b[39m\n",
       "\n",
       "    •  \u001b[36mMomentum\u001b[39m\u001b[36m(;lr=0.05, gamma=0.95, gclip=0)\u001b[39m\n",
       "\n",
       "    •  \u001b[36mNesterov\u001b[39m\u001b[36m(;lr=0.05, gamma=0.95, gclip=0)\u001b[39m\n",
       "\n",
       "    •  \u001b[36mAdagrad\u001b[39m\u001b[36m(;lr=0.05, eps=1e-6, gclip=0)\u001b[39m\n",
       "\n",
       "    •  \u001b[36mRmsprop\u001b[39m\u001b[36m(;lr=0.01, rho=0.9, eps=1e-6, gclip=0)\u001b[39m\n",
       "\n",
       "    •  \u001b[36mAdadelta\u001b[39m\u001b[36m(;lr=1.0, rho=0.9, eps=1e-6, gclip=0)\u001b[39m\n",
       "\n",
       "    •  \u001b[36mAdam\u001b[39m\u001b[36m(;lr=0.001, beta1=0.9, beta2=0.999, eps=1e-8, gclip=0)\u001b[39m\n",
       "\n",
       "\u001b[1m  Example:\u001b[22m\n",
       "\u001b[1m  ≡≡≡≡≡≡≡≡≡≡\u001b[22m\n",
       "\n",
       "\u001b[36m  w = Param(rand(d), Adam())  # a Param with a specified optimizer\u001b[39m\n",
       "\u001b[36m  g = lossgradient0(w)        # gradient g has the same shape as w\u001b[39m\n",
       "\u001b[36m  update!(w, g)               # update w in-place with Adam()\u001b[39m\n",
       "\u001b[36m  \u001b[39m\n",
       "\u001b[36m  w = rand(d)                 # an individual weight array\u001b[39m\n",
       "\u001b[36m  g = lossgradient1(w)        # gradient g has the same shape as w\u001b[39m\n",
       "\u001b[36m  update!(w, g)               # update w in-place with SGD()\u001b[39m\n",
       "\u001b[36m  update!(w, g; lr=0.1)       # update w in-place with SGD(lr=0.1)\u001b[39m\n",
       "\u001b[36m  update!(w, g, SGD(lr=0.1))  # update w in-place with SGD(lr=0.1)\u001b[39m\n",
       "\u001b[36m  \u001b[39m\n",
       "\u001b[36m  w = (rand(d1), rand(d2))    # a tuple of weight arrays\u001b[39m\n",
       "\u001b[36m  g = lossgradient2(w)        # g will also be a tuple\u001b[39m\n",
       "\u001b[36m  p = (Adam(), SGD())         # p has optimizers for each w[i]\u001b[39m\n",
       "\u001b[36m  update!(w, g, p)            # update each w[i] in-place with g[i],p[i]\u001b[39m\n",
       "\u001b[36m  \u001b[39m\n",
       "\u001b[36m  w = Any[rand(d1), rand(d2)] # any iterator can be used\u001b[39m\n",
       "\u001b[36m  g = lossgradient3(w)        # g will be similar to w\u001b[39m\n",
       "\u001b[36m  p = Any[Adam(), SGD()]      # p should be an iterator of same length\u001b[39m\n",
       "\u001b[36m  update!(w, g, p)            # update each w[i] in-place with g[i],p[i]\u001b[39m\n",
       "\u001b[36m  \u001b[39m\n",
       "\u001b[36m  w = Dict(:a => rand(d1), :b => rand(d2)) # dictionaries can be used\u001b[39m\n",
       "\u001b[36m  g = lossgradient4(w)\u001b[39m\n",
       "\u001b[36m  p = Dict(:a => Adam(), :b => SGD())\u001b[39m\n",
       "\u001b[36m  update!(w, g, p)\u001b[39m"
      ]
     },
     "execution_count": 40,
     "metadata": {},
     "output_type": "execute_result"
    }
   ],
   "source": [
    "@doc update!"
   ]
  },
  {
   "cell_type": "code",
   "execution_count": 71,
   "metadata": {},
   "outputs": [
    {
     "data": {
      "image/png": "[encoded data removed]"
     },
     "execution_count": 71,
     "metadata": {},
     "output_type": "execute_result"
    }
   ],
   "source": [
    "using Plots; default(fmt=:png,ls=:auto)\n",
    "\n",
    "# Comparison to MLP shows faster convergence, better generalization\n",
    "plot([baseline[1,:], baseline[2,:]],ylim=(0.0,2),\n",
    "     labels=[\"trnBaseline\" \"tstBaseline\"],xlabel=\"Epochs\",ylabel=\"Loss\")"
   ]
  },
  {
   "cell_type": "code",
   "execution_count": null,
   "metadata": {},
   "outputs": [],
   "source": []
  }
 ],
 "metadata": {
  "accelerator": "GPU",
  "colab": {
   "collapsed_sections": [],
   "name": "Julia_Colab_Notebook_Template.ipynb",
   "provenance": []
  },
  "kernelspec": {
   "display_name": "Julia 1.6.3",
   "language": "julia",
   "name": "julia-1.6"
  },
  "language_info": {
   "file_extension": ".jl",
   "mimetype": "application/julia",
   "name": "julia",
   "version": "1.6.3"
  }
 },
 "nbformat": 4,
 "nbformat_minor": 1
}
